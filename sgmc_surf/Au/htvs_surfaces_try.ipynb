{
 "cells": [
  {
   "cell_type": "code",
   "execution_count": 14,
   "metadata": {},
   "outputs": [],
   "source": [
    "import sys\n",
    "sys.path.append(\"/home/dux/\")\n",
    "\n",
    "from htvs.djangochem.pgmols.utils import surfaces\n",
    "\n",
    "from mcmc import initialize_slab, mcmc_run\n",
    "\n",
    "from ase.calculators.eam import EAM\n",
    "from ase.calculators.lammpsrun import LAMMPS\n",
    "from ase.build import bulk, make_supercell\n",
    "from ase.io import write\n",
    "from ase.spacegroup import crystal\n",
    "\n",
    "import catkit\n",
    "\n",
    "import os\n",
    "import numpy as np"
   ]
  },
  {
   "cell_type": "code",
   "execution_count": 9,
   "metadata": {},
   "outputs": [
    {
     "name": "stderr",
     "output_type": "stream",
     "text": [
      "/home/dux/miniconda3/envs/mlenv/lib/python3.9/site-packages/catkit/gen/surface.py:334: UserWarning: Your slab has no bulk atoms and may be too thin to identify surface atoms correctly. This may cause surface adsorption site identification to fail.\n",
      "  warnings.warn(\n"
     ]
    }
   ],
   "source": [
    "Au_alat = 4.0782\n",
    "element = 'Au'\n",
    "a1 = bulk(element, 'fcc', a=Au_alat)\n",
    "\n",
    "slab, surface_atoms = surfaces.surface_from_bulk(a1, (1,1,0))\n",
    "write(\"hope_this_works.cif\", slab)"
   ]
  },
  {
   "cell_type": "code",
   "execution_count": 10,
   "metadata": {},
   "outputs": [],
   "source": [
    "unitcell = crystal('Au', [(0, 0, 0)], spacegroup=225, cellpar=[Au_alat, Au_alat, Au_alat, 90, 90, 90])\n",
    "multiplier = np.identity(3) * 2\n",
    "ase_supercell = make_supercell(unitcell, multiplier)\n",
    "write(\"Au_supercell.cif\", ase_supercell)"
   ]
  },
  {
   "cell_type": "code",
   "execution_count": 18,
   "metadata": {},
   "outputs": [
    {
     "name": "stderr",
     "output_type": "stream",
     "text": [
      "/home/dux/miniconda3/envs/mlenv/lib/python3.9/site-packages/catkit/gen/surface.py:334: UserWarning: Your slab has no bulk atoms and may be too thin to identify surface atoms correctly. This may cause surface adsorption site identification to fail.\n",
      "  warnings.warn(\n"
     ]
    }
   ],
   "source": [
    "slab, surface_atoms = surfaces.surface_from_bulk(ase_supercell, (1,1,0), size=(4,4))\n",
    "# generator = catkit.gen.surface.SlabGenerator(\n",
    "#         bulk=ase_supercell,\n",
    "#         miller_index=(1,1,0),\n",
    "#         vacuum=15,\n",
    "#         # layer_type=kwargs.get('layer_type', 'trim'),\n",
    "#         layer_type='trim',\n",
    "#         attach_graph=True,\n",
    "#         standardize_bulk=True,\n",
    "#         tol=1e-8\n",
    "#     )\n",
    "\n",
    "# slab = generator.get_slab(size=(1,1,0), iterm=0)\n",
    "write(\"hope_this_works.cif\", slab)"
   ]
  },
  {
   "cell_type": "code",
   "execution_count": null,
   "metadata": {},
   "outputs": [],
   "source": []
  }
 ],
 "metadata": {
  "interpreter": {
   "hash": "52c80ae8dd6c1a0bcd088a907455e2d267fd03a787ceaaaaeeff2a73233138b6"
  },
  "kernelspec": {
   "display_name": "Python 3.9.10 ('mlenv')",
   "language": "python",
   "name": "python3"
  },
  "language_info": {
   "codemirror_mode": {
    "name": "ipython",
    "version": 3
   },
   "file_extension": ".py",
   "mimetype": "text/x-python",
   "name": "python",
   "nbconvert_exporter": "python",
   "pygments_lexer": "ipython3",
   "version": "3.9.10"
  },
  "orig_nbformat": 4
 },
 "nbformat": 4,
 "nbformat_minor": 2
}
