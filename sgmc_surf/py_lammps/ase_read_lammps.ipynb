{
 "cells": [
  {
   "cell_type": "code",
   "execution_count": 1,
   "metadata": {},
   "outputs": [],
   "source": [
    "from ase import io\n",
    "\n",
    "lammps_file_path = \"/home/dux/surface_sampling/sgmc_surf/py_lammps/data.out\"\n",
    "lammps = io.read(lammps_file_path, format='lammps-data', style='atomic')"
   ]
  },
  {
   "cell_type": "code",
   "execution_count": 2,
   "metadata": {},
   "outputs": [
    {
     "name": "stdout",
     "output_type": "stream",
     "text": [
      "actual atomic numbers [31, 7, 31, 7, 31, 7, 31, 7, 31, 7, 31, 7, 31, 7, 31, 7, 31, 7, 31, 7, 31, 7, 31, 7, 31, 7, 31, 7, 31, 7, 31, 7, 31, 7, 31, 7, 31, 31, 31, 31, 31, 31, 31, 31, 31, 31, 31, 31]\n"
     ]
    }
   ],
   "source": [
    "atomic_numbers_dict = {1: 31, 2: 7} # 1: Ga, 2: N\n",
    "actual_atomic_numbers = [atomic_numbers_dict[x] for x in lammps.get_atomic_numbers()]\n",
    "print(f\"actual atomic numbers {actual_atomic_numbers}\")\n",
    "correct_lammps = lammps.copy()\n",
    "correct_lammps.set_atomic_numbers(actual_atomic_numbers)"
   ]
  },
  {
   "cell_type": "code",
   "execution_count": 3,
   "metadata": {},
   "outputs": [],
   "source": [
    "correct_lammps.write(\"ase_from_lammps.cif\")"
   ]
  },
  {
   "cell_type": "code",
   "execution_count": 4,
   "metadata": {},
   "outputs": [
    {
     "data": {
      "text/plain": [
       "array([31,  7, 31,  7, 31,  7, 31,  7, 31,  7, 31,  7, 31,  7, 31,  7, 31,\n",
       "        7, 31,  7, 31,  7, 31,  7, 31,  7, 31,  7, 31,  7, 31,  7, 31,  7,\n",
       "       31,  7, 31, 31, 31, 31, 31, 31, 31, 31, 31, 31, 31, 31])"
      ]
     },
     "execution_count": 4,
     "metadata": {},
     "output_type": "execute_result"
    }
   ],
   "source": [
    "correct_lammps.get_atomic_numbers()"
   ]
  },
  {
   "cell_type": "code",
   "execution_count": null,
   "metadata": {},
   "outputs": [],
   "source": []
  }
 ],
 "metadata": {
  "interpreter": {
   "hash": "52c80ae8dd6c1a0bcd088a907455e2d267fd03a787ceaaaaeeff2a73233138b6"
  },
  "kernelspec": {
   "display_name": "Python 3.8.13 ('mlenv': conda)",
   "language": "python",
   "name": "python3"
  },
  "language_info": {
   "codemirror_mode": {
    "name": "ipython",
    "version": 3
   },
   "file_extension": ".py",
   "mimetype": "text/x-python",
   "name": "python",
   "nbconvert_exporter": "python",
   "pygments_lexer": "ipython3",
   "version": "3.8.13"
  },
  "orig_nbformat": 4
 },
 "nbformat": 4,
 "nbformat_minor": 2
}
