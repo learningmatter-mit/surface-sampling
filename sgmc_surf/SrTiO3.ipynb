{
 "cells": [
  {
   "cell_type": "code",
   "execution_count": 1,
   "metadata": {},
   "outputs": [],
   "source": [
    "from ase.build import make_supercell\n",
    "from ase.io import read, write\n",
    "\n",
    "import catkit\n",
    "from catkit.gen.adsorption import get_adsorption_sites\n",
    "\n",
    "from mcmc import mcmc_run\n",
    "import os\n",
    "import numpy as np\n",
    "\n",
    "import sys\n",
    "sys.path.append(\"/home/dux/\")\n",
    "\n",
    "os.environ[\"PROJECT_DIR\"] = os.getcwd()"
   ]
  },
  {
   "cell_type": "code",
   "execution_count": 2,
   "metadata": {},
   "outputs": [],
   "source": [
    "# SrTiO3 from HTVS db\n",
    "import sys\n",
    "import os\n",
    "import django\n",
    "import numpy as np\n",
    "# from tqdm import tqdm\n",
    "# import pandas as pd\n",
    "# import pickle as pkl\n",
    "sys.path.append('/home/dux/htvs/')\n",
    "sys.path.append('/home/dux/htvs/djangochem/')\n",
    "\n",
    "#from imports import *\n",
    "#from django_imports import *\n",
    "# from pymatgen.core.periodic_table import Element\n",
    "# from chemconfigs.vasp.defaults import Magmom\n",
    "# from ase.visualize import view\n",
    "\n",
    "# setup the django settings file.  Change this to use the settings file that connects you to your desired database\n",
    "os.environ[\"DJANGO_SETTINGS_MODULE\"] = \"djangochem.settings.orgel\"\n",
    "os.environ[\"DJANGO_ALLOW_ASYNC_UNSAFE\"] = \"true\"  # CAUTION!!! LINE NECESSARY WHEN INTERACTING WITH DATABASE IN JUPYTER NOTEBOOK. DO NOT USE THIS LINE IF YOU ARE PLANNING ON SAVING/REMOVING THINGS FROM THE DATABASE!!!!!\n",
    "\n",
    "# this must be run to setup access to the django settings and make database access work etc.\n",
    "django.setup()\n",
    "# from jobs.models import Job, JobConfig\n",
    "# from django.contrib.contenttypes.models import ContentType\n",
    "# from ase.io import write\n",
    "\n",
    "from pgmols.models import Surface\n",
    "# from analysis.structure.perovskite import PerovskiteAnalyzer\n",
    "# from pymatgen.core.periodic_table import Element\n",
    "\n",
    "unit_slab = Surface.objects.get(id=217485271).as_ase_gratoms()\n",
    "unit_slab.write('SrTiO3_001_pristine_slab.cif')\n",
    "\n",
    "# get supercell\n",
    "# multiplier = np.diag([4, 4, 1])\n",
    "# slab = make_supercell(unit_slab, multiplier)\n",
    "slab = unit_slab*(4,4,1)\n",
    "slab.write('SrTiO3_001_4x4_pristine_slab.cif')"
   ]
  },
  {
   "cell_type": "code",
   "execution_count": 11,
   "metadata": {},
   "outputs": [
    {
     "name": "stderr",
     "output_type": "stream",
     "text": [
      "/home/dux/miniconda3/envs/htvs/lib/python3.7/site-packages/catkit/gen/adsorption.py:62: VisibleDeprecationWarning: Creating an ndarray from ragged nested sequences (which is a list-or-tuple of lists-or-tuples-or ndarrays with different lengths or shapes) is deprecated. If you meant to do this, you must specify 'dtype=object' when creating the ndarray.\n",
      "  self.r1_topology = np.array(self.r1_topology)\n",
      "/home/dux/miniconda3/envs/htvs/lib/python3.7/site-packages/catkit/gen/adsorption.py:63: VisibleDeprecationWarning: Creating an ndarray from ragged nested sequences (which is a list-or-tuple of lists-or-tuples-or ndarrays with different lengths or shapes) is deprecated. If you meant to do this, you must specify 'dtype=object' when creating the ndarray.\n",
      "  self.r2_topology = np.array(self.r2_topology)\n"
     ]
    }
   ],
   "source": [
    "# manually get adsorption coords\n",
    "coords, connectivity, sym_idx = get_adsorption_sites(slab, symmetry_reduced=False)\n",
    "\n",
    "# get absolute adsorption coords\n",
    "element = 'O'\n",
    "ads = catkit.gratoms.Gratoms(element)\n",
    "\n",
    "# ads_coords = get_adsorption_coords(slab, ads, connectivity)"
   ]
  },
  {
   "cell_type": "code",
   "execution_count": 12,
   "metadata": {},
   "outputs": [
    {
     "data": {
      "text/plain": [
       "Counter({8: 144, 38: 48, 22: 48})"
      ]
     },
     "execution_count": 12,
     "metadata": {},
     "output_type": "execute_result"
    }
   ],
   "source": [
    "# single multiplication for upsize\n",
    "mul_superslab = unit_slab*(4,4,1)\n",
    "from collections import Counter\n",
    "Counter(mul_superslab.get_atomic_numbers())"
   ]
  },
  {
   "cell_type": "code",
   "execution_count": 13,
   "metadata": {},
   "outputs": [
    {
     "data": {
      "text/plain": [
       "array([  7,   8,  14,  22,  23,  29,  37,  38,  44,  52,  53,  59,  67,\n",
       "        68,  74,  82,  83,  89,  97,  98, 104, 112, 113, 119, 127, 128,\n",
       "       134, 142, 143, 149, 157, 158, 164, 172, 173, 179, 187, 188, 194,\n",
       "       202, 203, 209, 217, 218, 224, 232, 233, 239])"
      ]
     },
     "execution_count": 13,
     "metadata": {},
     "output_type": "execute_result"
    }
   ],
   "source": [
    "mul_superslab.get_surface_atoms()"
   ]
  },
  {
   "cell_type": "code",
   "execution_count": 14,
   "metadata": {},
   "outputs": [],
   "source": [
    "a_nums = mul_superslab.get_atomic_numbers()"
   ]
  },
  {
   "cell_type": "code",
   "execution_count": 15,
   "metadata": {},
   "outputs": [
    {
     "data": {
      "text/plain": [
       "array([ 8,  8, 22,  8,  8, 22,  8,  8, 22,  8,  8, 22,  8,  8, 22,  8,  8,\n",
       "       22,  8,  8, 22,  8,  8, 22,  8,  8, 22,  8,  8, 22,  8,  8, 22,  8,\n",
       "        8, 22,  8,  8, 22,  8,  8, 22,  8,  8, 22,  8,  8, 22])"
      ]
     },
     "execution_count": 15,
     "metadata": {},
     "output_type": "execute_result"
    }
   ],
   "source": [
    "# get surface atoms\n",
    "surf_atoms = mul_superslab.get_surface_atoms()\n",
    "a_nums[surf_atoms]"
   ]
  },
  {
   "cell_type": "code",
   "execution_count": 16,
   "metadata": {},
   "outputs": [
    {
     "data": {
      "text/plain": [
       "256"
      ]
     },
     "execution_count": 16,
     "metadata": {},
     "output_type": "execute_result"
    }
   ],
   "source": [
    "len(connectivity)\n",
    "# original number of adsorption sites"
   ]
  },
  {
   "cell_type": "code",
   "execution_count": 17,
   "metadata": {},
   "outputs": [
    {
     "data": {
      "text/plain": [
       "Counter({8: 384, 38: 48, 22: 48})"
      ]
     },
     "execution_count": 17,
     "metadata": {},
     "output_type": "execute_result"
    }
   ],
   "source": [
    "# Get adsorption sites\n",
    "coords.shape\n",
    "ads_slab = read(\"SrTiO3_001_4x4_O_all_adsorbed_slab.cif\")\n",
    "Counter(ads_slab.get_atomic_numbers())\n",
    "# All 240 oxygens are adsorbed"
   ]
  },
  {
   "cell_type": "code",
   "execution_count": 18,
   "metadata": {},
   "outputs": [
    {
     "data": {
      "text/plain": [
       "(480, 3)"
      ]
     },
     "execution_count": 18,
     "metadata": {},
     "output_type": "execute_result"
    }
   ],
   "source": [
    "np.unique(ads_slab.get_positions(wrap=True), axis=1).shape\n",
    "\n",
    "# set positions to wrapped\n",
    "# all_ads_slab = read(\"SrTiO3_001_O_all_adsorbed_slab.cif\")\n",
    "# w_ads_slab = all_ads_slab.copy()\n",
    "# w_ads_slab.set_positions(all_ads_slab.get_positions(wrap=True))\n",
    "# w_ads_slab.write('SrTiO3_001_O_all_adsorbed_slab_wrapped.cif')"
   ]
  },
  {
   "cell_type": "markdown",
   "metadata": {},
   "source": [
    "Use smaller unit cell to figure out if sites are distinct"
   ]
  },
  {
   "cell_type": "code",
   "execution_count": 19,
   "metadata": {},
   "outputs": [
    {
     "data": {
      "text/plain": [
       "Counter({8: 9, 38: 3, 22: 3})"
      ]
     },
     "execution_count": 19,
     "metadata": {},
     "output_type": "execute_result"
    }
   ],
   "source": [
    "# Try a smaller unit cell to figure things out\n",
    "from collections import Counter\n",
    "Counter(unit_slab.get_atomic_numbers())"
   ]
  },
  {
   "cell_type": "code",
   "execution_count": 20,
   "metadata": {},
   "outputs": [
    {
     "data": {
      "text/plain": [
       "16"
      ]
     },
     "execution_count": 20,
     "metadata": {},
     "output_type": "execute_result"
    }
   ],
   "source": [
    "coords, connectivity, sym_idx = get_adsorption_sites(unit_slab, symmetry_reduced=False)\n",
    "len(coords)"
   ]
  },
  {
   "cell_type": "markdown",
   "metadata": {},
   "source": [
    "Use manually edited fully removed site (ase gui) to get updates"
   ]
  },
  {
   "cell_type": "code",
   "execution_count": 21,
   "metadata": {},
   "outputs": [
    {
     "name": "stdout",
     "output_type": "stream",
     "text": [
      "368\n",
      "240\n"
     ]
    }
   ],
   "source": [
    "filtered_ads_slab = read(\"SrTiO3_001_4x4_O_filtered_adsorbed_slab.cif\")\n",
    "print(f\"{len(filtered_ads_slab)}\")\n",
    "print(f\"{len(mul_superslab)}\")"
   ]
  },
  {
   "cell_type": "code",
   "execution_count": 22,
   "metadata": {},
   "outputs": [
    {
     "data": {
      "text/plain": [
       "128"
      ]
     },
     "execution_count": 22,
     "metadata": {},
     "output_type": "execute_result"
    }
   ],
   "source": [
    "ads_positions = filtered_ads_slab.get_positions()[len(mul_superslab):]\n",
    "len(ads_positions)\n",
    "# see that the # ads positions dropped"
   ]
  },
  {
   "cell_type": "code",
   "execution_count": 23,
   "metadata": {},
   "outputs": [
    {
     "name": "stdout",
     "output_type": "stream",
     "text": [
      "slab type <class 'catkit.gratoms.Gratoms'>\n"
     ]
    }
   ],
   "source": [
    "# slab = unit_slab*(4,4,1)\n",
    "slab = mul_superslab\n",
    "surface_name = \"SrTiO3_001_4x4_filtered\"\n",
    "\n",
    "print(\"slab type\", type(slab))\n",
    "# num_runs = 500\n",
    "# no calc, testing to just get some states\n",
    "# history, energy_hist, frac_accept_hist, adsorption_count_hist = mcmc_run(num_runs=num_runs, temp=1, pot=0, alpha=1, slab=slab, calc=None, testing=True, surface_name=surface_name, element=element, ads_coords=ads_positions)"
   ]
  },
  {
   "cell_type": "markdown",
   "metadata": {},
   "source": [
    "Perform canonical updates instead"
   ]
  },
  {
   "cell_type": "markdown",
   "metadata": {},
   "source": [
    "4x4 superslab"
   ]
  },
  {
   "cell_type": "code",
   "execution_count": 33,
   "metadata": {},
   "outputs": [
    {
     "name": "stdout",
     "output_type": "stream",
     "text": [
      "going for 146 atoms\n",
      "368\n",
      "240\n"
     ]
    },
    {
     "name": "stderr",
     "output_type": "stream",
     "text": [
      "/home/dux/miniconda3/envs/htvs/lib/python3.7/site-packages/catkit/gen/adsorption.py:62: VisibleDeprecationWarning: Creating an ndarray from ragged nested sequences (which is a list-or-tuple of lists-or-tuples-or ndarrays with different lengths or shapes) is deprecated. If you meant to do this, you must specify 'dtype=object' when creating the ndarray.\n",
      "  self.r1_topology = np.array(self.r1_topology)\n",
      "/home/dux/miniconda3/envs/htvs/lib/python3.7/site-packages/catkit/gen/adsorption.py:63: VisibleDeprecationWarning: Creating an ndarray from ragged nested sequences (which is a list-or-tuple of lists-or-tuples-or ndarrays with different lengths or shapes) is deprecated. If you meant to do this, you must specify 'dtype=object' when creating the ndarray.\n",
      "  self.r2_topology = np.array(self.r2_topology)\n"
     ]
    },
    {
     "name": "stdout",
     "output_type": "stream",
     "text": [
      "going for 148 atoms\n",
      "368\n",
      "240\n",
      "going for 150 atoms\n",
      "368\n",
      "240\n",
      "going for 152 atoms\n",
      "368\n",
      "240\n",
      "going for 154 atoms\n",
      "368\n",
      "240\n",
      "going for 156 atoms\n",
      "368\n",
      "240\n",
      "going for 158 atoms\n",
      "368\n",
      "240\n",
      "going for 160 atoms\n",
      "368\n",
      "240\n",
      "going for 162 atoms\n",
      "368\n",
      "240\n",
      "going for 164 atoms\n",
      "368\n",
      "240\n",
      "going for 166 atoms\n",
      "368\n",
      "240\n",
      "going for 168 atoms\n",
      "368\n",
      "240\n",
      "going for 170 atoms\n",
      "368\n",
      "240\n",
      "going for 172 atoms\n",
      "368\n",
      "240\n",
      "going for 174 atoms\n",
      "368\n",
      "240\n",
      "going for 176 atoms\n",
      "368\n",
      "240\n",
      "going for 178 atoms\n",
      "368\n",
      "240\n",
      "going for 180 atoms\n",
      "368\n",
      "240\n",
      "going for 182 atoms\n",
      "368\n",
      "240\n",
      "going for 184 atoms\n",
      "368\n",
      "240\n",
      "going for 186 atoms\n",
      "368\n",
      "240\n",
      "going for 188 atoms\n",
      "368\n",
      "240\n",
      "going for 190 atoms\n",
      "368\n",
      "240\n"
     ]
    }
   ],
   "source": [
    "# do from 144 to 192 oxygen atoms\n",
    "# so add a pristine slab\n",
    "start_atoms = 144\n",
    "end_atoms = 192\n",
    "step = 2\n",
    "scaling = (4,4,1)\n",
    "num_runs = 100\n",
    "\n",
    "for i in range(start_atoms+step, end_atoms, step):\n",
    "    print(f\"going for {i} atoms\")\n",
    "    num_ads_atoms =  i - start_atoms # for canonical runs\n",
    "    alpha = 1\n",
    "    slab = unit_slab*scaling\n",
    "    surface_name = f\"SrTiO3_001_4x4_filtered\"\n",
    "\n",
    "    filtered_ads_slab = read(\"SrTiO3_001_4x4_O_filtered_adsorbed_slab.cif\")\n",
    "    print(f\"{len(filtered_ads_slab)}\")\n",
    "    print(f\"{len(slab)}\")\n",
    "    \n",
    "    ads_positions = filtered_ads_slab.get_positions()[len(slab):]\n",
    "\n",
    "    history, energy_hist, frac_accept_hist, adsorption_count_hist = mcmc_run(num_runs=num_runs, temp=1, pot=0, alpha=alpha, slab=slab, calc=None, testing=True, surface_name=surface_name, element=element, canonical=True, ads_coords=ads_positions, num_ads_atoms=num_ads_atoms)"
   ]
  },
  {
   "cell_type": "markdown",
   "metadata": {},
   "source": [
    "3x3 superslab"
   ]
  },
  {
   "cell_type": "code",
   "execution_count": 35,
   "metadata": {},
   "outputs": [],
   "source": [
    "# get the 3x3 adsorption sites\n",
    "superslab_3x3 = unit_slab*(3,3,1)\n",
    "num_runs = 1\n",
    "surface_name = f\"SrTiO3_001_3x3_manipulation\"\n",
    "# mcmc_run(num_runs=num_runs, temp=1, pot=0, alpha=alpha, slab=superslab_3x3, calc=None, testing=True, surface_name=surface_name, element=element)"
   ]
  },
  {
   "cell_type": "code",
   "execution_count": 36,
   "metadata": {},
   "outputs": [],
   "source": [
    "superslab_3x3.write('SrTiO3_001_3x3_pristine_slab.cif')"
   ]
  },
  {
   "cell_type": "code",
   "execution_count": 14,
   "metadata": {},
   "outputs": [
    {
     "name": "stdout",
     "output_type": "stream",
     "text": [
      "going for 82 atoms\n",
      "207\n",
      "135\n",
      "going for 83 atoms\n",
      "207\n",
      "135\n",
      "going for 84 atoms\n",
      "207\n",
      "135\n",
      "going for 85 atoms\n",
      "207\n",
      "135\n",
      "going for 86 atoms\n",
      "207\n",
      "135\n",
      "going for 87 atoms\n",
      "207\n",
      "135\n",
      "going for 88 atoms\n",
      "207\n",
      "135\n",
      "going for 89 atoms\n",
      "207\n",
      "135\n",
      "going for 90 atoms\n",
      "207\n",
      "135\n",
      "going for 91 atoms\n",
      "207\n",
      "135\n",
      "going for 92 atoms\n",
      "207\n",
      "135\n",
      "going for 93 atoms\n",
      "207\n",
      "135\n",
      "going for 94 atoms\n",
      "207\n",
      "135\n",
      "going for 95 atoms\n",
      "207\n",
      "135\n",
      "going for 96 atoms\n",
      "207\n",
      "135\n",
      "going for 97 atoms\n",
      "207\n",
      "135\n",
      "going for 98 atoms\n",
      "207\n",
      "135\n",
      "going for 99 atoms\n",
      "207\n",
      "135\n",
      "going for 100 atoms\n",
      "207\n",
      "135\n",
      "going for 101 atoms\n",
      "207\n",
      "135\n",
      "going for 102 atoms\n",
      "207\n",
      "135\n",
      "going for 103 atoms\n",
      "207\n",
      "135\n",
      "going for 104 atoms\n",
      "207\n",
      "135\n",
      "going for 105 atoms\n",
      "207\n",
      "135\n",
      "going for 106 atoms\n",
      "207\n",
      "135\n",
      "going for 107 atoms\n",
      "207\n",
      "135\n"
     ]
    }
   ],
   "source": [
    "# do from 81 to 108 oxygen atoms\n",
    "# so add a pristine slab\n",
    "start_atoms = 81\n",
    "end_atoms = 108\n",
    "step = 1\n",
    "scaling = (3,3,1)\n",
    "num_runs = 100\n",
    "\n",
    "for i in range(start_atoms+step, end_atoms, step):\n",
    "    print(f\"going for {i} atoms\")\n",
    "    num_ads_atoms =  i - start_atoms # for canonical runs\n",
    "    alpha = 1\n",
    "    slab = unit_slab*scaling\n",
    "    surface_name = f\"SrTiO3_001_3x3_filtered\"\n",
    "\n",
    "    filtered_ads_slab = read(\"SrTiO3_001_3x3_O_filtered_adsorbed_slab.cif\")\n",
    "    print(f\"{len(filtered_ads_slab)}\")\n",
    "    print(f\"{len(slab)}\")\n",
    "    \n",
    "    ads_positions = filtered_ads_slab.get_positions()[len(slab):]\n",
    "\n",
    "    history, energy_hist, frac_accept_hist, adsorption_count_hist = mcmc_run(num_runs=num_runs, temp=1, pot=0, alpha=alpha, slab=slab, calc=None, testing=True, surface_name=surface_name, element=element, canonical=True, ads_coords=ads_positions, num_ads_atoms=num_ads_atoms)"
   ]
  },
  {
   "cell_type": "markdown",
   "metadata": {},
   "source": [
    "2x2 superslab"
   ]
  },
  {
   "cell_type": "code",
   "execution_count": 37,
   "metadata": {},
   "outputs": [],
   "source": [
    "# get the 2x2 adsorption sites\n",
    "superslab_2x2 = unit_slab*(2,2,1)\n",
    "num_runs = 1\n",
    "surface_name = f\"SrTiO3_001_2x2_manipulation\"\n",
    "# mcmc_run(num_runs=num_runs, temp=1, pot=0, alpha=alpha, slab=superslab_2x2, calc=None, testing=True, surface_name=surface_name, element=element)"
   ]
  },
  {
   "cell_type": "code",
   "execution_count": 38,
   "metadata": {},
   "outputs": [],
   "source": [
    "superslab_2x2.write('SrTiO3_001_2x2_pristine_slab.cif')"
   ]
  },
  {
   "cell_type": "code",
   "execution_count": 12,
   "metadata": {},
   "outputs": [
    {
     "name": "stdout",
     "output_type": "stream",
     "text": [
      "going for 37 atoms\n",
      "92\n",
      "60\n",
      "going for 38 atoms\n",
      "92\n",
      "60\n",
      "going for 39 atoms\n",
      "92\n",
      "60\n",
      "going for 40 atoms\n",
      "92\n",
      "60\n",
      "going for 41 atoms\n",
      "92\n",
      "60\n",
      "going for 42 atoms\n",
      "92\n",
      "60\n",
      "going for 43 atoms\n",
      "92\n",
      "60\n",
      "going for 44 atoms\n",
      "92\n",
      "60\n",
      "going for 45 atoms\n",
      "92\n",
      "60\n",
      "going for 46 atoms\n",
      "92\n",
      "60\n",
      "going for 47 atoms\n",
      "92\n",
      "60\n"
     ]
    }
   ],
   "source": [
    "# do from 36 to 48 oxygen atoms\n",
    "# so add a pristine slab\n",
    "start_atoms = 36\n",
    "end_atoms = 48\n",
    "step = 1\n",
    "scaling = (2,2,1)\n",
    "num_runs = 100\n",
    "\n",
    "for i in range(start_atoms+step, end_atoms, step):\n",
    "    print(f\"going for {i} atoms\")\n",
    "    num_ads_atoms =  i - start_atoms # for canonical runs\n",
    "    alpha = 1\n",
    "    slab = unit_slab*scaling\n",
    "    surface_name = f\"SrTiO3_001_2x2_filtered\"\n",
    "\n",
    "    filtered_ads_slab = read(\"SrTiO3_001_2x2_O_filtered_adsorbed_slab.cif\")\n",
    "    print(f\"{len(filtered_ads_slab)}\")\n",
    "    print(f\"{len(slab)}\")\n",
    "    \n",
    "    ads_positions = filtered_ads_slab.get_positions()[len(slab):]\n",
    "\n",
    "    history, energy_hist, frac_accept_hist, adsorption_count_hist = mcmc_run(num_runs=num_runs, temp=1, pot=0, alpha=alpha, slab=slab, calc=None, testing=True, surface_name=surface_name, element=element, canonical=True, ads_coords=ads_positions, num_ads_atoms=num_ads_atoms)"
   ]
  },
  {
   "cell_type": "markdown",
   "metadata": {},
   "source": [
    "For 4x4 collate atoms (no need to filter)"
   ]
  },
  {
   "cell_type": "code",
   "execution_count": 42,
   "metadata": {},
   "outputs": [
    {
     "name": "stdout",
     "output_type": "stream",
     "text": [
      "['SrTiO3_001_4x4_filtered/runs100_temp1_adsatoms02_alpha1_20220405-1608', 'SrTiO3_001_4x4_filtered/runs100_temp1_adsatoms04_alpha1_20220405-1608', 'SrTiO3_001_4x4_filtered/runs100_temp1_adsatoms06_alpha1_20220405-1609', 'SrTiO3_001_4x4_filtered/runs100_temp1_adsatoms08_alpha1_20220405-1609', 'SrTiO3_001_4x4_filtered/runs100_temp1_adsatoms10_alpha1_20220405-1610', 'SrTiO3_001_4x4_filtered/runs100_temp1_adsatoms12_alpha1_20220405-1610', 'SrTiO3_001_4x4_filtered/runs100_temp1_adsatoms14_alpha1_20220405-1610', 'SrTiO3_001_4x4_filtered/runs100_temp1_adsatoms16_alpha1_20220405-1611', 'SrTiO3_001_4x4_filtered/runs100_temp1_adsatoms18_alpha1_20220405-1611', 'SrTiO3_001_4x4_filtered/runs100_temp1_adsatoms20_alpha1_20220405-1612', 'SrTiO3_001_4x4_filtered/runs100_temp1_adsatoms22_alpha1_20220405-1612', 'SrTiO3_001_4x4_filtered/runs100_temp1_adsatoms24_alpha1_20220405-1612', 'SrTiO3_001_4x4_filtered/runs100_temp1_adsatoms26_alpha1_20220405-1613', 'SrTiO3_001_4x4_filtered/runs100_temp1_adsatoms28_alpha1_20220405-1613', 'SrTiO3_001_4x4_filtered/runs100_temp1_adsatoms30_alpha1_20220405-1614', 'SrTiO3_001_4x4_filtered/runs100_temp1_adsatoms32_alpha1_20220405-1614', 'SrTiO3_001_4x4_filtered/runs100_temp1_adsatoms34_alpha1_20220405-1614', 'SrTiO3_001_4x4_filtered/runs100_temp1_adsatoms36_alpha1_20220405-1615', 'SrTiO3_001_4x4_filtered/runs100_temp1_adsatoms38_alpha1_20220405-1615', 'SrTiO3_001_4x4_filtered/runs100_temp1_adsatoms40_alpha1_20220405-1616', 'SrTiO3_001_4x4_filtered/runs100_temp1_adsatoms42_alpha1_20220405-1616', 'SrTiO3_001_4x4_filtered/runs100_temp1_adsatoms44_alpha1_20220405-1617', 'SrTiO3_001_4x4_filtered/runs100_temp1_adsatoms46_alpha1_20220405-1617']\n"
     ]
    }
   ],
   "source": [
    "import glob\n",
    "# collate items\n",
    "# for 4x4\n",
    "structure_folders = glob.glob(\"SrTiO3_001_4x4_filtered/runs100_temp1_adsatoms??_alpha1*\")\n",
    "structure_folders.sort()\n",
    "print(structure_folders)\n",
    "assert len(structure_folders) == 23"
   ]
  },
  {
   "cell_type": "code",
   "execution_count": 43,
   "metadata": {},
   "outputs": [
    {
     "name": "stdout",
     "output_type": "stream",
     "text": [
      "move from SrTiO3_001_4x4_filtered/runs100_temp1_adsatoms02_alpha1_20220405-1608/final_slab_run_050.cif to SrTiO3_001_4x4_filtered/collated/slab_001.cif\n",
      "move from SrTiO3_001_4x4_filtered/runs100_temp1_adsatoms04_alpha1_20220405-1608/final_slab_run_050.cif to SrTiO3_001_4x4_filtered/collated/slab_002.cif\n",
      "move from SrTiO3_001_4x4_filtered/runs100_temp1_adsatoms06_alpha1_20220405-1609/final_slab_run_050.cif to SrTiO3_001_4x4_filtered/collated/slab_003.cif\n",
      "move from SrTiO3_001_4x4_filtered/runs100_temp1_adsatoms08_alpha1_20220405-1609/final_slab_run_050.cif to SrTiO3_001_4x4_filtered/collated/slab_004.cif\n",
      "move from SrTiO3_001_4x4_filtered/runs100_temp1_adsatoms10_alpha1_20220405-1610/final_slab_run_050.cif to SrTiO3_001_4x4_filtered/collated/slab_005.cif\n",
      "move from SrTiO3_001_4x4_filtered/runs100_temp1_adsatoms12_alpha1_20220405-1610/final_slab_run_050.cif to SrTiO3_001_4x4_filtered/collated/slab_006.cif\n",
      "move from SrTiO3_001_4x4_filtered/runs100_temp1_adsatoms14_alpha1_20220405-1610/final_slab_run_050.cif to SrTiO3_001_4x4_filtered/collated/slab_007.cif\n",
      "move from SrTiO3_001_4x4_filtered/runs100_temp1_adsatoms16_alpha1_20220405-1611/final_slab_run_050.cif to SrTiO3_001_4x4_filtered/collated/slab_008.cif\n",
      "move from SrTiO3_001_4x4_filtered/runs100_temp1_adsatoms18_alpha1_20220405-1611/final_slab_run_050.cif to SrTiO3_001_4x4_filtered/collated/slab_009.cif\n",
      "move from SrTiO3_001_4x4_filtered/runs100_temp1_adsatoms20_alpha1_20220405-1612/final_slab_run_050.cif to SrTiO3_001_4x4_filtered/collated/slab_010.cif\n",
      "move from SrTiO3_001_4x4_filtered/runs100_temp1_adsatoms22_alpha1_20220405-1612/final_slab_run_050.cif to SrTiO3_001_4x4_filtered/collated/slab_011.cif\n",
      "move from SrTiO3_001_4x4_filtered/runs100_temp1_adsatoms24_alpha1_20220405-1612/final_slab_run_050.cif to SrTiO3_001_4x4_filtered/collated/slab_012.cif\n",
      "move from SrTiO3_001_4x4_filtered/runs100_temp1_adsatoms26_alpha1_20220405-1613/final_slab_run_050.cif to SrTiO3_001_4x4_filtered/collated/slab_013.cif\n",
      "move from SrTiO3_001_4x4_filtered/runs100_temp1_adsatoms28_alpha1_20220405-1613/final_slab_run_050.cif to SrTiO3_001_4x4_filtered/collated/slab_014.cif\n",
      "move from SrTiO3_001_4x4_filtered/runs100_temp1_adsatoms30_alpha1_20220405-1614/final_slab_run_050.cif to SrTiO3_001_4x4_filtered/collated/slab_015.cif\n",
      "move from SrTiO3_001_4x4_filtered/runs100_temp1_adsatoms32_alpha1_20220405-1614/final_slab_run_050.cif to SrTiO3_001_4x4_filtered/collated/slab_016.cif\n",
      "move from SrTiO3_001_4x4_filtered/runs100_temp1_adsatoms34_alpha1_20220405-1614/final_slab_run_050.cif to SrTiO3_001_4x4_filtered/collated/slab_017.cif\n",
      "move from SrTiO3_001_4x4_filtered/runs100_temp1_adsatoms36_alpha1_20220405-1615/final_slab_run_050.cif to SrTiO3_001_4x4_filtered/collated/slab_018.cif\n",
      "move from SrTiO3_001_4x4_filtered/runs100_temp1_adsatoms38_alpha1_20220405-1615/final_slab_run_050.cif to SrTiO3_001_4x4_filtered/collated/slab_019.cif\n",
      "move from SrTiO3_001_4x4_filtered/runs100_temp1_adsatoms40_alpha1_20220405-1616/final_slab_run_050.cif to SrTiO3_001_4x4_filtered/collated/slab_020.cif\n",
      "move from SrTiO3_001_4x4_filtered/runs100_temp1_adsatoms42_alpha1_20220405-1616/final_slab_run_050.cif to SrTiO3_001_4x4_filtered/collated/slab_021.cif\n",
      "move from SrTiO3_001_4x4_filtered/runs100_temp1_adsatoms44_alpha1_20220405-1617/final_slab_run_050.cif to SrTiO3_001_4x4_filtered/collated/slab_022.cif\n",
      "move from SrTiO3_001_4x4_filtered/runs100_temp1_adsatoms46_alpha1_20220405-1617/final_slab_run_050.cif to SrTiO3_001_4x4_filtered/collated/slab_023.cif\n"
     ]
    }
   ],
   "source": [
    "slabs = [\"final_slab_run_050.cif\"]\n",
    "ads_slabs = []\n",
    "for f in structure_folders:\n",
    "    for slab in slabs:\n",
    "        ads_slabs.append(os.path.join(f, slab))\n",
    "\n",
    "import shutil\n",
    "collate_path = \"SrTiO3_001_4x4_filtered/collated\"\n",
    "if not os.path.exists(collate_path):\n",
    "    os.makedirs(collate_path)\n",
    "for i, slab in enumerate(ads_slabs):\n",
    "    move_path = os.path.join(collate_path, f\"slab_{i+1:03}.cif\")\n",
    "    print(f\"move from {slab} to {move_path}\")\n",
    "    shutil.copy2(slab, move_path)"
   ]
  },
  {
   "cell_type": "markdown",
   "metadata": {},
   "source": [
    "For 3x3 collate atoms"
   ]
  },
  {
   "cell_type": "code",
   "execution_count": 26,
   "metadata": {},
   "outputs": [
    {
     "name": "stdout",
     "output_type": "stream",
     "text": [
      "['SrTiO3_001_3x3_filtered/runs100_temp1_adsatoms01_alpha1_20220405-1456', 'SrTiO3_001_3x3_filtered/runs100_temp1_adsatoms02_alpha1_20220405-1456', 'SrTiO3_001_3x3_filtered/runs100_temp1_adsatoms03_alpha1_20220405-1457', 'SrTiO3_001_3x3_filtered/runs100_temp1_adsatoms04_alpha1_20220405-1457', 'SrTiO3_001_3x3_filtered/runs100_temp1_adsatoms05_alpha1_20220405-1457', 'SrTiO3_001_3x3_filtered/runs100_temp1_adsatoms06_alpha1_20220405-1457', 'SrTiO3_001_3x3_filtered/runs100_temp1_adsatoms07_alpha1_20220405-1457', 'SrTiO3_001_3x3_filtered/runs100_temp1_adsatoms08_alpha1_20220405-1457', 'SrTiO3_001_3x3_filtered/runs100_temp1_adsatoms09_alpha1_20220405-1457', 'SrTiO3_001_3x3_filtered/runs100_temp1_adsatoms10_alpha1_20220405-1458', 'SrTiO3_001_3x3_filtered/runs100_temp1_adsatoms11_alpha1_20220405-1458', 'SrTiO3_001_3x3_filtered/runs100_temp1_adsatoms12_alpha1_20220405-1458', 'SrTiO3_001_3x3_filtered/runs100_temp1_adsatoms13_alpha1_20220405-1458', 'SrTiO3_001_3x3_filtered/runs100_temp1_adsatoms14_alpha1_20220405-1458', 'SrTiO3_001_3x3_filtered/runs100_temp1_adsatoms15_alpha1_20220405-1458', 'SrTiO3_001_3x3_filtered/runs100_temp1_adsatoms16_alpha1_20220405-1458', 'SrTiO3_001_3x3_filtered/runs100_temp1_adsatoms17_alpha1_20220405-1459', 'SrTiO3_001_3x3_filtered/runs100_temp1_adsatoms18_alpha1_20220405-1459', 'SrTiO3_001_3x3_filtered/runs100_temp1_adsatoms19_alpha1_20220405-1459', 'SrTiO3_001_3x3_filtered/runs100_temp1_adsatoms20_alpha1_20220405-1459', 'SrTiO3_001_3x3_filtered/runs100_temp1_adsatoms21_alpha1_20220405-1459', 'SrTiO3_001_3x3_filtered/runs100_temp1_adsatoms22_alpha1_20220405-1459', 'SrTiO3_001_3x3_filtered/runs100_temp1_adsatoms23_alpha1_20220405-1500', 'SrTiO3_001_3x3_filtered/runs100_temp1_adsatoms24_alpha1_20220405-1500', 'SrTiO3_001_3x3_filtered/runs100_temp1_adsatoms25_alpha1_20220405-1500', 'SrTiO3_001_3x3_filtered/runs100_temp1_adsatoms26_alpha1_20220405-1500']\n"
     ]
    }
   ],
   "source": [
    "import glob\n",
    "# collate items\n",
    "# for 3x3\n",
    "structure_folders = glob.glob(\"SrTiO3_001_3x3_filtered/runs100_temp1_adsatoms??_alpha1*\")\n",
    "structure_folders.sort()\n",
    "print(structure_folders)\n",
    "assert len(structure_folders) == 26\n"
   ]
  },
  {
   "cell_type": "code",
   "execution_count": 32,
   "metadata": {},
   "outputs": [
    {
     "name": "stdout",
     "output_type": "stream",
     "text": [
      "move from SrTiO3_001_3x3_filtered/runs100_temp1_adsatoms01_alpha1_20220405-1456/final_slab_run_050.cif to SrTiO3_001_3x3_filtered/collated/slab_001.cif\n",
      "move from SrTiO3_001_3x3_filtered/runs100_temp1_adsatoms01_alpha1_20220405-1456/final_slab_run_090.cif to SrTiO3_001_3x3_filtered/collated/slab_002.cif\n",
      "move from SrTiO3_001_3x3_filtered/runs100_temp1_adsatoms02_alpha1_20220405-1456/final_slab_run_050.cif to SrTiO3_001_3x3_filtered/collated/slab_003.cif\n",
      "move from SrTiO3_001_3x3_filtered/runs100_temp1_adsatoms02_alpha1_20220405-1456/final_slab_run_090.cif to SrTiO3_001_3x3_filtered/collated/slab_004.cif\n",
      "move from SrTiO3_001_3x3_filtered/runs100_temp1_adsatoms03_alpha1_20220405-1457/final_slab_run_050.cif to SrTiO3_001_3x3_filtered/collated/slab_005.cif\n",
      "move from SrTiO3_001_3x3_filtered/runs100_temp1_adsatoms03_alpha1_20220405-1457/final_slab_run_090.cif to SrTiO3_001_3x3_filtered/collated/slab_006.cif\n",
      "move from SrTiO3_001_3x3_filtered/runs100_temp1_adsatoms04_alpha1_20220405-1457/final_slab_run_050.cif to SrTiO3_001_3x3_filtered/collated/slab_007.cif\n",
      "move from SrTiO3_001_3x3_filtered/runs100_temp1_adsatoms04_alpha1_20220405-1457/final_slab_run_090.cif to SrTiO3_001_3x3_filtered/collated/slab_008.cif\n",
      "move from SrTiO3_001_3x3_filtered/runs100_temp1_adsatoms05_alpha1_20220405-1457/final_slab_run_050.cif to SrTiO3_001_3x3_filtered/collated/slab_009.cif\n",
      "move from SrTiO3_001_3x3_filtered/runs100_temp1_adsatoms05_alpha1_20220405-1457/final_slab_run_090.cif to SrTiO3_001_3x3_filtered/collated/slab_010.cif\n",
      "move from SrTiO3_001_3x3_filtered/runs100_temp1_adsatoms06_alpha1_20220405-1457/final_slab_run_050.cif to SrTiO3_001_3x3_filtered/collated/slab_011.cif\n",
      "move from SrTiO3_001_3x3_filtered/runs100_temp1_adsatoms06_alpha1_20220405-1457/final_slab_run_090.cif to SrTiO3_001_3x3_filtered/collated/slab_012.cif\n",
      "move from SrTiO3_001_3x3_filtered/runs100_temp1_adsatoms07_alpha1_20220405-1457/final_slab_run_050.cif to SrTiO3_001_3x3_filtered/collated/slab_013.cif\n",
      "move from SrTiO3_001_3x3_filtered/runs100_temp1_adsatoms07_alpha1_20220405-1457/final_slab_run_090.cif to SrTiO3_001_3x3_filtered/collated/slab_014.cif\n",
      "move from SrTiO3_001_3x3_filtered/runs100_temp1_adsatoms08_alpha1_20220405-1457/final_slab_run_050.cif to SrTiO3_001_3x3_filtered/collated/slab_015.cif\n",
      "move from SrTiO3_001_3x3_filtered/runs100_temp1_adsatoms08_alpha1_20220405-1457/final_slab_run_090.cif to SrTiO3_001_3x3_filtered/collated/slab_016.cif\n",
      "move from SrTiO3_001_3x3_filtered/runs100_temp1_adsatoms09_alpha1_20220405-1457/final_slab_run_050.cif to SrTiO3_001_3x3_filtered/collated/slab_017.cif\n",
      "move from SrTiO3_001_3x3_filtered/runs100_temp1_adsatoms09_alpha1_20220405-1457/final_slab_run_090.cif to SrTiO3_001_3x3_filtered/collated/slab_018.cif\n",
      "move from SrTiO3_001_3x3_filtered/runs100_temp1_adsatoms10_alpha1_20220405-1458/final_slab_run_050.cif to SrTiO3_001_3x3_filtered/collated/slab_019.cif\n",
      "move from SrTiO3_001_3x3_filtered/runs100_temp1_adsatoms10_alpha1_20220405-1458/final_slab_run_090.cif to SrTiO3_001_3x3_filtered/collated/slab_020.cif\n",
      "move from SrTiO3_001_3x3_filtered/runs100_temp1_adsatoms11_alpha1_20220405-1458/final_slab_run_050.cif to SrTiO3_001_3x3_filtered/collated/slab_021.cif\n",
      "move from SrTiO3_001_3x3_filtered/runs100_temp1_adsatoms11_alpha1_20220405-1458/final_slab_run_090.cif to SrTiO3_001_3x3_filtered/collated/slab_022.cif\n",
      "move from SrTiO3_001_3x3_filtered/runs100_temp1_adsatoms12_alpha1_20220405-1458/final_slab_run_050.cif to SrTiO3_001_3x3_filtered/collated/slab_023.cif\n",
      "move from SrTiO3_001_3x3_filtered/runs100_temp1_adsatoms12_alpha1_20220405-1458/final_slab_run_090.cif to SrTiO3_001_3x3_filtered/collated/slab_024.cif\n",
      "move from SrTiO3_001_3x3_filtered/runs100_temp1_adsatoms13_alpha1_20220405-1458/final_slab_run_050.cif to SrTiO3_001_3x3_filtered/collated/slab_025.cif\n",
      "move from SrTiO3_001_3x3_filtered/runs100_temp1_adsatoms13_alpha1_20220405-1458/final_slab_run_090.cif to SrTiO3_001_3x3_filtered/collated/slab_026.cif\n",
      "move from SrTiO3_001_3x3_filtered/runs100_temp1_adsatoms14_alpha1_20220405-1458/final_slab_run_050.cif to SrTiO3_001_3x3_filtered/collated/slab_027.cif\n",
      "move from SrTiO3_001_3x3_filtered/runs100_temp1_adsatoms14_alpha1_20220405-1458/final_slab_run_090.cif to SrTiO3_001_3x3_filtered/collated/slab_028.cif\n",
      "move from SrTiO3_001_3x3_filtered/runs100_temp1_adsatoms15_alpha1_20220405-1458/final_slab_run_050.cif to SrTiO3_001_3x3_filtered/collated/slab_029.cif\n",
      "move from SrTiO3_001_3x3_filtered/runs100_temp1_adsatoms15_alpha1_20220405-1458/final_slab_run_090.cif to SrTiO3_001_3x3_filtered/collated/slab_030.cif\n",
      "move from SrTiO3_001_3x3_filtered/runs100_temp1_adsatoms16_alpha1_20220405-1458/final_slab_run_050.cif to SrTiO3_001_3x3_filtered/collated/slab_031.cif\n",
      "move from SrTiO3_001_3x3_filtered/runs100_temp1_adsatoms16_alpha1_20220405-1458/final_slab_run_090.cif to SrTiO3_001_3x3_filtered/collated/slab_032.cif\n",
      "move from SrTiO3_001_3x3_filtered/runs100_temp1_adsatoms17_alpha1_20220405-1459/final_slab_run_050.cif to SrTiO3_001_3x3_filtered/collated/slab_033.cif\n",
      "move from SrTiO3_001_3x3_filtered/runs100_temp1_adsatoms17_alpha1_20220405-1459/final_slab_run_090.cif to SrTiO3_001_3x3_filtered/collated/slab_034.cif\n",
      "move from SrTiO3_001_3x3_filtered/runs100_temp1_adsatoms18_alpha1_20220405-1459/final_slab_run_050.cif to SrTiO3_001_3x3_filtered/collated/slab_035.cif\n",
      "move from SrTiO3_001_3x3_filtered/runs100_temp1_adsatoms18_alpha1_20220405-1459/final_slab_run_090.cif to SrTiO3_001_3x3_filtered/collated/slab_036.cif\n",
      "move from SrTiO3_001_3x3_filtered/runs100_temp1_adsatoms19_alpha1_20220405-1459/final_slab_run_050.cif to SrTiO3_001_3x3_filtered/collated/slab_037.cif\n",
      "move from SrTiO3_001_3x3_filtered/runs100_temp1_adsatoms19_alpha1_20220405-1459/final_slab_run_090.cif to SrTiO3_001_3x3_filtered/collated/slab_038.cif\n",
      "move from SrTiO3_001_3x3_filtered/runs100_temp1_adsatoms20_alpha1_20220405-1459/final_slab_run_050.cif to SrTiO3_001_3x3_filtered/collated/slab_039.cif\n",
      "move from SrTiO3_001_3x3_filtered/runs100_temp1_adsatoms20_alpha1_20220405-1459/final_slab_run_090.cif to SrTiO3_001_3x3_filtered/collated/slab_040.cif\n",
      "move from SrTiO3_001_3x3_filtered/runs100_temp1_adsatoms21_alpha1_20220405-1459/final_slab_run_050.cif to SrTiO3_001_3x3_filtered/collated/slab_041.cif\n",
      "move from SrTiO3_001_3x3_filtered/runs100_temp1_adsatoms21_alpha1_20220405-1459/final_slab_run_090.cif to SrTiO3_001_3x3_filtered/collated/slab_042.cif\n",
      "move from SrTiO3_001_3x3_filtered/runs100_temp1_adsatoms22_alpha1_20220405-1459/final_slab_run_050.cif to SrTiO3_001_3x3_filtered/collated/slab_043.cif\n",
      "move from SrTiO3_001_3x3_filtered/runs100_temp1_adsatoms22_alpha1_20220405-1459/final_slab_run_090.cif to SrTiO3_001_3x3_filtered/collated/slab_044.cif\n",
      "move from SrTiO3_001_3x3_filtered/runs100_temp1_adsatoms23_alpha1_20220405-1500/final_slab_run_050.cif to SrTiO3_001_3x3_filtered/collated/slab_045.cif\n",
      "move from SrTiO3_001_3x3_filtered/runs100_temp1_adsatoms23_alpha1_20220405-1500/final_slab_run_090.cif to SrTiO3_001_3x3_filtered/collated/slab_046.cif\n",
      "move from SrTiO3_001_3x3_filtered/runs100_temp1_adsatoms24_alpha1_20220405-1500/final_slab_run_050.cif to SrTiO3_001_3x3_filtered/collated/slab_047.cif\n",
      "move from SrTiO3_001_3x3_filtered/runs100_temp1_adsatoms24_alpha1_20220405-1500/final_slab_run_090.cif to SrTiO3_001_3x3_filtered/collated/slab_048.cif\n",
      "move from SrTiO3_001_3x3_filtered/runs100_temp1_adsatoms25_alpha1_20220405-1500/final_slab_run_050.cif to SrTiO3_001_3x3_filtered/collated/slab_049.cif\n",
      "move from SrTiO3_001_3x3_filtered/runs100_temp1_adsatoms25_alpha1_20220405-1500/final_slab_run_090.cif to SrTiO3_001_3x3_filtered/collated/slab_050.cif\n",
      "move from SrTiO3_001_3x3_filtered/runs100_temp1_adsatoms26_alpha1_20220405-1500/final_slab_run_050.cif to SrTiO3_001_3x3_filtered/collated/slab_051.cif\n",
      "move from SrTiO3_001_3x3_filtered/runs100_temp1_adsatoms26_alpha1_20220405-1500/final_slab_run_090.cif to SrTiO3_001_3x3_filtered/collated/slab_052.cif\n"
     ]
    }
   ],
   "source": [
    "slabs = [\"final_slab_run_050.cif\", \"final_slab_run_090.cif\"]\n",
    "ads_slabs = []\n",
    "for f in structure_folders:\n",
    "    for slab in slabs:\n",
    "        ads_slabs.append(os.path.join(f, slab))\n",
    "\n",
    "import shutil\n",
    "collate_path = \"SrTiO3_001_3x3_filtered/collated\"\n",
    "if not os.path.exists(collate_path):\n",
    "    os.makedirs(collate_path)\n",
    "for i, slab in enumerate(ads_slabs):\n",
    "    move_path = os.path.join(collate_path, f\"slab_{i+1:03}.cif\")\n",
    "    print(f\"move from {slab} to {move_path}\")\n",
    "    shutil.copy2(slab, move_path)"
   ]
  },
  {
   "cell_type": "markdown",
   "metadata": {},
   "source": [
    "For 2x2 collate atoms"
   ]
  },
  {
   "cell_type": "code",
   "execution_count": 44,
   "metadata": {},
   "outputs": [
    {
     "name": "stdout",
     "output_type": "stream",
     "text": [
      "['SrTiO3_001_2x2_filtered/runs100_temp1_adsatoms01_alpha1_20220405-1442', 'SrTiO3_001_2x2_filtered/runs100_temp1_adsatoms02_alpha1_20220405-1442', 'SrTiO3_001_2x2_filtered/runs100_temp1_adsatoms03_alpha1_20220405-1442', 'SrTiO3_001_2x2_filtered/runs100_temp1_adsatoms04_alpha1_20220405-1442', 'SrTiO3_001_2x2_filtered/runs100_temp1_adsatoms05_alpha1_20220405-1442', 'SrTiO3_001_2x2_filtered/runs100_temp1_adsatoms06_alpha1_20220405-1442', 'SrTiO3_001_2x2_filtered/runs100_temp1_adsatoms07_alpha1_20220405-1442', 'SrTiO3_001_2x2_filtered/runs100_temp1_adsatoms08_alpha1_20220405-1442', 'SrTiO3_001_2x2_filtered/runs100_temp1_adsatoms09_alpha1_20220405-1442', 'SrTiO3_001_2x2_filtered/runs100_temp1_adsatoms10_alpha1_20220405-1442', 'SrTiO3_001_2x2_filtered/runs100_temp1_adsatoms11_alpha1_20220405-1442']\n"
     ]
    }
   ],
   "source": [
    "import glob\n",
    "# collate items\n",
    "# for 2x2\n",
    "structure_folders = glob.glob(\"SrTiO3_001_2x2_filtered/runs100_temp1_adsatoms??_alpha1*\")\n",
    "structure_folders.sort()\n",
    "print(structure_folders)\n",
    "assert len(structure_folders) == 11\n"
   ]
  },
  {
   "cell_type": "code",
   "execution_count": 45,
   "metadata": {},
   "outputs": [
    {
     "name": "stdout",
     "output_type": "stream",
     "text": [
      "move from SrTiO3_001_2x2_filtered/runs100_temp1_adsatoms01_alpha1_20220405-1442/final_slab_run_010.cif to SrTiO3_001_2x2_filtered/collated/slab_001.cif\n",
      "move from SrTiO3_001_2x2_filtered/runs100_temp1_adsatoms01_alpha1_20220405-1442/final_slab_run_030.cif to SrTiO3_001_2x2_filtered/collated/slab_002.cif\n",
      "move from SrTiO3_001_2x2_filtered/runs100_temp1_adsatoms01_alpha1_20220405-1442/final_slab_run_050.cif to SrTiO3_001_2x2_filtered/collated/slab_003.cif\n",
      "move from SrTiO3_001_2x2_filtered/runs100_temp1_adsatoms01_alpha1_20220405-1442/final_slab_run_070.cif to SrTiO3_001_2x2_filtered/collated/slab_004.cif\n",
      "move from SrTiO3_001_2x2_filtered/runs100_temp1_adsatoms01_alpha1_20220405-1442/final_slab_run_090.cif to SrTiO3_001_2x2_filtered/collated/slab_005.cif\n",
      "move from SrTiO3_001_2x2_filtered/runs100_temp1_adsatoms02_alpha1_20220405-1442/final_slab_run_010.cif to SrTiO3_001_2x2_filtered/collated/slab_006.cif\n",
      "move from SrTiO3_001_2x2_filtered/runs100_temp1_adsatoms02_alpha1_20220405-1442/final_slab_run_030.cif to SrTiO3_001_2x2_filtered/collated/slab_007.cif\n",
      "move from SrTiO3_001_2x2_filtered/runs100_temp1_adsatoms02_alpha1_20220405-1442/final_slab_run_050.cif to SrTiO3_001_2x2_filtered/collated/slab_008.cif\n",
      "move from SrTiO3_001_2x2_filtered/runs100_temp1_adsatoms02_alpha1_20220405-1442/final_slab_run_070.cif to SrTiO3_001_2x2_filtered/collated/slab_009.cif\n",
      "move from SrTiO3_001_2x2_filtered/runs100_temp1_adsatoms02_alpha1_20220405-1442/final_slab_run_090.cif to SrTiO3_001_2x2_filtered/collated/slab_010.cif\n",
      "move from SrTiO3_001_2x2_filtered/runs100_temp1_adsatoms03_alpha1_20220405-1442/final_slab_run_010.cif to SrTiO3_001_2x2_filtered/collated/slab_011.cif\n",
      "move from SrTiO3_001_2x2_filtered/runs100_temp1_adsatoms03_alpha1_20220405-1442/final_slab_run_030.cif to SrTiO3_001_2x2_filtered/collated/slab_012.cif\n",
      "move from SrTiO3_001_2x2_filtered/runs100_temp1_adsatoms03_alpha1_20220405-1442/final_slab_run_050.cif to SrTiO3_001_2x2_filtered/collated/slab_013.cif\n",
      "move from SrTiO3_001_2x2_filtered/runs100_temp1_adsatoms03_alpha1_20220405-1442/final_slab_run_070.cif to SrTiO3_001_2x2_filtered/collated/slab_014.cif\n",
      "move from SrTiO3_001_2x2_filtered/runs100_temp1_adsatoms03_alpha1_20220405-1442/final_slab_run_090.cif to SrTiO3_001_2x2_filtered/collated/slab_015.cif\n",
      "move from SrTiO3_001_2x2_filtered/runs100_temp1_adsatoms04_alpha1_20220405-1442/final_slab_run_010.cif to SrTiO3_001_2x2_filtered/collated/slab_016.cif\n",
      "move from SrTiO3_001_2x2_filtered/runs100_temp1_adsatoms04_alpha1_20220405-1442/final_slab_run_030.cif to SrTiO3_001_2x2_filtered/collated/slab_017.cif\n",
      "move from SrTiO3_001_2x2_filtered/runs100_temp1_adsatoms04_alpha1_20220405-1442/final_slab_run_050.cif to SrTiO3_001_2x2_filtered/collated/slab_018.cif\n",
      "move from SrTiO3_001_2x2_filtered/runs100_temp1_adsatoms04_alpha1_20220405-1442/final_slab_run_070.cif to SrTiO3_001_2x2_filtered/collated/slab_019.cif\n",
      "move from SrTiO3_001_2x2_filtered/runs100_temp1_adsatoms04_alpha1_20220405-1442/final_slab_run_090.cif to SrTiO3_001_2x2_filtered/collated/slab_020.cif\n",
      "move from SrTiO3_001_2x2_filtered/runs100_temp1_adsatoms05_alpha1_20220405-1442/final_slab_run_010.cif to SrTiO3_001_2x2_filtered/collated/slab_021.cif\n",
      "move from SrTiO3_001_2x2_filtered/runs100_temp1_adsatoms05_alpha1_20220405-1442/final_slab_run_030.cif to SrTiO3_001_2x2_filtered/collated/slab_022.cif\n",
      "move from SrTiO3_001_2x2_filtered/runs100_temp1_adsatoms05_alpha1_20220405-1442/final_slab_run_050.cif to SrTiO3_001_2x2_filtered/collated/slab_023.cif\n",
      "move from SrTiO3_001_2x2_filtered/runs100_temp1_adsatoms05_alpha1_20220405-1442/final_slab_run_070.cif to SrTiO3_001_2x2_filtered/collated/slab_024.cif\n",
      "move from SrTiO3_001_2x2_filtered/runs100_temp1_adsatoms05_alpha1_20220405-1442/final_slab_run_090.cif to SrTiO3_001_2x2_filtered/collated/slab_025.cif\n",
      "move from SrTiO3_001_2x2_filtered/runs100_temp1_adsatoms06_alpha1_20220405-1442/final_slab_run_010.cif to SrTiO3_001_2x2_filtered/collated/slab_026.cif\n",
      "move from SrTiO3_001_2x2_filtered/runs100_temp1_adsatoms06_alpha1_20220405-1442/final_slab_run_030.cif to SrTiO3_001_2x2_filtered/collated/slab_027.cif\n",
      "move from SrTiO3_001_2x2_filtered/runs100_temp1_adsatoms06_alpha1_20220405-1442/final_slab_run_050.cif to SrTiO3_001_2x2_filtered/collated/slab_028.cif\n",
      "move from SrTiO3_001_2x2_filtered/runs100_temp1_adsatoms06_alpha1_20220405-1442/final_slab_run_070.cif to SrTiO3_001_2x2_filtered/collated/slab_029.cif\n",
      "move from SrTiO3_001_2x2_filtered/runs100_temp1_adsatoms06_alpha1_20220405-1442/final_slab_run_090.cif to SrTiO3_001_2x2_filtered/collated/slab_030.cif\n",
      "move from SrTiO3_001_2x2_filtered/runs100_temp1_adsatoms07_alpha1_20220405-1442/final_slab_run_010.cif to SrTiO3_001_2x2_filtered/collated/slab_031.cif\n",
      "move from SrTiO3_001_2x2_filtered/runs100_temp1_adsatoms07_alpha1_20220405-1442/final_slab_run_030.cif to SrTiO3_001_2x2_filtered/collated/slab_032.cif\n",
      "move from SrTiO3_001_2x2_filtered/runs100_temp1_adsatoms07_alpha1_20220405-1442/final_slab_run_050.cif to SrTiO3_001_2x2_filtered/collated/slab_033.cif\n",
      "move from SrTiO3_001_2x2_filtered/runs100_temp1_adsatoms07_alpha1_20220405-1442/final_slab_run_070.cif to SrTiO3_001_2x2_filtered/collated/slab_034.cif\n",
      "move from SrTiO3_001_2x2_filtered/runs100_temp1_adsatoms07_alpha1_20220405-1442/final_slab_run_090.cif to SrTiO3_001_2x2_filtered/collated/slab_035.cif\n",
      "move from SrTiO3_001_2x2_filtered/runs100_temp1_adsatoms08_alpha1_20220405-1442/final_slab_run_010.cif to SrTiO3_001_2x2_filtered/collated/slab_036.cif\n",
      "move from SrTiO3_001_2x2_filtered/runs100_temp1_adsatoms08_alpha1_20220405-1442/final_slab_run_030.cif to SrTiO3_001_2x2_filtered/collated/slab_037.cif\n",
      "move from SrTiO3_001_2x2_filtered/runs100_temp1_adsatoms08_alpha1_20220405-1442/final_slab_run_050.cif to SrTiO3_001_2x2_filtered/collated/slab_038.cif\n",
      "move from SrTiO3_001_2x2_filtered/runs100_temp1_adsatoms08_alpha1_20220405-1442/final_slab_run_070.cif to SrTiO3_001_2x2_filtered/collated/slab_039.cif\n",
      "move from SrTiO3_001_2x2_filtered/runs100_temp1_adsatoms08_alpha1_20220405-1442/final_slab_run_090.cif to SrTiO3_001_2x2_filtered/collated/slab_040.cif\n",
      "move from SrTiO3_001_2x2_filtered/runs100_temp1_adsatoms09_alpha1_20220405-1442/final_slab_run_010.cif to SrTiO3_001_2x2_filtered/collated/slab_041.cif\n",
      "move from SrTiO3_001_2x2_filtered/runs100_temp1_adsatoms09_alpha1_20220405-1442/final_slab_run_030.cif to SrTiO3_001_2x2_filtered/collated/slab_042.cif\n",
      "move from SrTiO3_001_2x2_filtered/runs100_temp1_adsatoms09_alpha1_20220405-1442/final_slab_run_050.cif to SrTiO3_001_2x2_filtered/collated/slab_043.cif\n",
      "move from SrTiO3_001_2x2_filtered/runs100_temp1_adsatoms09_alpha1_20220405-1442/final_slab_run_070.cif to SrTiO3_001_2x2_filtered/collated/slab_044.cif\n",
      "move from SrTiO3_001_2x2_filtered/runs100_temp1_adsatoms09_alpha1_20220405-1442/final_slab_run_090.cif to SrTiO3_001_2x2_filtered/collated/slab_045.cif\n",
      "move from SrTiO3_001_2x2_filtered/runs100_temp1_adsatoms10_alpha1_20220405-1442/final_slab_run_010.cif to SrTiO3_001_2x2_filtered/collated/slab_046.cif\n",
      "move from SrTiO3_001_2x2_filtered/runs100_temp1_adsatoms10_alpha1_20220405-1442/final_slab_run_030.cif to SrTiO3_001_2x2_filtered/collated/slab_047.cif\n",
      "move from SrTiO3_001_2x2_filtered/runs100_temp1_adsatoms10_alpha1_20220405-1442/final_slab_run_050.cif to SrTiO3_001_2x2_filtered/collated/slab_048.cif\n",
      "move from SrTiO3_001_2x2_filtered/runs100_temp1_adsatoms10_alpha1_20220405-1442/final_slab_run_070.cif to SrTiO3_001_2x2_filtered/collated/slab_049.cif\n",
      "move from SrTiO3_001_2x2_filtered/runs100_temp1_adsatoms10_alpha1_20220405-1442/final_slab_run_090.cif to SrTiO3_001_2x2_filtered/collated/slab_050.cif\n",
      "move from SrTiO3_001_2x2_filtered/runs100_temp1_adsatoms11_alpha1_20220405-1442/final_slab_run_010.cif to SrTiO3_001_2x2_filtered/collated/slab_051.cif\n",
      "move from SrTiO3_001_2x2_filtered/runs100_temp1_adsatoms11_alpha1_20220405-1442/final_slab_run_030.cif to SrTiO3_001_2x2_filtered/collated/slab_052.cif\n",
      "move from SrTiO3_001_2x2_filtered/runs100_temp1_adsatoms11_alpha1_20220405-1442/final_slab_run_050.cif to SrTiO3_001_2x2_filtered/collated/slab_053.cif\n",
      "move from SrTiO3_001_2x2_filtered/runs100_temp1_adsatoms11_alpha1_20220405-1442/final_slab_run_070.cif to SrTiO3_001_2x2_filtered/collated/slab_054.cif\n",
      "move from SrTiO3_001_2x2_filtered/runs100_temp1_adsatoms11_alpha1_20220405-1442/final_slab_run_090.cif to SrTiO3_001_2x2_filtered/collated/slab_055.cif\n"
     ]
    }
   ],
   "source": [
    "slabs = [\"final_slab_run_010.cif\", \"final_slab_run_030.cif\", \"final_slab_run_050.cif\", \"final_slab_run_070.cif\", \"final_slab_run_090.cif\"]\n",
    "ads_slabs = []\n",
    "for f in structure_folders:\n",
    "    for slab in slabs:\n",
    "        ads_slabs.append(os.path.join(f, slab))\n",
    "\n",
    "import shutil\n",
    "collate_path = \"SrTiO3_001_2x2_filtered/collated\"\n",
    "if not os.path.exists(collate_path):\n",
    "    os.makedirs(collate_path)\n",
    "for i, slab in enumerate(ads_slabs):\n",
    "    move_path = os.path.join(collate_path, f\"slab_{i+1:03}.cif\")\n",
    "    print(f\"move from {slab} to {move_path}\")\n",
    "    shutil.copy2(slab, move_path)"
   ]
  },
  {
   "cell_type": "markdown",
   "metadata": {},
   "source": [
    "Check slabs to make sure they are distinct"
   ]
  },
  {
   "cell_type": "code",
   "execution_count": 3,
   "metadata": {},
   "outputs": [],
   "source": [
    "from ase.utils.structure_comparator import SymmetryEquivalenceCheck\n",
    "comp = SymmetryEquivalenceCheck()\n",
    "import pickle\n",
    "import glob"
   ]
  },
  {
   "cell_type": "code",
   "execution_count": 4,
   "metadata": {},
   "outputs": [
    {
     "name": "stdout",
     "output_type": "stream",
     "text": [
      "[0, 0, 0, 0, 0, 0, 0, 1, 1, 0, 0, 0, 0, 0, 1, 0, 0, 0, 0, 0, 0, 0, 1, 1, 0, 0, 0, 0, 0, 1, 0, 0, 0, 0, 0, 0, 0, 1, 1, 0, 0, 0, 0, 0, 1, 0, 0, 0, 0, 0, 0, 0, 1, 1, 0, 0, 0, 0, 0, 1]\n"
     ]
    }
   ],
   "source": [
    "# load 2x2 structures\n",
    "slab_paths = glob.glob(\"SrTiO3_001_2x2_filtered/collated/*\")\n",
    "slab_paths.sort()\n",
    "slabs = [read(x) for x in slab_paths]\n",
    "\n",
    "# before tagging\n",
    "slabs[1].write(\"SrTiO3_001_2x2_1ads_before_tagging.cif\")\n",
    "\n",
    "# set tags; 1 for surface atoms, 2 for adsorbates, 0 for others\n",
    "superslab = unit_slab*(2,2,1)\n",
    "surface_atoms = superslab.get_surface_atoms()\n",
    "atoms_arr = np.arange(0, len(superslab))\n",
    "base_tags = np.int8(np.isin(atoms_arr, surface_atoms)).tolist()\n",
    "print(base_tags)\n",
    "for slab in slabs:\n",
    "    num_ads_atoms = len(slab) - len(superslab)\n",
    "    tags = list(base_tags)\n",
    "    tags.extend([2]*num_ads_atoms)\n",
    "    slab.set_tags(tags)\n",
    "\n",
    "# after tagging\n",
    "slabs[1].write(\"SrTiO3_001_2x2_1ads_after_tagging.cif\")\n",
    "\n",
    "# run only once\n",
    "# equivalent_slab = []\n",
    "# for i in range(len(slabs)):\n",
    "#     for j in range(i+1, len(slabs)):\n",
    "#         if comp.compare(slabs[i], slabs[j]):\n",
    "#             equivalent_slab.append((i,j))\n",
    "\n",
    "# equivalent_slab\n",
    "# so exclude 1 and 2"
   ]
  },
  {
   "cell_type": "code",
   "execution_count": 5,
   "metadata": {},
   "outputs": [
    {
     "name": "stdout",
     "output_type": "stream",
     "text": [
      "slab length 54\n"
     ]
    }
   ],
   "source": [
    "chosen_slabs = slabs.copy()\n",
    "del chosen_slabs[1]\n",
    "del chosen_slabs[1]\n",
    "assert len(chosen_slabs) == len(slabs) - 2\n",
    "\n",
    "print(f\"slab length {len(chosen_slabs)}\")\n",
    "with open(\"SrTiO3_001_2x2_O_ads_slabs.pkl\", \"wb\") as f:\n",
    "    pickle.dump(chosen_slabs, f)"
   ]
  },
  {
   "cell_type": "code",
   "execution_count": 15,
   "metadata": {},
   "outputs": [],
   "source": [
    "# check slabs are doing ok\n",
    "# load pkl file\n",
    "import pickle\n",
    "with open(\"SrTiO3_001_2x2_O_ads_slabs.pkl\", 'rb') as f:\n",
    "    cell_2x2 = pickle.load(f)\n",
    "    cell_2x2[0].write(\"SrTiO3_001_2x2_pris_from_pkl.cif\")\n",
    "    cell_2x2[1].write(\"SrTiO3_001_2x2_1ads_from_pkl.cif\")\n",
    "    cell_2x2[-1].write(\"SrTiO3_001_2x2_moreads_from_pkl.cif\")"
   ]
  },
  {
   "cell_type": "code",
   "execution_count": 7,
   "metadata": {},
   "outputs": [
    {
     "name": "stdout",
     "output_type": "stream",
     "text": [
      "[0, 0, 0, 0, 0, 0, 0, 1, 1, 0, 0, 0, 0, 0, 1, 0, 0, 0, 0, 0, 0, 0, 1, 1, 0, 0, 0, 0, 0, 1, 0, 0, 0, 0, 0, 0, 0, 1, 1, 0, 0, 0, 0, 0, 1, 0, 0, 0, 0, 0, 0, 0, 1, 1, 0, 0, 0, 0, 0, 1, 0, 0, 0, 0, 0, 0, 0, 1, 1, 0, 0, 0, 0, 0, 1, 0, 0, 0, 0, 0, 0, 0, 1, 1, 0, 0, 0, 0, 0, 1, 0, 0, 0, 0, 0, 0, 0, 1, 1, 0, 0, 0, 0, 0, 1, 0, 0, 0, 0, 0, 0, 0, 1, 1, 0, 0, 0, 0, 0, 1, 0, 0, 0, 0, 0, 0, 0, 1, 1, 0, 0, 0, 0, 0, 1]\n"
     ]
    }
   ],
   "source": [
    "# load 3x3 structures\n",
    "slab_paths = glob.glob(\"SrTiO3_001_3x3_filtered/collated/*\")\n",
    "slab_paths.sort()\n",
    "slabs = [read(x) for x in slab_paths]\n",
    "# set tags; 1 for surface atoms, 2 for adsorbates, 0 for others\n",
    "superslab = unit_slab*(3,3,1)\n",
    "surface_atoms = superslab.get_surface_atoms()\n",
    "atoms_arr = np.arange(0, len(superslab))\n",
    "base_tags = np.int8(np.isin(atoms_arr, surface_atoms)).tolist()\n",
    "print(base_tags)\n",
    "for slab in slabs:\n",
    "    num_ads_atoms = len(slab) - len(superslab)\n",
    "    tags = list(base_tags)\n",
    "    tags.extend([2]*num_ads_atoms)\n",
    "    slab.set_tags(tags)\n",
    "\n",
    "# run only once\n",
    "# equivalent_slab = []\n",
    "# for i in range(len(slabs)):\n",
    "#     for j in range(i+1, len(slabs)):\n",
    "#         if comp.compare(slabs[i], slabs[j]):\n",
    "#             equivalent_slab.append((i,j))\n",
    "\n",
    "# equivalent_slab\n",
    "# so exclude 1"
   ]
  },
  {
   "cell_type": "code",
   "execution_count": 8,
   "metadata": {},
   "outputs": [
    {
     "name": "stdout",
     "output_type": "stream",
     "text": [
      "slab length 52\n"
     ]
    }
   ],
   "source": [
    "chosen_slabs = slabs.copy()\n",
    "del chosen_slabs[1]\n",
    "assert len(chosen_slabs) == len(slabs) - 1\n",
    "\n",
    "print(f\"slab length {len(chosen_slabs)}\")\n",
    "with open(\"SrTiO3_001_3x3_O_ads_slabs.pkl\", \"wb\") as f:\n",
    "    pickle.dump(chosen_slabs, f)"
   ]
  },
  {
   "cell_type": "code",
   "execution_count": 14,
   "metadata": {},
   "outputs": [],
   "source": [
    "# check slabs are doing ok\n",
    "# load pkl file\n",
    "import pickle\n",
    "with open(\"SrTiO3_001_3x3_O_ads_slabs.pkl\", 'rb') as f:\n",
    "    cell_3x3 = pickle.load(f)\n",
    "    cell_3x3[0].write(\"SrTiO3_001_3x3_pris_from_pkl.cif\")\n",
    "    cell_3x3[1].write(\"SrTiO3_001_3x3_1ads_from_pkl.cif\")\n",
    "    cell_3x3[-1].write(\"SrTiO3_001_3x3_moreads_from_pkl.cif\")"
   ]
  },
  {
   "cell_type": "code",
   "execution_count": 11,
   "metadata": {},
   "outputs": [
    {
     "name": "stdout",
     "output_type": "stream",
     "text": [
      "[0, 0, 0, 0, 0, 0, 0, 1, 1, 0, 0, 0, 0, 0, 1, 0, 0, 0, 0, 0, 0, 0, 1, 1, 0, 0, 0, 0, 0, 1, 0, 0, 0, 0, 0, 0, 0, 1, 1, 0, 0, 0, 0, 0, 1, 0, 0, 0, 0, 0, 0, 0, 1, 1, 0, 0, 0, 0, 0, 1, 0, 0, 0, 0, 0, 0, 0, 1, 1, 0, 0, 0, 0, 0, 1, 0, 0, 0, 0, 0, 0, 0, 1, 1, 0, 0, 0, 0, 0, 1, 0, 0, 0, 0, 0, 0, 0, 1, 1, 0, 0, 0, 0, 0, 1, 0, 0, 0, 0, 0, 0, 0, 1, 1, 0, 0, 0, 0, 0, 1, 0, 0, 0, 0, 0, 0, 0, 1, 1, 0, 0, 0, 0, 0, 1, 0, 0, 0, 0, 0, 0, 0, 1, 1, 0, 0, 0, 0, 0, 1, 0, 0, 0, 0, 0, 0, 0, 1, 1, 0, 0, 0, 0, 0, 1, 0, 0, 0, 0, 0, 0, 0, 1, 1, 0, 0, 0, 0, 0, 1, 0, 0, 0, 0, 0, 0, 0, 1, 1, 0, 0, 0, 0, 0, 1, 0, 0, 0, 0, 0, 0, 0, 1, 1, 0, 0, 0, 0, 0, 1, 0, 0, 0, 0, 0, 0, 0, 1, 1, 0, 0, 0, 0, 0, 1, 0, 0, 0, 0, 0, 0, 0, 1, 1, 0, 0, 0, 0, 0, 1]\n",
      "slab length 24\n"
     ]
    }
   ],
   "source": [
    "# load 4x4 structures\n",
    "slab_paths = glob.glob(\"SrTiO3_001_4x4_filtered/collated/*\")\n",
    "slab_paths.sort()\n",
    "slabs = [read(x) for x in slab_paths]\n",
    "# set tags; 1 for surface atoms, 2 for adsorbates, 0 for others\n",
    "superslab = unit_slab*(4,4,1)\n",
    "surface_atoms = superslab.get_surface_atoms()\n",
    "atoms_arr = np.arange(0, len(superslab))\n",
    "base_tags = np.int8(np.isin(atoms_arr, surface_atoms)).tolist()\n",
    "print(base_tags)\n",
    "for slab in slabs:\n",
    "    num_ads_atoms = len(slab) - len(superslab)\n",
    "    tags = list(base_tags)\n",
    "    tags.extend([2]*num_ads_atoms)\n",
    "    slab.set_tags(tags)\n",
    "\n",
    "print(f\"slab length {len(slabs)}\")\n",
    "with open(\"SrTiO3_001_4x4_O_ads_slabs.pkl\", \"wb\") as f:\n",
    "    pickle.dump(slabs, f)"
   ]
  },
  {
   "cell_type": "code",
   "execution_count": 13,
   "metadata": {},
   "outputs": [],
   "source": [
    "# check slabs are doing ok\n",
    "# load pkl file\n",
    "import pickle\n",
    "with open(\"SrTiO3_001_4x4_O_ads_slabs.pkl\", 'rb') as f:\n",
    "    cell_4x4 = pickle.load(f)\n",
    "    cell_4x4[0].write(\"SrTiO3_001_4x4_pris_from_pkl.cif\")\n",
    "    cell_4x4[1].write(\"SrTiO3_001_4x4_1ads_from_pkl.cif\")\n",
    "    cell_4x4[-1].write(\"SrTiO3_001_4x4_moreads_from_pkl.cif\")"
   ]
  },
  {
   "cell_type": "code",
   "execution_count": null,
   "metadata": {},
   "outputs": [],
   "source": []
  }
 ],
 "metadata": {
  "interpreter": {
   "hash": "52c80ae8dd6c1a0bcd088a907455e2d267fd03a787ceaaaaeeff2a73233138b6"
  },
  "kernelspec": {
   "display_name": "Python 3.9.9 ('mlenv')",
   "language": "python",
   "name": "python3"
  },
  "language_info": {
   "codemirror_mode": {
    "name": "ipython",
    "version": 3
   },
   "file_extension": ".py",
   "mimetype": "text/x-python",
   "name": "python",
   "nbconvert_exporter": "python",
   "pygments_lexer": "ipython3",
   "version": "3.7.11"
  },
  "orig_nbformat": 4
 },
 "nbformat": 4,
 "nbformat_minor": 2
}
