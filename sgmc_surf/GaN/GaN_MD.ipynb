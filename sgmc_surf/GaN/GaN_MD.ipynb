{
 "cells": [
  {
   "cell_type": "code",
   "execution_count": 1,
   "metadata": {},
   "outputs": [],
   "source": [
    "from ase.io import read\n",
    "from lammps import lammps\n",
    "import os\n",
    "\n",
    "os.environ[\"LAMMPS_COMMAND\"] = \"/home/dux/lammps/src/lmp_serial\"\n",
    "os.environ[\"LAMMPS_POTENTIALS\"] = \"/home/dux/lammps/potentials/\"\n",
    "\n",
    "main_dir = \"/home/dux/surface_sampling/sgmc_surf/GaN\"\n",
    "\n",
    "# define necessary file locations\n",
    "lammps_data_file = f\"{main_dir}/lammps.data\"\n",
    "lammps_in_file = f\"{main_dir}/lammps.in\"\n",
    "potential_file = f\"GaN.tersoff\"\n",
    "atoms = [\"Ga\", \"N\"]\n",
    "lammps_out_file = f\"{main_dir}/lammps.out\"\n",
    "cif_from_lammps_file = f\"{main_dir}/lammps.cif\"\n",
    "\n",
    "slab = read(\"/home/dux/surface_sampling/sgmc_surf/GaN/GaN_0001_3x3_pymatgen/runs500_temp1_adsatoms12_alpha0.995_20220518-172644/optim_slab_run_500.cif\")"
   ]
  },
  {
   "cell_type": "code",
   "execution_count": 2,
   "metadata": {},
   "outputs": [
    {
     "ename": "OSError",
     "evalue": "libfftw3_omp.so.3: cannot open shared object file: No such file or directory",
     "output_type": "error",
     "traceback": [
      "\u001b[0;31m---------------------------------------------------------------------------\u001b[0m",
      "\u001b[0;31mOSError\u001b[0m                                   Traceback (most recent call last)",
      "File \u001b[0;32m~/miniconda3/envs/mlenv/lib/python3.8/site-packages/lammps/core.py:126\u001b[0m, in \u001b[0;36mlammps.__init__\u001b[0;34m(self, name, cmdargs, ptr, comm)\u001b[0m\n\u001b[1;32m    <a href='file:///home/dux/miniconda3/envs/mlenv/lib/python3.8/site-packages/lammps/core.py?line=124'>125</a>\u001b[0m \u001b[39mif\u001b[39;00m \u001b[39mnot\u001b[39;00m name:\n\u001b[0;32m--> <a href='file:///home/dux/miniconda3/envs/mlenv/lib/python3.8/site-packages/lammps/core.py?line=125'>126</a>\u001b[0m   \u001b[39mself\u001b[39m\u001b[39m.\u001b[39mlib \u001b[39m=\u001b[39m CDLL(join(modpath,\u001b[39m\"\u001b[39;49m\u001b[39mliblammps\u001b[39;49m\u001b[39m\"\u001b[39;49m \u001b[39m+\u001b[39;49m lib_ext),RTLD_GLOBAL)\n\u001b[1;32m    <a href='file:///home/dux/miniconda3/envs/mlenv/lib/python3.8/site-packages/lammps/core.py?line=126'>127</a>\u001b[0m \u001b[39melse\u001b[39;00m:\n",
      "File \u001b[0;32m~/miniconda3/envs/mlenv/lib/python3.8/ctypes/__init__.py:373\u001b[0m, in \u001b[0;36mCDLL.__init__\u001b[0;34m(self, name, mode, handle, use_errno, use_last_error, winmode)\u001b[0m\n\u001b[1;32m    <a href='file:///home/dux/miniconda3/envs/mlenv/lib/python3.8/ctypes/__init__.py?line=371'>372</a>\u001b[0m \u001b[39mif\u001b[39;00m handle \u001b[39mis\u001b[39;00m \u001b[39mNone\u001b[39;00m:\n\u001b[0;32m--> <a href='file:///home/dux/miniconda3/envs/mlenv/lib/python3.8/ctypes/__init__.py?line=372'>373</a>\u001b[0m     \u001b[39mself\u001b[39m\u001b[39m.\u001b[39m_handle \u001b[39m=\u001b[39m _dlopen(\u001b[39mself\u001b[39;49m\u001b[39m.\u001b[39;49m_name, mode)\n\u001b[1;32m    <a href='file:///home/dux/miniconda3/envs/mlenv/lib/python3.8/ctypes/__init__.py?line=373'>374</a>\u001b[0m \u001b[39melse\u001b[39;00m:\n",
      "\u001b[0;31mOSError\u001b[0m: libfftw3_omp.so.3: cannot open shared object file: No such file or directory",
      "\nDuring handling of the above exception, another exception occurred:\n",
      "\u001b[0;31mOSError\u001b[0m                                   Traceback (most recent call last)",
      "\u001b[1;32m/home/dux/surface_sampling/sgmc_surf/GaN/GaN_MD.ipynb Cell 2'\u001b[0m in \u001b[0;36m<cell line: 59>\u001b[0;34m()\u001b[0m\n\u001b[1;32m     <a href='vscode-notebook-cell://ssh-remote%2Brafa-hartree/home/dux/surface_sampling/sgmc_surf/GaN/GaN_MD.ipynb#ch0000001vscode-remote?line=53'>54</a>\u001b[0m \u001b[39mwith\u001b[39;00m \u001b[39mopen\u001b[39m(lammps_in_file, \u001b[39m\"\u001b[39m\u001b[39mw\u001b[39m\u001b[39m\"\u001b[39m) \u001b[39mas\u001b[39;00m f:\n\u001b[1;32m     <a href='vscode-notebook-cell://ssh-remote%2Brafa-hartree/home/dux/surface_sampling/sgmc_surf/GaN/GaN_MD.ipynb#ch0000001vscode-remote?line=54'>55</a>\u001b[0m     f\u001b[39m.\u001b[39mwritelines(\n\u001b[1;32m     <a href='vscode-notebook-cell://ssh-remote%2Brafa-hartree/home/dux/surface_sampling/sgmc_surf/GaN/GaN_MD.ipynb#ch0000001vscode-remote?line=55'>56</a>\u001b[0m         TEMPLATE\u001b[39m.\u001b[39mformat(lammps_data_file, potential_file, \u001b[39m*\u001b[39matoms, lammps_out_file)\n\u001b[1;32m     <a href='vscode-notebook-cell://ssh-remote%2Brafa-hartree/home/dux/surface_sampling/sgmc_surf/GaN/GaN_MD.ipynb#ch0000001vscode-remote?line=56'>57</a>\u001b[0m     )\n\u001b[0;32m---> <a href='vscode-notebook-cell://ssh-remote%2Brafa-hartree/home/dux/surface_sampling/sgmc_surf/GaN/GaN_MD.ipynb#ch0000001vscode-remote?line=58'>59</a>\u001b[0m lmp \u001b[39m=\u001b[39m lammps()\n\u001b[1;32m     <a href='vscode-notebook-cell://ssh-remote%2Brafa-hartree/home/dux/surface_sampling/sgmc_surf/GaN/GaN_MD.ipynb#ch0000001vscode-remote?line=59'>60</a>\u001b[0m \u001b[39m# print(\"LAMMPS Version: \", lmp.version())\u001b[39;00m\n\u001b[1;32m     <a href='vscode-notebook-cell://ssh-remote%2Brafa-hartree/home/dux/surface_sampling/sgmc_surf/GaN/GaN_MD.ipynb#ch0000001vscode-remote?line=60'>61</a>\u001b[0m \n\u001b[1;32m     <a href='vscode-notebook-cell://ssh-remote%2Brafa-hartree/home/dux/surface_sampling/sgmc_surf/GaN/GaN_MD.ipynb#ch0000001vscode-remote?line=61'>62</a>\u001b[0m \u001b[39m# run the LAMMPS here\u001b[39;00m\n\u001b[1;32m     <a href='vscode-notebook-cell://ssh-remote%2Brafa-hartree/home/dux/surface_sampling/sgmc_surf/GaN/GaN_MD.ipynb#ch0000001vscode-remote?line=62'>63</a>\u001b[0m lmp\u001b[39m.\u001b[39mfile(lammps_in_file)\n",
      "File \u001b[0;32m~/miniconda3/envs/mlenv/lib/python3.8/site-packages/lammps/core.py:132\u001b[0m, in \u001b[0;36mlammps.__init__\u001b[0;34m(self, name, cmdargs, ptr, comm)\u001b[0m\n\u001b[1;32m    <a href='file:///home/dux/miniconda3/envs/mlenv/lib/python3.8/site-packages/lammps/core.py?line=129'>130</a>\u001b[0m \u001b[39mexcept\u001b[39;00m:\n\u001b[1;32m    <a href='file:///home/dux/miniconda3/envs/mlenv/lib/python3.8/site-packages/lammps/core.py?line=130'>131</a>\u001b[0m   \u001b[39mif\u001b[39;00m \u001b[39mnot\u001b[39;00m name:\n\u001b[0;32m--> <a href='file:///home/dux/miniconda3/envs/mlenv/lib/python3.8/site-packages/lammps/core.py?line=131'>132</a>\u001b[0m     \u001b[39mself\u001b[39m\u001b[39m.\u001b[39mlib \u001b[39m=\u001b[39m CDLL(\u001b[39m\"\u001b[39;49m\u001b[39mliblammps\u001b[39;49m\u001b[39m\"\u001b[39;49m \u001b[39m+\u001b[39;49m lib_ext,RTLD_GLOBAL)\n\u001b[1;32m    <a href='file:///home/dux/miniconda3/envs/mlenv/lib/python3.8/site-packages/lammps/core.py?line=132'>133</a>\u001b[0m   \u001b[39melse\u001b[39;00m:\n\u001b[1;32m    <a href='file:///home/dux/miniconda3/envs/mlenv/lib/python3.8/site-packages/lammps/core.py?line=133'>134</a>\u001b[0m     \u001b[39mself\u001b[39m\u001b[39m.\u001b[39mlib \u001b[39m=\u001b[39m CDLL(\u001b[39m\"\u001b[39m\u001b[39mliblammps_\u001b[39m\u001b[39m%s\u001b[39;00m\u001b[39m\"\u001b[39m \u001b[39m%\u001b[39m name \u001b[39m+\u001b[39m lib_ext,RTLD_GLOBAL)\n",
      "File \u001b[0;32m~/miniconda3/envs/mlenv/lib/python3.8/ctypes/__init__.py:373\u001b[0m, in \u001b[0;36mCDLL.__init__\u001b[0;34m(self, name, mode, handle, use_errno, use_last_error, winmode)\u001b[0m\n\u001b[1;32m    <a href='file:///home/dux/miniconda3/envs/mlenv/lib/python3.8/ctypes/__init__.py?line=369'>370</a>\u001b[0m \u001b[39mself\u001b[39m\u001b[39m.\u001b[39m_FuncPtr \u001b[39m=\u001b[39m _FuncPtr\n\u001b[1;32m    <a href='file:///home/dux/miniconda3/envs/mlenv/lib/python3.8/ctypes/__init__.py?line=371'>372</a>\u001b[0m \u001b[39mif\u001b[39;00m handle \u001b[39mis\u001b[39;00m \u001b[39mNone\u001b[39;00m:\n\u001b[0;32m--> <a href='file:///home/dux/miniconda3/envs/mlenv/lib/python3.8/ctypes/__init__.py?line=372'>373</a>\u001b[0m     \u001b[39mself\u001b[39m\u001b[39m.\u001b[39m_handle \u001b[39m=\u001b[39m _dlopen(\u001b[39mself\u001b[39;49m\u001b[39m.\u001b[39;49m_name, mode)\n\u001b[1;32m    <a href='file:///home/dux/miniconda3/envs/mlenv/lib/python3.8/ctypes/__init__.py?line=373'>374</a>\u001b[0m \u001b[39melse\u001b[39;00m:\n\u001b[1;32m    <a href='file:///home/dux/miniconda3/envs/mlenv/lib/python3.8/ctypes/__init__.py?line=374'>375</a>\u001b[0m     \u001b[39mself\u001b[39m\u001b[39m.\u001b[39m_handle \u001b[39m=\u001b[39m handle\n",
      "\u001b[0;31mOSError\u001b[0m: libfftw3_omp.so.3: cannot open shared object file: No such file or directory"
     ]
    }
   ],
   "source": [
    "# write current surface into lammps.data\n",
    "slab.write(\n",
    "    lammps_data_file, format=\"lammps-data\", units=\"real\", atom_style=\"atomic\"\n",
    ")\n",
    "TEMPLATE = \"\"\"\n",
    "clear\n",
    "atom_style atomic\n",
    "units metal\n",
    "boundary p p p\n",
    "atom_modify sort 0 0.0\n",
    "\n",
    "# read_data /path/to/data.data\n",
    "read_data {}\n",
    "\n",
    "### set bulk\n",
    "group bulk id <= 36\n",
    "group surface id > 36\n",
    "\n",
    "### interactions\n",
    "pair_style tersoff\n",
    "# pair_coeff * * /path/to/potential Atom1 Atom2\n",
    "pair_coeff * * {} {} {}\n",
    "mass 1 69.723000\n",
    "mass 2 14.007000\n",
    "\n",
    "### run\n",
    "reset_timestep 0\n",
    "velocity surface create 100.0 87287 dist gaussian\n",
    "\n",
    "fix 1 all nvt temp 100.0 0.1 $(100.0*dt)\n",
    "\n",
    "# set bulk forces and velocities to 0\n",
    "fix 2 bulk setforce 0.0 0.0 0.0\n",
    "velocity bulk set 0.0 0.0 0.0\n",
    "\n",
    "thermo 10 # output thermodynamic variables every N timesteps\n",
    "\n",
    "thermo_style custom step temp pe press cpu pxx pyy pzz pxy pxz pyz ke etotal vol lx ly lz atoms\n",
    "thermo_modify flush yes format float %23.16g\n",
    "# min_style cg\n",
    "# minimize 1e-5 1e-5 500 10000\n",
    "\n",
    "timestep 0.001\n",
    "run 3000\n",
    "\n",
    "# write_data /path/to/data.out\n",
    "write_data {}\n",
    "print \"_end of MD_\"\n",
    "log /dev/stdout\n",
    "\n",
    "\"\"\"\n",
    "\n",
    "# write lammps.in file\n",
    "with open(lammps_in_file, \"w\") as f:\n",
    "    f.writelines(\n",
    "        TEMPLATE.format(lammps_data_file, potential_file, *atoms, lammps_out_file)\n",
    "    )\n",
    "\n",
    "lmp = lammps()\n",
    "# print(\"LAMMPS Version: \", lmp.version())\n",
    "\n",
    "# run the LAMMPS here\n",
    "lmp.file(lammps_in_file)\n",
    "lmp.close()\n",
    "\n",
    "# Read from LAMMPS out\n",
    "opt_slab = read(lammps_out_file, format=\"lammps-data\", style=\"atomic\")\n",
    "\n",
    "atomic_numbers_dict = {1: 31, 2: 7}  # 1: Ga, 2: N\n",
    "actual_atomic_numbers = [\n",
    "    atomic_numbers_dict[x] for x in opt_slab.get_atomic_numbers()\n",
    "]\n",
    "print(f\"actual atomic numbers {actual_atomic_numbers}\")\n",
    "# correct_lammps = new_slab.copy()\n",
    "opt_slab.set_atomic_numbers(actual_atomic_numbers)\n",
    "opt_slab.calc = slab.calc\n",
    "opt_slab.write(cif_from_lammps_file)"
   ]
  },
  {
   "cell_type": "code",
   "execution_count": null,
   "metadata": {},
   "outputs": [],
   "source": [
    "opt_slab.get_positions()"
   ]
  },
  {
   "cell_type": "code",
   "execution_count": null,
   "metadata": {},
   "outputs": [],
   "source": [
    "slab.get_positions()"
   ]
  },
  {
   "cell_type": "code",
   "execution_count": null,
   "metadata": {},
   "outputs": [],
   "source": []
  }
 ],
 "metadata": {
  "interpreter": {
   "hash": "52c80ae8dd6c1a0bcd088a907455e2d267fd03a787ceaaaaeeff2a73233138b6"
  },
  "kernelspec": {
   "display_name": "Python 3.8.13 ('mlenv')",
   "language": "python",
   "name": "python3"
  },
  "language_info": {
   "codemirror_mode": {
    "name": "ipython",
    "version": 3
   },
   "file_extension": ".py",
   "mimetype": "text/x-python",
   "name": "python",
   "nbconvert_exporter": "python",
   "pygments_lexer": "ipython3",
   "version": "3.8.13"
  },
  "orig_nbformat": 4
 },
 "nbformat": 4,
 "nbformat_minor": 2
}
