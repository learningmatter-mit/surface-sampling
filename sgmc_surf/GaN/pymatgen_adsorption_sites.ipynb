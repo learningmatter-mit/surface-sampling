{
 "cells": [
  {
   "cell_type": "code",
   "execution_count": 2,
   "metadata": {},
   "outputs": [],
   "source": [
    "from pymatgen.analysis.adsorption import AdsorbateSiteFinder\n",
    "from pymatgen.io.ase import AseAtomsAdaptor\n",
    "\n",
    "from ase.io import read, write\n",
    "\n",
    "pristine_slab = read(\"GaN_0001_3x3_pristine_slab.cif\")\n",
    "pristine_pmg_slab = AseAtomsAdaptor.get_structure(pristine_slab)\n",
    "site_finder = AdsorbateSiteFinder(pristine_pmg_slab)\n",
    "# AdsorbateSiteFinder(slab, selective_dynamics=False, height=0.9, mi_vec=None)\n",
    "sites = site_finder.find_adsorption_sites(put_inside=False, symm_reduce=False)\n",
    "# find_adsorption_sites(distance=2.0, put_inside=True, symm_reduce=0.01, near_reduce=0.01, positions=['ontop', 'bridge', 'hollow'], no_obtuse_hollow=True)"
   ]
  },
  {
   "cell_type": "code",
   "execution_count": 3,
   "metadata": {},
   "outputs": [
    {
     "name": "stdout",
     "output_type": "stream",
     "text": [
      "ontop sites has total 18\n",
      "bridge sites has total 69\n",
      "hollow sites has total 8\n",
      "all sites has total 95\n"
     ]
    }
   ],
   "source": [
    "for type in sites.keys():\n",
    "    print(f\"{type} sites has total {len(sites[type])}\")"
   ]
  },
  {
   "cell_type": "code",
   "execution_count": 4,
   "metadata": {},
   "outputs": [
    {
     "name": "stdout",
     "output_type": "stream",
     "text": [
      "adsorption coordinates are\n",
      "[array([ 0.        ,  0.        , 15.26569384]), array([12.86517608,  7.42771287, 14.62006789]), array([ 3.21630608,  5.57080555, 15.26569384]), array([11.25704716,  4.64235188, 14.62006789]), array([ 1.60812892,  2.78536099, 15.26569384]), array([ 9.64887   ,  1.85690733, 14.62006789]), array([ 6.43261216,  0.        , 15.26569384]), array([ 9.64891824,  7.42771287, 14.62006789]), array([ 9.64891824,  5.57080555, 15.26569384]), array([ 8.04078933,  4.64235188, 14.62006789]), array([ 8.04074108,  2.78536099, 15.26569384]), array([ 6.43261216,  1.85690733, 14.62006789]), array([ 3.21625784,  0.        , 15.26569384]), array([ 6.43256392,  7.42771287, 14.62006789]), array([ 6.43256392,  5.57080555, 15.26569384]), array([ 4.824435  ,  4.64235188, 14.62006789]), array([ 4.82438676,  2.78536099, 15.26569384]), array([ 3.21625784,  1.85690733, 14.62006789]), array([32.96702879, 14.39119892, 14.62006789]), array([32.96702879, 13.46274525, 14.94288087]), array([33.77109324, 14.85542575, 14.94288087]), array([42.61585054, 32.96043932, 14.94288087]), array([54.67693804, 28.78235605, 14.94288087]), array([47.4402373 , 26.46118011, 15.26569384]), array([47.4402373 , 27.38963377, 14.94288087]), array([46.63617284, 25.99695328, 14.94288087]), array([32.1629402 , 12.07002297, 14.94288087]), array([31.35885162, 13.46274525, 14.94288087]), array([31.3588275 , 12.53424981, 15.26569384]), array([32.16291608, 14.85542575, 14.94288087]), array([31.35880338, 15.31965258, 15.26569384]), array([28.14254554, 13.46274525, 14.94288087]), array([26.53441662, 13.46274525, 14.94288087]), array([27.33848108, 12.99851842, 14.62006789]), array([53.8728977 , 32.96043932, 14.94288087]), array([52.26472054, 27.38963377, 14.94288087]), array([53.87284946, 27.38963377, 14.94288087]), array([53.068785  , 27.85386061, 15.26569384]), array([48.24437412, 20.42618951, 14.94288087]), array([48.24435   , 25.99695328, 14.94288087]), array([33.77109324, 12.99851842, 14.62006789]), array([34.5751577 , 13.46274525, 14.94288087]), array([30.55473892, 14.85542575, 14.94288087]), array([31.35880338, 16.24810624, 14.94288087]), array([29.75067446, 10.6773007 , 14.94288087]), array([29.75069858, 11.60579614, 14.62006789]), array([28.94658588, 12.07002297, 14.94288087]), array([29.7507227 ,  8.82039337, 14.62006789]), array([27.33845696, 12.07002297, 14.94288087]), array([17.68956284, 11.14152753, 15.26569384]), array([16.88549838, 10.6773007 , 14.94288087]), array([40.20365716,  9.2846202 , 14.94288087]), array([29.75067446, 13.46274525, 14.94288087]), array([30.55476304, 12.07002297, 14.94288087]), array([31.35885162, 10.6773007 , 14.94288087]), array([55.48102662, 32.96043932, 14.94288087]), array([57.08915554, 32.96043932, 14.94288087]), array([53.068785  , 25.99695328, 14.94288087]), array([56.28509108, 31.56775882, 14.94288087]), array([19.29774   , 14.85542575, 14.94288087]), array([18.49367554, 14.39119892, 14.62006789]), array([20.10180446, 16.24810624, 14.94288087]), array([19.29774   , 15.78387941, 14.62006789]), array([15.27736946,  8.82039337, 14.62006789]), array([16.08143392, 10.21307387, 14.62006789]), array([16.08143392,  9.2846202 , 14.94288087]), array([45.02804392, 25.06849961, 15.26569384]), array([44.22397946, 26.46118011, 15.26569384]), array([54.67696216, 30.63930516, 15.26569384]), array([54.67696216, 31.56775882, 14.94288087]), array([53.8728977 , 32.03198566, 15.26569384]), array([36.18328662, 15.31965258, 15.26569384]), array([28.14254554, 32.03198566, 15.26569384]), array([29.75067446, 32.03198566, 15.26569384]), array([31.35885162,  9.74884703, 15.26569384]), array([32.16291608,  9.2846202 , 14.94288087]), array([26.53436838,  9.74884703, 15.26569384]), array([43.419915  , 22.28313862, 15.26569384]), array([41.81178608, 26.92540694, 14.62006789]), array([41.00772162, 25.53272645, 14.62006789]), array([50.65659162, 22.74736545, 14.62006789]), array([49.85252716, 24.14004595, 14.62006789]), array([52.26472054, 25.53272645, 14.62006789]), array([32.16291608, 25.06849961, 15.26569384]), array([21.70993338, 17.17655991, 14.62006789]), array([23.31811054,  9.74884703, 15.26569384]), array([39.39954446, 14.39119892, 14.62006789]), array([32.69897514, 15.1649103 , 14.83527654]), array([31.62685703, 14.54594119, 15.05048519]), array([47.70832311, 20.11669103, 15.05048519]), array([47.70829095, 25.68746872, 15.05048519]), array([29.48266905,  9.59410476, 14.83527654]), array([27.87450797, 12.37952146, 14.83527654]), array([17.15353595, 11.76052449, 15.05048519]), array([53.60486014, 29.09185453, 14.83527654])]\n"
     ]
    }
   ],
   "source": [
    "import numpy as np\n",
    "ads_positions = sites['all']\n",
    "print(f\"adsorption coordinates are\")\n",
    "print(ads_positions)\n",
    "# take just the first 18 sites after inspection\n",
    "# select_positions = ads_positions[:18]\n",
    "\n",
    "# take all positions\n",
    "select_positions = ads_positions"
   ]
  },
  {
   "cell_type": "code",
   "execution_count": 5,
   "metadata": {},
   "outputs": [],
   "source": [
    "# adsorb onto the sites\n",
    "from pymatgen.core.structure import Molecule\n",
    "ads_mol = Molecule(['Ga'], [[0,0,0]])\n",
    "for ads_coord in select_positions:\n",
    "    slab = site_finder.add_adsorbate(ads_mol, ads_coord, repeat=None, translate=False, reorient=False)\n",
    "    site_finder.slab = slab"
   ]
  },
  {
   "cell_type": "code",
   "execution_count": 6,
   "metadata": {},
   "outputs": [
    {
     "data": {
      "text/plain": [
       "131"
      ]
     },
     "execution_count": 6,
     "metadata": {},
     "output_type": "execute_result"
    }
   ],
   "source": [
    "len(site_finder.slab)"
   ]
  },
  {
   "cell_type": "code",
   "execution_count": 7,
   "metadata": {},
   "outputs": [],
   "source": [
    "from pymatgen.io.cif import CifWriter\n",
    "# write out slab\n",
    "cif_slab = CifWriter(site_finder.slab)\n",
    "cif_slab.write_file(\"pymatgen_GaN_0001_ads_Ga_all_adsorbed_slab.cif\")"
   ]
  },
  {
   "cell_type": "markdown",
   "metadata": {},
   "source": [
    "Manually check the file, looks legit"
   ]
  },
  {
   "cell_type": "code",
   "execution_count": 8,
   "metadata": {},
   "outputs": [],
   "source": [
    "import os\n",
    "import sys\n",
    "sys.path.append(\"/home/dux/\")\n",
    "sys.path.append(\"/home/dux/surface_sampling/sgmc_surf\")\n",
    "\n",
    "# do a sample run\n",
    "from mcmc import mcmc_run\n",
    "\n",
    "import ase\n",
    "from ase.calculators.lammpsrun import LAMMPS\n",
    "from ase.io import read\n",
    "\n",
    "import numpy as np\n",
    "\n",
    "from htvs.djangochem.pgmols.utils import surfaces"
   ]
  },
  {
   "cell_type": "code",
   "execution_count": 9,
   "metadata": {},
   "outputs": [
    {
     "name": "stdout",
     "output_type": "stream",
     "text": [
      "all adsorbed 131\n",
      "pristine slab 36\n"
     ]
    },
    {
     "name": "stderr",
     "output_type": "stream",
     "text": [
      "/home/dux/miniconda3/envs/mlenv/lib/python3.8/site-packages/catkit/gen/surface.py:334: UserWarning: Your slab has no bulk atoms and may be too thin to identify surface atoms correctly. This may cause surface adsorption site identification to fail.\n",
      "  warnings.warn(\n"
     ]
    }
   ],
   "source": [
    "all_adsorbed = read(\"pymatgen_GaN_0001_ads_Ga_all_adsorbed_slab.cif\")\n",
    "print(f\"all adsorbed {len(all_adsorbed)}\")\n",
    "\n",
    "# Get pristine surface\n",
    "# GaN 0001 surface\n",
    "atoms = read('GaN_hexagonal.cif')\n",
    "\n",
    "# supercell_atoms = atoms*(2,2,2)\n",
    "# supercell_atoms.write('GaN_hexagonal_2x2.cif')\n",
    "\n",
    "supercell_atoms = atoms*(3,3,3)\n",
    "supercell_atoms.write('GaN_hexagonal_3x3.cif')\n",
    "\n",
    "slab, surface_atoms = surfaces.surface_from_bulk(supercell_atoms, [0,0,0,-1], size=[3,3], vacuum=10)\n",
    "print(f\"pristine slab {len(slab)}\")"
   ]
  },
  {
   "cell_type": "code",
   "execution_count": 17,
   "metadata": {},
   "outputs": [],
   "source": [
    "select_positions = all_adsorbed.get_positions()[len(slab):]"
   ]
  },
  {
   "cell_type": "code",
   "execution_count": 18,
   "metadata": {},
   "outputs": [
    {
     "name": "stderr",
     "output_type": "stream",
     "text": [
      "/home/dux/miniconda3/envs/mlenv/lib/python3.8/site-packages/catkit/gen/surface.py:334: UserWarning: Your slab has no bulk atoms and may be too thin to identify surface atoms correctly. This may cause surface adsorption site identification to fail.\n",
      "  warnings.warn(\n",
      "INFO:Running with num_sweeps = 1, temp = 1, pot = 5, alpha = 0.99\n",
      "INFO:there are 36 atoms \n",
      "INFO:using slab calc None\n",
      "/home/dux/miniconda3/envs/mlenv/lib/python3.8/site-packages/catkit/gen/adsorption.py:60: VisibleDeprecationWarning: Creating an ndarray from ragged nested sequences (which is a list-or-tuple of lists-or-tuples-or ndarrays with different lengths or shapes) is deprecated. If you meant to do this, you must specify 'dtype=object' when creating the ndarray.\n",
      "  self.r1_topology = np.array(self.r1_topology)\n",
      "/home/dux/miniconda3/envs/mlenv/lib/python3.8/site-packages/catkit/gen/adsorption.py:61: VisibleDeprecationWarning: Creating an ndarray from ragged nested sequences (which is a list-or-tuple of lists-or-tuples-or ndarrays with different lengths or shapes) is deprecated. If you meant to do this, you must specify 'dtype=object' when creating the ndarray.\n",
      "  self.r2_topology = np.array(self.r2_topology)\n",
      "INFO:In pristine slab, there are a total of 95 sites\n"
     ]
    },
    {
     "name": "stdout",
     "output_type": "stream",
     "text": [
      "LAMMPS (10 Feb 2021)\n",
      "OMP_NUM_THREADS environment is not set. Defaulting to 1 thread. (src/comm.cpp:94)\n",
      "  using 1 OpenMP thread(s) per MPI task\n",
      "OMP_NUM_THREADS environment is not set. Defaulting to 1 thread. (src/comm.cpp:94)\n",
      "  using 1 OpenMP thread(s) per MPI task\n",
      "Reading data file ...\n",
      "  triclinic box = (0.0000000 0.0000000 0.0000000) to (9.6488702 8.3561667 23.265754) with tilt (4.8244351 0.0000000 0.0000000)\n",
      "  1 by 1 by 1 MPI processor grid\n",
      "  reading atoms ...\n",
      "  36 atoms\n",
      "  read_data CPU = 0.000 seconds\n",
      "36 atoms in group bulk\n",
      "Reading tersoff potential file /home/dux/surface_sampling/sgmc_surf/GaN/GaN_0001_3x3/runs1_temp1_adsatoms95_alpha0.99_20220518-142257/GaN.tersoff with DATE: 2007-10-22\n",
      "WARNING: Using 'neigh_modify every 1 delay 0 check yes' setting during minimization (src/min.cpp:188)\n",
      "Neighbor list info ...\n",
      "  update every 1 steps, delay 0 steps, check yes\n",
      "  max neighbors/atom: 2000, page size: 100000\n",
      "  master list distance cutoff = 5.1\n",
      "  ghost atom cutoff = 5.1\n",
      "  binsize = 2.55, bins = 6 4 10\n",
      "  1 neighbor lists, perpetual/occasional/extra = 1 0 0\n",
      "  (1) pair tersoff, perpetual\n",
      "      attributes: full, newton on\n",
      "      pair build: full/bin/atomonly\n",
      "      stencil: full/bin/3d\n",
      "      bin: standard\n",
      "Setting up cg style minimization ...\n",
      "  Unit style    : metal\n",
      "  Current step  : 0\n",
      "Per MPI rank memory allocation (min/avg/max) = 4.065 | 4.065 | 4.065 Mbytes\n",
      "Step Temp Press CPU Pxx Pyy Pzz Pxy Pxz Pyz KinEng PotEng TotEng Volume Lx Ly Lz Atoms \n",
      "       0                       0      -13704.07512509627                       0       -12937.3300060102      -12937.33000601031      -15237.56536326828  -3.701942808876886e-10   -8.43557459727684e-10  -2.897832280719202e-10                       0      -144.0586923519651      -144.0586923519651       1875.861159059373       9.648870209999998       8.356166719678891          23.26575391688       36 \n",
      "       1                       0      -13704.07512509659    0.000102996826171875      -12937.33000601063      -12937.33000601037      -15237.56536326878  -2.215096926623055e-10  -1.001345186007682e-09   -2.67025382935382e-10                       0       -144.058692351965       -144.058692351965       1875.861159059373       9.648870209999998       8.356166719678891          23.26575391688       36 \n",
      "Loop time of 0.000128031 on 1 procs for 1 steps with 36 atoms\n",
      "\n",
      "184.3% CPU use with 1 MPI tasks x 1 OpenMP threads\n",
      "\n",
      "Minimization stats:\n",
      "  Stopping criterion = search direction is not downhill\n",
      "  Energy initial, next-to-last, final = \n",
      "     -144.058692351965  -144.058692351965  -144.058692351965\n",
      "  Force two-norm initial, final = 0.0000000 0.0000000\n",
      "  Force max component initial, final = 0.0000000 0.0000000\n",
      "  Final line search alpha, max atom move = 0.0000000 0.0000000\n",
      "  Iterations, force evaluations = 1 0\n",
      "\n",
      "MPI task timing breakdown:\n",
      "Section |  min time  |  avg time  |  max time  |%varavg| %total\n",
      "---------------------------------------------------------------\n",
      "Pair    | 9.3937e-05 | 9.3937e-05 | 9.3937e-05 |   0.0 | 73.37\n",
      "Neigh   | 0          | 0          | 0          |   0.0 |  0.00\n",
      "Comm    | 1.9073e-06 | 1.9073e-06 | 1.9073e-06 |   0.0 |  1.49\n",
      "Output  | 0          | 0          | 0          |   0.0 |  0.00\n",
      "Modify  | 1.1921e-06 | 1.1921e-06 | 1.1921e-06 |   0.0 |  0.93\n",
      "Other   |            | 3.099e-05  |            |       | 24.21\n",
      "\n",
      "Nlocal:        36.0000 ave          36 max          36 min\n",
      "Histogram: 1 0 0 0 0 0 0 0 0 0\n",
      "Nghost:        134.000 ave         134 max         134 min\n",
      "Histogram: 1 0 0 0 0 0 0 0 0 0\n",
      "Neighs:         0.00000 ave           0 max           0 min\n",
      "Histogram: 1 0 0 0 0 0 0 0 0 0\n",
      "FullNghs:      1116.00 ave        1116 max        1116 min\n",
      "Histogram: 1 0 0 0 0 0 0 0 0 0\n",
      "\n",
      "Total # of neighbors = 1116\n",
      "Ave neighs/atom = 31.000000\n",
      "Neighbor list builds = 0\n",
      "Dangerous builds = 0\n",
      "System init for write_data ...\n",
      "_end of energy minimization_\n",
      "Total wall time: 0:00:00\n",
      "\n",
      "Total wall time: 0:00:00\n",
      "actual atomic numbers [31, 7, 31, 7, 31, 7, 31, 7, 31, 7, 31, 7, 31, 7, 31, 7, 31, 7, 31, 7, 31, 7, 31, 7, 31, 7, 31, 7, 31, 7, 31, 7, 31, 7, 31, 7]\n"
     ]
    },
    {
     "ename": "RuntimeError",
     "evalue": "Atoms object has no calculator.",
     "output_type": "error",
     "traceback": [
      "\u001b[0;31m---------------------------------------------------------------------------\u001b[0m",
      "\u001b[0;31mRuntimeError\u001b[0m                              Traceback (most recent call last)",
      "\u001b[1;32m/home/dux/surface_sampling/sgmc_surf/GaN/pymatgen_adsorption_sites.ipynb Cell 11'\u001b[0m in \u001b[0;36m<cell line: 29>\u001b[0;34m()\u001b[0m\n\u001b[1;32m     <a href='vscode-notebook-cell://ssh-remote%2Brafa-hartree/home/dux/surface_sampling/sgmc_surf/GaN/pymatgen_adsorption_sites.ipynb#ch0000008vscode-remote?line=26'>27</a>\u001b[0m \u001b[39m# try positive chem pot\u001b[39;00m\n\u001b[1;32m     <a href='vscode-notebook-cell://ssh-remote%2Brafa-hartree/home/dux/surface_sampling/sgmc_surf/GaN/pymatgen_adsorption_sites.ipynb#ch0000008vscode-remote?line=27'>28</a>\u001b[0m chem_pot \u001b[39m=\u001b[39m \u001b[39m5\u001b[39m\n\u001b[0;32m---> <a href='vscode-notebook-cell://ssh-remote%2Brafa-hartree/home/dux/surface_sampling/sgmc_surf/GaN/pymatgen_adsorption_sites.ipynb#ch0000008vscode-remote?line=28'>29</a>\u001b[0m history, energy_hist, frac_accept_hist, adsorption_count_hist \u001b[39m=\u001b[39m mcmc_run(num_sweeps\u001b[39m=\u001b[39;49mnum_sweeps, temp\u001b[39m=\u001b[39;49m\u001b[39m1\u001b[39;49m, pot\u001b[39m=\u001b[39;49mchem_pot, alpha\u001b[39m=\u001b[39;49malpha, slab\u001b[39m=\u001b[39;49mslab, calc\u001b[39m=\u001b[39;49m\u001b[39mNone\u001b[39;49;00m, surface_name\u001b[39m=\u001b[39;49msurface_name, element\u001b[39m=\u001b[39;49melement, canonical\u001b[39m=\u001b[39;49m\u001b[39mTrue\u001b[39;49;00m, num_ads_atoms\u001b[39m=\u001b[39;49mnum_ads_atoms, relax\u001b[39m=\u001b[39;49m\u001b[39mTrue\u001b[39;49;00m, ads_coords\u001b[39m=\u001b[39;49mselect_positions)\n",
      "File \u001b[0;32m~/surface_sampling/sgmc_surf/mcmc.py:719\u001b[0m, in \u001b[0;36mmcmc_run\u001b[0;34m(num_sweeps, temp, pot, alpha, slab, calc, surface_name, element, canonical, num_ads_atoms, ads_coords, testing, adsorbate, relax)\u001b[0m\n\u001b[1;32m    <a href='file:///home/dux/surface_sampling/sgmc_surf/mcmc.py?line=716'>717</a>\u001b[0m     \u001b[39m# perform grand canonical until num_ads_atoms are obtained\u001b[39;00m\n\u001b[1;32m    <a href='file:///home/dux/surface_sampling/sgmc_surf/mcmc.py?line=717'>718</a>\u001b[0m     \u001b[39mwhile\u001b[39;00m \u001b[39mlen\u001b[39m(slab) \u001b[39m<\u001b[39m pristine_atoms \u001b[39m+\u001b[39m num_ads_atoms:\n\u001b[0;32m--> <a href='file:///home/dux/surface_sampling/sgmc_surf/mcmc.py?line=718'>719</a>\u001b[0m         state, slab, energy, accept \u001b[39m=\u001b[39m spin_flip(state, slab, temp, \u001b[39m0\u001b[39;49m, ads_coords, connectivity, prev_energy\u001b[39m=\u001b[39;49menergy, save_cif\u001b[39m=\u001b[39;49m\u001b[39mFalse\u001b[39;49;00m, testing\u001b[39m=\u001b[39;49mtesting, folder_name\u001b[39m=\u001b[39;49mrun_folder, adsorbate\u001b[39m=\u001b[39;49melement, relax\u001b[39m=\u001b[39;49mrelax)\n\u001b[1;32m    <a href='file:///home/dux/surface_sampling/sgmc_surf/mcmc.py?line=720'>721</a>\u001b[0m     slab\u001b[39m.\u001b[39mwrite(\u001b[39mf\u001b[39m\u001b[39m'\u001b[39m\u001b[39m{\u001b[39;00msurface_name\u001b[39m}\u001b[39;00m\u001b[39m_canonical_init.cif\u001b[39m\u001b[39m'\u001b[39m)\n\u001b[1;32m    <a href='file:///home/dux/surface_sampling/sgmc_surf/mcmc.py?line=723'>724</a>\u001b[0m history \u001b[39m=\u001b[39m []\n",
      "File \u001b[0;32m~/surface_sampling/sgmc_surf/mcmc.py:372\u001b[0m, in \u001b[0;36mspin_flip\u001b[0;34m(state, slab, temp, pot, coords, connectivity, prev_energy, save_cif, iter, site_idx, testing, folder_name, adsorbate, relax)\u001b[0m\n\u001b[1;32m    <a href='file:///home/dux/surface_sampling/sgmc_surf/mcmc.py?line=369'>370</a>\u001b[0m \u001b[39mif\u001b[39;00m \u001b[39mnot\u001b[39;00m prev_energy:\n\u001b[1;32m    <a href='file:///home/dux/surface_sampling/sgmc_surf/mcmc.py?line=370'>371</a>\u001b[0m     \u001b[39mif\u001b[39;00m relax:\n\u001b[0;32m--> <a href='file:///home/dux/surface_sampling/sgmc_surf/mcmc.py?line=371'>372</a>\u001b[0m         prev_energy \u001b[39m=\u001b[39m slab_energy(slab, relax\u001b[39m=\u001b[39;49m\u001b[39mTrue\u001b[39;49;00m, folder_name\u001b[39m=\u001b[39;49mfolder_name)\n\u001b[1;32m    <a href='file:///home/dux/surface_sampling/sgmc_surf/mcmc.py?line=372'>373</a>\u001b[0m     \u001b[39melse\u001b[39;00m:\n\u001b[1;32m    <a href='file:///home/dux/surface_sampling/sgmc_surf/mcmc.py?line=373'>374</a>\u001b[0m         \u001b[39m# calculate energy of current state\u001b[39;00m\n\u001b[1;32m    <a href='file:///home/dux/surface_sampling/sgmc_surf/mcmc.py?line=374'>375</a>\u001b[0m         prev_energy \u001b[39m=\u001b[39m slab_energy(slab, folder_name\u001b[39m=\u001b[39mfolder_name)\n",
      "File \u001b[0;32m~/surface_sampling/sgmc_surf/mcmc.py:222\u001b[0m, in \u001b[0;36mslab_energy\u001b[0;34m(slab, relax, **kwargs)\u001b[0m\n\u001b[1;32m    <a href='file:///home/dux/surface_sampling/sgmc_surf/mcmc.py?line=218'>219</a>\u001b[0m     \u001b[39melse\u001b[39;00m:\n\u001b[1;32m    <a href='file:///home/dux/surface_sampling/sgmc_surf/mcmc.py?line=219'>220</a>\u001b[0m         slab \u001b[39m=\u001b[39m optimize_slab(slab)\n\u001b[0;32m--> <a href='file:///home/dux/surface_sampling/sgmc_surf/mcmc.py?line=221'>222</a>\u001b[0m \u001b[39mreturn\u001b[39;00m slab\u001b[39m.\u001b[39;49mget_potential_energy()\n",
      "File \u001b[0;32m~/miniconda3/envs/mlenv/lib/python3.8/site-packages/ase/atoms.py:726\u001b[0m, in \u001b[0;36mAtoms.get_potential_energy\u001b[0;34m(self, force_consistent, apply_constraint)\u001b[0m\n\u001b[1;32m    <a href='file:///home/dux/miniconda3/envs/mlenv/lib/python3.8/site-packages/ase/atoms.py?line=714'>715</a>\u001b[0m \u001b[39m\"\"\"Calculate potential energy.\u001b[39;00m\n\u001b[1;32m    <a href='file:///home/dux/miniconda3/envs/mlenv/lib/python3.8/site-packages/ase/atoms.py?line=715'>716</a>\u001b[0m \n\u001b[1;32m    <a href='file:///home/dux/miniconda3/envs/mlenv/lib/python3.8/site-packages/ase/atoms.py?line=716'>717</a>\u001b[0m \u001b[39mAsk the attached calculator to calculate the potential energy and\u001b[39;00m\n\u001b[0;32m   (...)\u001b[0m\n\u001b[1;32m    <a href='file:///home/dux/miniconda3/envs/mlenv/lib/python3.8/site-packages/ase/atoms.py?line=722'>723</a>\u001b[0m \u001b[39menergy) can be returned.\u001b[39;00m\n\u001b[1;32m    <a href='file:///home/dux/miniconda3/envs/mlenv/lib/python3.8/site-packages/ase/atoms.py?line=723'>724</a>\u001b[0m \u001b[39m\"\"\"\u001b[39;00m\n\u001b[1;32m    <a href='file:///home/dux/miniconda3/envs/mlenv/lib/python3.8/site-packages/ase/atoms.py?line=724'>725</a>\u001b[0m \u001b[39mif\u001b[39;00m \u001b[39mself\u001b[39m\u001b[39m.\u001b[39m_calc \u001b[39mis\u001b[39;00m \u001b[39mNone\u001b[39;00m:\n\u001b[0;32m--> <a href='file:///home/dux/miniconda3/envs/mlenv/lib/python3.8/site-packages/ase/atoms.py?line=725'>726</a>\u001b[0m     \u001b[39mraise\u001b[39;00m \u001b[39mRuntimeError\u001b[39;00m(\u001b[39m'\u001b[39m\u001b[39mAtoms object has no calculator.\u001b[39m\u001b[39m'\u001b[39m)\n\u001b[1;32m    <a href='file:///home/dux/miniconda3/envs/mlenv/lib/python3.8/site-packages/ase/atoms.py?line=726'>727</a>\u001b[0m \u001b[39mif\u001b[39;00m force_consistent:\n\u001b[1;32m    <a href='file:///home/dux/miniconda3/envs/mlenv/lib/python3.8/site-packages/ase/atoms.py?line=727'>728</a>\u001b[0m     energy \u001b[39m=\u001b[39m \u001b[39mself\u001b[39m\u001b[39m.\u001b[39m_calc\u001b[39m.\u001b[39mget_potential_energy(\n\u001b[1;32m    <a href='file:///home/dux/miniconda3/envs/mlenv/lib/python3.8/site-packages/ase/atoms.py?line=728'>729</a>\u001b[0m         \u001b[39mself\u001b[39m, force_consistent\u001b[39m=\u001b[39mforce_consistent)\n",
      "\u001b[0;31mRuntimeError\u001b[0m: Atoms object has no calculator."
     ]
    }
   ],
   "source": [
    "num_ads_atoms = 12 # needs to have so many atoms\n",
    "\n",
    "# try 2003 tersoff potential \n",
    "parameters = {\n",
    "    'pair_style': 'tersoff',\n",
    "    'pair_coeff': ['* * GaN.tersoff Ga N']\n",
    "}\n",
    "potential_file = os.path.join(os.environ[\"LAMMPS_POTENTIALS\"], 'GaN.tersoff')\n",
    "lammps_calc = LAMMPS(files=[potential_file], keep_tmp_files=False, keep_alive=False, tmp_dir=\"/home/dux/surface_sampling/tmp_files\")\n",
    "lammps_calc.set(**parameters)\n",
    "\n",
    "element = 'Ga'\n",
    "ads = ase.Atoms(element)\n",
    "\n",
    "# canonical with relaxation\n",
    "num_sweeps = 1\n",
    "surface_name = \"GaN_0001_3x3\"\n",
    "alpha = 0.99\n",
    "slab, surface_atoms = surfaces.surface_from_bulk(supercell_atoms, [0,0,0,-1], size=[3,3], vacuum=10)\n",
    "# set surface atoms from the other side\n",
    "all_atoms = np.arange(len(slab))\n",
    "curr_surf_atoms = slab.get_surface_atoms()\n",
    "new_surf_atoms = np.setdiff1d(all_atoms, curr_surf_atoms)\n",
    "slab.set_surface_atoms(new_surf_atoms)\n",
    "# invert the positions\n",
    "slab.set_scaled_positions(1 - slab.get_scaled_positions())\n",
    "\n",
    "# try positive chem pot\n",
    "chem_pot = 5\n",
    "history, energy_hist, frac_accept_hist, adsorption_count_hist = mcmc_run(num_sweeps=num_sweeps, temp=1, pot=chem_pot, alpha=alpha, slab=slab, calc=lammps_calc, surface_name=surface_name, element=element, canonical=True, num_ads_atoms=num_ads_atoms, relax=True, ads_coords=select_positions)"
   ]
  },
  {
   "cell_type": "code",
   "execution_count": null,
   "metadata": {},
   "outputs": [],
   "source": [
    "runs = range(1, num_runs+1)\n",
    "\n",
    "# do the plots\n",
    "fig, ax = plt.subplots(2, 2, figsize=(10, 8))\n",
    "ax[0, 0].plot(runs, energy_hist)\n",
    "ax[0, 0].set_xlabel(\"Iter\")\n",
    "ax[0, 0].set_ylabel(\"Energy (E)\")\n",
    "ax[0, 0].set_title(\"Energy (E) vs Sweeps\")\n",
    "\n",
    "ax[0, 1].plot(runs, frac_accept_hist)\n",
    "ax[0, 1].set_xlabel(\"Iter\")\n",
    "ax[0, 1].set_ylabel(\"Fraction accepted\")\n",
    "ax[0, 1].set_title(\"Fraction accepted vs Sweeps\")\n",
    "\n",
    "ax[1, 1].plot(runs, np.array(list(adsorption_count_hist.values())).T)\n",
    "ax[1, 1].set_xlabel(\"Iter\")\n",
    "ax[1, 1].set_ylabel(\"Adsorption count\")\n",
    "ax[1, 1].legend(adsorption_count_hist.keys())\n",
    "ax[1, 1].set_title(\"Adsorption count vs Iterations\")\n",
    "\n",
    "fig.show()\n",
    "fig.tight_layout()"
   ]
  }
 ],
 "metadata": {
  "interpreter": {
   "hash": "52c80ae8dd6c1a0bcd088a907455e2d267fd03a787ceaaaaeeff2a73233138b6"
  },
  "kernelspec": {
   "display_name": "Python 3.9.9 ('mlenv')",
   "language": "python",
   "name": "python3"
  },
  "language_info": {
   "codemirror_mode": {
    "name": "ipython",
    "version": 3
   },
   "file_extension": ".py",
   "mimetype": "text/x-python",
   "name": "python",
   "nbconvert_exporter": "python",
   "pygments_lexer": "ipython3",
   "version": "3.8.13"
  },
  "orig_nbformat": 4
 },
 "nbformat": 4,
 "nbformat_minor": 2
}
