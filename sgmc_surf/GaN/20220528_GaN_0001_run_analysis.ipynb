{
 "cells": [
  {
   "cell_type": "code",
   "execution_count": 5,
   "metadata": {},
   "outputs": [
    {
     "name": "stdout",
     "output_type": "stream",
     "text": [
      "energies = [-180.5237675050187, -180.2810327260585, -180.4598918433873, -180.5234157787911, -180.4607245780724]\n"
     ]
    }
   ],
   "source": [
    "import sys\n",
    "\n",
    "sys.path.append(\"/home/dux/\")\n",
    "sys.path.append(\"/home/dux/surface_sampling/sgmc_surf\")\n",
    "\n",
    "from ase.calculators.lammpsrun import LAMMPS\n",
    "from ase.io import read\n",
    "\n",
    "import mcmc\n",
    "import os\n",
    "\n",
    "final_cifs = [\n",
    "    \"/home/dux/surface_sampling/sgmc_surf/GaN/GaN_0001_3x3_12_Ga_ads_original_optim_arranged_slab.cif\",\n",
    "    \"/home/dux/surface_sampling/sgmc_surf/GaN/GaN_0001_3x3_pymatgen/runs500_temp2.0_adsatoms12_alpha0.99_20220527-183529/optim_slab_run_500.cif\",\n",
    "    \"/home/dux/surface_sampling/sgmc_surf/GaN/GaN_0001_3x3_pymatgen/runs500_temp2.0_adsatoms12_alpha0.99_20220527-183540/optim_slab_run_500.cif\",\n",
    "    \"/home/dux/surface_sampling/sgmc_surf/GaN/GaN_0001_3x3_pymatgen/runs500_temp2.0_adsatoms12_alpha0.99_20220527-183550/optim_slab_run_500.cif\",\n",
    "    \"/home/dux/surface_sampling/sgmc_surf/GaN/GaN_0001_3x3_pymatgen/runs500_temp2.0_adsatoms12_alpha0.99_20220527-183745/optim_slab_run_500.cif\",\n",
    "]\n",
    "\n",
    "slabs = [read(cif) for cif in final_cifs]\n",
    "\n",
    "# potential\n",
    "parameters = {\n",
    "    'pair_style': 'tersoff',\n",
    "    'pair_coeff': ['* * GaN.tersoff Ga N']\n",
    "}\n",
    "potential_file = os.path.join(os.environ[\"LAMMPS_POTENTIALS\"], 'GaN.tersoff')\n",
    "lammps_calc = LAMMPS(files=[potential_file], keep_tmp_files=False, keep_alive=False, tmp_dir=\"/home/dux/surface_sampling/tmp_files\")\n",
    "lammps_calc.set(**parameters)\n",
    "\n",
    "# set calc\n",
    "for slab in slabs:\n",
    "    slab.calc = lammps_calc\n",
    "\n",
    "energies = [slab.get_potential_energy() for slab in slabs]\n",
    "\n",
    "print(f\"energies = {energies}\")"
   ]
  },
  {
   "cell_type": "code",
   "execution_count": null,
   "metadata": {},
   "outputs": [],
   "source": []
  }
 ],
 "metadata": {
  "interpreter": {
   "hash": "e3e0723b7fd9866ee8f9ae4f62931968cf8456ef2195b337b8930ae9f61708cf"
  },
  "kernelspec": {
   "display_name": "Python 3.8.13 ('surface_sampling': conda)",
   "language": "python",
   "name": "python3"
  },
  "language_info": {
   "codemirror_mode": {
    "name": "ipython",
    "version": 3
   },
   "file_extension": ".py",
   "mimetype": "text/x-python",
   "name": "python",
   "nbconvert_exporter": "python",
   "pygments_lexer": "ipython3",
   "version": "3.8.13"
  },
  "orig_nbformat": 4
 },
 "nbformat": 4,
 "nbformat_minor": 2
}
