{
 "cells": [
  {
   "cell_type": "code",
   "execution_count": 1,
   "metadata": {},
   "outputs": [
    {
     "name": "stdout",
     "output_type": "stream",
     "text": [
      "energies = [-179.4118780753384, -179.5810961988868, -179.4651218516284, -179.6430142516041]\n"
     ]
    }
   ],
   "source": [
    "from ase.calculators.lammpsrun import LAMMPS\n",
    "from ase.io import read\n",
    "\n",
    "import mcmc\n",
    "import os\n",
    "\n",
    "final_cifs = [\n",
    "    \"/home/dux/surface_sampling/sgmc_Cu_surf/GaN_0001_3x3/runs300_temp1_adsatoms12_alpha0.99_20220427-1930/optim_slab_run_300.cif\",\n",
    "    \"/home/dux/surface_sampling/sgmc_Cu_surf/GaN_0001_3x3/runs300_temp1_adsatoms12_alpha0.99_20220427-2157/optim_slab_run_300.cif\",\n",
    "    \"/home/dux/surface_sampling/sgmc_Cu_surf/GaN_0001_3x3/runs300_temp1_adsatoms12_alpha0.99_20220428-1008/optim_slab_run_300.cif\",\n",
    "    \"/home/dux/surface_sampling/sgmc_Cu_surf/GaN_0001_3x3/runs300_temp1_adsatoms12_alpha0.99_20220428-1014/optim_slab_run_300.cif\"\n",
    "]\n",
    "\n",
    "slabs = [read(cif) for cif in final_cifs]\n",
    "\n",
    "# potential\n",
    "parameters = {\n",
    "    'pair_style': 'tersoff',\n",
    "    'pair_coeff': ['* * GaN.tersoff Ga N']\n",
    "}\n",
    "potential_file = os.path.join(os.environ[\"LAMMPS_POTENTIALS\"], 'GaN.sw')\n",
    "lammps_calc = LAMMPS(files=[potential_file], keep_tmp_files=False, keep_alive=False, tmp_dir=\"/home/dux/surface_sampling/tmp_files\")\n",
    "lammps_calc.set(**parameters)\n",
    "\n",
    "# set calc\n",
    "for slab in slabs:\n",
    "    slab.calc = lammps_calc\n",
    "\n",
    "energies = [slab.get_potential_energy() for slab in slabs]\n",
    "\n",
    "print(f\"energies = {energies}\")"
   ]
  },
  {
   "cell_type": "code",
   "execution_count": 4,
   "metadata": {},
   "outputs": [
    {
     "name": "stdout",
     "output_type": "stream",
     "text": [
      "distance btw lit optim and lit    (0.01287754772691926, 0.02094690414206456)\n",
      "distance btw lit optim and expt 1 (0.13092956831157618, 0.2168180678039432)\n",
      "distance btw lit optim and expt 2 (0.17833628843868046, 0.2549708663260898)\n",
      "distance btw lit optim and expt 3 (0.07925401710348659, 0.17252930728551777)\n",
      "distance btw lit optim and expt 4 (0.18830011333083602, 0.25013559902101234)\n"
     ]
    }
   ],
   "source": [
    "from pymatgen.analysis.structure_matcher import StructureMatcher\n",
    "from pymatgen.io.ase import AseAtomsAdaptor\n",
    "\n",
    "pristine_slab = read(\"GaN_0001_3x3_pristine_slab.cif\")\n",
    "num_bulk_atoms = len(pristine_slab)\n",
    "\n",
    "# just the adsorbates\n",
    "lit_slab = read(\"GaN_0001_3x3_12_Ga_ads_arranged_slab.cif\")[num_bulk_atoms:]\n",
    "lit_optim_slab = read(\"GaN_0001_3x3_12_Ga_ads_original_optim_arranged_slab.cif\")[num_bulk_atoms:]\n",
    "\n",
    "lit_pmg = AseAtomsAdaptor.get_structure(lit_slab)\n",
    "lit_optim_pmg = AseAtomsAdaptor.get_structure(lit_optim_slab)\n",
    "expt_optim_pmgs = [AseAtomsAdaptor.get_structure(slab)[num_bulk_atoms:] for slab in slabs]\n",
    "\n",
    "struc_matcher = StructureMatcher(primitive_cell=False)\n",
    "'''\n",
    "Returns:\n",
    "    rms displacement normalized by (Vol / nsites) ** (1/3) and maximum distance between paired sites.\n",
    "    If no matching lattice is found None is returned.\n",
    "'''\n",
    "print(f\"distance btw lit optim and lit    {struc_matcher.get_rms_dist(lit_optim_pmg, lit_pmg)}\")\n",
    "for i, pmg in enumerate(expt_optim_pmgs):\n",
    "    print(f\"distance btw lit optim and expt {i+1} {struc_matcher.get_rms_dist(lit_optim_pmg, pmg)}\")"
   ]
  },
  {
   "cell_type": "code",
   "execution_count": null,
   "metadata": {},
   "outputs": [],
   "source": []
  }
 ],
 "metadata": {
  "interpreter": {
   "hash": "52c80ae8dd6c1a0bcd088a907455e2d267fd03a787ceaaaaeeff2a73233138b6"
  },
  "kernelspec": {
   "display_name": "Python 3.9.9 ('mlenv')",
   "language": "python",
   "name": "python3"
  },
  "language_info": {
   "codemirror_mode": {
    "name": "ipython",
    "version": 3
   },
   "file_extension": ".py",
   "mimetype": "text/x-python",
   "name": "python",
   "nbconvert_exporter": "python",
   "pygments_lexer": "ipython3",
   "version": "3.9.9"
  },
  "orig_nbformat": 4
 },
 "nbformat": 4,
 "nbformat_minor": 2
}
