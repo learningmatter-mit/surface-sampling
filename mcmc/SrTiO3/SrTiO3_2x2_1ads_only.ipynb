{
 "cells": [
  {
   "cell_type": "code",
   "execution_count": 1,
   "metadata": {},
   "outputs": [],
   "source": [
    "import sys\n",
    "sys.path.append(\"/home/dux/\")\n",
    "sys.path.append(\"/home/dux/surface_sampling/mcmc\")\n",
    "\n",
    "from ase.build import make_supercell\n",
    "from ase.io import read, write\n",
    "\n",
    "import catkit\n",
    "from catkit.gen.adsorption import get_adsorption_sites\n",
    "\n",
    "from mcmc import mcmc_run\n",
    "import os\n",
    "import numpy as np\n",
    "\n",
    "os.environ[\"PROJECT_DIR\"] = os.getcwd()"
   ]
  },
  {
   "cell_type": "code",
   "execution_count": 2,
   "metadata": {},
   "outputs": [],
   "source": [
    "# SrTiO3 from HTVS db\n",
    "import sys\n",
    "import os\n",
    "import django\n",
    "import numpy as np\n",
    "# from tqdm import tqdm\n",
    "# import pandas as pd\n",
    "# import pickle as pkl\n",
    "sys.path.append('/home/dux/htvs/')\n",
    "sys.path.append('/home/dux/htvs/djangochem/')\n",
    "\n",
    "#from imports import *\n",
    "#from django_imports import *\n",
    "# from pymatgen.core.periodic_table import Element\n",
    "# from chemconfigs.vasp.defaults import Magmom\n",
    "# from ase.visualize import view\n",
    "\n",
    "# setup the django settings file.  Change this to use the settings file that connects you to your desired database\n",
    "os.environ[\"DJANGO_SETTINGS_MODULE\"] = \"djangochem.settings.orgel\"\n",
    "os.environ[\"DJANGO_ALLOW_ASYNC_UNSAFE\"] = \"true\"  # CAUTION!!! LINE NECESSARY WHEN INTERACTING WITH DATABASE IN JUPYTER NOTEBOOK. DO NOT USE THIS LINE IF YOU ARE PLANNING ON SAVING/REMOVING THINGS FROM THE DATABASE!!!!!\n",
    "\n",
    "# this must be run to setup access to the django settings and make database access work etc.\n",
    "django.setup()\n",
    "# from jobs.models import Job, JobConfig\n",
    "# from django.contrib.contenttypes.models import ContentType\n",
    "# from ase.io import write\n",
    "\n",
    "from pgmols.models import Surface\n",
    "# from analysis.structure.perovskite import PerovskiteAnalyzer\n",
    "# from pymatgen.core.periodic_table import Element\n",
    "\n",
    "unit_slab = Surface.objects.get(id=217485271).as_ase_gratoms()\n",
    "unit_slab.write('SrTiO3_001_pristine_slab.cif')\n",
    "\n",
    "# get supercell\n",
    "# multiplier = np.diag([2, 2, 1])\n",
    "# slab = make_supercell(unit_slab, multiplier)\n",
    "slab = unit_slab*(2,2,1)\n",
    "slab.write('SrTiO3_001_2x2_pristine_slab.cif')"
   ]
  },
  {
   "cell_type": "code",
   "execution_count": 3,
   "metadata": {},
   "outputs": [],
   "source": [
    "# Pymatgen adsorption sites for InGaN\n",
    "from pymatgen.analysis.adsorption import AdsorbateSiteFinder\n",
    "from pymatgen.io.ase import AseAtomsAdaptor\n",
    "\n",
    "from ase.io import read, write\n",
    "\n",
    "pristine_slab = slab\n",
    "pristine_pmg_slab = AseAtomsAdaptor.get_structure(pristine_slab)\n",
    "site_finder = AdsorbateSiteFinder(pristine_pmg_slab)\n",
    "# AdsorbateSiteFinder(slab, selective_dynamics=False, height=0.9, mi_vec=None)\n",
    "sites = site_finder.find_adsorption_sites(put_inside=False, symm_reduce=False)\n",
    "# find_adsorption_sites(distance=2.0, put_inside=True, symm_reduce=0.01, near_reduce=0.01, positions=['ontop', 'bridge', 'hollow'], no_obtuse_hollow=True)"
   ]
  },
  {
   "cell_type": "code",
   "execution_count": 4,
   "metadata": {},
   "outputs": [
    {
     "name": "stdout",
     "output_type": "stream",
     "text": [
      "ontop sites has total 12\n",
      "bridge sites has total 36\n",
      "hollow sites has total 16\n",
      "all sites has total 64\n"
     ]
    }
   ],
   "source": [
    "for type in sites.keys():\n",
    "    print(f\"{type} sites has total {len(sites[type])}\")"
   ]
  },
  {
   "cell_type": "code",
   "execution_count": 5,
   "metadata": {},
   "outputs": [],
   "source": [
    "ads_positions = sites['all']\n",
    "# print(f\"adsorption coordinates are\")\n",
    "# print(ads_positions)\n",
    "# take just the first 18 sites after inspection\n",
    "# select_positions = ads_positions[:18]\n",
    "\n",
    "# take all positions\n",
    "select_positions = ads_positions"
   ]
  },
  {
   "cell_type": "code",
   "execution_count": 6,
   "metadata": {},
   "outputs": [],
   "source": [
    "# adsorb onto the sites\n",
    "from pymatgen.core.structure import Molecule\n",
    "ads_mol = Molecule(['O'], [[0,0,0]])\n",
    "for ads_coord in select_positions:\n",
    "    slab = site_finder.add_adsorbate(ads_mol, ads_coord, repeat=None, translate=False, reorient=False)\n",
    "    site_finder.slab = slab\n",
    "\n",
    "from pymatgen.io.cif import CifWriter\n",
    "# write out slab\n",
    "cif_slab = CifWriter(site_finder.slab)\n",
    "# cif_slab.write_file(\"pymatgen_SrTiO3_001_4x4_O_all_adsorbed_slab.cif\")\n",
    "cif_slab.write_file(\"pymatgen_SrTiO3_001_2x2_O_all_adsorbed_slab.cif\")"
   ]
  },
  {
   "cell_type": "code",
   "execution_count": 16,
   "metadata": {},
   "outputs": [
    {
     "name": "stdout",
     "output_type": "stream",
     "text": [
      "all adsorbed 124\n"
     ]
    }
   ],
   "source": [
    "all_adsorbed = read(\"pymatgen_SrTiO3_001_2x2_O_all_adsorbed_slab.cif\")\n",
    "print(f\"all adsorbed {len(all_adsorbed)}\")\n",
    "\n",
    "select_positions = all_adsorbed.get_positions()[len(slab):]"
   ]
  },
  {
   "cell_type": "code",
   "execution_count": 18,
   "metadata": {},
   "outputs": [],
   "source": [
    "element = 'O'\n",
    "ads = catkit.gratoms.Gratoms(element)"
   ]
  },
  {
   "cell_type": "markdown",
   "metadata": {},
   "source": [
    "2x2 superslab"
   ]
  },
  {
   "cell_type": "code",
   "execution_count": 21,
   "metadata": {},
   "outputs": [
    {
     "name": "stdout",
     "output_type": "stream",
     "text": [
      "going for 37 atoms\n"
     ]
    }
   ],
   "source": [
    "# do from 36 to 48 oxygen atoms\n",
    "# so add a pristine slab\n",
    "start_atoms = 36\n",
    "end_atoms = 48\n",
    "step = 1\n",
    "scaling = (2,2,1)\n",
    "num_sweeps = 20\n",
    "\n",
    "# for i in range(start_atoms+step, end_atoms, step):\n",
    "i = start_atoms+1 # try just 1 O adsorbate\n",
    "print(f\"going for {i} atoms\")\n",
    "num_ads_atoms =  i - start_atoms # for canonical runs\n",
    "alpha = 1\n",
    "slab = unit_slab*scaling\n",
    "surface_name = f\"pymatgen_SrTiO3_001_2x2\"\n",
    "\n",
    "ads_positions = select_positions\n",
    "\n",
    "history, energy_hist, frac_accept_hist, adsorption_count_hist = mcmc_run(num_sweeps=num_sweeps, temp=1, pot=0, alpha=alpha, slab=slab, calc=None, testing=True, surface_name=surface_name, element=element, canonical=True, ads_coords=ads_positions, num_ads_atoms=num_ads_atoms)"
   ]
  },
  {
   "cell_type": "markdown",
   "metadata": {},
   "source": [
    "For 2x2 collate atoms"
   ]
  },
  {
   "cell_type": "code",
   "execution_count": 22,
   "metadata": {},
   "outputs": [
    {
     "name": "stdout",
     "output_type": "stream",
     "text": [
      "['pymatgen_SrTiO3_001_2x2/runs20_temp1_adsatoms01_alpha1_20220628-190920']\n"
     ]
    }
   ],
   "source": [
    "import glob\n",
    "# collate items\n",
    "# for 2x2\n",
    "# structure_folders = glob.glob(\"pymatgen_SrTiO3_001_4x4/runs100_temp1_adsatoms??_alpha1*\")\n",
    "structure_folders = glob.glob(\"pymatgen_SrTiO3_001_2x2/runs20_temp1_adsatoms??_alpha1*\")\n",
    "structure_folders.sort()\n",
    "print(structure_folders)\n",
    "assert len(structure_folders) == 1"
   ]
  },
  {
   "cell_type": "code",
   "execution_count": 23,
   "metadata": {},
   "outputs": [
    {
     "name": "stdout",
     "output_type": "stream",
     "text": [
      "['pymatgen_SrTiO3_001_2x2/runs20_temp1_adsatoms01_alpha1_20220628-190920/final_slab_run_001.cif', 'pymatgen_SrTiO3_001_2x2/runs20_temp1_adsatoms01_alpha1_20220628-190920/final_slab_run_002.cif', 'pymatgen_SrTiO3_001_2x2/runs20_temp1_adsatoms01_alpha1_20220628-190920/final_slab_run_003.cif', 'pymatgen_SrTiO3_001_2x2/runs20_temp1_adsatoms01_alpha1_20220628-190920/final_slab_run_004.cif', 'pymatgen_SrTiO3_001_2x2/runs20_temp1_adsatoms01_alpha1_20220628-190920/final_slab_run_005.cif', 'pymatgen_SrTiO3_001_2x2/runs20_temp1_adsatoms01_alpha1_20220628-190920/final_slab_run_006.cif', 'pymatgen_SrTiO3_001_2x2/runs20_temp1_adsatoms01_alpha1_20220628-190920/final_slab_run_007.cif', 'pymatgen_SrTiO3_001_2x2/runs20_temp1_adsatoms01_alpha1_20220628-190920/final_slab_run_008.cif', 'pymatgen_SrTiO3_001_2x2/runs20_temp1_adsatoms01_alpha1_20220628-190920/final_slab_run_009.cif', 'pymatgen_SrTiO3_001_2x2/runs20_temp1_adsatoms01_alpha1_20220628-190920/final_slab_run_010.cif', 'pymatgen_SrTiO3_001_2x2/runs20_temp1_adsatoms01_alpha1_20220628-190920/final_slab_run_011.cif', 'pymatgen_SrTiO3_001_2x2/runs20_temp1_adsatoms01_alpha1_20220628-190920/final_slab_run_012.cif', 'pymatgen_SrTiO3_001_2x2/runs20_temp1_adsatoms01_alpha1_20220628-190920/final_slab_run_013.cif', 'pymatgen_SrTiO3_001_2x2/runs20_temp1_adsatoms01_alpha1_20220628-190920/final_slab_run_014.cif', 'pymatgen_SrTiO3_001_2x2/runs20_temp1_adsatoms01_alpha1_20220628-190920/final_slab_run_015.cif', 'pymatgen_SrTiO3_001_2x2/runs20_temp1_adsatoms01_alpha1_20220628-190920/final_slab_run_016.cif', 'pymatgen_SrTiO3_001_2x2/runs20_temp1_adsatoms01_alpha1_20220628-190920/final_slab_run_017.cif', 'pymatgen_SrTiO3_001_2x2/runs20_temp1_adsatoms01_alpha1_20220628-190920/final_slab_run_018.cif', 'pymatgen_SrTiO3_001_2x2/runs20_temp1_adsatoms01_alpha1_20220628-190920/final_slab_run_019.cif', 'pymatgen_SrTiO3_001_2x2/runs20_temp1_adsatoms01_alpha1_20220628-190920/final_slab_run_020.cif']\n"
     ]
    }
   ],
   "source": [
    "folder = structure_folders[0]\n",
    "ads_slabs = glob.glob(folder+\"/*\")\n",
    "ads_slabs.sort()\n",
    "print(ads_slabs)"
   ]
  },
  {
   "cell_type": "code",
   "execution_count": 24,
   "metadata": {},
   "outputs": [
    {
     "name": "stdout",
     "output_type": "stream",
     "text": [
      "move from pymatgen_SrTiO3_001_2x2/runs20_temp1_adsatoms01_alpha1_20220628-190920/final_slab_run_001.cif to pymatgen_SrTiO3_001_2x2/20_random/slab_001.cif\n",
      "move from pymatgen_SrTiO3_001_2x2/runs20_temp1_adsatoms01_alpha1_20220628-190920/final_slab_run_002.cif to pymatgen_SrTiO3_001_2x2/20_random/slab_002.cif\n",
      "move from pymatgen_SrTiO3_001_2x2/runs20_temp1_adsatoms01_alpha1_20220628-190920/final_slab_run_003.cif to pymatgen_SrTiO3_001_2x2/20_random/slab_003.cif\n",
      "move from pymatgen_SrTiO3_001_2x2/runs20_temp1_adsatoms01_alpha1_20220628-190920/final_slab_run_004.cif to pymatgen_SrTiO3_001_2x2/20_random/slab_004.cif\n",
      "move from pymatgen_SrTiO3_001_2x2/runs20_temp1_adsatoms01_alpha1_20220628-190920/final_slab_run_005.cif to pymatgen_SrTiO3_001_2x2/20_random/slab_005.cif\n",
      "move from pymatgen_SrTiO3_001_2x2/runs20_temp1_adsatoms01_alpha1_20220628-190920/final_slab_run_006.cif to pymatgen_SrTiO3_001_2x2/20_random/slab_006.cif\n",
      "move from pymatgen_SrTiO3_001_2x2/runs20_temp1_adsatoms01_alpha1_20220628-190920/final_slab_run_007.cif to pymatgen_SrTiO3_001_2x2/20_random/slab_007.cif\n",
      "move from pymatgen_SrTiO3_001_2x2/runs20_temp1_adsatoms01_alpha1_20220628-190920/final_slab_run_008.cif to pymatgen_SrTiO3_001_2x2/20_random/slab_008.cif\n",
      "move from pymatgen_SrTiO3_001_2x2/runs20_temp1_adsatoms01_alpha1_20220628-190920/final_slab_run_009.cif to pymatgen_SrTiO3_001_2x2/20_random/slab_009.cif\n",
      "move from pymatgen_SrTiO3_001_2x2/runs20_temp1_adsatoms01_alpha1_20220628-190920/final_slab_run_010.cif to pymatgen_SrTiO3_001_2x2/20_random/slab_010.cif\n",
      "move from pymatgen_SrTiO3_001_2x2/runs20_temp1_adsatoms01_alpha1_20220628-190920/final_slab_run_011.cif to pymatgen_SrTiO3_001_2x2/20_random/slab_011.cif\n",
      "move from pymatgen_SrTiO3_001_2x2/runs20_temp1_adsatoms01_alpha1_20220628-190920/final_slab_run_012.cif to pymatgen_SrTiO3_001_2x2/20_random/slab_012.cif\n",
      "move from pymatgen_SrTiO3_001_2x2/runs20_temp1_adsatoms01_alpha1_20220628-190920/final_slab_run_013.cif to pymatgen_SrTiO3_001_2x2/20_random/slab_013.cif\n",
      "move from pymatgen_SrTiO3_001_2x2/runs20_temp1_adsatoms01_alpha1_20220628-190920/final_slab_run_014.cif to pymatgen_SrTiO3_001_2x2/20_random/slab_014.cif\n",
      "move from pymatgen_SrTiO3_001_2x2/runs20_temp1_adsatoms01_alpha1_20220628-190920/final_slab_run_015.cif to pymatgen_SrTiO3_001_2x2/20_random/slab_015.cif\n",
      "move from pymatgen_SrTiO3_001_2x2/runs20_temp1_adsatoms01_alpha1_20220628-190920/final_slab_run_016.cif to pymatgen_SrTiO3_001_2x2/20_random/slab_016.cif\n",
      "move from pymatgen_SrTiO3_001_2x2/runs20_temp1_adsatoms01_alpha1_20220628-190920/final_slab_run_017.cif to pymatgen_SrTiO3_001_2x2/20_random/slab_017.cif\n",
      "move from pymatgen_SrTiO3_001_2x2/runs20_temp1_adsatoms01_alpha1_20220628-190920/final_slab_run_018.cif to pymatgen_SrTiO3_001_2x2/20_random/slab_018.cif\n",
      "move from pymatgen_SrTiO3_001_2x2/runs20_temp1_adsatoms01_alpha1_20220628-190920/final_slab_run_019.cif to pymatgen_SrTiO3_001_2x2/20_random/slab_019.cif\n",
      "move from pymatgen_SrTiO3_001_2x2/runs20_temp1_adsatoms01_alpha1_20220628-190920/final_slab_run_020.cif to pymatgen_SrTiO3_001_2x2/20_random/slab_020.cif\n"
     ]
    }
   ],
   "source": [
    "# slabs = [\"final_slab_run_010.cif\", \"final_slab_run_030.cif\", \"final_slab_run_050.cif\", \"final_slab_run_070.cif\", \"final_slab_run_090.cif\"]\n",
    "# ads_slabs = []\n",
    "# for f in structure_folders:\n",
    "#     for slab in slabs:\n",
    "#         ads_slabs.append(os.path.join(f, slab))\n",
    "\n",
    "import shutil\n",
    "collate_path = \"pymatgen_SrTiO3_001_2x2/20_random\"\n",
    "if not os.path.exists(collate_path):\n",
    "    os.makedirs(collate_path)\n",
    "for i, slab in enumerate(ads_slabs):\n",
    "    move_path = os.path.join(collate_path, f\"slab_{i+1:03}.cif\")\n",
    "    print(f\"move from {slab} to {move_path}\")\n",
    "    shutil.copy2(slab, move_path)"
   ]
  },
  {
   "cell_type": "markdown",
   "metadata": {},
   "source": [
    "Check slabs to make sure they are distinct"
   ]
  },
  {
   "cell_type": "code",
   "execution_count": 25,
   "metadata": {},
   "outputs": [],
   "source": [
    "from ase.utils.structure_comparator import SymmetryEquivalenceCheck\n",
    "comp = SymmetryEquivalenceCheck()\n",
    "import pickle\n",
    "import glob"
   ]
  },
  {
   "cell_type": "code",
   "execution_count": 26,
   "metadata": {},
   "outputs": [
    {
     "name": "stdout",
     "output_type": "stream",
     "text": [
      "[0, 0, 0, 0, 0, 0, 0, 1, 1, 0, 0, 0, 0, 0, 1, 0, 0, 0, 0, 0, 0, 0, 1, 1, 0, 0, 0, 0, 0, 1, 0, 0, 0, 0, 0, 0, 0, 1, 1, 0, 0, 0, 0, 0, 1, 0, 0, 0, 0, 0, 0, 0, 1, 1, 0, 0, 0, 0, 0, 1]\n"
     ]
    },
    {
     "data": {
      "text/plain": [
       "[(0, 7),\n",
       " (0, 13),\n",
       " (1, 6),\n",
       " (1, 11),\n",
       " (1, 18),\n",
       " (3, 5),\n",
       " (3, 10),\n",
       " (3, 12),\n",
       " (3, 16),\n",
       " (5, 10),\n",
       " (5, 12),\n",
       " (5, 16),\n",
       " (6, 11),\n",
       " (6, 18),\n",
       " (7, 13),\n",
       " (8, 19),\n",
       " (9, 17),\n",
       " (10, 12),\n",
       " (10, 16),\n",
       " (11, 18),\n",
       " (12, 16),\n",
       " (14, 15)]"
      ]
     },
     "execution_count": 26,
     "metadata": {},
     "output_type": "execute_result"
    }
   ],
   "source": [
    "# load 2x2 structures\n",
    "slab_paths = glob.glob(\"pymatgen_SrTiO3_001_2x2/20_random/*\")\n",
    "slab_paths.sort()\n",
    "slabs = [read(x) for x in slab_paths]\n",
    "\n",
    "# before tagging\n",
    "slabs[1].write(\"pymatgen_SrTiO3_001_2x2_1ads_before_tagging.cif\") # check for shifted cells\n",
    "\n",
    "# set tags; 1 for surface atoms, 2 for adsorbates, 0 for others\n",
    "superslab = unit_slab*(2,2,1)\n",
    "surface_atoms = superslab.get_surface_atoms()\n",
    "atoms_arr = np.arange(0, len(superslab))\n",
    "base_tags = np.int8(np.isin(atoms_arr, surface_atoms)).tolist()\n",
    "print(base_tags)\n",
    "for slab in slabs:\n",
    "    num_ads_atoms = len(slab) - len(superslab)\n",
    "    tags = list(base_tags)\n",
    "    tags.extend([2]*num_ads_atoms)\n",
    "    slab.set_tags(tags)\n",
    "\n",
    "# after tagging\n",
    "slabs[1].write(\"pymatgen_SrTiO3_001_2x2_1ads_after_tagging.cif\") # check for shifted cells\n",
    "\n",
    "# run only once\n",
    "equivalent_slab = []\n",
    "for i in range(len(slabs)):\n",
    "    for j in range(i+1, len(slabs)):\n",
    "        if comp.compare(slabs[i], slabs[j]):\n",
    "            equivalent_slab.append((i,j))\n",
    "\n",
    "equivalent_slab\n",
    "# so exclude 1 and 2"
   ]
  },
  {
   "cell_type": "code",
   "execution_count": 28,
   "metadata": {},
   "outputs": [
    {
     "name": "stdout",
     "output_type": "stream",
     "text": [
      "slab length 53\n"
     ]
    }
   ],
   "source": [
    "chosen_slabs = slabs.copy()\n",
    "del chosen_slabs[1]\n",
    "del chosen_slabs[1]\n",
    "assert len(chosen_slabs) == len(slabs) - 2\n",
    "\n",
    "print(f\"slab length {len(chosen_slabs)}\")\n",
    "with open(\"pymatgen_SrTiO3_001_4x4_O_ads_slabs.pkl\", \"wb\") as f:\n",
    "    pickle.dump(chosen_slabs, f)"
   ]
  },
  {
   "cell_type": "code",
   "execution_count": 29,
   "metadata": {},
   "outputs": [],
   "source": [
    "# check slabs are doing ok\n",
    "# load pkl file\n",
    "import pickle\n",
    "with open(\"SrTiO3_001_2x2_O_ads_slabs.pkl\", 'rb') as f:\n",
    "    cell_2x2 = pickle.load(f)\n",
    "    cell_2x2[0].write(\"SrTiO3_001_2x2_pris_from_pkl.cif\")\n",
    "    cell_2x2[1].write(\"SrTiO3_001_2x2_1ads_from_pkl.cif\")\n",
    "    cell_2x2[-1].write(\"SrTiO3_001_2x2_moreads_from_pkl.cif\")"
   ]
  },
  {
   "cell_type": "code",
   "execution_count": 30,
   "metadata": {},
   "outputs": [
    {
     "name": "stdout",
     "output_type": "stream",
     "text": [
      "[0, 0, 0, 0, 0, 0, 0, 1, 1, 0, 0, 0, 0, 0, 1, 0, 0, 0, 0, 0, 0, 0, 1, 1, 0, 0, 0, 0, 0, 1, 0, 0, 0, 0, 0, 0, 0, 1, 1, 0, 0, 0, 0, 0, 1, 0, 0, 0, 0, 0, 0, 0, 1, 1, 0, 0, 0, 0, 0, 1, 0, 0, 0, 0, 0, 0, 0, 1, 1, 0, 0, 0, 0, 0, 1, 0, 0, 0, 0, 0, 0, 0, 1, 1, 0, 0, 0, 0, 0, 1, 0, 0, 0, 0, 0, 0, 0, 1, 1, 0, 0, 0, 0, 0, 1, 0, 0, 0, 0, 0, 0, 0, 1, 1, 0, 0, 0, 0, 0, 1, 0, 0, 0, 0, 0, 0, 0, 1, 1, 0, 0, 0, 0, 0, 1]\n"
     ]
    }
   ],
   "source": [
    "# load 3x3 structures\n",
    "slab_paths = glob.glob(\"SrTiO3_001_3x3_filtered/collated/*\")\n",
    "slab_paths.sort()\n",
    "slabs = [read(x) for x in slab_paths]\n",
    "# set tags; 1 for surface atoms, 2 for adsorbates, 0 for others\n",
    "superslab = unit_slab*(3,3,1)\n",
    "surface_atoms = superslab.get_surface_atoms()\n",
    "atoms_arr = np.arange(0, len(superslab))\n",
    "base_tags = np.int8(np.isin(atoms_arr, surface_atoms)).tolist()\n",
    "print(base_tags)\n",
    "for slab in slabs:\n",
    "    num_ads_atoms = len(slab) - len(superslab)\n",
    "    tags = list(base_tags)\n",
    "    tags.extend([2]*num_ads_atoms)\n",
    "    slab.set_tags(tags)\n",
    "\n",
    "# run only once\n",
    "# equivalent_slab = []\n",
    "# for i in range(len(slabs)):\n",
    "#     for j in range(i+1, len(slabs)):\n",
    "#         if comp.compare(slabs[i], slabs[j]):\n",
    "#             equivalent_slab.append((i,j))\n",
    "\n",
    "# equivalent_slab\n",
    "# so exclude 1"
   ]
  },
  {
   "cell_type": "code",
   "execution_count": 31,
   "metadata": {},
   "outputs": [
    {
     "name": "stdout",
     "output_type": "stream",
     "text": [
      "slab length 51\n"
     ]
    }
   ],
   "source": [
    "chosen_slabs = slabs.copy()\n",
    "del chosen_slabs[1]\n",
    "assert len(chosen_slabs) == len(slabs) - 1\n",
    "\n",
    "print(f\"slab length {len(chosen_slabs)}\")\n",
    "with open(\"SrTiO3_001_3x3_O_ads_slabs.pkl\", \"wb\") as f:\n",
    "    pickle.dump(chosen_slabs, f)"
   ]
  },
  {
   "cell_type": "code",
   "execution_count": 32,
   "metadata": {},
   "outputs": [],
   "source": [
    "# check slabs are doing ok\n",
    "# load pkl file\n",
    "import pickle\n",
    "with open(\"SrTiO3_001_3x3_O_ads_slabs.pkl\", 'rb') as f:\n",
    "    cell_3x3 = pickle.load(f)\n",
    "    cell_3x3[0].write(\"SrTiO3_001_3x3_pris_from_pkl.cif\")\n",
    "    cell_3x3[1].write(\"SrTiO3_001_3x3_1ads_from_pkl.cif\")\n",
    "    cell_3x3[-1].write(\"SrTiO3_001_3x3_moreads_from_pkl.cif\")"
   ]
  },
  {
   "cell_type": "code",
   "execution_count": 33,
   "metadata": {},
   "outputs": [
    {
     "name": "stdout",
     "output_type": "stream",
     "text": [
      "[0, 0, 0, 0, 0, 0, 0, 1, 1, 0, 0, 0, 0, 0, 1, 0, 0, 0, 0, 0, 0, 0, 1, 1, 0, 0, 0, 0, 0, 1, 0, 0, 0, 0, 0, 0, 0, 1, 1, 0, 0, 0, 0, 0, 1, 0, 0, 0, 0, 0, 0, 0, 1, 1, 0, 0, 0, 0, 0, 1, 0, 0, 0, 0, 0, 0, 0, 1, 1, 0, 0, 0, 0, 0, 1, 0, 0, 0, 0, 0, 0, 0, 1, 1, 0, 0, 0, 0, 0, 1, 0, 0, 0, 0, 0, 0, 0, 1, 1, 0, 0, 0, 0, 0, 1, 0, 0, 0, 0, 0, 0, 0, 1, 1, 0, 0, 0, 0, 0, 1, 0, 0, 0, 0, 0, 0, 0, 1, 1, 0, 0, 0, 0, 0, 1, 0, 0, 0, 0, 0, 0, 0, 1, 1, 0, 0, 0, 0, 0, 1, 0, 0, 0, 0, 0, 0, 0, 1, 1, 0, 0, 0, 0, 0, 1, 0, 0, 0, 0, 0, 0, 0, 1, 1, 0, 0, 0, 0, 0, 1, 0, 0, 0, 0, 0, 0, 0, 1, 1, 0, 0, 0, 0, 0, 1, 0, 0, 0, 0, 0, 0, 0, 1, 1, 0, 0, 0, 0, 0, 1, 0, 0, 0, 0, 0, 0, 0, 1, 1, 0, 0, 0, 0, 0, 1, 0, 0, 0, 0, 0, 0, 0, 1, 1, 0, 0, 0, 0, 0, 1]\n",
      "slab length 23\n"
     ]
    }
   ],
   "source": [
    "# load 4x4 structures\n",
    "slab_paths = glob.glob(\"SrTiO3_001_4x4_filtered/collated/*\")\n",
    "slab_paths.sort()\n",
    "slabs = [read(x) for x in slab_paths]\n",
    "# set tags; 1 for surface atoms, 2 for adsorbates, 0 for others\n",
    "superslab = unit_slab*(4,4,1)\n",
    "surface_atoms = superslab.get_surface_atoms()\n",
    "atoms_arr = np.arange(0, len(superslab))\n",
    "base_tags = np.int8(np.isin(atoms_arr, surface_atoms)).tolist()\n",
    "print(base_tags)\n",
    "for slab in slabs:\n",
    "    num_ads_atoms = len(slab) - len(superslab)\n",
    "    tags = list(base_tags)\n",
    "    tags.extend([2]*num_ads_atoms)\n",
    "    slab.set_tags(tags)\n",
    "\n",
    "print(f\"slab length {len(slabs)}\")\n",
    "with open(\"SrTiO3_001_4x4_O_ads_slabs.pkl\", \"wb\") as f:\n",
    "    pickle.dump(slabs, f)"
   ]
  },
  {
   "cell_type": "code",
   "execution_count": 34,
   "metadata": {},
   "outputs": [],
   "source": [
    "# check slabs are doing ok\n",
    "# load pkl file\n",
    "import pickle\n",
    "with open(\"SrTiO3_001_4x4_O_ads_slabs.pkl\", 'rb') as f:\n",
    "    cell_4x4 = pickle.load(f)\n",
    "    cell_4x4[0].write(\"SrTiO3_001_4x4_pris_from_pkl.cif\")\n",
    "    cell_4x4[1].write(\"SrTiO3_001_4x4_1ads_from_pkl.cif\")\n",
    "    cell_4x4[-1].write(\"SrTiO3_001_4x4_moreads_from_pkl.cif\")"
   ]
  },
  {
   "cell_type": "code",
   "execution_count": null,
   "metadata": {},
   "outputs": [],
   "source": []
  }
 ],
 "metadata": {
  "interpreter": {
   "hash": "e3e0723b7fd9866ee8f9ae4f62931968cf8456ef2195b337b8930ae9f61708cf"
  },
  "kernelspec": {
   "display_name": "Python 3.8.13 ('surface_sampling': conda)",
   "language": "python",
   "name": "python3"
  },
  "language_info": {
   "codemirror_mode": {
    "name": "ipython",
    "version": 3
   },
   "file_extension": ".py",
   "mimetype": "text/x-python",
   "name": "python",
   "nbconvert_exporter": "python",
   "pygments_lexer": "ipython3",
   "version": "3.8.13"
  },
  "orig_nbformat": 4
 },
 "nbformat": 4,
 "nbformat_minor": 2
}
