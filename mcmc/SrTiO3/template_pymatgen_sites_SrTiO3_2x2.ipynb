{
 "cells": [
  {
   "cell_type": "code",
   "execution_count": 1,
   "metadata": {},
   "outputs": [],
   "source": [
    "import sys\n",
    "sys.path.append(\"/home/dux/\")\n",
    "sys.path.append(\"/home/dux/surface_sampling/mcmc\")\n",
    "\n",
    "from ase.build import make_supercell\n",
    "from ase.io import read, write\n",
    "\n",
    "import catkit\n",
    "from catkit.gen.adsorption import get_adsorption_sites\n",
    "\n",
    "from mcmc import mcmc_run\n",
    "import os\n",
    "import numpy as np\n",
    "\n",
    "os.environ[\"PROJECT_DIR\"] = os.getcwd()"
   ]
  },
  {
   "cell_type": "code",
   "execution_count": 2,
   "metadata": {},
   "outputs": [],
   "source": [
    "# SrTiO3 from HTVS db\n",
    "import sys\n",
    "import os\n",
    "import django\n",
    "import numpy as np\n",
    "# from tqdm import tqdm\n",
    "# import pandas as pd\n",
    "# import pickle as pkl\n",
    "sys.path.append('/home/dux/htvs/')\n",
    "sys.path.append('/home/dux/htvs/djangochem/')\n",
    "\n",
    "#from imports import *\n",
    "#from django_imports import *\n",
    "# from pymatgen.core.periodic_table import Element\n",
    "# from chemconfigs.vasp.defaults import Magmom\n",
    "# from ase.visualize import view\n",
    "\n",
    "# setup the django settings file.  Change this to use the settings file that connects you to your desired database\n",
    "os.environ[\"DJANGO_SETTINGS_MODULE\"] = \"djangochem.settings.orgel\"\n",
    "os.environ[\"DJANGO_ALLOW_ASYNC_UNSAFE\"] = \"true\"  # CAUTION!!! LINE NECESSARY WHEN INTERACTING WITH DATABASE IN JUPYTER NOTEBOOK. DO NOT USE THIS LINE IF YOU ARE PLANNING ON SAVING/REMOVING THINGS FROM THE DATABASE!!!!!\n",
    "\n",
    "# this must be run to setup access to the django settings and make database access work etc.\n",
    "django.setup()\n",
    "# from jobs.models import Job, JobConfig\n",
    "# from django.contrib.contenttypes.models import ContentType\n",
    "# from ase.io import write\n",
    "\n",
    "from pgmols.models import Surface\n",
    "# from analysis.structure.perovskite import PerovskiteAnalyzer\n",
    "# from pymatgen.core.periodic_table import Element\n",
    "\n",
    "unit_slab = Surface.objects.get(id=217485271).as_ase_gratoms()\n",
    "unit_slab.write('SrTiO3_001_pristine_slab.cif')\n",
    "\n",
    "# get supercell\n",
    "# multiplier = np.diag([2, 2, 1])\n",
    "# slab = make_supercell(unit_slab, multiplier)\n",
    "slab = unit_slab*(2,2,1)\n",
    "slab.write('SrTiO3_001_2x2_pristine_slab.cif')"
   ]
  },
  {
   "cell_type": "code",
   "execution_count": 3,
   "metadata": {},
   "outputs": [],
   "source": [
    "# Pymatgen adsorption sites for InGaN\n",
    "from pymatgen.analysis.adsorption import AdsorbateSiteFinder\n",
    "from pymatgen.io.ase import AseAtomsAdaptor\n",
    "\n",
    "from ase.io import read, write\n",
    "\n",
    "pristine_slab = slab\n",
    "pristine_pmg_slab = AseAtomsAdaptor.get_structure(pristine_slab)\n",
    "site_finder = AdsorbateSiteFinder(pristine_pmg_slab)\n",
    "# AdsorbateSiteFinder(slab, selective_dynamics=False, height=0.9, mi_vec=None)\n",
    "sites = site_finder.find_adsorption_sites(put_inside=False, symm_reduce=False)\n",
    "# find_adsorption_sites(distance=2.0, put_inside=True, symm_reduce=0.01, near_reduce=0.01, positions=['ontop', 'bridge', 'hollow'], no_obtuse_hollow=True)"
   ]
  },
  {
   "cell_type": "code",
   "execution_count": 4,
   "metadata": {},
   "outputs": [
    {
     "name": "stdout",
     "output_type": "stream",
     "text": [
      "ontop sites has total 12\n",
      "bridge sites has total 36\n",
      "hollow sites has total 16\n",
      "all sites has total 64\n"
     ]
    }
   ],
   "source": [
    "for type in sites.keys():\n",
    "    print(f\"{type} sites has total {len(sites[type])}\")"
   ]
  },
  {
   "cell_type": "code",
   "execution_count": 5,
   "metadata": {},
   "outputs": [],
   "source": [
    "ads_positions = sites['all']\n",
    "# print(f\"adsorption coordinates are\")\n",
    "# print(ads_positions)\n",
    "# take just the first 18 sites after inspection\n",
    "# select_positions = ads_positions[:18]\n",
    "\n",
    "# take all positions\n",
    "select_positions = ads_positions"
   ]
  },
  {
   "cell_type": "code",
   "execution_count": 6,
   "metadata": {},
   "outputs": [],
   "source": [
    "# adsorb onto the sites\n",
    "from pymatgen.core.structure import Molecule\n",
    "ads_mol = Molecule(['O'], [[0, 0, 0]])\n",
    "for ads_coord in select_positions:\n",
    "    slab = site_finder.add_adsorbate(ads_mol, ads_coord, repeat=None, translate=False, reorient=False)\n",
    "    site_finder.slab = slab\n",
    "\n",
    "from pymatgen.io.cif import CifWriter\n",
    "# write out slab\n",
    "cif_slab = CifWriter(site_finder.slab)\n",
    "# cif_slab.write_file(\"pymatgen_SrTiO3_001_4x4_O_all_adsorbed_slab.cif\")\n",
    "cif_slab.write_file(\"pymatgen_SrTiO3_001_2x2_O_all_adsorbed_slab.cif\")"
   ]
  },
  {
   "cell_type": "code",
   "execution_count": 13,
   "metadata": {},
   "outputs": [
    {
     "name": "stdout",
     "output_type": "stream",
     "text": [
      "all adsorbed 124\n"
     ]
    }
   ],
   "source": [
    "all_adsorbed = read(\"pymatgen_SrTiO3_001_2x2_O_all_adsorbed_slab.cif\")\n",
    "print(f\"all adsorbed {len(all_adsorbed)}\")\n",
    "\n",
    "select_positions = all_adsorbed.get_positions()[len(pristine_slab):]"
   ]
  },
  {
   "cell_type": "code",
   "execution_count": 14,
   "metadata": {},
   "outputs": [
    {
     "data": {
      "text/plain": [
       "array([[ 7.87106322,  7.94072982, 19.32035338],\n",
       "       [ 1.96776173,  1.9512601 , 19.27924584],\n",
       "       [ 1.9677844 ,  0.14564935, 19.23214617],\n",
       "       [ 7.87106322,  3.95573464, 19.32035338],\n",
       "       [ 1.96776173,  5.93625536, 19.27924584],\n",
       "       [ 1.9677844 ,  4.13064461, 19.23214617],\n",
       "       [ 3.93552559,  7.94072982, 19.32035338],\n",
       "       [ 5.90329936,  1.9512601 , 19.27924584],\n",
       "       [ 5.90332203,  0.14564935, 19.23214617],\n",
       "       [ 3.93552559,  3.95573464, 19.32035338],\n",
       "       [ 5.90329936,  5.93625536, 19.27924584],\n",
       "       [ 5.90332203,  4.13064461, 19.23214617],\n",
       "       [ 1.96777307,  7.02594761, 19.25569613],\n",
       "       [ 0.98387488,  6.93849259, 19.29979973],\n",
       "       [ 5.90331077,  7.02594761, 19.25569613],\n",
       "       [ 6.88718133,  6.93849259, 19.29979973],\n",
       "       [ 6.88719266,  0.05819432, 19.27624978],\n",
       "       [ 7.87106818,  5.93625536, 19.27924584],\n",
       "       [ 6.88718133,  4.94599496, 19.29979973],\n",
       "       [ 0.98387488,  4.94599496, 19.29979973],\n",
       "       [ 2.9516437 ,  6.93849259, 19.29979973],\n",
       "       [ 6.88718133,  0.9609997 , 19.29979973],\n",
       "       [ 0.98387488,  0.9609997 , 19.29979973],\n",
       "       [ 7.87106818,  1.9512601 , 19.27924584],\n",
       "       [ 6.88719266,  4.04318958, 19.27624978],\n",
       "       [ 5.90331077,  5.03344998, 19.25569613],\n",
       "       [ 4.91941251,  4.94599496, 19.29979973],\n",
       "       [ 4.91942385,  4.04318958, 19.27624978],\n",
       "       [ 4.91942385,  0.05819432, 19.27624978],\n",
       "       [ 4.91941251,  6.93849259, 19.29979973],\n",
       "       [ 6.88718133,  2.95349733, 19.29979973],\n",
       "       [ 0.98388622,  0.05819432, 19.27624978],\n",
       "       [ 5.9033107 ,  3.04095235, 19.25569613],\n",
       "       [ 4.91941251,  2.95349733, 19.29979973],\n",
       "       [ 5.90331077,  1.04845472, 19.25569613],\n",
       "       [ 4.91941251,  0.9609997 , 19.29979973],\n",
       "       [ 3.93553062,  1.95126002, 19.27924584],\n",
       "       [ 2.9516437 ,  0.9609997 , 19.29979973],\n",
       "       [ 2.9516437 ,  2.95349733, 19.29979973],\n",
       "       [ 3.93553055,  5.93625536, 19.27924584],\n",
       "       [ 2.9516437 ,  4.94599496, 19.29979973],\n",
       "       [ 1.96777314,  1.04845472, 19.25569613],\n",
       "       [ 2.95165503,  0.05819432, 19.27624978],\n",
       "       [ 0.98387488,  2.95349733, 19.29979973],\n",
       "       [ 0.98388622,  4.04318958, 19.27624978],\n",
       "       [ 1.96777307,  3.04095235, 19.25569613],\n",
       "       [ 1.96777314,  5.03344998, 19.25569613],\n",
       "       [ 2.95165503,  4.04318958, 19.27624978],\n",
       "       [ 1.31184472,  7.33087499, 19.27724855],\n",
       "       [ 6.55922826,  7.33087499, 19.27724855],\n",
       "       [ 7.87106652,  6.60441354, 19.29294844],\n",
       "       [ 7.87106652,  5.27608176, 19.29294844],\n",
       "       [ 2.62369063,  7.33087499, 19.27724855],\n",
       "       [ 7.87106652,  1.2910865 , 19.29294844],\n",
       "       [ 5.24738235,  7.33087499, 19.27724855],\n",
       "       [ 7.87106652,  2.61941828, 19.29294844],\n",
       "       [ 6.55922826,  3.34587973, 19.27724855],\n",
       "       [ 5.24738235,  3.34587973, 19.27724855],\n",
       "       [ 3.93552889,  1.2910865 , 19.29294844],\n",
       "       [ 3.93552889,  2.61941828, 19.29294844],\n",
       "       [ 3.93552889,  5.27608176, 19.29294844],\n",
       "       [ 1.31184472,  3.34587973, 19.27724855],\n",
       "       [ 3.93552889,  6.60441354, 19.29294844],\n",
       "       [ 2.62369063,  3.34587973, 19.27724855]])"
      ]
     },
     "execution_count": 14,
     "metadata": {},
     "output_type": "execute_result"
    }
   ],
   "source": [
    "select_positions"
   ]
  },
  {
   "cell_type": "code",
   "execution_count": null,
   "metadata": {},
   "outputs": [],
   "source": []
  }
 ],
 "metadata": {
  "interpreter": {
   "hash": "e3e0723b7fd9866ee8f9ae4f62931968cf8456ef2195b337b8930ae9f61708cf"
  },
  "kernelspec": {
   "display_name": "Python 3.8.13 ('surface_sampling': conda)",
   "language": "python",
   "name": "python3"
  },
  "language_info": {
   "codemirror_mode": {
    "name": "ipython",
    "version": 3
   },
   "file_extension": ".py",
   "mimetype": "text/x-python",
   "name": "python",
   "nbconvert_exporter": "python",
   "pygments_lexer": "ipython3",
   "version": "3.8.13"
  },
  "orig_nbformat": 4
 },
 "nbformat": 4,
 "nbformat_minor": 2
}
