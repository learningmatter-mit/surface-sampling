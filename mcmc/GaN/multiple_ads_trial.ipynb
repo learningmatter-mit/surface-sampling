{
 "cells": [
  {
   "cell_type": "code",
   "execution_count": 16,
   "metadata": {},
   "outputs": [],
   "source": [
    "import os\n",
    "import sys\n",
    "sys.path.append(\"/home/dux/\")\n",
    "sys.path.append(\"/home/dux/surface_sampling/sgmc_surf\")\n",
    "\n",
    "from mcmc import initialize_slab, spin_flip, spin_flip_canonical, change_site, get_random_idx\n",
    "from catkit.gen.adsorption import get_adsorption_sites\n",
    "\n",
    "from ase.calculators.eam import EAM\n",
    "from ase.calculators.lammpsrun import LAMMPS\n",
    "\n",
    "import numpy as np"
   ]
  },
  {
   "cell_type": "markdown",
   "metadata": {},
   "source": [
    "## For semi-grand canonical"
   ]
  },
  {
   "cell_type": "code",
   "execution_count": 17,
   "metadata": {},
   "outputs": [
    {
     "name": "stdout",
     "output_type": "stream",
     "text": [
      "In pristine slab, there are a total of 64 sites\n"
     ]
    }
   ],
   "source": [
    "# Cu alat from https://www.copper.org/resources/properties/atomic_properties.html\n",
    "Cu_alat = 3.6147\n",
    "slab = initialize_slab(Cu_alat)\n",
    "\n",
    "# get ALL the adsorption sites\n",
    "# top should have connectivity 1, bridge should be 2 and hollow more like 4\n",
    "coords, connectivity, sym_idx = get_adsorption_sites(slab, symmetry_reduced=False)\n",
    "print(f\"In pristine slab, there are a total of {len(connectivity)} sites\")\n",
    "\n",
    "# state of each vacancy in slab. for state > 0, it's filled, and that's the index of the adsorbate atom in slab\n",
    "state = np.zeros(len(coords), dtype=int)\n",
    "\n",
    "temp = 300\n",
    "pot = 2"
   ]
  },
  {
   "cell_type": "code",
   "execution_count": 18,
   "metadata": {},
   "outputs": [
    {
     "name": "stderr",
     "output_type": "stream",
     "text": [
      "DEBUG:\n",
      " we are at iter 1\n",
      "DEBUG:idx is 3 with connectivity 1 at [7.66793665e+00 1.61421949e-16 2.04220500e+01]\n",
      "DEBUG:before proposed state is\n",
      "DEBUG:[0 0 0 0 0 0 0 0 0 0 0 0 0 0 0 0 0 0 0 0 0 0 0 0 0 0 0 0 0 0 0 0 0 0 0 0 0\n",
      " 0 0 0 0 0 0 0 0 0 0 0 0 0 0 0 0 0 0 0 0 0 0 0 0 0 0 0]\n",
      "DEBUG:chosen site is empty\n",
      "DEBUG:adsorbing from empty to adsorbate Cu and potential 2\n",
      "DEBUG:current slab has 64 atoms\n",
      "DEBUG:proposed slab has 65 atoms\n",
      "DEBUG:after proposed state is\n",
      "DEBUG:[ 0  0  0 64  0  0  0  0  0  0  0  0  0  0  0  0  0  0  0  0  0  0  0  0\n",
      "  0  0  0  0  0  0  0  0  0  0  0  0  0  0  0  0  0  0  0  0  0  0  0  0\n",
      "  0  0  0  0  0  0  0  0  0  0  0  0  0  0  0  0]\n",
      "DEBUG:\n",
      " we are at iter 2\n",
      "DEBUG:idx is 30 with connectivity 2 at [ 5.11195776  8.94592609 20.42205   ]\n",
      "DEBUG:before proposed state is\n",
      "DEBUG:[ 0  0  0 64  0  0  0  0  0  0  0  0  0  0  0  0  0  0  0  0  0  0  0  0\n",
      "  0  0  0  0  0  0  0  0  0  0  0  0  0  0  0  0  0  0  0  0  0  0  0  0\n",
      "  0  0  0  0  0  0  0  0  0  0  0  0  0  0  0  0]\n",
      "DEBUG:chosen site is empty\n",
      "DEBUG:adsorbing from empty to adsorbate Cu and potential 2\n",
      "DEBUG:current slab has 65 atoms\n",
      "DEBUG:proposed slab has 66 atoms\n",
      "DEBUG:after proposed state is\n",
      "DEBUG:[ 0  0  0 64  0  0  0  0  0  0  0  0  0  0  0  0  0  0  0  0  0  0  0  0\n",
      "  0  0  0  0  0  0 65  0  0  0  0  0  0  0  0  0  0  0  0  0  0  0  0  0\n",
      "  0  0  0  0  0  0  0  0  0  0  0  0  0  0  0  0]\n",
      "DEBUG:\n",
      " we are at iter 3\n",
      "DEBUG:idx is 62 with connectivity 4 at [ 3.83396832  8.94592609 20.42205   ]\n",
      "DEBUG:before proposed state is\n",
      "DEBUG:[ 0  0  0 64  0  0  0  0  0  0  0  0  0  0  0  0  0  0  0  0  0  0  0  0\n",
      "  0  0  0  0  0  0 65  0  0  0  0  0  0  0  0  0  0  0  0  0  0  0  0  0\n",
      "  0  0  0  0  0  0  0  0  0  0  0  0  0  0  0  0]\n",
      "DEBUG:chosen site is empty\n",
      "DEBUG:adsorbing from empty to adsorbate Cu and potential 2\n",
      "DEBUG:current slab has 66 atoms\n",
      "DEBUG:proposed slab has 67 atoms\n",
      "DEBUG:after proposed state is\n",
      "DEBUG:[ 0  0  0 64  0  0  0  0  0  0  0  0  0  0  0  0  0  0  0  0  0  0  0  0\n",
      "  0  0  0  0  0  0 65  0  0  0  0  0  0  0  0  0  0  0  0  0  0  0  0  0\n",
      "  0  0  0  0  0  0  0  0  0  0  0  0  0  0 66  0]\n"
     ]
    },
    {
     "data": {
      "text/plain": [
       "(array([ 0,  0,  0, 64,  0,  0,  0,  0,  0,  0,  0,  0,  0,  0,  0,  0,  0,\n",
       "         0,  0,  0,  0,  0,  0,  0,  0,  0,  0,  0,  0,  0, 65,  0,  0,  0,\n",
       "         0,  0,  0,  0,  0,  0,  0,  0,  0,  0,  0,  0,  0,  0,  0,  0,  0,\n",
       "         0,  0,  0,  0,  0,  0,  0,  0,  0,  0,  0, 66,  0]),\n",
       " Gratoms(symbols='Cu67', pbc=[True, True, False], cell=[10.223915527820054, 10.223915527820054, 35.42204999999999], initial_magmoms=..., surface_atoms=..., tags=...),\n",
       " 0,\n",
       " False)"
      ]
     },
     "execution_count": 18,
     "metadata": {},
     "output_type": "execute_result"
    }
   ],
   "source": [
    "# test top\n",
    "top_site = get_random_idx(connectivity, type=\"top\")\n",
    "bridge_site = get_random_idx(connectivity, type=\"bridge\")\n",
    "hollow_site = get_random_idx(connectivity, type=\"hollow\")\n",
    "\n",
    "# add to 3 sites\n",
    "spin_flip(state, slab, temp, pot, coords, connectivity, save_cif=True, iter=1, site_idx=top_site, testing=True, folder_name=\"different_sites_noalat\")\n",
    "spin_flip(state, slab, temp, pot, coords, connectivity, save_cif=True, iter=2, site_idx=bridge_site, testing=True, folder_name=\"different_sites_noalat\")\n",
    "spin_flip(state, slab, temp, pot, coords, connectivity, save_cif=True, iter=3, site_idx=hollow_site, testing=True, folder_name=\"different_sites_noalat\")"
   ]
  },
  {
   "cell_type": "code",
   "execution_count": 19,
   "metadata": {},
   "outputs": [
    {
     "name": "stderr",
     "output_type": "stream",
     "text": [
      "DEBUG:chosen site already adsorbed\n",
      "DEBUG:chosen ads is In\n",
      "DEBUG:current slab has 67 atoms\n",
      "DEBUG:replacing Cu with In\n",
      "DEBUG:proposed slab has 67 atoms\n",
      "DEBUG:chosen site already adsorbed\n",
      "DEBUG:chosen ads is Cu\n",
      "DEBUG:current slab has 67 atoms\n",
      "DEBUG:replacing In with Cu\n",
      "DEBUG:proposed slab has 67 atoms\n",
      "DEBUG:chosen site is empty\n",
      "DEBUG:adsorbing from empty to adsorbate Cu and potential 3\n",
      "DEBUG:current slab has 67 atoms\n",
      "DEBUG:proposed slab has 68 atoms\n"
     ]
    },
    {
     "name": "stdout",
     "output_type": "stream",
     "text": [
      "Trial move\n",
      "slab=Gratoms(symbols='Cu66In', pbc=[True, True, False], cell=[10.223915527820054, 10.223915527820054, 35.42204999999999], initial_magmoms=..., surface_atoms=..., tags=...),state=[ 0  0  0 66  0  0  0  0  0  0  0  0  0  0  0  0  0  0  0  0  0  0  0  0\n",
      "  0  0  0  0  0  0 64  0  0  0  0  0  0  0  0  0  0  0  0  0  0  0  0  0\n",
      "  0  0  0  0  0  0  0  0  0  0  0  0  0  0 65  0],delta_pot=-1,start_ads=Cu,end_ads=In\n",
      "Revert move\n",
      "slab=Gratoms(symbols='Cu67', pbc=[True, True, False], cell=[10.223915527820054, 10.223915527820054, 35.42204999999999], initial_magmoms=..., surface_atoms=..., tags=...),state=[ 0  0  0 66  0  0  0  0  0  0  0  0  0  0  0  0  0  0  0  0  0  0  0  0\n",
      "  0  0  0  0  0  0 64  0  0  0  0  0  0  0  0  0  0  0  0  0  0  0  0  0\n",
      "  0  0  0  0  0  0  0  0  0  0  0  0  0  0 65  0],delta_pot=1,start_ads=In,end_ads=Cu\n",
      "Revert move\n",
      "slab=Gratoms(symbols='Cu68', pbc=[True, True, False], cell=[10.223915527820054, 10.223915527820054, 35.42204999999999], initial_magmoms=..., surface_atoms=..., tags=...),state=[ 0  0  0 66  0  0  0  0  0  0  0  0  0  0  0  0  0  0  0  0  0  0  0  0\n",
      "  0  0  0  0  0  0 64  0  0  0  0  0  0  0  0  0  0  0  0  0  0  0  0  0\n",
      "  0  0  0  0  0  0  0  0  0  0  0  0  0  0 65 67],delta_pot=3,start_ads=None,end_ads=Cu\n"
     ]
    }
   ],
   "source": [
    "# Test cases\n",
    "import logging\n",
    "logging.basicConfig(\n",
    "    format=\"%(levelname)s:%(message)s\",\n",
    "    level=logging.DEBUG,\n",
    "    datefmt=\"%m/%d/%Y %I:%M:%S %p\",\n",
    ")\n",
    "\n",
    "site_idx = top_site\n",
    "# start_ads = slab[state[site_idx]].symbol\n",
    "# print(f\"start ads {start_ads}\")\n",
    "adsorbates = ['In', 'Cu', 'Ga']\n",
    "pots = [2, 3, 5]\n",
    "\n",
    "# try top already filled site\n",
    "slab, state, delta_pot, start_ads, end_ads = change_site(slab, state, pots, adsorbates, coords, site_idx)\n",
    "print(\"Trial move\")\n",
    "print(f\"slab={slab},state={state},delta_pot={delta_pot},start_ads={start_ads},end_ads={end_ads}\")\n",
    "\n",
    "slab, state, delta_pot, start_ads, end_ads = change_site(slab, state, pots, adsorbates, coords, site_idx, start_ads=end_ads, end_ads=start_ads)\n",
    "print(\"Revert move\")\n",
    "print(f\"slab={slab},state={state},delta_pot={delta_pot},start_ads={start_ads},end_ads={end_ads}\")\n",
    "\n",
    "\n",
    "# adsorb one more random site\n",
    "site_idx = len(state) - 1\n",
    "slab, state, delta_pot, start_ads, end_ads = change_site(slab, state, pots, adsorbates, coords, site_idx)\n",
    "print(\"Revert move\")\n",
    "print(f\"slab={slab},state={state},delta_pot={delta_pot},start_ads={start_ads},end_ads={end_ads}\")\n",
    "\n",
    "# ads_pot_dict = dict(zip(adsorbates, pots))\n",
    "\n",
    "# ads_choices = adsorbates.copy()\n",
    "# ads_choices.remove(start_ads)\n",
    "# print(f\"ads choices are {ads_choices}\")\n",
    "\n",
    "# print(f\"{ad.remove(\"\")}\")"
   ]
  },
  {
   "cell_type": "code",
   "execution_count": 20,
   "metadata": {},
   "outputs": [],
   "source": [
    "# Possible test cases, can go in sequence\n",
    "# 1) empty list\n",
    "# 2) start with ads, go to empty\n",
    "# 3) start wtih ads, go to another ads"
   ]
  },
  {
   "cell_type": "code",
   "execution_count": 21,
   "metadata": {},
   "outputs": [],
   "source": [
    "# Other test cases for spin flip"
   ]
  },
  {
   "cell_type": "markdown",
   "metadata": {},
   "source": [
    "## For canonical"
   ]
  },
  {
   "cell_type": "code",
   "execution_count": 22,
   "metadata": {},
   "outputs": [],
   "source": [
    "import itertools\n",
    "adsorbed_idx = np.argwhere(state != 0).flatten()\n",
    "curr_ads = {k: list(g) for k, g in itertools.groupby(adsorbed_idx, key=lambda x: slab[state[x]].symbol)}\n"
   ]
  },
  {
   "cell_type": "code",
   "execution_count": 23,
   "metadata": {},
   "outputs": [
    {
     "data": {
      "text/plain": [
       "{'Cu': [3, 30, 62, 63]}"
      ]
     },
     "execution_count": 23,
     "metadata": {},
     "output_type": "execute_result"
    }
   ],
   "source": [
    "curr_ads"
   ]
  },
  {
   "cell_type": "code",
   "execution_count": 24,
   "metadata": {},
   "outputs": [],
   "source": [
    "empty_idx = np.argwhere(state == 0).flatten().tolist()\n",
    "curr_ads['None'] = empty_idx"
   ]
  },
  {
   "cell_type": "code",
   "execution_count": 25,
   "metadata": {},
   "outputs": [],
   "source": [
    "import random\n",
    "type1, type2 = random.sample(curr_ads.keys(), 2)\n",
    "site1_idx, site2_idx = [random.choice(curr_ads[x]) for x in [type1, type2]]"
   ]
  },
  {
   "cell_type": "markdown",
   "metadata": {},
   "source": [
    "Spin flip canonical"
   ]
  },
  {
   "cell_type": "code",
   "execution_count": 32,
   "metadata": {},
   "outputs": [
    {
     "name": "stderr",
     "output_type": "stream",
     "text": [
      "DEBUG:current ads {'Cu': [3, 15, 17, 30], 'None': [0, 1, 2, 4, 5, 6, 7, 8, 9, 10, 11, 12, 13, 14, 16, 18, 19, 20, 21, 22, 23, 24, 25, 26, 27, 28, 29, 31, 32, 33, 34, 35, 36, 37, 38, 39, 40, 41, 42, 43, 44, 45, 46, 47, 48, 49, 50, 51, 52, 53, 54, 55, 56, 57, 58, 59, 60, 61, 62, 63]}\n",
      "DEBUG:\n",
      " we are at iter 1\n",
      "DEBUG:idx is 3 with connectivity 1 at [7.66793665e+00 1.61421949e-16 2.04220500e+01]\n",
      "DEBUG:idx is 61 with connectivity 4 at [ 6.3899472   3.83396832 20.42205   ]\n",
      "DEBUG:before proposed state is\n",
      "DEBUG:[ 0  0  0 64  0  0  0  0  0  0  0  0  0  0  0 66  0 65  0  0  0  0  0  0\n",
      "  0  0  0  0  0  0 67  0  0  0  0  0  0  0  0  0  0  0  0  0  0  0  0  0\n",
      "  0  0  0  0  0  0  0  0  0  0  0  0  0  0  0  0]\n",
      "DEBUG:current slab has 68 atoms\n",
      "DEBUG:chosen site already adsorbed\n",
      "DEBUG:chosen ads is None\n",
      "DEBUG:current slab has 68 atoms\n",
      "DEBUG:desorbing Cu\n",
      "DEBUG:proposed slab has 67 atoms\n",
      "DEBUG:chosen site is empty\n",
      "DEBUG:adsorbing from empty to adsorbate Cu and potential 0\n",
      "DEBUG:current slab has 67 atoms\n",
      "DEBUG:proposed slab has 68 atoms\n",
      "DEBUG:proposed slab has 68 atoms\n",
      "DEBUG:after proposed state is\n",
      "DEBUG:[ 0  0  0  0  0  0  0  0  0  0  0  0  0  0  0 65  0 64  0  0  0  0  0  0\n",
      "  0  0  0  0  0  0 66  0  0  0  0  0  0  0  0  0  0  0  0  0  0  0  0  0\n",
      "  0  0  0  0  0  0  0  0  0  0  0  0  0 67  0  0]\n"
     ]
    }
   ],
   "source": [
    "state, slab, energy, accept = spin_flip_canonical(state, slab, temp, coords, connectivity, iter=1, testing=True, adsorbates=['Cu', 'Ga', 'None'])"
   ]
  },
  {
   "cell_type": "code",
   "execution_count": null,
   "metadata": {},
   "outputs": [],
   "source": []
  },
  {
   "cell_type": "code",
   "execution_count": null,
   "metadata": {},
   "outputs": [],
   "source": []
  }
 ],
 "metadata": {
  "interpreter": {
   "hash": "52c80ae8dd6c1a0bcd088a907455e2d267fd03a787ceaaaaeeff2a73233138b6"
  },
  "kernelspec": {
   "display_name": "Python 3.8.13 ('mlenv')",
   "language": "python",
   "name": "python3"
  },
  "language_info": {
   "codemirror_mode": {
    "name": "ipython",
    "version": 3
   },
   "file_extension": ".py",
   "mimetype": "text/x-python",
   "name": "python",
   "nbconvert_exporter": "python",
   "pygments_lexer": "ipython3",
   "version": "3.8.13"
  },
  "orig_nbformat": 4
 },
 "nbformat": 4,
 "nbformat_minor": 2
}
