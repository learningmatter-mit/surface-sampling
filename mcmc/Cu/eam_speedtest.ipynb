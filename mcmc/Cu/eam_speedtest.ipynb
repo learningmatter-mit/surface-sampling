{
 "cells": [
  {
   "cell_type": "code",
   "execution_count": 6,
   "metadata": {},
   "outputs": [],
   "source": [
    "from mcmc import initialize_slab, spin_flip, mcmc_run, get_random_idx\n",
    "from catkit.gen.adsorption import get_adsorption_sites\n",
    "from ase.calculators.eam import EAM\n",
    "from time import perf_counter\n",
    "\n",
    "import numpy as np"
   ]
  },
  {
   "cell_type": "code",
   "execution_count": 7,
   "metadata": {},
   "outputs": [
    {
     "name": "stdout",
     "output_type": "stream",
     "text": [
      "In pristine slab, there are a total of 64 sites\n"
     ]
    },
    {
     "name": "stderr",
     "output_type": "stream",
     "text": [
      "/Users/xiaochendu/miniconda3/envs/mlenv/lib/python3.9/site-packages/catkit/gen/adsorption.py:60: VisibleDeprecationWarning: Creating an ndarray from ragged nested sequences (which is a list-or-tuple of lists-or-tuples-or ndarrays with different lengths or shapes) is deprecated. If you meant to do this, you must specify 'dtype=object' when creating the ndarray.\n",
      "  self.r1_topology = np.array(self.r1_topology)\n",
      "/Users/xiaochendu/miniconda3/envs/mlenv/lib/python3.9/site-packages/catkit/gen/adsorption.py:61: VisibleDeprecationWarning: Creating an ndarray from ragged nested sequences (which is a list-or-tuple of lists-or-tuples-or ndarrays with different lengths or shapes) is deprecated. If you meant to do this, you must specify 'dtype=object' when creating the ndarray.\n",
      "  self.r2_topology = np.array(self.r2_topology)\n"
     ]
    }
   ],
   "source": [
    "# Cu alat from https://www.copper.org/resources/properties/atomic_properties.html\n",
    "Cu_alat = 3.6147\n",
    "slab = initialize_slab(Cu_alat)\n",
    "\n",
    "# get ALL the adsorption sites\n",
    "# top should have connectivity 1, bridge should be 2 and hollow more like 4\n",
    "coords, connectivity, sym_idx = get_adsorption_sites(slab, symmetry_reduced=False)\n",
    "print(f\"In pristine slab, there are a total of {len(connectivity)} sites\")\n",
    "\n",
    "# state of each vacancy in slab. for state > 0, it's filled, and that's the index of the adsorbate atom in slab\n",
    "state = np.zeros(len(coords), dtype=int)\n",
    "\n",
    "temp = 300\n",
    "pot = 2"
   ]
  },
  {
   "cell_type": "code",
   "execution_count": 12,
   "metadata": {},
   "outputs": [],
   "source": [
    "\n",
    "potential = EAM(potential='Cu2.eam.fs')\n",
    "slab.calc = potential\n",
    "# import pdb; pdb.set_trace()\n",
    "start = perf_counter()\n",
    "energy = slab.get_potential_energy()\n",
    "time1 = perf_counter()-start\n",
    "energy = slab.get_potential_energy()\n",
    "time2 = perf_counter()-start\n",
    "energy = slab.get_potential_energy()\n",
    "del slab[10]\n",
    "time3 = perf_counter()-start\n",
    "energy = slab.get_potential_energy()\n",
    "time4 = perf_counter()-start"
   ]
  },
  {
   "cell_type": "code",
   "execution_count": 14,
   "metadata": {},
   "outputs": [
    {
     "data": {
      "text/plain": [
       "0.056991293000010046"
      ]
     },
     "execution_count": 14,
     "metadata": {},
     "output_type": "execute_result"
    }
   ],
   "source": [
    "time2"
   ]
  },
  {
   "cell_type": "code",
   "execution_count": 15,
   "metadata": {},
   "outputs": [
    {
     "data": {
      "text/plain": [
       "0.06070317800001135"
      ]
     },
     "execution_count": 15,
     "metadata": {},
     "output_type": "execute_result"
    }
   ],
   "source": [
    "time3"
   ]
  },
  {
   "cell_type": "code",
   "execution_count": 16,
   "metadata": {},
   "outputs": [
    {
     "data": {
      "text/plain": [
       "0.1199113830000158"
      ]
     },
     "execution_count": 16,
     "metadata": {},
     "output_type": "execute_result"
    }
   ],
   "source": [
    "time4"
   ]
  },
  {
   "cell_type": "markdown",
   "metadata": {},
   "source": [
    "Hence, ASE EAM recalculates the energy every time you change the atom positions."
   ]
  }
 ],
 "metadata": {
  "interpreter": {
   "hash": "9e80de14d025d807b45c68737d1c919645c35078767e66b64e8e8ad6c16d8716"
  },
  "kernelspec": {
   "display_name": "Python 3.9.9 ('mlenv')",
   "language": "python",
   "name": "python3"
  },
  "language_info": {
   "codemirror_mode": {
    "name": "ipython",
    "version": 3
   },
   "file_extension": ".py",
   "mimetype": "text/x-python",
   "name": "python",
   "nbconvert_exporter": "python",
   "pygments_lexer": "ipython3",
   "version": "3.9.9"
  },
  "orig_nbformat": 4
 },
 "nbformat": 4,
 "nbformat_minor": 2
}
