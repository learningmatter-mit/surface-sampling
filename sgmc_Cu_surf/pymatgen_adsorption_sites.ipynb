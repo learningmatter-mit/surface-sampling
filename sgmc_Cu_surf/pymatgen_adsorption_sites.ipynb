{
 "cells": [
  {
   "cell_type": "code",
   "execution_count": 2,
   "metadata": {},
   "outputs": [],
   "source": [
    "from pymatgen.analysis.adsorption import AdsorbateSiteFinder\n",
    "from pymatgen.io.ase import AseAtomsAdaptor\n",
    "\n",
    "from ase.io import read, write\n",
    "\n",
    "pristine_slab = read(\"GaN_0001_3x3_pristine_slab.cif\")\n",
    "pristine_pmg_slab = AseAtomsAdaptor.get_structure(pristine_slab)\n",
    "site_finder = AdsorbateSiteFinder(pristine_pmg_slab)\n",
    "# AdsorbateSiteFinder(slab, selective_dynamics=False, height=0.9, mi_vec=None)\n",
    "sites = site_finder.find_adsorption_sites()\n",
    "# find_adsorption_sites(distance=2.0, put_inside=True, symm_reduce=0.01, near_reduce=0.01, positions=['ontop', 'bridge', 'hollow'], no_obtuse_hollow=True)\n"
   ]
  },
  {
   "cell_type": "code",
   "execution_count": 5,
   "metadata": {},
   "outputs": [
    {
     "name": "stdout",
     "output_type": "stream",
     "text": [
      "ontop sites has total 2\n",
      "bridge sites has total 4\n",
      "hollow sites has total 2\n",
      "all sites has total 8\n"
     ]
    }
   ],
   "source": [
    "for type in sites.keys():\n",
    "    print(f\"{type} sites has total {len(sites[type])}\")"
   ]
  },
  {
   "cell_type": "code",
   "execution_count": null,
   "metadata": {},
   "outputs": [],
   "source": []
  }
 ],
 "metadata": {
  "interpreter": {
   "hash": "52c80ae8dd6c1a0bcd088a907455e2d267fd03a787ceaaaaeeff2a73233138b6"
  },
  "kernelspec": {
   "display_name": "Python 3.9.9 ('mlenv')",
   "language": "python",
   "name": "python3"
  },
  "language_info": {
   "codemirror_mode": {
    "name": "ipython",
    "version": 3
   },
   "file_extension": ".py",
   "mimetype": "text/x-python",
   "name": "python",
   "nbconvert_exporter": "python",
   "pygments_lexer": "ipython3",
   "version": "3.9.9"
  },
  "orig_nbformat": 4
 },
 "nbformat": 4,
 "nbformat_minor": 2
}
