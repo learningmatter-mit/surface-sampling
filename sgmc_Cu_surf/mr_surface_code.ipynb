{
 "cells": [
  {
   "cell_type": "code",
   "execution_count": null,
   "metadata": {},
   "outputs": [],
   "source": [
    "def shift_slab(self, destination='cell_bottom'):\n",
    "    \"\"\"\n",
    "\n",
    "    Parameters\n",
    "    ----------\n",
    "    destination : str, optional\n",
    "        either 'cell_bottom' or 'cell_middle', by default 'cell_bottom'\n",
    "\n",
    "    Returns\n",
    "    -------\n",
    "    Atoms\n",
    "        Atoms object returned\n",
    "    \"\"\"\n",
    "        slab = self.gratoms.copy()\n",
    "        zmin = self.cell_length\n",
    "\n",
    "        for atom in slab:\n",
    "            if atom.position[2] < zmin:\n",
    "                zmin = atom.position[2]\n",
    "\n",
    "        if destination == 'cell_bottom':\n",
    "            slab.translate([0, 0, - zmin + 2])\n",
    "        elif destination == 'cell_middle':\n",
    "            slab.translate([0, 0, self.vacuum - zmin])\n",
    "        else:\n",
    "            logger.warning('Destination not recognised. Returning original slab')\n",
    "        return slab\n",
    "\n",
    "def determine_vacuum(self):\n",
    "    \"\"\"Determines vacuum spacing for one side in ASE Atoms objects.\n",
    "\n",
    "    Returns\n",
    "    -------\n",
    "    float\n",
    "        vacuum spacing in angstroms\n",
    "    \"\"\"\n",
    "    slab = self.gratoms.copy()\n",
    "    zmin = zmax = slab[0].position[2]\n",
    "    for atom in slab:\n",
    "        if atom.position[2] > zmax:\n",
    "            zmax = atom.position[2]\n",
    "        elif atom.position[2] < zmin:\n",
    "            zmin = atom.position[2]\n",
    "    slab_thickness = zmax - zmin\n",
    "    vacuum = (self.cell_length - slab_thickness) / 2\n",
    "    return vacuum"
   ]
  }
 ],
 "metadata": {
  "language_info": {
   "name": "python"
  },
  "orig_nbformat": 4
 },
 "nbformat": 4,
 "nbformat_minor": 2
}
