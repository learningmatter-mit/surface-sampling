{
 "cells": [
  {
   "cell_type": "code",
   "execution_count": 1,
   "metadata": {},
   "outputs": [],
   "source": [
    "\n",
    "import os\n",
    "\n",
    "os.environ[\"LAMMPS_COMMAND\"] = \"/home/pleon/mylammps/src/lmp_serial\"\n",
    "os.environ[\"ASE_LAMMPSRUN_COMMAND\"] = \"/home/pleon/mylammps/src/lmp_serial\"\n",
    "\n",
    "from ase.calculators.lammpsrun import LAMMPS    \n",
    "from ase.io import write\n",
    "from catkit.gen.adsorption import get_adsorption_sites\n",
    "from mcmc import initialize_slab, spin_flip, mcmc_run, get_random_idx\n",
    "from time import perf_counter\n",
    "from pprint import pprint as pp\n",
    "\n",
    "import catkit\n",
    "import numpy as np"
   ]
  },
  {
   "cell_type": "code",
   "execution_count": 2,
   "metadata": {},
   "outputs": [
    {
     "name": "stderr",
     "output_type": "stream",
     "text": [
      "/Users/xiaochendu/miniconda3/envs/mlenv/lib/python3.9/site-packages/ase/calculators/lammpsrun.py:379: UserWarning: semi-periodic ASE cell detected - translation to proper LAMMPS input cell might fail\n",
      "  warnings.warn(\n"
     ]
    },
    {
     "ename": "FileNotFoundError",
     "evalue": "[Errno 2] No such file or directory: '/home/pleon/mylammps/src/lmp_serial'",
     "output_type": "error",
     "traceback": [
      "\u001b[0;31m---------------------------------------------------------------------------\u001b[0m",
      "\u001b[0;31mFileNotFoundError\u001b[0m                         Traceback (most recent call last)",
      "\u001b[1;32m/Users/xiaochendu/Documents/GitHub/surface_sampling/sgmc_Cu_surf/lammps_ase_run.ipynb Cell 2'\u001b[0m in \u001b[0;36m<module>\u001b[0;34m\u001b[0m\n\u001b[1;32m      <a href='vscode-notebook-cell:/Users/xiaochendu/Documents/GitHub/surface_sampling/sgmc_Cu_surf/lammps_ase_run.ipynb#ch0000001?line=3'>4</a>\u001b[0m potential \u001b[39m=\u001b[39m LAMMPS()\n\u001b[1;32m      <a href='vscode-notebook-cell:/Users/xiaochendu/Documents/GitHub/surface_sampling/sgmc_Cu_surf/lammps_ase_run.ipynb#ch0000001?line=4'>5</a>\u001b[0m slab\u001b[39m.\u001b[39mcalc \u001b[39m=\u001b[39m potential\n\u001b[0;32m----> <a href='vscode-notebook-cell:/Users/xiaochendu/Documents/GitHub/surface_sampling/sgmc_Cu_surf/lammps_ase_run.ipynb#ch0000001?line=6'>7</a>\u001b[0m \u001b[39mprint\u001b[39m(\u001b[39mf\u001b[39m\u001b[39m\"\u001b[39m\u001b[39mpotential energy is \u001b[39m\u001b[39m{\u001b[39;00mslab\u001b[39m.\u001b[39mget_potential_energy()\u001b[39m}\u001b[39;00m\u001b[39m\"\u001b[39m)\n",
      "File \u001b[0;32m~/miniconda3/envs/mlenv/lib/python3.9/site-packages/ase/atoms.py:731\u001b[0m, in \u001b[0;36mAtoms.get_potential_energy\u001b[0;34m(self, force_consistent, apply_constraint)\u001b[0m\n\u001b[1;32m    <a href='file:///~/miniconda3/envs/mlenv/lib/python3.9/site-packages/ase/atoms.py?line=727'>728</a>\u001b[0m     energy \u001b[39m=\u001b[39m \u001b[39mself\u001b[39m\u001b[39m.\u001b[39m_calc\u001b[39m.\u001b[39mget_potential_energy(\n\u001b[1;32m    <a href='file:///~/miniconda3/envs/mlenv/lib/python3.9/site-packages/ase/atoms.py?line=728'>729</a>\u001b[0m         \u001b[39mself\u001b[39m, force_consistent\u001b[39m=\u001b[39mforce_consistent)\n\u001b[1;32m    <a href='file:///~/miniconda3/envs/mlenv/lib/python3.9/site-packages/ase/atoms.py?line=729'>730</a>\u001b[0m \u001b[39melse\u001b[39;00m:\n\u001b[0;32m--> <a href='file:///~/miniconda3/envs/mlenv/lib/python3.9/site-packages/ase/atoms.py?line=730'>731</a>\u001b[0m     energy \u001b[39m=\u001b[39m \u001b[39mself\u001b[39;49m\u001b[39m.\u001b[39;49m_calc\u001b[39m.\u001b[39;49mget_potential_energy(\u001b[39mself\u001b[39;49m)\n\u001b[1;32m    <a href='file:///~/miniconda3/envs/mlenv/lib/python3.9/site-packages/ase/atoms.py?line=731'>732</a>\u001b[0m \u001b[39mif\u001b[39;00m apply_constraint:\n\u001b[1;32m    <a href='file:///~/miniconda3/envs/mlenv/lib/python3.9/site-packages/ase/atoms.py?line=732'>733</a>\u001b[0m     \u001b[39mfor\u001b[39;00m constraint \u001b[39min\u001b[39;00m \u001b[39mself\u001b[39m\u001b[39m.\u001b[39mconstraints:\n",
      "File \u001b[0;32m~/miniconda3/envs/mlenv/lib/python3.9/site-packages/ase/calculators/calculator.py:709\u001b[0m, in \u001b[0;36mCalculator.get_potential_energy\u001b[0;34m(self, atoms, force_consistent)\u001b[0m\n\u001b[1;32m    <a href='file:///~/miniconda3/envs/mlenv/lib/python3.9/site-packages/ase/calculators/calculator.py?line=707'>708</a>\u001b[0m \u001b[39mdef\u001b[39;00m \u001b[39mget_potential_energy\u001b[39m(\u001b[39mself\u001b[39m, atoms\u001b[39m=\u001b[39m\u001b[39mNone\u001b[39;00m, force_consistent\u001b[39m=\u001b[39m\u001b[39mFalse\u001b[39;00m):\n\u001b[0;32m--> <a href='file:///~/miniconda3/envs/mlenv/lib/python3.9/site-packages/ase/calculators/calculator.py?line=708'>709</a>\u001b[0m     energy \u001b[39m=\u001b[39m \u001b[39mself\u001b[39;49m\u001b[39m.\u001b[39;49mget_property(\u001b[39m'\u001b[39;49m\u001b[39menergy\u001b[39;49m\u001b[39m'\u001b[39;49m, atoms)\n\u001b[1;32m    <a href='file:///~/miniconda3/envs/mlenv/lib/python3.9/site-packages/ase/calculators/calculator.py?line=709'>710</a>\u001b[0m     \u001b[39mif\u001b[39;00m force_consistent:\n\u001b[1;32m    <a href='file:///~/miniconda3/envs/mlenv/lib/python3.9/site-packages/ase/calculators/calculator.py?line=710'>711</a>\u001b[0m         \u001b[39mif\u001b[39;00m \u001b[39m'\u001b[39m\u001b[39mfree_energy\u001b[39m\u001b[39m'\u001b[39m \u001b[39mnot\u001b[39;00m \u001b[39min\u001b[39;00m \u001b[39mself\u001b[39m\u001b[39m.\u001b[39mresults:\n",
      "File \u001b[0;32m~/miniconda3/envs/mlenv/lib/python3.9/site-packages/ase/calculators/calculator.py:737\u001b[0m, in \u001b[0;36mCalculator.get_property\u001b[0;34m(self, name, atoms, allow_calculation)\u001b[0m\n\u001b[1;32m    <a href='file:///~/miniconda3/envs/mlenv/lib/python3.9/site-packages/ase/calculators/calculator.py?line=734'>735</a>\u001b[0m     \u001b[39mif\u001b[39;00m \u001b[39mnot\u001b[39;00m allow_calculation:\n\u001b[1;32m    <a href='file:///~/miniconda3/envs/mlenv/lib/python3.9/site-packages/ase/calculators/calculator.py?line=735'>736</a>\u001b[0m         \u001b[39mreturn\u001b[39;00m \u001b[39mNone\u001b[39;00m\n\u001b[0;32m--> <a href='file:///~/miniconda3/envs/mlenv/lib/python3.9/site-packages/ase/calculators/calculator.py?line=736'>737</a>\u001b[0m     \u001b[39mself\u001b[39;49m\u001b[39m.\u001b[39;49mcalculate(atoms, [name], system_changes)\n\u001b[1;32m    <a href='file:///~/miniconda3/envs/mlenv/lib/python3.9/site-packages/ase/calculators/calculator.py?line=738'>739</a>\u001b[0m \u001b[39mif\u001b[39;00m name \u001b[39mnot\u001b[39;00m \u001b[39min\u001b[39;00m \u001b[39mself\u001b[39m\u001b[39m.\u001b[39mresults:\n\u001b[1;32m    <a href='file:///~/miniconda3/envs/mlenv/lib/python3.9/site-packages/ase/calculators/calculator.py?line=739'>740</a>\u001b[0m     \u001b[39m# For some reason the calculator was not able to do what we want,\u001b[39;00m\n\u001b[1;32m    <a href='file:///~/miniconda3/envs/mlenv/lib/python3.9/site-packages/ase/calculators/calculator.py?line=740'>741</a>\u001b[0m     \u001b[39m# and that is OK.\u001b[39;00m\n\u001b[1;32m    <a href='file:///~/miniconda3/envs/mlenv/lib/python3.9/site-packages/ase/calculators/calculator.py?line=741'>742</a>\u001b[0m     \u001b[39mraise\u001b[39;00m PropertyNotImplementedError(\u001b[39m'\u001b[39m\u001b[39m{}\u001b[39;00m\u001b[39m not present in this \u001b[39m\u001b[39m'\u001b[39m\n\u001b[1;32m    <a href='file:///~/miniconda3/envs/mlenv/lib/python3.9/site-packages/ase/calculators/calculator.py?line=742'>743</a>\u001b[0m                                       \u001b[39m'\u001b[39m\u001b[39mcalculation\u001b[39m\u001b[39m'\u001b[39m\u001b[39m.\u001b[39mformat(name))\n",
      "File \u001b[0;32m~/miniconda3/envs/mlenv/lib/python3.9/site-packages/ase/calculators/lammpsrun.py:321\u001b[0m, in \u001b[0;36mLAMMPS.calculate\u001b[0;34m(self, atoms, properties, system_changes)\u001b[0m\n\u001b[1;32m    <a href='file:///~/miniconda3/envs/mlenv/lib/python3.9/site-packages/ase/calculators/lammpsrun.py?line=318'>319</a>\u001b[0m     system_changes \u001b[39m=\u001b[39m all_changes\n\u001b[1;32m    <a href='file:///~/miniconda3/envs/mlenv/lib/python3.9/site-packages/ase/calculators/lammpsrun.py?line=319'>320</a>\u001b[0m Calculator\u001b[39m.\u001b[39mcalculate(\u001b[39mself\u001b[39m, atoms, properties, system_changes)\n\u001b[0;32m--> <a href='file:///~/miniconda3/envs/mlenv/lib/python3.9/site-packages/ase/calculators/lammpsrun.py?line=320'>321</a>\u001b[0m \u001b[39mself\u001b[39;49m\u001b[39m.\u001b[39;49mrun()\n",
      "File \u001b[0;32m~/miniconda3/envs/mlenv/lib/python3.9/site-packages/ase/calculators/lammpsrun.py:434\u001b[0m, in \u001b[0;36mLAMMPS.run\u001b[0;34m(self, set_atoms)\u001b[0m\n\u001b[1;32m    <a href='file:///~/miniconda3/envs/mlenv/lib/python3.9/site-packages/ase/calculators/lammpsrun.py?line=431'>432</a>\u001b[0m     command \u001b[39m=\u001b[39m \u001b[39mself\u001b[39m\u001b[39m.\u001b[39mget_lammps_command()\n\u001b[1;32m    <a href='file:///~/miniconda3/envs/mlenv/lib/python3.9/site-packages/ase/calculators/lammpsrun.py?line=432'>433</a>\u001b[0m     \u001b[39m# Attempt to (re)start lammps\u001b[39;00m\n\u001b[0;32m--> <a href='file:///~/miniconda3/envs/mlenv/lib/python3.9/site-packages/ase/calculators/lammpsrun.py?line=433'>434</a>\u001b[0m     \u001b[39mself\u001b[39m\u001b[39m.\u001b[39m_lmp_handle \u001b[39m=\u001b[39m Popen(\n\u001b[1;32m    <a href='file:///~/miniconda3/envs/mlenv/lib/python3.9/site-packages/ase/calculators/lammpsrun.py?line=434'>435</a>\u001b[0m         shlex\u001b[39m.\u001b[39;49msplit(command, posix\u001b[39m=\u001b[39;49m(os\u001b[39m.\u001b[39;49mname \u001b[39m==\u001b[39;49m \u001b[39m\"\u001b[39;49m\u001b[39mposix\u001b[39;49m\u001b[39m\"\u001b[39;49m)),\n\u001b[1;32m    <a href='file:///~/miniconda3/envs/mlenv/lib/python3.9/site-packages/ase/calculators/lammpsrun.py?line=435'>436</a>\u001b[0m         stdin\u001b[39m=\u001b[39;49mPIPE,\n\u001b[1;32m    <a href='file:///~/miniconda3/envs/mlenv/lib/python3.9/site-packages/ase/calculators/lammpsrun.py?line=436'>437</a>\u001b[0m         stdout\u001b[39m=\u001b[39;49mPIPE,\n\u001b[1;32m    <a href='file:///~/miniconda3/envs/mlenv/lib/python3.9/site-packages/ase/calculators/lammpsrun.py?line=437'>438</a>\u001b[0m     )\n\u001b[1;32m    <a href='file:///~/miniconda3/envs/mlenv/lib/python3.9/site-packages/ase/calculators/lammpsrun.py?line=438'>439</a>\u001b[0m lmp_handle \u001b[39m=\u001b[39m \u001b[39mself\u001b[39m\u001b[39m.\u001b[39m_lmp_handle\n\u001b[1;32m    <a href='file:///~/miniconda3/envs/mlenv/lib/python3.9/site-packages/ase/calculators/lammpsrun.py?line=440'>441</a>\u001b[0m \u001b[39m# Create thread reading lammps stdout (for reference, if requested,\u001b[39;00m\n\u001b[1;32m    <a href='file:///~/miniconda3/envs/mlenv/lib/python3.9/site-packages/ase/calculators/lammpsrun.py?line=441'>442</a>\u001b[0m \u001b[39m# also create lammps_log, although it is never used)\u001b[39;00m\n",
      "File \u001b[0;32m~/miniconda3/envs/mlenv/lib/python3.9/subprocess.py:951\u001b[0m, in \u001b[0;36mPopen.__init__\u001b[0;34m(self, args, bufsize, executable, stdin, stdout, stderr, preexec_fn, close_fds, shell, cwd, env, universal_newlines, startupinfo, creationflags, restore_signals, start_new_session, pass_fds, user, group, extra_groups, encoding, errors, text, umask)\u001b[0m\n\u001b[1;32m    <a href='file:///~/miniconda3/envs/mlenv/lib/python3.9/subprocess.py?line=946'>947</a>\u001b[0m         \u001b[39mif\u001b[39;00m \u001b[39mself\u001b[39m\u001b[39m.\u001b[39mtext_mode:\n\u001b[1;32m    <a href='file:///~/miniconda3/envs/mlenv/lib/python3.9/subprocess.py?line=947'>948</a>\u001b[0m             \u001b[39mself\u001b[39m\u001b[39m.\u001b[39mstderr \u001b[39m=\u001b[39m io\u001b[39m.\u001b[39mTextIOWrapper(\u001b[39mself\u001b[39m\u001b[39m.\u001b[39mstderr,\n\u001b[1;32m    <a href='file:///~/miniconda3/envs/mlenv/lib/python3.9/subprocess.py?line=948'>949</a>\u001b[0m                     encoding\u001b[39m=\u001b[39mencoding, errors\u001b[39m=\u001b[39merrors)\n\u001b[0;32m--> <a href='file:///~/miniconda3/envs/mlenv/lib/python3.9/subprocess.py?line=950'>951</a>\u001b[0m     \u001b[39mself\u001b[39;49m\u001b[39m.\u001b[39;49m_execute_child(args, executable, preexec_fn, close_fds,\n\u001b[1;32m    <a href='file:///~/miniconda3/envs/mlenv/lib/python3.9/subprocess.py?line=951'>952</a>\u001b[0m                         pass_fds, cwd, env,\n\u001b[1;32m    <a href='file:///~/miniconda3/envs/mlenv/lib/python3.9/subprocess.py?line=952'>953</a>\u001b[0m                         startupinfo, creationflags, shell,\n\u001b[1;32m    <a href='file:///~/miniconda3/envs/mlenv/lib/python3.9/subprocess.py?line=953'>954</a>\u001b[0m                         p2cread, p2cwrite,\n\u001b[1;32m    <a href='file:///~/miniconda3/envs/mlenv/lib/python3.9/subprocess.py?line=954'>955</a>\u001b[0m                         c2pread, c2pwrite,\n\u001b[1;32m    <a href='file:///~/miniconda3/envs/mlenv/lib/python3.9/subprocess.py?line=955'>956</a>\u001b[0m                         errread, errwrite,\n\u001b[1;32m    <a href='file:///~/miniconda3/envs/mlenv/lib/python3.9/subprocess.py?line=956'>957</a>\u001b[0m                         restore_signals,\n\u001b[1;32m    <a href='file:///~/miniconda3/envs/mlenv/lib/python3.9/subprocess.py?line=957'>958</a>\u001b[0m                         gid, gids, uid, umask,\n\u001b[1;32m    <a href='file:///~/miniconda3/envs/mlenv/lib/python3.9/subprocess.py?line=958'>959</a>\u001b[0m                         start_new_session)\n\u001b[1;32m    <a href='file:///~/miniconda3/envs/mlenv/lib/python3.9/subprocess.py?line=959'>960</a>\u001b[0m \u001b[39mexcept\u001b[39;00m:\n\u001b[1;32m    <a href='file:///~/miniconda3/envs/mlenv/lib/python3.9/subprocess.py?line=960'>961</a>\u001b[0m     \u001b[39m# Cleanup if the child failed starting.\u001b[39;00m\n\u001b[1;32m    <a href='file:///~/miniconda3/envs/mlenv/lib/python3.9/subprocess.py?line=961'>962</a>\u001b[0m     \u001b[39mfor\u001b[39;00m f \u001b[39min\u001b[39;00m \u001b[39mfilter\u001b[39m(\u001b[39mNone\u001b[39;00m, (\u001b[39mself\u001b[39m\u001b[39m.\u001b[39mstdin, \u001b[39mself\u001b[39m\u001b[39m.\u001b[39mstdout, \u001b[39mself\u001b[39m\u001b[39m.\u001b[39mstderr)):\n",
      "File \u001b[0;32m~/miniconda3/envs/mlenv/lib/python3.9/subprocess.py:1821\u001b[0m, in \u001b[0;36mPopen._execute_child\u001b[0;34m(self, args, executable, preexec_fn, close_fds, pass_fds, cwd, env, startupinfo, creationflags, shell, p2cread, p2cwrite, c2pread, c2pwrite, errread, errwrite, restore_signals, gid, gids, uid, umask, start_new_session)\u001b[0m\n\u001b[1;32m   <a href='file:///~/miniconda3/envs/mlenv/lib/python3.9/subprocess.py?line=1818'>1819</a>\u001b[0m     \u001b[39mif\u001b[39;00m errno_num \u001b[39m!=\u001b[39m \u001b[39m0\u001b[39m:\n\u001b[1;32m   <a href='file:///~/miniconda3/envs/mlenv/lib/python3.9/subprocess.py?line=1819'>1820</a>\u001b[0m         err_msg \u001b[39m=\u001b[39m os\u001b[39m.\u001b[39mstrerror(errno_num)\n\u001b[0;32m-> <a href='file:///~/miniconda3/envs/mlenv/lib/python3.9/subprocess.py?line=1820'>1821</a>\u001b[0m     \u001b[39mraise\u001b[39;00m child_exception_type(errno_num, err_msg, err_filename)\n\u001b[1;32m   <a href='file:///~/miniconda3/envs/mlenv/lib/python3.9/subprocess.py?line=1821'>1822</a>\u001b[0m \u001b[39mraise\u001b[39;00m child_exception_type(err_msg)\n",
      "\u001b[0;31mFileNotFoundError\u001b[0m: [Errno 2] No such file or directory: '/home/pleon/mylammps/src/lmp_serial'"
     ]
    }
   ],
   "source": [
    "# Cu alat from https://www.copper.org/resources/properties/atomic_properties.html\n",
    "Cu_alat = 3.6147\n",
    "slab = initialize_slab(Cu_alat)\n",
    "potential = LAMMPS()\n",
    "slab.calc = potential\n",
    "\n",
    "print(f\"potential energy is {slab.get_potential_energy()}\")"
   ]
  },
  {
   "cell_type": "code",
   "execution_count": null,
   "metadata": {},
   "outputs": [],
   "source": []
  }
 ],
 "metadata": {
  "interpreter": {
   "hash": "9e80de14d025d807b45c68737d1c919645c35078767e66b64e8e8ad6c16d8716"
  },
  "kernelspec": {
   "display_name": "Python 3.9.9 ('mlenv')",
   "language": "python",
   "name": "python3"
  },
  "language_info": {
   "codemirror_mode": {
    "name": "ipython",
    "version": 3
   },
   "file_extension": ".py",
   "mimetype": "text/x-python",
   "name": "python",
   "nbconvert_exporter": "python",
   "pygments_lexer": "ipython3",
   "version": "3.9.9"
  },
  "orig_nbformat": 4
 },
 "nbformat": 4,
 "nbformat_minor": 2
}
