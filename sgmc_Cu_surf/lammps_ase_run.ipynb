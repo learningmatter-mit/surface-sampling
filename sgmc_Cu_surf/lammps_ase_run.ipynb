{
 "cells": [
  {
   "cell_type": "code",
   "execution_count": 1,
   "metadata": {},
   "outputs": [],
   "source": [
    "import os\n",
    "\n",
    "os.environ[\"LAMMPS_COMMAND\"] = \"/home/pleon/mylammps/src/lmp_serial\"\n",
    "os.environ[\"LAMMPS_POTENTIALS\"] = \"/home/pleon/mylammps/potentials/\"\n",
    "os.environ[\"ASE_LAMMPSRUN_COMMAND\"] = \"/home/pleon/mylammps/src/lmp_serial\"\n",
    "\n",
    "from ase.calculators.lammpsrun import LAMMPS\n",
    "from ase.io import write\n",
    "from catkit.gen.adsorption import get_adsorption_sites\n",
    "from mcmc import initialize_slab, spin_flip, mcmc_run, get_random_idx\n",
    "from time import perf_counter\n",
    "from pprint import pprint as pp\n",
    "\n",
    "import catkit\n",
    "import numpy as np"
   ]
  },
  {
   "cell_type": "code",
   "execution_count": 3,
   "metadata": {},
   "outputs": [
    {
     "name": "stdout",
     "output_type": "stream",
     "text": [
      "potential energy is -209.7159494751834\n"
     ]
    }
   ],
   "source": [
    "# Cu alat from https://www.copper.org/resources/properties/atomic_properties.html\n",
    "Cu_alat = 3.6147\n",
    "slab = initialize_slab(Cu_alat)\n",
    "\n",
    "parameters = {\n",
    "    'pair_style': 'eam',\n",
    "    'pair_coeff': ['* * Cu_u3.eam']\n",
    "}\n",
    "\n",
    "potential_file = os.path.join(os.environ[\"LAMMPS_POTENTIALS\"], 'Cu_u3.eam')\n",
    "calc = LAMMPS(files=[potential_file], keep_tmp_files=True, tmp_dir=\"/home/dux/surface_sampling/tmp_files\")\n",
    "calc.set(**parameters)\n",
    "slab.calc = calc\n",
    "\n",
    "print(f\"potential energy is {slab.get_potential_energy()}\")\n",
    "\n"
   ]
  },
  {
   "cell_type": "code",
   "execution_count": null,
   "metadata": {},
   "outputs": [],
   "source": [
    "from ase import Atom, Atoms\n",
    "\n",
    "a = [6.5, 6.5, 7.7]\n",
    "d = 2.3608\n",
    "NaCl = Atoms([Atom('Na', [0, 0, 0]),\n",
    "              Atom('Cl', [0, 0, d])],\n",
    "             cell=a, pbc=True)\n",
    "\n",
    "potential_file = os.path.join(os.environ[\"LAMMPS_POTENTIALS\"], 'Cu_u3.eam')\n",
    "\n",
    "calc = LAMMPS(files=[], verbose=True)\n",
    "NaCl.calc = calc\n",
    "\n",
    "print(f\"potential energy is {slab.get_potential_energy()}\")"
   ]
  },
  {
   "cell_type": "code",
   "execution_count": null,
   "metadata": {},
   "outputs": [],
   "source": []
  }
 ],
 "metadata": {
  "interpreter": {
   "hash": "9e80de14d025d807b45c68737d1c919645c35078767e66b64e8e8ad6c16d8716"
  },
  "kernelspec": {
   "display_name": "Python 3.9.9 ('mlenv')",
   "language": "python",
   "name": "python3"
  },
  "language_info": {
   "codemirror_mode": {
    "name": "ipython",
    "version": 3
   },
   "file_extension": ".py",
   "mimetype": "text/x-python",
   "name": "python",
   "nbconvert_exporter": "python",
   "pygments_lexer": "ipython3",
   "version": "3.9.9"
  },
  "orig_nbformat": 4
 },
 "nbformat": 4,
 "nbformat_minor": 2
}
