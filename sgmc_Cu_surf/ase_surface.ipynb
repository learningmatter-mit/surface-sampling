{
 "cells": [
  {
   "cell_type": "code",
   "execution_count": 1,
   "metadata": {},
   "outputs": [],
   "source": [
    "from ase.build import fcc100, add_adsorbate, bulk\n",
    "from ase.io import write\n",
    "import ase\n",
    "from catkit.gen.adsorption import get_adsorption_sites\n",
    "import catkit\n",
    "import numpy as np\n",
    "\n",
    "\n",
    "# Cu alat from https://www.copper.org/resources/properties/atomic_properties.html\n",
    "Cu_alat = 3.6147\n",
    "vacuum = 15.0\n",
    "slab = fcc100('Cu', size=(4,4,4), a=Cu_alat, vacuum=vacuum)\n",
    "write('Cu_slab.cif', slab)\n",
    "\n",
    "# try build slab using ASE -- no option for full set (not sym reduced) set of adsorption sites\n",
    "free_slab = slab.copy()\n",
    "# possible sites are ‘ontop’, ‘hollow’, ‘hollow’.\n",
    "add_adsorbate(free_slab, 'Ag', 0, 'hollow')\n",
    "write('hollow_slab.cif', free_slab)\n",
    "\n",
    "# free_slab.get_surface_atoms()\n",
    "\n",
    "# free_slab_gratoms = catkit.gratoms.Gratoms(free_slab)\n",
    "# get_adsorption_sites(free_slab_gratoms)\n",
    "\n",
    "# write('abs_slab.cif', abs_slab)\n",
    "# slab.center(vacuum=10.0, axis=2)"
   ]
  },
  {
   "cell_type": "code",
   "execution_count": 2,
   "metadata": {},
   "outputs": [],
   "source": [
    "def get_random_idx(connectivity, type=None):\n",
    "    \"\"\"Get random site index\n",
    "    \"\"\"\n",
    "    connectivities = {\n",
    "        'top': 1,\n",
    "        'bridge': 2,\n",
    "        'hollow': 4\n",
    "    } # defaults to hollow\n",
    "\n",
    "    # top should have connectivity 1, bridge should be 2 and hollow more like 4\n",
    "\n",
    "    if type:\n",
    "        # TODO: implement preferred connecitivity\n",
    "        pass\n",
    "    \n",
    "    rand_idx = random.randrange(len(connectivity))\n",
    "\n",
    "    return rand_idx"
   ]
  },
  {
   "cell_type": "code",
   "execution_count": 3,
   "metadata": {},
   "outputs": [
    {
     "name": "stderr",
     "output_type": "stream",
     "text": [
      "/Users/xiaochendu/miniconda3/envs/mlenv/lib/python3.9/site-packages/catkit/gen/adsorption.py:60: VisibleDeprecationWarning: Creating an ndarray from ragged nested sequences (which is a list-or-tuple of lists-or-tuples-or ndarrays with different lengths or shapes) is deprecated. If you meant to do this, you must specify 'dtype=object' when creating the ndarray.\n",
      "  self.r1_topology = np.array(self.r1_topology)\n",
      "/Users/xiaochendu/miniconda3/envs/mlenv/lib/python3.9/site-packages/catkit/gen/adsorption.py:61: VisibleDeprecationWarning: Creating an ndarray from ragged nested sequences (which is a list-or-tuple of lists-or-tuples-or ndarrays with different lengths or shapes) is deprecated. If you meant to do this, you must specify 'dtype=object' when creating the ndarray.\n",
      "  self.r2_topology = np.array(self.r2_topology)\n"
     ]
    },
    {
     "name": "stdout",
     "output_type": "stream",
     "text": [
      "In pristine slab, there are a total of 64 sites\n",
      "idx is 41 at [ 6.3899472   7.66793665 20.42205   ] with connectivity 2\n",
      "In adsorbed slab, there are a total of 64 sites\n"
     ]
    }
   ],
   "source": [
    "# build surface using catkit instead\n",
    "a1 = bulk('Cu', 'fcc', a=Cu_alat)\n",
    "catkit_slab = catkit.build.surface(a1, size=(4,4,4), miller=(1,0,0), termination=0, fixed=0, vacuum=15, orthogonal=False)\n",
    "write('gratoms.cif', catkit_slab)\n",
    "# written out .cif file looks good\n",
    "\n",
    "#SlabGenerator-> layer_type='angs', layers=10...\n",
    "\n",
    "# get ALL the adsorption sites\n",
    "# top should have connectivity 1, bridge should be 2 and hollow more like 4\n",
    "coords, connectivity, sym_idx = get_adsorption_sites(catkit_slab, symmetry_reduced=False)\n",
    "print(f\"In pristine slab, there are a total of {len(connectivity)} sites\")\n",
    "\n",
    "# keeping track of state\n",
    "import numpy as np\n",
    "state = np.zeros(len(coords), dtype=int)\n",
    "\n",
    "# adsorb to a random site\n",
    "import random\n",
    "random.seed(7)\n",
    "rand_idx = get_random_idx(connectivity)\n",
    "# rand_idx = len(coords)-1\n",
    "rand_site = coords[rand_idx]\n",
    "print(f\"idx is {rand_idx} at {rand_site} with connectivity {connectivity[rand_idx]}\")\n",
    "\n",
    "Ag = catkit.gratoms.Gratoms('Cu')\n",
    "# tag the atom to be adsorbed with its to-be index (last position on slab)    \n",
    "adsorbate_idx = len(catkit_slab)\n",
    "# tags don't seem to be useful rn\n",
    "# Ag.set_tags(adsorbate_idx)\n",
    "state[rand_idx] = adsorbate_idx\n",
    "catkit_slab_build = catkit.gen.adsorption.Builder(catkit_slab)\n",
    "catkit_slab_w_adsorbate = catkit_slab_build.add_adsorbate(Ag, bonds=[0], index=rand_idx, auto_construct=False, symmetric=False)\n",
    "write(f'gratoms_adsorbed.cif', catkit_slab_w_adsorbate)\n",
    "\n",
    "# get adsorption sites for catkit_slab_w_adsorbate\n",
    "_, new_connectivity, _ = get_adsorption_sites(catkit_slab_w_adsorbate, symmetry_reduced=False)\n",
    "print(f\"In adsorbed slab, there are a total of {len(new_connectivity)} sites\") # which is the same as the number in pristine slab\n",
    "\n",
    "# try to adsorb to the same site using another atom -- worked, still the same atom\n",
    "Na = catkit.gratoms.Gratoms('Na')\n",
    "# Na.set_tags(rand_idx)\n",
    "catkit_slab_ads_build = catkit.gen.adsorption.Builder(catkit_slab_w_adsorbate)\n",
    "catkit_slab_again_adsorbate = catkit_slab_ads_build.add_adsorbate(Na, bonds=[0], index=rand_idx, auto_construct=False, symmetric=False)\n",
    "write(f'gratoms_again_adsorbed.cif', catkit_slab_again_adsorbate)"
   ]
  },
  {
   "cell_type": "code",
   "execution_count": 9,
   "metadata": {},
   "outputs": [
    {
     "name": "stdout",
     "output_type": "stream",
     "text": [
      "idx is 50 at [ 1.27798944  6.3899472  20.42205   ] with connectivity 4\n"
     ]
    },
    {
     "name": "stderr",
     "output_type": "stream",
     "text": [
      "/Users/xiaochendu/miniconda3/envs/mlenv/lib/python3.9/site-packages/catkit/gen/adsorption.py:60: VisibleDeprecationWarning: Creating an ndarray from ragged nested sequences (which is a list-or-tuple of lists-or-tuples-or ndarrays with different lengths or shapes) is deprecated. If you meant to do this, you must specify 'dtype=object' when creating the ndarray.\n",
      "  self.r1_topology = np.array(self.r1_topology)\n",
      "/Users/xiaochendu/miniconda3/envs/mlenv/lib/python3.9/site-packages/catkit/gen/adsorption.py:61: VisibleDeprecationWarning: Creating an ndarray from ragged nested sequences (which is a list-or-tuple of lists-or-tuples-or ndarrays with different lengths or shapes) is deprecated. If you meant to do this, you must specify 'dtype=object' when creating the ndarray.\n",
      "  self.r2_topology = np.array(self.r2_topology)\n"
     ]
    }
   ],
   "source": [
    "# adsorb a Cu on a different site \n",
    "rand_idx_2 = get_random_idx(connectivity)\n",
    "rand_site_2 = coords[rand_idx_2]\n",
    "print(f\"idx is {rand_idx_2} at {rand_site_2} with connectivity {connectivity[rand_idx_2]}\")\n",
    "\n",
    "# Cu = catkit.gratoms.Gratoms(a1)\n",
    "Cu = catkit.gratoms.Gratoms('Cu')\n",
    "# tag the atom to be adsorbed with its to-be index (last position on slab)    \n",
    "adsorbate_idx_2 = len(catkit_slab_w_adsorbate)\n",
    "# Au.set_tags(adsorbate_idx_2)\n",
    "state[rand_idx_2] = adsorbate_idx_2\n",
    "catkit_slab_build_2 = catkit.gen.adsorption.Builder(catkit_slab_w_adsorbate)\n",
    "catkit_slab_w_2_adsorbates = catkit_slab_build_2.add_adsorbate(Cu, bonds=[0], index=rand_idx_2, auto_construct=False, symmetric=False)\n",
    "write(f'gratoms_adsorbed_2.cif', catkit_slab_w_2_adsorbates)\n",
    "\n",
    "# desorb Ag\n",
    "# checking no double adsorption\n",
    "# slab_tags = catkit_slab_w_adsorbate.get_tags()\n",
    "# assert len(np.argwhere(slab_tags==adsorbate_idx)) <= 1, \"more than 1 site found\"\n",
    "# assert len(np.argwhere(slab_tags==adsorbate_idx)) == 1, \"no sites found\"\n",
    "# np.argwhere(slab_tags==adsorbate_idx)[0,0]\n",
    "assert len(np.argwhere(state==adsorbate_idx)) <= 1, \"more than 1 site found\"\n",
    "assert len(np.argwhere(state==adsorbate_idx)) == 1, \"no sites found\"\n",
    "\n",
    "# remove adsorbate\n",
    "gatoms_for_del = catkit_slab_w_2_adsorbates.copy()\n",
    "del gatoms_for_del[adsorbate_idx]\n",
    "\n",
    "# assert slab after deletion is the same as slab before adsorption\n",
    "# print(gatoms_for_del == catkit_slab)\n",
    "write(f\"gratoms_2_delete_1.cif\", gatoms_for_del)"
   ]
  },
  {
   "cell_type": "code",
   "execution_count": 5,
   "metadata": {},
   "outputs": [
    {
     "name": "stdout",
     "output_type": "stream",
     "text": [
      "type of 65 is <class 'numpy.int64'>\n",
      "error message: index 65 is out of bounds for axis 0 with size 65\n"
     ]
    }
   ],
   "source": [
    "assert len(np.argwhere(state==adsorbate_idx_2)) <= 1, \"more than 1 site found\"\n",
    "assert len(np.argwhere(state==adsorbate_idx_2)) == 1, \"no sites found\"\n",
    "\n",
    "# try remove Au, failed because the Ag before it was already removed\n",
    "gatoms_for_del = gatoms_for_del.copy()\n",
    "print(f\"type of {adsorbate_idx_2} is {type(state[rand_idx_2])}\")\n",
    "try:\n",
    "    del gatoms_for_del[state[rand_idx_2]]\n",
    "except IndexError as e:\n",
    "    print(f\"error message: {e}\")\n",
    "\n",
    "# now actually delete\n",
    "gatoms_for_del[adsorbate_idx_2-1]\n",
    "write(f\"gratoms_2_delete_2.cif\", gatoms_for_del)"
   ]
  },
  {
   "cell_type": "code",
   "execution_count": 6,
   "metadata": {},
   "outputs": [],
   "source": [
    "state = np.where(state>0,state-1,0)"
   ]
  },
  {
   "cell_type": "code",
   "execution_count": 7,
   "metadata": {},
   "outputs": [
    {
     "data": {
      "text/plain": [
       "array([ 0,  0,  0,  0,  0,  0,  0,  0,  0,  0,  0,  0,  0,  0,  0,  0,  0,\n",
       "        0,  0, 64,  0,  0,  0,  0,  0,  0,  0,  0,  0,  0,  0,  0,  0,  0,\n",
       "        0,  0,  0,  0,  0,  0,  0, 63,  0,  0,  0,  0,  0,  0,  0,  0,  0,\n",
       "        0,  0,  0,  0,  0,  0,  0,  0,  0,  0,  0,  0,  0])"
      ]
     },
     "execution_count": 7,
     "metadata": {},
     "output_type": "execute_result"
    }
   ],
   "source": [
    "state"
   ]
  },
  {
   "cell_type": "code",
   "execution_count": 8,
   "metadata": {},
   "outputs": [],
   "source": [
    "# from catkit.gen.surface import SlabGenerator\n",
    "# from ase.visualize import view\n",
    "\n",
    "# # Make a test slab\n",
    "# atoms = bulk('Pd', 'fcc', cubic=True)\n",
    "# atoms[3].symbol = 'Cu'\n",
    "\n",
    "# gen = SlabGenerator(\n",
    "#     atoms,\n",
    "#     miller_index=(2, 1, 1),\n",
    "#     layers=9,\n",
    "#     fixed=5,\n",
    "#     vacuum=4)\n",
    "# free_slab.info"
   ]
  }
 ],
 "metadata": {
  "interpreter": {
   "hash": "52c80ae8dd6c1a0bcd088a907455e2d267fd03a787ceaaaaeeff2a73233138b6"
  },
  "kernelspec": {
   "display_name": "Python 3.9.9 ('mlenv': conda)",
   "language": "python",
   "name": "python3"
  },
  "language_info": {
   "codemirror_mode": {
    "name": "ipython",
    "version": 3
   },
   "file_extension": ".py",
   "mimetype": "text/x-python",
   "name": "python",
   "nbconvert_exporter": "python",
   "pygments_lexer": "ipython3",
   "version": "3.9.9"
  },
  "orig_nbformat": 4
 },
 "nbformat": 4,
 "nbformat_minor": 2
}
