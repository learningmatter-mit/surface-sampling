{
 "cells": [
  {
   "cell_type": "markdown",
   "metadata": {},
   "source": [
    "What is going on?"
   ]
  },
  {
   "cell_type": "code",
   "execution_count": 33,
   "metadata": {},
   "outputs": [
    {
     "name": "stdout",
     "output_type": "stream",
     "text": [
      "distance btw lit optim and lit    (0.01287754772691926, 0.02094690414206456)\n",
      "distance btw lit optim and expt 1 (0.13092956831157618, 0.2168180678039432)\n",
      "distance btw lit optim and expt 2 (0.17833628843868046, 0.2549708663260898)\n"
     ]
    }
   ],
   "source": [
    "from pymatgen.analysis.structure_matcher import StructureMatcher\n",
    "from pymatgen.io.ase import AseAtomsAdaptor\n",
    "\n",
    "from ase.io import read, write\n",
    "\n",
    "pristine_slab = read(\"GaN_0001_3x3_pristine_slab.cif\")\n",
    "num_bulk_atoms = len(pristine_slab)\n",
    "\n",
    "# just the adsorbates\n",
    "lit_slab = read(\"GaN_0001_3x3_12_Ga_ads_arranged_slab.cif\")[num_bulk_atoms:]\n",
    "lit_optim_slab = read(\"GaN_0001_3x3_12_Ga_ads_original_optim_arranged_slab.cif\")[num_bulk_atoms:]\n",
    "expt1_optim_slab = read(\"GaN_0001_3x3/runs300_temp1_adsatoms12_alpha0.99_20220427-1930/optim_slab_run_300.cif\")[num_bulk_atoms:]\n",
    "expt2_optim_slab = read(\"GaN_0001_3x3/runs300_temp1_adsatoms12_alpha0.99_20220427-2157/optim_slab_run_300.cif\")[num_bulk_atoms:]\n",
    "\n",
    "lit_pmg = AseAtomsAdaptor.get_structure(lit_slab)\n",
    "lit_optim_pmg = AseAtomsAdaptor.get_structure(lit_optim_slab)\n",
    "expt1_optim_pmg = AseAtomsAdaptor.get_structure(expt1_optim_slab)\n",
    "expt2_optim_pmg = AseAtomsAdaptor.get_structure(expt2_optim_slab)\n",
    "\n",
    "struc_matcher = StructureMatcher(primitive_cell=False)\n",
    "'''\n",
    "Returns:\n",
    "    rms displacement normalized by (Vol / nsites) ** (1/3) and maximum distance between paired sites.\n",
    "    If no matching lattice is found None is returned.\n",
    "'''\n",
    "print(f\"distance btw lit optim and lit    {struc_matcher.get_rms_dist(lit_optim_pmg, lit_pmg)}\")\n",
    "print(f\"distance btw lit optim and expt 1 {struc_matcher.get_rms_dist(lit_optim_pmg, expt1_optim_pmg)}\")\n",
    "print(f\"distance btw lit optim and expt 2 {struc_matcher.get_rms_dist(lit_optim_pmg, expt2_optim_pmg)}\")"
   ]
  },
  {
   "cell_type": "code",
   "execution_count": null,
   "metadata": {},
   "outputs": [],
   "source": []
  }
 ],
 "metadata": {
  "interpreter": {
   "hash": "52c80ae8dd6c1a0bcd088a907455e2d267fd03a787ceaaaaeeff2a73233138b6"
  },
  "kernelspec": {
   "display_name": "Python 3.9.9 ('mlenv')",
   "language": "python",
   "name": "python3"
  },
  "language_info": {
   "codemirror_mode": {
    "name": "ipython",
    "version": 3
   },
   "file_extension": ".py",
   "mimetype": "text/x-python",
   "name": "python",
   "nbconvert_exporter": "python",
   "pygments_lexer": "ipython3",
   "version": "3.9.9"
  },
  "orig_nbformat": 4
 },
 "nbformat": 4,
 "nbformat_minor": 2
}
