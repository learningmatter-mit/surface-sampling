{
 "cells": [
  {
   "cell_type": "code",
   "execution_count": 1,
   "metadata": {},
   "outputs": [],
   "source": [
    "from ase.calculators.eam import EAM\n",
    "from ase.io import write\n",
    "from catkit.gen.adsorption import get_adsorption_sites\n",
    "from mcmc import initialize_slab, spin_flip, mcmc_run, get_random_idx\n",
    "from time import perf_counter\n",
    "from pprint import pprint as pp\n",
    "\n",
    "import catkit\n",
    "import numpy as np"
   ]
  },
  {
   "cell_type": "code",
   "execution_count": 2,
   "metadata": {},
   "outputs": [
    {
     "name": "stdout",
     "output_type": "stream",
     "text": [
      "slab calc <ase.calculators.eam.EAM object at 0x7f869f615490>\n",
      "In pristine slab, there are a total of 64 sites\n"
     ]
    },
    {
     "name": "stderr",
     "output_type": "stream",
     "text": [
      "/home/dux/miniconda3/envs/mlenv/lib/python3.9/site-packages/catkit/gen/adsorption.py:60: VisibleDeprecationWarning: Creating an ndarray from ragged nested sequences (which is a list-or-tuple of lists-or-tuples-or ndarrays with different lengths or shapes) is deprecated. If you meant to do this, you must specify 'dtype=object' when creating the ndarray.\n",
      "  self.r1_topology = np.array(self.r1_topology)\n",
      "/home/dux/miniconda3/envs/mlenv/lib/python3.9/site-packages/catkit/gen/adsorption.py:61: VisibleDeprecationWarning: Creating an ndarray from ragged nested sequences (which is a list-or-tuple of lists-or-tuples-or ndarrays with different lengths or shapes) is deprecated. If you meant to do this, you must specify 'dtype=object' when creating the ndarray.\n",
      "  self.r2_topology = np.array(self.r2_topology)\n"
     ]
    }
   ],
   "source": [
    "# Cu alat from https://www.copper.org/resources/properties/atomic_properties.html\n",
    "Cu_alat = 3.6147\n",
    "slab = initialize_slab(Cu_alat)\n",
    "potential = EAM(potential='Cu2.eam.fs')\n",
    "slab.calc = potential\n",
    "\n",
    "print(f\"slab calc {slab.calc}\")\n",
    "\n",
    "# get ALL the adsorption sites\n",
    "# top should have connectivity 1, bridge should be 2 and hollow more like 4\n",
    "coords, connectivity, sym_idx = get_adsorption_sites(slab, symmetry_reduced=False)\n",
    "print(f\"In pristine slab, there are a total of {len(connectivity)} sites\")\n",
    "\n",
    "# state of each vacancy in slab. for state > 0, it's filled, and that's the index of the adsorbate atom in slab\n",
    "state = np.zeros(len(coords), dtype=int)\n",
    "\n",
    "temp = 300\n",
    "pot = 2"
   ]
  },
  {
   "cell_type": "code",
   "execution_count": 3,
   "metadata": {},
   "outputs": [
    {
     "name": "stdout",
     "output_type": "stream",
     "text": [
      "site index is 0\n",
      "new slab has 128 atoms and original slab has 64 atoms.\n"
     ]
    }
   ],
   "source": [
    "Cu = catkit.gratoms.Gratoms('Cu')\n",
    "atom = Cu\n",
    "new_slab = slab.copy()\n",
    "\n",
    "proposed_slab_builder = catkit.gen.adsorption.Builder(new_slab)\n",
    "\n",
    "# add multiple adsorbates\n",
    "site_indices = list(range(len(connectivity)))\n",
    "\n",
    "print(f\"site index is {site_indices[0]}\")\n",
    "# use proposed_slab_builder._single_adsorption multiple times\n",
    "for i, index in enumerate(site_indices):\n",
    "    new_slab = proposed_slab_builder._single_adsorption(\n",
    "                atom,\n",
    "                bond=0,\n",
    "                slab=new_slab,\n",
    "                site_index=site_indices[i],\n",
    "                auto_construct=False,\n",
    "                symmetric=False)\n",
    "\n",
    "write('new_slab.cif', new_slab)\n",
    "\n",
    "# store the actual positions of the sides\n",
    "print(f\"new slab has {len(new_slab)} atoms and original slab has {len(slab)} atoms.\")\n",
    "ads_coords = new_slab.get_positions()[len(slab):]"
   ]
  },
  {
   "cell_type": "code",
   "execution_count": 11,
   "metadata": {},
   "outputs": [
    {
     "name": "stdout",
     "output_type": "stream",
     "text": [
      "array([1, 1, 1, 1, 1, 1, 1, 1, 1, 1, 1, 1, 1, 1, 1, 1, 2, 2, 2, 2, 2, 2,\n",
      "       2, 2, 2, 2, 2, 2, 2, 2, 2, 2, 2, 2, 2, 2, 2, 2, 2, 2, 2, 2, 2, 2,\n",
      "       2, 2, 2, 2, 4, 4, 4, 4, 4, 4, 4, 4, 4, 4, 4, 4, 4, 4, 4, 4])\n"
     ]
    }
   ],
   "source": [
    "assert len(ads_coords) == len(coords)\n",
    "pp(connectivity)"
   ]
  },
  {
   "cell_type": "code",
   "execution_count": 12,
   "metadata": {},
   "outputs": [],
   "source": [
    "# del slab[1]\n",
    "# get a 4 connectivity (hollow)\n",
    "slab.append('Cu')\n",
    "slab.positions[-1] = ads_coords[-1]\n",
    "# slab.get_positions()\n",
    "\n",
    "# get a 2 connectivity (bridge)\n",
    "slab.append('Cu')\n",
    "slab.positions[-1] = ads_coords[16]\n",
    "\n",
    "# get a 1 connecitivty (top)\n",
    "slab.append('Cu')\n",
    "slab.positions[-1] = ads_coords[0]\n",
    "\n",
    "write('manual_append.cif', slab)"
   ]
  },
  {
   "cell_type": "code",
   "execution_count": 13,
   "metadata": {},
   "outputs": [
    {
     "name": "stdout",
     "output_type": "stream",
     "text": [
      "slab calc <ase.calculators.eam.EAM object at 0x1086f8f40>\n"
     ]
    }
   ],
   "source": [
    "print(f\"slab calc {slab.calc}\")\n",
    "# EAM calc retained!"
   ]
  },
  {
   "cell_type": "code",
   "execution_count": 14,
   "metadata": {},
   "outputs": [],
   "source": [
    "del slab[-1]\n",
    "write('manual_append_del1.cif', slab)\n",
    "del slab[-1]\n",
    "del slab[-1]\n",
    "write('manual_append_del3.cif', slab)"
   ]
  },
  {
   "cell_type": "code",
   "execution_count": null,
   "metadata": {},
   "outputs": [],
   "source": []
  }
 ],
 "metadata": {
  "interpreter": {
   "hash": "9e80de14d025d807b45c68737d1c919645c35078767e66b64e8e8ad6c16d8716"
  },
  "kernelspec": {
   "display_name": "Python 3.9.9 ('mlenv')",
   "language": "python",
   "name": "python3"
  },
  "language_info": {
   "codemirror_mode": {
    "name": "ipython",
    "version": 3
   },
   "file_extension": ".py",
   "mimetype": "text/x-python",
   "name": "python",
   "nbconvert_exporter": "python",
   "pygments_lexer": "ipython3",
   "version": "3.9.10"
  },
  "orig_nbformat": 4
 },
 "nbformat": 4,
 "nbformat_minor": 2
}
