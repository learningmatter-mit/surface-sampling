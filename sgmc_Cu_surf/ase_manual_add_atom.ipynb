{
 "cells": [
  {
   "cell_type": "code",
   "execution_count": 9,
   "metadata": {},
   "outputs": [],
   "source": [
    "from mcmc import initialize_slab, spin_flip, mcmc_run, get_random_idx\n",
    "from catkit.gen.adsorption import get_adsorption_sites\n",
    "from ase.calculators.eam import EAM\n",
    "from time import perf_counter\n",
    "\n",
    "import numpy as np\n",
    "\n",
    "import catkit"
   ]
  },
  {
   "cell_type": "code",
   "execution_count": 10,
   "metadata": {},
   "outputs": [
    {
     "name": "stdout",
     "output_type": "stream",
     "text": [
      "In pristine slab, there are a total of 64 sites\n"
     ]
    },
    {
     "name": "stderr",
     "output_type": "stream",
     "text": [
      "/Users/xiaochendu/miniconda3/envs/mlenv/lib/python3.9/site-packages/catkit/gen/adsorption.py:60: VisibleDeprecationWarning: Creating an ndarray from ragged nested sequences (which is a list-or-tuple of lists-or-tuples-or ndarrays with different lengths or shapes) is deprecated. If you meant to do this, you must specify 'dtype=object' when creating the ndarray.\n",
      "  self.r1_topology = np.array(self.r1_topology)\n",
      "/Users/xiaochendu/miniconda3/envs/mlenv/lib/python3.9/site-packages/catkit/gen/adsorption.py:61: VisibleDeprecationWarning: Creating an ndarray from ragged nested sequences (which is a list-or-tuple of lists-or-tuples-or ndarrays with different lengths or shapes) is deprecated. If you meant to do this, you must specify 'dtype=object' when creating the ndarray.\n",
      "  self.r2_topology = np.array(self.r2_topology)\n"
     ]
    }
   ],
   "source": [
    "# Cu alat from https://www.copper.org/resources/properties/atomic_properties.html\n",
    "Cu_alat = 3.6147\n",
    "slab = initialize_slab(Cu_alat)\n",
    "\n",
    "# get ALL the adsorption sites\n",
    "# top should have connectivity 1, bridge should be 2 and hollow more like 4\n",
    "coords, connectivity, sym_idx = get_adsorption_sites(slab, symmetry_reduced=False)\n",
    "print(f\"In pristine slab, there are a total of {len(connectivity)} sites\")\n",
    "\n",
    "# state of each vacancy in slab. for state > 0, it's filled, and that's the index of the adsorbate atom in slab\n",
    "state = np.zeros(len(coords), dtype=int)\n",
    "\n",
    "temp = 300\n",
    "pot = 2"
   ]
  },
  {
   "cell_type": "code",
   "execution_count": 16,
   "metadata": {},
   "outputs": [
    {
     "name": "stdout",
     "output_type": "stream",
     "text": [
      "get tags [0]\n"
     ]
    },
    {
     "name": "stderr",
     "output_type": "stream",
     "text": [
      "/Users/xiaochendu/miniconda3/envs/mlenv/lib/python3.9/site-packages/catkit/gen/adsorption.py:60: VisibleDeprecationWarning: Creating an ndarray from ragged nested sequences (which is a list-or-tuple of lists-or-tuples-or ndarrays with different lengths or shapes) is deprecated. If you meant to do this, you must specify 'dtype=object' when creating the ndarray.\n",
      "  self.r1_topology = np.array(self.r1_topology)\n",
      "/Users/xiaochendu/miniconda3/envs/mlenv/lib/python3.9/site-packages/catkit/gen/adsorption.py:61: VisibleDeprecationWarning: Creating an ndarray from ragged nested sequences (which is a list-or-tuple of lists-or-tuples-or ndarrays with different lengths or shapes) is deprecated. If you meant to do this, you must specify 'dtype=object' when creating the ndarray.\n",
      "  self.r2_topology = np.array(self.r2_topology)\n"
     ]
    },
    {
     "data": {
      "text/plain": [
       "Gratoms(symbols='Cu64', pbc=[True, True, False], cell=[10.223915527820054, 10.223915527820054, 35.42204999999999], initial_magmoms=..., surface_atoms=..., tags=...)"
      ]
     },
     "execution_count": 16,
     "metadata": {},
     "output_type": "execute_result"
    }
   ],
   "source": [
    "proposed_slab_builder = catkit.gen.adsorption.Builder(slab)\n",
    "Cu = catkit.gratoms.Gratoms('Cu')\n",
    "\n",
    "print(\"get tags\", Cu.get_tags())\n",
    "\n",
    "# add multiple adsorbates\n",
    "site_indices = []\n",
    "# bonds to form\n",
    "num_bonds = len(connectivity)\n",
    "\n",
    "import itertools\n",
    "adsorbates = itertools.repeat(Cu, num_bonds)\n",
    "# proposed_slab = proposed_slab_builder.add_adsorbates(adsorbates, indices=range(num_bonds))\n",
    "\n",
    "\n",
    "proposed_slab_builder.slab\n",
    "\n",
    "# use proposed_slab_builder._single_adsorption multiple times\n"
   ]
  },
  {
   "cell_type": "code",
   "execution_count": 3,
   "metadata": {},
   "outputs": [
    {
     "data": {
      "text/plain": [
       "array([[ 1.27798944e+00,  1.27798944e+00,  1.50000000e+01],\n",
       "       [ 8.94592609e+00,  1.27798944e+00,  1.50000000e+01],\n",
       "       [ 3.83396832e+00,  1.27798944e+00,  1.50000000e+01],\n",
       "       [ 1.27798944e+00,  3.83396832e+00,  1.50000000e+01],\n",
       "       [ 3.83396832e+00,  3.83396832e+00,  1.50000000e+01],\n",
       "       [ 6.38994720e+00,  3.83396832e+00,  1.50000000e+01],\n",
       "       [ 8.94592609e+00,  3.83396832e+00,  1.50000000e+01],\n",
       "       [ 1.27798944e+00,  6.38994720e+00,  1.50000000e+01],\n",
       "       [ 3.83396832e+00,  6.38994720e+00,  1.50000000e+01],\n",
       "       [ 6.38994720e+00,  6.38994720e+00,  1.50000000e+01],\n",
       "       [ 8.94592609e+00,  6.38994720e+00,  1.50000000e+01],\n",
       "       [ 1.27798944e+00,  8.94592609e+00,  1.50000000e+01],\n",
       "       [ 3.83396832e+00,  8.94592609e+00,  1.50000000e+01],\n",
       "       [ 6.38994720e+00,  8.94592609e+00,  1.50000000e+01],\n",
       "       [ 8.94592609e+00,  8.94592609e+00,  1.50000000e+01],\n",
       "       [ 2.04585534e-16, -1.34535432e-16,  1.68073500e+01],\n",
       "       [ 2.55597888e+00, -8.07281152e-17,  1.68073500e+01],\n",
       "       [ 5.11195776e+00, -2.69207988e-17,  1.68073500e+01],\n",
       "       [ 7.66793665e+00,  2.68865175e-17,  1.68073500e+01],\n",
       "       [ 2.58392851e-16,  2.55597888e+00,  1.68073500e+01],\n",
       "       [ 2.55597888e+00,  2.55597888e+00,  1.68073500e+01],\n",
       "       [ 5.11195776e+00,  2.55597888e+00,  1.68073500e+01],\n",
       "       [ 7.66793665e+00,  2.55597888e+00,  1.68073500e+01],\n",
       "       [ 3.12200167e-16,  5.11195776e+00,  1.68073500e+01],\n",
       "       [ 2.55597888e+00,  5.11195776e+00,  1.68073500e+01],\n",
       "       [ 5.11195776e+00,  5.11195776e+00,  1.68073500e+01],\n",
       "       [ 7.66793665e+00,  5.11195776e+00,  1.68073500e+01],\n",
       "       [ 3.66007483e-16,  7.66793665e+00,  1.68073500e+01],\n",
       "       [ 2.55597888e+00,  7.66793665e+00,  1.68073500e+01],\n",
       "       [ 5.11195776e+00,  7.66793665e+00,  1.68073500e+01],\n",
       "       [ 7.66793665e+00,  7.66793665e+00,  1.68073500e+01],\n",
       "       [ 1.27798944e+00,  1.27798944e+00,  1.86147000e+01],\n",
       "       [ 6.38994720e+00,  1.27798944e+00,  1.86147000e+01],\n",
       "       [ 8.94592609e+00,  1.27798944e+00,  1.86147000e+01],\n",
       "       [ 3.83396832e+00,  1.27798944e+00,  1.86147000e+01],\n",
       "       [ 1.27798944e+00,  3.83396832e+00,  1.86147000e+01],\n",
       "       [ 3.83396832e+00,  3.83396832e+00,  1.86147000e+01],\n",
       "       [ 6.38994720e+00,  3.83396832e+00,  1.86147000e+01],\n",
       "       [ 8.94592609e+00,  3.83396832e+00,  1.86147000e+01],\n",
       "       [ 1.27798944e+00,  6.38994720e+00,  1.86147000e+01],\n",
       "       [ 3.83396832e+00,  6.38994720e+00,  1.86147000e+01],\n",
       "       [ 6.38994720e+00,  6.38994720e+00,  1.86147000e+01],\n",
       "       [ 8.94592609e+00,  6.38994720e+00,  1.86147000e+01],\n",
       "       [ 1.27798944e+00,  8.94592609e+00,  1.86147000e+01],\n",
       "       [ 3.83396832e+00,  8.94592609e+00,  1.86147000e+01],\n",
       "       [ 6.38994720e+00,  8.94592609e+00,  1.86147000e+01],\n",
       "       [ 8.94592609e+00,  8.94592609e+00,  1.86147000e+01],\n",
       "       [ 2.77725754e-16, -3.20383631e-33,  2.04220500e+01],\n",
       "       [ 2.55597888e+00,  5.38073164e-17,  2.04220500e+01],\n",
       "       [ 5.11195776e+00,  1.07614633e-16,  2.04220500e+01],\n",
       "       [ 7.66793665e+00,  1.61421949e-16,  2.04220500e+01],\n",
       "       [ 3.31533070e-16,  2.55597888e+00,  2.04220500e+01],\n",
       "       [ 2.55597888e+00,  2.55597888e+00,  2.04220500e+01],\n",
       "       [ 5.11195776e+00,  2.55597888e+00,  2.04220500e+01],\n",
       "       [ 7.66793665e+00,  2.55597888e+00,  2.04220500e+01],\n",
       "       [ 3.85340387e-16,  5.11195776e+00,  2.04220500e+01],\n",
       "       [ 2.55597888e+00,  5.11195776e+00,  2.04220500e+01],\n",
       "       [ 5.11195776e+00,  5.11195776e+00,  2.04220500e+01],\n",
       "       [ 7.66793665e+00,  5.11195776e+00,  2.04220500e+01],\n",
       "       [ 4.39147703e-16,  7.66793665e+00,  2.04220500e+01],\n",
       "       [ 2.55597888e+00,  7.66793665e+00,  2.04220500e+01],\n",
       "       [ 5.11195776e+00,  7.66793665e+00,  2.04220500e+01],\n",
       "       [ 7.66793665e+00,  7.66793665e+00,  2.04220500e+01],\n",
       "       [ 1.27798944e+00,  8.94592609e+00,  2.04220500e+01]])"
      ]
     },
     "execution_count": 3,
     "metadata": {},
     "output_type": "execute_result"
    }
   ],
   "source": [
    "del slab[1]\n",
    "slab.append('Cu')\n",
    "slab.positions[-1] = coords[-1]\n",
    "slab.get_positions()"
   ]
  },
  {
   "cell_type": "code",
   "execution_count": 4,
   "metadata": {},
   "outputs": [],
   "source": [
    "from ase.io import write\n",
    "write('manual_append.cif', slab)"
   ]
  },
  {
   "cell_type": "code",
   "execution_count": 5,
   "metadata": {},
   "outputs": [
    {
     "data": {
      "text/plain": [
       "64"
      ]
     },
     "execution_count": 5,
     "metadata": {},
     "output_type": "execute_result"
    }
   ],
   "source": [
    "len(slab.get_positions())"
   ]
  },
  {
   "cell_type": "code",
   "execution_count": 6,
   "metadata": {},
   "outputs": [
    {
     "data": {
      "text/plain": [
       "64"
      ]
     },
     "execution_count": 6,
     "metadata": {},
     "output_type": "execute_result"
    }
   ],
   "source": [
    "len(slab)"
   ]
  },
  {
   "cell_type": "code",
   "execution_count": 7,
   "metadata": {},
   "outputs": [
    {
     "data": {
      "text/plain": [
       "array([1, 1, 1, 1, 1, 1, 1, 1, 1, 1, 1, 1, 1, 1, 1, 1, 2, 2, 2, 2, 2, 2,\n",
       "       2, 2, 2, 2, 2, 2, 2, 2, 2, 2, 2, 2, 2, 2, 2, 2, 2, 2, 2, 2, 2, 2,\n",
       "       2, 2, 2, 2, 4, 4, 4, 4, 4, 4, 4, 4, 4, 4, 4, 4, 4, 4, 4, 4])"
      ]
     },
     "execution_count": 7,
     "metadata": {},
     "output_type": "execute_result"
    }
   ],
   "source": [
    "connectivity"
   ]
  },
  {
   "cell_type": "code",
   "execution_count": null,
   "metadata": {},
   "outputs": [],
   "source": []
  }
 ],
 "metadata": {
  "interpreter": {
   "hash": "9e80de14d025d807b45c68737d1c919645c35078767e66b64e8e8ad6c16d8716"
  },
  "kernelspec": {
   "display_name": "Python 3.9.9 ('mlenv')",
   "language": "python",
   "name": "python3"
  },
  "language_info": {
   "codemirror_mode": {
    "name": "ipython",
    "version": 3
   },
   "file_extension": ".py",
   "mimetype": "text/x-python",
   "name": "python",
   "nbconvert_exporter": "python",
   "pygments_lexer": "ipython3",
   "version": "3.9.9"
  },
  "orig_nbformat": 4
 },
 "nbformat": 4,
 "nbformat_minor": 2
}
