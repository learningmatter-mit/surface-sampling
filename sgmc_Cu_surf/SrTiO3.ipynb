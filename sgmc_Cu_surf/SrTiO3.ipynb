{
 "cells": [
  {
   "cell_type": "code",
   "execution_count": 1,
   "metadata": {},
   "outputs": [],
   "source": [
    "from ase.calculators.eam import EAM\n",
    "from ase.calculators.lammpsrun import LAMMPS\n",
    "from ase.io import read\n",
    "\n",
    "import catkit\n",
    "from catkit.gen.adsorption import get_adsorption_sites\n",
    "\n",
    "from mcmc import mcmc_run, slab_energy, get_adsorption_coords\n",
    "import os\n",
    "import numpy as np\n",
    "\n",
    "import sys\n",
    "sys.path.append(\"/home/dux/\")\n",
    "from htvs.djangochem.pgmols.utils import surfaces\n",
    "\n",
    "os.environ[\"PROJECT_DIR\"] = os.getcwd()"
   ]
  },
  {
   "cell_type": "code",
   "execution_count": 2,
   "metadata": {},
   "outputs": [],
   "source": [
    "# use LAMMPS\n",
    "# alloy_parameters = {\n",
    "#     'pair_style': 'eam/alloy',\n",
    "#     'pair_coeff': ['* * cu_ag_ymwu.eam.alloy Ag']\n",
    "# }\n",
    "# alloy_potential_file = os.path.join(os.environ[\"PROJECT_DIR\"], 'cu_ag_ymwu.eam.alloy')\n",
    "# alloy_calc = LAMMPS(files=[alloy_potential_file], keep_tmp_files=True, keep_alive=False, tmp_dir=\"/home/dux/surface_sampling/tmp_files\")\n",
    "# alloy_calc.set(**alloy_parameters)\n",
    "\n",
    "# CaTiO3 from standard cell\n",
    "atoms = read('SrTiO3_mp-5229_conventional_standard.cif')\n",
    "slab, surface_atoms = surfaces.surface_from_bulk(atoms, [1,1,1], size=[4,4])\n",
    "slab.write('SrTiO3_111_4x4_pristine_slab.cif')\n",
    "\n",
    "# slab.calc = alloy_calc\n",
    "# print(f\"Alloy calc pristine slab energy is {slab_energy(slab)}\")\n",
    "\n",
    "# slab.calc = pure_calc\n",
    "# print(f\"Pure calc pristine slab energy is {slab_energy(slab)}\")"
   ]
  },
  {
   "cell_type": "code",
   "execution_count": 3,
   "metadata": {},
   "outputs": [
    {
     "name": "stderr",
     "output_type": "stream",
     "text": [
      "/home/dux/.local/lib/python3.9/site-packages/catkit/gen/adsorption.py:60: VisibleDeprecationWarning: Creating an ndarray from ragged nested sequences (which is a list-or-tuple of lists-or-tuples-or ndarrays with different lengths or shapes) is deprecated. If you meant to do this, you must specify 'dtype=object' when creating the ndarray.\n",
      "  self.r1_topology = np.array(self.r1_topology)\n",
      "/home/dux/.local/lib/python3.9/site-packages/catkit/gen/adsorption.py:61: VisibleDeprecationWarning: Creating an ndarray from ragged nested sequences (which is a list-or-tuple of lists-or-tuples-or ndarrays with different lengths or shapes) is deprecated. If you meant to do this, you must specify 'dtype=object' when creating the ndarray.\n",
      "  self.r2_topology = np.array(self.r2_topology)\n"
     ]
    }
   ],
   "source": [
    "# manually get adsorption coords\n",
    "coords, connectivity, sym_idx = get_adsorption_sites(slab, symmetry_reduced=False)\n",
    "\n",
    "# get absolute adsorption coords\n",
    "# element = 'O'\n",
    "# metal = catkit.gratoms.Gratoms(element)\n",
    "\n",
    "# ads_coords = get_adsorption_coords(slab, metal, connectivity)"
   ]
  },
  {
   "cell_type": "code",
   "execution_count": 4,
   "metadata": {},
   "outputs": [
    {
     "data": {
      "text/plain": [
       "384"
      ]
     },
     "execution_count": 4,
     "metadata": {},
     "output_type": "execute_result"
    }
   ],
   "source": [
    "len(coords)"
   ]
  },
  {
   "cell_type": "code",
   "execution_count": null,
   "metadata": {},
   "outputs": [],
   "source": []
  }
 ],
 "metadata": {
  "interpreter": {
   "hash": "52c80ae8dd6c1a0bcd088a907455e2d267fd03a787ceaaaaeeff2a73233138b6"
  },
  "kernelspec": {
   "display_name": "Python 3.9.9 ('mlenv')",
   "language": "python",
   "name": "python3"
  },
  "language_info": {
   "codemirror_mode": {
    "name": "ipython",
    "version": 3
   },
   "file_extension": ".py",
   "mimetype": "text/x-python",
   "name": "python",
   "nbconvert_exporter": "python",
   "pygments_lexer": "ipython3",
   "version": "3.9.9"
  },
  "orig_nbformat": 4
 },
 "nbformat": 4,
 "nbformat_minor": 2
}
