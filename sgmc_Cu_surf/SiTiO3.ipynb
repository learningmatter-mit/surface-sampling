{
 "cells": [
  {
   "cell_type": "code",
   "execution_count": 9,
   "metadata": {},
   "outputs": [],
   "source": [
    "from ase.build import make_supercell\n",
    "from ase.calculators.eam import EAM\n",
    "from ase.calculators.lammpsrun import LAMMPS\n",
    "from ase.io import read\n",
    "\n",
    "import catkit\n",
    "from catkit import Gratoms\n",
    "from catkit.gen.adsorption import get_adsorption_sites\n",
    "\n",
    "from mcmc import mcmc_run, slab_energy, get_adsorption_coords\n",
    "import os\n",
    "import numpy as np\n",
    "\n",
    "import sys\n",
    "sys.path.append(\"/home/dux/\")\n",
    "from htvs.djangochem.pgmols.utils import surfaces\n",
    "\n",
    "os.environ[\"PROJECT_DIR\"] = os.getcwd()"
   ]
  },
  {
   "cell_type": "code",
   "execution_count": 10,
   "metadata": {},
   "outputs": [
    {
     "name": "stdout",
     "output_type": "stream",
     "text": [
      "slab type <class 'catkit.gratoms.Gratoms'>\n"
     ]
    }
   ],
   "source": [
    "# SiTiO3 from HTVS db\n",
    "import sys\n",
    "import os\n",
    "import django\n",
    "import numpy as np\n",
    "from tqdm import tqdm\n",
    "import pandas as pd\n",
    "import pickle as pkl\n",
    "sys.path.append('/home/dux/htvs/')\n",
    "sys.path.append('/home/dux/htvs/djangochem/')\n",
    "\n",
    "#from imports import *\n",
    "#from django_imports import *\n",
    "# from pymatgen.core.periodic_table import Element\n",
    "# from chemconfigs.vasp.defaults import Magmom\n",
    "# from ase.visualize import view\n",
    "\n",
    "# setup the djhango settings file.  Change this to use the settings file that connects you to your desired database\n",
    "os.environ[\"DJANGO_SETTINGS_MODULE\"] = \"djangochem.settings.orgel\"\n",
    "os.environ[\"DJANGO_ALLOW_ASYNC_UNSAFE\"] = \"true\"  # CAUTION!!! LINE NECESSARY WHEN INTERACTING WITH DATABASE IN JUPYTER NOTEBOOK. DO NOT USE THIS LINE IF YOU ARE PLANNING ON SAVING/REMOVING THINGS FROM THE DATABASE!!!!!\n",
    "\n",
    "# this must be run to setup access to the django settings and make database access work etc.\n",
    "django.setup()\n",
    "# from jobs.models import Job, JobConfig\n",
    "# from django.contrib.contenttypes.models import ContentType\n",
    "# from ase.io import write\n",
    "\n",
    "from pgmols.models import Surface\n",
    "# from analysis.structure.perovskite import PerovskiteAnalyzer\n",
    "# from pymatgen.core.periodic_table import Element\n",
    "\n",
    "unit_slab = Surface.objects.get(id=203512369).as_ase_gratoms()\n",
    "\n",
    "# get supercell\n",
    "multiplier = np.diag([4, 4, 1])"
   ]
  },
  {
   "cell_type": "code",
   "execution_count": 11,
   "metadata": {},
   "outputs": [],
   "source": [
    "# use LAMMPS\n",
    "# alloy_parameters = {\n",
    "#     'pair_style': 'eam/alloy',\n",
    "#     'pair_coeff': ['* * cu_ag_ymwu.eam.alloy Ag']\n",
    "# }\n",
    "# alloy_potential_file = os.path.join(os.environ[\"PROJECT_DIR\"], 'cu_ag_ymwu.eam.alloy')\n",
    "# alloy_calc = LAMMPS(files=[alloy_potential_file], keep_tmp_files=True, keep_alive=False, tmp_dir=\"/home/dux/surface_sampling/tmp_files\")\n",
    "# alloy_calc.set(**alloy_parameters)\n",
    "\n",
    "# CaTiO3 from standard cell\n",
    "# atoms = read('SrTiO3_mp-5229_conventional_standard.cif')\n",
    "# slab, surface_atoms = surfaces.surface_from_bulk(atoms, [1,1,1], size=[4,4])\n",
    "# slab.write('SrTiO3_111_4x4_pristine_slab.cif')\n",
    "\n",
    "# CaTiO3 from Jackie's code saved as cif... can't get the sites\n",
    "# atoms = read('SrTiO3_001_jackie_4x4.cif')\n",
    "# slab = Gratoms(atoms)\n",
    "# print(\"slab type\", type(slab))\n",
    "\n",
    "# slab.calc = alloy_calc\n",
    "# print(f\"Alloy calc pristine slab energy is {slab_energy(slab)}\")\n",
    "\n",
    "# slab.calc = pure_calc\n",
    "# print(f\"Pure calc pristine slab energy is {slab_energy(slab)}\")"
   ]
  },
  {
   "cell_type": "code",
   "execution_count": 12,
   "metadata": {},
   "outputs": [
    {
     "name": "stderr",
     "output_type": "stream",
     "text": [
      "/home/dux/miniconda3/envs/htvs/lib/python3.7/site-packages/catkit/gen/utils/coordinates.py:104: RuntimeWarning: invalid value encountered in sqrt\n",
      "  a = np.sqrt(4 * d**2 * r[1]**2 - x0**2)\n",
      "/home/dux/miniconda3/envs/htvs/lib/python3.7/site-packages/catkit/gen/utils/coordinates.py:122: RuntimeWarning: invalid value encountered in sqrt\n",
      "  z = np.sqrt(r[0]**2 - x**2 - y**2)\n"
     ]
    }
   ],
   "source": [
    "# manually get adsorption coords\n",
    "coords, connectivity, sym_idx = get_adsorption_sites(slab, symmetry_reduced=False)\n",
    "\n",
    "# get absolute adsorption coords\n",
    "element = 'O'\n",
    "ads = catkit.gratoms.Gratoms(element)\n",
    "\n",
    "# ads_coords = get_adsorption_coords(slab, ads, connectivity)"
   ]
  },
  {
   "cell_type": "code",
   "execution_count": 13,
   "metadata": {},
   "outputs": [
    {
     "name": "stdout",
     "output_type": "stream",
     "text": [
      "slab type <class 'catkit.gratoms.Gratoms'>\n",
      "there are 229 atoms \n",
      "using slab calc None\n"
     ]
    }
   ],
   "source": [
    "slab = make_supercell(unit_slab, multiplier)\n",
    "\n",
    "print(\"slab type\", type(slab))\n",
    "num_runs = 10\n",
    "# no calc, testing to just get some states\n",
    "history, energy_hist, frac_accept_hist, adsorption_count_hist = mcmc_run(num_runs=num_runs, temp=1, pot=0, alpha=1, slab=slab, calc=None, testing=True, element=element)"
   ]
  },
  {
   "cell_type": "code",
   "execution_count": 1,
   "metadata": {},
   "outputs": [
    {
     "ename": "NameError",
     "evalue": "name 'num_runs' is not defined",
     "output_type": "error",
     "traceback": [
      "\u001b[0;31m---------------------------------------------------------------------------\u001b[0m",
      "\u001b[0;31mNameError\u001b[0m                                 Traceback (most recent call last)",
      "\u001b[0;32m/tmp/ipykernel_2727205/617629205.py\u001b[0m in \u001b[0;36m<module>\u001b[0;34m\u001b[0m\n\u001b[1;32m      1\u001b[0m \u001b[0;32mimport\u001b[0m \u001b[0mmatplotlib\u001b[0m\u001b[0;34m.\u001b[0m\u001b[0mpyplot\u001b[0m \u001b[0;32mas\u001b[0m \u001b[0mplt\u001b[0m\u001b[0;34m\u001b[0m\u001b[0;34m\u001b[0m\u001b[0m\n\u001b[0;32m----> 2\u001b[0;31m \u001b[0mruns\u001b[0m \u001b[0;34m=\u001b[0m \u001b[0mrange\u001b[0m\u001b[0;34m(\u001b[0m\u001b[0;36m1\u001b[0m\u001b[0;34m,\u001b[0m \u001b[0mnum_runs\u001b[0m\u001b[0;34m+\u001b[0m\u001b[0;36m1\u001b[0m\u001b[0;34m)\u001b[0m\u001b[0;34m\u001b[0m\u001b[0;34m\u001b[0m\u001b[0m\n\u001b[0m\u001b[1;32m      3\u001b[0m \u001b[0;31m# do the plots\u001b[0m\u001b[0;34m\u001b[0m\u001b[0;34m\u001b[0m\u001b[0;34m\u001b[0m\u001b[0m\n\u001b[1;32m      4\u001b[0m \u001b[0mfig\u001b[0m\u001b[0;34m,\u001b[0m \u001b[0max\u001b[0m \u001b[0;34m=\u001b[0m \u001b[0mplt\u001b[0m\u001b[0;34m.\u001b[0m\u001b[0msubplots\u001b[0m\u001b[0;34m(\u001b[0m\u001b[0;36m2\u001b[0m\u001b[0;34m,\u001b[0m \u001b[0;36m2\u001b[0m\u001b[0;34m,\u001b[0m \u001b[0mfigsize\u001b[0m\u001b[0;34m=\u001b[0m\u001b[0;34m(\u001b[0m\u001b[0;36m10\u001b[0m\u001b[0;34m,\u001b[0m \u001b[0;36m8\u001b[0m\u001b[0;34m)\u001b[0m\u001b[0;34m)\u001b[0m\u001b[0;34m\u001b[0m\u001b[0;34m\u001b[0m\u001b[0m\n\u001b[1;32m      5\u001b[0m \u001b[0max\u001b[0m\u001b[0;34m[\u001b[0m\u001b[0;36m0\u001b[0m\u001b[0;34m,\u001b[0m \u001b[0;36m0\u001b[0m\u001b[0;34m]\u001b[0m\u001b[0;34m.\u001b[0m\u001b[0mplot\u001b[0m\u001b[0;34m(\u001b[0m\u001b[0mruns\u001b[0m\u001b[0;34m,\u001b[0m \u001b[0menergy_hist\u001b[0m\u001b[0;34m)\u001b[0m\u001b[0;34m\u001b[0m\u001b[0;34m\u001b[0m\u001b[0m\n",
      "\u001b[0;31mNameError\u001b[0m: name 'num_runs' is not defined"
     ]
    }
   ],
   "source": [
    "import matplotlib.pyplot as plt\n",
    "runs = range(1, num_runs+1)\n",
    "# do the plots\n",
    "fig, ax = plt.subplots(2, 2, figsize=(10, 8))\n",
    "ax[0, 0].plot(runs, energy_hist)\n",
    "ax[0, 0].set_xlabel(\"Iter\")\n",
    "ax[0, 0].set_ylabel(\"Energy (E)\")\n",
    "ax[0, 0].set_title(\"Energy (E) vs Sweeps\")\n",
    "\n",
    "ax[0, 1].plot(runs, frac_accept_hist)\n",
    "ax[0, 1].set_xlabel(\"Iter\")\n",
    "ax[0, 1].set_ylabel(\"Fraction accepted\")\n",
    "ax[0, 1].set_title(\"Fraction accepted vs Sweeps\")\n",
    "\n",
    "ax[1, 1].plot(runs, np.array(list(adsorption_count_hist.values())).T)\n",
    "ax[1, 1].set_xlabel(\"Iter\")\n",
    "ax[1, 1].set_ylabel(\"Adsorption count\")\n",
    "ax[1, 1].legend(adsorption_count_hist.keys())\n",
    "ax[1, 1].set_title(\"Adsorption count vs Iterations\")\n",
    "\n",
    "fig.show()\n",
    "fig.tight_layout()"
   ]
  },
  {
   "cell_type": "code",
   "execution_count": null,
   "metadata": {},
   "outputs": [],
   "source": []
  }
 ],
 "metadata": {
  "interpreter": {
   "hash": "52c80ae8dd6c1a0bcd088a907455e2d267fd03a787ceaaaaeeff2a73233138b6"
  },
  "kernelspec": {
   "display_name": "Python 3.9.9 ('mlenv')",
   "language": "python",
   "name": "python3"
  },
  "language_info": {
   "codemirror_mode": {
    "name": "ipython",
    "version": 3
   },
   "file_extension": ".py",
   "mimetype": "text/x-python",
   "name": "python",
   "nbconvert_exporter": "python",
   "pygments_lexer": "ipython3",
   "version": "3.7.11"
  },
  "orig_nbformat": 4
 },
 "nbformat": 4,
 "nbformat_minor": 2
}
