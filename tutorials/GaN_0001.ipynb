{
 "cells": [
  {
   "cell_type": "code",
   "execution_count": 1,
   "metadata": {},
   "outputs": [],
   "source": [
    "%load_ext autoreload\n",
    "%autoreload 2"
   ]
  },
  {
   "cell_type": "code",
   "execution_count": 2,
   "metadata": {},
   "outputs": [],
   "source": [
    "import logging\n",
    "import pickle\n",
    "from pathlib import Path\n",
    "\n",
    "import numpy as np\n",
    "\n",
    "np.set_printoptions(precision=3, suppress=True)\n",
    "# uncomment and replace with correct path if there are import errors\n",
    "# os.environ[\"LAMMPS_POTENTIALS\"] = \"/path/to/lammps/potentials/\"\n",
    "# os.environ[\"LAMMPS_COMMAND\"] =\"/path/to/lammps/src/lmp_serial\"\n",
    "# os.environ[\"ASE_LAMMPSRUN_COMMAND\"] = os.environ[\"LAMMPS_COMMAND\"]\n",
    "\n",
    "from time import perf_counter  # noqa\n",
    "\n",
    "from mcmc import MCMC  # noqa\n",
    "from mcmc.utils.plot import plot_summary_stats  # noqa\n",
    "from mcmc.system import SurfaceSystem  # noqa\n",
    "from mcmc.utils import setup_logger  # noqa"
   ]
  },
  {
   "attachments": {},
   "cell_type": "markdown",
   "metadata": {},
   "source": [
    "Initialize test slab and parameters"
   ]
  },
  {
   "cell_type": "code",
   "execution_count": 3,
   "metadata": {},
   "outputs": [],
   "source": [
    "# Initialize paths\n",
    "surface_name = \"GaN_0001\"\n",
    "run_folder = Path() / surface_name\n",
    "run_folder.mkdir(parents=True, exist_ok=True)\n",
    "\n",
    "# Initialize logger\n",
    "logger = setup_logger(\"mcmc\", run_folder / \"mc.log\", logging.INFO)\n",
    "\n",
    "# Load prepared pristine slab\n",
    "try:\n",
    "    with open(\"data/GaN_0001/GaN_0001_3x3_pristine_slab.pkl\", \"rb\") as f:\n",
    "        slab = pickle.load(f)\n",
    "except FileNotFoundError as e:\n",
    "    print(\"Pristine surface pkl file not found. Please check you have downloaded the data.\")\n",
    "    raise e\n",
    "\n",
    "calc_settings = {\n",
    "    \"calc_name\": \"LAMMPS\",\n",
    "    \"optimizer\": \"LAMMPS\",\n",
    "    \"chem_pots\": {\"Ga\": 5},  # eV. arbitrary value\n",
    "    \"relax_atoms\": True,\n",
    "    \"relax_steps\": 100,\n",
    "    \"run_dir\": run_folder,\n",
    "}\n",
    "\n",
    "system_settings = {\n",
    "    \"surface_name\": surface_name,\n",
    "    \"surface_depth\": 1,\n",
    "    \"cutoff\": 5.0,\n",
    "    \"near_reduce\": 0.01,\n",
    "    \"planar_distance\": 1.5,\n",
    "    \"no_obtuse_hollow\": True,\n",
    "    \"ads_site_type\": \"all\",\n",
    "}\n",
    "\n",
    "sampling_settings = {\n",
    "    \"total_sweeps\": 10,\n",
    "    \"sweep_size\": 104,\n",
    "    \"start_temp\": 1.0,  # in terms of kbT\n",
    "    \"perform_annealing\": True,\n",
    "    \"alpha\": 0.99,  # slowly anneal\n",
    "    \"canonical\": True,\n",
    "    \"num_ads_atoms\": 12,\n",
    "    \"adsorbates\": [\"Ga\"],\n",
    "    \"run_folder\": run_folder,\n",
    "}"
   ]
  },
  {
   "attachments": {},
   "cell_type": "markdown",
   "metadata": {},
   "source": [
    "Set up LAMMPS (calculator). Requires a `lammps_config.json` and a `lammps_template.txt` in `run_dir`"
   ]
  },
  {
   "cell_type": "code",
   "execution_count": 4,
   "metadata": {},
   "outputs": [
    {
     "name": "stderr",
     "output_type": "stream",
     "text": [
      "16:32:07 - mcmc.calculators | INFO: run directory: GaN_0001 is set from parameters\n",
      "16:32:07 - mcmc.calculators | INFO: relaxation steps: 100 is set from parameters\n"
     ]
    },
    {
     "name": "stdout",
     "output_type": "stream",
     "text": [
      "/home/dux/NeuralForceField/models\n"
     ]
    },
    {
     "data": {
      "text/plain": [
       "{'calc_name': 'LAMMPS',\n",
       " 'optimizer': 'LAMMPS',\n",
       " 'chem_pots': {'Ga': 5},\n",
       " 'relax_atoms': True,\n",
       " 'relax_steps': 100,\n",
       " 'run_dir': PosixPath('GaN_0001')}"
      ]
     },
     "execution_count": 4,
     "metadata": {},
     "output_type": "execute_result"
    }
   ],
   "source": [
    "from mcmc.calculators import LAMMPSSurfCalc\n",
    "\n",
    "lammps_surf_calc = LAMMPSSurfCalc()\n",
    "lammps_surf_calc.set(**calc_settings)"
   ]
  },
  {
   "cell_type": "markdown",
   "metadata": {},
   "source": [
    "Initialize surface system"
   ]
  },
  {
   "cell_type": "code",
   "execution_count": 5,
   "metadata": {},
   "outputs": [
    {
     "name": "stderr",
     "output_type": "stream",
     "text": [
      "16:32:07 - mcmc.system | INFO: Initalizing adsorption sites with settings: {'surface_name': 'GaN_0001', 'surface_depth': 1, 'cutoff': 5.0, 'near_reduce': 0.01, 'planar_distance': 1.5, 'no_obtuse_hollow': True, 'ads_site_type': 'all'}\n"
     ]
    },
    {
     "name": "stderr",
     "output_type": "stream",
     "text": [
      "16:32:07 - mcmc.system | INFO: Generated adsorption coordinates are: [array([ 0.   ,  0.   , 14.766]), array([12.865,  7.428, 14.12 ]), array([12.865,  5.571, 14.766]), array([11.257,  4.642, 14.12 ]), array([ 1.608,  2.785, 14.766])]...\n",
      "16:32:07 - mcmc.system | INFO: Initializing 104 virtual atoms\n",
      "16:32:07 - mcmc.system | INFO: Initial state is [0 0 0 0 0 0 0 0 0 0 0 0 0 0 0 0 0 0 0 0 0 0 0 0 0 0 0 0 0 0 0 0 0 0 0 0 0\n",
      " 0 0 0 0 0 0 0 0 0 0 0 0 0 0 0 0 0 0 0 0 0 0 0 0 0 0 0 0 0 0 0 0 0 0 0 0 0\n",
      " 0 0 0 0 0 0 0 0 0 0 0 0 0 0 0 0 0 0 0 0 0 0 0 0 0 0 0 0 0 0]\n",
      "16:32:07 - mcmc.system | INFO: Number of pristine atoms is 36\n",
      "16:32:07 - mcmc.system | INFO: Bulk indices are [ 1  2  3  5  6  7  9 10 11 13 14 15 17 18 19 21 22 23 25 26 27 29 30 31\n",
      " 33 34 35]\n",
      "16:32:07 - mcmc.system | INFO: Surface indices are [ 0  4  8 12 16 20 24 28 32]\n",
      "16:32:07 - mcmc.system | INFO: Constraints are FixAtoms(indices=[1, 2, 3, 5, 6, 7, 9, 10, 11, 13, 14, 15, 17, 18, 19, 21, 22, 23, 25, 26, 27, 29, 30, 31, 33, 34, 35])\n",
      "16:32:07 - mcmc.system | INFO: Relaxing initialized surface\n",
      "16:32:07 - mcmc.calculators | INFO: None\n"
     ]
    },
    {
     "name": "stdout",
     "output_type": "stream",
     "text": [
      "Total wall time: 0:00:00\n"
     ]
    }
   ],
   "source": [
    "surface = SurfaceSystem(\n",
    "    slab,\n",
    "    calc=lammps_surf_calc,\n",
    "    system_settings=system_settings,\n",
    "    save_folder=run_folder,\n",
    ")\n",
    "surface.all_atoms.write(run_folder / \"GaN_0001_3x3_all_virtual_ads.cif\")"
   ]
  },
  {
   "cell_type": "markdown",
   "metadata": {},
   "source": [
    "Test calculate pristine surface"
   ]
  },
  {
   "cell_type": "code",
   "execution_count": 6,
   "metadata": {},
   "outputs": [
    {
     "name": "stderr",
     "output_type": "stream",
     "text": [
      "16:32:07 - mcmc.calculators | INFO: None\n"
     ]
    },
    {
     "name": "stdout",
     "output_type": "stream",
     "text": [
      "Total wall time: 0:00:00\n",
      "Energy -144.059 eV\n"
     ]
    }
   ],
   "source": [
    "print(f\"Energy {surface.get_potential_energy():.3f} eV\")"
   ]
  },
  {
   "attachments": {},
   "cell_type": "markdown",
   "metadata": {},
   "source": [
    "Perform MCMC and view results. Detailed results can be found in the corresponding run in the `GaN(0001)/` folder."
   ]
  },
  {
   "cell_type": "code",
   "execution_count": 7,
   "metadata": {},
   "outputs": [
    {
     "name": "stderr",
     "output_type": "stream",
     "text": [
      "16:32:07 - mcmc.mcmc | INFO: Using run folder GaN_0001\n",
      "16:32:07 - mcmc.mcmc | INFO: randomly adsorbing sites\n",
      "16:32:07 - mcmc.events.criterion | ERROR: No surface energy found in results dict\n",
      "16:32:07 - mcmc.calculators | INFO: None\n",
      "16:32:07 - mcmc.calculators | INFO: None\n",
      "16:32:07 - mcmc.calculators | INFO: None\n",
      "16:32:08 - mcmc.calculators | INFO: None\n"
     ]
    },
    {
     "name": "stderr",
     "output_type": "stream",
     "text": [
      "16:32:08 - mcmc.calculators | INFO: None\n",
      "16:32:08 - mcmc.calculators | INFO: None\n"
     ]
    },
    {
     "name": "stdout",
     "output_type": "stream",
     "text": [
      "Total wall time: 0:00:00\n",
      "Total wall time: 0:00:00\n",
      "Total wall time: 0:00:00\n",
      "Total wall time: 0:00:00\n",
      "Total wall time: 0:00:00\n",
      "Total wall time: 0:00:00\n"
     ]
    },
    {
     "name": "stderr",
     "output_type": "stream",
     "text": [
      "16:32:08 - mcmc.calculators | INFO: None\n",
      "16:32:08 - mcmc.calculators | INFO: None\n",
      "16:32:08 - mcmc.calculators | INFO: None\n",
      "16:32:08 - mcmc.calculators | INFO: None\n",
      "16:32:08 - mcmc.calculators | INFO: None\n",
      "16:32:08 - mcmc.calculators | INFO: None\n"
     ]
    },
    {
     "name": "stdout",
     "output_type": "stream",
     "text": [
      "Total wall time: 0:00:00\n",
      "Total wall time: 0:00:00\n",
      "Total wall time: 0:00:00\n",
      "Total wall time: 0:00:00\n",
      "Total wall time: 0:00:00\n",
      "Total wall time: 0:00:00\n"
     ]
    },
    {
     "name": "stderr",
     "output_type": "stream",
     "text": [
      "16:32:08 - mcmc.calculators | INFO: None\n",
      "16:32:08 - mcmc.calculators | INFO: None\n",
      "16:32:08 - mcmc.calculators | INFO: None\n",
      "16:32:08 - mcmc.calculators | INFO: None\n",
      "16:32:08 - mcmc.calculators | INFO: None\n"
     ]
    },
    {
     "name": "stdout",
     "output_type": "stream",
     "text": [
      "Total wall time: 0:00:00\n",
      "Total wall time: 0:00:00\n",
      "Total wall time: 0:00:00\n",
      "Total wall time: 0:00:00\n",
      "Total wall time: 0:00:00\n"
     ]
    },
    {
     "name": "stderr",
     "output_type": "stream",
     "text": [
      "16:32:08 - mcmc.calculators | INFO: None\n",
      "16:32:08 - mcmc.calculators | INFO: None\n",
      "16:32:08 - mcmc.calculators | INFO: None\n"
     ]
    },
    {
     "name": "stdout",
     "output_type": "stream",
     "text": [
      "Total wall time: 0:00:00\n",
      "Total wall time: 0:00:00\n",
      "Total wall time: 0:00:00\n"
     ]
    },
    {
     "name": "stderr",
     "output_type": "stream",
     "text": [
      "16:32:08 - mcmc.calculators | INFO: None\n",
      "16:32:08 - mcmc.calculators | INFO: None\n",
      "16:32:08 - mcmc.calculators | INFO: None\n",
      "16:32:08 - mcmc.calculators | INFO: None\n",
      "16:32:08 - mcmc.calculators | INFO: None\n"
     ]
    },
    {
     "name": "stdout",
     "output_type": "stream",
     "text": [
      "Total wall time: 0:00:00\n",
      "Total wall time: 0:00:00\n",
      "Total wall time: 0:00:00\n",
      "Total wall time: 0:00:00\n",
      "Total wall time: 0:00:00\n"
     ]
    },
    {
     "name": "stderr",
     "output_type": "stream",
     "text": [
      "16:32:08 - mcmc.calculators | INFO: None\n",
      "16:32:08 - mcmc.calculators | INFO: None\n",
      "16:32:08 - mcmc.calculators | INFO: None\n",
      "16:32:08 - mcmc.calculators | INFO: None\n"
     ]
    },
    {
     "name": "stdout",
     "output_type": "stream",
     "text": [
      "Total wall time: 0:00:00\n",
      "Total wall time: 0:00:00\n",
      "Total wall time: 0:00:00\n",
      "Total wall time: 0:00:00\n"
     ]
    },
    {
     "name": "stderr",
     "output_type": "stream",
     "text": [
      "16:32:08 - mcmc.mcmc | INFO: There are 36 atoms in pristine slab\n",
      "16:32:08 - mcmc.mcmc | INFO: Running with num_sweeps = 10, sweep_size = 104, start_temp = 1.000\n",
      "16:32:08 - mcmc.mcmc | INFO: Starting with iteration 0\n",
      "16:32:08 - mcmc.mcmc | INFO: Temperature schedule is: ['1.000', '0.990', '0.980', '0.970', '0.961', '0.951', '0.941', '0.932', '0.923', '0.914']\n",
      "16:32:08 - mcmc.mcmc | INFO: In sweep 1 out of 10\n",
      "16:32:08 - mcmc.calculators | INFO: None\n",
      "16:32:08 - mcmc.calculators | INFO: None\n",
      "16:32:08 - mcmc.calculators | INFO: None\n",
      "16:32:08 - mcmc.calculators | INFO: None\n",
      "16:32:08 - mcmc.calculators | INFO: None\n",
      "16:32:08 - mcmc.calculators | INFO: None\n",
      "16:32:08 - mcmc.calculators | INFO: None\n",
      "16:32:08 - mcmc.calculators | INFO: None\n",
      "16:32:08 - mcmc.calculators | INFO: None\n",
      "16:32:08 - mcmc.calculators | INFO: None\n",
      "16:32:08 - mcmc.calculators | INFO: None\n"
     ]
    },
    {
     "name": "stdout",
     "output_type": "stream",
     "text": [
      "Total wall time: 0:00:00\n",
      "Total wall time: 0:00:00\n",
      "Total wall time: 0:00:00\n",
      "Total wall time: 0:00:00\n",
      "Total wall time: 0:00:00\n",
      "Total wall time: 0:00:00\n",
      "Total wall time: 0:00:00\n",
      "Total wall time: 0:00:00\n",
      "Total wall time: 0:00:00\n",
      "Total wall time: 0:00:00\n",
      "Total wall time: 0:00:00\n"
     ]
    },
    {
     "name": "stderr",
     "output_type": "stream",
     "text": [
      "16:32:08 - mcmc.calculators | INFO: None\n",
      "16:32:08 - mcmc.calculators | INFO: None\n",
      "16:32:08 - mcmc.calculators | INFO: None\n",
      "16:32:08 - mcmc.calculators | INFO: None\n",
      "16:32:08 - mcmc.calculators | INFO: None\n",
      "16:32:08 - mcmc.calculators | INFO: None\n",
      "16:32:08 - mcmc.calculators | INFO: None\n",
      "16:32:08 - mcmc.calculators | INFO: None\n",
      "16:32:08 - mcmc.calculators | INFO: None\n",
      "16:32:09 - mcmc.calculators | INFO: None\n",
      "16:32:09 - mcmc.calculators | INFO: None\n"
     ]
    },
    {
     "name": "stdout",
     "output_type": "stream",
     "text": [
      "Total wall time: 0:00:00\n",
      "Total wall time: 0:00:00\n",
      "Total wall time: 0:00:00\n",
      "Total wall time: 0:00:00\n",
      "Total wall time: 0:00:00\n",
      "Total wall time: 0:00:00\n",
      "Total wall time: 0:00:00\n",
      "Total wall time: 0:00:00\n",
      "Total wall time: 0:00:00\n",
      "Total wall time: 0:00:00\n",
      "Total wall time: 0:00:00\n"
     ]
    },
    {
     "name": "stderr",
     "output_type": "stream",
     "text": [
      "16:32:09 - mcmc.calculators | INFO: None\n",
      "16:32:09 - mcmc.calculators | INFO: None\n",
      "16:32:09 - mcmc.calculators | INFO: None\n",
      "16:32:09 - mcmc.calculators | INFO: None\n",
      "16:32:09 - mcmc.calculators | INFO: None\n",
      "16:32:09 - mcmc.calculators | INFO: None\n",
      "16:32:09 - mcmc.calculators | INFO: None\n",
      "16:32:09 - mcmc.calculators | INFO: None\n",
      "16:32:09 - mcmc.calculators | INFO: None\n",
      "16:32:09 - mcmc.calculators | INFO: None\n",
      "16:32:09 - mcmc.calculators | INFO: None\n",
      "16:32:09 - mcmc.calculators | INFO: None\n",
      "16:32:09 - mcmc.calculators | INFO: None\n"
     ]
    },
    {
     "name": "stdout",
     "output_type": "stream",
     "text": [
      "Total wall time: 0:00:00\n",
      "Total wall time: 0:00:00\n",
      "Total wall time: 0:00:00\n",
      "Total wall time: 0:00:00\n",
      "Total wall time: 0:00:00\n",
      "Total wall time: 0:00:00\n",
      "Total wall time: 0:00:00\n",
      "Total wall time: 0:00:00\n",
      "Total wall time: 0:00:00\n",
      "Total wall time: 0:00:00\n",
      "Total wall time: 0:00:00\n",
      "Total wall time: 0:00:00\n",
      "Total wall time: 0:00:00\n"
     ]
    },
    {
     "name": "stderr",
     "output_type": "stream",
     "text": [
      "16:32:09 - mcmc.calculators | INFO: None\n",
      "16:32:09 - mcmc.calculators | INFO: None\n",
      "16:32:09 - mcmc.calculators | INFO: None\n",
      "16:32:09 - mcmc.calculators | INFO: None\n",
      "16:32:09 - mcmc.calculators | INFO: None\n",
      "16:32:09 - mcmc.calculators | INFO: None\n",
      "16:32:09 - mcmc.calculators | INFO: None\n",
      "16:32:09 - mcmc.calculators | INFO: None\n",
      "16:32:09 - mcmc.calculators | INFO: None\n",
      "16:32:09 - mcmc.calculators | INFO: None\n",
      "16:32:09 - mcmc.calculators | INFO: None\n"
     ]
    },
    {
     "name": "stdout",
     "output_type": "stream",
     "text": [
      "Total wall time: 0:00:00\n",
      "Total wall time: 0:00:00\n",
      "Total wall time: 0:00:00\n",
      "Total wall time: 0:00:00\n",
      "Total wall time: 0:00:00\n",
      "Total wall time: 0:00:00\n",
      "Total wall time: 0:00:00\n",
      "Total wall time: 0:00:00\n",
      "Total wall time: 0:00:00\n",
      "Total wall time: 0:00:00\n",
      "Total wall time: 0:00:00\n"
     ]
    },
    {
     "name": "stderr",
     "output_type": "stream",
     "text": [
      "16:32:09 - mcmc.calculators | INFO: None\n",
      "16:32:09 - mcmc.calculators | INFO: None\n",
      "16:32:09 - mcmc.calculators | INFO: None\n",
      "16:32:09 - mcmc.calculators | INFO: None\n",
      "16:32:09 - mcmc.calculators | INFO: None\n",
      "16:32:09 - mcmc.calculators | INFO: None\n",
      "16:32:09 - mcmc.calculators | INFO: None\n",
      "16:32:09 - mcmc.calculators | INFO: None\n",
      "16:32:09 - mcmc.calculators | INFO: None\n",
      "16:32:09 - mcmc.calculators | INFO: None\n",
      "16:32:09 - mcmc.calculators | INFO: None\n"
     ]
    },
    {
     "name": "stdout",
     "output_type": "stream",
     "text": [
      "Total wall time: 0:00:00\n",
      "Total wall time: 0:00:00\n",
      "Total wall time: 0:00:00\n",
      "Total wall time: 0:00:00\n",
      "Total wall time: 0:00:00\n",
      "Total wall time: 0:00:00\n",
      "Total wall time: 0:00:00\n",
      "Total wall time: 0:00:00\n",
      "Total wall time: 0:00:00\n",
      "Total wall time: 0:00:00\n",
      "Total wall time: 0:00:00\n"
     ]
    },
    {
     "name": "stderr",
     "output_type": "stream",
     "text": [
      "16:32:09 - mcmc.calculators | INFO: None\n",
      "16:32:09 - mcmc.calculators | INFO: None\n",
      "16:32:09 - mcmc.calculators | INFO: None\n",
      "16:32:09 - mcmc.calculators | INFO: None\n",
      "16:32:09 - mcmc.calculators | INFO: None\n",
      "16:32:09 - mcmc.calculators | INFO: None\n",
      "16:32:09 - mcmc.calculators | INFO: None\n",
      "16:32:09 - mcmc.calculators | INFO: None\n",
      "16:32:09 - mcmc.calculators | INFO: None\n",
      "16:32:09 - mcmc.calculators | INFO: None\n",
      "16:32:09 - mcmc.calculators | INFO: None\n"
     ]
    },
    {
     "name": "stdout",
     "output_type": "stream",
     "text": [
      "Total wall time: 0:00:00\n",
      "Total wall time: 0:00:00\n",
      "Total wall time: 0:00:00\n",
      "Total wall time: 0:00:00\n",
      "Total wall time: 0:00:00\n",
      "Total wall time: 0:00:00\n",
      "Total wall time: 0:00:00\n",
      "Total wall time: 0:00:00\n",
      "Total wall time: 0:00:00\n",
      "Total wall time: 0:00:00\n",
      "Total wall time: 0:00:00\n"
     ]
    },
    {
     "name": "stderr",
     "output_type": "stream",
     "text": [
      "16:32:09 - mcmc.calculators | INFO: None\n",
      "16:32:09 - mcmc.calculators | INFO: None\n",
      "16:32:09 - mcmc.calculators | INFO: None\n",
      "16:32:09 - mcmc.calculators | INFO: None\n",
      "16:32:09 - mcmc.calculators | INFO: None\n",
      "16:32:09 - mcmc.calculators | INFO: None\n",
      "16:32:10 - mcmc.calculators | INFO: None\n",
      "16:32:10 - mcmc.calculators | INFO: None\n",
      "16:32:10 - mcmc.calculators | INFO: None\n",
      "16:32:10 - mcmc.calculators | INFO: None\n",
      "16:32:10 - mcmc.calculators | INFO: None\n",
      "16:32:10 - mcmc.calculators | INFO: None\n"
     ]
    },
    {
     "name": "stdout",
     "output_type": "stream",
     "text": [
      "Total wall time: 0:00:00\n",
      "Total wall time: 0:00:00\n",
      "Total wall time: 0:00:00\n",
      "Total wall time: 0:00:00\n",
      "Total wall time: 0:00:00\n",
      "Total wall time: 0:00:00\n",
      "Total wall time: 0:00:00\n",
      "Total wall time: 0:00:00\n",
      "Total wall time: 0:00:00\n",
      "Total wall time: 0:00:00\n",
      "Total wall time: 0:00:00\n",
      "Total wall time: 0:00:00\n"
     ]
    },
    {
     "name": "stderr",
     "output_type": "stream",
     "text": [
      "16:32:10 - mcmc.calculators | INFO: None\n",
      "16:32:10 - mcmc.calculators | INFO: None\n",
      "16:32:10 - mcmc.calculators | INFO: None\n",
      "16:32:10 - mcmc.calculators | INFO: None\n",
      "16:32:10 - mcmc.calculators | INFO: None\n",
      "16:32:10 - mcmc.calculators | INFO: None\n",
      "16:32:10 - mcmc.calculators | INFO: None\n",
      "16:32:10 - mcmc.calculators | INFO: None\n",
      "16:32:10 - mcmc.calculators | INFO: None\n",
      "16:32:10 - mcmc.calculators | INFO: None\n",
      "16:32:10 - mcmc.calculators | INFO: None\n"
     ]
    },
    {
     "name": "stdout",
     "output_type": "stream",
     "text": [
      "Total wall time: 0:00:00\n",
      "Total wall time: 0:00:00\n",
      "Total wall time: 0:00:00\n",
      "Total wall time: 0:00:00\n",
      "Total wall time: 0:00:00\n",
      "Total wall time: 0:00:00\n",
      "Total wall time: 0:00:00\n",
      "Total wall time: 0:00:00\n",
      "Total wall time: 0:00:00\n",
      "Total wall time: 0:00:00\n",
      "Total wall time: 0:00:00\n"
     ]
    },
    {
     "name": "stderr",
     "output_type": "stream",
     "text": [
      "16:32:10 - mcmc.calculators | INFO: None\n",
      "16:32:10 - mcmc.calculators | INFO: None\n",
      "16:32:10 - mcmc.calculators | INFO: None\n",
      "16:32:10 - mcmc.calculators | INFO: None\n",
      "16:32:10 - mcmc.calculators | INFO: None\n",
      "16:32:10 - mcmc.calculators | INFO: None\n",
      "16:32:10 - mcmc.calculators | INFO: None\n",
      "16:32:10 - mcmc.calculators | INFO: None\n",
      "16:32:10 - mcmc.calculators | INFO: None\n",
      "16:32:10 - mcmc.calculators | INFO: None\n",
      "16:32:10 - mcmc.calculators | INFO: None\n"
     ]
    },
    {
     "name": "stdout",
     "output_type": "stream",
     "text": [
      "Total wall time: 0:00:00\n",
      "Total wall time: 0:00:00\n",
      "Total wall time: 0:00:00\n",
      "Total wall time: 0:00:00\n",
      "Total wall time: 0:00:00\n",
      "Total wall time: 0:00:00\n",
      "Total wall time: 0:00:00\n",
      "Total wall time: 0:00:00\n",
      "Total wall time: 0:00:00\n",
      "Total wall time: 0:00:00\n",
      "Total wall time: 0:00:00\n"
     ]
    },
    {
     "name": "stderr",
     "output_type": "stream",
     "text": [
      "16:32:10 - mcmc.calculators | INFO: None\n",
      "16:32:10 - mcmc.calculators | INFO: None\n",
      "16:32:10 - mcmc.calculators | INFO: None\n",
      "16:32:10 - mcmc.calculators | INFO: None\n",
      "16:32:10 - mcmc.calculators | INFO: None\n",
      "16:32:10 - mcmc.calculators | INFO: None\n",
      "16:32:10 - mcmc.calculators | INFO: None\n",
      "16:32:10 - mcmc.calculators | INFO: None\n",
      "16:32:10 - mcmc.calculators | INFO: None\n",
      "16:32:10 - mcmc.calculators | INFO: None\n"
     ]
    },
    {
     "name": "stdout",
     "output_type": "stream",
     "text": [
      "Total wall time: 0:00:00\n",
      "Total wall time: 0:00:00\n",
      "Total wall time: 0:00:00\n",
      "Total wall time: 0:00:00\n",
      "Total wall time: 0:00:00\n",
      "Total wall time: 0:00:00\n",
      "Total wall time: 0:00:00\n",
      "Total wall time: 0:00:00\n",
      "Total wall time: 0:00:00\n",
      "Total wall time: 0:00:00\n"
     ]
    },
    {
     "name": "stderr",
     "output_type": "stream",
     "text": [
      "16:32:10 - mcmc.calculators | INFO: None\n",
      "16:32:10 - mcmc.calculators | INFO: None\n",
      "16:32:10 - mcmc.calculators | INFO: None\n",
      "16:32:10 - mcmc.calculators | INFO: None\n",
      "16:32:10 - mcmc.calculators | INFO: None\n",
      "16:32:10 - mcmc.calculators | INFO: None\n",
      "16:32:10 - mcmc.calculators | INFO: None\n",
      "16:32:10 - mcmc.calculators | INFO: None\n",
      "16:32:10 - mcmc.calculators | INFO: None\n",
      "16:32:10 - mcmc.calculators | INFO: None\n",
      "16:32:10 - mcmc.calculators | INFO: None\n"
     ]
    },
    {
     "name": "stdout",
     "output_type": "stream",
     "text": [
      "Total wall time: 0:00:00\n",
      "Total wall time: 0:00:00\n",
      "Total wall time: 0:00:00\n",
      "Total wall time: 0:00:00\n",
      "Total wall time: 0:00:00\n",
      "Total wall time: 0:00:00\n",
      "Total wall time: 0:00:00\n",
      "Total wall time: 0:00:00\n",
      "Total wall time: 0:00:00\n",
      "Total wall time: 0:00:00\n",
      "Total wall time: 0:00:00\n"
     ]
    },
    {
     "name": "stderr",
     "output_type": "stream",
     "text": [
      "16:32:10 - mcmc.calculators | INFO: None\n",
      "16:32:10 - mcmc.calculators | INFO: None\n",
      "16:32:10 - mcmc.calculators | INFO: None\n",
      "16:32:11 - mcmc.calculators | INFO: None\n",
      "16:32:11 - mcmc.calculators | INFO: None\n",
      "16:32:11 - mcmc.calculators | INFO: None\n",
      "16:32:11 - mcmc.calculators | INFO: None\n",
      "16:32:11 - mcmc.calculators | INFO: None\n",
      "16:32:11 - mcmc.calculators | INFO: None\n",
      "16:32:11 - mcmc.calculators | INFO: None\n",
      "16:32:11 - mcmc.calculators | INFO: None\n"
     ]
    },
    {
     "name": "stdout",
     "output_type": "stream",
     "text": [
      "Total wall time: 0:00:00\n",
      "Total wall time: 0:00:00\n",
      "Total wall time: 0:00:00\n",
      "Total wall time: 0:00:00\n",
      "Total wall time: 0:00:00\n",
      "Total wall time: 0:00:00\n",
      "Total wall time: 0:00:00\n",
      "Total wall time: 0:00:00\n",
      "Total wall time: 0:00:00\n",
      "Total wall time: 0:00:00\n",
      "Total wall time: 0:00:00\n"
     ]
    },
    {
     "name": "stderr",
     "output_type": "stream",
     "text": [
      "16:32:11 - mcmc.calculators | INFO: None\n",
      "16:32:11 - mcmc.calculators | INFO: None\n",
      "16:32:11 - mcmc.calculators | INFO: None\n",
      "16:32:11 - mcmc.calculators | INFO: None\n",
      "16:32:11 - mcmc.calculators | INFO: None\n",
      "16:32:11 - mcmc.calculators | INFO: None\n",
      "16:32:11 - mcmc.calculators | INFO: None\n",
      "16:32:11 - mcmc.calculators | INFO: None\n",
      "16:32:11 - mcmc.calculators | INFO: None\n",
      "16:32:11 - mcmc.calculators | INFO: None\n",
      "16:32:11 - mcmc.calculators | INFO: None\n",
      "16:32:11 - mcmc.calculators | INFO: None\n"
     ]
    },
    {
     "name": "stdout",
     "output_type": "stream",
     "text": [
      "Total wall time: 0:00:00\n",
      "Total wall time: 0:00:00\n",
      "Total wall time: 0:00:00\n",
      "Total wall time: 0:00:00\n",
      "Total wall time: 0:00:00\n",
      "Total wall time: 0:00:00\n",
      "Total wall time: 0:00:00\n",
      "Total wall time: 0:00:00\n",
      "Total wall time: 0:00:00\n",
      "Total wall time: 0:00:00\n",
      "Total wall time: 0:00:00\n",
      "Total wall time: 0:00:00\n"
     ]
    },
    {
     "name": "stderr",
     "output_type": "stream",
     "text": [
      "16:32:11 - mcmc.calculators | INFO: None\n",
      "16:32:11 - mcmc.calculators | INFO: None\n",
      "16:32:11 - mcmc.calculators | INFO: None\n",
      "16:32:11 - mcmc.calculators | INFO: None\n",
      "16:32:11 - mcmc.calculators | INFO: None\n",
      "16:32:11 - mcmc.calculators | INFO: None\n",
      "16:32:11 - mcmc.calculators | INFO: None\n",
      "16:32:11 - mcmc.calculators | INFO: None\n",
      "16:32:11 - mcmc.calculators | INFO: None\n",
      "16:32:11 - mcmc.calculators | INFO: None\n"
     ]
    },
    {
     "name": "stdout",
     "output_type": "stream",
     "text": [
      "Total wall time: 0:00:00\n",
      "Total wall time: 0:00:00\n",
      "Total wall time: 0:00:00\n",
      "Total wall time: 0:00:00\n",
      "Total wall time: 0:00:00\n",
      "Total wall time: 0:00:00\n",
      "Total wall time: 0:00:00\n",
      "Total wall time: 0:00:00\n",
      "Total wall time: 0:00:00\n",
      "Total wall time: 0:00:00\n"
     ]
    },
    {
     "name": "stderr",
     "output_type": "stream",
     "text": [
      "16:32:11 - mcmc.calculators | INFO: None\n",
      "16:32:11 - mcmc.calculators | INFO: None\n",
      "16:32:11 - mcmc.calculators | INFO: None\n",
      "16:32:11 - mcmc.calculators | INFO: None\n",
      "16:32:11 - mcmc.calculators | INFO: None\n",
      "16:32:11 - mcmc.calculators | INFO: None\n",
      "16:32:11 - mcmc.calculators | INFO: None\n",
      "16:32:11 - mcmc.calculators | INFO: None\n",
      "16:32:11 - mcmc.calculators | INFO: None\n",
      "16:32:11 - mcmc.calculators | INFO: None\n"
     ]
    },
    {
     "name": "stdout",
     "output_type": "stream",
     "text": [
      "Total wall time: 0:00:00\n",
      "Total wall time: 0:00:00\n",
      "Total wall time: 0:00:00\n",
      "Total wall time: 0:00:00\n",
      "Total wall time: 0:00:00\n",
      "Total wall time: 0:00:00\n",
      "Total wall time: 0:00:00\n",
      "Total wall time: 0:00:00\n",
      "Total wall time: 0:00:00\n",
      "Total wall time: 0:00:00\n"
     ]
    },
    {
     "name": "stderr",
     "output_type": "stream",
     "text": [
      "16:32:11 - mcmc.calculators | INFO: None\n",
      "16:32:11 - mcmc.calculators | INFO: None\n",
      "16:32:11 - mcmc.calculators | INFO: None\n",
      "16:32:11 - mcmc.calculators | INFO: None\n",
      "16:32:11 - mcmc.calculators | INFO: None\n",
      "16:32:11 - mcmc.calculators | INFO: None\n",
      "16:32:11 - mcmc.calculators | INFO: None\n",
      "16:32:11 - mcmc.calculators | INFO: None\n",
      "16:32:11 - mcmc.calculators | INFO: None\n",
      "16:32:11 - mcmc.calculators | INFO: None\n",
      "16:32:12 - mcmc.calculators | INFO: None\n",
      "16:32:12 - mcmc.calculators | INFO: None\n"
     ]
    },
    {
     "name": "stdout",
     "output_type": "stream",
     "text": [
      "Total wall time: 0:00:00\n",
      "Total wall time: 0:00:00\n",
      "Total wall time: 0:00:00\n",
      "Total wall time: 0:00:00\n",
      "Total wall time: 0:00:00\n",
      "Total wall time: 0:00:00\n",
      "Total wall time: 0:00:00\n",
      "Total wall time: 0:00:00\n",
      "Total wall time: 0:00:00\n",
      "Total wall time: 0:00:00\n",
      "Total wall time: 0:00:00\n",
      "Total wall time: 0:00:00\n"
     ]
    },
    {
     "name": "stderr",
     "output_type": "stream",
     "text": [
      "16:32:12 - mcmc.calculators | INFO: None\n",
      "16:32:12 - mcmc.calculators | INFO: None\n",
      "16:32:12 - mcmc.calculators | INFO: None\n",
      "16:32:12 - mcmc.calculators | INFO: None\n",
      "16:32:12 - mcmc.calculators | INFO: None\n",
      "16:32:12 - mcmc.calculators | INFO: None\n",
      "16:32:12 - mcmc.calculators | INFO: None\n",
      "16:32:12 - mcmc.calculators | INFO: None\n",
      "16:32:12 - mcmc.calculators | INFO: None\n",
      "16:32:12 - mcmc.calculators | INFO: None\n",
      "16:32:12 - mcmc.calculators | INFO: None\n",
      "16:32:12 - mcmc.calculators | INFO: None\n",
      "16:32:12 - mcmc.calculators | INFO: None\n",
      "16:32:12 - mcmc.calculators | INFO: None\n"
     ]
    },
    {
     "name": "stdout",
     "output_type": "stream",
     "text": [
      "Total wall time: 0:00:00\n",
      "Total wall time: 0:00:00\n",
      "Total wall time: 0:00:00\n",
      "Total wall time: 0:00:00\n",
      "Total wall time: 0:00:00\n",
      "Total wall time: 0:00:00\n",
      "Total wall time: 0:00:00\n",
      "Total wall time: 0:00:00\n",
      "Total wall time: 0:00:00\n",
      "Total wall time: 0:00:00\n",
      "Total wall time: 0:00:00\n",
      "Total wall time: 0:00:00\n",
      "Total wall time: 0:00:00\n",
      "Total wall time: 0:00:00\n"
     ]
    },
    {
     "name": "stderr",
     "output_type": "stream",
     "text": [
      "16:32:12 - mcmc.calculators | INFO: None\n",
      "16:32:12 - mcmc.calculators | INFO: None\n",
      "16:32:12 - mcmc.calculators | INFO: None\n",
      "16:32:12 - mcmc.calculators | INFO: None\n",
      "16:32:12 - mcmc.calculators | INFO: None\n",
      "16:32:12 - mcmc.calculators | INFO: None\n",
      "16:32:12 - mcmc.calculators | INFO: None\n",
      "16:32:12 - mcmc.calculators | INFO: None\n",
      "16:32:12 - mcmc.calculators | INFO: None\n",
      "16:32:12 - mcmc.calculators | INFO: None\n",
      "16:32:12 - mcmc.calculators | INFO: None\n",
      "16:32:12 - mcmc.calculators | INFO: None\n",
      "16:32:12 - mcmc.calculators | INFO: None\n",
      "16:32:12 - mcmc.calculators | INFO: None\n",
      "16:32:12 - mcmc.mcmc | INFO: At iter 104\n"
     ]
    },
    {
     "name": "stdout",
     "output_type": "stream",
     "text": [
      "Total wall time: 0:00:00\n",
      "Total wall time: 0:00:00\n",
      "Total wall time: 0:00:00\n",
      "Total wall time: 0:00:00\n",
      "Total wall time: 0:00:00\n",
      "Total wall time: 0:00:00\n",
      "Total wall time: 0:00:00\n",
      "Total wall time: 0:00:00\n",
      "Total wall time: 0:00:00\n",
      "Total wall time: 0:00:00\n",
      "Total wall time: 0:00:00\n",
      "Total wall time: 0:00:00\n",
      "Total wall time: 0:00:00\n",
      "Total wall time: 0:00:00\n"
     ]
    },
    {
     "name": "stderr",
     "output_type": "stream",
     "text": [
      "16:32:12 - mcmc.calculators | INFO: None\n",
      "16:32:12 - mcmc.calculators | INFO: None\n",
      "16:32:12 - mcmc.calculators | INFO: None\n",
      "16:32:12 - mcmc.system | INFO: Optimized structure has Energy = -178.522\n",
      "16:32:12 - mcmc.mcmc | INFO: In sweep 2 out of 10\n",
      "16:32:12 - mcmc.calculators | INFO: None\n",
      "16:32:12 - mcmc.calculators | INFO: None\n",
      "16:32:12 - mcmc.calculators | INFO: None\n",
      "16:32:12 - mcmc.calculators | INFO: None\n",
      "16:32:12 - mcmc.calculators | INFO: None\n",
      "16:32:12 - mcmc.calculators | INFO: None\n",
      "16:32:12 - mcmc.calculators | INFO: None\n",
      "16:32:12 - mcmc.calculators | INFO: None\n",
      "16:32:12 - mcmc.calculators | INFO: None\n",
      "16:32:12 - mcmc.calculators | INFO: None\n",
      "16:32:12 - mcmc.calculators | INFO: None\n"
     ]
    },
    {
     "name": "stdout",
     "output_type": "stream",
     "text": [
      "Total wall time: 0:00:00\n",
      "Total wall time: 0:00:00\n",
      "Total wall time: 0:00:00\n",
      "Total wall time: 0:00:00\n",
      "Total wall time: 0:00:00\n",
      "Total wall time: 0:00:00\n",
      "Total wall time: 0:00:00\n",
      "Total wall time: 0:00:00\n",
      "Total wall time: 0:00:00\n",
      "Total wall time: 0:00:00\n",
      "Total wall time: 0:00:00\n",
      "Total wall time: 0:00:00\n",
      "Total wall time: 0:00:00\n",
      "Total wall time: 0:00:00\n"
     ]
    },
    {
     "name": "stderr",
     "output_type": "stream",
     "text": [
      "16:32:12 - mcmc.calculators | INFO: None\n",
      "16:32:12 - mcmc.calculators | INFO: None\n",
      "16:32:12 - mcmc.calculators | INFO: None\n",
      "16:32:12 - mcmc.calculators | INFO: None\n",
      "16:32:12 - mcmc.calculators | INFO: None\n",
      "16:32:12 - mcmc.calculators | INFO: None\n",
      "16:32:12 - mcmc.calculators | INFO: None\n",
      "16:32:12 - mcmc.calculators | INFO: None\n",
      "16:32:12 - mcmc.calculators | INFO: None\n",
      "16:32:12 - mcmc.calculators | INFO: None\n",
      "16:32:12 - mcmc.calculators | INFO: None\n",
      "16:32:12 - mcmc.calculators | INFO: None\n"
     ]
    },
    {
     "name": "stdout",
     "output_type": "stream",
     "text": [
      "Total wall time: 0:00:00\n",
      "Total wall time: 0:00:00\n",
      "Total wall time: 0:00:00\n",
      "Total wall time: 0:00:00\n",
      "Total wall time: 0:00:00\n",
      "Total wall time: 0:00:00\n",
      "Total wall time: 0:00:00\n",
      "Total wall time: 0:00:00\n",
      "Total wall time: 0:00:00\n",
      "Total wall time: 0:00:00\n",
      "Total wall time: 0:00:00\n",
      "Total wall time: 0:00:00\n"
     ]
    },
    {
     "name": "stderr",
     "output_type": "stream",
     "text": [
      "16:32:12 - mcmc.calculators | INFO: None\n",
      "16:32:12 - mcmc.calculators | INFO: None\n",
      "16:32:12 - mcmc.calculators | INFO: None\n",
      "16:32:12 - mcmc.calculators | INFO: None\n",
      "16:32:12 - mcmc.calculators | INFO: None\n",
      "16:32:12 - mcmc.calculators | INFO: None\n",
      "16:32:12 - mcmc.calculators | INFO: None\n",
      "16:32:13 - mcmc.calculators | INFO: None\n",
      "16:32:13 - mcmc.calculators | INFO: None\n",
      "16:32:13 - mcmc.calculators | INFO: None\n"
     ]
    },
    {
     "name": "stdout",
     "output_type": "stream",
     "text": [
      "Total wall time: 0:00:00\n",
      "Total wall time: 0:00:00\n",
      "Total wall time: 0:00:00\n",
      "Total wall time: 0:00:00\n",
      "Total wall time: 0:00:00\n",
      "Total wall time: 0:00:00\n",
      "Total wall time: 0:00:00\n",
      "Total wall time: 0:00:00\n",
      "Total wall time: 0:00:00\n",
      "Total wall time: 0:00:00\n"
     ]
    },
    {
     "name": "stderr",
     "output_type": "stream",
     "text": [
      "16:32:13 - mcmc.calculators | INFO: None\n",
      "16:32:13 - mcmc.calculators | INFO: None\n",
      "16:32:13 - mcmc.calculators | INFO: None\n",
      "16:32:13 - mcmc.calculators | INFO: None\n",
      "16:32:13 - mcmc.calculators | INFO: None\n",
      "16:32:13 - mcmc.calculators | INFO: None\n",
      "16:32:13 - mcmc.calculators | INFO: None\n",
      "16:32:13 - mcmc.calculators | INFO: None\n",
      "16:32:13 - mcmc.calculators | INFO: None\n",
      "16:32:13 - mcmc.calculators | INFO: None\n"
     ]
    },
    {
     "name": "stdout",
     "output_type": "stream",
     "text": [
      "Total wall time: 0:00:00\n",
      "Total wall time: 0:00:00\n",
      "Total wall time: 0:00:00\n",
      "Total wall time: 0:00:00\n",
      "Total wall time: 0:00:00\n",
      "Total wall time: 0:00:00\n",
      "Total wall time: 0:00:00\n",
      "Total wall time: 0:00:00\n",
      "Total wall time: 0:00:00\n",
      "Total wall time: 0:00:00\n"
     ]
    },
    {
     "name": "stderr",
     "output_type": "stream",
     "text": [
      "16:32:13 - mcmc.calculators | INFO: None\n",
      "16:32:13 - mcmc.calculators | INFO: None\n",
      "16:32:13 - mcmc.calculators | INFO: None\n",
      "16:32:13 - mcmc.calculators | INFO: None\n",
      "16:32:13 - mcmc.calculators | INFO: None\n",
      "16:32:13 - mcmc.calculators | INFO: None\n",
      "16:32:13 - mcmc.calculators | INFO: None\n",
      "16:32:13 - mcmc.calculators | INFO: None\n",
      "16:32:13 - mcmc.calculators | INFO: None\n",
      "16:32:13 - mcmc.calculators | INFO: None\n",
      "16:32:13 - mcmc.calculators | INFO: None\n",
      "16:32:13 - mcmc.calculators | INFO: None\n",
      "16:32:13 - mcmc.calculators | INFO: None\n"
     ]
    },
    {
     "name": "stdout",
     "output_type": "stream",
     "text": [
      "Total wall time: 0:00:00\n",
      "Total wall time: 0:00:00\n",
      "Total wall time: 0:00:00\n",
      "Total wall time: 0:00:00\n",
      "Total wall time: 0:00:00\n",
      "Total wall time: 0:00:00\n",
      "Total wall time: 0:00:00\n",
      "Total wall time: 0:00:00\n",
      "Total wall time: 0:00:00\n",
      "Total wall time: 0:00:00\n",
      "Total wall time: 0:00:00\n",
      "Total wall time: 0:00:00\n",
      "Total wall time: 0:00:00\n"
     ]
    },
    {
     "name": "stderr",
     "output_type": "stream",
     "text": [
      "16:32:13 - mcmc.calculators | INFO: None\n",
      "16:32:13 - mcmc.calculators | INFO: None\n",
      "16:32:13 - mcmc.calculators | INFO: None\n",
      "16:32:13 - mcmc.calculators | INFO: None\n",
      "16:32:13 - mcmc.calculators | INFO: None\n",
      "16:32:13 - mcmc.calculators | INFO: None\n",
      "16:32:13 - mcmc.calculators | INFO: None\n",
      "16:32:13 - mcmc.calculators | INFO: None\n",
      "16:32:13 - mcmc.calculators | INFO: None\n",
      "16:32:13 - mcmc.calculators | INFO: None\n",
      "16:32:13 - mcmc.calculators | INFO: None\n",
      "16:32:13 - mcmc.calculators | INFO: None\n",
      "16:32:13 - mcmc.calculators | INFO: None\n",
      "16:32:13 - mcmc.calculators | INFO: None\n"
     ]
    },
    {
     "name": "stdout",
     "output_type": "stream",
     "text": [
      "Total wall time: 0:00:00\n",
      "Total wall time: 0:00:00\n",
      "Total wall time: 0:00:00\n",
      "Total wall time: 0:00:00\n",
      "Total wall time: 0:00:00\n",
      "Total wall time: 0:00:00\n",
      "Total wall time: 0:00:00\n",
      "Total wall time: 0:00:00\n",
      "Total wall time: 0:00:00\n",
      "Total wall time: 0:00:00\n",
      "Total wall time: 0:00:00\n",
      "Total wall time: 0:00:00\n",
      "Total wall time: 0:00:00\n",
      "Total wall time: 0:00:00\n"
     ]
    },
    {
     "name": "stderr",
     "output_type": "stream",
     "text": [
      "16:32:13 - mcmc.calculators | INFO: None\n",
      "16:32:13 - mcmc.calculators | INFO: None\n",
      "16:32:13 - mcmc.calculators | INFO: None\n",
      "16:32:13 - mcmc.calculators | INFO: None\n",
      "16:32:13 - mcmc.calculators | INFO: None\n",
      "16:32:13 - mcmc.calculators | INFO: None\n",
      "16:32:13 - mcmc.calculators | INFO: None\n",
      "16:32:13 - mcmc.calculators | INFO: None\n",
      "16:32:13 - mcmc.calculators | INFO: None\n",
      "16:32:13 - mcmc.calculators | INFO: None\n",
      "16:32:13 - mcmc.calculators | INFO: None\n",
      "16:32:13 - mcmc.calculators | INFO: None\n",
      "16:32:13 - mcmc.calculators | INFO: None\n",
      "16:32:13 - mcmc.calculators | INFO: None\n"
     ]
    },
    {
     "name": "stdout",
     "output_type": "stream",
     "text": [
      "Total wall time: 0:00:00\n",
      "Total wall time: 0:00:00\n",
      "Total wall time: 0:00:00\n",
      "Total wall time: 0:00:00\n",
      "Total wall time: 0:00:00\n",
      "Total wall time: 0:00:00\n",
      "Total wall time: 0:00:00\n",
      "Total wall time: 0:00:00\n",
      "Total wall time: 0:00:00\n",
      "Total wall time: 0:00:00\n",
      "Total wall time: 0:00:00\n",
      "Total wall time: 0:00:00\n",
      "Total wall time: 0:00:00\n",
      "Total wall time: 0:00:00\n"
     ]
    },
    {
     "name": "stderr",
     "output_type": "stream",
     "text": [
      "16:32:13 - mcmc.calculators | INFO: None\n",
      "16:32:13 - mcmc.calculators | INFO: None\n",
      "16:32:13 - mcmc.calculators | INFO: None\n",
      "16:32:13 - mcmc.calculators | INFO: None\n",
      "16:32:14 - mcmc.calculators | INFO: None\n",
      "16:32:14 - mcmc.calculators | INFO: None\n",
      "16:32:14 - mcmc.calculators | INFO: None\n",
      "16:32:14 - mcmc.calculators | INFO: None\n",
      "16:32:14 - mcmc.calculators | INFO: None\n",
      "16:32:14 - mcmc.calculators | INFO: None\n",
      "16:32:14 - mcmc.calculators | INFO: None\n",
      "16:32:14 - mcmc.calculators | INFO: None\n"
     ]
    },
    {
     "name": "stdout",
     "output_type": "stream",
     "text": [
      "Total wall time: 0:00:00\n",
      "Total wall time: 0:00:00\n",
      "Total wall time: 0:00:00\n",
      "Total wall time: 0:00:00\n",
      "Total wall time: 0:00:00\n",
      "Total wall time: 0:00:00\n",
      "Total wall time: 0:00:00\n",
      "Total wall time: 0:00:00\n",
      "Total wall time: 0:00:00\n",
      "Total wall time: 0:00:00\n",
      "Total wall time: 0:00:00\n",
      "Total wall time: 0:00:00\n"
     ]
    },
    {
     "name": "stderr",
     "output_type": "stream",
     "text": [
      "16:32:14 - mcmc.calculators | INFO: None\n",
      "16:32:14 - mcmc.calculators | INFO: None\n",
      "16:32:14 - mcmc.calculators | INFO: None\n",
      "16:32:14 - mcmc.calculators | INFO: None\n",
      "16:32:14 - mcmc.calculators | INFO: None\n",
      "16:32:14 - mcmc.calculators | INFO: None\n",
      "16:32:14 - mcmc.calculators | INFO: None\n",
      "16:32:14 - mcmc.calculators | INFO: None\n",
      "16:32:14 - mcmc.calculators | INFO: None\n",
      "16:32:14 - mcmc.calculators | INFO: None\n",
      "16:32:14 - mcmc.calculators | INFO: None\n",
      "16:32:14 - mcmc.calculators | INFO: None\n"
     ]
    },
    {
     "name": "stdout",
     "output_type": "stream",
     "text": [
      "Total wall time: 0:00:00\n",
      "Total wall time: 0:00:00\n",
      "Total wall time: 0:00:00\n",
      "Total wall time: 0:00:00\n",
      "Total wall time: 0:00:00\n",
      "Total wall time: 0:00:00\n",
      "Total wall time: 0:00:00\n",
      "Total wall time: 0:00:00\n",
      "Total wall time: 0:00:00\n",
      "Total wall time: 0:00:00\n",
      "Total wall time: 0:00:00\n"
     ]
    },
    {
     "name": "stderr",
     "output_type": "stream",
     "text": [
      "16:32:14 - mcmc.calculators | INFO: None\n",
      "16:32:14 - mcmc.calculators | INFO: None\n",
      "16:32:14 - mcmc.calculators | INFO: None\n",
      "16:32:14 - mcmc.calculators | INFO: None\n",
      "16:32:14 - mcmc.calculators | INFO: None\n",
      "16:32:14 - mcmc.calculators | INFO: None\n",
      "16:32:14 - mcmc.calculators | INFO: None\n",
      "16:32:14 - mcmc.calculators | INFO: None\n",
      "16:32:14 - mcmc.calculators | INFO: None\n"
     ]
    },
    {
     "name": "stdout",
     "output_type": "stream",
     "text": [
      "Total wall time: 0:00:00\n",
      "Total wall time: 0:00:00\n",
      "Total wall time: 0:00:00\n",
      "Total wall time: 0:00:00\n",
      "Total wall time: 0:00:00\n",
      "Total wall time: 0:00:00\n",
      "Total wall time: 0:00:00\n",
      "Total wall time: 0:00:00\n",
      "Total wall time: 0:00:00\n",
      "Total wall time: 0:00:00\n"
     ]
    },
    {
     "name": "stderr",
     "output_type": "stream",
     "text": [
      "16:32:14 - mcmc.calculators | INFO: None\n",
      "16:32:14 - mcmc.calculators | INFO: None\n",
      "16:32:14 - mcmc.calculators | INFO: None\n",
      "16:32:14 - mcmc.calculators | INFO: None\n",
      "16:32:14 - mcmc.calculators | INFO: None\n",
      "16:32:14 - mcmc.calculators | INFO: None\n",
      "16:32:14 - mcmc.calculators | INFO: None\n",
      "16:32:14 - mcmc.calculators | INFO: None\n",
      "16:32:14 - mcmc.calculators | INFO: None\n",
      "16:32:14 - mcmc.calculators | INFO: None\n"
     ]
    },
    {
     "name": "stdout",
     "output_type": "stream",
     "text": [
      "Total wall time: 0:00:00\n",
      "Total wall time: 0:00:00\n",
      "Total wall time: 0:00:00\n",
      "Total wall time: 0:00:00\n",
      "Total wall time: 0:00:00\n",
      "Total wall time: 0:00:00\n",
      "Total wall time: 0:00:00\n",
      "Total wall time: 0:00:00\n",
      "Total wall time: 0:00:00\n",
      "Total wall time: 0:00:00\n"
     ]
    },
    {
     "name": "stderr",
     "output_type": "stream",
     "text": [
      "16:32:14 - mcmc.calculators | INFO: None\n",
      "16:32:14 - mcmc.calculators | INFO: None\n",
      "16:32:14 - mcmc.calculators | INFO: None\n",
      "16:32:14 - mcmc.calculators | INFO: None\n",
      "16:32:14 - mcmc.calculators | INFO: None\n",
      "16:32:14 - mcmc.calculators | INFO: None\n",
      "16:32:14 - mcmc.calculators | INFO: None\n",
      "16:32:14 - mcmc.calculators | INFO: None\n",
      "16:32:14 - mcmc.calculators | INFO: None\n",
      "16:32:14 - mcmc.calculators | INFO: None\n"
     ]
    },
    {
     "name": "stdout",
     "output_type": "stream",
     "text": [
      "Total wall time: 0:00:00\n",
      "Total wall time: 0:00:00\n",
      "Total wall time: 0:00:00\n",
      "Total wall time: 0:00:00\n",
      "Total wall time: 0:00:00\n",
      "Total wall time: 0:00:00\n",
      "Total wall time: 0:00:00\n",
      "Total wall time: 0:00:00\n",
      "Total wall time: 0:00:00\n",
      "Total wall time: 0:00:00\n"
     ]
    },
    {
     "name": "stderr",
     "output_type": "stream",
     "text": [
      "16:32:14 - mcmc.calculators | INFO: None\n",
      "16:32:15 - mcmc.calculators | INFO: None\n",
      "16:32:15 - mcmc.calculators | INFO: None\n",
      "16:32:15 - mcmc.calculators | INFO: None\n",
      "16:32:15 - mcmc.calculators | INFO: None\n",
      "16:32:15 - mcmc.calculators | INFO: None\n",
      "16:32:15 - mcmc.calculators | INFO: None\n",
      "16:32:15 - mcmc.calculators | INFO: None\n",
      "16:32:15 - mcmc.calculators | INFO: None\n",
      "16:32:15 - mcmc.calculators | INFO: None\n"
     ]
    },
    {
     "name": "stdout",
     "output_type": "stream",
     "text": [
      "Total wall time: 0:00:00\n",
      "Total wall time: 0:00:00\n",
      "Total wall time: 0:00:00\n",
      "Total wall time: 0:00:00\n",
      "Total wall time: 0:00:00\n",
      "Total wall time: 0:00:00\n",
      "Total wall time: 0:00:00\n",
      "Total wall time: 0:00:00\n",
      "Total wall time: 0:00:00\n",
      "Total wall time: 0:00:00\n"
     ]
    },
    {
     "name": "stderr",
     "output_type": "stream",
     "text": [
      "16:32:15 - mcmc.calculators | INFO: None\n",
      "16:32:15 - mcmc.calculators | INFO: None\n",
      "16:32:15 - mcmc.calculators | INFO: None\n",
      "16:32:15 - mcmc.calculators | INFO: None\n",
      "16:32:15 - mcmc.calculators | INFO: None\n",
      "16:32:15 - mcmc.calculators | INFO: None\n",
      "16:32:15 - mcmc.calculators | INFO: None\n",
      "16:32:15 - mcmc.calculators | INFO: None\n",
      "16:32:15 - mcmc.calculators | INFO: None\n",
      "16:32:15 - mcmc.calculators | INFO: None\n",
      "16:32:15 - mcmc.calculators | INFO: None\n"
     ]
    },
    {
     "name": "stdout",
     "output_type": "stream",
     "text": [
      "Total wall time: 0:00:00\n",
      "Total wall time: 0:00:00\n",
      "Total wall time: 0:00:00\n",
      "Total wall time: 0:00:00\n",
      "Total wall time: 0:00:00\n",
      "Total wall time: 0:00:00\n",
      "Total wall time: 0:00:00\n",
      "Total wall time: 0:00:00\n",
      "Total wall time: 0:00:00\n",
      "Total wall time: 0:00:00\n",
      "Total wall time: 0:00:00\n"
     ]
    },
    {
     "name": "stderr",
     "output_type": "stream",
     "text": [
      "16:32:15 - mcmc.calculators | INFO: None\n",
      "16:32:15 - mcmc.calculators | INFO: None\n",
      "16:32:15 - mcmc.calculators | INFO: None\n",
      "16:32:15 - mcmc.calculators | INFO: None\n",
      "16:32:15 - mcmc.calculators | INFO: None\n",
      "16:32:15 - mcmc.calculators | INFO: None\n",
      "16:32:15 - mcmc.calculators | INFO: None\n",
      "16:32:15 - mcmc.calculators | INFO: None\n",
      "16:32:15 - mcmc.calculators | INFO: None\n",
      "16:32:15 - mcmc.calculators | INFO: None\n",
      "16:32:15 - mcmc.calculators | INFO: None\n",
      "16:32:15 - mcmc.calculators | INFO: None\n",
      "16:32:15 - mcmc.calculators | INFO: None\n"
     ]
    },
    {
     "name": "stdout",
     "output_type": "stream",
     "text": [
      "Total wall time: 0:00:00\n",
      "Total wall time: 0:00:00\n",
      "Total wall time: 0:00:00\n",
      "Total wall time: 0:00:00\n",
      "Total wall time: 0:00:00\n",
      "Total wall time: 0:00:00\n",
      "Total wall time: 0:00:00\n",
      "Total wall time: 0:00:00\n",
      "Total wall time: 0:00:00\n",
      "Total wall time: 0:00:00\n",
      "Total wall time: 0:00:00\n",
      "Total wall time: 0:00:00\n",
      "Total wall time: 0:00:00\n"
     ]
    },
    {
     "name": "stderr",
     "output_type": "stream",
     "text": [
      "16:32:15 - mcmc.calculators | INFO: None\n",
      "16:32:15 - mcmc.calculators | INFO: None\n",
      "16:32:15 - mcmc.calculators | INFO: None\n",
      "16:32:15 - mcmc.calculators | INFO: None\n",
      "16:32:15 - mcmc.calculators | INFO: None\n",
      "16:32:15 - mcmc.calculators | INFO: None\n",
      "16:32:15 - mcmc.calculators | INFO: None\n",
      "16:32:15 - mcmc.calculators | INFO: None\n",
      "16:32:15 - mcmc.calculators | INFO: None\n",
      "16:32:15 - mcmc.calculators | INFO: None\n",
      "16:32:15 - mcmc.calculators | INFO: None\n",
      "16:32:15 - mcmc.calculators | INFO: None\n"
     ]
    },
    {
     "name": "stdout",
     "output_type": "stream",
     "text": [
      "Total wall time: 0:00:00\n",
      "Total wall time: 0:00:00\n",
      "Total wall time: 0:00:00\n",
      "Total wall time: 0:00:00\n",
      "Total wall time: 0:00:00\n",
      "Total wall time: 0:00:00\n",
      "Total wall time: 0:00:00\n",
      "Total wall time: 0:00:00\n",
      "Total wall time: 0:00:00\n",
      "Total wall time: 0:00:00\n",
      "Total wall time: 0:00:00\n",
      "Total wall time: 0:00:00\n"
     ]
    },
    {
     "name": "stderr",
     "output_type": "stream",
     "text": [
      "16:32:15 - mcmc.calculators | INFO: None\n",
      "16:32:15 - mcmc.calculators | INFO: None\n",
      "16:32:15 - mcmc.calculators | INFO: None\n",
      "16:32:15 - mcmc.calculators | INFO: None\n",
      "16:32:15 - mcmc.calculators | INFO: None\n",
      "16:32:15 - mcmc.calculators | INFO: None\n",
      "16:32:15 - mcmc.calculators | INFO: None\n",
      "16:32:15 - mcmc.calculators | INFO: None\n",
      "16:32:15 - mcmc.calculators | INFO: None\n",
      "16:32:15 - mcmc.calculators | INFO: None\n"
     ]
    },
    {
     "name": "stdout",
     "output_type": "stream",
     "text": [
      "Total wall time: 0:00:00\n",
      "Total wall time: 0:00:00\n",
      "Total wall time: 0:00:00\n",
      "Total wall time: 0:00:00\n",
      "Total wall time: 0:00:00\n",
      "Total wall time: 0:00:00\n",
      "Total wall time: 0:00:00\n",
      "Total wall time: 0:00:00\n",
      "Total wall time: 0:00:00\n",
      "Total wall time: 0:00:00\n"
     ]
    },
    {
     "name": "stderr",
     "output_type": "stream",
     "text": [
      "16:32:16 - mcmc.calculators | INFO: None\n",
      "16:32:16 - mcmc.calculators | INFO: None\n",
      "16:32:16 - mcmc.calculators | INFO: None\n",
      "16:32:16 - mcmc.calculators | INFO: None\n",
      "16:32:16 - mcmc.calculators | INFO: None\n",
      "16:32:16 - mcmc.calculators | INFO: None\n",
      "16:32:16 - mcmc.calculators | INFO: None\n",
      "16:32:16 - mcmc.calculators | INFO: None\n",
      "16:32:16 - mcmc.calculators | INFO: None\n",
      "16:32:16 - mcmc.calculators | INFO: None\n",
      "16:32:16 - mcmc.calculators | INFO: None\n"
     ]
    },
    {
     "name": "stdout",
     "output_type": "stream",
     "text": [
      "Total wall time: 0:00:00\n",
      "Total wall time: 0:00:00\n",
      "Total wall time: 0:00:00\n",
      "Total wall time: 0:00:00\n",
      "Total wall time: 0:00:00\n",
      "Total wall time: 0:00:00\n",
      "Total wall time: 0:00:00\n",
      "Total wall time: 0:00:00\n",
      "Total wall time: 0:00:00\n",
      "Total wall time: 0:00:00\n",
      "Total wall time: 0:00:00\n"
     ]
    },
    {
     "name": "stderr",
     "output_type": "stream",
     "text": [
      "16:32:16 - mcmc.calculators | INFO: None\n",
      "16:32:16 - mcmc.calculators | INFO: None\n",
      "16:32:16 - mcmc.mcmc | INFO: At iter 208\n",
      "16:32:16 - mcmc.calculators | INFO: None\n",
      "16:32:16 - mcmc.calculators | INFO: None\n",
      "16:32:16 - mcmc.system | INFO: Optimized structure has Energy = -177.905\n",
      "16:32:16 - mcmc.mcmc | INFO: In sweep 3 out of 10\n",
      "16:32:16 - mcmc.calculators | INFO: None\n",
      "16:32:16 - mcmc.calculators | INFO: None\n",
      "16:32:16 - mcmc.calculators | INFO: None\n",
      "16:32:16 - mcmc.calculators | INFO: None\n",
      "16:32:16 - mcmc.calculators | INFO: None\n",
      "16:32:16 - mcmc.calculators | INFO: None\n"
     ]
    },
    {
     "name": "stdout",
     "output_type": "stream",
     "text": [
      "Total wall time: 0:00:00\n",
      "Total wall time: 0:00:00\n",
      "Total wall time: 0:00:00\n",
      "Total wall time: 0:00:00\n",
      "Total wall time: 0:00:00\n",
      "Total wall time: 0:00:00\n",
      "Total wall time: 0:00:00\n",
      "Total wall time: 0:00:00\n",
      "Total wall time: 0:00:00\n",
      "Total wall time: 0:00:00\n"
     ]
    },
    {
     "name": "stderr",
     "output_type": "stream",
     "text": [
      "16:32:16 - mcmc.calculators | INFO: None\n",
      "16:32:16 - mcmc.calculators | INFO: None\n",
      "16:32:16 - mcmc.calculators | INFO: None\n",
      "16:32:16 - mcmc.calculators | INFO: None\n",
      "16:32:16 - mcmc.calculators | INFO: None\n",
      "16:32:16 - mcmc.calculators | INFO: None\n",
      "16:32:16 - mcmc.calculators | INFO: None\n"
     ]
    },
    {
     "name": "stdout",
     "output_type": "stream",
     "text": [
      "Total wall time: 0:00:00\n",
      "Total wall time: 0:00:00\n",
      "Total wall time: 0:00:00\n",
      "Total wall time: 0:00:00\n",
      "Total wall time: 0:00:00\n",
      "Total wall time: 0:00:00\n",
      "Total wall time: 0:00:00\n"
     ]
    },
    {
     "name": "stderr",
     "output_type": "stream",
     "text": [
      "16:32:16 - mcmc.calculators | INFO: None\n",
      "16:32:16 - mcmc.calculators | INFO: None\n",
      "16:32:16 - mcmc.calculators | INFO: None\n",
      "16:32:16 - mcmc.calculators | INFO: None\n",
      "16:32:16 - mcmc.calculators | INFO: None\n",
      "16:32:16 - mcmc.calculators | INFO: None\n",
      "16:32:16 - mcmc.calculators | INFO: None\n",
      "16:32:16 - mcmc.calculators | INFO: None\n",
      "16:32:16 - mcmc.calculators | INFO: None\n",
      "16:32:16 - mcmc.calculators | INFO: None\n",
      "16:32:16 - mcmc.calculators | INFO: None\n"
     ]
    },
    {
     "name": "stdout",
     "output_type": "stream",
     "text": [
      "Total wall time: 0:00:00\n",
      "Total wall time: 0:00:00\n",
      "Total wall time: 0:00:00\n",
      "Total wall time: 0:00:00\n",
      "Total wall time: 0:00:00\n",
      "Total wall time: 0:00:00\n",
      "Total wall time: 0:00:00\n",
      "Total wall time: 0:00:00\n",
      "Total wall time: 0:00:00\n",
      "Total wall time: 0:00:00\n",
      "Total wall time: 0:00:00\n"
     ]
    },
    {
     "name": "stderr",
     "output_type": "stream",
     "text": [
      "16:32:16 - mcmc.calculators | INFO: None\n",
      "16:32:16 - mcmc.calculators | INFO: None\n",
      "16:32:16 - mcmc.calculators | INFO: None\n",
      "16:32:17 - mcmc.calculators | INFO: None\n",
      "16:32:17 - mcmc.calculators | INFO: None\n",
      "16:32:17 - mcmc.calculators | INFO: None\n",
      "16:32:17 - mcmc.calculators | INFO: None\n",
      "16:32:17 - mcmc.calculators | INFO: None\n",
      "16:32:17 - mcmc.calculators | INFO: None\n",
      "16:32:17 - mcmc.calculators | INFO: None\n",
      "16:32:17 - mcmc.calculators | INFO: None\n"
     ]
    },
    {
     "name": "stdout",
     "output_type": "stream",
     "text": [
      "Total wall time: 0:00:00\n",
      "Total wall time: 0:00:00\n",
      "Total wall time: 0:00:00\n",
      "Total wall time: 0:00:00\n",
      "Total wall time: 0:00:00\n",
      "Total wall time: 0:00:00\n",
      "Total wall time: 0:00:00\n",
      "Total wall time: 0:00:00\n",
      "Total wall time: 0:00:00\n",
      "Total wall time: 0:00:00\n",
      "Total wall time: 0:00:00\n"
     ]
    },
    {
     "name": "stderr",
     "output_type": "stream",
     "text": [
      "16:32:17 - mcmc.calculators | INFO: None\n",
      "16:32:17 - mcmc.calculators | INFO: None\n",
      "16:32:17 - mcmc.calculators | INFO: None\n",
      "16:32:17 - mcmc.calculators | INFO: None\n",
      "16:32:17 - mcmc.calculators | INFO: None\n",
      "16:32:17 - mcmc.calculators | INFO: None\n",
      "16:32:17 - mcmc.calculators | INFO: None\n",
      "16:32:17 - mcmc.calculators | INFO: None\n",
      "16:32:17 - mcmc.calculators | INFO: None\n",
      "16:32:17 - mcmc.calculators | INFO: None\n",
      "16:32:17 - mcmc.calculators | INFO: None\n",
      "16:32:17 - mcmc.calculators | INFO: None\n",
      "16:32:17 - mcmc.calculators | INFO: None\n"
     ]
    },
    {
     "name": "stdout",
     "output_type": "stream",
     "text": [
      "Total wall time: 0:00:00\n",
      "Total wall time: 0:00:00\n",
      "Total wall time: 0:00:00\n",
      "Total wall time: 0:00:00\n",
      "Total wall time: 0:00:00\n",
      "Total wall time: 0:00:00\n",
      "Total wall time: 0:00:00\n",
      "Total wall time: 0:00:00\n",
      "Total wall time: 0:00:00\n",
      "Total wall time: 0:00:00\n",
      "Total wall time: 0:00:00\n",
      "Total wall time: 0:00:00\n",
      "Total wall time: 0:00:00\n"
     ]
    },
    {
     "name": "stderr",
     "output_type": "stream",
     "text": [
      "16:32:17 - mcmc.calculators | INFO: None\n",
      "16:32:17 - mcmc.calculators | INFO: None\n",
      "16:32:17 - mcmc.calculators | INFO: None\n",
      "16:32:17 - mcmc.calculators | INFO: None\n",
      "16:32:17 - mcmc.calculators | INFO: None\n",
      "16:32:17 - mcmc.calculators | INFO: None\n",
      "16:32:17 - mcmc.calculators | INFO: None\n",
      "16:32:17 - mcmc.calculators | INFO: None\n",
      "16:32:17 - mcmc.calculators | INFO: None\n",
      "16:32:17 - mcmc.calculators | INFO: None\n",
      "16:32:17 - mcmc.calculators | INFO: None\n",
      "16:32:17 - mcmc.calculators | INFO: None\n"
     ]
    },
    {
     "name": "stdout",
     "output_type": "stream",
     "text": [
      "Total wall time: 0:00:00\n",
      "Total wall time: 0:00:00\n",
      "Total wall time: 0:00:00\n",
      "Total wall time: 0:00:00\n",
      "Total wall time: 0:00:00\n",
      "Total wall time: 0:00:00\n",
      "Total wall time: 0:00:00\n",
      "Total wall time: 0:00:00\n",
      "Total wall time: 0:00:00\n",
      "Total wall time: 0:00:00\n",
      "Total wall time: 0:00:00\n",
      "Total wall time: 0:00:00\n"
     ]
    },
    {
     "name": "stderr",
     "output_type": "stream",
     "text": [
      "16:32:17 - mcmc.calculators | INFO: None\n",
      "16:32:17 - mcmc.calculators | INFO: None\n",
      "16:32:17 - mcmc.calculators | INFO: None\n",
      "16:32:17 - mcmc.calculators | INFO: None\n",
      "16:32:17 - mcmc.calculators | INFO: None\n",
      "16:32:17 - mcmc.calculators | INFO: None\n",
      "16:32:17 - mcmc.calculators | INFO: None\n",
      "16:32:17 - mcmc.calculators | INFO: None\n",
      "16:32:17 - mcmc.calculators | INFO: None\n",
      "16:32:17 - mcmc.calculators | INFO: None\n"
     ]
    },
    {
     "name": "stdout",
     "output_type": "stream",
     "text": [
      "Total wall time: 0:00:00\n",
      "Total wall time: 0:00:00\n",
      "Total wall time: 0:00:00\n",
      "Total wall time: 0:00:00\n",
      "Total wall time: 0:00:00\n",
      "Total wall time: 0:00:00\n",
      "Total wall time: 0:00:00\n",
      "Total wall time: 0:00:00\n",
      "Total wall time: 0:00:00\n",
      "Total wall time: 0:00:00\n"
     ]
    },
    {
     "name": "stderr",
     "output_type": "stream",
     "text": [
      "16:32:17 - mcmc.calculators | INFO: None\n",
      "16:32:17 - mcmc.calculators | INFO: None\n",
      "16:32:17 - mcmc.calculators | INFO: None\n",
      "16:32:17 - mcmc.calculators | INFO: None\n",
      "16:32:17 - mcmc.calculators | INFO: None\n",
      "16:32:17 - mcmc.calculators | INFO: None\n",
      "16:32:17 - mcmc.calculators | INFO: None\n",
      "16:32:17 - mcmc.calculators | INFO: None\n",
      "16:32:17 - mcmc.calculators | INFO: None\n",
      "16:32:17 - mcmc.calculators | INFO: None\n",
      "16:32:18 - mcmc.calculators | INFO: None\n"
     ]
    },
    {
     "name": "stdout",
     "output_type": "stream",
     "text": [
      "Total wall time: 0:00:00\n",
      "Total wall time: 0:00:00\n",
      "Total wall time: 0:00:00\n",
      "Total wall time: 0:00:00\n",
      "Total wall time: 0:00:00\n",
      "Total wall time: 0:00:00\n",
      "Total wall time: 0:00:00\n",
      "Total wall time: 0:00:00\n",
      "Total wall time: 0:00:00\n",
      "Total wall time: 0:00:00\n"
     ]
    },
    {
     "name": "stderr",
     "output_type": "stream",
     "text": [
      "16:32:18 - mcmc.calculators | INFO: None\n",
      "16:32:18 - mcmc.calculators | INFO: None\n",
      "16:32:18 - mcmc.calculators | INFO: None\n",
      "16:32:18 - mcmc.calculators | INFO: None\n",
      "16:32:18 - mcmc.calculators | INFO: None\n",
      "16:32:18 - mcmc.calculators | INFO: None\n",
      "16:32:18 - mcmc.calculators | INFO: None\n",
      "16:32:18 - mcmc.calculators | INFO: None\n",
      "16:32:18 - mcmc.calculators | INFO: None\n",
      "16:32:18 - mcmc.calculators | INFO: None\n"
     ]
    },
    {
     "name": "stdout",
     "output_type": "stream",
     "text": [
      "Total wall time: 0:00:00\n",
      "Total wall time: 0:00:00\n",
      "Total wall time: 0:00:00\n",
      "Total wall time: 0:00:00\n",
      "Total wall time: 0:00:00\n",
      "Total wall time: 0:00:00\n",
      "Total wall time: 0:00:00\n",
      "Total wall time: 0:00:00\n",
      "Total wall time: 0:00:00\n",
      "Total wall time: 0:00:00\n"
     ]
    },
    {
     "name": "stderr",
     "output_type": "stream",
     "text": [
      "16:32:18 - mcmc.calculators | INFO: None\n",
      "16:32:18 - mcmc.calculators | INFO: None\n",
      "16:32:18 - mcmc.calculators | INFO: None\n",
      "16:32:18 - mcmc.calculators | INFO: None\n",
      "16:32:18 - mcmc.calculators | INFO: None\n",
      "16:32:18 - mcmc.calculators | INFO: None\n",
      "16:32:18 - mcmc.calculators | INFO: None\n",
      "16:32:18 - mcmc.calculators | INFO: None\n",
      "16:32:18 - mcmc.calculators | INFO: None\n",
      "16:32:18 - mcmc.calculators | INFO: None\n"
     ]
    },
    {
     "name": "stdout",
     "output_type": "stream",
     "text": [
      "Total wall time: 0:00:00\n",
      "Total wall time: 0:00:00\n",
      "Total wall time: 0:00:00\n",
      "Total wall time: 0:00:00\n",
      "Total wall time: 0:00:00\n",
      "Total wall time: 0:00:00\n",
      "Total wall time: 0:00:00\n",
      "Total wall time: 0:00:00\n",
      "Total wall time: 0:00:00\n",
      "Total wall time: 0:00:00\n",
      "Total wall time: 0:00:00\n"
     ]
    },
    {
     "name": "stderr",
     "output_type": "stream",
     "text": [
      "16:32:18 - mcmc.calculators | INFO: None\n",
      "16:32:18 - mcmc.calculators | INFO: None\n",
      "16:32:18 - mcmc.calculators | INFO: None\n",
      "16:32:18 - mcmc.calculators | INFO: None\n",
      "16:32:18 - mcmc.calculators | INFO: None\n",
      "16:32:18 - mcmc.calculators | INFO: None\n",
      "16:32:18 - mcmc.calculators | INFO: None\n",
      "16:32:18 - mcmc.calculators | INFO: None\n",
      "16:32:18 - mcmc.calculators | INFO: None\n",
      "16:32:18 - mcmc.calculators | INFO: None\n",
      "16:32:18 - mcmc.calculators | INFO: None\n"
     ]
    },
    {
     "name": "stdout",
     "output_type": "stream",
     "text": [
      "Total wall time: 0:00:00\n",
      "Total wall time: 0:00:00\n",
      "Total wall time: 0:00:00\n",
      "Total wall time: 0:00:00\n",
      "Total wall time: 0:00:00\n",
      "Total wall time: 0:00:00\n",
      "Total wall time: 0:00:00\n",
      "Total wall time: 0:00:00\n",
      "Total wall time: 0:00:00\n",
      "Total wall time: 0:00:00\n",
      "Total wall time: 0:00:00\n"
     ]
    },
    {
     "name": "stderr",
     "output_type": "stream",
     "text": [
      "16:32:18 - mcmc.calculators | INFO: None\n",
      "16:32:18 - mcmc.calculators | INFO: None\n",
      "16:32:18 - mcmc.calculators | INFO: None\n",
      "16:32:18 - mcmc.calculators | INFO: None\n",
      "16:32:18 - mcmc.calculators | INFO: None\n",
      "16:32:18 - mcmc.calculators | INFO: None\n",
      "16:32:18 - mcmc.calculators | INFO: None\n",
      "16:32:18 - mcmc.calculators | INFO: None\n",
      "16:32:18 - mcmc.calculators | INFO: None\n",
      "16:32:18 - mcmc.calculators | INFO: None\n",
      "16:32:18 - mcmc.calculators | INFO: None\n",
      "16:32:18 - mcmc.calculators | INFO: None\n"
     ]
    },
    {
     "name": "stdout",
     "output_type": "stream",
     "text": [
      "Total wall time: 0:00:00\n",
      "Total wall time: 0:00:00\n",
      "Total wall time: 0:00:00\n",
      "Total wall time: 0:00:00\n",
      "Total wall time: 0:00:00\n",
      "Total wall time: 0:00:00\n",
      "Total wall time: 0:00:00\n",
      "Total wall time: 0:00:00\n",
      "Total wall time: 0:00:00\n",
      "Total wall time: 0:00:00\n",
      "Total wall time: 0:00:00\n",
      "Total wall time: 0:00:00\n"
     ]
    },
    {
     "name": "stderr",
     "output_type": "stream",
     "text": [
      "16:32:18 - mcmc.calculators | INFO: None\n",
      "16:32:18 - mcmc.calculators | INFO: None\n",
      "16:32:18 - mcmc.calculators | INFO: None\n",
      "16:32:18 - mcmc.calculators | INFO: None\n",
      "16:32:18 - mcmc.calculators | INFO: None\n",
      "16:32:18 - mcmc.calculators | INFO: None\n",
      "16:32:18 - mcmc.calculators | INFO: None\n",
      "16:32:18 - mcmc.calculators | INFO: None\n",
      "16:32:19 - mcmc.calculators | INFO: None\n",
      "16:32:19 - mcmc.calculators | INFO: None\n"
     ]
    },
    {
     "name": "stdout",
     "output_type": "stream",
     "text": [
      "Total wall time: 0:00:00\n",
      "Total wall time: 0:00:00\n",
      "Total wall time: 0:00:00\n",
      "Total wall time: 0:00:00\n",
      "Total wall time: 0:00:00\n",
      "Total wall time: 0:00:00\n",
      "Total wall time: 0:00:00\n",
      "Total wall time: 0:00:00\n",
      "Total wall time: 0:00:00\n",
      "Total wall time: 0:00:00\n"
     ]
    },
    {
     "name": "stderr",
     "output_type": "stream",
     "text": [
      "16:32:19 - mcmc.calculators | INFO: None\n",
      "16:32:19 - mcmc.calculators | INFO: None\n",
      "16:32:19 - mcmc.calculators | INFO: None\n",
      "16:32:19 - mcmc.calculators | INFO: None\n",
      "16:32:19 - mcmc.calculators | INFO: None\n",
      "16:32:19 - mcmc.calculators | INFO: None\n",
      "16:32:19 - mcmc.calculators | INFO: None\n",
      "16:32:19 - mcmc.calculators | INFO: None\n",
      "16:32:19 - mcmc.calculators | INFO: None\n",
      "16:32:19 - mcmc.calculators | INFO: None\n",
      "16:32:19 - mcmc.calculators | INFO: None\n"
     ]
    },
    {
     "name": "stdout",
     "output_type": "stream",
     "text": [
      "Total wall time: 0:00:00\n",
      "Total wall time: 0:00:00\n",
      "Total wall time: 0:00:00\n",
      "Total wall time: 0:00:00\n",
      "Total wall time: 0:00:00\n",
      "Total wall time: 0:00:00\n",
      "Total wall time: 0:00:00\n",
      "Total wall time: 0:00:00\n",
      "Total wall time: 0:00:00\n",
      "Total wall time: 0:00:00\n",
      "Total wall time: 0:00:00\n"
     ]
    },
    {
     "name": "stderr",
     "output_type": "stream",
     "text": [
      "16:32:19 - mcmc.calculators | INFO: None\n",
      "16:32:19 - mcmc.calculators | INFO: None\n",
      "16:32:19 - mcmc.calculators | INFO: None\n",
      "16:32:19 - mcmc.calculators | INFO: None\n",
      "16:32:19 - mcmc.calculators | INFO: None\n",
      "16:32:19 - mcmc.calculators | INFO: None\n",
      "16:32:19 - mcmc.calculators | INFO: None\n",
      "16:32:19 - mcmc.calculators | INFO: None\n",
      "16:32:19 - mcmc.calculators | INFO: None\n",
      "16:32:19 - mcmc.calculators | INFO: None\n",
      "16:32:19 - mcmc.calculators | INFO: None\n"
     ]
    },
    {
     "name": "stdout",
     "output_type": "stream",
     "text": [
      "Total wall time: 0:00:00\n",
      "Total wall time: 0:00:00\n",
      "Total wall time: 0:00:00\n",
      "Total wall time: 0:00:00\n",
      "Total wall time: 0:00:00\n",
      "Total wall time: 0:00:00\n",
      "Total wall time: 0:00:00\n",
      "Total wall time: 0:00:00\n",
      "Total wall time: 0:00:00\n",
      "Total wall time: 0:00:00\n",
      "Total wall time: 0:00:00\n"
     ]
    },
    {
     "name": "stderr",
     "output_type": "stream",
     "text": [
      "16:32:19 - mcmc.calculators | INFO: None\n",
      "16:32:19 - mcmc.calculators | INFO: None\n",
      "16:32:19 - mcmc.calculators | INFO: None\n",
      "16:32:19 - mcmc.calculators | INFO: None\n",
      "16:32:19 - mcmc.calculators | INFO: None\n",
      "16:32:19 - mcmc.calculators | INFO: None\n",
      "16:32:19 - mcmc.calculators | INFO: None\n",
      "16:32:19 - mcmc.calculators | INFO: None\n",
      "16:32:19 - mcmc.calculators | INFO: None\n",
      "16:32:19 - mcmc.calculators | INFO: None\n",
      "16:32:19 - mcmc.calculators | INFO: None\n",
      "16:32:19 - mcmc.calculators | INFO: None\n"
     ]
    },
    {
     "name": "stdout",
     "output_type": "stream",
     "text": [
      "Total wall time: 0:00:00\n",
      "Total wall time: 0:00:00\n",
      "Total wall time: 0:00:00\n",
      "Total wall time: 0:00:00\n",
      "Total wall time: 0:00:00\n",
      "Total wall time: 0:00:00\n",
      "Total wall time: 0:00:00\n",
      "Total wall time: 0:00:00\n",
      "Total wall time: 0:00:00\n",
      "Total wall time: 0:00:00\n",
      "Total wall time: 0:00:00\n",
      "Total wall time: 0:00:00\n"
     ]
    },
    {
     "name": "stderr",
     "output_type": "stream",
     "text": [
      "16:32:19 - mcmc.calculators | INFO: None\n",
      "16:32:19 - mcmc.calculators | INFO: None\n",
      "16:32:19 - mcmc.calculators | INFO: None\n",
      "16:32:19 - mcmc.calculators | INFO: None\n",
      "16:32:19 - mcmc.calculators | INFO: None\n",
      "16:32:19 - mcmc.calculators | INFO: None\n",
      "16:32:19 - mcmc.calculators | INFO: None\n",
      "16:32:19 - mcmc.calculators | INFO: None\n",
      "16:32:19 - mcmc.calculators | INFO: None\n",
      "16:32:19 - mcmc.calculators | INFO: None\n",
      "16:32:19 - mcmc.calculators | INFO: None\n",
      "16:32:19 - mcmc.calculators | INFO: None\n"
     ]
    },
    {
     "name": "stdout",
     "output_type": "stream",
     "text": [
      "Total wall time: 0:00:00\n",
      "Total wall time: 0:00:00\n",
      "Total wall time: 0:00:00\n",
      "Total wall time: 0:00:00\n",
      "Total wall time: 0:00:00\n",
      "Total wall time: 0:00:00\n",
      "Total wall time: 0:00:00\n",
      "Total wall time: 0:00:00\n",
      "Total wall time: 0:00:00\n",
      "Total wall time: 0:00:00\n",
      "Total wall time: 0:00:00\n",
      "Total wall time: 0:00:00\n"
     ]
    },
    {
     "name": "stderr",
     "output_type": "stream",
     "text": [
      "16:32:19 - mcmc.calculators | INFO: None\n",
      "16:32:19 - mcmc.calculators | INFO: None\n",
      "16:32:19 - mcmc.calculators | INFO: None\n",
      "16:32:19 - mcmc.calculators | INFO: None\n",
      "16:32:20 - mcmc.calculators | INFO: None\n",
      "16:32:20 - mcmc.calculators | INFO: None\n",
      "16:32:20 - mcmc.calculators | INFO: None\n",
      "16:32:20 - mcmc.calculators | INFO: None\n",
      "16:32:20 - mcmc.calculators | INFO: None\n",
      "16:32:20 - mcmc.calculators | INFO: None\n",
      "16:32:20 - mcmc.calculators | INFO: None\n"
     ]
    },
    {
     "name": "stdout",
     "output_type": "stream",
     "text": [
      "Total wall time: 0:00:00\n",
      "Total wall time: 0:00:00\n",
      "Total wall time: 0:00:00\n",
      "Total wall time: 0:00:00\n",
      "Total wall time: 0:00:00\n",
      "Total wall time: 0:00:00\n",
      "Total wall time: 0:00:00\n",
      "Total wall time: 0:00:00\n",
      "Total wall time: 0:00:00\n",
      "Total wall time: 0:00:00\n",
      "Total wall time: 0:00:00\n"
     ]
    },
    {
     "name": "stderr",
     "output_type": "stream",
     "text": [
      "16:32:20 - mcmc.calculators | INFO: None\n",
      "16:32:20 - mcmc.calculators | INFO: None\n",
      "16:32:20 - mcmc.calculators | INFO: None\n",
      "16:32:20 - mcmc.calculators | INFO: None\n",
      "16:32:20 - mcmc.calculators | INFO: None\n",
      "16:32:20 - mcmc.calculators | INFO: None\n",
      "16:32:20 - mcmc.calculators | INFO: None\n",
      "16:32:20 - mcmc.calculators | INFO: None\n",
      "16:32:20 - mcmc.calculators | INFO: None\n"
     ]
    },
    {
     "name": "stdout",
     "output_type": "stream",
     "text": [
      "Total wall time: 0:00:00\n",
      "Total wall time: 0:00:00\n",
      "Total wall time: 0:00:00\n",
      "Total wall time: 0:00:00\n",
      "Total wall time: 0:00:00\n",
      "Total wall time: 0:00:00\n",
      "Total wall time: 0:00:00\n",
      "Total wall time: 0:00:00\n",
      "Total wall time: 0:00:00\n"
     ]
    },
    {
     "name": "stderr",
     "output_type": "stream",
     "text": [
      "16:32:20 - mcmc.calculators | INFO: None\n",
      "16:32:20 - mcmc.calculators | INFO: None\n",
      "16:32:20 - mcmc.calculators | INFO: None\n",
      "16:32:20 - mcmc.calculators | INFO: None\n",
      "16:32:20 - mcmc.calculators | INFO: None\n",
      "16:32:20 - mcmc.calculators | INFO: None\n",
      "16:32:20 - mcmc.mcmc | INFO: At iter 312\n",
      "16:32:20 - mcmc.calculators | INFO: None\n",
      "16:32:20 - mcmc.calculators | INFO: None\n",
      "16:32:20 - mcmc.calculators | INFO: None\n",
      "16:32:20 - mcmc.system | INFO: Optimized structure has Energy = -178.515\n",
      "16:32:20 - mcmc.mcmc | INFO: In sweep 4 out of 10\n"
     ]
    },
    {
     "name": "stdout",
     "output_type": "stream",
     "text": [
      "Total wall time: 0:00:00\n",
      "Total wall time: 0:00:00\n",
      "Total wall time: 0:00:00\n",
      "Total wall time: 0:00:00\n",
      "Total wall time: 0:00:00\n",
      "Total wall time: 0:00:00\n",
      "Total wall time: 0:00:00\n",
      "Total wall time: 0:00:00\n",
      "Total wall time: 0:00:00\n"
     ]
    },
    {
     "name": "stderr",
     "output_type": "stream",
     "text": [
      "16:32:20 - mcmc.calculators | INFO: None\n",
      "16:32:20 - mcmc.calculators | INFO: None\n",
      "16:32:20 - mcmc.calculators | INFO: None\n",
      "16:32:20 - mcmc.calculators | INFO: None\n",
      "16:32:20 - mcmc.calculators | INFO: None\n",
      "16:32:20 - mcmc.calculators | INFO: None\n",
      "16:32:20 - mcmc.calculators | INFO: None\n",
      "16:32:20 - mcmc.calculators | INFO: None\n",
      "16:32:20 - mcmc.calculators | INFO: None\n",
      "16:32:20 - mcmc.calculators | INFO: None\n",
      "16:32:20 - mcmc.calculators | INFO: None\n"
     ]
    },
    {
     "name": "stdout",
     "output_type": "stream",
     "text": [
      "Total wall time: 0:00:00\n",
      "Total wall time: 0:00:00\n",
      "Total wall time: 0:00:00\n",
      "Total wall time: 0:00:00\n",
      "Total wall time: 0:00:00\n",
      "Total wall time: 0:00:00\n",
      "Total wall time: 0:00:00\n",
      "Total wall time: 0:00:00\n",
      "Total wall time: 0:00:00\n",
      "Total wall time: 0:00:00\n",
      "Total wall time: 0:00:00\n"
     ]
    },
    {
     "name": "stderr",
     "output_type": "stream",
     "text": [
      "16:32:20 - mcmc.calculators | INFO: None\n",
      "16:32:20 - mcmc.calculators | INFO: None\n",
      "16:32:20 - mcmc.calculators | INFO: None\n",
      "16:32:20 - mcmc.calculators | INFO: None\n",
      "16:32:20 - mcmc.calculators | INFO: None\n",
      "16:32:20 - mcmc.calculators | INFO: None\n",
      "16:32:20 - mcmc.calculators | INFO: None\n",
      "16:32:20 - mcmc.calculators | INFO: None\n",
      "16:32:20 - mcmc.calculators | INFO: None\n",
      "16:32:20 - mcmc.calculators | INFO: None\n",
      "16:32:20 - mcmc.calculators | INFO: None\n",
      "16:32:20 - mcmc.calculators | INFO: None\n"
     ]
    },
    {
     "name": "stdout",
     "output_type": "stream",
     "text": [
      "Total wall time: 0:00:00\n",
      "Total wall time: 0:00:00\n",
      "Total wall time: 0:00:00\n",
      "Total wall time: 0:00:00\n",
      "Total wall time: 0:00:00\n",
      "Total wall time: 0:00:00\n",
      "Total wall time: 0:00:00\n",
      "Total wall time: 0:00:00\n",
      "Total wall time: 0:00:00\n",
      "Total wall time: 0:00:00\n",
      "Total wall time: 0:00:00\n",
      "Total wall time: 0:00:00\n"
     ]
    },
    {
     "name": "stderr",
     "output_type": "stream",
     "text": [
      "16:32:20 - mcmc.calculators | INFO: None\n",
      "16:32:20 - mcmc.calculators | INFO: None\n",
      "16:32:20 - mcmc.calculators | INFO: None\n",
      "16:32:21 - mcmc.calculators | INFO: None\n",
      "16:32:21 - mcmc.calculators | INFO: None\n",
      "16:32:21 - mcmc.calculators | INFO: None\n",
      "16:32:21 - mcmc.calculators | INFO: None\n",
      "16:32:21 - mcmc.calculators | INFO: None\n"
     ]
    },
    {
     "name": "stdout",
     "output_type": "stream",
     "text": [
      "Total wall time: 0:00:00\n",
      "Total wall time: 0:00:00\n",
      "Total wall time: 0:00:00\n",
      "Total wall time: 0:00:00\n",
      "Total wall time: 0:00:00\n",
      "Total wall time: 0:00:00\n",
      "Total wall time: 0:00:00\n",
      "Total wall time: 0:00:00\n"
     ]
    },
    {
     "name": "stderr",
     "output_type": "stream",
     "text": [
      "16:32:21 - mcmc.calculators | INFO: None\n",
      "16:32:21 - mcmc.calculators | INFO: None\n",
      "16:32:21 - mcmc.calculators | INFO: None\n",
      "16:32:21 - mcmc.calculators | INFO: None\n",
      "16:32:21 - mcmc.calculators | INFO: None\n",
      "16:32:21 - mcmc.calculators | INFO: None\n",
      "16:32:21 - mcmc.calculators | INFO: None\n",
      "16:32:21 - mcmc.calculators | INFO: None\n",
      "16:32:21 - mcmc.calculators | INFO: None\n"
     ]
    },
    {
     "name": "stdout",
     "output_type": "stream",
     "text": [
      "Total wall time: 0:00:00\n",
      "Total wall time: 0:00:00\n",
      "Total wall time: 0:00:00\n",
      "Total wall time: 0:00:00\n",
      "Total wall time: 0:00:00\n",
      "Total wall time: 0:00:00\n",
      "Total wall time: 0:00:00\n",
      "Total wall time: 0:00:00\n",
      "Total wall time: 0:00:00\n"
     ]
    },
    {
     "name": "stderr",
     "output_type": "stream",
     "text": [
      "16:32:21 - mcmc.calculators | INFO: None\n",
      "16:32:21 - mcmc.calculators | INFO: None\n",
      "16:32:21 - mcmc.calculators | INFO: None\n",
      "16:32:21 - mcmc.calculators | INFO: None\n",
      "16:32:21 - mcmc.calculators | INFO: None\n",
      "16:32:21 - mcmc.calculators | INFO: None\n",
      "16:32:21 - mcmc.calculators | INFO: None\n",
      "16:32:21 - mcmc.calculators | INFO: None\n",
      "16:32:21 - mcmc.calculators | INFO: None\n",
      "16:32:21 - mcmc.calculators | INFO: None\n",
      "16:32:21 - mcmc.calculators | INFO: None\n",
      "16:32:21 - mcmc.calculators | INFO: None\n",
      "16:32:21 - mcmc.calculators | INFO: None\n"
     ]
    },
    {
     "name": "stdout",
     "output_type": "stream",
     "text": [
      "Total wall time: 0:00:00\n",
      "Total wall time: 0:00:00\n",
      "Total wall time: 0:00:00\n",
      "Total wall time: 0:00:00\n",
      "Total wall time: 0:00:00\n",
      "Total wall time: 0:00:00\n",
      "Total wall time: 0:00:00\n",
      "Total wall time: 0:00:00\n",
      "Total wall time: 0:00:00\n",
      "Total wall time: 0:00:00\n",
      "Total wall time: 0:00:00\n",
      "Total wall time: 0:00:00\n",
      "Total wall time: 0:00:00\n"
     ]
    },
    {
     "name": "stderr",
     "output_type": "stream",
     "text": [
      "16:32:21 - mcmc.calculators | INFO: None\n",
      "16:32:21 - mcmc.calculators | INFO: None\n",
      "16:32:21 - mcmc.calculators | INFO: None\n",
      "16:32:21 - mcmc.calculators | INFO: None\n",
      "16:32:21 - mcmc.calculators | INFO: None\n",
      "16:32:21 - mcmc.calculators | INFO: None\n",
      "16:32:21 - mcmc.calculators | INFO: None\n",
      "16:32:21 - mcmc.calculators | INFO: None\n",
      "16:32:21 - mcmc.calculators | INFO: None\n",
      "16:32:21 - mcmc.calculators | INFO: None\n",
      "16:32:21 - mcmc.calculators | INFO: None\n"
     ]
    },
    {
     "name": "stdout",
     "output_type": "stream",
     "text": [
      "Total wall time: 0:00:00\n",
      "Total wall time: 0:00:00\n",
      "Total wall time: 0:00:00\n",
      "Total wall time: 0:00:00\n",
      "Total wall time: 0:00:00\n",
      "Total wall time: 0:00:00\n",
      "Total wall time: 0:00:00\n",
      "Total wall time: 0:00:00\n",
      "Total wall time: 0:00:00\n",
      "Total wall time: 0:00:00\n",
      "Total wall time: 0:00:00\n"
     ]
    },
    {
     "name": "stderr",
     "output_type": "stream",
     "text": [
      "16:32:21 - mcmc.calculators | INFO: None\n",
      "16:32:21 - mcmc.calculators | INFO: None\n",
      "16:32:21 - mcmc.calculators | INFO: None\n",
      "16:32:21 - mcmc.calculators | INFO: None\n",
      "16:32:21 - mcmc.calculators | INFO: None\n",
      "16:32:21 - mcmc.calculators | INFO: None\n",
      "16:32:21 - mcmc.calculators | INFO: None\n",
      "16:32:21 - mcmc.calculators | INFO: None\n",
      "16:32:21 - mcmc.calculators | INFO: None\n",
      "16:32:21 - mcmc.calculators | INFO: None\n",
      "16:32:21 - mcmc.calculators | INFO: None\n",
      "16:32:21 - mcmc.calculators | INFO: None\n"
     ]
    },
    {
     "name": "stdout",
     "output_type": "stream",
     "text": [
      "Total wall time: 0:00:00\n",
      "Total wall time: 0:00:00\n",
      "Total wall time: 0:00:00\n",
      "Total wall time: 0:00:00\n",
      "Total wall time: 0:00:00\n",
      "Total wall time: 0:00:00\n",
      "Total wall time: 0:00:00\n",
      "Total wall time: 0:00:00\n",
      "Total wall time: 0:00:00\n",
      "Total wall time: 0:00:00\n",
      "Total wall time: 0:00:00\n",
      "Total wall time: 0:00:00\n"
     ]
    },
    {
     "name": "stderr",
     "output_type": "stream",
     "text": [
      "16:32:22 - mcmc.calculators | INFO: None\n",
      "16:32:22 - mcmc.calculators | INFO: None\n",
      "16:32:22 - mcmc.calculators | INFO: None\n",
      "16:32:22 - mcmc.calculators | INFO: None\n",
      "16:32:22 - mcmc.calculators | INFO: None\n",
      "16:32:22 - mcmc.calculators | INFO: None\n",
      "16:32:22 - mcmc.calculators | INFO: None\n",
      "16:32:22 - mcmc.calculators | INFO: None\n",
      "16:32:22 - mcmc.calculators | INFO: None\n",
      "16:32:22 - mcmc.calculators | INFO: None\n",
      "16:32:22 - mcmc.calculators | INFO: None\n",
      "16:32:22 - mcmc.calculators | INFO: None\n"
     ]
    },
    {
     "name": "stdout",
     "output_type": "stream",
     "text": [
      "Total wall time: 0:00:00\n",
      "Total wall time: 0:00:00\n",
      "Total wall time: 0:00:00\n",
      "Total wall time: 0:00:00\n",
      "Total wall time: 0:00:00\n",
      "Total wall time: 0:00:00\n",
      "Total wall time: 0:00:00\n",
      "Total wall time: 0:00:00\n",
      "Total wall time: 0:00:00\n",
      "Total wall time: 0:00:00\n",
      "Total wall time: 0:00:00\n",
      "Total wall time: 0:00:00\n"
     ]
    },
    {
     "name": "stderr",
     "output_type": "stream",
     "text": [
      "16:32:22 - mcmc.calculators | INFO: None\n",
      "16:32:22 - mcmc.calculators | INFO: None\n",
      "16:32:22 - mcmc.calculators | INFO: None\n",
      "16:32:22 - mcmc.calculators | INFO: None\n",
      "16:32:22 - mcmc.calculators | INFO: None\n",
      "16:32:22 - mcmc.calculators | INFO: None\n",
      "16:32:22 - mcmc.calculators | INFO: None\n",
      "16:32:22 - mcmc.calculators | INFO: None\n",
      "16:32:22 - mcmc.calculators | INFO: None\n",
      "16:32:22 - mcmc.calculators | INFO: None\n",
      "16:32:22 - mcmc.calculators | INFO: None\n",
      "16:32:22 - mcmc.calculators | INFO: None\n",
      "16:32:22 - mcmc.calculators | INFO: None\n"
     ]
    },
    {
     "name": "stdout",
     "output_type": "stream",
     "text": [
      "Total wall time: 0:00:00\n",
      "Total wall time: 0:00:00\n",
      "Total wall time: 0:00:00\n",
      "Total wall time: 0:00:00\n",
      "Total wall time: 0:00:00\n",
      "Total wall time: 0:00:00\n",
      "Total wall time: 0:00:00\n",
      "Total wall time: 0:00:00\n",
      "Total wall time: 0:00:00\n",
      "Total wall time: 0:00:00\n",
      "Total wall time: 0:00:00\n",
      "Total wall time: 0:00:00\n",
      "Total wall time: 0:00:00\n"
     ]
    },
    {
     "name": "stderr",
     "output_type": "stream",
     "text": [
      "16:32:22 - mcmc.calculators | INFO: None\n",
      "16:32:22 - mcmc.calculators | INFO: None\n",
      "16:32:22 - mcmc.calculators | INFO: None\n",
      "16:32:22 - mcmc.calculators | INFO: None\n",
      "16:32:22 - mcmc.calculators | INFO: None\n",
      "16:32:22 - mcmc.calculators | INFO: None\n",
      "16:32:22 - mcmc.calculators | INFO: None\n",
      "16:32:22 - mcmc.calculators | INFO: None\n",
      "16:32:22 - mcmc.calculators | INFO: None\n",
      "16:32:22 - mcmc.calculators | INFO: None\n",
      "16:32:22 - mcmc.calculators | INFO: None\n"
     ]
    },
    {
     "name": "stdout",
     "output_type": "stream",
     "text": [
      "Total wall time: 0:00:00\n",
      "Total wall time: 0:00:00\n",
      "Total wall time: 0:00:00\n",
      "Total wall time: 0:00:00\n",
      "Total wall time: 0:00:00\n",
      "Total wall time: 0:00:00\n",
      "Total wall time: 0:00:00\n",
      "Total wall time: 0:00:00\n",
      "Total wall time: 0:00:00\n",
      "Total wall time: 0:00:00\n",
      "Total wall time: 0:00:00\n"
     ]
    },
    {
     "name": "stderr",
     "output_type": "stream",
     "text": [
      "16:32:22 - mcmc.calculators | INFO: None\n",
      "16:32:22 - mcmc.calculators | INFO: None\n",
      "16:32:22 - mcmc.calculators | INFO: None\n",
      "16:32:22 - mcmc.calculators | INFO: None\n",
      "16:32:22 - mcmc.calculators | INFO: None\n",
      "16:32:22 - mcmc.calculators | INFO: None\n",
      "16:32:22 - mcmc.calculators | INFO: None\n",
      "16:32:22 - mcmc.calculators | INFO: None\n",
      "16:32:22 - mcmc.calculators | INFO: None\n",
      "16:32:22 - mcmc.calculators | INFO: None\n",
      "16:32:22 - mcmc.calculators | INFO: None\n",
      "16:32:22 - mcmc.calculators | INFO: None\n"
     ]
    },
    {
     "name": "stdout",
     "output_type": "stream",
     "text": [
      "Total wall time: 0:00:00\n",
      "Total wall time: 0:00:00\n",
      "Total wall time: 0:00:00\n",
      "Total wall time: 0:00:00\n",
      "Total wall time: 0:00:00\n",
      "Total wall time: 0:00:00\n",
      "Total wall time: 0:00:00\n",
      "Total wall time: 0:00:00\n",
      "Total wall time: 0:00:00\n",
      "Total wall time: 0:00:00\n",
      "Total wall time: 0:00:00\n",
      "Total wall time: 0:00:00\n"
     ]
    },
    {
     "name": "stderr",
     "output_type": "stream",
     "text": [
      "16:32:22 - mcmc.calculators | INFO: None\n",
      "16:32:22 - mcmc.calculators | INFO: None\n",
      "16:32:22 - mcmc.calculators | INFO: None\n",
      "16:32:22 - mcmc.calculators | INFO: None\n",
      "16:32:22 - mcmc.calculators | INFO: None\n",
      "16:32:22 - mcmc.calculators | INFO: None\n",
      "16:32:22 - mcmc.calculators | INFO: None\n",
      "16:32:22 - mcmc.calculators | INFO: None\n",
      "16:32:22 - mcmc.calculators | INFO: None\n",
      "16:32:23 - mcmc.calculators | INFO: None\n",
      "16:32:23 - mcmc.calculators | INFO: None\n",
      "16:32:23 - mcmc.calculators | INFO: None\n",
      "16:32:23 - mcmc.calculators | INFO: None\n",
      "16:32:23 - mcmc.calculators | INFO: None\n"
     ]
    },
    {
     "name": "stdout",
     "output_type": "stream",
     "text": [
      "Total wall time: 0:00:00\n",
      "Total wall time: 0:00:00\n",
      "Total wall time: 0:00:00\n",
      "Total wall time: 0:00:00\n",
      "Total wall time: 0:00:00\n",
      "Total wall time: 0:00:00\n",
      "Total wall time: 0:00:00\n",
      "Total wall time: 0:00:00\n",
      "Total wall time: 0:00:00\n",
      "Total wall time: 0:00:00\n",
      "Total wall time: 0:00:00\n",
      "Total wall time: 0:00:00\n",
      "Total wall time: 0:00:00\n",
      "Total wall time: 0:00:00\n"
     ]
    },
    {
     "name": "stderr",
     "output_type": "stream",
     "text": [
      "16:32:23 - mcmc.calculators | INFO: None\n",
      "16:32:23 - mcmc.calculators | INFO: None\n",
      "16:32:23 - mcmc.calculators | INFO: None\n",
      "16:32:23 - mcmc.calculators | INFO: None\n",
      "16:32:23 - mcmc.calculators | INFO: None\n",
      "16:32:23 - mcmc.calculators | INFO: None\n",
      "16:32:23 - mcmc.calculators | INFO: None\n",
      "16:32:23 - mcmc.calculators | INFO: None\n",
      "16:32:23 - mcmc.calculators | INFO: None\n",
      "16:32:23 - mcmc.calculators | INFO: None\n",
      "16:32:23 - mcmc.calculators | INFO: None\n",
      "16:32:23 - mcmc.calculators | INFO: None\n"
     ]
    },
    {
     "name": "stdout",
     "output_type": "stream",
     "text": [
      "Total wall time: 0:00:00\n",
      "Total wall time: 0:00:00\n",
      "Total wall time: 0:00:00\n",
      "Total wall time: 0:00:00\n",
      "Total wall time: 0:00:00\n",
      "Total wall time: 0:00:00\n",
      "Total wall time: 0:00:00\n",
      "Total wall time: 0:00:00\n",
      "Total wall time: 0:00:00\n",
      "Total wall time: 0:00:00\n",
      "Total wall time: 0:00:00\n",
      "Total wall time: 0:00:00\n"
     ]
    },
    {
     "name": "stderr",
     "output_type": "stream",
     "text": [
      "16:32:23 - mcmc.calculators | INFO: None\n",
      "16:32:23 - mcmc.calculators | INFO: None\n",
      "16:32:23 - mcmc.calculators | INFO: None\n",
      "16:32:23 - mcmc.calculators | INFO: None\n",
      "16:32:23 - mcmc.calculators | INFO: None\n",
      "16:32:23 - mcmc.calculators | INFO: None\n",
      "16:32:23 - mcmc.calculators | INFO: None\n",
      "16:32:23 - mcmc.calculators | INFO: None\n",
      "16:32:23 - mcmc.calculators | INFO: None\n",
      "16:32:23 - mcmc.calculators | INFO: None\n",
      "16:32:23 - mcmc.calculators | INFO: None\n",
      "16:32:23 - mcmc.calculators | INFO: None\n"
     ]
    },
    {
     "name": "stdout",
     "output_type": "stream",
     "text": [
      "Total wall time: 0:00:00\n",
      "Total wall time: 0:00:00\n",
      "Total wall time: 0:00:00\n",
      "Total wall time: 0:00:00\n",
      "Total wall time: 0:00:00\n",
      "Total wall time: 0:00:00\n",
      "Total wall time: 0:00:00\n",
      "Total wall time: 0:00:00\n",
      "Total wall time: 0:00:00\n",
      "Total wall time: 0:00:00\n",
      "Total wall time: 0:00:00\n",
      "Total wall time: 0:00:00\n"
     ]
    },
    {
     "name": "stderr",
     "output_type": "stream",
     "text": [
      "16:32:23 - mcmc.calculators | INFO: None\n",
      "16:32:23 - mcmc.calculators | INFO: None\n",
      "16:32:23 - mcmc.calculators | INFO: None\n",
      "16:32:23 - mcmc.calculators | INFO: None\n",
      "16:32:23 - mcmc.calculators | INFO: None\n",
      "16:32:23 - mcmc.calculators | INFO: None\n",
      "16:32:23 - mcmc.calculators | INFO: None\n",
      "16:32:23 - mcmc.calculators | INFO: None\n",
      "16:32:23 - mcmc.calculators | INFO: None\n",
      "16:32:23 - mcmc.calculators | INFO: None\n",
      "16:32:23 - mcmc.calculators | INFO: None\n"
     ]
    },
    {
     "name": "stdout",
     "output_type": "stream",
     "text": [
      "Total wall time: 0:00:00\n",
      "Total wall time: 0:00:00\n",
      "Total wall time: 0:00:00\n",
      "Total wall time: 0:00:00\n",
      "Total wall time: 0:00:00\n",
      "Total wall time: 0:00:00\n",
      "Total wall time: 0:00:00\n",
      "Total wall time: 0:00:00\n",
      "Total wall time: 0:00:00\n",
      "Total wall time: 0:00:00\n",
      "Total wall time: 0:00:00\n"
     ]
    },
    {
     "name": "stderr",
     "output_type": "stream",
     "text": [
      "16:32:23 - mcmc.calculators | INFO: None\n",
      "16:32:23 - mcmc.calculators | INFO: None\n",
      "16:32:23 - mcmc.calculators | INFO: None\n",
      "16:32:23 - mcmc.calculators | INFO: None\n",
      "16:32:23 - mcmc.calculators | INFO: None\n",
      "16:32:23 - mcmc.calculators | INFO: None\n",
      "16:32:23 - mcmc.calculators | INFO: None\n",
      "16:32:23 - mcmc.calculators | INFO: None\n",
      "16:32:23 - mcmc.calculators | INFO: None\n",
      "16:32:23 - mcmc.calculators | INFO: None\n",
      "16:32:23 - mcmc.calculators | INFO: None\n"
     ]
    },
    {
     "name": "stdout",
     "output_type": "stream",
     "text": [
      "Total wall time: 0:00:00\n",
      "Total wall time: 0:00:00\n",
      "Total wall time: 0:00:00\n",
      "Total wall time: 0:00:00\n",
      "Total wall time: 0:00:00\n",
      "Total wall time: 0:00:00\n",
      "Total wall time: 0:00:00\n",
      "Total wall time: 0:00:00\n",
      "Total wall time: 0:00:00\n",
      "Total wall time: 0:00:00\n",
      "Total wall time: 0:00:00\n"
     ]
    },
    {
     "name": "stderr",
     "output_type": "stream",
     "text": [
      "16:32:23 - mcmc.calculators | INFO: None\n",
      "16:32:23 - mcmc.calculators | INFO: None\n",
      "16:32:23 - mcmc.calculators | INFO: None\n",
      "16:32:23 - mcmc.calculators | INFO: None\n",
      "16:32:24 - mcmc.calculators | INFO: None\n",
      "16:32:24 - mcmc.calculators | INFO: None\n",
      "16:32:24 - mcmc.calculators | INFO: None\n",
      "16:32:24 - mcmc.calculators | INFO: None\n",
      "16:32:24 - mcmc.calculators | INFO: None\n",
      "16:32:24 - mcmc.calculators | INFO: None\n",
      "16:32:24 - mcmc.calculators | INFO: None\n"
     ]
    },
    {
     "name": "stdout",
     "output_type": "stream",
     "text": [
      "Total wall time: 0:00:00\n",
      "Total wall time: 0:00:00\n",
      "Total wall time: 0:00:00\n",
      "Total wall time: 0:00:00\n",
      "Total wall time: 0:00:00\n",
      "Total wall time: 0:00:00\n",
      "Total wall time: 0:00:00\n",
      "Total wall time: 0:00:00\n",
      "Total wall time: 0:00:00\n",
      "Total wall time: 0:00:00\n",
      "Total wall time: 0:00:00\n"
     ]
    },
    {
     "name": "stderr",
     "output_type": "stream",
     "text": [
      "16:32:24 - mcmc.calculators | INFO: None\n",
      "16:32:24 - mcmc.calculators | INFO: None\n",
      "16:32:24 - mcmc.calculators | INFO: None\n",
      "16:32:24 - mcmc.calculators | INFO: None\n",
      "16:32:24 - mcmc.calculators | INFO: None\n",
      "16:32:24 - mcmc.calculators | INFO: None\n",
      "16:32:24 - mcmc.calculators | INFO: None\n",
      "16:32:24 - mcmc.calculators | INFO: None\n",
      "16:32:24 - mcmc.calculators | INFO: None\n",
      "16:32:24 - mcmc.calculators | INFO: None\n",
      "16:32:24 - mcmc.calculators | INFO: None\n",
      "16:32:24 - mcmc.mcmc | INFO: At iter 416\n",
      "16:32:24 - mcmc.calculators | INFO: None\n",
      "16:32:24 - mcmc.calculators | INFO: None\n",
      "16:32:24 - mcmc.system | INFO: Optimized structure has Energy = -177.218\n"
     ]
    },
    {
     "name": "stdout",
     "output_type": "stream",
     "text": [
      "Total wall time: 0:00:00\n",
      "Total wall time: 0:00:00\n",
      "Total wall time: 0:00:00\n",
      "Total wall time: 0:00:00\n",
      "Total wall time: 0:00:00\n",
      "Total wall time: 0:00:00\n",
      "Total wall time: 0:00:00\n",
      "Total wall time: 0:00:00\n",
      "Total wall time: 0:00:00\n",
      "Total wall time: 0:00:00\n",
      "Total wall time: 0:00:00\n",
      "Total wall time: 0:00:00\n",
      "Total wall time: 0:00:00\n"
     ]
    },
    {
     "name": "stderr",
     "output_type": "stream",
     "text": [
      "16:32:24 - mcmc.mcmc | INFO: In sweep 5 out of 10\n",
      "16:32:24 - mcmc.calculators | INFO: None\n",
      "16:32:24 - mcmc.calculators | INFO: None\n",
      "16:32:24 - mcmc.calculators | INFO: None\n",
      "16:32:24 - mcmc.calculators | INFO: None\n",
      "16:32:24 - mcmc.calculators | INFO: None\n",
      "16:32:24 - mcmc.calculators | INFO: None\n",
      "16:32:24 - mcmc.calculators | INFO: None\n",
      "16:32:24 - mcmc.calculators | INFO: None\n",
      "16:32:24 - mcmc.calculators | INFO: None\n",
      "16:32:24 - mcmc.calculators | INFO: None\n",
      "16:32:24 - mcmc.calculators | INFO: None\n"
     ]
    },
    {
     "name": "stdout",
     "output_type": "stream",
     "text": [
      "Total wall time: 0:00:00\n",
      "Total wall time: 0:00:00\n",
      "Total wall time: 0:00:00\n",
      "Total wall time: 0:00:00\n",
      "Total wall time: 0:00:00\n",
      "Total wall time: 0:00:00\n",
      "Total wall time: 0:00:00\n",
      "Total wall time: 0:00:00\n",
      "Total wall time: 0:00:00\n",
      "Total wall time: 0:00:00\n",
      "Total wall time: 0:00:00\n"
     ]
    },
    {
     "name": "stderr",
     "output_type": "stream",
     "text": [
      "16:32:24 - mcmc.calculators | INFO: None\n",
      "16:32:24 - mcmc.calculators | INFO: None\n",
      "16:32:24 - mcmc.calculators | INFO: None\n",
      "16:32:24 - mcmc.calculators | INFO: None\n",
      "16:32:24 - mcmc.calculators | INFO: None\n",
      "16:32:24 - mcmc.calculators | INFO: None\n",
      "16:32:24 - mcmc.calculators | INFO: None\n",
      "16:32:24 - mcmc.calculators | INFO: None\n",
      "16:32:24 - mcmc.calculators | INFO: None\n",
      "16:32:24 - mcmc.calculators | INFO: None\n",
      "16:32:24 - mcmc.calculators | INFO: None\n"
     ]
    },
    {
     "name": "stdout",
     "output_type": "stream",
     "text": [
      "Total wall time: 0:00:00\n",
      "Total wall time: 0:00:00\n",
      "Total wall time: 0:00:00\n",
      "Total wall time: 0:00:00\n",
      "Total wall time: 0:00:00\n",
      "Total wall time: 0:00:00\n",
      "Total wall time: 0:00:00\n",
      "Total wall time: 0:00:00\n",
      "Total wall time: 0:00:00\n",
      "Total wall time: 0:00:00\n",
      "Total wall time: 0:00:00\n"
     ]
    },
    {
     "name": "stderr",
     "output_type": "stream",
     "text": [
      "16:32:24 - mcmc.calculators | INFO: None\n",
      "16:32:24 - mcmc.calculators | INFO: None\n",
      "16:32:24 - mcmc.calculators | INFO: None\n",
      "16:32:24 - mcmc.calculators | INFO: None\n",
      "16:32:24 - mcmc.calculators | INFO: None\n",
      "16:32:24 - mcmc.calculators | INFO: None\n",
      "16:32:24 - mcmc.calculators | INFO: None\n",
      "16:32:24 - mcmc.calculators | INFO: None\n",
      "16:32:24 - mcmc.calculators | INFO: None\n",
      "16:32:25 - mcmc.calculators | INFO: None\n"
     ]
    },
    {
     "name": "stdout",
     "output_type": "stream",
     "text": [
      "Total wall time: 0:00:00\n",
      "Total wall time: 0:00:00\n",
      "Total wall time: 0:00:00\n",
      "Total wall time: 0:00:00\n",
      "Total wall time: 0:00:00\n",
      "Total wall time: 0:00:00\n",
      "Total wall time: 0:00:00\n",
      "Total wall time: 0:00:00\n",
      "Total wall time: 0:00:00\n",
      "Total wall time: 0:00:00\n"
     ]
    },
    {
     "name": "stderr",
     "output_type": "stream",
     "text": [
      "16:32:25 - mcmc.calculators | INFO: None\n",
      "16:32:25 - mcmc.calculators | INFO: None\n",
      "16:32:25 - mcmc.calculators | INFO: None\n",
      "16:32:25 - mcmc.calculators | INFO: None\n",
      "16:32:25 - mcmc.calculators | INFO: None\n",
      "16:32:25 - mcmc.calculators | INFO: None\n",
      "16:32:25 - mcmc.calculators | INFO: None\n",
      "16:32:25 - mcmc.calculators | INFO: None\n",
      "16:32:25 - mcmc.calculators | INFO: None\n",
      "16:32:25 - mcmc.calculators | INFO: None\n",
      "16:32:25 - mcmc.calculators | INFO: None\n"
     ]
    },
    {
     "name": "stdout",
     "output_type": "stream",
     "text": [
      "Total wall time: 0:00:00\n",
      "Total wall time: 0:00:00\n",
      "Total wall time: 0:00:00\n",
      "Total wall time: 0:00:00\n",
      "Total wall time: 0:00:00\n",
      "Total wall time: 0:00:00\n",
      "Total wall time: 0:00:00\n",
      "Total wall time: 0:00:00\n",
      "Total wall time: 0:00:00\n",
      "Total wall time: 0:00:00\n",
      "Total wall time: 0:00:00\n"
     ]
    },
    {
     "name": "stderr",
     "output_type": "stream",
     "text": [
      "16:32:25 - mcmc.calculators | INFO: None\n",
      "16:32:25 - mcmc.calculators | INFO: None\n",
      "16:32:25 - mcmc.calculators | INFO: None\n",
      "16:32:25 - mcmc.calculators | INFO: None\n",
      "16:32:25 - mcmc.calculators | INFO: None\n",
      "16:32:25 - mcmc.calculators | INFO: None\n",
      "16:32:25 - mcmc.calculators | INFO: None\n",
      "16:32:25 - mcmc.calculators | INFO: None\n",
      "16:32:25 - mcmc.calculators | INFO: None\n",
      "16:32:25 - mcmc.calculators | INFO: None\n",
      "16:32:25 - mcmc.calculators | INFO: None\n"
     ]
    },
    {
     "name": "stdout",
     "output_type": "stream",
     "text": [
      "Total wall time: 0:00:00\n",
      "Total wall time: 0:00:00\n",
      "Total wall time: 0:00:00\n",
      "Total wall time: 0:00:00\n",
      "Total wall time: 0:00:00\n",
      "Total wall time: 0:00:00\n",
      "Total wall time: 0:00:00\n",
      "Total wall time: 0:00:00\n",
      "Total wall time: 0:00:00\n",
      "Total wall time: 0:00:00\n",
      "Total wall time: 0:00:00\n"
     ]
    },
    {
     "name": "stderr",
     "output_type": "stream",
     "text": [
      "16:32:25 - mcmc.calculators | INFO: None\n",
      "16:32:25 - mcmc.calculators | INFO: None\n",
      "16:32:25 - mcmc.calculators | INFO: None\n",
      "16:32:25 - mcmc.calculators | INFO: None\n",
      "16:32:25 - mcmc.calculators | INFO: None\n",
      "16:32:25 - mcmc.calculators | INFO: None\n",
      "16:32:25 - mcmc.calculators | INFO: None\n",
      "16:32:25 - mcmc.calculators | INFO: None\n",
      "16:32:25 - mcmc.calculators | INFO: None\n",
      "16:32:25 - mcmc.calculators | INFO: None\n",
      "16:32:25 - mcmc.calculators | INFO: None\n",
      "16:32:25 - mcmc.calculators | INFO: None\n",
      "16:32:25 - mcmc.calculators | INFO: None\n"
     ]
    },
    {
     "name": "stdout",
     "output_type": "stream",
     "text": [
      "Total wall time: 0:00:00\n",
      "Total wall time: 0:00:00\n",
      "Total wall time: 0:00:00\n",
      "Total wall time: 0:00:00\n",
      "Total wall time: 0:00:00\n",
      "Total wall time: 0:00:00\n",
      "Total wall time: 0:00:00\n",
      "Total wall time: 0:00:00\n",
      "Total wall time: 0:00:00\n",
      "Total wall time: 0:00:00\n",
      "Total wall time: 0:00:00\n",
      "Total wall time: 0:00:00\n"
     ]
    },
    {
     "name": "stderr",
     "output_type": "stream",
     "text": [
      "16:32:25 - mcmc.calculators | INFO: None\n",
      "16:32:25 - mcmc.calculators | INFO: None\n",
      "16:32:25 - mcmc.calculators | INFO: None\n",
      "16:32:25 - mcmc.calculators | INFO: None\n",
      "16:32:25 - mcmc.calculators | INFO: None\n",
      "16:32:25 - mcmc.calculators | INFO: None\n",
      "16:32:25 - mcmc.calculators | INFO: None\n",
      "16:32:25 - mcmc.calculators | INFO: None\n",
      "16:32:25 - mcmc.calculators | INFO: None\n"
     ]
    },
    {
     "name": "stdout",
     "output_type": "stream",
     "text": [
      "Total wall time: 0:00:00\n",
      "Total wall time: 0:00:00\n",
      "Total wall time: 0:00:00\n",
      "Total wall time: 0:00:00\n",
      "Total wall time: 0:00:00\n",
      "Total wall time: 0:00:00\n",
      "Total wall time: 0:00:00\n",
      "Total wall time: 0:00:00\n",
      "Total wall time: 0:00:00\n",
      "Total wall time: 0:00:00\n"
     ]
    },
    {
     "name": "stderr",
     "output_type": "stream",
     "text": [
      "16:32:25 - mcmc.calculators | INFO: None\n",
      "16:32:25 - mcmc.calculators | INFO: None\n",
      "16:32:25 - mcmc.calculators | INFO: None\n",
      "16:32:25 - mcmc.calculators | INFO: None\n",
      "16:32:25 - mcmc.calculators | INFO: None\n",
      "16:32:25 - mcmc.calculators | INFO: None\n",
      "16:32:25 - mcmc.calculators | INFO: None\n",
      "16:32:26 - mcmc.calculators | INFO: None\n",
      "16:32:26 - mcmc.calculators | INFO: None\n",
      "16:32:26 - mcmc.calculators | INFO: None\n",
      "16:32:26 - mcmc.calculators | INFO: None\n"
     ]
    },
    {
     "name": "stdout",
     "output_type": "stream",
     "text": [
      "Total wall time: 0:00:00\n",
      "Total wall time: 0:00:00\n",
      "Total wall time: 0:00:00\n",
      "Total wall time: 0:00:00\n",
      "Total wall time: 0:00:00\n",
      "Total wall time: 0:00:00\n",
      "Total wall time: 0:00:00\n",
      "Total wall time: 0:00:00\n",
      "Total wall time: 0:00:00\n",
      "Total wall time: 0:00:00\n",
      "Total wall time: 0:00:00\n"
     ]
    },
    {
     "name": "stderr",
     "output_type": "stream",
     "text": [
      "16:32:26 - mcmc.calculators | INFO: None\n",
      "16:32:26 - mcmc.calculators | INFO: None\n",
      "16:32:26 - mcmc.calculators | INFO: None\n",
      "16:32:26 - mcmc.calculators | INFO: None\n",
      "16:32:26 - mcmc.calculators | INFO: None\n",
      "16:32:26 - mcmc.calculators | INFO: None\n",
      "16:32:26 - mcmc.calculators | INFO: None\n",
      "16:32:26 - mcmc.calculators | INFO: None\n",
      "16:32:26 - mcmc.calculators | INFO: None\n",
      "16:32:26 - mcmc.calculators | INFO: None\n",
      "16:32:26 - mcmc.calculators | INFO: None\n"
     ]
    },
    {
     "name": "stdout",
     "output_type": "stream",
     "text": [
      "Total wall time: 0:00:00\n",
      "Total wall time: 0:00:00\n",
      "Total wall time: 0:00:00\n",
      "Total wall time: 0:00:00\n",
      "Total wall time: 0:00:00\n",
      "Total wall time: 0:00:00\n",
      "Total wall time: 0:00:00\n",
      "Total wall time: 0:00:00\n",
      "Total wall time: 0:00:00\n",
      "Total wall time: 0:00:00\n",
      "Total wall time: 0:00:00\n"
     ]
    },
    {
     "name": "stderr",
     "output_type": "stream",
     "text": [
      "16:32:26 - mcmc.calculators | INFO: None\n",
      "16:32:26 - mcmc.calculators | INFO: None\n",
      "16:32:26 - mcmc.calculators | INFO: None\n",
      "16:32:26 - mcmc.calculators | INFO: None\n",
      "16:32:26 - mcmc.calculators | INFO: None\n",
      "16:32:26 - mcmc.calculators | INFO: None\n",
      "16:32:26 - mcmc.calculators | INFO: None\n",
      "16:32:26 - mcmc.calculators | INFO: None\n",
      "16:32:26 - mcmc.calculators | INFO: None\n",
      "16:32:26 - mcmc.calculators | INFO: None\n",
      "16:32:26 - mcmc.calculators | INFO: None\n"
     ]
    },
    {
     "name": "stdout",
     "output_type": "stream",
     "text": [
      "Total wall time: 0:00:00\n",
      "Total wall time: 0:00:00\n",
      "Total wall time: 0:00:00\n",
      "Total wall time: 0:00:00\n",
      "Total wall time: 0:00:00\n",
      "Total wall time: 0:00:00\n",
      "Total wall time: 0:00:00\n",
      "Total wall time: 0:00:00\n",
      "Total wall time: 0:00:00\n",
      "Total wall time: 0:00:00\n",
      "Total wall time: 0:00:00\n"
     ]
    },
    {
     "name": "stderr",
     "output_type": "stream",
     "text": [
      "16:32:26 - mcmc.calculators | INFO: None\n",
      "16:32:26 - mcmc.calculators | INFO: None\n",
      "16:32:26 - mcmc.calculators | INFO: None\n",
      "16:32:26 - mcmc.calculators | INFO: None\n",
      "16:32:26 - mcmc.calculators | INFO: None\n",
      "16:32:26 - mcmc.calculators | INFO: None\n",
      "16:32:26 - mcmc.calculators | INFO: None\n",
      "16:32:26 - mcmc.calculators | INFO: None\n",
      "16:32:26 - mcmc.calculators | INFO: None\n",
      "16:32:26 - mcmc.calculators | INFO: None\n"
     ]
    },
    {
     "name": "stdout",
     "output_type": "stream",
     "text": [
      "Total wall time: 0:00:00\n",
      "Total wall time: 0:00:00\n",
      "Total wall time: 0:00:00\n",
      "Total wall time: 0:00:00\n",
      "Total wall time: 0:00:00\n",
      "Total wall time: 0:00:00\n",
      "Total wall time: 0:00:00\n",
      "Total wall time: 0:00:00\n",
      "Total wall time: 0:00:00\n",
      "Total wall time: 0:00:00\n"
     ]
    },
    {
     "name": "stderr",
     "output_type": "stream",
     "text": [
      "16:32:26 - mcmc.calculators | INFO: None\n",
      "16:32:26 - mcmc.calculators | INFO: None\n",
      "16:32:26 - mcmc.calculators | INFO: None\n",
      "16:32:26 - mcmc.calculators | INFO: None\n",
      "16:32:26 - mcmc.calculators | INFO: None\n",
      "16:32:26 - mcmc.calculators | INFO: None\n",
      "16:32:26 - mcmc.calculators | INFO: None\n",
      "16:32:26 - mcmc.calculators | INFO: None\n",
      "16:32:26 - mcmc.calculators | INFO: None\n",
      "16:32:26 - mcmc.calculators | INFO: None\n"
     ]
    },
    {
     "name": "stdout",
     "output_type": "stream",
     "text": [
      "Total wall time: 0:00:00\n",
      "Total wall time: 0:00:00\n",
      "Total wall time: 0:00:00\n",
      "Total wall time: 0:00:00\n",
      "Total wall time: 0:00:00\n",
      "Total wall time: 0:00:00\n",
      "Total wall time: 0:00:00\n",
      "Total wall time: 0:00:00\n",
      "Total wall time: 0:00:00\n",
      "Total wall time: 0:00:00\n"
     ]
    },
    {
     "name": "stderr",
     "output_type": "stream",
     "text": [
      "16:32:26 - mcmc.calculators | INFO: None\n",
      "16:32:26 - mcmc.calculators | INFO: None\n",
      "16:32:26 - mcmc.calculators | INFO: None\n",
      "16:32:26 - mcmc.calculators | INFO: None\n",
      "16:32:26 - mcmc.calculators | INFO: None\n",
      "16:32:27 - mcmc.calculators | INFO: None\n",
      "16:32:27 - mcmc.calculators | INFO: None\n",
      "16:32:27 - mcmc.calculators | INFO: None\n",
      "16:32:27 - mcmc.calculators | INFO: None\n",
      "16:32:27 - mcmc.calculators | INFO: None\n",
      "16:32:27 - mcmc.calculators | INFO: None\n"
     ]
    },
    {
     "name": "stdout",
     "output_type": "stream",
     "text": [
      "Total wall time: 0:00:00\n",
      "Total wall time: 0:00:00\n",
      "Total wall time: 0:00:00\n",
      "Total wall time: 0:00:00\n",
      "Total wall time: 0:00:00\n",
      "Total wall time: 0:00:00\n",
      "Total wall time: 0:00:00\n",
      "Total wall time: 0:00:00\n",
      "Total wall time: 0:00:00\n",
      "Total wall time: 0:00:00\n",
      "Total wall time: 0:00:00\n"
     ]
    },
    {
     "name": "stderr",
     "output_type": "stream",
     "text": [
      "16:32:27 - mcmc.calculators | INFO: None\n",
      "16:32:27 - mcmc.calculators | INFO: None\n",
      "16:32:27 - mcmc.calculators | INFO: None\n",
      "16:32:27 - mcmc.calculators | INFO: None\n",
      "16:32:27 - mcmc.calculators | INFO: None\n",
      "16:32:27 - mcmc.calculators | INFO: None\n",
      "16:32:27 - mcmc.calculators | INFO: None\n",
      "16:32:27 - mcmc.calculators | INFO: None\n",
      "16:32:27 - mcmc.calculators | INFO: None\n",
      "16:32:27 - mcmc.calculators | INFO: None\n"
     ]
    },
    {
     "name": "stdout",
     "output_type": "stream",
     "text": [
      "Total wall time: 0:00:00\n",
      "Total wall time: 0:00:00\n",
      "Total wall time: 0:00:00\n",
      "Total wall time: 0:00:00\n",
      "Total wall time: 0:00:00\n",
      "Total wall time: 0:00:00\n",
      "Total wall time: 0:00:00\n",
      "Total wall time: 0:00:00\n",
      "Total wall time: 0:00:00\n",
      "Total wall time: 0:00:00\n"
     ]
    },
    {
     "name": "stderr",
     "output_type": "stream",
     "text": [
      "16:32:27 - mcmc.calculators | INFO: None\n",
      "16:32:27 - mcmc.calculators | INFO: None\n",
      "16:32:27 - mcmc.calculators | INFO: None\n",
      "16:32:27 - mcmc.calculators | INFO: None\n",
      "16:32:27 - mcmc.calculators | INFO: None\n",
      "16:32:27 - mcmc.calculators | INFO: None\n",
      "16:32:27 - mcmc.calculators | INFO: None\n",
      "16:32:27 - mcmc.calculators | INFO: None\n",
      "16:32:27 - mcmc.calculators | INFO: None\n",
      "16:32:27 - mcmc.calculators | INFO: None\n",
      "16:32:27 - mcmc.calculators | INFO: None\n",
      "16:32:27 - mcmc.calculators | INFO: None\n"
     ]
    },
    {
     "name": "stdout",
     "output_type": "stream",
     "text": [
      "Total wall time: 0:00:00\n",
      "Total wall time: 0:00:00\n",
      "Total wall time: 0:00:00\n",
      "Total wall time: 0:00:00\n",
      "Total wall time: 0:00:00\n",
      "Total wall time: 0:00:00\n",
      "Total wall time: 0:00:00\n",
      "Total wall time: 0:00:00\n",
      "Total wall time: 0:00:00\n",
      "Total wall time: 0:00:00\n",
      "Total wall time: 0:00:00\n",
      "Total wall time: 0:00:00\n"
     ]
    },
    {
     "name": "stderr",
     "output_type": "stream",
     "text": [
      "16:32:27 - mcmc.calculators | INFO: None\n",
      "16:32:27 - mcmc.calculators | INFO: None\n",
      "16:32:27 - mcmc.calculators | INFO: None\n",
      "16:32:27 - mcmc.calculators | INFO: None\n",
      "16:32:27 - mcmc.calculators | INFO: None\n",
      "16:32:27 - mcmc.calculators | INFO: None\n",
      "16:32:27 - mcmc.calculators | INFO: None\n",
      "16:32:27 - mcmc.calculators | INFO: None\n",
      "16:32:27 - mcmc.calculators | INFO: None\n",
      "16:32:27 - mcmc.calculators | INFO: None\n",
      "16:32:27 - mcmc.calculators | INFO: None\n",
      "16:32:27 - mcmc.calculators | INFO: None\n"
     ]
    },
    {
     "name": "stdout",
     "output_type": "stream",
     "text": [
      "Total wall time: 0:00:00\n",
      "Total wall time: 0:00:00\n",
      "Total wall time: 0:00:00\n",
      "Total wall time: 0:00:00\n",
      "Total wall time: 0:00:00\n",
      "Total wall time: 0:00:00\n",
      "Total wall time: 0:00:00\n",
      "Total wall time: 0:00:00\n",
      "Total wall time: 0:00:00\n",
      "Total wall time: 0:00:00\n",
      "Total wall time: 0:00:00\n",
      "Total wall time: 0:00:00\n"
     ]
    },
    {
     "name": "stderr",
     "output_type": "stream",
     "text": [
      "16:32:27 - mcmc.calculators | INFO: None\n",
      "16:32:27 - mcmc.calculators | INFO: None\n",
      "16:32:27 - mcmc.calculators | INFO: None\n",
      "16:32:27 - mcmc.calculators | INFO: None\n",
      "16:32:27 - mcmc.calculators | INFO: None\n",
      "16:32:27 - mcmc.calculators | INFO: None\n",
      "16:32:27 - mcmc.calculators | INFO: None\n",
      "16:32:27 - mcmc.calculators | INFO: None\n",
      "16:32:27 - mcmc.calculators | INFO: None\n",
      "16:32:27 - mcmc.calculators | INFO: None\n",
      "16:32:27 - mcmc.calculators | INFO: None\n",
      "16:32:27 - mcmc.calculators | INFO: None\n"
     ]
    },
    {
     "name": "stdout",
     "output_type": "stream",
     "text": [
      "Total wall time: 0:00:00\n",
      "Total wall time: 0:00:00\n",
      "Total wall time: 0:00:00\n",
      "Total wall time: 0:00:00\n",
      "Total wall time: 0:00:00\n",
      "Total wall time: 0:00:00\n",
      "Total wall time: 0:00:00\n",
      "Total wall time: 0:00:00\n",
      "Total wall time: 0:00:00\n",
      "Total wall time: 0:00:00\n",
      "Total wall time: 0:00:00\n",
      "Total wall time: 0:00:00\n"
     ]
    },
    {
     "name": "stderr",
     "output_type": "stream",
     "text": [
      "16:32:28 - mcmc.calculators | INFO: None\n",
      "16:32:28 - mcmc.calculators | INFO: None\n",
      "16:32:28 - mcmc.calculators | INFO: None\n",
      "16:32:28 - mcmc.calculators | INFO: None\n",
      "16:32:28 - mcmc.calculators | INFO: None\n",
      "16:32:28 - mcmc.calculators | INFO: None\n",
      "16:32:28 - mcmc.calculators | INFO: None\n",
      "16:32:28 - mcmc.calculators | INFO: None\n",
      "16:32:28 - mcmc.calculators | INFO: None\n",
      "16:32:28 - mcmc.calculators | INFO: None\n",
      "16:32:28 - mcmc.calculators | INFO: None\n",
      "16:32:28 - mcmc.calculators | INFO: None\n"
     ]
    },
    {
     "name": "stdout",
     "output_type": "stream",
     "text": [
      "Total wall time: 0:00:00\n",
      "Total wall time: 0:00:00\n",
      "Total wall time: 0:00:00\n",
      "Total wall time: 0:00:00\n",
      "Total wall time: 0:00:00\n",
      "Total wall time: 0:00:00\n",
      "Total wall time: 0:00:00\n",
      "Total wall time: 0:00:00\n",
      "Total wall time: 0:00:00\n",
      "Total wall time: 0:00:00\n",
      "Total wall time: 0:00:00\n",
      "Total wall time: 0:00:00\n"
     ]
    },
    {
     "name": "stderr",
     "output_type": "stream",
     "text": [
      "16:32:28 - mcmc.calculators | INFO: None\n",
      "16:32:28 - mcmc.calculators | INFO: None\n",
      "16:32:28 - mcmc.calculators | INFO: None\n",
      "16:32:28 - mcmc.calculators | INFO: None\n",
      "16:32:28 - mcmc.calculators | INFO: None\n",
      "16:32:28 - mcmc.calculators | INFO: None\n",
      "16:32:28 - mcmc.calculators | INFO: None\n",
      "16:32:28 - mcmc.calculators | INFO: None\n",
      "16:32:28 - mcmc.mcmc | INFO: At iter 520\n",
      "16:32:28 - mcmc.calculators | INFO: None\n",
      "16:32:28 - mcmc.calculators | INFO: None\n",
      "16:32:28 - mcmc.system | INFO: Optimized structure has Energy = -177.203\n",
      "16:32:28 - mcmc.mcmc | INFO: In sweep 6 out of 10\n",
      "16:32:28 - mcmc.calculators | INFO: None\n",
      "16:32:28 - mcmc.calculators | INFO: None\n"
     ]
    },
    {
     "name": "stdout",
     "output_type": "stream",
     "text": [
      "Total wall time: 0:00:00\n",
      "Total wall time: 0:00:00\n",
      "Total wall time: 0:00:00\n",
      "Total wall time: 0:00:00\n",
      "Total wall time: 0:00:00\n",
      "Total wall time: 0:00:00\n",
      "Total wall time: 0:00:00\n",
      "Total wall time: 0:00:00\n",
      "Total wall time: 0:00:00\n",
      "Total wall time: 0:00:00\n",
      "Total wall time: 0:00:00\n",
      "Total wall time: 0:00:00\n"
     ]
    },
    {
     "name": "stderr",
     "output_type": "stream",
     "text": [
      "16:32:28 - mcmc.calculators | INFO: None\n",
      "16:32:28 - mcmc.calculators | INFO: None\n",
      "16:32:28 - mcmc.calculators | INFO: None\n",
      "16:32:28 - mcmc.calculators | INFO: None\n",
      "16:32:28 - mcmc.calculators | INFO: None\n",
      "16:32:28 - mcmc.calculators | INFO: None\n",
      "16:32:28 - mcmc.calculators | INFO: None\n",
      "16:32:28 - mcmc.calculators | INFO: None\n",
      "16:32:28 - mcmc.calculators | INFO: None\n",
      "16:32:28 - mcmc.calculators | INFO: None\n",
      "16:32:28 - mcmc.calculators | INFO: None\n",
      "16:32:28 - mcmc.calculators | INFO: None\n"
     ]
    },
    {
     "name": "stdout",
     "output_type": "stream",
     "text": [
      "Total wall time: 0:00:00\n",
      "Total wall time: 0:00:00\n",
      "Total wall time: 0:00:00\n",
      "Total wall time: 0:00:00\n",
      "Total wall time: 0:00:00\n",
      "Total wall time: 0:00:00\n",
      "Total wall time: 0:00:00\n",
      "Total wall time: 0:00:00\n",
      "Total wall time: 0:00:00\n",
      "Total wall time: 0:00:00\n",
      "Total wall time: 0:00:00\n",
      "Total wall time: 0:00:00\n"
     ]
    },
    {
     "name": "stderr",
     "output_type": "stream",
     "text": [
      "16:32:28 - mcmc.calculators | INFO: None\n",
      "16:32:28 - mcmc.calculators | INFO: None\n",
      "16:32:28 - mcmc.calculators | INFO: None\n",
      "16:32:28 - mcmc.calculators | INFO: None\n",
      "16:32:28 - mcmc.calculators | INFO: None\n",
      "16:32:28 - mcmc.calculators | INFO: None\n",
      "16:32:28 - mcmc.calculators | INFO: None\n",
      "16:32:28 - mcmc.calculators | INFO: None\n",
      "16:32:28 - mcmc.calculators | INFO: None\n",
      "16:32:28 - mcmc.calculators | INFO: None\n",
      "16:32:28 - mcmc.calculators | INFO: None\n",
      "16:32:28 - mcmc.calculators | INFO: None\n"
     ]
    },
    {
     "name": "stdout",
     "output_type": "stream",
     "text": [
      "Total wall time: 0:00:00\n",
      "Total wall time: 0:00:00\n",
      "Total wall time: 0:00:00\n",
      "Total wall time: 0:00:00\n",
      "Total wall time: 0:00:00\n",
      "Total wall time: 0:00:00\n",
      "Total wall time: 0:00:00\n",
      "Total wall time: 0:00:00\n",
      "Total wall time: 0:00:00\n",
      "Total wall time: 0:00:00\n",
      "Total wall time: 0:00:00\n",
      "Total wall time: 0:00:00\n"
     ]
    },
    {
     "name": "stderr",
     "output_type": "stream",
     "text": [
      "16:32:28 - mcmc.calculators | INFO: None\n",
      "16:32:28 - mcmc.calculators | INFO: None\n",
      "16:32:28 - mcmc.calculators | INFO: None\n",
      "16:32:28 - mcmc.calculators | INFO: None\n",
      "16:32:28 - mcmc.calculators | INFO: None\n",
      "16:32:28 - mcmc.calculators | INFO: None\n",
      "16:32:28 - mcmc.calculators | INFO: None\n",
      "16:32:28 - mcmc.calculators | INFO: None\n",
      "16:32:29 - mcmc.calculators | INFO: None\n",
      "16:32:29 - mcmc.calculators | INFO: None\n",
      "16:32:29 - mcmc.calculators | INFO: None\n",
      "16:32:29 - mcmc.calculators | INFO: None\n",
      "16:32:29 - mcmc.calculators | INFO: None\n",
      "16:32:29 - mcmc.calculators | INFO: None\n"
     ]
    },
    {
     "name": "stdout",
     "output_type": "stream",
     "text": [
      "Total wall time: 0:00:00\n",
      "Total wall time: 0:00:00\n",
      "Total wall time: 0:00:00\n",
      "Total wall time: 0:00:00\n",
      "Total wall time: 0:00:00\n",
      "Total wall time: 0:00:00\n",
      "Total wall time: 0:00:00\n",
      "Total wall time: 0:00:00\n",
      "Total wall time: 0:00:00\n",
      "Total wall time: 0:00:00\n",
      "Total wall time: 0:00:00\n",
      "Total wall time: 0:00:00\n",
      "Total wall time: 0:00:00\n",
      "Total wall time: 0:00:00\n"
     ]
    },
    {
     "name": "stderr",
     "output_type": "stream",
     "text": [
      "16:32:29 - mcmc.calculators | INFO: None\n",
      "16:32:29 - mcmc.calculators | INFO: None\n",
      "16:32:29 - mcmc.calculators | INFO: None\n",
      "16:32:29 - mcmc.calculators | INFO: None\n",
      "16:32:29 - mcmc.calculators | INFO: None\n",
      "16:32:29 - mcmc.calculators | INFO: None\n",
      "16:32:29 - mcmc.calculators | INFO: None\n",
      "16:32:29 - mcmc.calculators | INFO: None\n",
      "16:32:29 - mcmc.calculators | INFO: None\n",
      "16:32:29 - mcmc.calculators | INFO: None\n",
      "16:32:29 - mcmc.calculators | INFO: None\n",
      "16:32:29 - mcmc.calculators | INFO: None\n"
     ]
    },
    {
     "name": "stdout",
     "output_type": "stream",
     "text": [
      "Total wall time: 0:00:00\n",
      "Total wall time: 0:00:00\n",
      "Total wall time: 0:00:00\n",
      "Total wall time: 0:00:00\n",
      "Total wall time: 0:00:00\n",
      "Total wall time: 0:00:00\n",
      "Total wall time: 0:00:00\n",
      "Total wall time: 0:00:00\n",
      "Total wall time: 0:00:00\n",
      "Total wall time: 0:00:00\n",
      "Total wall time: 0:00:00\n",
      "Total wall time: 0:00:00\n"
     ]
    },
    {
     "name": "stderr",
     "output_type": "stream",
     "text": [
      "16:32:29 - mcmc.calculators | INFO: None\n",
      "16:32:29 - mcmc.calculators | INFO: None\n",
      "16:32:29 - mcmc.calculators | INFO: None\n",
      "16:32:29 - mcmc.calculators | INFO: None\n",
      "16:32:29 - mcmc.calculators | INFO: None\n",
      "16:32:29 - mcmc.calculators | INFO: None\n",
      "16:32:29 - mcmc.calculators | INFO: None\n",
      "16:32:29 - mcmc.calculators | INFO: None\n",
      "16:32:29 - mcmc.calculators | INFO: None\n",
      "16:32:29 - mcmc.calculators | INFO: None\n",
      "16:32:29 - mcmc.calculators | INFO: None\n",
      "16:32:29 - mcmc.calculators | INFO: None\n"
     ]
    },
    {
     "name": "stdout",
     "output_type": "stream",
     "text": [
      "Total wall time: 0:00:00\n",
      "Total wall time: 0:00:00\n",
      "Total wall time: 0:00:00\n",
      "Total wall time: 0:00:00\n",
      "Total wall time: 0:00:00\n",
      "Total wall time: 0:00:00\n",
      "Total wall time: 0:00:00\n",
      "Total wall time: 0:00:00\n",
      "Total wall time: 0:00:00\n",
      "Total wall time: 0:00:00\n",
      "Total wall time: 0:00:00\n",
      "Total wall time: 0:00:00\n"
     ]
    },
    {
     "name": "stderr",
     "output_type": "stream",
     "text": [
      "16:32:29 - mcmc.calculators | INFO: None\n",
      "16:32:29 - mcmc.calculators | INFO: None\n",
      "16:32:29 - mcmc.calculators | INFO: None\n",
      "16:32:29 - mcmc.calculators | INFO: None\n",
      "16:32:29 - mcmc.calculators | INFO: None\n",
      "16:32:29 - mcmc.calculators | INFO: None\n",
      "16:32:29 - mcmc.calculators | INFO: None\n",
      "16:32:29 - mcmc.calculators | INFO: None\n",
      "16:32:29 - mcmc.calculators | INFO: None\n",
      "16:32:29 - mcmc.calculators | INFO: None\n",
      "16:32:29 - mcmc.calculators | INFO: None\n"
     ]
    },
    {
     "name": "stdout",
     "output_type": "stream",
     "text": [
      "Total wall time: 0:00:00\n",
      "Total wall time: 0:00:00\n",
      "Total wall time: 0:00:00\n",
      "Total wall time: 0:00:00\n",
      "Total wall time: 0:00:00\n",
      "Total wall time: 0:00:00\n",
      "Total wall time: 0:00:00\n",
      "Total wall time: 0:00:00\n",
      "Total wall time: 0:00:00\n",
      "Total wall time: 0:00:00\n"
     ]
    },
    {
     "name": "stderr",
     "output_type": "stream",
     "text": [
      "16:32:29 - mcmc.calculators | INFO: None\n",
      "16:32:29 - mcmc.calculators | INFO: None\n",
      "16:32:29 - mcmc.calculators | INFO: None\n",
      "16:32:29 - mcmc.calculators | INFO: None\n",
      "16:32:29 - mcmc.calculators | INFO: None\n",
      "16:32:29 - mcmc.calculators | INFO: None\n",
      "16:32:29 - mcmc.calculators | INFO: None\n",
      "16:32:29 - mcmc.calculators | INFO: None\n",
      "16:32:29 - mcmc.calculators | INFO: None\n",
      "16:32:29 - mcmc.calculators | INFO: None\n",
      "16:32:29 - mcmc.calculators | INFO: None\n"
     ]
    },
    {
     "name": "stdout",
     "output_type": "stream",
     "text": [
      "Total wall time: 0:00:00\n",
      "Total wall time: 0:00:00\n",
      "Total wall time: 0:00:00\n",
      "Total wall time: 0:00:00\n",
      "Total wall time: 0:00:00\n",
      "Total wall time: 0:00:00\n",
      "Total wall time: 0:00:00\n",
      "Total wall time: 0:00:00\n",
      "Total wall time: 0:00:00\n",
      "Total wall time: 0:00:00\n",
      "Total wall time: 0:00:00\n",
      "Total wall time: 0:00:00\n"
     ]
    },
    {
     "name": "stderr",
     "output_type": "stream",
     "text": [
      "16:32:29 - mcmc.calculators | INFO: None\n",
      "16:32:29 - mcmc.calculators | INFO: None\n",
      "16:32:30 - mcmc.calculators | INFO: None\n",
      "16:32:30 - mcmc.calculators | INFO: None\n",
      "16:32:30 - mcmc.calculators | INFO: None\n",
      "16:32:30 - mcmc.calculators | INFO: None\n",
      "16:32:30 - mcmc.calculators | INFO: None\n",
      "16:32:30 - mcmc.calculators | INFO: None\n",
      "16:32:30 - mcmc.calculators | INFO: None\n",
      "16:32:30 - mcmc.calculators | INFO: None\n",
      "16:32:30 - mcmc.calculators | INFO: None\n"
     ]
    },
    {
     "name": "stdout",
     "output_type": "stream",
     "text": [
      "Total wall time: 0:00:00\n",
      "Total wall time: 0:00:00\n",
      "Total wall time: 0:00:00\n",
      "Total wall time: 0:00:00\n",
      "Total wall time: 0:00:00\n",
      "Total wall time: 0:00:00\n",
      "Total wall time: 0:00:00\n",
      "Total wall time: 0:00:00\n",
      "Total wall time: 0:00:00\n",
      "Total wall time: 0:00:00\n"
     ]
    },
    {
     "name": "stderr",
     "output_type": "stream",
     "text": [
      "16:32:30 - mcmc.calculators | INFO: None\n",
      "16:32:30 - mcmc.calculators | INFO: None\n",
      "16:32:30 - mcmc.calculators | INFO: None\n",
      "16:32:30 - mcmc.calculators | INFO: None\n",
      "16:32:30 - mcmc.calculators | INFO: None\n",
      "16:32:30 - mcmc.calculators | INFO: None\n",
      "16:32:30 - mcmc.calculators | INFO: None\n",
      "16:32:30 - mcmc.calculators | INFO: None\n",
      "16:32:30 - mcmc.calculators | INFO: None\n"
     ]
    },
    {
     "name": "stdout",
     "output_type": "stream",
     "text": [
      "Total wall time: 0:00:00\n",
      "Total wall time: 0:00:00\n",
      "Total wall time: 0:00:00\n",
      "Total wall time: 0:00:00\n",
      "Total wall time: 0:00:00\n",
      "Total wall time: 0:00:00\n",
      "Total wall time: 0:00:00\n",
      "Total wall time: 0:00:00\n",
      "Total wall time: 0:00:00\n",
      "Total wall time: 0:00:00\n"
     ]
    },
    {
     "name": "stderr",
     "output_type": "stream",
     "text": [
      "16:32:30 - mcmc.calculators | INFO: None\n",
      "16:32:30 - mcmc.calculators | INFO: None\n",
      "16:32:30 - mcmc.calculators | INFO: None\n",
      "16:32:30 - mcmc.calculators | INFO: None\n",
      "16:32:30 - mcmc.calculators | INFO: None\n",
      "16:32:30 - mcmc.calculators | INFO: None\n",
      "16:32:30 - mcmc.calculators | INFO: None\n",
      "16:32:30 - mcmc.calculators | INFO: None\n",
      "16:32:30 - mcmc.calculators | INFO: None\n",
      "16:32:30 - mcmc.calculators | INFO: None\n",
      "16:32:30 - mcmc.calculators | INFO: None\n",
      "16:32:30 - mcmc.calculators | INFO: None\n"
     ]
    },
    {
     "name": "stdout",
     "output_type": "stream",
     "text": [
      "Total wall time: 0:00:00\n",
      "Total wall time: 0:00:00\n",
      "Total wall time: 0:00:00\n",
      "Total wall time: 0:00:00\n",
      "Total wall time: 0:00:00\n",
      "Total wall time: 0:00:00\n",
      "Total wall time: 0:00:00\n",
      "Total wall time: 0:00:00\n",
      "Total wall time: 0:00:00\n",
      "Total wall time: 0:00:00\n",
      "Total wall time: 0:00:00\n",
      "Total wall time: 0:00:00\n"
     ]
    },
    {
     "name": "stderr",
     "output_type": "stream",
     "text": [
      "16:32:30 - mcmc.calculators | INFO: None\n",
      "16:32:30 - mcmc.calculators | INFO: None\n",
      "16:32:30 - mcmc.calculators | INFO: None\n",
      "16:32:30 - mcmc.calculators | INFO: None\n",
      "16:32:30 - mcmc.calculators | INFO: None\n",
      "16:32:30 - mcmc.calculators | INFO: None\n",
      "16:32:30 - mcmc.calculators | INFO: None\n",
      "16:32:30 - mcmc.calculators | INFO: None\n",
      "16:32:30 - mcmc.calculators | INFO: None\n",
      "16:32:30 - mcmc.calculators | INFO: None\n",
      "16:32:30 - mcmc.calculators | INFO: None\n",
      "16:32:30 - mcmc.calculators | INFO: None\n"
     ]
    },
    {
     "name": "stdout",
     "output_type": "stream",
     "text": [
      "Total wall time: 0:00:00\n",
      "Total wall time: 0:00:00\n",
      "Total wall time: 0:00:00\n",
      "Total wall time: 0:00:00\n",
      "Total wall time: 0:00:00\n",
      "Total wall time: 0:00:00\n",
      "Total wall time: 0:00:00\n",
      "Total wall time: 0:00:00\n",
      "Total wall time: 0:00:00\n",
      "Total wall time: 0:00:00\n",
      "Total wall time: 0:00:00\n",
      "Total wall time: 0:00:00\n"
     ]
    },
    {
     "name": "stderr",
     "output_type": "stream",
     "text": [
      "16:32:30 - mcmc.calculators | INFO: None\n",
      "16:32:30 - mcmc.calculators | INFO: None\n",
      "16:32:30 - mcmc.calculators | INFO: None\n",
      "16:32:30 - mcmc.calculators | INFO: None\n",
      "16:32:30 - mcmc.calculators | INFO: None\n",
      "16:32:30 - mcmc.calculators | INFO: None\n",
      "16:32:30 - mcmc.calculators | INFO: None\n",
      "16:32:30 - mcmc.calculators | INFO: None\n",
      "16:32:30 - mcmc.calculators | INFO: None\n",
      "16:32:30 - mcmc.calculators | INFO: None\n",
      "16:32:30 - mcmc.calculators | INFO: None\n",
      "16:32:30 - mcmc.calculators | INFO: None\n",
      "16:32:30 - mcmc.calculators | INFO: None\n",
      "16:32:30 - mcmc.calculators | INFO: None\n"
     ]
    },
    {
     "name": "stdout",
     "output_type": "stream",
     "text": [
      "Total wall time: 0:00:00\n",
      "Total wall time: 0:00:00\n",
      "Total wall time: 0:00:00\n",
      "Total wall time: 0:00:00\n",
      "Total wall time: 0:00:00\n",
      "Total wall time: 0:00:00\n",
      "Total wall time: 0:00:00\n",
      "Total wall time: 0:00:00\n",
      "Total wall time: 0:00:00\n",
      "Total wall time: 0:00:00\n",
      "Total wall time: 0:00:00\n",
      "Total wall time: 0:00:00\n",
      "Total wall time: 0:00:00\n",
      "Total wall time: 0:00:00\n"
     ]
    },
    {
     "name": "stderr",
     "output_type": "stream",
     "text": [
      "16:32:31 - mcmc.calculators | INFO: None\n",
      "16:32:31 - mcmc.calculators | INFO: None\n",
      "16:32:31 - mcmc.calculators | INFO: None\n",
      "16:32:31 - mcmc.calculators | INFO: None\n",
      "16:32:31 - mcmc.calculators | INFO: None\n",
      "16:32:31 - mcmc.calculators | INFO: None\n",
      "16:32:31 - mcmc.calculators | INFO: None\n",
      "16:32:31 - mcmc.calculators | INFO: None\n",
      "16:32:31 - mcmc.calculators | INFO: None\n",
      "16:32:31 - mcmc.calculators | INFO: None\n",
      "16:32:31 - mcmc.calculators | INFO: None\n",
      "16:32:31 - mcmc.calculators | INFO: None\n"
     ]
    },
    {
     "name": "stdout",
     "output_type": "stream",
     "text": [
      "Total wall time: 0:00:00\n",
      "Total wall time: 0:00:00\n",
      "Total wall time: 0:00:00\n",
      "Total wall time: 0:00:00\n",
      "Total wall time: 0:00:00\n",
      "Total wall time: 0:00:00\n",
      "Total wall time: 0:00:00\n",
      "Total wall time: 0:00:00\n",
      "Total wall time: 0:00:00\n",
      "Total wall time: 0:00:00\n",
      "Total wall time: 0:00:00\n",
      "Total wall time: 0:00:00\n"
     ]
    },
    {
     "name": "stderr",
     "output_type": "stream",
     "text": [
      "16:32:31 - mcmc.calculators | INFO: None\n",
      "16:32:31 - mcmc.calculators | INFO: None\n",
      "16:32:31 - mcmc.calculators | INFO: None\n",
      "16:32:31 - mcmc.calculators | INFO: None\n",
      "16:32:31 - mcmc.calculators | INFO: None\n",
      "16:32:31 - mcmc.calculators | INFO: None\n",
      "16:32:31 - mcmc.calculators | INFO: None\n",
      "16:32:31 - mcmc.calculators | INFO: None\n",
      "16:32:31 - mcmc.calculators | INFO: None\n",
      "16:32:31 - mcmc.calculators | INFO: None\n",
      "16:32:31 - mcmc.calculators | INFO: None\n",
      "16:32:31 - mcmc.calculators | INFO: None\n",
      "16:32:31 - mcmc.calculators | INFO: None\n",
      "16:32:31 - mcmc.calculators | INFO: None\n"
     ]
    },
    {
     "name": "stdout",
     "output_type": "stream",
     "text": [
      "Total wall time: 0:00:00\n",
      "Total wall time: 0:00:00\n",
      "Total wall time: 0:00:00\n",
      "Total wall time: 0:00:00\n",
      "Total wall time: 0:00:00\n",
      "Total wall time: 0:00:00\n",
      "Total wall time: 0:00:00\n",
      "Total wall time: 0:00:00\n",
      "Total wall time: 0:00:00\n",
      "Total wall time: 0:00:00\n",
      "Total wall time: 0:00:00\n",
      "Total wall time: 0:00:00\n",
      "Total wall time: 0:00:00\n",
      "Total wall time: 0:00:00\n"
     ]
    },
    {
     "name": "stderr",
     "output_type": "stream",
     "text": [
      "16:32:31 - mcmc.calculators | INFO: None\n",
      "16:32:31 - mcmc.calculators | INFO: None\n",
      "16:32:31 - mcmc.calculators | INFO: None\n",
      "16:32:31 - mcmc.calculators | INFO: None\n",
      "16:32:31 - mcmc.calculators | INFO: None\n",
      "16:32:31 - mcmc.calculators | INFO: None\n",
      "16:32:31 - mcmc.calculators | INFO: None\n",
      "16:32:31 - mcmc.calculators | INFO: None\n",
      "16:32:31 - mcmc.calculators | INFO: None\n",
      "16:32:31 - mcmc.calculators | INFO: None\n",
      "16:32:31 - mcmc.calculators | INFO: None\n",
      "16:32:31 - mcmc.calculators | INFO: None\n"
     ]
    },
    {
     "name": "stdout",
     "output_type": "stream",
     "text": [
      "Total wall time: 0:00:00\n",
      "Total wall time: 0:00:00\n",
      "Total wall time: 0:00:00\n",
      "Total wall time: 0:00:00\n",
      "Total wall time: 0:00:00\n",
      "Total wall time: 0:00:00\n",
      "Total wall time: 0:00:00\n",
      "Total wall time: 0:00:00\n",
      "Total wall time: 0:00:00\n",
      "Total wall time: 0:00:00\n",
      "Total wall time: 0:00:00\n",
      "Total wall time: 0:00:00\n"
     ]
    },
    {
     "name": "stderr",
     "output_type": "stream",
     "text": [
      "16:32:31 - mcmc.calculators | INFO: None\n",
      "16:32:31 - mcmc.calculators | INFO: None\n",
      "16:32:31 - mcmc.calculators | INFO: None\n",
      "16:32:31 - mcmc.calculators | INFO: None\n",
      "16:32:31 - mcmc.calculators | INFO: None\n",
      "16:32:31 - mcmc.calculators | INFO: None\n",
      "16:32:31 - mcmc.calculators | INFO: None\n",
      "16:32:31 - mcmc.calculators | INFO: None\n",
      "16:32:31 - mcmc.calculators | INFO: None\n",
      "16:32:31 - mcmc.calculators | INFO: None\n",
      "16:32:31 - mcmc.calculators | INFO: None\n",
      "16:32:31 - mcmc.calculators | INFO: None\n"
     ]
    },
    {
     "name": "stdout",
     "output_type": "stream",
     "text": [
      "Total wall time: 0:00:00\n",
      "Total wall time: 0:00:00\n",
      "Total wall time: 0:00:00\n",
      "Total wall time: 0:00:00\n",
      "Total wall time: 0:00:00\n",
      "Total wall time: 0:00:00\n",
      "Total wall time: 0:00:00\n",
      "Total wall time: 0:00:00\n",
      "Total wall time: 0:00:00\n",
      "Total wall time: 0:00:00\n",
      "Total wall time: 0:00:00\n",
      "Total wall time: 0:00:00\n"
     ]
    },
    {
     "name": "stderr",
     "output_type": "stream",
     "text": [
      "16:32:31 - mcmc.calculators | INFO: None\n",
      "16:32:31 - mcmc.calculators | INFO: None\n",
      "16:32:31 - mcmc.calculators | INFO: None\n",
      "16:32:31 - mcmc.calculators | INFO: None\n",
      "16:32:31 - mcmc.calculators | INFO: None\n",
      "16:32:31 - mcmc.calculators | INFO: None\n",
      "16:32:31 - mcmc.calculators | INFO: None\n",
      "16:32:31 - mcmc.calculators | INFO: None\n",
      "16:32:31 - mcmc.calculators | INFO: None\n",
      "16:32:31 - mcmc.calculators | INFO: None\n",
      "16:32:32 - mcmc.calculators | INFO: None\n",
      "16:32:32 - mcmc.calculators | INFO: None\n",
      "16:32:32 - mcmc.mcmc | INFO: At iter 624\n",
      "16:32:32 - mcmc.calculators | INFO: None\n",
      "16:32:32 - mcmc.calculators | INFO: None\n"
     ]
    },
    {
     "name": "stdout",
     "output_type": "stream",
     "text": [
      "Total wall time: 0:00:00\n",
      "Total wall time: 0:00:00\n",
      "Total wall time: 0:00:00\n",
      "Total wall time: 0:00:00\n",
      "Total wall time: 0:00:00\n",
      "Total wall time: 0:00:00\n",
      "Total wall time: 0:00:00\n",
      "Total wall time: 0:00:00\n",
      "Total wall time: 0:00:00\n",
      "Total wall time: 0:00:00\n",
      "Total wall time: 0:00:00\n",
      "Total wall time: 0:00:00\n",
      "Total wall time: 0:00:00\n"
     ]
    },
    {
     "name": "stderr",
     "output_type": "stream",
     "text": [
      "16:32:32 - mcmc.calculators | INFO: None\n",
      "16:32:32 - mcmc.system | INFO: Optimized structure has Energy = -179.976\n",
      "16:32:32 - mcmc.mcmc | INFO: In sweep 7 out of 10\n",
      "16:32:32 - mcmc.calculators | INFO: None\n",
      "16:32:32 - mcmc.calculators | INFO: None\n",
      "16:32:32 - mcmc.calculators | INFO: None\n",
      "16:32:32 - mcmc.calculators | INFO: None\n",
      "16:32:32 - mcmc.calculators | INFO: None\n",
      "16:32:32 - mcmc.calculators | INFO: None\n",
      "16:32:32 - mcmc.calculators | INFO: None\n",
      "16:32:32 - mcmc.calculators | INFO: None\n"
     ]
    },
    {
     "name": "stdout",
     "output_type": "stream",
     "text": [
      "Total wall time: 0:00:00\n",
      "Total wall time: 0:00:00\n",
      "Total wall time: 0:00:00\n",
      "Total wall time: 0:00:00\n",
      "Total wall time: 0:00:00\n",
      "Total wall time: 0:00:00\n",
      "Total wall time: 0:00:00\n",
      "Total wall time: 0:00:00\n",
      "Total wall time: 0:00:00\n",
      "Total wall time: 0:00:00\n"
     ]
    },
    {
     "name": "stderr",
     "output_type": "stream",
     "text": [
      "16:32:32 - mcmc.calculators | INFO: None\n",
      "16:32:32 - mcmc.calculators | INFO: None\n",
      "16:32:32 - mcmc.calculators | INFO: None\n",
      "16:32:32 - mcmc.calculators | INFO: None\n",
      "16:32:32 - mcmc.calculators | INFO: None\n",
      "16:32:32 - mcmc.calculators | INFO: None\n",
      "16:32:32 - mcmc.calculators | INFO: None\n",
      "16:32:32 - mcmc.calculators | INFO: None\n",
      "16:32:32 - mcmc.calculators | INFO: None\n",
      "16:32:32 - mcmc.calculators | INFO: None\n",
      "16:32:32 - mcmc.calculators | INFO: None\n",
      "16:32:32 - mcmc.calculators | INFO: None\n"
     ]
    },
    {
     "name": "stdout",
     "output_type": "stream",
     "text": [
      "Total wall time: 0:00:00\n",
      "Total wall time: 0:00:00\n",
      "Total wall time: 0:00:00\n",
      "Total wall time: 0:00:00\n",
      "Total wall time: 0:00:00\n",
      "Total wall time: 0:00:00\n",
      "Total wall time: 0:00:00\n",
      "Total wall time: 0:00:00\n",
      "Total wall time: 0:00:00\n",
      "Total wall time: 0:00:00\n",
      "Total wall time: 0:00:00\n",
      "Total wall time: 0:00:00\n"
     ]
    },
    {
     "name": "stderr",
     "output_type": "stream",
     "text": [
      "16:32:32 - mcmc.calculators | INFO: None\n",
      "16:32:32 - mcmc.calculators | INFO: None\n",
      "16:32:32 - mcmc.calculators | INFO: None\n",
      "16:32:32 - mcmc.calculators | INFO: None\n",
      "16:32:32 - mcmc.calculators | INFO: None\n",
      "16:32:32 - mcmc.calculators | INFO: None\n",
      "16:32:32 - mcmc.calculators | INFO: None\n",
      "16:32:32 - mcmc.calculators | INFO: None\n",
      "16:32:32 - mcmc.calculators | INFO: None\n",
      "16:32:32 - mcmc.calculators | INFO: None\n",
      "16:32:32 - mcmc.calculators | INFO: None\n",
      "16:32:32 - mcmc.calculators | INFO: None\n",
      "16:32:32 - mcmc.calculators | INFO: None\n",
      "16:32:32 - mcmc.calculators | INFO: None\n"
     ]
    },
    {
     "name": "stdout",
     "output_type": "stream",
     "text": [
      "Total wall time: 0:00:00\n",
      "Total wall time: 0:00:00\n",
      "Total wall time: 0:00:00\n",
      "Total wall time: 0:00:00\n",
      "Total wall time: 0:00:00\n",
      "Total wall time: 0:00:00\n",
      "Total wall time: 0:00:00\n",
      "Total wall time: 0:00:00\n",
      "Total wall time: 0:00:00\n",
      "Total wall time: 0:00:00\n",
      "Total wall time: 0:00:00\n",
      "Total wall time: 0:00:00\n",
      "Total wall time: 0:00:00\n",
      "Total wall time: 0:00:00\n"
     ]
    },
    {
     "name": "stderr",
     "output_type": "stream",
     "text": [
      "16:32:32 - mcmc.calculators | INFO: None\n",
      "16:32:32 - mcmc.calculators | INFO: None\n",
      "16:32:32 - mcmc.calculators | INFO: None\n",
      "16:32:32 - mcmc.calculators | INFO: None\n",
      "16:32:32 - mcmc.calculators | INFO: None\n",
      "16:32:32 - mcmc.calculators | INFO: None\n",
      "16:32:32 - mcmc.calculators | INFO: None\n",
      "16:32:32 - mcmc.calculators | INFO: None\n",
      "16:32:32 - mcmc.calculators | INFO: None\n",
      "16:32:32 - mcmc.calculators | INFO: None\n",
      "16:32:32 - mcmc.calculators | INFO: None\n",
      "16:32:32 - mcmc.calculators | INFO: None\n"
     ]
    },
    {
     "name": "stdout",
     "output_type": "stream",
     "text": [
      "Total wall time: 0:00:00\n",
      "Total wall time: 0:00:00\n",
      "Total wall time: 0:00:00\n",
      "Total wall time: 0:00:00\n",
      "Total wall time: 0:00:00\n",
      "Total wall time: 0:00:00\n",
      "Total wall time: 0:00:00\n",
      "Total wall time: 0:00:00\n",
      "Total wall time: 0:00:00\n",
      "Total wall time: 0:00:00\n",
      "Total wall time: 0:00:00\n",
      "Total wall time: 0:00:00\n"
     ]
    },
    {
     "name": "stderr",
     "output_type": "stream",
     "text": [
      "16:32:32 - mcmc.calculators | INFO: None\n",
      "16:32:32 - mcmc.calculators | INFO: None\n",
      "16:32:32 - mcmc.calculators | INFO: None\n",
      "16:32:32 - mcmc.calculators | INFO: None\n",
      "16:32:32 - mcmc.calculators | INFO: None\n",
      "16:32:32 - mcmc.calculators | INFO: None\n",
      "16:32:32 - mcmc.calculators | INFO: None\n",
      "16:32:32 - mcmc.calculators | INFO: None\n",
      "16:32:33 - mcmc.calculators | INFO: None\n",
      "16:32:33 - mcmc.calculators | INFO: None\n",
      "16:32:33 - mcmc.calculators | INFO: None\n",
      "16:32:33 - mcmc.calculators | INFO: None\n",
      "16:32:33 - mcmc.calculators | INFO: None\n",
      "16:32:33 - mcmc.calculators | INFO: None\n"
     ]
    },
    {
     "name": "stdout",
     "output_type": "stream",
     "text": [
      "Total wall time: 0:00:00\n",
      "Total wall time: 0:00:00\n",
      "Total wall time: 0:00:00\n",
      "Total wall time: 0:00:00\n",
      "Total wall time: 0:00:00\n",
      "Total wall time: 0:00:00\n",
      "Total wall time: 0:00:00\n",
      "Total wall time: 0:00:00\n",
      "Total wall time: 0:00:00\n",
      "Total wall time: 0:00:00\n",
      "Total wall time: 0:00:00\n",
      "Total wall time: 0:00:00\n",
      "Total wall time: 0:00:00\n",
      "Total wall time: 0:00:00\n"
     ]
    },
    {
     "name": "stderr",
     "output_type": "stream",
     "text": [
      "16:32:33 - mcmc.calculators | INFO: None\n",
      "16:32:33 - mcmc.calculators | INFO: None\n",
      "16:32:33 - mcmc.calculators | INFO: None\n",
      "16:32:33 - mcmc.calculators | INFO: None\n",
      "16:32:33 - mcmc.calculators | INFO: None\n",
      "16:32:33 - mcmc.calculators | INFO: None\n",
      "16:32:33 - mcmc.calculators | INFO: None\n",
      "16:32:33 - mcmc.calculators | INFO: None\n",
      "16:32:33 - mcmc.calculators | INFO: None\n",
      "16:32:33 - mcmc.calculators | INFO: None\n",
      "16:32:33 - mcmc.calculators | INFO: None\n",
      "16:32:33 - mcmc.calculators | INFO: None\n",
      "16:32:33 - mcmc.calculators | INFO: None\n",
      "16:32:33 - mcmc.calculators | INFO: None\n"
     ]
    },
    {
     "name": "stdout",
     "output_type": "stream",
     "text": [
      "Total wall time: 0:00:00\n",
      "Total wall time: 0:00:00\n",
      "Total wall time: 0:00:00\n",
      "Total wall time: 0:00:00\n",
      "Total wall time: 0:00:00\n",
      "Total wall time: 0:00:00\n",
      "Total wall time: 0:00:00\n",
      "Total wall time: 0:00:00\n",
      "Total wall time: 0:00:00\n",
      "Total wall time: 0:00:00\n",
      "Total wall time: 0:00:00\n",
      "Total wall time: 0:00:00\n",
      "Total wall time: 0:00:00\n"
     ]
    },
    {
     "name": "stderr",
     "output_type": "stream",
     "text": [
      "16:32:33 - mcmc.calculators | INFO: None\n",
      "16:32:33 - mcmc.calculators | INFO: None\n",
      "16:32:33 - mcmc.calculators | INFO: None\n",
      "16:32:33 - mcmc.calculators | INFO: None\n",
      "16:32:33 - mcmc.calculators | INFO: None\n",
      "16:32:33 - mcmc.calculators | INFO: None\n",
      "16:32:33 - mcmc.calculators | INFO: None\n",
      "16:32:33 - mcmc.calculators | INFO: None\n",
      "16:32:33 - mcmc.calculators | INFO: None\n",
      "16:32:33 - mcmc.calculators | INFO: None\n",
      "16:32:33 - mcmc.calculators | INFO: None\n"
     ]
    },
    {
     "name": "stdout",
     "output_type": "stream",
     "text": [
      "Total wall time: 0:00:00\n",
      "Total wall time: 0:00:00\n",
      "Total wall time: 0:00:00\n",
      "Total wall time: 0:00:00\n",
      "Total wall time: 0:00:00\n",
      "Total wall time: 0:00:00\n",
      "Total wall time: 0:00:00\n",
      "Total wall time: 0:00:00\n",
      "Total wall time: 0:00:00\n",
      "Total wall time: 0:00:00\n",
      "Total wall time: 0:00:00\n"
     ]
    },
    {
     "name": "stderr",
     "output_type": "stream",
     "text": [
      "16:32:33 - mcmc.calculators | INFO: None\n",
      "16:32:33 - mcmc.calculators | INFO: None\n",
      "16:32:33 - mcmc.calculators | INFO: None\n",
      "16:32:33 - mcmc.calculators | INFO: None\n",
      "16:32:33 - mcmc.calculators | INFO: None\n",
      "16:32:33 - mcmc.calculators | INFO: None\n",
      "16:32:33 - mcmc.calculators | INFO: None\n",
      "16:32:33 - mcmc.calculators | INFO: None\n",
      "16:32:33 - mcmc.calculators | INFO: None\n",
      "16:32:33 - mcmc.calculators | INFO: None\n",
      "16:32:33 - mcmc.calculators | INFO: None\n"
     ]
    },
    {
     "name": "stdout",
     "output_type": "stream",
     "text": [
      "Total wall time: 0:00:00\n",
      "Total wall time: 0:00:00\n",
      "Total wall time: 0:00:00\n",
      "Total wall time: 0:00:00\n",
      "Total wall time: 0:00:00\n",
      "Total wall time: 0:00:00\n",
      "Total wall time: 0:00:00\n",
      "Total wall time: 0:00:00\n",
      "Total wall time: 0:00:00\n",
      "Total wall time: 0:00:00\n",
      "Total wall time: 0:00:00\n",
      "Total wall time: 0:00:00\n"
     ]
    },
    {
     "name": "stderr",
     "output_type": "stream",
     "text": [
      "16:32:33 - mcmc.calculators | INFO: None\n",
      "16:32:33 - mcmc.calculators | INFO: None\n",
      "16:32:33 - mcmc.calculators | INFO: None\n",
      "16:32:33 - mcmc.calculators | INFO: None\n",
      "16:32:33 - mcmc.calculators | INFO: None\n",
      "16:32:33 - mcmc.calculators | INFO: None\n",
      "16:32:33 - mcmc.calculators | INFO: None\n",
      "16:32:33 - mcmc.calculators | INFO: None\n",
      "16:32:33 - mcmc.calculators | INFO: None\n",
      "16:32:33 - mcmc.calculators | INFO: None\n",
      "16:32:33 - mcmc.calculators | INFO: None\n",
      "16:32:33 - mcmc.calculators | INFO: None\n"
     ]
    },
    {
     "name": "stdout",
     "output_type": "stream",
     "text": [
      "Total wall time: 0:00:00\n",
      "Total wall time: 0:00:00\n",
      "Total wall time: 0:00:00\n",
      "Total wall time: 0:00:00\n",
      "Total wall time: 0:00:00\n",
      "Total wall time: 0:00:00\n",
      "Total wall time: 0:00:00\n",
      "Total wall time: 0:00:00\n",
      "Total wall time: 0:00:00\n",
      "Total wall time: 0:00:00\n",
      "Total wall time: 0:00:00\n",
      "Total wall time: 0:00:00\n"
     ]
    },
    {
     "name": "stderr",
     "output_type": "stream",
     "text": [
      "16:32:33 - mcmc.calculators | INFO: None\n",
      "16:32:33 - mcmc.calculators | INFO: None\n",
      "16:32:33 - mcmc.calculators | INFO: None\n",
      "16:32:33 - mcmc.calculators | INFO: None\n",
      "16:32:34 - mcmc.calculators | INFO: None\n",
      "16:32:34 - mcmc.calculators | INFO: None\n",
      "16:32:34 - mcmc.calculators | INFO: None\n",
      "16:32:34 - mcmc.calculators | INFO: None\n",
      "16:32:34 - mcmc.calculators | INFO: None\n",
      "16:32:34 - mcmc.calculators | INFO: None\n",
      "16:32:34 - mcmc.calculators | INFO: None\n",
      "16:32:34 - mcmc.calculators | INFO: None\n"
     ]
    },
    {
     "name": "stdout",
     "output_type": "stream",
     "text": [
      "Total wall time: 0:00:00\n",
      "Total wall time: 0:00:00\n",
      "Total wall time: 0:00:00\n",
      "Total wall time: 0:00:00\n",
      "Total wall time: 0:00:00\n",
      "Total wall time: 0:00:00\n",
      "Total wall time: 0:00:00\n",
      "Total wall time: 0:00:00\n",
      "Total wall time: 0:00:00\n",
      "Total wall time: 0:00:00\n",
      "Total wall time: 0:00:00\n",
      "Total wall time: 0:00:00\n"
     ]
    },
    {
     "name": "stderr",
     "output_type": "stream",
     "text": [
      "16:32:34 - mcmc.calculators | INFO: None\n",
      "16:32:34 - mcmc.calculators | INFO: None\n",
      "16:32:34 - mcmc.calculators | INFO: None\n",
      "16:32:34 - mcmc.calculators | INFO: None\n",
      "16:32:34 - mcmc.calculators | INFO: None\n",
      "16:32:34 - mcmc.calculators | INFO: None\n",
      "16:32:34 - mcmc.calculators | INFO: None\n",
      "16:32:34 - mcmc.calculators | INFO: None\n",
      "16:32:34 - mcmc.calculators | INFO: None\n",
      "16:32:34 - mcmc.calculators | INFO: None\n",
      "16:32:34 - mcmc.calculators | INFO: None\n",
      "16:32:34 - mcmc.calculators | INFO: None\n",
      "16:32:34 - mcmc.calculators | INFO: None\n",
      "16:32:34 - mcmc.calculators | INFO: None\n",
      "16:32:34 - mcmc.calculators | INFO: None\n",
      "16:32:34 - mcmc.calculators | INFO: None\n"
     ]
    },
    {
     "name": "stdout",
     "output_type": "stream",
     "text": [
      "Total wall time: 0:00:00\n",
      "Total wall time: 0:00:00\n",
      "Total wall time: 0:00:00\n",
      "Total wall time: 0:00:00\n",
      "Total wall time: 0:00:00\n",
      "Total wall time: 0:00:00\n",
      "Total wall time: 0:00:00\n",
      "Total wall time: 0:00:00\n",
      "Total wall time: 0:00:00\n",
      "Total wall time: 0:00:00\n",
      "Total wall time: 0:00:00\n",
      "Total wall time: 0:00:00\n",
      "Total wall time: 0:00:00\n",
      "Total wall time: 0:00:00\n",
      "Total wall time: 0:00:00\n",
      "Total wall time: 0:00:00\n"
     ]
    },
    {
     "name": "stderr",
     "output_type": "stream",
     "text": [
      "16:32:34 - mcmc.calculators | INFO: None\n",
      "16:32:34 - mcmc.calculators | INFO: None\n",
      "16:32:34 - mcmc.calculators | INFO: None\n",
      "16:32:34 - mcmc.calculators | INFO: None\n",
      "16:32:34 - mcmc.calculators | INFO: None\n",
      "16:32:34 - mcmc.calculators | INFO: None\n",
      "16:32:34 - mcmc.calculators | INFO: None\n",
      "16:32:34 - mcmc.calculators | INFO: None\n",
      "16:32:34 - mcmc.calculators | INFO: None\n",
      "16:32:34 - mcmc.calculators | INFO: None\n",
      "16:32:34 - mcmc.calculators | INFO: None\n",
      "16:32:34 - mcmc.calculators | INFO: None\n"
     ]
    },
    {
     "name": "stdout",
     "output_type": "stream",
     "text": [
      "Total wall time: 0:00:00\n",
      "Total wall time: 0:00:00\n",
      "Total wall time: 0:00:00\n",
      "Total wall time: 0:00:00\n",
      "Total wall time: 0:00:00\n",
      "Total wall time: 0:00:00\n",
      "Total wall time: 0:00:00\n",
      "Total wall time: 0:00:00\n",
      "Total wall time: 0:00:00\n",
      "Total wall time: 0:00:00\n",
      "Total wall time: 0:00:00\n",
      "Total wall time: 0:00:00\n"
     ]
    },
    {
     "name": "stderr",
     "output_type": "stream",
     "text": [
      "16:32:34 - mcmc.calculators | INFO: None\n",
      "16:32:34 - mcmc.calculators | INFO: None\n",
      "16:32:34 - mcmc.calculators | INFO: None\n",
      "16:32:34 - mcmc.calculators | INFO: None\n",
      "16:32:34 - mcmc.calculators | INFO: None\n",
      "16:32:34 - mcmc.calculators | INFO: None\n",
      "16:32:34 - mcmc.calculators | INFO: None\n",
      "16:32:34 - mcmc.calculators | INFO: None\n",
      "16:32:34 - mcmc.calculators | INFO: None\n",
      "16:32:34 - mcmc.calculators | INFO: None\n",
      "16:32:34 - mcmc.calculators | INFO: None\n"
     ]
    },
    {
     "name": "stdout",
     "output_type": "stream",
     "text": [
      "Total wall time: 0:00:00\n",
      "Total wall time: 0:00:00\n",
      "Total wall time: 0:00:00\n",
      "Total wall time: 0:00:00\n",
      "Total wall time: 0:00:00\n",
      "Total wall time: 0:00:00\n",
      "Total wall time: 0:00:00\n",
      "Total wall time: 0:00:00\n",
      "Total wall time: 0:00:00\n",
      "Total wall time: 0:00:00\n",
      "Total wall time: 0:00:00\n"
     ]
    },
    {
     "name": "stderr",
     "output_type": "stream",
     "text": [
      "16:32:34 - mcmc.calculators | INFO: None\n",
      "16:32:34 - mcmc.calculators | INFO: None\n",
      "16:32:34 - mcmc.calculators | INFO: None\n",
      "16:32:34 - mcmc.calculators | INFO: None\n",
      "16:32:34 - mcmc.calculators | INFO: None\n",
      "16:32:34 - mcmc.calculators | INFO: None\n",
      "16:32:34 - mcmc.calculators | INFO: None\n",
      "16:32:34 - mcmc.calculators | INFO: None\n",
      "16:32:34 - mcmc.calculators | INFO: None\n",
      "16:32:34 - mcmc.calculators | INFO: None\n",
      "16:32:34 - mcmc.calculators | INFO: None\n",
      "16:32:35 - mcmc.calculators | INFO: None\n",
      "16:32:35 - mcmc.calculators | INFO: None\n"
     ]
    },
    {
     "name": "stdout",
     "output_type": "stream",
     "text": [
      "Total wall time: 0:00:00\n",
      "Total wall time: 0:00:00\n",
      "Total wall time: 0:00:00\n",
      "Total wall time: 0:00:00\n",
      "Total wall time: 0:00:00\n",
      "Total wall time: 0:00:00\n",
      "Total wall time: 0:00:00\n",
      "Total wall time: 0:00:00\n",
      "Total wall time: 0:00:00\n",
      "Total wall time: 0:00:00\n",
      "Total wall time: 0:00:00\n",
      "Total wall time: 0:00:00\n",
      "Total wall time: 0:00:00\n"
     ]
    },
    {
     "name": "stderr",
     "output_type": "stream",
     "text": [
      "16:32:35 - mcmc.calculators | INFO: None\n",
      "16:32:35 - mcmc.calculators | INFO: None\n",
      "16:32:35 - mcmc.calculators | INFO: None\n",
      "16:32:35 - mcmc.calculators | INFO: None\n",
      "16:32:35 - mcmc.calculators | INFO: None\n",
      "16:32:35 - mcmc.calculators | INFO: None\n",
      "16:32:35 - mcmc.calculators | INFO: None\n",
      "16:32:35 - mcmc.calculators | INFO: None\n",
      "16:32:35 - mcmc.calculators | INFO: None\n",
      "16:32:35 - mcmc.calculators | INFO: None\n"
     ]
    },
    {
     "name": "stdout",
     "output_type": "stream",
     "text": [
      "Total wall time: 0:00:00\n",
      "Total wall time: 0:00:00\n",
      "Total wall time: 0:00:00\n",
      "Total wall time: 0:00:00\n",
      "Total wall time: 0:00:00\n",
      "Total wall time: 0:00:00\n",
      "Total wall time: 0:00:00\n",
      "Total wall time: 0:00:00\n",
      "Total wall time: 0:00:00\n",
      "Total wall time: 0:00:00\n"
     ]
    },
    {
     "name": "stderr",
     "output_type": "stream",
     "text": [
      "16:32:35 - mcmc.calculators | INFO: None\n",
      "16:32:35 - mcmc.calculators | INFO: None\n",
      "16:32:35 - mcmc.calculators | INFO: None\n",
      "16:32:35 - mcmc.calculators | INFO: None\n",
      "16:32:35 - mcmc.calculators | INFO: None\n",
      "16:32:35 - mcmc.calculators | INFO: None\n"
     ]
    },
    {
     "name": "stdout",
     "output_type": "stream",
     "text": [
      "Total wall time: 0:00:00\n",
      "Total wall time: 0:00:00\n",
      "Total wall time: 0:00:00\n",
      "Total wall time: 0:00:00\n",
      "Total wall time: 0:00:00\n",
      "Total wall time: 0:00:00\n"
     ]
    },
    {
     "name": "stderr",
     "output_type": "stream",
     "text": [
      "16:32:35 - mcmc.calculators | INFO: None\n",
      "16:32:35 - mcmc.calculators | INFO: None\n",
      "16:32:35 - mcmc.calculators | INFO: None\n",
      "16:32:35 - mcmc.calculators | INFO: None\n",
      "16:32:35 - mcmc.calculators | INFO: None\n",
      "16:32:35 - mcmc.calculators | INFO: None\n",
      "16:32:35 - mcmc.calculators | INFO: None\n",
      "16:32:35 - mcmc.calculators | INFO: None\n",
      "16:32:35 - mcmc.calculators | INFO: None\n",
      "16:32:35 - mcmc.calculators | INFO: None\n",
      "16:32:35 - mcmc.calculators | INFO: None\n",
      "16:32:35 - mcmc.calculators | INFO: None\n"
     ]
    },
    {
     "name": "stdout",
     "output_type": "stream",
     "text": [
      "Total wall time: 0:00:00\n",
      "Total wall time: 0:00:00\n",
      "Total wall time: 0:00:00\n",
      "Total wall time: 0:00:00\n",
      "Total wall time: 0:00:00\n",
      "Total wall time: 0:00:00\n",
      "Total wall time: 0:00:00\n",
      "Total wall time: 0:00:00\n",
      "Total wall time: 0:00:00\n",
      "Total wall time: 0:00:00\n",
      "Total wall time: 0:00:00\n",
      "Total wall time: 0:00:00\n"
     ]
    },
    {
     "name": "stderr",
     "output_type": "stream",
     "text": [
      "16:32:35 - mcmc.calculators | INFO: None\n",
      "16:32:35 - mcmc.calculators | INFO: None\n",
      "16:32:35 - mcmc.calculators | INFO: None\n",
      "16:32:35 - mcmc.calculators | INFO: None\n",
      "16:32:35 - mcmc.calculators | INFO: None\n",
      "16:32:35 - mcmc.calculators | INFO: None\n",
      "16:32:35 - mcmc.mcmc | INFO: At iter 728\n",
      "16:32:35 - mcmc.calculators | INFO: None\n",
      "16:32:35 - mcmc.calculators | INFO: None\n",
      "16:32:35 - mcmc.calculators | INFO: None\n",
      "16:32:35 - mcmc.system | INFO: Optimized structure has Energy = -178.076\n",
      "16:32:35 - mcmc.mcmc | INFO: In sweep 8 out of 10\n",
      "16:32:35 - mcmc.calculators | INFO: None\n"
     ]
    },
    {
     "name": "stdout",
     "output_type": "stream",
     "text": [
      "Total wall time: 0:00:00\n",
      "Total wall time: 0:00:00\n",
      "Total wall time: 0:00:00\n",
      "Total wall time: 0:00:00\n",
      "Total wall time: 0:00:00\n",
      "Total wall time: 0:00:00\n",
      "Total wall time: 0:00:00\n",
      "Total wall time: 0:00:00\n",
      "Total wall time: 0:00:00\n",
      "Total wall time: 0:00:00\n"
     ]
    },
    {
     "name": "stderr",
     "output_type": "stream",
     "text": [
      "16:32:35 - mcmc.calculators | INFO: None\n",
      "16:32:35 - mcmc.calculators | INFO: None\n",
      "16:32:36 - mcmc.calculators | INFO: None\n",
      "16:32:36 - mcmc.calculators | INFO: None\n",
      "16:32:36 - mcmc.calculators | INFO: None\n",
      "16:32:36 - mcmc.calculators | INFO: None\n",
      "16:32:36 - mcmc.calculators | INFO: None\n",
      "16:32:36 - mcmc.calculators | INFO: None\n",
      "16:32:36 - mcmc.calculators | INFO: None\n",
      "16:32:36 - mcmc.calculators | INFO: None\n"
     ]
    },
    {
     "name": "stdout",
     "output_type": "stream",
     "text": [
      "Total wall time: 0:00:00\n",
      "Total wall time: 0:00:00\n",
      "Total wall time: 0:00:00\n",
      "Total wall time: 0:00:00\n",
      "Total wall time: 0:00:00\n",
      "Total wall time: 0:00:00\n",
      "Total wall time: 0:00:00\n",
      "Total wall time: 0:00:00\n",
      "Total wall time: 0:00:00\n",
      "Total wall time: 0:00:00\n"
     ]
    },
    {
     "name": "stderr",
     "output_type": "stream",
     "text": [
      "16:32:36 - mcmc.calculators | INFO: None\n",
      "16:32:36 - mcmc.calculators | INFO: None\n",
      "16:32:36 - mcmc.calculators | INFO: None\n",
      "16:32:36 - mcmc.calculators | INFO: None\n",
      "16:32:36 - mcmc.calculators | INFO: None\n",
      "16:32:36 - mcmc.calculators | INFO: None\n",
      "16:32:36 - mcmc.calculators | INFO: None\n",
      "16:32:36 - mcmc.calculators | INFO: None\n",
      "16:32:36 - mcmc.calculators | INFO: None\n",
      "16:32:36 - mcmc.calculators | INFO: None\n",
      "16:32:36 - mcmc.calculators | INFO: None\n"
     ]
    },
    {
     "name": "stdout",
     "output_type": "stream",
     "text": [
      "Total wall time: 0:00:00\n",
      "Total wall time: 0:00:00\n",
      "Total wall time: 0:00:00\n",
      "Total wall time: 0:00:00\n",
      "Total wall time: 0:00:00\n",
      "Total wall time: 0:00:00\n",
      "Total wall time: 0:00:00\n",
      "Total wall time: 0:00:00\n",
      "Total wall time: 0:00:00\n",
      "Total wall time: 0:00:00\n",
      "Total wall time: 0:00:00\n"
     ]
    },
    {
     "name": "stderr",
     "output_type": "stream",
     "text": [
      "16:32:36 - mcmc.calculators | INFO: None\n",
      "16:32:36 - mcmc.calculators | INFO: None\n",
      "16:32:36 - mcmc.calculators | INFO: None\n",
      "16:32:36 - mcmc.calculators | INFO: None\n",
      "16:32:36 - mcmc.calculators | INFO: None\n",
      "16:32:36 - mcmc.calculators | INFO: None\n",
      "16:32:36 - mcmc.calculators | INFO: None\n",
      "16:32:36 - mcmc.calculators | INFO: None\n",
      "16:32:36 - mcmc.calculators | INFO: None\n",
      "16:32:36 - mcmc.calculators | INFO: None\n"
     ]
    },
    {
     "name": "stdout",
     "output_type": "stream",
     "text": [
      "Total wall time: 0:00:00\n",
      "Total wall time: 0:00:00\n",
      "Total wall time: 0:00:00\n",
      "Total wall time: 0:00:00\n",
      "Total wall time: 0:00:00\n",
      "Total wall time: 0:00:00\n",
      "Total wall time: 0:00:00\n",
      "Total wall time: 0:00:00\n",
      "Total wall time: 0:00:00\n",
      "Total wall time: 0:00:00\n"
     ]
    },
    {
     "name": "stderr",
     "output_type": "stream",
     "text": [
      "16:32:36 - mcmc.calculators | INFO: None\n",
      "16:32:36 - mcmc.calculators | INFO: None\n",
      "16:32:36 - mcmc.calculators | INFO: None\n",
      "16:32:36 - mcmc.calculators | INFO: None\n",
      "16:32:36 - mcmc.calculators | INFO: None\n",
      "16:32:36 - mcmc.calculators | INFO: None\n",
      "16:32:36 - mcmc.calculators | INFO: None\n",
      "16:32:36 - mcmc.calculators | INFO: None\n",
      "16:32:36 - mcmc.calculators | INFO: None\n",
      "16:32:36 - mcmc.calculators | INFO: None\n",
      "16:32:36 - mcmc.calculators | INFO: None\n",
      "16:32:36 - mcmc.calculators | INFO: None\n"
     ]
    },
    {
     "name": "stdout",
     "output_type": "stream",
     "text": [
      "Total wall time: 0:00:00\n",
      "Total wall time: 0:00:00\n",
      "Total wall time: 0:00:00\n",
      "Total wall time: 0:00:00\n",
      "Total wall time: 0:00:00\n",
      "Total wall time: 0:00:00\n",
      "Total wall time: 0:00:00\n",
      "Total wall time: 0:00:00\n",
      "Total wall time: 0:00:00\n",
      "Total wall time: 0:00:00\n",
      "Total wall time: 0:00:00\n",
      "Total wall time: 0:00:00\n"
     ]
    },
    {
     "name": "stderr",
     "output_type": "stream",
     "text": [
      "16:32:36 - mcmc.calculators | INFO: None\n",
      "16:32:36 - mcmc.calculators | INFO: None\n",
      "16:32:36 - mcmc.calculators | INFO: None\n",
      "16:32:36 - mcmc.calculators | INFO: None\n",
      "16:32:36 - mcmc.calculators | INFO: None\n",
      "16:32:36 - mcmc.calculators | INFO: None\n",
      "16:32:36 - mcmc.calculators | INFO: None\n",
      "16:32:36 - mcmc.calculators | INFO: None\n",
      "16:32:36 - mcmc.calculators | INFO: None\n",
      "16:32:36 - mcmc.calculators | INFO: None\n"
     ]
    },
    {
     "name": "stdout",
     "output_type": "stream",
     "text": [
      "Total wall time: 0:00:00\n",
      "Total wall time: 0:00:00\n",
      "Total wall time: 0:00:00\n",
      "Total wall time: 0:00:00\n",
      "Total wall time: 0:00:00\n",
      "Total wall time: 0:00:00\n",
      "Total wall time: 0:00:00\n",
      "Total wall time: 0:00:00\n",
      "Total wall time: 0:00:00\n",
      "Total wall time: 0:00:00\n"
     ]
    },
    {
     "name": "stderr",
     "output_type": "stream",
     "text": [
      "16:32:37 - mcmc.calculators | INFO: None\n",
      "16:32:37 - mcmc.calculators | INFO: None\n",
      "16:32:37 - mcmc.calculators | INFO: None\n",
      "16:32:37 - mcmc.calculators | INFO: None\n",
      "16:32:37 - mcmc.calculators | INFO: None\n",
      "16:32:37 - mcmc.calculators | INFO: None\n",
      "16:32:37 - mcmc.calculators | INFO: None\n",
      "16:32:37 - mcmc.calculators | INFO: None\n",
      "16:32:37 - mcmc.calculators | INFO: None\n",
      "16:32:37 - mcmc.calculators | INFO: None\n"
     ]
    },
    {
     "name": "stdout",
     "output_type": "stream",
     "text": [
      "Total wall time: 0:00:00\n",
      "Total wall time: 0:00:00\n",
      "Total wall time: 0:00:00\n",
      "Total wall time: 0:00:00\n",
      "Total wall time: 0:00:00\n",
      "Total wall time: 0:00:00\n",
      "Total wall time: 0:00:00\n",
      "Total wall time: 0:00:00\n",
      "Total wall time: 0:00:00\n",
      "Total wall time: 0:00:00\n"
     ]
    },
    {
     "name": "stderr",
     "output_type": "stream",
     "text": [
      "16:32:37 - mcmc.calculators | INFO: None\n",
      "16:32:37 - mcmc.calculators | INFO: None\n",
      "16:32:37 - mcmc.calculators | INFO: None\n",
      "16:32:37 - mcmc.calculators | INFO: None\n",
      "16:32:37 - mcmc.calculators | INFO: None\n",
      "16:32:37 - mcmc.calculators | INFO: None\n",
      "16:32:37 - mcmc.calculators | INFO: None\n",
      "16:32:37 - mcmc.calculators | INFO: None\n",
      "16:32:37 - mcmc.calculators | INFO: None\n",
      "16:32:37 - mcmc.calculators | INFO: None\n",
      "16:32:37 - mcmc.calculators | INFO: None\n"
     ]
    },
    {
     "name": "stdout",
     "output_type": "stream",
     "text": [
      "Total wall time: 0:00:00\n",
      "Total wall time: 0:00:00\n",
      "Total wall time: 0:00:00\n",
      "Total wall time: 0:00:00\n",
      "Total wall time: 0:00:00\n",
      "Total wall time: 0:00:00\n",
      "Total wall time: 0:00:00\n",
      "Total wall time: 0:00:00\n",
      "Total wall time: 0:00:00\n",
      "Total wall time: 0:00:00\n",
      "Total wall time: 0:00:00\n"
     ]
    },
    {
     "name": "stderr",
     "output_type": "stream",
     "text": [
      "16:32:37 - mcmc.calculators | INFO: None\n",
      "16:32:37 - mcmc.calculators | INFO: None\n",
      "16:32:37 - mcmc.calculators | INFO: None\n",
      "16:32:37 - mcmc.calculators | INFO: None\n",
      "16:32:37 - mcmc.calculators | INFO: None\n",
      "16:32:37 - mcmc.calculators | INFO: None\n",
      "16:32:37 - mcmc.calculators | INFO: None\n",
      "16:32:37 - mcmc.calculators | INFO: None\n",
      "16:32:37 - mcmc.calculators | INFO: None\n",
      "16:32:37 - mcmc.calculators | INFO: None\n",
      "16:32:37 - mcmc.calculators | INFO: None\n",
      "16:32:37 - mcmc.calculators | INFO: None\n",
      "16:32:37 - mcmc.calculators | INFO: None\n"
     ]
    },
    {
     "name": "stdout",
     "output_type": "stream",
     "text": [
      "Total wall time: 0:00:00\n",
      "Total wall time: 0:00:00\n",
      "Total wall time: 0:00:00\n",
      "Total wall time: 0:00:00\n",
      "Total wall time: 0:00:00\n",
      "Total wall time: 0:00:00\n",
      "Total wall time: 0:00:00\n",
      "Total wall time: 0:00:00\n",
      "Total wall time: 0:00:00\n",
      "Total wall time: 0:00:00\n",
      "Total wall time: 0:00:00\n",
      "Total wall time: 0:00:00\n",
      "Total wall time: 0:00:00\n"
     ]
    },
    {
     "name": "stderr",
     "output_type": "stream",
     "text": [
      "16:32:37 - mcmc.calculators | INFO: None\n",
      "16:32:37 - mcmc.calculators | INFO: None\n",
      "16:32:37 - mcmc.calculators | INFO: None\n",
      "16:32:37 - mcmc.calculators | INFO: None\n",
      "16:32:37 - mcmc.calculators | INFO: None\n",
      "16:32:37 - mcmc.calculators | INFO: None\n",
      "16:32:37 - mcmc.calculators | INFO: None\n",
      "16:32:37 - mcmc.calculators | INFO: None\n",
      "16:32:37 - mcmc.calculators | INFO: None\n",
      "16:32:37 - mcmc.calculators | INFO: None\n",
      "16:32:37 - mcmc.calculators | INFO: None\n",
      "16:32:37 - mcmc.calculators | INFO: None\n"
     ]
    },
    {
     "name": "stdout",
     "output_type": "stream",
     "text": [
      "Total wall time: 0:00:00\n",
      "Total wall time: 0:00:00\n",
      "Total wall time: 0:00:00\n",
      "Total wall time: 0:00:00\n",
      "Total wall time: 0:00:00\n",
      "Total wall time: 0:00:00\n",
      "Total wall time: 0:00:00\n",
      "Total wall time: 0:00:00\n",
      "Total wall time: 0:00:00\n",
      "Total wall time: 0:00:00\n",
      "Total wall time: 0:00:00\n",
      "Total wall time: 0:00:00\n"
     ]
    },
    {
     "name": "stderr",
     "output_type": "stream",
     "text": [
      "16:32:37 - mcmc.calculators | INFO: None\n",
      "16:32:37 - mcmc.calculators | INFO: None\n",
      "16:32:37 - mcmc.calculators | INFO: None\n",
      "16:32:37 - mcmc.calculators | INFO: None\n",
      "16:32:37 - mcmc.calculators | INFO: None\n",
      "16:32:37 - mcmc.calculators | INFO: None\n",
      "16:32:37 - mcmc.calculators | INFO: None\n",
      "16:32:37 - mcmc.calculators | INFO: None\n",
      "16:32:37 - mcmc.calculators | INFO: None\n",
      "16:32:37 - mcmc.calculators | INFO: None\n",
      "16:32:38 - mcmc.calculators | INFO: None\n",
      "16:32:38 - mcmc.calculators | INFO: None\n",
      "16:32:38 - mcmc.calculators | INFO: None\n",
      "16:32:38 - mcmc.calculators | INFO: None\n"
     ]
    },
    {
     "name": "stdout",
     "output_type": "stream",
     "text": [
      "Total wall time: 0:00:00\n",
      "Total wall time: 0:00:00\n",
      "Total wall time: 0:00:00\n",
      "Total wall time: 0:00:00\n",
      "Total wall time: 0:00:00\n",
      "Total wall time: 0:00:00\n",
      "Total wall time: 0:00:00\n",
      "Total wall time: 0:00:00\n",
      "Total wall time: 0:00:00\n",
      "Total wall time: 0:00:00\n",
      "Total wall time: 0:00:00\n",
      "Total wall time: 0:00:00\n",
      "Total wall time: 0:00:00\n",
      "Total wall time: 0:00:00\n"
     ]
    },
    {
     "name": "stderr",
     "output_type": "stream",
     "text": [
      "16:32:38 - mcmc.calculators | INFO: None\n",
      "16:32:38 - mcmc.calculators | INFO: None\n",
      "16:32:38 - mcmc.calculators | INFO: None\n",
      "16:32:38 - mcmc.calculators | INFO: None\n",
      "16:32:38 - mcmc.calculators | INFO: None\n",
      "16:32:38 - mcmc.calculators | INFO: None\n",
      "16:32:38 - mcmc.calculators | INFO: None\n",
      "16:32:38 - mcmc.calculators | INFO: None\n",
      "16:32:38 - mcmc.calculators | INFO: None\n",
      "16:32:38 - mcmc.calculators | INFO: None\n",
      "16:32:38 - mcmc.calculators | INFO: None\n",
      "16:32:38 - mcmc.calculators | INFO: None\n",
      "16:32:38 - mcmc.calculators | INFO: None\n"
     ]
    },
    {
     "name": "stdout",
     "output_type": "stream",
     "text": [
      "Total wall time: 0:00:00\n",
      "Total wall time: 0:00:00\n",
      "Total wall time: 0:00:00\n",
      "Total wall time: 0:00:00\n",
      "Total wall time: 0:00:00\n",
      "Total wall time: 0:00:00\n",
      "Total wall time: 0:00:00\n",
      "Total wall time: 0:00:00\n",
      "Total wall time: 0:00:00\n",
      "Total wall time: 0:00:00\n",
      "Total wall time: 0:00:00\n",
      "Total wall time: 0:00:00\n"
     ]
    },
    {
     "name": "stderr",
     "output_type": "stream",
     "text": [
      "16:32:38 - mcmc.calculators | INFO: None\n",
      "16:32:38 - mcmc.calculators | INFO: None\n",
      "16:32:38 - mcmc.calculators | INFO: None\n",
      "16:32:38 - mcmc.calculators | INFO: None\n",
      "16:32:38 - mcmc.calculators | INFO: None\n",
      "16:32:38 - mcmc.calculators | INFO: None\n",
      "16:32:38 - mcmc.calculators | INFO: None\n",
      "16:32:38 - mcmc.calculators | INFO: None\n",
      "16:32:38 - mcmc.calculators | INFO: None\n",
      "16:32:38 - mcmc.calculators | INFO: None\n",
      "16:32:38 - mcmc.calculators | INFO: None\n",
      "16:32:38 - mcmc.calculators | INFO: None\n"
     ]
    },
    {
     "name": "stdout",
     "output_type": "stream",
     "text": [
      "Total wall time: 0:00:00\n",
      "Total wall time: 0:00:00\n",
      "Total wall time: 0:00:00\n",
      "Total wall time: 0:00:00\n",
      "Total wall time: 0:00:00\n",
      "Total wall time: 0:00:00\n",
      "Total wall time: 0:00:00\n",
      "Total wall time: 0:00:00\n",
      "Total wall time: 0:00:00\n",
      "Total wall time: 0:00:00\n",
      "Total wall time: 0:00:00\n",
      "Total wall time: 0:00:00\n",
      "Total wall time: 0:00:00\n"
     ]
    },
    {
     "name": "stderr",
     "output_type": "stream",
     "text": [
      "16:32:38 - mcmc.calculators | INFO: None\n",
      "16:32:38 - mcmc.calculators | INFO: None\n",
      "16:32:38 - mcmc.calculators | INFO: None\n",
      "16:32:38 - mcmc.calculators | INFO: None\n",
      "16:32:38 - mcmc.calculators | INFO: None\n",
      "16:32:38 - mcmc.calculators | INFO: None\n",
      "16:32:38 - mcmc.calculators | INFO: None\n",
      "16:32:38 - mcmc.calculators | INFO: None\n",
      "16:32:38 - mcmc.calculators | INFO: None\n",
      "16:32:38 - mcmc.calculators | INFO: None\n",
      "16:32:38 - mcmc.calculators | INFO: None\n"
     ]
    },
    {
     "name": "stdout",
     "output_type": "stream",
     "text": [
      "Total wall time: 0:00:00\n",
      "Total wall time: 0:00:00\n",
      "Total wall time: 0:00:00\n",
      "Total wall time: 0:00:00\n",
      "Total wall time: 0:00:00\n",
      "Total wall time: 0:00:00\n",
      "Total wall time: 0:00:00\n",
      "Total wall time: 0:00:00\n",
      "Total wall time: 0:00:00\n",
      "Total wall time: 0:00:00\n",
      "Total wall time: 0:00:00\n"
     ]
    },
    {
     "name": "stderr",
     "output_type": "stream",
     "text": [
      "16:32:38 - mcmc.calculators | INFO: None\n",
      "16:32:38 - mcmc.calculators | INFO: None\n",
      "16:32:38 - mcmc.calculators | INFO: None\n",
      "16:32:38 - mcmc.calculators | INFO: None\n",
      "16:32:38 - mcmc.calculators | INFO: None\n",
      "16:32:38 - mcmc.calculators | INFO: None\n",
      "16:32:38 - mcmc.calculators | INFO: None\n",
      "16:32:38 - mcmc.calculators | INFO: None\n",
      "16:32:38 - mcmc.calculators | INFO: None\n",
      "16:32:38 - mcmc.calculators | INFO: None\n",
      "16:32:38 - mcmc.calculators | INFO: None\n",
      "16:32:38 - mcmc.calculators | INFO: None\n"
     ]
    },
    {
     "name": "stdout",
     "output_type": "stream",
     "text": [
      "Total wall time: 0:00:00\n",
      "Total wall time: 0:00:00\n",
      "Total wall time: 0:00:00\n",
      "Total wall time: 0:00:00\n",
      "Total wall time: 0:00:00\n",
      "Total wall time: 0:00:00\n",
      "Total wall time: 0:00:00\n",
      "Total wall time: 0:00:00\n",
      "Total wall time: 0:00:00\n",
      "Total wall time: 0:00:00\n",
      "Total wall time: 0:00:00\n",
      "Total wall time: 0:00:00\n"
     ]
    },
    {
     "name": "stderr",
     "output_type": "stream",
     "text": [
      "16:32:38 - mcmc.calculators | INFO: None\n",
      "16:32:38 - mcmc.calculators | INFO: None\n",
      "16:32:38 - mcmc.calculators | INFO: None\n",
      "16:32:38 - mcmc.calculators | INFO: None\n",
      "16:32:38 - mcmc.calculators | INFO: None\n",
      "16:32:39 - mcmc.calculators | INFO: None\n",
      "16:32:39 - mcmc.calculators | INFO: None\n",
      "16:32:39 - mcmc.calculators | INFO: None\n",
      "16:32:39 - mcmc.calculators | INFO: None\n",
      "16:32:39 - mcmc.calculators | INFO: None\n",
      "16:32:39 - mcmc.calculators | INFO: None\n",
      "16:32:39 - mcmc.calculators | INFO: None\n",
      "16:32:39 - mcmc.calculators | INFO: None\n",
      "16:32:39 - mcmc.calculators | INFO: None\n"
     ]
    },
    {
     "name": "stdout",
     "output_type": "stream",
     "text": [
      "Total wall time: 0:00:00\n",
      "Total wall time: 0:00:00\n",
      "Total wall time: 0:00:00\n",
      "Total wall time: 0:00:00\n",
      "Total wall time: 0:00:00\n",
      "Total wall time: 0:00:00\n",
      "Total wall time: 0:00:00\n",
      "Total wall time: 0:00:00\n",
      "Total wall time: 0:00:00\n",
      "Total wall time: 0:00:00\n",
      "Total wall time: 0:00:00\n",
      "Total wall time: 0:00:00\n",
      "Total wall time: 0:00:00\n",
      "Total wall time: 0:00:00\n"
     ]
    },
    {
     "name": "stderr",
     "output_type": "stream",
     "text": [
      "16:32:39 - mcmc.calculators | INFO: None\n",
      "16:32:39 - mcmc.calculators | INFO: None\n",
      "16:32:39 - mcmc.calculators | INFO: None\n",
      "16:32:39 - mcmc.calculators | INFO: None\n",
      "16:32:39 - mcmc.calculators | INFO: None\n",
      "16:32:39 - mcmc.calculators | INFO: None\n",
      "16:32:39 - mcmc.calculators | INFO: None\n",
      "16:32:39 - mcmc.calculators | INFO: None\n",
      "16:32:39 - mcmc.calculators | INFO: None\n",
      "16:32:39 - mcmc.calculators | INFO: None\n",
      "16:32:39 - mcmc.calculators | INFO: None\n",
      "16:32:39 - mcmc.calculators | INFO: None\n",
      "16:32:39 - mcmc.calculators | INFO: None\n",
      "16:32:39 - mcmc.calculators | INFO: None\n"
     ]
    },
    {
     "name": "stdout",
     "output_type": "stream",
     "text": [
      "Total wall time: 0:00:00\n",
      "Total wall time: 0:00:00\n",
      "Total wall time: 0:00:00\n",
      "Total wall time: 0:00:00\n",
      "Total wall time: 0:00:00\n",
      "Total wall time: 0:00:00\n",
      "Total wall time: 0:00:00\n",
      "Total wall time: 0:00:00\n",
      "Total wall time: 0:00:00\n",
      "Total wall time: 0:00:00\n",
      "Total wall time: 0:00:00\n",
      "Total wall time: 0:00:00\n",
      "Total wall time: 0:00:00\n",
      "Total wall time: 0:00:00\n"
     ]
    },
    {
     "name": "stderr",
     "output_type": "stream",
     "text": [
      "16:32:39 - mcmc.calculators | INFO: None\n",
      "16:32:39 - mcmc.calculators | INFO: None\n",
      "16:32:39 - mcmc.calculators | INFO: None\n",
      "16:32:39 - mcmc.calculators | INFO: None\n",
      "16:32:39 - mcmc.calculators | INFO: None\n",
      "16:32:39 - mcmc.calculators | INFO: None\n",
      "16:32:39 - mcmc.calculators | INFO: None\n",
      "16:32:39 - mcmc.calculators | INFO: None\n",
      "16:32:39 - mcmc.calculators | INFO: None\n",
      "16:32:39 - mcmc.calculators | INFO: None\n",
      "16:32:39 - mcmc.calculators | INFO: None\n",
      "16:32:39 - mcmc.calculators | INFO: None\n"
     ]
    },
    {
     "name": "stdout",
     "output_type": "stream",
     "text": [
      "Total wall time: 0:00:00\n",
      "Total wall time: 0:00:00\n",
      "Total wall time: 0:00:00\n",
      "Total wall time: 0:00:00\n",
      "Total wall time: 0:00:00\n",
      "Total wall time: 0:00:00\n",
      "Total wall time: 0:00:00\n",
      "Total wall time: 0:00:00\n",
      "Total wall time: 0:00:00\n",
      "Total wall time: 0:00:00\n",
      "Total wall time: 0:00:00\n",
      "Total wall time: 0:00:00\n"
     ]
    },
    {
     "name": "stderr",
     "output_type": "stream",
     "text": [
      "16:32:39 - mcmc.calculators | INFO: None\n",
      "16:32:39 - mcmc.calculators | INFO: None\n",
      "16:32:39 - mcmc.calculators | INFO: None\n",
      "16:32:39 - mcmc.calculators | INFO: None\n",
      "16:32:39 - mcmc.mcmc | INFO: At iter 832\n",
      "16:32:39 - mcmc.calculators | INFO: None\n",
      "16:32:39 - mcmc.calculators | INFO: None\n",
      "16:32:39 - mcmc.calculators | INFO: None\n",
      "16:32:39 - mcmc.system | INFO: Optimized structure has Energy = -178.515\n",
      "16:32:39 - mcmc.mcmc | INFO: In sweep 9 out of 10\n",
      "16:32:39 - mcmc.calculators | INFO: None\n",
      "16:32:39 - mcmc.calculators | INFO: None\n",
      "16:32:39 - mcmc.calculators | INFO: None\n",
      "16:32:39 - mcmc.calculators | INFO: None\n"
     ]
    },
    {
     "name": "stdout",
     "output_type": "stream",
     "text": [
      "Total wall time: 0:00:00\n",
      "Total wall time: 0:00:00\n",
      "Total wall time: 0:00:00\n",
      "Total wall time: 0:00:00\n",
      "Total wall time: 0:00:00\n",
      "Total wall time: 0:00:00\n",
      "Total wall time: 0:00:00\n",
      "Total wall time: 0:00:00\n",
      "Total wall time: 0:00:00\n",
      "Total wall time: 0:00:00\n",
      "Total wall time: 0:00:00\n"
     ]
    },
    {
     "name": "stderr",
     "output_type": "stream",
     "text": [
      "16:32:39 - mcmc.calculators | INFO: None\n",
      "16:32:39 - mcmc.calculators | INFO: None\n",
      "16:32:39 - mcmc.calculators | INFO: None\n",
      "16:32:39 - mcmc.calculators | INFO: None\n",
      "16:32:39 - mcmc.calculators | INFO: None\n",
      "16:32:39 - mcmc.calculators | INFO: None\n",
      "16:32:39 - mcmc.calculators | INFO: None\n",
      "16:32:39 - mcmc.calculators | INFO: None\n",
      "16:32:39 - mcmc.calculators | INFO: None\n",
      "16:32:39 - mcmc.calculators | INFO: None\n",
      "16:32:39 - mcmc.calculators | INFO: None\n",
      "16:32:39 - mcmc.calculators | INFO: None\n"
     ]
    },
    {
     "name": "stdout",
     "output_type": "stream",
     "text": [
      "Total wall time: 0:00:00\n",
      "Total wall time: 0:00:00\n",
      "Total wall time: 0:00:00\n",
      "Total wall time: 0:00:00\n",
      "Total wall time: 0:00:00\n",
      "Total wall time: 0:00:00\n",
      "Total wall time: 0:00:00\n",
      "Total wall time: 0:00:00\n",
      "Total wall time: 0:00:00\n",
      "Total wall time: 0:00:00\n",
      "Total wall time: 0:00:00\n",
      "Total wall time: 0:00:00\n"
     ]
    },
    {
     "name": "stderr",
     "output_type": "stream",
     "text": [
      "16:32:39 - mcmc.calculators | INFO: None\n",
      "16:32:39 - mcmc.calculators | INFO: None\n",
      "16:32:40 - mcmc.calculators | INFO: None\n",
      "16:32:40 - mcmc.calculators | INFO: None\n",
      "16:32:40 - mcmc.calculators | INFO: None\n",
      "16:32:40 - mcmc.calculators | INFO: None\n",
      "16:32:40 - mcmc.calculators | INFO: None\n",
      "16:32:40 - mcmc.calculators | INFO: None\n",
      "16:32:40 - mcmc.calculators | INFO: None\n",
      "16:32:40 - mcmc.calculators | INFO: None\n",
      "16:32:40 - mcmc.calculators | INFO: None\n",
      "16:32:40 - mcmc.calculators | INFO: None\n"
     ]
    },
    {
     "name": "stdout",
     "output_type": "stream",
     "text": [
      "Total wall time: 0:00:00\n",
      "Total wall time: 0:00:00\n",
      "Total wall time: 0:00:00\n",
      "Total wall time: 0:00:00\n",
      "Total wall time: 0:00:00\n",
      "Total wall time: 0:00:00\n",
      "Total wall time: 0:00:00\n",
      "Total wall time: 0:00:00\n",
      "Total wall time: 0:00:00\n",
      "Total wall time: 0:00:00\n",
      "Total wall time: 0:00:00\n",
      "Total wall time: 0:00:00\n"
     ]
    },
    {
     "name": "stderr",
     "output_type": "stream",
     "text": [
      "16:32:40 - mcmc.calculators | INFO: None\n",
      "16:32:40 - mcmc.calculators | INFO: None\n",
      "16:32:40 - mcmc.calculators | INFO: None\n",
      "16:32:40 - mcmc.calculators | INFO: None\n",
      "16:32:40 - mcmc.calculators | INFO: None\n",
      "16:32:40 - mcmc.calculators | INFO: None\n",
      "16:32:40 - mcmc.calculators | INFO: None\n",
      "16:32:40 - mcmc.calculators | INFO: None\n",
      "16:32:40 - mcmc.calculators | INFO: None\n",
      "16:32:40 - mcmc.calculators | INFO: None\n"
     ]
    },
    {
     "name": "stdout",
     "output_type": "stream",
     "text": [
      "Total wall time: 0:00:00\n",
      "Total wall time: 0:00:00\n",
      "Total wall time: 0:00:00\n",
      "Total wall time: 0:00:00\n",
      "Total wall time: 0:00:00\n",
      "Total wall time: 0:00:00\n",
      "Total wall time: 0:00:00\n",
      "Total wall time: 0:00:00\n",
      "Total wall time: 0:00:00\n",
      "Total wall time: 0:00:00\n"
     ]
    },
    {
     "name": "stderr",
     "output_type": "stream",
     "text": [
      "16:32:40 - mcmc.calculators | INFO: None\n",
      "16:32:40 - mcmc.calculators | INFO: None\n",
      "16:32:40 - mcmc.calculators | INFO: None\n",
      "16:32:40 - mcmc.calculators | INFO: None\n",
      "16:32:40 - mcmc.calculators | INFO: None\n",
      "16:32:40 - mcmc.calculators | INFO: None\n",
      "16:32:40 - mcmc.calculators | INFO: None\n",
      "16:32:40 - mcmc.calculators | INFO: None\n",
      "16:32:40 - mcmc.calculators | INFO: None\n",
      "16:32:40 - mcmc.calculators | INFO: None\n"
     ]
    },
    {
     "name": "stdout",
     "output_type": "stream",
     "text": [
      "Total wall time: 0:00:00\n",
      "Total wall time: 0:00:00\n",
      "Total wall time: 0:00:00\n",
      "Total wall time: 0:00:00\n",
      "Total wall time: 0:00:00\n",
      "Total wall time: 0:00:00\n",
      "Total wall time: 0:00:00\n",
      "Total wall time: 0:00:00\n",
      "Total wall time: 0:00:00\n",
      "Total wall time: 0:00:00\n"
     ]
    },
    {
     "name": "stderr",
     "output_type": "stream",
     "text": [
      "16:32:40 - mcmc.calculators | INFO: None\n",
      "16:32:40 - mcmc.calculators | INFO: None\n",
      "16:32:40 - mcmc.calculators | INFO: None\n",
      "16:32:40 - mcmc.calculators | INFO: None\n",
      "16:32:40 - mcmc.calculators | INFO: None\n",
      "16:32:40 - mcmc.calculators | INFO: None\n",
      "16:32:40 - mcmc.calculators | INFO: None\n",
      "16:32:40 - mcmc.calculators | INFO: None\n",
      "16:32:40 - mcmc.calculators | INFO: None\n",
      "16:32:40 - mcmc.calculators | INFO: None\n",
      "16:32:40 - mcmc.calculators | INFO: None\n"
     ]
    },
    {
     "name": "stdout",
     "output_type": "stream",
     "text": [
      "Total wall time: 0:00:00\n",
      "Total wall time: 0:00:00\n",
      "Total wall time: 0:00:00\n",
      "Total wall time: 0:00:00\n",
      "Total wall time: 0:00:00\n",
      "Total wall time: 0:00:00\n",
      "Total wall time: 0:00:00\n",
      "Total wall time: 0:00:00\n",
      "Total wall time: 0:00:00\n",
      "Total wall time: 0:00:00\n",
      "Total wall time: 0:00:00\n"
     ]
    },
    {
     "name": "stderr",
     "output_type": "stream",
     "text": [
      "16:32:40 - mcmc.calculators | INFO: None\n",
      "16:32:40 - mcmc.calculators | INFO: None\n",
      "16:32:40 - mcmc.calculators | INFO: None\n",
      "16:32:40 - mcmc.calculators | INFO: None\n",
      "16:32:40 - mcmc.calculators | INFO: None\n",
      "16:32:40 - mcmc.calculators | INFO: None\n",
      "16:32:40 - mcmc.calculators | INFO: None\n",
      "16:32:40 - mcmc.calculators | INFO: None\n",
      "16:32:40 - mcmc.calculators | INFO: None\n",
      "16:32:41 - mcmc.calculators | INFO: None\n"
     ]
    },
    {
     "name": "stdout",
     "output_type": "stream",
     "text": [
      "Total wall time: 0:00:00\n",
      "Total wall time: 0:00:00\n",
      "Total wall time: 0:00:00\n",
      "Total wall time: 0:00:00\n",
      "Total wall time: 0:00:00\n",
      "Total wall time: 0:00:00\n",
      "Total wall time: 0:00:00\n",
      "Total wall time: 0:00:00\n",
      "Total wall time: 0:00:00\n",
      "Total wall time: 0:00:00\n"
     ]
    },
    {
     "name": "stderr",
     "output_type": "stream",
     "text": [
      "16:32:41 - mcmc.calculators | INFO: None\n",
      "16:32:41 - mcmc.calculators | INFO: None\n",
      "16:32:41 - mcmc.calculators | INFO: None\n",
      "16:32:41 - mcmc.calculators | INFO: None\n",
      "16:32:41 - mcmc.calculators | INFO: None\n",
      "16:32:41 - mcmc.calculators | INFO: None\n",
      "16:32:41 - mcmc.calculators | INFO: None\n",
      "16:32:41 - mcmc.calculators | INFO: None\n",
      "16:32:41 - mcmc.calculators | INFO: None\n",
      "16:32:41 - mcmc.calculators | INFO: None\n",
      "16:32:41 - mcmc.calculators | INFO: None\n"
     ]
    },
    {
     "name": "stdout",
     "output_type": "stream",
     "text": [
      "Total wall time: 0:00:00\n",
      "Total wall time: 0:00:00\n",
      "Total wall time: 0:00:00\n",
      "Total wall time: 0:00:00\n",
      "Total wall time: 0:00:00\n",
      "Total wall time: 0:00:00\n",
      "Total wall time: 0:00:00\n",
      "Total wall time: 0:00:00\n",
      "Total wall time: 0:00:00\n",
      "Total wall time: 0:00:00\n",
      "Total wall time: 0:00:00\n"
     ]
    },
    {
     "name": "stderr",
     "output_type": "stream",
     "text": [
      "16:32:41 - mcmc.calculators | INFO: None\n",
      "16:32:41 - mcmc.calculators | INFO: None\n",
      "16:32:41 - mcmc.calculators | INFO: None\n",
      "16:32:41 - mcmc.calculators | INFO: None\n",
      "16:32:41 - mcmc.calculators | INFO: None\n",
      "16:32:41 - mcmc.calculators | INFO: None\n",
      "16:32:41 - mcmc.calculators | INFO: None\n",
      "16:32:41 - mcmc.calculators | INFO: None\n",
      "16:32:41 - mcmc.calculators | INFO: None\n",
      "16:32:41 - mcmc.calculators | INFO: None\n",
      "16:32:41 - mcmc.calculators | INFO: None\n",
      "16:32:41 - mcmc.calculators | INFO: None\n"
     ]
    },
    {
     "name": "stdout",
     "output_type": "stream",
     "text": [
      "Total wall time: 0:00:00\n",
      "Total wall time: 0:00:00\n",
      "Total wall time: 0:00:00\n",
      "Total wall time: 0:00:00\n",
      "Total wall time: 0:00:00\n",
      "Total wall time: 0:00:00\n",
      "Total wall time: 0:00:00\n",
      "Total wall time: 0:00:00\n",
      "Total wall time: 0:00:00\n",
      "Total wall time: 0:00:00\n",
      "Total wall time: 0:00:00\n",
      "Total wall time: 0:00:00\n"
     ]
    },
    {
     "name": "stderr",
     "output_type": "stream",
     "text": [
      "16:32:41 - mcmc.calculators | INFO: None\n",
      "16:32:41 - mcmc.calculators | INFO: None\n",
      "16:32:41 - mcmc.calculators | INFO: None\n",
      "16:32:41 - mcmc.calculators | INFO: None\n",
      "16:32:41 - mcmc.calculators | INFO: None\n",
      "16:32:41 - mcmc.calculators | INFO: None\n",
      "16:32:41 - mcmc.calculators | INFO: None\n",
      "16:32:41 - mcmc.calculators | INFO: None\n",
      "16:32:41 - mcmc.calculators | INFO: None\n",
      "16:32:41 - mcmc.calculators | INFO: None\n",
      "16:32:41 - mcmc.calculators | INFO: None\n",
      "16:32:41 - mcmc.calculators | INFO: None\n"
     ]
    },
    {
     "name": "stdout",
     "output_type": "stream",
     "text": [
      "Total wall time: 0:00:00\n",
      "Total wall time: 0:00:00\n",
      "Total wall time: 0:00:00\n",
      "Total wall time: 0:00:00\n",
      "Total wall time: 0:00:00\n",
      "Total wall time: 0:00:00\n",
      "Total wall time: 0:00:00\n",
      "Total wall time: 0:00:00\n",
      "Total wall time: 0:00:00\n",
      "Total wall time: 0:00:00\n",
      "Total wall time: 0:00:00\n",
      "Total wall time: 0:00:00\n"
     ]
    },
    {
     "name": "stderr",
     "output_type": "stream",
     "text": [
      "16:32:41 - mcmc.calculators | INFO: None\n",
      "16:32:41 - mcmc.calculators | INFO: None\n",
      "16:32:41 - mcmc.calculators | INFO: None\n",
      "16:32:41 - mcmc.calculators | INFO: None\n",
      "16:32:41 - mcmc.calculators | INFO: None\n",
      "16:32:41 - mcmc.calculators | INFO: None\n",
      "16:32:41 - mcmc.calculators | INFO: None\n",
      "16:32:41 - mcmc.calculators | INFO: None\n",
      "16:32:41 - mcmc.calculators | INFO: None\n",
      "16:32:41 - mcmc.calculators | INFO: None\n",
      "16:32:41 - mcmc.calculators | INFO: None\n",
      "16:32:41 - mcmc.calculators | INFO: None\n"
     ]
    },
    {
     "name": "stdout",
     "output_type": "stream",
     "text": [
      "Total wall time: 0:00:00\n",
      "Total wall time: 0:00:00\n",
      "Total wall time: 0:00:00\n",
      "Total wall time: 0:00:00\n",
      "Total wall time: 0:00:00\n",
      "Total wall time: 0:00:00\n",
      "Total wall time: 0:00:00\n",
      "Total wall time: 0:00:00\n",
      "Total wall time: 0:00:00\n",
      "Total wall time: 0:00:00\n",
      "Total wall time: 0:00:00\n",
      "Total wall time: 0:00:00\n"
     ]
    },
    {
     "name": "stderr",
     "output_type": "stream",
     "text": [
      "16:32:41 - mcmc.calculators | INFO: None\n",
      "16:32:41 - mcmc.calculators | INFO: None\n",
      "16:32:41 - mcmc.calculators | INFO: None\n",
      "16:32:41 - mcmc.calculators | INFO: None\n",
      "16:32:41 - mcmc.calculators | INFO: None\n",
      "16:32:41 - mcmc.calculators | INFO: None\n",
      "16:32:41 - mcmc.calculators | INFO: None\n",
      "16:32:41 - mcmc.calculators | INFO: None\n",
      "16:32:41 - mcmc.calculators | INFO: None\n",
      "16:32:41 - mcmc.calculators | INFO: None\n",
      "16:32:42 - mcmc.calculators | INFO: None\n",
      "16:32:42 - mcmc.calculators | INFO: None\n",
      "16:32:42 - mcmc.calculators | INFO: None\n",
      "16:32:42 - mcmc.calculators | INFO: None\n"
     ]
    },
    {
     "name": "stdout",
     "output_type": "stream",
     "text": [
      "Total wall time: 0:00:00\n",
      "Total wall time: 0:00:00\n",
      "Total wall time: 0:00:00\n",
      "Total wall time: 0:00:00\n",
      "Total wall time: 0:00:00\n",
      "Total wall time: 0:00:00\n",
      "Total wall time: 0:00:00\n",
      "Total wall time: 0:00:00\n",
      "Total wall time: 0:00:00\n",
      "Total wall time: 0:00:00\n",
      "Total wall time: 0:00:00\n",
      "Total wall time: 0:00:00\n",
      "Total wall time: 0:00:00\n",
      "Total wall time: 0:00:00\n"
     ]
    },
    {
     "name": "stderr",
     "output_type": "stream",
     "text": [
      "16:32:42 - mcmc.calculators | INFO: None\n",
      "16:32:42 - mcmc.calculators | INFO: None\n",
      "16:32:42 - mcmc.calculators | INFO: None\n",
      "16:32:42 - mcmc.calculators | INFO: None\n",
      "16:32:42 - mcmc.calculators | INFO: None\n",
      "16:32:42 - mcmc.calculators | INFO: None\n",
      "16:32:42 - mcmc.calculators | INFO: None\n",
      "16:32:42 - mcmc.calculators | INFO: None\n",
      "16:32:42 - mcmc.calculators | INFO: None\n",
      "16:32:42 - mcmc.calculators | INFO: None\n",
      "16:32:42 - mcmc.calculators | INFO: None\n",
      "16:32:42 - mcmc.calculators | INFO: None\n"
     ]
    },
    {
     "name": "stdout",
     "output_type": "stream",
     "text": [
      "Total wall time: 0:00:00\n",
      "Total wall time: 0:00:00\n",
      "Total wall time: 0:00:00\n",
      "Total wall time: 0:00:00\n",
      "Total wall time: 0:00:00\n",
      "Total wall time: 0:00:00\n",
      "Total wall time: 0:00:00\n",
      "Total wall time: 0:00:00\n",
      "Total wall time: 0:00:00\n",
      "Total wall time: 0:00:00\n",
      "Total wall time: 0:00:00\n",
      "Total wall time: 0:00:00\n"
     ]
    },
    {
     "name": "stderr",
     "output_type": "stream",
     "text": [
      "16:32:42 - mcmc.calculators | INFO: None\n",
      "16:32:42 - mcmc.calculators | INFO: None\n",
      "16:32:42 - mcmc.calculators | INFO: None\n",
      "16:32:42 - mcmc.calculators | INFO: None\n",
      "16:32:42 - mcmc.calculators | INFO: None\n",
      "16:32:42 - mcmc.calculators | INFO: None\n",
      "16:32:42 - mcmc.calculators | INFO: None\n",
      "16:32:42 - mcmc.calculators | INFO: None\n",
      "16:32:42 - mcmc.calculators | INFO: None\n",
      "16:32:42 - mcmc.calculators | INFO: None\n",
      "16:32:42 - mcmc.calculators | INFO: None\n",
      "16:32:42 - mcmc.calculators | INFO: None\n"
     ]
    },
    {
     "name": "stdout",
     "output_type": "stream",
     "text": [
      "Total wall time: 0:00:00\n",
      "Total wall time: 0:00:00\n",
      "Total wall time: 0:00:00\n",
      "Total wall time: 0:00:00\n",
      "Total wall time: 0:00:00\n",
      "Total wall time: 0:00:00\n",
      "Total wall time: 0:00:00\n",
      "Total wall time: 0:00:00\n",
      "Total wall time: 0:00:00\n",
      "Total wall time: 0:00:00\n",
      "Total wall time: 0:00:00\n",
      "Total wall time: 0:00:00\n"
     ]
    },
    {
     "name": "stderr",
     "output_type": "stream",
     "text": [
      "16:32:42 - mcmc.calculators | INFO: None\n",
      "16:32:42 - mcmc.calculators | INFO: None\n",
      "16:32:42 - mcmc.calculators | INFO: None\n",
      "16:32:42 - mcmc.calculators | INFO: None\n",
      "16:32:42 - mcmc.calculators | INFO: None\n",
      "16:32:42 - mcmc.calculators | INFO: None\n",
      "16:32:42 - mcmc.calculators | INFO: None\n",
      "16:32:42 - mcmc.calculators | INFO: None\n",
      "16:32:42 - mcmc.calculators | INFO: None\n",
      "16:32:42 - mcmc.calculators | INFO: None\n",
      "16:32:42 - mcmc.calculators | INFO: None\n"
     ]
    },
    {
     "name": "stdout",
     "output_type": "stream",
     "text": [
      "Total wall time: 0:00:00\n",
      "Total wall time: 0:00:00\n",
      "Total wall time: 0:00:00\n",
      "Total wall time: 0:00:00\n",
      "Total wall time: 0:00:00\n",
      "Total wall time: 0:00:00\n",
      "Total wall time: 0:00:00\n",
      "Total wall time: 0:00:00\n",
      "Total wall time: 0:00:00\n",
      "Total wall time: 0:00:00\n"
     ]
    },
    {
     "name": "stderr",
     "output_type": "stream",
     "text": [
      "16:32:42 - mcmc.calculators | INFO: None\n",
      "16:32:42 - mcmc.calculators | INFO: None\n",
      "16:32:42 - mcmc.calculators | INFO: None\n",
      "16:32:42 - mcmc.calculators | INFO: None\n",
      "16:32:42 - mcmc.calculators | INFO: None\n",
      "16:32:42 - mcmc.calculators | INFO: None\n",
      "16:32:42 - mcmc.calculators | INFO: None\n",
      "16:32:42 - mcmc.calculators | INFO: None\n",
      "16:32:42 - mcmc.calculators | INFO: None\n"
     ]
    },
    {
     "name": "stdout",
     "output_type": "stream",
     "text": [
      "Total wall time: 0:00:00\n",
      "Total wall time: 0:00:00\n",
      "Total wall time: 0:00:00\n",
      "Total wall time: 0:00:00\n",
      "Total wall time: 0:00:00\n",
      "Total wall time: 0:00:00\n",
      "Total wall time: 0:00:00\n",
      "Total wall time: 0:00:00\n",
      "Total wall time: 0:00:00\n",
      "Total wall time: 0:00:00\n"
     ]
    },
    {
     "name": "stderr",
     "output_type": "stream",
     "text": [
      "16:32:42 - mcmc.calculators | INFO: None\n",
      "16:32:42 - mcmc.calculators | INFO: None\n",
      "16:32:42 - mcmc.calculators | INFO: None\n",
      "16:32:42 - mcmc.calculators | INFO: None\n",
      "16:32:43 - mcmc.calculators | INFO: None\n",
      "16:32:43 - mcmc.calculators | INFO: None\n",
      "16:32:43 - mcmc.calculators | INFO: None\n",
      "16:32:43 - mcmc.calculators | INFO: None\n",
      "16:32:43 - mcmc.calculators | INFO: None\n",
      "16:32:43 - mcmc.calculators | INFO: None\n",
      "16:32:43 - mcmc.calculators | INFO: None\n",
      "16:32:43 - mcmc.calculators | INFO: None\n"
     ]
    },
    {
     "name": "stdout",
     "output_type": "stream",
     "text": [
      "Total wall time: 0:00:00\n",
      "Total wall time: 0:00:00\n",
      "Total wall time: 0:00:00\n",
      "Total wall time: 0:00:00\n",
      "Total wall time: 0:00:00\n",
      "Total wall time: 0:00:00\n",
      "Total wall time: 0:00:00\n",
      "Total wall time: 0:00:00\n",
      "Total wall time: 0:00:00\n",
      "Total wall time: 0:00:00\n",
      "Total wall time: 0:00:00\n",
      "Total wall time: 0:00:00\n"
     ]
    },
    {
     "name": "stderr",
     "output_type": "stream",
     "text": [
      "16:32:43 - mcmc.calculators | INFO: None\n",
      "16:32:43 - mcmc.calculators | INFO: None\n",
      "16:32:43 - mcmc.calculators | INFO: None\n",
      "16:32:43 - mcmc.calculators | INFO: None\n",
      "16:32:43 - mcmc.calculators | INFO: None\n",
      "16:32:43 - mcmc.calculators | INFO: None\n",
      "16:32:43 - mcmc.calculators | INFO: None\n",
      "16:32:43 - mcmc.calculators | INFO: None\n",
      "16:32:43 - mcmc.calculators | INFO: None\n",
      "16:32:43 - mcmc.calculators | INFO: None\n",
      "16:32:43 - mcmc.calculators | INFO: None\n",
      "16:32:43 - mcmc.calculators | INFO: None\n"
     ]
    },
    {
     "name": "stdout",
     "output_type": "stream",
     "text": [
      "Total wall time: 0:00:00\n",
      "Total wall time: 0:00:00\n",
      "Total wall time: 0:00:00\n",
      "Total wall time: 0:00:00\n",
      "Total wall time: 0:00:00\n",
      "Total wall time: 0:00:00\n",
      "Total wall time: 0:00:00\n",
      "Total wall time: 0:00:00\n",
      "Total wall time: 0:00:00\n",
      "Total wall time: 0:00:00\n",
      "Total wall time: 0:00:00\n",
      "Total wall time: 0:00:00\n"
     ]
    },
    {
     "name": "stderr",
     "output_type": "stream",
     "text": [
      "16:32:43 - mcmc.calculators | INFO: None\n",
      "16:32:43 - mcmc.calculators | INFO: None\n",
      "16:32:43 - mcmc.calculators | INFO: None\n",
      "16:32:43 - mcmc.calculators | INFO: None\n",
      "16:32:43 - mcmc.calculators | INFO: None\n",
      "16:32:43 - mcmc.calculators | INFO: None\n",
      "16:32:43 - mcmc.calculators | INFO: None\n",
      "16:32:43 - mcmc.calculators | INFO: None\n",
      "16:32:43 - mcmc.mcmc | INFO: At iter 936\n",
      "16:32:43 - mcmc.calculators | INFO: None\n",
      "16:32:43 - mcmc.calculators | INFO: None\n",
      "16:32:43 - mcmc.calculators | INFO: None\n",
      "16:32:43 - mcmc.system | INFO: Optimized structure has Energy = -178.066\n",
      "16:32:43 - mcmc.mcmc | INFO: In sweep 10 out of 10\n"
     ]
    },
    {
     "name": "stdout",
     "output_type": "stream",
     "text": [
      "Total wall time: 0:00:00\n",
      "Total wall time: 0:00:00\n",
      "Total wall time: 0:00:00\n",
      "Total wall time: 0:00:00\n",
      "Total wall time: 0:00:00\n",
      "Total wall time: 0:00:00\n",
      "Total wall time: 0:00:00\n",
      "Total wall time: 0:00:00\n",
      "Total wall time: 0:00:00\n",
      "Total wall time: 0:00:00\n",
      "Total wall time: 0:00:00\n"
     ]
    },
    {
     "name": "stderr",
     "output_type": "stream",
     "text": [
      "16:32:43 - mcmc.calculators | INFO: None\n",
      "16:32:43 - mcmc.calculators | INFO: None\n",
      "16:32:43 - mcmc.calculators | INFO: None\n",
      "16:32:43 - mcmc.calculators | INFO: None\n",
      "16:32:43 - mcmc.calculators | INFO: None\n",
      "16:32:43 - mcmc.calculators | INFO: None\n",
      "16:32:43 - mcmc.calculators | INFO: None\n",
      "16:32:43 - mcmc.calculators | INFO: None\n",
      "16:32:43 - mcmc.calculators | INFO: None\n",
      "16:32:43 - mcmc.calculators | INFO: None\n",
      "16:32:43 - mcmc.calculators | INFO: None\n",
      "16:32:43 - mcmc.calculators | INFO: None\n"
     ]
    },
    {
     "name": "stdout",
     "output_type": "stream",
     "text": [
      "Total wall time: 0:00:00\n",
      "Total wall time: 0:00:00\n",
      "Total wall time: 0:00:00\n",
      "Total wall time: 0:00:00\n",
      "Total wall time: 0:00:00\n",
      "Total wall time: 0:00:00\n",
      "Total wall time: 0:00:00\n",
      "Total wall time: 0:00:00\n",
      "Total wall time: 0:00:00\n",
      "Total wall time: 0:00:00\n",
      "Total wall time: 0:00:00\n",
      "Total wall time: 0:00:00\n"
     ]
    },
    {
     "name": "stderr",
     "output_type": "stream",
     "text": [
      "16:32:43 - mcmc.calculators | INFO: None\n",
      "16:32:43 - mcmc.calculators | INFO: None\n",
      "16:32:43 - mcmc.calculators | INFO: None\n",
      "16:32:43 - mcmc.calculators | INFO: None\n",
      "16:32:43 - mcmc.calculators | INFO: None\n",
      "16:32:43 - mcmc.calculators | INFO: None\n",
      "16:32:43 - mcmc.calculators | INFO: None\n",
      "16:32:43 - mcmc.calculators | INFO: None\n",
      "16:32:43 - mcmc.calculators | INFO: None\n",
      "16:32:43 - mcmc.calculators | INFO: None\n",
      "16:32:44 - mcmc.calculators | INFO: None\n",
      "16:32:44 - mcmc.calculators | INFO: None\n"
     ]
    },
    {
     "name": "stdout",
     "output_type": "stream",
     "text": [
      "Total wall time: 0:00:00\n",
      "Total wall time: 0:00:00\n",
      "Total wall time: 0:00:00\n",
      "Total wall time: 0:00:00\n",
      "Total wall time: 0:00:00\n",
      "Total wall time: 0:00:00\n",
      "Total wall time: 0:00:00\n",
      "Total wall time: 0:00:00\n",
      "Total wall time: 0:00:00\n",
      "Total wall time: 0:00:00\n",
      "Total wall time: 0:00:00\n",
      "Total wall time: 0:00:00\n"
     ]
    },
    {
     "name": "stderr",
     "output_type": "stream",
     "text": [
      "16:32:44 - mcmc.calculators | INFO: None\n",
      "16:32:44 - mcmc.calculators | INFO: None\n",
      "16:32:44 - mcmc.calculators | INFO: None\n",
      "16:32:44 - mcmc.calculators | INFO: None\n",
      "16:32:44 - mcmc.calculators | INFO: None\n",
      "16:32:44 - mcmc.calculators | INFO: None\n",
      "16:32:44 - mcmc.calculators | INFO: None\n",
      "16:32:44 - mcmc.calculators | INFO: None\n",
      "16:32:44 - mcmc.calculators | INFO: None\n",
      "16:32:44 - mcmc.calculators | INFO: None\n",
      "16:32:44 - mcmc.calculators | INFO: None\n",
      "16:32:44 - mcmc.calculators | INFO: None\n"
     ]
    },
    {
     "name": "stdout",
     "output_type": "stream",
     "text": [
      "Total wall time: 0:00:00\n",
      "Total wall time: 0:00:00\n",
      "Total wall time: 0:00:00\n",
      "Total wall time: 0:00:00\n",
      "Total wall time: 0:00:00\n",
      "Total wall time: 0:00:00\n",
      "Total wall time: 0:00:00\n",
      "Total wall time: 0:00:00\n",
      "Total wall time: 0:00:00\n",
      "Total wall time: 0:00:00\n",
      "Total wall time: 0:00:00\n",
      "Total wall time: 0:00:00\n"
     ]
    },
    {
     "name": "stderr",
     "output_type": "stream",
     "text": [
      "16:32:44 - mcmc.calculators | INFO: None\n",
      "16:32:44 - mcmc.calculators | INFO: None\n",
      "16:32:44 - mcmc.calculators | INFO: None\n",
      "16:32:44 - mcmc.calculators | INFO: None\n",
      "16:32:44 - mcmc.calculators | INFO: None\n",
      "16:32:44 - mcmc.calculators | INFO: None\n",
      "16:32:44 - mcmc.calculators | INFO: None\n",
      "16:32:44 - mcmc.calculators | INFO: None\n",
      "16:32:44 - mcmc.calculators | INFO: None\n",
      "16:32:44 - mcmc.calculators | INFO: None\n",
      "16:32:44 - mcmc.calculators | INFO: None\n",
      "16:32:44 - mcmc.calculators | INFO: None\n",
      "16:32:44 - mcmc.calculators | INFO: None\n",
      "16:32:44 - mcmc.calculators | INFO: None\n"
     ]
    },
    {
     "name": "stdout",
     "output_type": "stream",
     "text": [
      "Total wall time: 0:00:00\n",
      "Total wall time: 0:00:00\n",
      "Total wall time: 0:00:00\n",
      "Total wall time: 0:00:00\n",
      "Total wall time: 0:00:00\n",
      "Total wall time: 0:00:00\n",
      "Total wall time: 0:00:00\n",
      "Total wall time: 0:00:00\n",
      "Total wall time: 0:00:00\n",
      "Total wall time: 0:00:00\n",
      "Total wall time: 0:00:00\n",
      "Total wall time: 0:00:00\n",
      "Total wall time: 0:00:00\n",
      "Total wall time: 0:00:00\n"
     ]
    },
    {
     "name": "stderr",
     "output_type": "stream",
     "text": [
      "16:32:44 - mcmc.calculators | INFO: None\n",
      "16:32:44 - mcmc.calculators | INFO: None\n",
      "16:32:44 - mcmc.calculators | INFO: None\n",
      "16:32:44 - mcmc.calculators | INFO: None\n",
      "16:32:44 - mcmc.calculators | INFO: None\n",
      "16:32:44 - mcmc.calculators | INFO: None\n",
      "16:32:44 - mcmc.calculators | INFO: None\n",
      "16:32:44 - mcmc.calculators | INFO: None\n",
      "16:32:44 - mcmc.calculators | INFO: None\n",
      "16:32:44 - mcmc.calculators | INFO: None\n",
      "16:32:44 - mcmc.calculators | INFO: None\n",
      "16:32:44 - mcmc.calculators | INFO: None\n",
      "16:32:44 - mcmc.calculators | INFO: None\n",
      "16:32:44 - mcmc.calculators | INFO: None\n"
     ]
    },
    {
     "name": "stdout",
     "output_type": "stream",
     "text": [
      "Total wall time: 0:00:00\n",
      "Total wall time: 0:00:00\n",
      "Total wall time: 0:00:00\n",
      "Total wall time: 0:00:00\n",
      "Total wall time: 0:00:00\n",
      "Total wall time: 0:00:00\n",
      "Total wall time: 0:00:00\n",
      "Total wall time: 0:00:00\n",
      "Total wall time: 0:00:00\n",
      "Total wall time: 0:00:00\n",
      "Total wall time: 0:00:00\n",
      "Total wall time: 0:00:00\n",
      "Total wall time: 0:00:00\n",
      "Total wall time: 0:00:00\n"
     ]
    },
    {
     "name": "stderr",
     "output_type": "stream",
     "text": [
      "16:32:44 - mcmc.calculators | INFO: None\n",
      "16:32:44 - mcmc.calculators | INFO: None\n",
      "16:32:44 - mcmc.calculators | INFO: None\n",
      "16:32:44 - mcmc.calculators | INFO: None\n",
      "16:32:44 - mcmc.calculators | INFO: None\n",
      "16:32:44 - mcmc.calculators | INFO: None\n",
      "16:32:44 - mcmc.calculators | INFO: None\n",
      "16:32:44 - mcmc.calculators | INFO: None\n",
      "16:32:44 - mcmc.calculators | INFO: None\n",
      "16:32:44 - mcmc.calculators | INFO: None\n",
      "16:32:44 - mcmc.calculators | INFO: None\n"
     ]
    },
    {
     "name": "stdout",
     "output_type": "stream",
     "text": [
      "Total wall time: 0:00:00\n",
      "Total wall time: 0:00:00\n",
      "Total wall time: 0:00:00\n",
      "Total wall time: 0:00:00\n",
      "Total wall time: 0:00:00\n",
      "Total wall time: 0:00:00\n",
      "Total wall time: 0:00:00\n",
      "Total wall time: 0:00:00\n",
      "Total wall time: 0:00:00\n",
      "Total wall time: 0:00:00\n",
      "Total wall time: 0:00:00\n"
     ]
    },
    {
     "name": "stderr",
     "output_type": "stream",
     "text": [
      "16:32:44 - mcmc.calculators | INFO: None\n",
      "16:32:44 - mcmc.calculators | INFO: None\n",
      "16:32:44 - mcmc.calculators | INFO: None\n",
      "16:32:44 - mcmc.calculators | INFO: None\n",
      "16:32:44 - mcmc.calculators | INFO: None\n",
      "16:32:45 - mcmc.calculators | INFO: None\n",
      "16:32:45 - mcmc.calculators | INFO: None\n",
      "16:32:45 - mcmc.calculators | INFO: None\n",
      "16:32:45 - mcmc.calculators | INFO: None\n",
      "16:32:45 - mcmc.calculators | INFO: None\n",
      "16:32:45 - mcmc.calculators | INFO: None\n"
     ]
    },
    {
     "name": "stdout",
     "output_type": "stream",
     "text": [
      "Total wall time: 0:00:00\n",
      "Total wall time: 0:00:00\n",
      "Total wall time: 0:00:00\n",
      "Total wall time: 0:00:00\n",
      "Total wall time: 0:00:00\n",
      "Total wall time: 0:00:00\n",
      "Total wall time: 0:00:00\n",
      "Total wall time: 0:00:00\n",
      "Total wall time: 0:00:00\n",
      "Total wall time: 0:00:00\n",
      "Total wall time: 0:00:00\n"
     ]
    },
    {
     "name": "stderr",
     "output_type": "stream",
     "text": [
      "16:32:45 - mcmc.calculators | INFO: None\n",
      "16:32:45 - mcmc.calculators | INFO: None\n",
      "16:32:45 - mcmc.calculators | INFO: None\n",
      "16:32:45 - mcmc.calculators | INFO: None\n",
      "16:32:45 - mcmc.calculators | INFO: None\n",
      "16:32:45 - mcmc.calculators | INFO: None\n",
      "16:32:45 - mcmc.calculators | INFO: None\n",
      "16:32:45 - mcmc.calculators | INFO: None\n",
      "16:32:45 - mcmc.calculators | INFO: None\n",
      "16:32:45 - mcmc.calculators | INFO: None\n",
      "16:32:45 - mcmc.calculators | INFO: None\n",
      "16:32:45 - mcmc.calculators | INFO: None\n",
      "16:32:45 - mcmc.calculators | INFO: None\n"
     ]
    },
    {
     "name": "stdout",
     "output_type": "stream",
     "text": [
      "Total wall time: 0:00:00\n",
      "Total wall time: 0:00:00\n",
      "Total wall time: 0:00:00\n",
      "Total wall time: 0:00:00\n",
      "Total wall time: 0:00:00\n",
      "Total wall time: 0:00:00\n",
      "Total wall time: 0:00:00\n",
      "Total wall time: 0:00:00\n",
      "Total wall time: 0:00:00\n",
      "Total wall time: 0:00:00\n",
      "Total wall time: 0:00:00\n",
      "Total wall time: 0:00:00\n",
      "Total wall time: 0:00:00\n"
     ]
    },
    {
     "name": "stderr",
     "output_type": "stream",
     "text": [
      "16:32:45 - mcmc.calculators | INFO: None\n",
      "16:32:45 - mcmc.calculators | INFO: None\n",
      "16:32:45 - mcmc.calculators | INFO: None\n",
      "16:32:45 - mcmc.calculators | INFO: None\n",
      "16:32:45 - mcmc.calculators | INFO: None\n",
      "16:32:45 - mcmc.calculators | INFO: None\n",
      "16:32:45 - mcmc.calculators | INFO: None\n",
      "16:32:45 - mcmc.calculators | INFO: None\n",
      "16:32:45 - mcmc.calculators | INFO: None\n",
      "16:32:45 - mcmc.calculators | INFO: None\n",
      "16:32:45 - mcmc.calculators | INFO: None\n",
      "16:32:45 - mcmc.calculators | INFO: None\n",
      "16:32:45 - mcmc.calculators | INFO: None\n",
      "16:32:45 - mcmc.calculators | INFO: None\n",
      "16:32:45 - mcmc.calculators | INFO: None\n"
     ]
    },
    {
     "name": "stdout",
     "output_type": "stream",
     "text": [
      "Total wall time: 0:00:00\n",
      "Total wall time: 0:00:00\n",
      "Total wall time: 0:00:00\n",
      "Total wall time: 0:00:00\n",
      "Total wall time: 0:00:00\n",
      "Total wall time: 0:00:00\n",
      "Total wall time: 0:00:00\n",
      "Total wall time: 0:00:00\n",
      "Total wall time: 0:00:00\n",
      "Total wall time: 0:00:00\n",
      "Total wall time: 0:00:00\n",
      "Total wall time: 0:00:00\n",
      "Total wall time: 0:00:00\n",
      "Total wall time: 0:00:00\n"
     ]
    },
    {
     "name": "stderr",
     "output_type": "stream",
     "text": [
      "16:32:45 - mcmc.calculators | INFO: None\n",
      "16:32:45 - mcmc.calculators | INFO: None\n",
      "16:32:45 - mcmc.calculators | INFO: None\n",
      "16:32:45 - mcmc.calculators | INFO: None\n",
      "16:32:45 - mcmc.calculators | INFO: None\n",
      "16:32:45 - mcmc.calculators | INFO: None\n",
      "16:32:45 - mcmc.calculators | INFO: None\n",
      "16:32:45 - mcmc.calculators | INFO: None\n",
      "16:32:45 - mcmc.calculators | INFO: None\n"
     ]
    },
    {
     "name": "stdout",
     "output_type": "stream",
     "text": [
      "Total wall time: 0:00:00\n",
      "Total wall time: 0:00:00\n",
      "Total wall time: 0:00:00\n",
      "Total wall time: 0:00:00\n",
      "Total wall time: 0:00:00\n",
      "Total wall time: 0:00:00\n",
      "Total wall time: 0:00:00\n",
      "Total wall time: 0:00:00\n",
      "Total wall time: 0:00:00\n",
      "Total wall time: 0:00:00\n"
     ]
    },
    {
     "name": "stderr",
     "output_type": "stream",
     "text": [
      "16:32:45 - mcmc.calculators | INFO: None\n",
      "16:32:45 - mcmc.calculators | INFO: None\n",
      "16:32:45 - mcmc.calculators | INFO: None\n",
      "16:32:45 - mcmc.calculators | INFO: None\n",
      "16:32:45 - mcmc.calculators | INFO: None\n",
      "16:32:45 - mcmc.calculators | INFO: None\n",
      "16:32:45 - mcmc.calculators | INFO: None\n",
      "16:32:45 - mcmc.calculators | INFO: None\n",
      "16:32:45 - mcmc.calculators | INFO: None\n",
      "16:32:45 - mcmc.calculators | INFO: None\n",
      "16:32:45 - mcmc.calculators | INFO: None\n"
     ]
    },
    {
     "name": "stdout",
     "output_type": "stream",
     "text": [
      "Total wall time: 0:00:00\n",
      "Total wall time: 0:00:00\n",
      "Total wall time: 0:00:00\n",
      "Total wall time: 0:00:00\n",
      "Total wall time: 0:00:00\n",
      "Total wall time: 0:00:00\n",
      "Total wall time: 0:00:00\n",
      "Total wall time: 0:00:00\n",
      "Total wall time: 0:00:00\n",
      "Total wall time: 0:00:00\n",
      "Total wall time: 0:00:00\n"
     ]
    },
    {
     "name": "stderr",
     "output_type": "stream",
     "text": [
      "16:32:45 - mcmc.calculators | INFO: None\n",
      "16:32:45 - mcmc.calculators | INFO: None\n",
      "16:32:46 - mcmc.calculators | INFO: None\n",
      "16:32:46 - mcmc.calculators | INFO: None\n",
      "16:32:46 - mcmc.calculators | INFO: None\n",
      "16:32:46 - mcmc.calculators | INFO: None\n",
      "16:32:46 - mcmc.calculators | INFO: None\n",
      "16:32:46 - mcmc.calculators | INFO: None\n",
      "16:32:46 - mcmc.calculators | INFO: None\n",
      "16:32:46 - mcmc.calculators | INFO: None\n",
      "16:32:46 - mcmc.calculators | INFO: None\n",
      "16:32:46 - mcmc.calculators | INFO: None\n",
      "16:32:46 - mcmc.calculators | INFO: None\n",
      "16:32:46 - mcmc.calculators | INFO: None\n"
     ]
    },
    {
     "name": "stdout",
     "output_type": "stream",
     "text": [
      "Total wall time: 0:00:00\n",
      "Total wall time: 0:00:00\n",
      "Total wall time: 0:00:00\n",
      "Total wall time: 0:00:00\n",
      "Total wall time: 0:00:00\n",
      "Total wall time: 0:00:00\n",
      "Total wall time: 0:00:00\n",
      "Total wall time: 0:00:00\n",
      "Total wall time: 0:00:00\n",
      "Total wall time: 0:00:00\n",
      "Total wall time: 0:00:00\n",
      "Total wall time: 0:00:00\n",
      "Total wall time: 0:00:00\n"
     ]
    },
    {
     "name": "stderr",
     "output_type": "stream",
     "text": [
      "16:32:46 - mcmc.calculators | INFO: None\n",
      "16:32:46 - mcmc.calculators | INFO: None\n",
      "16:32:46 - mcmc.calculators | INFO: None\n",
      "16:32:46 - mcmc.calculators | INFO: None\n",
      "16:32:46 - mcmc.calculators | INFO: None\n",
      "16:32:46 - mcmc.calculators | INFO: None\n",
      "16:32:46 - mcmc.calculators | INFO: None\n",
      "16:32:46 - mcmc.calculators | INFO: None\n",
      "16:32:46 - mcmc.calculators | INFO: None\n",
      "16:32:46 - mcmc.calculators | INFO: None\n",
      "16:32:46 - mcmc.calculators | INFO: None\n",
      "16:32:46 - mcmc.calculators | INFO: None\n"
     ]
    },
    {
     "name": "stdout",
     "output_type": "stream",
     "text": [
      "Total wall time: 0:00:00\n",
      "Total wall time: 0:00:00\n",
      "Total wall time: 0:00:00\n",
      "Total wall time: 0:00:00\n",
      "Total wall time: 0:00:00\n",
      "Total wall time: 0:00:00\n",
      "Total wall time: 0:00:00\n",
      "Total wall time: 0:00:00\n",
      "Total wall time: 0:00:00\n",
      "Total wall time: 0:00:00\n",
      "Total wall time: 0:00:00\n",
      "Total wall time: 0:00:00\n",
      "Total wall time: 0:00:00\n"
     ]
    },
    {
     "name": "stderr",
     "output_type": "stream",
     "text": [
      "16:32:46 - mcmc.calculators | INFO: None\n",
      "16:32:46 - mcmc.calculators | INFO: None\n",
      "16:32:46 - mcmc.calculators | INFO: None\n",
      "16:32:46 - mcmc.calculators | INFO: None\n",
      "16:32:46 - mcmc.calculators | INFO: None\n",
      "16:32:46 - mcmc.calculators | INFO: None\n",
      "16:32:46 - mcmc.calculators | INFO: None\n",
      "16:32:46 - mcmc.calculators | INFO: None\n",
      "16:32:46 - mcmc.calculators | INFO: None\n",
      "16:32:46 - mcmc.calculators | INFO: None\n",
      "16:32:46 - mcmc.calculators | INFO: None\n",
      "16:32:46 - mcmc.calculators | INFO: None\n",
      "16:32:46 - mcmc.calculators | INFO: None\n",
      "16:32:46 - mcmc.calculators | INFO: None\n"
     ]
    },
    {
     "name": "stdout",
     "output_type": "stream",
     "text": [
      "Total wall time: 0:00:00\n",
      "Total wall time: 0:00:00\n",
      "Total wall time: 0:00:00\n",
      "Total wall time: 0:00:00\n",
      "Total wall time: 0:00:00\n",
      "Total wall time: 0:00:00\n",
      "Total wall time: 0:00:00\n",
      "Total wall time: 0:00:00\n",
      "Total wall time: 0:00:00\n",
      "Total wall time: 0:00:00\n",
      "Total wall time: 0:00:00\n",
      "Total wall time: 0:00:00\n",
      "Total wall time: 0:00:00\n"
     ]
    },
    {
     "name": "stderr",
     "output_type": "stream",
     "text": [
      "16:32:46 - mcmc.calculators | INFO: None\n",
      "16:32:46 - mcmc.calculators | INFO: None\n",
      "16:32:46 - mcmc.calculators | INFO: None\n",
      "16:32:46 - mcmc.calculators | INFO: None\n",
      "16:32:46 - mcmc.calculators | INFO: None\n",
      "16:32:46 - mcmc.calculators | INFO: None\n",
      "16:32:46 - mcmc.calculators | INFO: None\n",
      "16:32:46 - mcmc.calculators | INFO: None\n",
      "16:32:46 - mcmc.calculators | INFO: None\n",
      "16:32:46 - mcmc.calculators | INFO: None\n",
      "16:32:46 - mcmc.calculators | INFO: None\n"
     ]
    },
    {
     "name": "stdout",
     "output_type": "stream",
     "text": [
      "Total wall time: 0:00:00\n",
      "Total wall time: 0:00:00\n",
      "Total wall time: 0:00:00\n",
      "Total wall time: 0:00:00\n",
      "Total wall time: 0:00:00\n",
      "Total wall time: 0:00:00\n",
      "Total wall time: 0:00:00\n",
      "Total wall time: 0:00:00\n",
      "Total wall time: 0:00:00\n",
      "Total wall time: 0:00:00\n",
      "Total wall time: 0:00:00\n",
      "Total wall time: 0:00:00\n"
     ]
    },
    {
     "name": "stderr",
     "output_type": "stream",
     "text": [
      "16:32:46 - mcmc.calculators | INFO: None\n",
      "16:32:46 - mcmc.calculators | INFO: None\n",
      "16:32:46 - mcmc.calculators | INFO: None\n",
      "16:32:46 - mcmc.calculators | INFO: None\n",
      "16:32:46 - mcmc.calculators | INFO: None\n",
      "16:32:46 - mcmc.calculators | INFO: None\n",
      "16:32:46 - mcmc.calculators | INFO: None\n",
      "16:32:46 - mcmc.calculators | INFO: None\n",
      "16:32:46 - mcmc.calculators | INFO: None\n",
      "16:32:46 - mcmc.calculators | INFO: None\n",
      "16:32:46 - mcmc.calculators | INFO: None\n",
      "16:32:47 - mcmc.calculators | INFO: None\n",
      "16:32:47 - mcmc.calculators | INFO: None\n"
     ]
    },
    {
     "name": "stdout",
     "output_type": "stream",
     "text": [
      "Total wall time: 0:00:00\n",
      "Total wall time: 0:00:00\n",
      "Total wall time: 0:00:00\n",
      "Total wall time: 0:00:00\n",
      "Total wall time: 0:00:00\n",
      "Total wall time: 0:00:00\n",
      "Total wall time: 0:00:00\n",
      "Total wall time: 0:00:00\n",
      "Total wall time: 0:00:00\n",
      "Total wall time: 0:00:00\n",
      "Total wall time: 0:00:00\n",
      "Total wall time: 0:00:00\n",
      "Total wall time: 0:00:00\n"
     ]
    },
    {
     "name": "stderr",
     "output_type": "stream",
     "text": [
      "16:32:47 - mcmc.calculators | INFO: None\n",
      "16:32:47 - mcmc.calculators | INFO: None\n",
      "16:32:47 - mcmc.calculators | INFO: None\n",
      "16:32:47 - mcmc.calculators | INFO: None\n",
      "16:32:47 - mcmc.calculators | INFO: None\n",
      "16:32:47 - mcmc.calculators | INFO: None\n",
      "16:32:47 - mcmc.calculators | INFO: None\n",
      "16:32:47 - mcmc.calculators | INFO: None\n",
      "16:32:47 - mcmc.mcmc | INFO: At iter 1040\n",
      "16:32:47 - mcmc.calculators | INFO: None\n",
      "16:32:47 - mcmc.calculators | INFO: None\n",
      "16:32:47 - mcmc.system | INFO: Optimized structure has Energy = -178.072\n"
     ]
    },
    {
     "name": "stdout",
     "output_type": "stream",
     "text": [
      "Total wall time: 0:00:00\n",
      "Total wall time: 0:00:00\n",
      "Total wall time: 0:00:00\n",
      "Total wall time: 0:00:00\n",
      "Total wall time: 0:00:00\n",
      "Total wall time: 0:00:00\n",
      "Total wall time: 0:00:00\n",
      "Total wall time: 0:00:00\n",
      "Total wall time: 0:00:00\n",
      "Total wall time: 0:00:00\n",
      "Time taken = 39.312 seconds\n"
     ]
    },
    {
     "data": {
      "image/png": "[encoded data removed]",
      "text/plain": [
       "<Figure size 2000x1000 with 1 Axes>"
      ]
     },
     "metadata": {},
     "output_type": "display_data"
    }
   ],
   "source": [
    "mcmc = MCMC(**sampling_settings)\n",
    "\n",
    "start = perf_counter()\n",
    "results = mcmc.run(\n",
    "    surface,\n",
    "    **sampling_settings,\n",
    ")\n",
    "stop = perf_counter()\n",
    "print(f\"Time taken = {stop - start:.3f} seconds\")"
   ]
  },
  {
   "cell_type": "markdown",
   "metadata": {},
   "source": [
    "Plot results"
   ]
  },
  {
   "cell_type": "code",
   "execution_count": 8,
   "metadata": {},
   "outputs": [
    {
     "data": {
      "image/png": "[encoded data removed]",
      "text/plain": [
       "<Figure size 3000x800 with 3 Axes>"
      ]
     },
     "metadata": {},
     "output_type": "display_data"
    }
   ],
   "source": [
    "fig = plot_summary_stats(\n",
    "    results[\"energy_hist\"],\n",
    "    results[\"frac_accept_hist\"],\n",
    "    results[\"adsorption_count_hist\"],\n",
    "    sampling_settings[\"total_sweeps\"],\n",
    "    save_folder=run_folder,\n",
    ")"
   ]
  },
  {
   "cell_type": "code",
   "execution_count": null,
   "metadata": {},
   "outputs": [],
   "source": []
  }
 ],
 "metadata": {
  "kernelspec": {
   "display_name": "Python 3.8.13 ('surface_sampling': conda)",
   "language": "python",
   "name": "python3"
  },
  "language_info": {
   "codemirror_mode": {
    "name": "ipython",
    "version": 3
   },
   "file_extension": ".py",
   "mimetype": "text/x-python",
   "name": "python",
   "nbconvert_exporter": "python",
   "pygments_lexer": "ipython3",
   "version": "3.11.6"
  },
  "orig_nbformat": 4,
  "vscode": {
   "interpreter": {
    "hash": "e3e0723b7fd9866ee8f9ae4f62931968cf8456ef2195b337b8930ae9f61708cf"
   }
  }
 },
 "nbformat": 4,
 "nbformat_minor": 2
}
