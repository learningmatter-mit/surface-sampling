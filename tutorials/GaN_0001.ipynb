{
 "cells": [
  {
   "cell_type": "code",
   "execution_count": 1,
   "metadata": {},
   "outputs": [],
   "source": [
    "%load_ext autoreload\n",
    "%autoreload 2"
   ]
  },
  {
   "cell_type": "code",
   "execution_count": 2,
   "metadata": {},
   "outputs": [],
   "source": [
    "import logging\n",
    "import pickle\n",
    "from pathlib import Path\n",
    "from time import perf_counter\n",
    "\n",
    "import numpy as np\n",
    "\n",
    "from mcmc import MCMC\n",
    "from mcmc.system import SurfaceSystem\n",
    "from mcmc.utils import setup_logger\n",
    "from mcmc.utils.plot import plot_summary_stats\n",
    "\n",
    "np.set_printoptions(precision=3, suppress=True)\n",
    "# uncomment and replace with correct path if there are errors with LAMMPS\n",
    "# os.environ[\"LAMMPS_POTENTIALS\"] = \"/path/to/lammps/potentials/\"\n",
    "# os.environ[\"LAMMPS_COMMAND\"] =\"/path/to/lammps/src/lmp_serial\"\n",
    "# os.environ[\"ASE_LAMMPSRUN_COMMAND\"] = os.environ[\"LAMMPS_COMMAND\"]"
   ]
  },
  {
   "attachments": {},
   "cell_type": "markdown",
   "metadata": {},
   "source": [
    "Initialize test slab and parameters"
   ]
  },
  {
   "cell_type": "code",
   "execution_count": 3,
   "metadata": {},
   "outputs": [],
   "source": [
    "# Initialize paths\n",
    "surface_name = \"GaN_0001\"\n",
    "run_folder = Path() / surface_name\n",
    "run_folder.mkdir(parents=True, exist_ok=True)\n",
    "\n",
    "# Initialize logger\n",
    "logger = setup_logger(\"mcmc\", run_folder / \"mc.log\", logging.INFO)\n",
    "logging.getLogger(\n",
    "    \"matplotlib.font_manager\"\n",
    ").disabled = True  # disable matplotlib font manager logging\n",
    "\n",
    "# Load prepared pristine slab\n",
    "try:\n",
    "    with open(\"data/GaN_0001/GaN_0001_3x3_pristine_slab.pkl\", \"rb\") as f:\n",
    "        slab = pickle.load(f)\n",
    "except FileNotFoundError as e:\n",
    "    print(\"Pristine surface pkl file not found. Please check you have downloaded the data.\")\n",
    "    raise e\n",
    "\n",
    "calc_settings = {\n",
    "    \"calc_name\": \"LAMMPS\",\n",
    "    \"optimizer\": \"LAMMPS\",\n",
    "    \"chem_pots\": {\"Ga\": 5},  # eV. arbitrary value\n",
    "    \"relax_atoms\": True,\n",
    "    \"relax_steps\": 100,\n",
    "    \"run_dir\": run_folder,\n",
    "}\n",
    "\n",
    "system_settings = {\n",
    "    \"surface_name\": surface_name,\n",
    "    \"surface_depth\": 1,\n",
    "    \"cutoff\": 5.0,\n",
    "    \"near_reduce\": 0.01,\n",
    "    \"planar_distance\": 1.5,\n",
    "    \"no_obtuse_hollow\": True,\n",
    "    \"ads_site_type\": \"all\",\n",
    "}\n",
    "\n",
    "sampling_settings = {\n",
    "    \"total_sweeps\": 10,\n",
    "    \"sweep_size\": 104,\n",
    "    \"start_temp\": 1.0,  # in terms of kbT\n",
    "    \"perform_annealing\": True,\n",
    "    \"alpha\": 0.99,  # slowly anneal\n",
    "    \"canonical\": True,\n",
    "    \"num_ads_atoms\": 12,\n",
    "    \"adsorbates\": [\"Ga\"],\n",
    "    \"run_folder\": run_folder,\n",
    "}"
   ]
  },
  {
   "attachments": {},
   "cell_type": "markdown",
   "metadata": {},
   "source": [
    "Set up LAMMPS (calculator). Requires a `lammps_config.json` and a `lammps_template.txt` in `run_dir`"
   ]
  },
  {
   "cell_type": "code",
   "execution_count": 4,
   "metadata": {},
   "outputs": [
    {
     "name": "stderr",
     "output_type": "stream",
     "text": [
      "10:07:10 - mcmc.calculators | INFO: run directory: GaN_0001 is set from parameters\n",
      "10:07:10 - mcmc.calculators | INFO: relaxation steps: 100 is set from parameters\n"
     ]
    },
    {
     "name": "stdout",
     "output_type": "stream",
     "text": [
      "/home/dux/NeuralForceField/models\n"
     ]
    },
    {
     "data": {
      "text/plain": [
       "{'calc_name': 'LAMMPS',\n",
       " 'optimizer': 'LAMMPS',\n",
       " 'chem_pots': {'Ga': 5},\n",
       " 'relax_atoms': True,\n",
       " 'relax_steps': 100,\n",
       " 'run_dir': PosixPath('GaN_0001')}"
      ]
     },
     "execution_count": 4,
     "metadata": {},
     "output_type": "execute_result"
    }
   ],
   "source": [
    "from mcmc.calculators import LAMMPSSurfCalc\n",
    "\n",
    "lammps_surf_calc = LAMMPSSurfCalc()\n",
    "lammps_surf_calc.set(**calc_settings)"
   ]
  },
  {
   "cell_type": "code",
   "execution_count": 5,
   "metadata": {},
   "outputs": [
    {
     "data": {
      "text/plain": [
       "environ{'USER': 'dux',\n",
       "        'SSH_CLIENT': '10.31.169.98 57197 22',\n",
       "        'XDG_SESSION_TYPE': 'tty',\n",
       "        'SHLVL': '2',\n",
       "        'MOTD_SHOWN': 'pam',\n",
       "        'HOME': '/home/dux',\n",
       "        'OLDPWD': '/home/dux',\n",
       "        'SSL_CERT_FILE': '/usr/lib/ssl/certs/ca-certificates.crt',\n",
       "        'DBUS_SESSION_BUS_ADDRESS': 'unix:path=/run/user/1026/bus',\n",
       "        'LOGNAME': 'dux',\n",
       "        '_': '/home/dux/miniforge3/envs/vssr-mc/bin/python',\n",
       "        'XDG_SESSION_CLASS': 'user',\n",
       "        'VSCODE_CLI_REQUIRE_TOKEN': '61fe5d2b-6e46-4619-bd57-22ab43e398a7',\n",
       "        'XDG_SESSION_ID': '40473',\n",
       "        'PATH': '/home/dux/miniforge3/envs/vssr-mc/bin:/home/dux/.vscode-server/cli/servers/Stable-ea1445cc7016315d0f5728f8e8b12a45dc0a7286/server/bin/remote-cli:/home/dux/QUIP/build/linux_x86_64_gfortran:/home/dux/miniforge3/envs/vssr-mc/bin:/home/dux/miniconda3/condabin:/usr/local/sbin:/usr/local/bin:/usr/sbin:/usr/bin:/sbin:/bin:/usr/games:/usr/local/games:/snap/bin',\n",
       "        'VSCODE_AGENT_FOLDER': '/home/dux/.vscode-server',\n",
       "        'XDG_RUNTIME_DIR': '/run/user/1026',\n",
       "        'SSL_CERT_DIR': '/usr/lib/ssl/certs',\n",
       "        'LANG': 'en_US.UTF-8',\n",
       "        'SSH_AUTH_SOCK': '/tmp/ssh-7DLtPPwgPuO7/agent.3998',\n",
       "        'SHELL': '/bin/zsh',\n",
       "        'PWD': '/home/dux',\n",
       "        'SSH_CONNECTION': '10.31.169.98 57197 10.82.2.145 22',\n",
       "        'VSCODE_HANDLES_SIGPIPE': 'true',\n",
       "        'ZSH': '/home/dux/.oh-my-zsh',\n",
       "        'PAGER': 'cat',\n",
       "        'LESS': '-R',\n",
       "        'LSCOLORS': 'Gxfxcxdxbxegedabagacad',\n",
       "        'LS_COLORS': '',\n",
       "        'SSH_AGENT_PID': '4000',\n",
       "        'P9K_SSH': '1',\n",
       "        '_P9K_SSH_TTY': '',\n",
       "        'CONDA_EXE': '/home/dux/miniforge3/bin/conda',\n",
       "        '_CE_M': '',\n",
       "        '_CE_CONDA': '',\n",
       "        'CONDA_PYTHON_EXE': '/home/dux/miniforge3/bin/python',\n",
       "        'CONDA_SHLVL': '3',\n",
       "        'CONDA_PREFIX': '/home/dux/miniforge3/envs/vssr-mc',\n",
       "        'CONDA_DEFAULT_ENV': 'vssr-mc',\n",
       "        'CONDA_PROMPT_MODIFIER': '(vssr-mc) ',\n",
       "        'DJANGOCHEMDIR': '/home/dux/htvs/djangochem',\n",
       "        'HTVSDIR': '/home/dux/htvs',\n",
       "        'ADVATTDIR': '/home/dux/Atomistic-Adversarial-Attacks',\n",
       "        'PYTHONPATH': '/home/dux/Atomistic-Adversarial-Attacks:/home/dux/htvs:/home/dux/htvs/djangochem:',\n",
       "        'LAMMPS_COMMAND': '/home/dux/miniforge3/envs/vssr-mc/bin/lmp',\n",
       "        'LAMMPS_POTENTIALS': '/home/dux/surface_sampling/mcmc/potentials',\n",
       "        'ASE_LAMMPSRUN_COMMAND': '/home/dux/miniforge3/envs/vssr-mc/bin/lmp',\n",
       "        'HOME2': '/mnt/data0/dux',\n",
       "        'MP_API_KEY': 'AuU7jLQOeQRjZkLH28ZAgutMdfXbMl46',\n",
       "        'CONDA_PREFIX_1': '/home/dux/miniconda3',\n",
       "        'XML_CATALOG_FILES': 'file:///home/dux/miniforge3/envs/vssr-mc/etc/xml/catalog file:///etc/xml/catalog',\n",
       "        'VSCODE_AMD_ENTRYPOINT': 'vs/workbench/api/node/extensionHostProcess',\n",
       "        'VSCODE_HANDLES_UNCAUGHT_ERRORS': 'true',\n",
       "        'VSCODE_NLS_CONFIG': '{\"locale\":\"en\",\"osLocale\":\"en\",\"availableLanguages\":{}}',\n",
       "        'BROWSER': '/home/dux/.vscode-server/cli/servers/Stable-ea1445cc7016315d0f5728f8e8b12a45dc0a7286/server/bin/helpers/browser.sh',\n",
       "        'VSCODE_CWD': '/home/dux',\n",
       "        'ELECTRON_RUN_AS_NODE': '1',\n",
       "        'VSCODE_IPC_HOOK_CLI': '/run/user/1026/vscode-ipc-0b7ed475-2d4f-41b1-888d-74dc1065d46a.sock',\n",
       "        'APPLICATION_INSIGHTS_NO_DIAGNOSTIC_CHANNEL': '1',\n",
       "        'VSCODE_L10N_BUNDLE_LOCATION': '',\n",
       "        'DEBUG_FFLAGS': '-march=nocona -mtune=haswell -ftree-vectorize -fPIC -fstack-protector-strong -fno-plt -O2 -ffunction-sections -pipe -isystem /home/dux/miniforge3/envs/vssr-mc/include -march=nocona -mtune=haswell -ftree-vectorize -fPIC -fstack-protector-all -fno-plt -Og -g -Wall -Wextra -fcheck=all -fbacktrace -fimplicit-none -fvar-tracking-assignments -ffunction-sections -pipe',\n",
       "        'GCC_RANLIB': '/home/dux/miniforge3/envs/vssr-mc/bin/x86_64-conda-linux-gnu-gcc-ranlib',\n",
       "        'PYTHONUNBUFFERED': '1',\n",
       "        'build_alias': 'x86_64-conda-linux-gnu',\n",
       "        'CMAKE_ARGS': '-DCMAKE_AR=/home/dux/miniforge3/envs/vssr-mc/bin/x86_64-conda-linux-gnu-ar -DCMAKE_CXX_COMPILER_AR=/home/dux/miniforge3/envs/vssr-mc/bin/x86_64-conda-linux-gnu-gcc-ar -DCMAKE_C_COMPILER_AR=/home/dux/miniforge3/envs/vssr-mc/bin/x86_64-conda-linux-gnu-gcc-ar -DCMAKE_RANLIB=/home/dux/miniforge3/envs/vssr-mc/bin/x86_64-conda-linux-gnu-ranlib -DCMAKE_CXX_COMPILER_RANLIB=/home/dux/miniforge3/envs/vssr-mc/bin/x86_64-conda-linux-gnu-gcc-ranlib -DCMAKE_C_COMPILER_RANLIB=/home/dux/miniforge3/envs/vssr-mc/bin/x86_64-conda-linux-gnu-gcc-ranlib -DCMAKE_LINKER=/home/dux/miniforge3/envs/vssr-mc/bin/x86_64-conda-linux-gnu-ld -DCMAKE_STRIP=/home/dux/miniforge3/envs/vssr-mc/bin/x86_64-conda-linux-gnu-strip -DCMAKE_BUILD_TYPE=Release',\n",
       "        'GPROF': '/home/dux/miniforge3/envs/vssr-mc/bin/x86_64-conda-linux-gnu-gprof',\n",
       "        'CONDA_TOOLCHAIN_BUILD': 'x86_64-conda-linux-gnu',\n",
       "        '_CONDA_PYTHON_SYSCONFIGDATA_NAME': '_sysconfigdata_x86_64_conda_cos6_linux_gnu',\n",
       "        'STRINGS': '/home/dux/miniforge3/envs/vssr-mc/bin/x86_64-conda-linux-gnu-strings',\n",
       "        'CPP': '/home/dux/miniforge3/envs/vssr-mc/bin/x86_64-conda-linux-gnu-cpp',\n",
       "        'FFLAGS': '-march=nocona -mtune=haswell -ftree-vectorize -fPIC -fstack-protector-strong -fno-plt -O2 -ffunction-sections -pipe -isystem /home/dux/miniforge3/envs/vssr-mc/include',\n",
       "        'CONDA_ROOT': '/home/dux/miniforge3',\n",
       "        'CXX': '/home/dux/miniforge3/envs/vssr-mc/bin/x86_64-conda-linux-gnu-c++',\n",
       "        'CXXFLAGS': '-fvisibility-inlines-hidden -fmessage-length=0 -march=nocona -mtune=haswell -ftree-vectorize -fPIC -fstack-protector-strong -fno-plt -O2 -ffunction-sections -pipe -isystem /home/dux/miniforge3/envs/vssr-mc/include',\n",
       "        'CONDA_TOOLCHAIN_HOST': 'x86_64-conda-linux-gnu',\n",
       "        'DEBUG_CXXFLAGS': '-fvisibility-inlines-hidden -fmessage-length=0 -march=nocona -mtune=haswell -ftree-vectorize -fPIC -fstack-protector-all -fno-plt -Og -g -Wall -Wextra -fvar-tracking-assignments -ffunction-sections -pipe -isystem /home/dux/miniforge3/envs/vssr-mc/include',\n",
       "        'LDFLAGS': '-Wl,-O2 -Wl,--sort-common -Wl,--as-needed -Wl,-z,relro -Wl,-z,now -Wl,--disable-new-dtags -Wl,--gc-sections -Wl,--allow-shlib-undefined -Wl,-rpath,/home/dux/miniforge3/envs/vssr-mc/lib -Wl,-rpath-link,/home/dux/miniforge3/envs/vssr-mc/lib -L/home/dux/miniforge3/envs/vssr-mc/lib',\n",
       "        'MESON_ARGS': '--buildtype release',\n",
       "        'DEBUG_CFLAGS': '-march=nocona -mtune=haswell -ftree-vectorize -fPIC -fstack-protector-all -fno-plt -Og -g -Wall -Wextra -fvar-tracking-assignments -ffunction-sections -pipe -isystem /home/dux/miniforge3/envs/vssr-mc/include',\n",
       "        'CXX_FOR_BUILD': '/home/dux/miniforge3/envs/vssr-mc/bin/x86_64-conda-linux-gnu-c++',\n",
       "        'ELFEDIT': '/home/dux/miniforge3/envs/vssr-mc/bin/x86_64-conda-linux-gnu-elfedit',\n",
       "        'CMAKE_PREFIX_PATH': '/home/dux/miniforge3/envs/vssr-mc:/home/dux/miniforge3/envs/vssr-mc/x86_64-conda-linux-gnu/sysroot/usr',\n",
       "        'CPPFLAGS': '-DNDEBUG -D_FORTIFY_SOURCE=2 -O2 -isystem /home/dux/miniforge3/envs/vssr-mc/include',\n",
       "        'LD': '/home/dux/miniforge3/envs/vssr-mc/bin/x86_64-conda-linux-gnu-ld',\n",
       "        'READELF': '/home/dux/miniforge3/envs/vssr-mc/bin/x86_64-conda-linux-gnu-readelf',\n",
       "        'GXX': '/home/dux/miniforge3/envs/vssr-mc/bin/x86_64-conda-linux-gnu-g++',\n",
       "        'FC_FOR_BUILD': '/home/dux/miniforge3/envs/vssr-mc/bin/x86_64-conda-linux-gnu-gfortran',\n",
       "        'GCC_AR': '/home/dux/miniforge3/envs/vssr-mc/bin/x86_64-conda-linux-gnu-gcc-ar',\n",
       "        'ADDR2LINE': '/home/dux/miniforge3/envs/vssr-mc/bin/x86_64-conda-linux-gnu-addr2line',\n",
       "        'GCC_NM': '/home/dux/miniforge3/envs/vssr-mc/bin/x86_64-conda-linux-gnu-gcc-nm',\n",
       "        'SIZE': '/home/dux/miniforge3/envs/vssr-mc/bin/x86_64-conda-linux-gnu-size',\n",
       "        'F77': '/home/dux/miniforge3/envs/vssr-mc/bin/x86_64-conda-linux-gnu-gfortran',\n",
       "        'HOST': 'x86_64-conda-linux-gnu',\n",
       "        'CC_FOR_BUILD': '/home/dux/miniforge3/envs/vssr-mc/bin/x86_64-conda-linux-gnu-cc',\n",
       "        'PYTHONIOENCODING': 'utf-8',\n",
       "        'AR': '/home/dux/miniforge3/envs/vssr-mc/bin/x86_64-conda-linux-gnu-ar',\n",
       "        'AS': '/home/dux/miniforge3/envs/vssr-mc/bin/x86_64-conda-linux-gnu-as',\n",
       "        'DEBUG_CPPFLAGS': '-D_DEBUG -D_FORTIFY_SOURCE=2 -Og -isystem /home/dux/miniforge3/envs/vssr-mc/include',\n",
       "        'F95': '/home/dux/miniforge3/envs/vssr-mc/bin/x86_64-conda-linux-gnu-f95',\n",
       "        'F90': '/home/dux/miniforge3/envs/vssr-mc/bin/x86_64-conda-linux-gnu-gfortran',\n",
       "        'host_alias': 'x86_64-conda-linux-gnu',\n",
       "        'NM': '/home/dux/miniforge3/envs/vssr-mc/bin/x86_64-conda-linux-gnu-nm',\n",
       "        'GCC': '/home/dux/miniforge3/envs/vssr-mc/bin/x86_64-conda-linux-gnu-gcc',\n",
       "        'DEBUG_FORTRANFLAGS': '-march=nocona -mtune=haswell -ftree-vectorize -fPIC -fstack-protector-strong -fno-plt -O2 -ffunction-sections -pipe -isystem /home/dux/miniforge3/envs/vssr-mc/include -march=nocona -mtune=haswell -ftree-vectorize -fPIC -fstack-protector-all -fno-plt -Og -g -Wall -Wextra -fcheck=all -fbacktrace -fimplicit-none -fvar-tracking-assignments -ffunction-sections -pipe',\n",
       "        'FORTRANFLAGS': '-march=nocona -mtune=haswell -ftree-vectorize -fPIC -fstack-protector-strong -fno-plt -O2 -ffunction-sections -pipe -isystem /home/dux/miniforge3/envs/vssr-mc/include',\n",
       "        'LD_GOLD': '/home/dux/miniforge3/envs/vssr-mc/bin/x86_64-conda-linux-gnu-ld.gold',\n",
       "        'GFORTRAN': '/home/dux/miniforge3/envs/vssr-mc/bin/x86_64-conda-linux-gnu-gfortran',\n",
       "        'OBJCOPY': '/home/dux/miniforge3/envs/vssr-mc/bin/x86_64-conda-linux-gnu-objcopy',\n",
       "        'FC': '/home/dux/miniforge3/envs/vssr-mc/bin/x86_64-conda-linux-gnu-gfortran',\n",
       "        'STRIP': '/home/dux/miniforge3/envs/vssr-mc/bin/x86_64-conda-linux-gnu-strip',\n",
       "        'OBJDUMP': '/home/dux/miniforge3/envs/vssr-mc/bin/x86_64-conda-linux-gnu-objdump',\n",
       "        'CC': '/home/dux/miniforge3/envs/vssr-mc/bin/x86_64-conda-linux-gnu-cc',\n",
       "        'CFLAGS': '-march=nocona -mtune=haswell -ftree-vectorize -fPIC -fstack-protector-strong -fno-plt -O2 -ffunction-sections -pipe -isystem /home/dux/miniforge3/envs/vssr-mc/include',\n",
       "        'CXXFILT': '/home/dux/miniforge3/envs/vssr-mc/bin/x86_64-conda-linux-gnu-c++filt',\n",
       "        'BUILD': 'x86_64-conda-linux-gnu',\n",
       "        'CONDA_PREFIX_2': '/home/dux/miniforge3',\n",
       "        'RANLIB': '/home/dux/miniforge3/envs/vssr-mc/bin/x86_64-conda-linux-gnu-ranlib',\n",
       "        'CONDA_BUILD_SYSROOT': '/home/dux/miniforge3/envs/vssr-mc/x86_64-conda-linux-gnu/sysroot',\n",
       "        'PYDEVD_IPYTHON_COMPATIBLE_DEBUGGING': '1',\n",
       "        'PYTHON_FROZEN_MODULES': 'on',\n",
       "        'PYDEVD_USE_FRAME_EVAL': 'NO',\n",
       "        'TERM': 'xterm-color',\n",
       "        'CLICOLOR': '1',\n",
       "        'FORCE_COLOR': '1',\n",
       "        'CLICOLOR_FORCE': '1',\n",
       "        'GIT_PAGER': 'cat',\n",
       "        'MPLBACKEND': 'module://matplotlib_inline.backend_inline',\n",
       "        'RDBASE': '/home/dux/miniforge3/envs/vssr-mc/lib/python3.11/site-packages/rdkit',\n",
       "        'KMP_DUPLICATE_LIB_OK': 'True',\n",
       "        'KMP_INIT_AT_FORK': 'FALSE'}"
      ]
     },
     "execution_count": 5,
     "metadata": {},
     "output_type": "execute_result"
    }
   ],
   "source": [
    "import os\n",
    "\n",
    "os.environ"
   ]
  },
  {
   "cell_type": "markdown",
   "metadata": {},
   "source": [
    "Initialize surface system"
   ]
  },
  {
   "cell_type": "code",
   "execution_count": 6,
   "metadata": {},
   "outputs": [
    {
     "name": "stderr",
     "output_type": "stream",
     "text": [
      "10:07:10 - mcmc.system | INFO: Initalizing adsorption sites with settings: {'surface_name': 'GaN_0001', 'surface_depth': 1, 'cutoff': 5.0, 'near_reduce': 0.01, 'planar_distance': 1.5, 'no_obtuse_hollow': True, 'ads_site_type': 'all'}\n",
      "10:07:11 - mcmc.system | INFO: Generated adsorption coordinates are: [array([ 0.   ,  0.   , 14.766]), array([12.865,  7.428, 14.12 ]), array([12.865,  5.571, 14.766]), array([11.257,  4.642, 14.12 ]), array([ 1.608,  2.785, 14.766])]...\n",
      "10:07:11 - mcmc.system | INFO: Initializing 107 virtual atoms\n",
      "10:07:11 - mcmc.system | INFO: Initial state is [0 0 0 0 0 0 0 0 0 0 0 0 0 0 0 0 0 0 0 0 0 0 0 0 0 0 0 0 0 0 0 0 0 0 0 0 0\n",
      " 0 0 0 0 0 0 0 0 0 0 0 0 0 0 0 0 0 0 0 0 0 0 0 0 0 0 0 0 0 0 0 0 0 0 0 0 0\n",
      " 0 0 0 0 0 0 0 0 0 0 0 0 0 0 0 0 0 0 0 0 0 0 0 0 0 0 0 0 0 0 0 0 0]\n",
      "10:07:11 - mcmc.system | INFO: Number of pristine atoms is 36\n",
      "10:07:11 - mcmc.system | INFO: Bulk indices are [ 1  2  3  5  6  7  9 10 11 13 14 15 17 18 19 21 22 23 25 26 27 29 30 31\n",
      " 33 34 35]\n",
      "10:07:11 - mcmc.system | INFO: Surface indices are [ 0  4  8 12 16 20 24 28 32]\n",
      "10:07:11 - mcmc.system | INFO: Constraints are FixAtoms(indices=[1, 2, 3, 5, 6, 7, 9, 10, 11, 13, 14, 15, 17, 18, 19, 21, 22, 23, 25, 26, 27, 29, 30, 31, 33, 34, 35])\n",
      "10:07:11 - mcmc.system | INFO: Relaxing initialized surface\n",
      "10:07:11 - mcmc.calculators | INFO: None\n"
     ]
    },
    {
     "name": "stdout",
     "output_type": "stream",
     "text": [
      "Total wall time: 0:00:00\n"
     ]
    }
   ],
   "source": [
    "surface = SurfaceSystem(\n",
    "    slab,\n",
    "    calc=lammps_surf_calc,\n",
    "    system_settings=system_settings,\n",
    "    save_folder=run_folder,\n",
    ")\n",
    "surface.all_atoms.write(run_folder / \"GaN_0001_3x3_all_virtual_ads.cif\")"
   ]
  },
  {
   "cell_type": "markdown",
   "metadata": {},
   "source": [
    "Test calculate pristine surface"
   ]
  },
  {
   "cell_type": "code",
   "execution_count": 7,
   "metadata": {},
   "outputs": [
    {
     "name": "stderr",
     "output_type": "stream",
     "text": [
      "10:07:11 - mcmc.calculators | INFO: None\n"
     ]
    },
    {
     "name": "stdout",
     "output_type": "stream",
     "text": [
      "Total wall time: 0:00:00\n",
      "Energy -144.059 eV\n"
     ]
    }
   ],
   "source": [
    "print(f\"Energy {surface.get_potential_energy():.3f} eV\")"
   ]
  },
  {
   "attachments": {},
   "cell_type": "markdown",
   "metadata": {},
   "source": [
    "Perform MCMC and view results. Detailed results can be found in the corresponding run in the `GaN(0001)/` folder."
   ]
  },
  {
   "cell_type": "code",
   "execution_count": 8,
   "metadata": {},
   "outputs": [
    {
     "name": "stderr",
     "output_type": "stream",
     "text": [
      "10:07:11 - mcmc.mcmc | INFO: Using run folder GaN_0001\n",
      "10:07:11 - mcmc.mcmc | INFO: Randomly adsorbing sites\n",
      "10:07:11 - mcmc.events.criterion | ERROR: No surface energy found in results dict\n",
      "10:07:11 - mcmc.calculators | INFO: None\n",
      "10:07:11 - mcmc.calculators | INFO: None\n",
      "10:07:11 - mcmc.calculators | INFO: None\n"
     ]
    },
    {
     "name": "stderr",
     "output_type": "stream",
     "text": [
      "10:07:11 - mcmc.calculators | INFO: None\n",
      "10:07:11 - mcmc.calculators | INFO: None\n",
      "10:07:11 - mcmc.calculators | INFO: None\n",
      "10:07:11 - mcmc.calculators | INFO: None\n",
      "10:07:11 - mcmc.calculators | INFO: None\n",
      "10:07:11 - mcmc.calculators | INFO: None\n"
     ]
    },
    {
     "name": "stdout",
     "output_type": "stream",
     "text": [
      "Total wall time: 0:00:00\n",
      "Total wall time: 0:00:00\n",
      "Total wall time: 0:00:00\n",
      "Total wall time: 0:00:00\n",
      "Total wall time: 0:00:00\n",
      "Total wall time: 0:00:00\n",
      "Total wall time: 0:00:00\n",
      "Total wall time: 0:00:00\n",
      "Total wall time: 0:00:00\n"
     ]
    },
    {
     "name": "stderr",
     "output_type": "stream",
     "text": [
      "10:07:11 - mcmc.calculators | INFO: None\n",
      "10:07:11 - mcmc.calculators | INFO: None\n",
      "10:07:11 - mcmc.calculators | INFO: None\n",
      "10:07:11 - mcmc.calculators | INFO: None\n",
      "10:07:11 - mcmc.calculators | INFO: None\n"
     ]
    },
    {
     "name": "stdout",
     "output_type": "stream",
     "text": [
      "Total wall time: 0:00:00\n",
      "Total wall time: 0:00:00\n",
      "Total wall time: 0:00:00\n",
      "Total wall time: 0:00:00\n",
      "Total wall time: 0:00:00\n"
     ]
    },
    {
     "name": "stderr",
     "output_type": "stream",
     "text": [
      "10:07:11 - mcmc.calculators | INFO: None\n",
      "10:07:11 - mcmc.calculators | INFO: None\n",
      "10:07:11 - mcmc.calculators | INFO: None\n",
      "10:07:11 - mcmc.calculators | INFO: None\n"
     ]
    },
    {
     "name": "stdout",
     "output_type": "stream",
     "text": [
      "Total wall time: 0:00:00\n",
      "Total wall time: 0:00:00\n",
      "Total wall time: 0:00:00\n"
     ]
    },
    {
     "name": "stderr",
     "output_type": "stream",
     "text": [
      "10:07:11 - mcmc.calculators | INFO: None\n",
      "10:07:11 - mcmc.calculators | INFO: None\n",
      "10:07:11 - mcmc.calculators | INFO: None\n",
      "10:07:11 - mcmc.calculators | INFO: None\n",
      "10:07:11 - mcmc.calculators | INFO: None\n",
      "10:07:11 - mcmc.calculators | INFO: None\n"
     ]
    },
    {
     "name": "stdout",
     "output_type": "stream",
     "text": [
      "Total wall time: 0:00:00\n",
      "Total wall time: 0:00:00\n",
      "Total wall time: 0:00:00\n",
      "Total wall time: 0:00:00\n",
      "Total wall time: 0:00:00\n",
      "Total wall time: 0:00:00\n",
      "Total wall time: 0:00:00\n"
     ]
    },
    {
     "name": "stderr",
     "output_type": "stream",
     "text": [
      "10:07:11 - mcmc.calculators | INFO: None\n"
     ]
    },
    {
     "name": "stdout",
     "output_type": "stream",
     "text": [
      "Total wall time: 0:00:00\n"
     ]
    },
    {
     "name": "stderr",
     "output_type": "stream",
     "text": [
      "10:07:12 - mcmc.mcmc | INFO: There are 36 atoms in pristine slab\n",
      "10:07:12 - mcmc.mcmc | INFO: Running with total_sweeps = 10, sweep_size = 104, start_temp = 1.000\n",
      "10:07:12 - mcmc.mcmc | INFO: Starting with iteration 0\n",
      "10:07:12 - mcmc.mcmc | INFO: Temperature schedule is: ['1.000', '0.990', '0.980', '0.970', '0.961', '0.951', '0.941', '0.932', '0.923', '0.914']\n",
      "10:07:12 - mcmc.mcmc | INFO: In sweep 1 out of 10\n",
      "10:07:12 - mcmc.calculators | INFO: None\n",
      "10:07:12 - mcmc.calculators | INFO: None\n",
      "10:07:12 - mcmc.calculators | INFO: None\n",
      "10:07:12 - mcmc.calculators | INFO: None\n",
      "10:07:12 - mcmc.calculators | INFO: None\n",
      "10:07:12 - mcmc.calculators | INFO: None\n",
      "10:07:12 - mcmc.calculators | INFO: None\n",
      "10:07:12 - mcmc.calculators | INFO: None\n",
      "10:07:12 - mcmc.calculators | INFO: None\n",
      "10:07:12 - mcmc.calculators | INFO: None\n",
      "10:07:12 - mcmc.calculators | INFO: None\n",
      "10:07:12 - mcmc.calculators | INFO: None\n"
     ]
    },
    {
     "name": "stdout",
     "output_type": "stream",
     "text": [
      "Total wall time: 0:00:00\n",
      "Total wall time: 0:00:00\n",
      "Total wall time: 0:00:00\n",
      "Total wall time: 0:00:00\n",
      "Total wall time: 0:00:00\n",
      "Total wall time: 0:00:00\n",
      "Total wall time: 0:00:00\n",
      "Total wall time: 0:00:00\n",
      "Total wall time: 0:00:00\n",
      "Total wall time: 0:00:00\n",
      "Total wall time: 0:00:00\n",
      "Total wall time: 0:00:00\n"
     ]
    },
    {
     "name": "stderr",
     "output_type": "stream",
     "text": [
      "10:07:12 - mcmc.calculators | INFO: None\n",
      "10:07:12 - mcmc.calculators | INFO: None\n",
      "10:07:12 - mcmc.calculators | INFO: None\n",
      "10:07:12 - mcmc.calculators | INFO: None\n",
      "10:07:12 - mcmc.calculators | INFO: None\n",
      "10:07:12 - mcmc.calculators | INFO: None\n",
      "10:07:12 - mcmc.calculators | INFO: None\n",
      "10:07:12 - mcmc.calculators | INFO: None\n"
     ]
    },
    {
     "name": "stdout",
     "output_type": "stream",
     "text": [
      "Total wall time: 0:00:00\n",
      "Total wall time: 0:00:00\n",
      "Total wall time: 0:00:00\n",
      "Total wall time: 0:00:00\n",
      "Total wall time: 0:00:00\n",
      "Total wall time: 0:00:00\n",
      "Total wall time: 0:00:00\n",
      "Total wall time: 0:00:00\n"
     ]
    },
    {
     "name": "stderr",
     "output_type": "stream",
     "text": [
      "10:07:12 - mcmc.calculators | INFO: None\n",
      "10:07:12 - mcmc.calculators | INFO: None\n",
      "10:07:12 - mcmc.calculators | INFO: None\n",
      "10:07:12 - mcmc.calculators | INFO: None\n",
      "10:07:12 - mcmc.calculators | INFO: None\n",
      "10:07:12 - mcmc.calculators | INFO: None\n",
      "10:07:12 - mcmc.calculators | INFO: None\n",
      "10:07:12 - mcmc.calculators | INFO: None\n",
      "10:07:12 - mcmc.calculators | INFO: None\n"
     ]
    },
    {
     "name": "stdout",
     "output_type": "stream",
     "text": [
      "Total wall time: 0:00:00\n",
      "Total wall time: 0:00:00\n",
      "Total wall time: 0:00:00\n",
      "Total wall time: 0:00:00\n",
      "Total wall time: 0:00:00\n",
      "Total wall time: 0:00:00\n",
      "Total wall time: 0:00:00\n",
      "Total wall time: 0:00:00\n",
      "Total wall time: 0:00:00\n"
     ]
    },
    {
     "name": "stderr",
     "output_type": "stream",
     "text": [
      "10:07:12 - mcmc.calculators | INFO: None\n",
      "10:07:13 - mcmc.calculators | INFO: None\n",
      "10:07:13 - mcmc.calculators | INFO: None\n",
      "10:07:13 - mcmc.calculators | INFO: None\n",
      "10:07:13 - mcmc.calculators | INFO: None\n",
      "10:07:13 - mcmc.calculators | INFO: None\n",
      "10:07:13 - mcmc.calculators | INFO: None\n",
      "10:07:13 - mcmc.calculators | INFO: None\n",
      "10:07:13 - mcmc.calculators | INFO: None\n",
      "10:07:13 - mcmc.calculators | INFO: None\n",
      "10:07:13 - mcmc.calculators | INFO: None\n"
     ]
    },
    {
     "name": "stdout",
     "output_type": "stream",
     "text": [
      "Total wall time: 0:00:00\n",
      "Total wall time: 0:00:00\n",
      "Total wall time: 0:00:00\n",
      "Total wall time: 0:00:00\n",
      "Total wall time: 0:00:00\n",
      "Total wall time: 0:00:00\n",
      "Total wall time: 0:00:00\n",
      "Total wall time: 0:00:00\n",
      "Total wall time: 0:00:00\n",
      "Total wall time: 0:00:00\n",
      "Total wall time: 0:00:00\n"
     ]
    },
    {
     "name": "stderr",
     "output_type": "stream",
     "text": [
      "10:07:13 - mcmc.calculators | INFO: None\n",
      "10:07:13 - mcmc.calculators | INFO: None\n",
      "10:07:13 - mcmc.calculators | INFO: None\n",
      "10:07:13 - mcmc.calculators | INFO: None\n",
      "10:07:13 - mcmc.calculators | INFO: None\n",
      "10:07:13 - mcmc.calculators | INFO: None\n",
      "10:07:13 - mcmc.calculators | INFO: None\n",
      "10:07:13 - mcmc.calculators | INFO: None\n"
     ]
    },
    {
     "name": "stdout",
     "output_type": "stream",
     "text": [
      "Total wall time: 0:00:00\n",
      "Total wall time: 0:00:00\n",
      "Total wall time: 0:00:00\n",
      "Total wall time: 0:00:00\n",
      "Total wall time: 0:00:00\n",
      "Total wall time: 0:00:00\n",
      "Total wall time: 0:00:00\n",
      "Total wall time: 0:00:00\n"
     ]
    },
    {
     "name": "stderr",
     "output_type": "stream",
     "text": [
      "10:07:13 - mcmc.calculators | INFO: None\n",
      "10:07:13 - mcmc.calculators | INFO: None\n",
      "10:07:13 - mcmc.calculators | INFO: None\n",
      "10:07:13 - mcmc.calculators | INFO: None\n",
      "10:07:13 - mcmc.calculators | INFO: None\n",
      "10:07:13 - mcmc.calculators | INFO: None\n",
      "10:07:13 - mcmc.calculators | INFO: None\n",
      "10:07:13 - mcmc.calculators | INFO: None\n",
      "10:07:13 - mcmc.calculators | INFO: None\n"
     ]
    },
    {
     "name": "stdout",
     "output_type": "stream",
     "text": [
      "Total wall time: 0:00:00\n",
      "Total wall time: 0:00:00\n",
      "Total wall time: 0:00:00\n",
      "Total wall time: 0:00:00\n",
      "Total wall time: 0:00:00\n",
      "Total wall time: 0:00:00\n",
      "Total wall time: 0:00:00\n",
      "Total wall time: 0:00:00\n",
      "Total wall time: 0:00:00\n"
     ]
    },
    {
     "name": "stderr",
     "output_type": "stream",
     "text": [
      "10:07:13 - mcmc.calculators | INFO: None\n",
      "10:07:13 - mcmc.calculators | INFO: None\n",
      "10:07:13 - mcmc.calculators | INFO: None\n",
      "10:07:13 - mcmc.calculators | INFO: None\n",
      "10:07:13 - mcmc.calculators | INFO: None\n",
      "10:07:13 - mcmc.calculators | INFO: None\n",
      "10:07:13 - mcmc.calculators | INFO: None\n",
      "10:07:13 - mcmc.calculators | INFO: None\n",
      "10:07:13 - mcmc.calculators | INFO: None\n",
      "10:07:13 - mcmc.calculators | INFO: None\n"
     ]
    },
    {
     "name": "stdout",
     "output_type": "stream",
     "text": [
      "Total wall time: 0:00:00\n",
      "Total wall time: 0:00:00\n",
      "Total wall time: 0:00:00\n",
      "Total wall time: 0:00:00\n",
      "Total wall time: 0:00:00\n",
      "Total wall time: 0:00:00\n",
      "Total wall time: 0:00:00\n",
      "Total wall time: 0:00:00\n",
      "Total wall time: 0:00:00\n",
      "Total wall time: 0:00:00\n"
     ]
    },
    {
     "name": "stderr",
     "output_type": "stream",
     "text": [
      "10:07:13 - mcmc.calculators | INFO: None\n",
      "10:07:13 - mcmc.calculators | INFO: None\n",
      "10:07:13 - mcmc.calculators | INFO: None\n",
      "10:07:13 - mcmc.calculators | INFO: None\n",
      "10:07:13 - mcmc.calculators | INFO: None\n",
      "10:07:13 - mcmc.calculators | INFO: None\n",
      "10:07:13 - mcmc.calculators | INFO: None\n",
      "10:07:14 - mcmc.calculators | INFO: None\n",
      "10:07:14 - mcmc.calculators | INFO: None\n",
      "10:07:14 - mcmc.calculators | INFO: None\n",
      "10:07:14 - mcmc.calculators | INFO: None\n"
     ]
    },
    {
     "name": "stdout",
     "output_type": "stream",
     "text": [
      "Total wall time: 0:00:00\n",
      "Total wall time: 0:00:00\n",
      "Total wall time: 0:00:00\n",
      "Total wall time: 0:00:00\n",
      "Total wall time: 0:00:00\n",
      "Total wall time: 0:00:00\n",
      "Total wall time: 0:00:00\n",
      "Total wall time: 0:00:00\n",
      "Total wall time: 0:00:00\n",
      "Total wall time: 0:00:00\n",
      "Total wall time: 0:00:00\n"
     ]
    },
    {
     "name": "stderr",
     "output_type": "stream",
     "text": [
      "10:07:14 - mcmc.calculators | INFO: None\n",
      "10:07:14 - mcmc.calculators | INFO: None\n",
      "10:07:14 - mcmc.calculators | INFO: None\n",
      "10:07:14 - mcmc.calculators | INFO: None\n",
      "10:07:14 - mcmc.calculators | INFO: None\n",
      "10:07:14 - mcmc.calculators | INFO: None\n",
      "10:07:14 - mcmc.calculators | INFO: None\n",
      "10:07:14 - mcmc.calculators | INFO: None\n",
      "10:07:14 - mcmc.calculators | INFO: None\n",
      "10:07:14 - mcmc.calculators | INFO: None\n",
      "10:07:14 - mcmc.calculators | INFO: None\n",
      "10:07:14 - mcmc.calculators | INFO: None\n"
     ]
    },
    {
     "name": "stdout",
     "output_type": "stream",
     "text": [
      "Total wall time: 0:00:00\n",
      "Total wall time: 0:00:00\n",
      "Total wall time: 0:00:00\n",
      "Total wall time: 0:00:00\n",
      "Total wall time: 0:00:00\n",
      "Total wall time: 0:00:00\n",
      "Total wall time: 0:00:00\n",
      "Total wall time: 0:00:00\n",
      "Total wall time: 0:00:00\n",
      "Total wall time: 0:00:00\n",
      "Total wall time: 0:00:00\n",
      "Total wall time: 0:00:00\n"
     ]
    },
    {
     "name": "stderr",
     "output_type": "stream",
     "text": [
      "10:07:14 - mcmc.calculators | INFO: None\n",
      "10:07:14 - mcmc.calculators | INFO: None\n",
      "10:07:14 - mcmc.calculators | INFO: None\n",
      "10:07:14 - mcmc.calculators | INFO: None\n",
      "10:07:14 - mcmc.calculators | INFO: None\n",
      "10:07:14 - mcmc.calculators | INFO: None\n",
      "10:07:14 - mcmc.calculators | INFO: None\n",
      "10:07:14 - mcmc.calculators | INFO: None\n",
      "10:07:14 - mcmc.calculators | INFO: None\n",
      "10:07:14 - mcmc.calculators | INFO: None\n"
     ]
    },
    {
     "name": "stdout",
     "output_type": "stream",
     "text": [
      "Total wall time: 0:00:00\n",
      "Total wall time: 0:00:00\n",
      "Total wall time: 0:00:00\n",
      "Total wall time: 0:00:00\n",
      "Total wall time: 0:00:00\n",
      "Total wall time: 0:00:00\n",
      "Total wall time: 0:00:00\n",
      "Total wall time: 0:00:00\n",
      "Total wall time: 0:00:00\n",
      "Total wall time: 0:00:00\n"
     ]
    },
    {
     "name": "stderr",
     "output_type": "stream",
     "text": [
      "10:07:14 - mcmc.calculators | INFO: None\n",
      "10:07:14 - mcmc.calculators | INFO: None\n",
      "10:07:14 - mcmc.calculators | INFO: None\n",
      "10:07:14 - mcmc.calculators | INFO: None\n",
      "10:07:14 - mcmc.calculators | INFO: None\n",
      "10:07:14 - mcmc.calculators | INFO: None\n",
      "10:07:14 - mcmc.calculators | INFO: None\n",
      "10:07:14 - mcmc.calculators | INFO: None\n"
     ]
    },
    {
     "name": "stdout",
     "output_type": "stream",
     "text": [
      "Total wall time: 0:00:00\n",
      "Total wall time: 0:00:00\n",
      "Total wall time: 0:00:00\n",
      "Total wall time: 0:00:00\n",
      "Total wall time: 0:00:00\n",
      "Total wall time: 0:00:00\n",
      "Total wall time: 0:00:00\n",
      "Total wall time: 0:00:00\n"
     ]
    },
    {
     "name": "stderr",
     "output_type": "stream",
     "text": [
      "10:07:14 - mcmc.calculators | INFO: None\n",
      "10:07:14 - mcmc.calculators | INFO: None\n",
      "10:07:14 - mcmc.calculators | INFO: None\n",
      "10:07:14 - mcmc.calculators | INFO: None\n",
      "10:07:14 - mcmc.calculators | INFO: None\n",
      "10:07:14 - mcmc.calculators | INFO: None\n",
      "10:07:14 - mcmc.calculators | INFO: None\n",
      "10:07:14 - mcmc.calculators | INFO: None\n",
      "10:07:14 - mcmc.calculators | INFO: None\n",
      "10:07:14 - mcmc.calculators | INFO: None\n",
      "10:07:14 - mcmc.calculators | INFO: None\n",
      "10:07:14 - mcmc.calculators | INFO: None\n"
     ]
    },
    {
     "name": "stdout",
     "output_type": "stream",
     "text": [
      "Total wall time: 0:00:00\n",
      "Total wall time: 0:00:00\n",
      "Total wall time: 0:00:00\n",
      "Total wall time: 0:00:00\n",
      "Total wall time: 0:00:00\n",
      "Total wall time: 0:00:00\n",
      "Total wall time: 0:00:00\n",
      "Total wall time: 0:00:00\n",
      "Total wall time: 0:00:00\n",
      "Total wall time: 0:00:00\n",
      "Total wall time: 0:00:00\n",
      "Total wall time: 0:00:00\n"
     ]
    },
    {
     "name": "stderr",
     "output_type": "stream",
     "text": [
      "10:07:14 - mcmc.calculators | INFO: None\n",
      "10:07:14 - mcmc.calculators | INFO: None\n",
      "10:07:15 - mcmc.calculators | INFO: None\n",
      "10:07:15 - mcmc.calculators | INFO: None\n",
      "10:07:15 - mcmc.calculators | INFO: None\n",
      "10:07:15 - mcmc.calculators | INFO: None\n",
      "10:07:15 - mcmc.calculators | INFO: None\n",
      "10:07:15 - mcmc.calculators | INFO: None\n",
      "10:07:15 - mcmc.calculators | INFO: None\n",
      "10:07:15 - mcmc.calculators | INFO: None\n"
     ]
    },
    {
     "name": "stdout",
     "output_type": "stream",
     "text": [
      "Total wall time: 0:00:00\n",
      "Total wall time: 0:00:00\n",
      "Total wall time: 0:00:00\n",
      "Total wall time: 0:00:00\n",
      "Total wall time: 0:00:00\n",
      "Total wall time: 0:00:00\n",
      "Total wall time: 0:00:00\n",
      "Total wall time: 0:00:00\n",
      "Total wall time: 0:00:00\n",
      "Total wall time: 0:00:00\n"
     ]
    },
    {
     "name": "stderr",
     "output_type": "stream",
     "text": [
      "10:07:15 - mcmc.calculators | INFO: None\n",
      "10:07:15 - mcmc.calculators | INFO: None\n",
      "10:07:15 - mcmc.calculators | INFO: None\n",
      "10:07:15 - mcmc.calculators | INFO: None\n",
      "10:07:15 - mcmc.calculators | INFO: None\n",
      "10:07:15 - mcmc.calculators | INFO: None\n",
      "10:07:15 - mcmc.calculators | INFO: None\n",
      "10:07:15 - mcmc.calculators | INFO: None\n",
      "10:07:15 - mcmc.calculators | INFO: None\n"
     ]
    },
    {
     "name": "stdout",
     "output_type": "stream",
     "text": [
      "Total wall time: 0:00:00\n",
      "Total wall time: 0:00:00\n",
      "Total wall time: 0:00:00\n",
      "Total wall time: 0:00:00\n",
      "Total wall time: 0:00:00\n",
      "Total wall time: 0:00:00\n",
      "Total wall time: 0:00:00\n",
      "Total wall time: 0:00:00\n",
      "Total wall time: 0:00:00\n"
     ]
    },
    {
     "name": "stderr",
     "output_type": "stream",
     "text": [
      "10:07:15 - mcmc.calculators | INFO: None\n",
      "10:07:15 - mcmc.calculators | INFO: None\n",
      "10:07:15 - mcmc.calculators | INFO: None\n",
      "10:07:15 - mcmc.calculators | INFO: None\n",
      "10:07:15 - mcmc.calculators | INFO: None\n",
      "10:07:15 - mcmc.calculators | INFO: None\n",
      "10:07:15 - mcmc.calculators | INFO: None\n",
      "10:07:15 - mcmc.calculators | INFO: None\n",
      "10:07:15 - mcmc.calculators | INFO: None\n",
      "10:07:15 - mcmc.calculators | INFO: None\n",
      "10:07:15 - mcmc.calculators | INFO: None\n"
     ]
    },
    {
     "name": "stdout",
     "output_type": "stream",
     "text": [
      "Total wall time: 0:00:00\n",
      "Total wall time: 0:00:00\n",
      "Total wall time: 0:00:00\n",
      "Total wall time: 0:00:00\n",
      "Total wall time: 0:00:00\n",
      "Total wall time: 0:00:00\n",
      "Total wall time: 0:00:00\n",
      "Total wall time: 0:00:00\n",
      "Total wall time: 0:00:00\n",
      "Total wall time: 0:00:00\n",
      "Total wall time: 0:00:00\n"
     ]
    },
    {
     "name": "stderr",
     "output_type": "stream",
     "text": [
      "10:07:15 - mcmc.calculators | INFO: None\n",
      "10:07:15 - mcmc.calculators | INFO: None\n",
      "10:07:15 - mcmc.calculators | INFO: None\n",
      "10:07:15 - mcmc.calculators | INFO: None\n",
      "10:07:15 - mcmc.calculators | INFO: None\n",
      "10:07:15 - mcmc.calculators | INFO: None\n",
      "10:07:15 - mcmc.calculators | INFO: None\n",
      "10:07:15 - mcmc.calculators | INFO: None\n",
      "10:07:15 - mcmc.calculators | INFO: None\n",
      "10:07:15 - mcmc.calculators | INFO: None\n",
      "10:07:15 - mcmc.calculators | INFO: None\n",
      "10:07:15 - mcmc.calculators | INFO: None\n"
     ]
    },
    {
     "name": "stdout",
     "output_type": "stream",
     "text": [
      "Total wall time: 0:00:00\n",
      "Total wall time: 0:00:00\n",
      "Total wall time: 0:00:00\n",
      "Total wall time: 0:00:00\n",
      "Total wall time: 0:00:00\n",
      "Total wall time: 0:00:00\n",
      "Total wall time: 0:00:00\n",
      "Total wall time: 0:00:00\n",
      "Total wall time: 0:00:00\n",
      "Total wall time: 0:00:00\n",
      "Total wall time: 0:00:00\n",
      "Total wall time: 0:00:00\n"
     ]
    },
    {
     "name": "stderr",
     "output_type": "stream",
     "text": [
      "10:07:15 - mcmc.calculators | INFO: None\n",
      "10:07:15 - mcmc.calculators | INFO: None\n",
      "10:07:15 - mcmc.calculators | INFO: None\n",
      "10:07:15 - mcmc.calculators | INFO: None\n",
      "10:07:15 - mcmc.calculators | INFO: None\n",
      "10:07:15 - mcmc.calculators | INFO: None\n",
      "10:07:15 - mcmc.calculators | INFO: None\n",
      "10:07:15 - mcmc.calculators | INFO: None\n"
     ]
    },
    {
     "name": "stdout",
     "output_type": "stream",
     "text": [
      "Total wall time: 0:00:00\n",
      "Total wall time: 0:00:00\n",
      "Total wall time: 0:00:00\n",
      "Total wall time: 0:00:00\n",
      "Total wall time: 0:00:00\n",
      "Total wall time: 0:00:00\n",
      "Total wall time: 0:00:00\n",
      "Total wall time: 0:00:00\n"
     ]
    },
    {
     "name": "stderr",
     "output_type": "stream",
     "text": [
      "10:07:16 - mcmc.calculators | INFO: None\n",
      "10:07:16 - mcmc.calculators | INFO: None\n",
      "10:07:16 - mcmc.calculators | INFO: None\n",
      "10:07:16 - mcmc.calculators | INFO: None\n",
      "10:07:16 - mcmc.calculators | INFO: None\n",
      "10:07:16 - mcmc.calculators | INFO: None\n",
      "10:07:16 - mcmc.calculators | INFO: None\n",
      "10:07:16 - mcmc.calculators | INFO: None\n",
      "10:07:16 - mcmc.calculators | INFO: None\n"
     ]
    },
    {
     "name": "stdout",
     "output_type": "stream",
     "text": [
      "Total wall time: 0:00:00\n",
      "Total wall time: 0:00:00\n",
      "Total wall time: 0:00:00\n",
      "Total wall time: 0:00:00\n",
      "Total wall time: 0:00:00\n",
      "Total wall time: 0:00:00\n",
      "Total wall time: 0:00:00\n",
      "Total wall time: 0:00:00\n"
     ]
    },
    {
     "name": "stderr",
     "output_type": "stream",
     "text": [
      "10:07:16 - mcmc.calculators | INFO: None\n",
      "10:07:16 - mcmc.calculators | INFO: None\n",
      "10:07:16 - mcmc.calculators | INFO: None\n",
      "10:07:16 - mcmc.calculators | INFO: None\n",
      "10:07:16 - mcmc.calculators | INFO: None\n",
      "10:07:16 - mcmc.calculators | INFO: None\n",
      "10:07:16 - mcmc.calculators | INFO: None\n",
      "10:07:16 - mcmc.calculators | INFO: None\n",
      "10:07:16 - mcmc.calculators | INFO: None\n",
      "10:07:16 - mcmc.calculators | INFO: None\n",
      "10:07:16 - mcmc.calculators | INFO: None\n"
     ]
    },
    {
     "name": "stdout",
     "output_type": "stream",
     "text": [
      "Total wall time: 0:00:00\n",
      "Total wall time: 0:00:00\n",
      "Total wall time: 0:00:00\n",
      "Total wall time: 0:00:00\n",
      "Total wall time: 0:00:00\n",
      "Total wall time: 0:00:00\n",
      "Total wall time: 0:00:00\n",
      "Total wall time: 0:00:00\n",
      "Total wall time: 0:00:00\n",
      "Total wall time: 0:00:00\n",
      "Total wall time: 0:00:00\n",
      "Total wall time: 0:00:00\n"
     ]
    },
    {
     "name": "stderr",
     "output_type": "stream",
     "text": [
      "10:07:16 - mcmc.calculators | INFO: None\n",
      "10:07:16 - mcmc.calculators | INFO: None\n",
      "10:07:16 - mcmc.calculators | INFO: None\n",
      "10:07:16 - mcmc.calculators | INFO: None\n",
      "10:07:16 - mcmc.calculators | INFO: None\n",
      "10:07:16 - mcmc.calculators | INFO: None\n",
      "10:07:16 - mcmc.calculators | INFO: None\n",
      "10:07:16 - mcmc.calculators | INFO: None\n",
      "10:07:16 - mcmc.calculators | INFO: None\n"
     ]
    },
    {
     "name": "stdout",
     "output_type": "stream",
     "text": [
      "Total wall time: 0:00:00\n",
      "Total wall time: 0:00:00\n",
      "Total wall time: 0:00:00\n",
      "Total wall time: 0:00:00\n",
      "Total wall time: 0:00:00\n",
      "Total wall time: 0:00:00\n",
      "Total wall time: 0:00:00\n",
      "Total wall time: 0:00:00\n"
     ]
    },
    {
     "name": "stderr",
     "output_type": "stream",
     "text": [
      "10:07:16 - mcmc.calculators | INFO: None\n",
      "10:07:16 - mcmc.calculators | INFO: None\n",
      "10:07:16 - mcmc.calculators | INFO: None\n",
      "10:07:16 - mcmc.calculators | INFO: None\n",
      "10:07:16 - mcmc.calculators | INFO: None\n",
      "10:07:16 - mcmc.calculators | INFO: None\n",
      "10:07:16 - mcmc.calculators | INFO: None\n",
      "10:07:16 - mcmc.mcmc | INFO: At iter 104\n"
     ]
    },
    {
     "name": "stdout",
     "output_type": "stream",
     "text": [
      "Total wall time: 0:00:00\n",
      "Total wall time: 0:00:00\n",
      "Total wall time: 0:00:00\n",
      "Total wall time: 0:00:00\n",
      "Total wall time: 0:00:00\n",
      "Total wall time: 0:00:00\n",
      "Total wall time: 0:00:00\n",
      "Total wall time: 0:00:00\n"
     ]
    },
    {
     "name": "stderr",
     "output_type": "stream",
     "text": [
      "10:07:16 - mcmc.calculators | INFO: None\n",
      "10:07:16 - mcmc.calculators | INFO: None\n",
      "10:07:16 - mcmc.system | INFO: Optimized structure has surface energy = -174.577\n",
      "10:07:16 - mcmc.mcmc | INFO: In sweep 2 out of 10\n",
      "10:07:17 - mcmc.calculators | INFO: None\n",
      "10:07:17 - mcmc.calculators | INFO: None\n",
      "10:07:17 - mcmc.calculators | INFO: None\n",
      "10:07:17 - mcmc.calculators | INFO: None\n",
      "10:07:17 - mcmc.calculators | INFO: None\n",
      "10:07:17 - mcmc.calculators | INFO: None\n"
     ]
    },
    {
     "name": "stdout",
     "output_type": "stream",
     "text": [
      "Total wall time: 0:00:00\n",
      "Total wall time: 0:00:00\n",
      "Total wall time: 0:00:00\n",
      "Total wall time: 0:00:00\n",
      "Total wall time: 0:00:00\n",
      "Total wall time: 0:00:00\n",
      "Total wall time: 0:00:00\n",
      "Total wall time: 0:00:00\n"
     ]
    },
    {
     "name": "stderr",
     "output_type": "stream",
     "text": [
      "10:07:17 - mcmc.calculators | INFO: None\n",
      "10:07:17 - mcmc.calculators | INFO: None\n",
      "10:07:17 - mcmc.calculators | INFO: None\n",
      "10:07:17 - mcmc.calculators | INFO: None\n",
      "10:07:17 - mcmc.calculators | INFO: None\n",
      "10:07:17 - mcmc.calculators | INFO: None\n",
      "10:07:17 - mcmc.calculators | INFO: None\n",
      "10:07:17 - mcmc.calculators | INFO: None\n",
      "10:07:17 - mcmc.calculators | INFO: None\n",
      "10:07:17 - mcmc.calculators | INFO: None\n"
     ]
    },
    {
     "name": "stdout",
     "output_type": "stream",
     "text": [
      "Total wall time: 0:00:00\n",
      "Total wall time: 0:00:00\n",
      "Total wall time: 0:00:00\n",
      "Total wall time: 0:00:00\n",
      "Total wall time: 0:00:00\n",
      "Total wall time: 0:00:00\n",
      "Total wall time: 0:00:00\n",
      "Total wall time: 0:00:00\n",
      "Total wall time: 0:00:00\n",
      "Total wall time: 0:00:00\n"
     ]
    },
    {
     "name": "stderr",
     "output_type": "stream",
     "text": [
      "10:07:17 - mcmc.calculators | INFO: None\n",
      "10:07:17 - mcmc.calculators | INFO: None\n",
      "10:07:17 - mcmc.calculators | INFO: None\n",
      "10:07:17 - mcmc.calculators | INFO: None\n",
      "10:07:17 - mcmc.calculators | INFO: None\n",
      "10:07:17 - mcmc.calculators | INFO: None\n",
      "10:07:17 - mcmc.calculators | INFO: None\n",
      "10:07:17 - mcmc.calculators | INFO: None\n",
      "10:07:17 - mcmc.calculators | INFO: None\n",
      "10:07:17 - mcmc.calculators | INFO: None\n",
      "10:07:17 - mcmc.calculators | INFO: None\n",
      "10:07:17 - mcmc.calculators | INFO: None\n"
     ]
    },
    {
     "name": "stdout",
     "output_type": "stream",
     "text": [
      "Total wall time: 0:00:00\n",
      "Total wall time: 0:00:00\n",
      "Total wall time: 0:00:00\n",
      "Total wall time: 0:00:00\n",
      "Total wall time: 0:00:00\n",
      "Total wall time: 0:00:00\n",
      "Total wall time: 0:00:00\n",
      "Total wall time: 0:00:00\n",
      "Total wall time: 0:00:00\n",
      "Total wall time: 0:00:00\n",
      "Total wall time: 0:00:00\n",
      "Total wall time: 0:00:00\n"
     ]
    },
    {
     "name": "stderr",
     "output_type": "stream",
     "text": [
      "10:07:17 - mcmc.calculators | INFO: None\n",
      "10:07:17 - mcmc.calculators | INFO: None\n",
      "10:07:17 - mcmc.calculators | INFO: None\n",
      "10:07:17 - mcmc.calculators | INFO: None\n",
      "10:07:17 - mcmc.calculators | INFO: None\n",
      "10:07:17 - mcmc.calculators | INFO: None\n",
      "10:07:17 - mcmc.calculators | INFO: None\n",
      "10:07:17 - mcmc.calculators | INFO: None\n",
      "10:07:18 - mcmc.calculators | INFO: None\n",
      "10:07:18 - mcmc.calculators | INFO: None\n"
     ]
    },
    {
     "name": "stdout",
     "output_type": "stream",
     "text": [
      "Total wall time: 0:00:00\n",
      "Total wall time: 0:00:00\n",
      "Total wall time: 0:00:00\n",
      "Total wall time: 0:00:00\n",
      "Total wall time: 0:00:00\n",
      "Total wall time: 0:00:00\n",
      "Total wall time: 0:00:00\n",
      "Total wall time: 0:00:00\n",
      "Total wall time: 0:00:00\n",
      "Total wall time: 0:00:00\n"
     ]
    },
    {
     "name": "stderr",
     "output_type": "stream",
     "text": [
      "10:07:18 - mcmc.calculators | INFO: None\n",
      "10:07:18 - mcmc.calculators | INFO: None\n",
      "10:07:18 - mcmc.calculators | INFO: None\n",
      "10:07:18 - mcmc.calculators | INFO: None\n",
      "10:07:18 - mcmc.calculators | INFO: None\n",
      "10:07:18 - mcmc.calculators | INFO: None\n",
      "10:07:18 - mcmc.calculators | INFO: None\n",
      "10:07:18 - mcmc.calculators | INFO: None\n",
      "10:07:18 - mcmc.calculators | INFO: None\n",
      "10:07:18 - mcmc.calculators | INFO: None\n"
     ]
    },
    {
     "name": "stdout",
     "output_type": "stream",
     "text": [
      "Total wall time: 0:00:00\n",
      "Total wall time: 0:00:00\n",
      "Total wall time: 0:00:00\n",
      "Total wall time: 0:00:00\n",
      "Total wall time: 0:00:00\n",
      "Total wall time: 0:00:00\n",
      "Total wall time: 0:00:00\n",
      "Total wall time: 0:00:00\n",
      "Total wall time: 0:00:00\n",
      "Total wall time: 0:00:00\n"
     ]
    },
    {
     "name": "stderr",
     "output_type": "stream",
     "text": [
      "10:07:18 - mcmc.calculators | INFO: None\n",
      "10:07:18 - mcmc.calculators | INFO: None\n",
      "10:07:18 - mcmc.calculators | INFO: None\n",
      "10:07:18 - mcmc.calculators | INFO: None\n",
      "10:07:18 - mcmc.calculators | INFO: None\n",
      "10:07:18 - mcmc.calculators | INFO: None\n",
      "10:07:18 - mcmc.calculators | INFO: None\n",
      "10:07:18 - mcmc.calculators | INFO: None\n",
      "10:07:18 - mcmc.calculators | INFO: None\n",
      "10:07:18 - mcmc.calculators | INFO: None\n"
     ]
    },
    {
     "name": "stdout",
     "output_type": "stream",
     "text": [
      "Total wall time: 0:00:00\n",
      "Total wall time: 0:00:00\n",
      "Total wall time: 0:00:00\n",
      "Total wall time: 0:00:00\n",
      "Total wall time: 0:00:00\n",
      "Total wall time: 0:00:00\n",
      "Total wall time: 0:00:00\n",
      "Total wall time: 0:00:00\n",
      "Total wall time: 0:00:00\n",
      "Total wall time: 0:00:00\n"
     ]
    },
    {
     "name": "stderr",
     "output_type": "stream",
     "text": [
      "10:07:18 - mcmc.calculators | INFO: None\n",
      "10:07:18 - mcmc.calculators | INFO: None\n",
      "10:07:18 - mcmc.calculators | INFO: None\n",
      "10:07:18 - mcmc.calculators | INFO: None\n",
      "10:07:18 - mcmc.calculators | INFO: None\n",
      "10:07:18 - mcmc.calculators | INFO: None\n",
      "10:07:18 - mcmc.calculators | INFO: None\n",
      "10:07:18 - mcmc.calculators | INFO: None\n",
      "10:07:18 - mcmc.calculators | INFO: None\n",
      "10:07:18 - mcmc.calculators | INFO: None\n"
     ]
    },
    {
     "name": "stdout",
     "output_type": "stream",
     "text": [
      "Total wall time: 0:00:00\n",
      "Total wall time: 0:00:00\n",
      "Total wall time: 0:00:00\n",
      "Total wall time: 0:00:00\n",
      "Total wall time: 0:00:00\n",
      "Total wall time: 0:00:00\n",
      "Total wall time: 0:00:00\n",
      "Total wall time: 0:00:00\n",
      "Total wall time: 0:00:00\n",
      "Total wall time: 0:00:00\n"
     ]
    },
    {
     "name": "stderr",
     "output_type": "stream",
     "text": [
      "10:07:18 - mcmc.calculators | INFO: None\n",
      "10:07:18 - mcmc.calculators | INFO: None\n",
      "10:07:18 - mcmc.calculators | INFO: None\n",
      "10:07:18 - mcmc.calculators | INFO: None\n",
      "10:07:18 - mcmc.calculators | INFO: None\n",
      "10:07:18 - mcmc.calculators | INFO: None\n",
      "10:07:18 - mcmc.calculators | INFO: None\n",
      "10:07:18 - mcmc.calculators | INFO: None\n",
      "10:07:18 - mcmc.calculators | INFO: None\n",
      "10:07:18 - mcmc.calculators | INFO: None\n",
      "10:07:18 - mcmc.calculators | INFO: None\n",
      "10:07:18 - mcmc.calculators | INFO: None\n"
     ]
    },
    {
     "name": "stdout",
     "output_type": "stream",
     "text": [
      "Total wall time: 0:00:00\n",
      "Total wall time: 0:00:00\n",
      "Total wall time: 0:00:00\n",
      "Total wall time: 0:00:00\n",
      "Total wall time: 0:00:00\n",
      "Total wall time: 0:00:00\n",
      "Total wall time: 0:00:00\n",
      "Total wall time: 0:00:00\n",
      "Total wall time: 0:00:00\n",
      "Total wall time: 0:00:00\n",
      "Total wall time: 0:00:00\n",
      "Total wall time: 0:00:00\n"
     ]
    },
    {
     "name": "stderr",
     "output_type": "stream",
     "text": [
      "10:07:18 - mcmc.calculators | INFO: None\n",
      "10:07:18 - mcmc.calculators | INFO: None\n",
      "10:07:18 - mcmc.calculators | INFO: None\n",
      "10:07:18 - mcmc.calculators | INFO: None\n",
      "10:07:19 - mcmc.calculators | INFO: None\n",
      "10:07:19 - mcmc.calculators | INFO: None\n",
      "10:07:19 - mcmc.calculators | INFO: None\n",
      "10:07:19 - mcmc.calculators | INFO: None\n",
      "10:07:19 - mcmc.calculators | INFO: None\n"
     ]
    },
    {
     "name": "stdout",
     "output_type": "stream",
     "text": [
      "Total wall time: 0:00:00\n",
      "Total wall time: 0:00:00\n",
      "Total wall time: 0:00:00\n",
      "Total wall time: 0:00:00\n",
      "Total wall time: 0:00:00\n",
      "Total wall time: 0:00:00\n",
      "Total wall time: 0:00:00\n",
      "Total wall time: 0:00:00\n"
     ]
    },
    {
     "name": "stderr",
     "output_type": "stream",
     "text": [
      "10:07:19 - mcmc.calculators | INFO: None\n",
      "10:07:19 - mcmc.calculators | INFO: None\n",
      "10:07:19 - mcmc.calculators | INFO: None\n",
      "10:07:19 - mcmc.calculators | INFO: None\n",
      "10:07:19 - mcmc.calculators | INFO: None\n",
      "10:07:19 - mcmc.calculators | INFO: None\n",
      "10:07:19 - mcmc.calculators | INFO: None\n",
      "10:07:19 - mcmc.calculators | INFO: None\n",
      "10:07:19 - mcmc.calculators | INFO: None\n"
     ]
    },
    {
     "name": "stdout",
     "output_type": "stream",
     "text": [
      "Total wall time: 0:00:00\n",
      "Total wall time: 0:00:00\n",
      "Total wall time: 0:00:00\n",
      "Total wall time: 0:00:00\n",
      "Total wall time: 0:00:00\n",
      "Total wall time: 0:00:00\n",
      "Total wall time: 0:00:00\n",
      "Total wall time: 0:00:00\n",
      "Total wall time: 0:00:00\n",
      "Total wall time: 0:00:00\n"
     ]
    },
    {
     "name": "stderr",
     "output_type": "stream",
     "text": [
      "10:07:19 - mcmc.calculators | INFO: None\n",
      "10:07:19 - mcmc.calculators | INFO: None\n",
      "10:07:19 - mcmc.calculators | INFO: None\n",
      "10:07:19 - mcmc.calculators | INFO: None\n",
      "10:07:19 - mcmc.calculators | INFO: None\n",
      "10:07:19 - mcmc.calculators | INFO: None\n",
      "10:07:19 - mcmc.calculators | INFO: None\n",
      "10:07:19 - mcmc.calculators | INFO: None\n",
      "10:07:19 - mcmc.calculators | INFO: None\n",
      "10:07:19 - mcmc.calculators | INFO: None\n",
      "10:07:19 - mcmc.calculators | INFO: None\n",
      "10:07:19 - mcmc.calculators | INFO: None\n"
     ]
    },
    {
     "name": "stdout",
     "output_type": "stream",
     "text": [
      "Total wall time: 0:00:00\n",
      "Total wall time: 0:00:00\n",
      "Total wall time: 0:00:00\n",
      "Total wall time: 0:00:00\n",
      "Total wall time: 0:00:00\n",
      "Total wall time: 0:00:00\n",
      "Total wall time: 0:00:00\n",
      "Total wall time: 0:00:00\n",
      "Total wall time: 0:00:00\n",
      "Total wall time: 0:00:00\n",
      "Total wall time: 0:00:00\n",
      "Total wall time: 0:00:00\n"
     ]
    },
    {
     "name": "stderr",
     "output_type": "stream",
     "text": [
      "10:07:19 - mcmc.calculators | INFO: None\n",
      "10:07:19 - mcmc.calculators | INFO: None\n",
      "10:07:19 - mcmc.calculators | INFO: None\n",
      "10:07:19 - mcmc.calculators | INFO: None\n",
      "10:07:19 - mcmc.calculators | INFO: None\n",
      "10:07:19 - mcmc.calculators | INFO: None\n",
      "10:07:19 - mcmc.calculators | INFO: None\n",
      "10:07:19 - mcmc.calculators | INFO: None\n"
     ]
    },
    {
     "name": "stdout",
     "output_type": "stream",
     "text": [
      "Total wall time: 0:00:00\n",
      "Total wall time: 0:00:00\n",
      "Total wall time: 0:00:00\n",
      "Total wall time: 0:00:00\n",
      "Total wall time: 0:00:00\n",
      "Total wall time: 0:00:00\n",
      "Total wall time: 0:00:00\n",
      "Total wall time: 0:00:00\n"
     ]
    },
    {
     "name": "stderr",
     "output_type": "stream",
     "text": [
      "10:07:19 - mcmc.calculators | INFO: None\n",
      "10:07:19 - mcmc.calculators | INFO: None\n",
      "10:07:19 - mcmc.calculators | INFO: None\n",
      "10:07:19 - mcmc.calculators | INFO: None\n",
      "10:07:19 - mcmc.calculators | INFO: None\n",
      "10:07:19 - mcmc.calculators | INFO: None\n",
      "10:07:19 - mcmc.calculators | INFO: None\n",
      "10:07:19 - mcmc.calculators | INFO: None\n",
      "10:07:19 - mcmc.calculators | INFO: None\n",
      "10:07:19 - mcmc.calculators | INFO: None\n"
     ]
    },
    {
     "name": "stdout",
     "output_type": "stream",
     "text": [
      "Total wall time: 0:00:00\n",
      "Total wall time: 0:00:00\n",
      "Total wall time: 0:00:00\n",
      "Total wall time: 0:00:00\n",
      "Total wall time: 0:00:00\n",
      "Total wall time: 0:00:00\n",
      "Total wall time: 0:00:00\n",
      "Total wall time: 0:00:00\n",
      "Total wall time: 0:00:00\n",
      "Total wall time: 0:00:00\n"
     ]
    },
    {
     "name": "stderr",
     "output_type": "stream",
     "text": [
      "10:07:19 - mcmc.calculators | INFO: None\n",
      "10:07:19 - mcmc.calculators | INFO: None\n",
      "10:07:19 - mcmc.calculators | INFO: None\n",
      "10:07:19 - mcmc.calculators | INFO: None\n",
      "10:07:20 - mcmc.calculators | INFO: None\n",
      "10:07:20 - mcmc.calculators | INFO: None\n",
      "10:07:20 - mcmc.calculators | INFO: None\n",
      "10:07:20 - mcmc.calculators | INFO: None\n",
      "10:07:20 - mcmc.calculators | INFO: None\n",
      "10:07:20 - mcmc.calculators | INFO: None\n",
      "10:07:20 - mcmc.calculators | INFO: None\n",
      "10:07:20 - mcmc.calculators | INFO: None\n",
      "10:07:20 - mcmc.calculators | INFO: None\n"
     ]
    },
    {
     "name": "stdout",
     "output_type": "stream",
     "text": [
      "Total wall time: 0:00:00\n",
      "Total wall time: 0:00:00\n",
      "Total wall time: 0:00:00\n",
      "Total wall time: 0:00:00\n",
      "Total wall time: 0:00:00\n",
      "Total wall time: 0:00:00\n",
      "Total wall time: 0:00:00\n",
      "Total wall time: 0:00:00\n",
      "Total wall time: 0:00:00\n",
      "Total wall time: 0:00:00\n",
      "Total wall time: 0:00:00\n",
      "Total wall time: 0:00:00\n"
     ]
    },
    {
     "name": "stderr",
     "output_type": "stream",
     "text": [
      "10:07:20 - mcmc.calculators | INFO: None\n",
      "10:07:20 - mcmc.calculators | INFO: None\n",
      "10:07:20 - mcmc.calculators | INFO: None\n",
      "10:07:20 - mcmc.calculators | INFO: None\n",
      "10:07:20 - mcmc.calculators | INFO: None\n",
      "10:07:20 - mcmc.calculators | INFO: None\n",
      "10:07:20 - mcmc.calculators | INFO: None\n",
      "10:07:20 - mcmc.calculators | INFO: None\n",
      "10:07:20 - mcmc.calculators | INFO: None\n"
     ]
    },
    {
     "name": "stdout",
     "output_type": "stream",
     "text": [
      "Total wall time: 0:00:00\n",
      "Total wall time: 0:00:00\n",
      "Total wall time: 0:00:00\n",
      "Total wall time: 0:00:00\n",
      "Total wall time: 0:00:00\n",
      "Total wall time: 0:00:00\n",
      "Total wall time: 0:00:00\n",
      "Total wall time: 0:00:00\n",
      "Total wall time: 0:00:00\n",
      "Total wall time: 0:00:00\n"
     ]
    },
    {
     "name": "stderr",
     "output_type": "stream",
     "text": [
      "10:07:20 - mcmc.calculators | INFO: None\n",
      "10:07:20 - mcmc.calculators | INFO: None\n",
      "10:07:20 - mcmc.calculators | INFO: None\n",
      "10:07:20 - mcmc.calculators | INFO: None\n",
      "10:07:20 - mcmc.calculators | INFO: None\n",
      "10:07:20 - mcmc.calculators | INFO: None\n",
      "10:07:20 - mcmc.calculators | INFO: None\n",
      "10:07:20 - mcmc.calculators | INFO: None\n",
      "10:07:20 - mcmc.calculators | INFO: None\n",
      "10:07:20 - mcmc.calculators | INFO: None\n",
      "10:07:20 - mcmc.calculators | INFO: None\n",
      "10:07:20 - mcmc.calculators | INFO: None\n"
     ]
    },
    {
     "name": "stdout",
     "output_type": "stream",
     "text": [
      "Total wall time: 0:00:00\n",
      "Total wall time: 0:00:00\n",
      "Total wall time: 0:00:00\n",
      "Total wall time: 0:00:00\n",
      "Total wall time: 0:00:00\n",
      "Total wall time: 0:00:00\n",
      "Total wall time: 0:00:00\n",
      "Total wall time: 0:00:00\n",
      "Total wall time: 0:00:00\n",
      "Total wall time: 0:00:00\n",
      "Total wall time: 0:00:00\n",
      "Total wall time: 0:00:00\n"
     ]
    },
    {
     "name": "stderr",
     "output_type": "stream",
     "text": [
      "10:07:20 - mcmc.calculators | INFO: None\n",
      "10:07:20 - mcmc.calculators | INFO: None\n",
      "10:07:20 - mcmc.calculators | INFO: None\n",
      "10:07:20 - mcmc.calculators | INFO: None\n",
      "10:07:20 - mcmc.calculators | INFO: None\n",
      "10:07:20 - mcmc.calculators | INFO: None\n",
      "10:07:20 - mcmc.calculators | INFO: None\n",
      "10:07:20 - mcmc.calculators | INFO: None\n",
      "10:07:20 - mcmc.calculators | INFO: None\n",
      "10:07:20 - mcmc.calculators | INFO: None\n",
      "10:07:20 - mcmc.calculators | INFO: None\n"
     ]
    },
    {
     "name": "stdout",
     "output_type": "stream",
     "text": [
      "Total wall time: 0:00:00\n",
      "Total wall time: 0:00:00\n",
      "Total wall time: 0:00:00\n",
      "Total wall time: 0:00:00\n",
      "Total wall time: 0:00:00\n",
      "Total wall time: 0:00:00\n",
      "Total wall time: 0:00:00\n",
      "Total wall time: 0:00:00\n",
      "Total wall time: 0:00:00\n",
      "Total wall time: 0:00:00\n",
      "Total wall time: 0:00:00\n"
     ]
    },
    {
     "name": "stderr",
     "output_type": "stream",
     "text": [
      "10:07:20 - mcmc.calculators | INFO: None\n",
      "10:07:20 - mcmc.calculators | INFO: None\n",
      "10:07:20 - mcmc.calculators | INFO: None\n",
      "10:07:20 - mcmc.calculators | INFO: None\n",
      "10:07:20 - mcmc.calculators | INFO: None\n",
      "10:07:20 - mcmc.calculators | INFO: None\n",
      "10:07:20 - mcmc.calculators | INFO: None\n",
      "10:07:20 - mcmc.calculators | INFO: None\n",
      "10:07:20 - mcmc.calculators | INFO: None\n"
     ]
    },
    {
     "name": "stdout",
     "output_type": "stream",
     "text": [
      "Total wall time: 0:00:00\n",
      "Total wall time: 0:00:00\n",
      "Total wall time: 0:00:00\n",
      "Total wall time: 0:00:00\n",
      "Total wall time: 0:00:00\n",
      "Total wall time: 0:00:00\n",
      "Total wall time: 0:00:00\n",
      "Total wall time: 0:00:00\n",
      "Total wall time: 0:00:00\n"
     ]
    },
    {
     "name": "stderr",
     "output_type": "stream",
     "text": [
      "10:07:21 - mcmc.calculators | INFO: None\n",
      "10:07:21 - mcmc.calculators | INFO: None\n",
      "10:07:21 - mcmc.calculators | INFO: None\n",
      "10:07:21 - mcmc.calculators | INFO: None\n",
      "10:07:21 - mcmc.calculators | INFO: None\n",
      "10:07:21 - mcmc.calculators | INFO: None\n",
      "10:07:21 - mcmc.calculators | INFO: None\n",
      "10:07:21 - mcmc.calculators | INFO: None\n",
      "10:07:21 - mcmc.calculators | INFO: None\n"
     ]
    },
    {
     "name": "stdout",
     "output_type": "stream",
     "text": [
      "Total wall time: 0:00:00\n",
      "Total wall time: 0:00:00\n",
      "Total wall time: 0:00:00\n",
      "Total wall time: 0:00:00\n",
      "Total wall time: 0:00:00\n",
      "Total wall time: 0:00:00\n",
      "Total wall time: 0:00:00\n",
      "Total wall time: 0:00:00\n",
      "Total wall time: 0:00:00\n"
     ]
    },
    {
     "name": "stderr",
     "output_type": "stream",
     "text": [
      "10:07:21 - mcmc.calculators | INFO: None\n",
      "10:07:21 - mcmc.calculators | INFO: None\n",
      "10:07:21 - mcmc.calculators | INFO: None\n",
      "10:07:21 - mcmc.calculators | INFO: None\n",
      "10:07:21 - mcmc.calculators | INFO: None\n",
      "10:07:21 - mcmc.calculators | INFO: None\n",
      "10:07:21 - mcmc.calculators | INFO: None\n",
      "10:07:21 - mcmc.calculators | INFO: None\n",
      "10:07:21 - mcmc.calculators | INFO: None\n"
     ]
    },
    {
     "name": "stdout",
     "output_type": "stream",
     "text": [
      "Total wall time: 0:00:00\n",
      "Total wall time: 0:00:00\n",
      "Total wall time: 0:00:00\n",
      "Total wall time: 0:00:00\n",
      "Total wall time: 0:00:00\n",
      "Total wall time: 0:00:00\n",
      "Total wall time: 0:00:00\n",
      "Total wall time: 0:00:00\n",
      "Total wall time: 0:00:00\n"
     ]
    },
    {
     "name": "stderr",
     "output_type": "stream",
     "text": [
      "10:07:21 - mcmc.calculators | INFO: None\n",
      "10:07:21 - mcmc.calculators | INFO: None\n",
      "10:07:21 - mcmc.calculators | INFO: None\n",
      "10:07:21 - mcmc.calculators | INFO: None\n",
      "10:07:21 - mcmc.calculators | INFO: None\n",
      "10:07:21 - mcmc.calculators | INFO: None\n",
      "10:07:21 - mcmc.mcmc | INFO: At iter 208\n",
      "10:07:21 - mcmc.calculators | INFO: None\n",
      "10:07:21 - mcmc.calculators | INFO: None\n",
      "10:07:21 - mcmc.calculators | INFO: None\n",
      "10:07:21 - mcmc.system | INFO: Optimized structure has surface energy = -177.414\n",
      "10:07:21 - mcmc.mcmc | INFO: In sweep 3 out of 10\n",
      "10:07:21 - mcmc.calculators | INFO: None\n",
      "10:07:21 - mcmc.calculators | INFO: None\n"
     ]
    },
    {
     "name": "stdout",
     "output_type": "stream",
     "text": [
      "Total wall time: 0:00:00\n",
      "Total wall time: 0:00:00\n",
      "Total wall time: 0:00:00\n",
      "Total wall time: 0:00:00\n",
      "Total wall time: 0:00:00\n",
      "Total wall time: 0:00:00\n",
      "Total wall time: 0:00:00\n",
      "Total wall time: 0:00:00\n",
      "Total wall time: 0:00:00\n",
      "Total wall time: 0:00:00\n",
      "Total wall time: 0:00:00\n"
     ]
    },
    {
     "name": "stderr",
     "output_type": "stream",
     "text": [
      "10:07:21 - mcmc.calculators | INFO: None\n",
      "10:07:21 - mcmc.calculators | INFO: None\n",
      "10:07:21 - mcmc.calculators | INFO: None\n",
      "10:07:21 - mcmc.calculators | INFO: None\n",
      "10:07:21 - mcmc.calculators | INFO: None\n",
      "10:07:21 - mcmc.calculators | INFO: None\n",
      "10:07:21 - mcmc.calculators | INFO: None\n",
      "10:07:21 - mcmc.calculators | INFO: None\n"
     ]
    },
    {
     "name": "stdout",
     "output_type": "stream",
     "text": [
      "Total wall time: 0:00:00\n",
      "Total wall time: 0:00:00\n",
      "Total wall time: 0:00:00\n",
      "Total wall time: 0:00:00\n",
      "Total wall time: 0:00:00\n",
      "Total wall time: 0:00:00\n",
      "Total wall time: 0:00:00\n",
      "Total wall time: 0:00:00\n"
     ]
    },
    {
     "name": "stderr",
     "output_type": "stream",
     "text": [
      "10:07:21 - mcmc.calculators | INFO: None\n",
      "10:07:21 - mcmc.calculators | INFO: None\n",
      "10:07:21 - mcmc.calculators | INFO: None\n",
      "10:07:21 - mcmc.calculators | INFO: None\n",
      "10:07:21 - mcmc.calculators | INFO: None\n",
      "10:07:21 - mcmc.calculators | INFO: None\n",
      "10:07:22 - mcmc.calculators | INFO: None\n",
      "10:07:22 - mcmc.calculators | INFO: None\n",
      "10:07:22 - mcmc.calculators | INFO: None\n",
      "10:07:22 - mcmc.calculators | INFO: None\n"
     ]
    },
    {
     "name": "stdout",
     "output_type": "stream",
     "text": [
      "Total wall time: 0:00:00\n",
      "Total wall time: 0:00:00\n",
      "Total wall time: 0:00:00\n",
      "Total wall time: 0:00:00\n",
      "Total wall time: 0:00:00\n",
      "Total wall time: 0:00:00\n",
      "Total wall time: 0:00:00\n",
      "Total wall time: 0:00:00\n",
      "Total wall time: 0:00:00\n",
      "Total wall time: 0:00:00\n"
     ]
    },
    {
     "name": "stderr",
     "output_type": "stream",
     "text": [
      "10:07:22 - mcmc.calculators | INFO: None\n",
      "10:07:22 - mcmc.calculators | INFO: None\n",
      "10:07:22 - mcmc.calculators | INFO: None\n",
      "10:07:22 - mcmc.calculators | INFO: None\n",
      "10:07:22 - mcmc.calculators | INFO: None\n",
      "10:07:22 - mcmc.calculators | INFO: None\n",
      "10:07:22 - mcmc.calculators | INFO: None\n",
      "10:07:22 - mcmc.calculators | INFO: None\n",
      "10:07:22 - mcmc.calculators | INFO: None\n",
      "10:07:22 - mcmc.calculators | INFO: None\n"
     ]
    },
    {
     "name": "stdout",
     "output_type": "stream",
     "text": [
      "Total wall time: 0:00:00\n",
      "Total wall time: 0:00:00\n",
      "Total wall time: 0:00:00\n",
      "Total wall time: 0:00:00\n",
      "Total wall time: 0:00:00\n",
      "Total wall time: 0:00:00\n",
      "Total wall time: 0:00:00\n",
      "Total wall time: 0:00:00\n",
      "Total wall time: 0:00:00\n",
      "Total wall time: 0:00:00\n"
     ]
    },
    {
     "name": "stderr",
     "output_type": "stream",
     "text": [
      "10:07:22 - mcmc.calculators | INFO: None\n",
      "10:07:22 - mcmc.calculators | INFO: None\n",
      "10:07:22 - mcmc.calculators | INFO: None\n",
      "10:07:22 - mcmc.calculators | INFO: None\n",
      "10:07:22 - mcmc.calculators | INFO: None\n",
      "10:07:22 - mcmc.calculators | INFO: None\n",
      "10:07:22 - mcmc.calculators | INFO: None\n",
      "10:07:22 - mcmc.calculators | INFO: None\n",
      "10:07:22 - mcmc.calculators | INFO: None\n",
      "10:07:22 - mcmc.calculators | INFO: None\n"
     ]
    },
    {
     "name": "stdout",
     "output_type": "stream",
     "text": [
      "Total wall time: 0:00:00\n",
      "Total wall time: 0:00:00\n",
      "Total wall time: 0:00:00\n",
      "Total wall time: 0:00:00\n",
      "Total wall time: 0:00:00\n",
      "Total wall time: 0:00:00\n",
      "Total wall time: 0:00:00\n",
      "Total wall time: 0:00:00\n",
      "Total wall time: 0:00:00\n",
      "Total wall time: 0:00:00\n"
     ]
    },
    {
     "name": "stderr",
     "output_type": "stream",
     "text": [
      "10:07:22 - mcmc.calculators | INFO: None\n",
      "10:07:22 - mcmc.calculators | INFO: None\n",
      "10:07:22 - mcmc.calculators | INFO: None\n",
      "10:07:22 - mcmc.calculators | INFO: None\n",
      "10:07:22 - mcmc.calculators | INFO: None\n",
      "10:07:22 - mcmc.calculators | INFO: None\n"
     ]
    },
    {
     "name": "stdout",
     "output_type": "stream",
     "text": [
      "Total wall time: 0:00:00\n",
      "Total wall time: 0:00:00\n",
      "Total wall time: 0:00:00\n",
      "Total wall time: 0:00:00\n",
      "Total wall time: 0:00:00\n",
      "Total wall time: 0:00:00\n"
     ]
    },
    {
     "name": "stderr",
     "output_type": "stream",
     "text": [
      "10:07:22 - mcmc.calculators | INFO: None\n",
      "10:07:22 - mcmc.calculators | INFO: None\n",
      "10:07:22 - mcmc.calculators | INFO: None\n",
      "10:07:22 - mcmc.calculators | INFO: None\n"
     ]
    },
    {
     "name": "stdout",
     "output_type": "stream",
     "text": [
      "Total wall time: 0:00:00\n",
      "Total wall time: 0:00:00\n",
      "Total wall time: 0:00:00\n",
      "Total wall time: 0:00:00\n"
     ]
    },
    {
     "name": "stderr",
     "output_type": "stream",
     "text": [
      "10:07:23 - mcmc.calculators | INFO: None\n",
      "10:07:23 - mcmc.calculators | INFO: None\n",
      "10:07:23 - mcmc.calculators | INFO: None\n",
      "10:07:23 - mcmc.calculators | INFO: None\n",
      "10:07:23 - mcmc.calculators | INFO: None\n",
      "10:07:23 - mcmc.calculators | INFO: None\n",
      "10:07:23 - mcmc.calculators | INFO: None\n",
      "10:07:23 - mcmc.calculators | INFO: None\n",
      "10:07:23 - mcmc.calculators | INFO: None\n"
     ]
    },
    {
     "name": "stdout",
     "output_type": "stream",
     "text": [
      "Total wall time: 0:00:00\n",
      "Total wall time: 0:00:00\n",
      "Total wall time: 0:00:00\n",
      "Total wall time: 0:00:00\n",
      "Total wall time: 0:00:00\n",
      "Total wall time: 0:00:00\n",
      "Total wall time: 0:00:00\n",
      "Total wall time: 0:00:00\n",
      "Total wall time: 0:00:00\n"
     ]
    },
    {
     "name": "stderr",
     "output_type": "stream",
     "text": [
      "10:07:23 - mcmc.calculators | INFO: None\n",
      "10:07:23 - mcmc.calculators | INFO: None\n",
      "10:07:23 - mcmc.calculators | INFO: None\n",
      "10:07:23 - mcmc.calculators | INFO: None\n",
      "10:07:23 - mcmc.calculators | INFO: None\n",
      "10:07:23 - mcmc.calculators | INFO: None\n",
      "10:07:23 - mcmc.calculators | INFO: None\n",
      "10:07:23 - mcmc.calculators | INFO: None\n",
      "10:07:23 - mcmc.calculators | INFO: None\n",
      "10:07:23 - mcmc.calculators | INFO: None\n"
     ]
    },
    {
     "name": "stdout",
     "output_type": "stream",
     "text": [
      "Total wall time: 0:00:00\n",
      "Total wall time: 0:00:00\n",
      "Total wall time: 0:00:00\n",
      "Total wall time: 0:00:00\n",
      "Total wall time: 0:00:00\n",
      "Total wall time: 0:00:00\n",
      "Total wall time: 0:00:00\n",
      "Total wall time: 0:00:00\n",
      "Total wall time: 0:00:00\n",
      "Total wall time: 0:00:00\n"
     ]
    },
    {
     "name": "stderr",
     "output_type": "stream",
     "text": [
      "10:07:23 - mcmc.calculators | INFO: None\n",
      "10:07:23 - mcmc.calculators | INFO: None\n",
      "10:07:23 - mcmc.calculators | INFO: None\n",
      "10:07:23 - mcmc.calculators | INFO: None\n",
      "10:07:23 - mcmc.calculators | INFO: None\n",
      "10:07:23 - mcmc.calculators | INFO: None\n",
      "10:07:23 - mcmc.calculators | INFO: None\n",
      "10:07:23 - mcmc.calculators | INFO: None\n",
      "10:07:23 - mcmc.calculators | INFO: None\n"
     ]
    },
    {
     "name": "stdout",
     "output_type": "stream",
     "text": [
      "Total wall time: 0:00:00\n",
      "Total wall time: 0:00:00\n",
      "Total wall time: 0:00:00\n",
      "Total wall time: 0:00:00\n",
      "Total wall time: 0:00:00\n",
      "Total wall time: 0:00:00\n",
      "Total wall time: 0:00:00\n",
      "Total wall time: 0:00:00\n",
      "Total wall time: 0:00:00\n"
     ]
    },
    {
     "name": "stderr",
     "output_type": "stream",
     "text": [
      "10:07:23 - mcmc.calculators | INFO: None\n",
      "10:07:23 - mcmc.calculators | INFO: None\n",
      "10:07:23 - mcmc.calculators | INFO: None\n",
      "10:07:23 - mcmc.calculators | INFO: None\n",
      "10:07:23 - mcmc.calculators | INFO: None\n",
      "10:07:23 - mcmc.calculators | INFO: None\n",
      "10:07:23 - mcmc.calculators | INFO: None\n",
      "10:07:23 - mcmc.calculators | INFO: None\n",
      "10:07:23 - mcmc.calculators | INFO: None\n",
      "10:07:23 - mcmc.calculators | INFO: None\n"
     ]
    },
    {
     "name": "stdout",
     "output_type": "stream",
     "text": [
      "Total wall time: 0:00:00\n",
      "Total wall time: 0:00:00\n",
      "Total wall time: 0:00:00\n",
      "Total wall time: 0:00:00\n",
      "Total wall time: 0:00:00\n",
      "Total wall time: 0:00:00\n",
      "Total wall time: 0:00:00\n",
      "Total wall time: 0:00:00\n",
      "Total wall time: 0:00:00\n",
      "Total wall time: 0:00:00\n"
     ]
    },
    {
     "name": "stderr",
     "output_type": "stream",
     "text": [
      "10:07:23 - mcmc.calculators | INFO: None\n",
      "10:07:23 - mcmc.calculators | INFO: None\n",
      "10:07:23 - mcmc.calculators | INFO: None\n",
      "10:07:23 - mcmc.calculators | INFO: None\n",
      "10:07:23 - mcmc.calculators | INFO: None\n",
      "10:07:23 - mcmc.calculators | INFO: None\n",
      "10:07:24 - mcmc.calculators | INFO: None\n",
      "10:07:24 - mcmc.calculators | INFO: None\n",
      "10:07:24 - mcmc.calculators | INFO: None\n",
      "10:07:24 - mcmc.calculators | INFO: None\n",
      "10:07:24 - mcmc.calculators | INFO: None\n"
     ]
    },
    {
     "name": "stdout",
     "output_type": "stream",
     "text": [
      "Total wall time: 0:00:00\n",
      "Total wall time: 0:00:00\n",
      "Total wall time: 0:00:00\n",
      "Total wall time: 0:00:00\n",
      "Total wall time: 0:00:00\n",
      "Total wall time: 0:00:00\n",
      "Total wall time: 0:00:00\n",
      "Total wall time: 0:00:00\n",
      "Total wall time: 0:00:00\n",
      "Total wall time: 0:00:00\n",
      "Total wall time: 0:00:00\n"
     ]
    },
    {
     "name": "stderr",
     "output_type": "stream",
     "text": [
      "10:07:24 - mcmc.calculators | INFO: None\n",
      "10:07:24 - mcmc.calculators | INFO: None\n",
      "10:07:24 - mcmc.calculators | INFO: None\n",
      "10:07:24 - mcmc.calculators | INFO: None\n",
      "10:07:24 - mcmc.calculators | INFO: None\n",
      "10:07:24 - mcmc.calculators | INFO: None\n",
      "10:07:24 - mcmc.calculators | INFO: None\n",
      "10:07:24 - mcmc.calculators | INFO: None\n",
      "10:07:24 - mcmc.calculators | INFO: None\n"
     ]
    },
    {
     "name": "stdout",
     "output_type": "stream",
     "text": [
      "Total wall time: 0:00:00\n",
      "Total wall time: 0:00:00\n",
      "Total wall time: 0:00:00\n",
      "Total wall time: 0:00:00\n",
      "Total wall time: 0:00:00\n",
      "Total wall time: 0:00:00\n",
      "Total wall time: 0:00:00\n",
      "Total wall time: 0:00:00\n",
      "Total wall time: 0:00:00\n"
     ]
    },
    {
     "name": "stderr",
     "output_type": "stream",
     "text": [
      "10:07:24 - mcmc.calculators | INFO: None\n",
      "10:07:24 - mcmc.calculators | INFO: None\n",
      "10:07:24 - mcmc.calculators | INFO: None\n",
      "10:07:24 - mcmc.calculators | INFO: None\n",
      "10:07:24 - mcmc.calculators | INFO: None\n",
      "10:07:24 - mcmc.calculators | INFO: None\n",
      "10:07:24 - mcmc.calculators | INFO: None\n",
      "10:07:24 - mcmc.calculators | INFO: None\n"
     ]
    },
    {
     "name": "stdout",
     "output_type": "stream",
     "text": [
      "Total wall time: 0:00:00\n",
      "Total wall time: 0:00:00\n",
      "Total wall time: 0:00:00\n",
      "Total wall time: 0:00:00\n",
      "Total wall time: 0:00:00\n",
      "Total wall time: 0:00:00\n",
      "Total wall time: 0:00:00\n",
      "Total wall time: 0:00:00\n"
     ]
    },
    {
     "name": "stderr",
     "output_type": "stream",
     "text": [
      "10:07:24 - mcmc.calculators | INFO: None\n",
      "10:07:24 - mcmc.calculators | INFO: None\n",
      "10:07:24 - mcmc.calculators | INFO: None\n",
      "10:07:24 - mcmc.calculators | INFO: None\n",
      "10:07:24 - mcmc.calculators | INFO: None\n",
      "10:07:24 - mcmc.calculators | INFO: None\n",
      "10:07:24 - mcmc.calculators | INFO: None\n",
      "10:07:24 - mcmc.calculators | INFO: None\n",
      "10:07:24 - mcmc.calculators | INFO: None\n",
      "10:07:24 - mcmc.calculators | INFO: None\n"
     ]
    },
    {
     "name": "stdout",
     "output_type": "stream",
     "text": [
      "Total wall time: 0:00:00\n",
      "Total wall time: 0:00:00\n",
      "Total wall time: 0:00:00\n",
      "Total wall time: 0:00:00\n",
      "Total wall time: 0:00:00\n",
      "Total wall time: 0:00:00\n",
      "Total wall time: 0:00:00\n",
      "Total wall time: 0:00:00\n",
      "Total wall time: 0:00:00\n"
     ]
    },
    {
     "name": "stderr",
     "output_type": "stream",
     "text": [
      "10:07:24 - mcmc.calculators | INFO: None\n",
      "10:07:24 - mcmc.calculators | INFO: None\n",
      "10:07:24 - mcmc.calculators | INFO: None\n",
      "10:07:24 - mcmc.calculators | INFO: None\n",
      "10:07:24 - mcmc.calculators | INFO: None\n",
      "10:07:24 - mcmc.calculators | INFO: None\n",
      "10:07:24 - mcmc.calculators | INFO: None\n",
      "10:07:24 - mcmc.calculators | INFO: None\n"
     ]
    },
    {
     "name": "stdout",
     "output_type": "stream",
     "text": [
      "Total wall time: 0:00:00\n",
      "Total wall time: 0:00:00\n",
      "Total wall time: 0:00:00\n",
      "Total wall time: 0:00:00\n",
      "Total wall time: 0:00:00\n",
      "Total wall time: 0:00:00\n",
      "Total wall time: 0:00:00\n",
      "Total wall time: 0:00:00\n",
      "Total wall time: 0:00:00\n"
     ]
    },
    {
     "name": "stderr",
     "output_type": "stream",
     "text": [
      "10:07:24 - mcmc.calculators | INFO: None\n",
      "10:07:24 - mcmc.calculators | INFO: None\n",
      "10:07:24 - mcmc.calculators | INFO: None\n",
      "10:07:24 - mcmc.calculators | INFO: None\n",
      "10:07:24 - mcmc.calculators | INFO: None\n",
      "10:07:25 - mcmc.calculators | INFO: None\n",
      "10:07:25 - mcmc.calculators | INFO: None\n",
      "10:07:25 - mcmc.calculators | INFO: None\n"
     ]
    },
    {
     "name": "stdout",
     "output_type": "stream",
     "text": [
      "Total wall time: 0:00:00\n",
      "Total wall time: 0:00:00\n",
      "Total wall time: 0:00:00\n",
      "Total wall time: 0:00:00\n",
      "Total wall time: 0:00:00\n",
      "Total wall time: 0:00:00\n",
      "Total wall time: 0:00:00\n"
     ]
    },
    {
     "name": "stderr",
     "output_type": "stream",
     "text": [
      "10:07:25 - mcmc.calculators | INFO: None\n",
      "10:07:25 - mcmc.calculators | INFO: None\n",
      "10:07:25 - mcmc.calculators | INFO: None\n",
      "10:07:25 - mcmc.calculators | INFO: None\n",
      "10:07:25 - mcmc.calculators | INFO: None\n"
     ]
    },
    {
     "name": "stdout",
     "output_type": "stream",
     "text": [
      "Total wall time: 0:00:00\n",
      "Total wall time: 0:00:00\n",
      "Total wall time: 0:00:00\n",
      "Total wall time: 0:00:00\n",
      "Total wall time: 0:00:00\n"
     ]
    },
    {
     "name": "stderr",
     "output_type": "stream",
     "text": [
      "10:07:25 - mcmc.calculators | INFO: None\n",
      "10:07:25 - mcmc.calculators | INFO: None\n",
      "10:07:25 - mcmc.calculators | INFO: None\n",
      "10:07:25 - mcmc.calculators | INFO: None\n",
      "10:07:25 - mcmc.calculators | INFO: None\n",
      "10:07:25 - mcmc.calculators | INFO: None\n",
      "10:07:25 - mcmc.calculators | INFO: None\n",
      "10:07:25 - mcmc.calculators | INFO: None\n",
      "10:07:25 - mcmc.calculators | INFO: None\n"
     ]
    },
    {
     "name": "stdout",
     "output_type": "stream",
     "text": [
      "Total wall time: 0:00:00\n",
      "Total wall time: 0:00:00\n",
      "Total wall time: 0:00:00\n",
      "Total wall time: 0:00:00\n",
      "Total wall time: 0:00:00\n",
      "Total wall time: 0:00:00\n",
      "Total wall time: 0:00:00\n",
      "Total wall time: 0:00:00\n",
      "Total wall time: 0:00:00\n",
      "Total wall time: 0:00:00\n"
     ]
    },
    {
     "name": "stderr",
     "output_type": "stream",
     "text": [
      "10:07:25 - mcmc.calculators | INFO: None\n",
      "10:07:25 - mcmc.calculators | INFO: None\n",
      "10:07:25 - mcmc.calculators | INFO: None\n",
      "10:07:25 - mcmc.calculators | INFO: None\n",
      "10:07:25 - mcmc.calculators | INFO: None\n",
      "10:07:25 - mcmc.calculators | INFO: None\n",
      "10:07:25 - mcmc.calculators | INFO: None\n",
      "10:07:25 - mcmc.calculators | INFO: None\n",
      "10:07:25 - mcmc.calculators | INFO: None\n",
      "10:07:25 - mcmc.calculators | INFO: None\n",
      "10:07:25 - mcmc.calculators | INFO: None\n",
      "10:07:25 - mcmc.calculators | INFO: None\n",
      "10:07:25 - mcmc.calculators | INFO: None\n",
      "10:07:25 - mcmc.calculators | INFO: None\n",
      "10:07:25 - mcmc.calculators | INFO: None\n",
      "10:07:25 - mcmc.calculators | INFO: None\n"
     ]
    },
    {
     "name": "stdout",
     "output_type": "stream",
     "text": [
      "Total wall time: 0:00:00\n",
      "Total wall time: 0:00:00\n",
      "Total wall time: 0:00:00\n",
      "Total wall time: 0:00:00\n",
      "Total wall time: 0:00:00\n",
      "Total wall time: 0:00:00\n",
      "Total wall time: 0:00:00\n",
      "Total wall time: 0:00:00\n",
      "Total wall time: 0:00:00\n",
      "Total wall time: 0:00:00\n",
      "Total wall time: 0:00:00\n",
      "Total wall time: 0:00:00\n",
      "Total wall time: 0:00:00\n",
      "Total wall time: 0:00:00\n",
      "Total wall time: 0:00:00\n",
      "Total wall time: 0:00:00\n"
     ]
    },
    {
     "name": "stderr",
     "output_type": "stream",
     "text": [
      "10:07:25 - mcmc.calculators | INFO: None\n",
      "10:07:25 - mcmc.calculators | INFO: None\n",
      "10:07:25 - mcmc.calculators | INFO: None\n",
      "10:07:25 - mcmc.calculators | INFO: None\n",
      "10:07:25 - mcmc.calculators | INFO: None\n",
      "10:07:25 - mcmc.calculators | INFO: None\n",
      "10:07:25 - mcmc.calculators | INFO: None\n",
      "10:07:25 - mcmc.calculators | INFO: None\n",
      "10:07:25 - mcmc.calculators | INFO: None\n",
      "10:07:25 - mcmc.calculators | INFO: None\n",
      "10:07:25 - mcmc.calculators | INFO: None\n",
      "10:07:25 - mcmc.calculators | INFO: None\n"
     ]
    },
    {
     "name": "stdout",
     "output_type": "stream",
     "text": [
      "Total wall time: 0:00:00\n",
      "Total wall time: 0:00:00\n",
      "Total wall time: 0:00:00\n",
      "Total wall time: 0:00:00\n",
      "Total wall time: 0:00:00\n",
      "Total wall time: 0:00:00\n",
      "Total wall time: 0:00:00\n",
      "Total wall time: 0:00:00\n",
      "Total wall time: 0:00:00\n",
      "Total wall time: 0:00:00\n",
      "Total wall time: 0:00:00\n",
      "Total wall time: 0:00:00\n"
     ]
    },
    {
     "name": "stderr",
     "output_type": "stream",
     "text": [
      "10:07:26 - mcmc.calculators | INFO: None\n",
      "10:07:26 - mcmc.calculators | INFO: None\n",
      "10:07:26 - mcmc.calculators | INFO: None\n",
      "10:07:26 - mcmc.calculators | INFO: None\n",
      "10:07:26 - mcmc.calculators | INFO: None\n",
      "10:07:26 - mcmc.calculators | INFO: None\n",
      "10:07:26 - mcmc.calculators | INFO: None\n",
      "10:07:26 - mcmc.calculators | INFO: None\n",
      "10:07:26 - mcmc.calculators | INFO: None\n",
      "10:07:26 - mcmc.calculators | INFO: None\n"
     ]
    },
    {
     "name": "stdout",
     "output_type": "stream",
     "text": [
      "Total wall time: 0:00:00\n",
      "Total wall time: 0:00:00\n",
      "Total wall time: 0:00:00\n",
      "Total wall time: 0:00:00\n",
      "Total wall time: 0:00:00\n",
      "Total wall time: 0:00:00\n",
      "Total wall time: 0:00:00\n",
      "Total wall time: 0:00:00\n",
      "Total wall time: 0:00:00\n",
      "Total wall time: 0:00:00\n"
     ]
    },
    {
     "name": "stderr",
     "output_type": "stream",
     "text": [
      "10:07:26 - mcmc.calculators | INFO: None\n",
      "10:07:26 - mcmc.calculators | INFO: None\n",
      "10:07:26 - mcmc.calculators | INFO: None\n",
      "10:07:26 - mcmc.calculators | INFO: None\n",
      "10:07:26 - mcmc.calculators | INFO: None\n",
      "10:07:26 - mcmc.calculators | INFO: None\n",
      "10:07:26 - mcmc.calculators | INFO: None\n",
      "10:07:26 - mcmc.calculators | INFO: None\n",
      "10:07:26 - mcmc.calculators | INFO: None\n",
      "10:07:26 - mcmc.calculators | INFO: None\n"
     ]
    },
    {
     "name": "stdout",
     "output_type": "stream",
     "text": [
      "Total wall time: 0:00:00\n",
      "Total wall time: 0:00:00\n",
      "Total wall time: 0:00:00\n",
      "Total wall time: 0:00:00\n",
      "Total wall time: 0:00:00\n",
      "Total wall time: 0:00:00\n",
      "Total wall time: 0:00:00\n",
      "Total wall time: 0:00:00\n",
      "Total wall time: 0:00:00\n",
      "Total wall time: 0:00:00\n"
     ]
    },
    {
     "name": "stderr",
     "output_type": "stream",
     "text": [
      "10:07:26 - mcmc.calculators | INFO: None\n",
      "10:07:26 - mcmc.calculators | INFO: None\n",
      "10:07:26 - mcmc.mcmc | INFO: At iter 312\n",
      "10:07:26 - mcmc.calculators | INFO: None\n",
      "10:07:26 - mcmc.calculators | INFO: None\n",
      "10:07:26 - mcmc.system | INFO: Optimized structure has surface energy = -176.994\n",
      "10:07:26 - mcmc.mcmc | INFO: In sweep 4 out of 10\n",
      "10:07:26 - mcmc.calculators | INFO: None\n",
      "10:07:26 - mcmc.calculators | INFO: None\n",
      "10:07:26 - mcmc.calculators | INFO: None\n",
      "10:07:26 - mcmc.calculators | INFO: None\n",
      "10:07:26 - mcmc.calculators | INFO: None\n",
      "10:07:26 - mcmc.calculators | INFO: None\n"
     ]
    },
    {
     "name": "stdout",
     "output_type": "stream",
     "text": [
      "Total wall time: 0:00:00\n",
      "Total wall time: 0:00:00\n",
      "Total wall time: 0:00:00\n",
      "Total wall time: 0:00:00\n",
      "Total wall time: 0:00:00\n",
      "Total wall time: 0:00:00\n",
      "Total wall time: 0:00:00\n",
      "Total wall time: 0:00:00\n",
      "Total wall time: 0:00:00\n"
     ]
    },
    {
     "name": "stderr",
     "output_type": "stream",
     "text": [
      "10:07:26 - mcmc.calculators | INFO: None\n",
      "10:07:26 - mcmc.calculators | INFO: None\n",
      "10:07:26 - mcmc.calculators | INFO: None\n",
      "10:07:26 - mcmc.calculators | INFO: None\n",
      "10:07:26 - mcmc.calculators | INFO: None\n",
      "10:07:26 - mcmc.calculators | INFO: None\n",
      "10:07:26 - mcmc.calculators | INFO: None\n",
      "10:07:26 - mcmc.calculators | INFO: None\n"
     ]
    },
    {
     "name": "stdout",
     "output_type": "stream",
     "text": [
      "Total wall time: 0:00:00\n",
      "Total wall time: 0:00:00\n",
      "Total wall time: 0:00:00\n",
      "Total wall time: 0:00:00\n",
      "Total wall time: 0:00:00\n",
      "Total wall time: 0:00:00\n",
      "Total wall time: 0:00:00\n",
      "Total wall time: 0:00:00\n",
      "Total wall time: 0:00:00\n"
     ]
    },
    {
     "name": "stderr",
     "output_type": "stream",
     "text": [
      "10:07:26 - mcmc.calculators | INFO: None\n",
      "10:07:26 - mcmc.calculators | INFO: None\n",
      "10:07:26 - mcmc.calculators | INFO: None\n",
      "10:07:26 - mcmc.calculators | INFO: None\n",
      "10:07:26 - mcmc.calculators | INFO: None\n",
      "10:07:26 - mcmc.calculators | INFO: None\n",
      "10:07:26 - mcmc.calculators | INFO: None\n",
      "10:07:26 - mcmc.calculators | INFO: None\n",
      "10:07:27 - mcmc.calculators | INFO: None\n",
      "10:07:27 - mcmc.calculators | INFO: None\n",
      "10:07:27 - mcmc.calculators | INFO: None\n",
      "10:07:27 - mcmc.calculators | INFO: None\n"
     ]
    },
    {
     "name": "stdout",
     "output_type": "stream",
     "text": [
      "Total wall time: 0:00:00\n",
      "Total wall time: 0:00:00\n",
      "Total wall time: 0:00:00\n",
      "Total wall time: 0:00:00\n",
      "Total wall time: 0:00:00\n",
      "Total wall time: 0:00:00\n",
      "Total wall time: 0:00:00\n",
      "Total wall time: 0:00:00\n",
      "Total wall time: 0:00:00\n",
      "Total wall time: 0:00:00\n",
      "Total wall time: 0:00:00\n",
      "Total wall time: 0:00:00\n"
     ]
    },
    {
     "name": "stderr",
     "output_type": "stream",
     "text": [
      "10:07:27 - mcmc.calculators | INFO: None\n",
      "10:07:27 - mcmc.calculators | INFO: None\n",
      "10:07:27 - mcmc.calculators | INFO: None\n",
      "10:07:27 - mcmc.calculators | INFO: None\n",
      "10:07:27 - mcmc.calculators | INFO: None\n",
      "10:07:27 - mcmc.calculators | INFO: None\n",
      "10:07:27 - mcmc.calculators | INFO: None\n",
      "10:07:27 - mcmc.calculators | INFO: None\n",
      "10:07:27 - mcmc.calculators | INFO: None\n",
      "10:07:27 - mcmc.calculators | INFO: None\n"
     ]
    },
    {
     "name": "stdout",
     "output_type": "stream",
     "text": [
      "Total wall time: 0:00:00\n",
      "Total wall time: 0:00:00\n",
      "Total wall time: 0:00:00\n",
      "Total wall time: 0:00:00\n",
      "Total wall time: 0:00:00\n",
      "Total wall time: 0:00:00\n",
      "Total wall time: 0:00:00\n",
      "Total wall time: 0:00:00\n",
      "Total wall time: 0:00:00\n",
      "Total wall time: 0:00:00\n"
     ]
    },
    {
     "name": "stderr",
     "output_type": "stream",
     "text": [
      "10:07:27 - mcmc.calculators | INFO: None\n",
      "10:07:27 - mcmc.calculators | INFO: None\n",
      "10:07:27 - mcmc.calculators | INFO: None\n",
      "10:07:27 - mcmc.calculators | INFO: None\n",
      "10:07:27 - mcmc.calculators | INFO: None\n",
      "10:07:27 - mcmc.calculators | INFO: None\n",
      "10:07:27 - mcmc.calculators | INFO: None\n",
      "10:07:27 - mcmc.calculators | INFO: None\n",
      "10:07:27 - mcmc.calculators | INFO: None\n",
      "10:07:27 - mcmc.calculators | INFO: None\n"
     ]
    },
    {
     "name": "stdout",
     "output_type": "stream",
     "text": [
      "Total wall time: 0:00:00\n",
      "Total wall time: 0:00:00\n",
      "Total wall time: 0:00:00\n",
      "Total wall time: 0:00:00\n",
      "Total wall time: 0:00:00\n",
      "Total wall time: 0:00:00\n",
      "Total wall time: 0:00:00\n",
      "Total wall time: 0:00:00\n",
      "Total wall time: 0:00:00\n",
      "Total wall time: 0:00:00\n"
     ]
    },
    {
     "name": "stderr",
     "output_type": "stream",
     "text": [
      "10:07:27 - mcmc.calculators | INFO: None\n",
      "10:07:27 - mcmc.calculators | INFO: None\n",
      "10:07:27 - mcmc.calculators | INFO: None\n",
      "10:07:27 - mcmc.calculators | INFO: None\n",
      "10:07:27 - mcmc.calculators | INFO: None\n",
      "10:07:27 - mcmc.calculators | INFO: None\n",
      "10:07:27 - mcmc.calculators | INFO: None\n",
      "10:07:27 - mcmc.calculators | INFO: None\n",
      "10:07:27 - mcmc.calculators | INFO: None\n",
      "10:07:27 - mcmc.calculators | INFO: None\n",
      "10:07:27 - mcmc.calculators | INFO: None\n",
      "10:07:27 - mcmc.calculators | INFO: None\n"
     ]
    },
    {
     "name": "stdout",
     "output_type": "stream",
     "text": [
      "Total wall time: 0:00:00\n",
      "Total wall time: 0:00:00\n",
      "Total wall time: 0:00:00\n",
      "Total wall time: 0:00:00\n",
      "Total wall time: 0:00:00\n",
      "Total wall time: 0:00:00\n",
      "Total wall time: 0:00:00\n",
      "Total wall time: 0:00:00\n",
      "Total wall time: 0:00:00\n",
      "Total wall time: 0:00:00\n",
      "Total wall time: 0:00:00\n",
      "Total wall time: 0:00:00\n"
     ]
    },
    {
     "name": "stderr",
     "output_type": "stream",
     "text": [
      "10:07:27 - mcmc.calculators | INFO: None\n",
      "10:07:27 - mcmc.calculators | INFO: None\n",
      "10:07:27 - mcmc.calculators | INFO: None\n",
      "10:07:27 - mcmc.calculators | INFO: None\n",
      "10:07:27 - mcmc.calculators | INFO: None\n",
      "10:07:27 - mcmc.calculators | INFO: None\n",
      "10:07:27 - mcmc.calculators | INFO: None\n",
      "10:07:27 - mcmc.calculators | INFO: None\n",
      "10:07:27 - mcmc.calculators | INFO: None\n",
      "10:07:27 - mcmc.calculators | INFO: None\n"
     ]
    },
    {
     "name": "stdout",
     "output_type": "stream",
     "text": [
      "Total wall time: 0:00:00\n",
      "Total wall time: 0:00:00\n",
      "Total wall time: 0:00:00\n",
      "Total wall time: 0:00:00\n",
      "Total wall time: 0:00:00\n",
      "Total wall time: 0:00:00\n",
      "Total wall time: 0:00:00\n",
      "Total wall time: 0:00:00\n",
      "Total wall time: 0:00:00\n",
      "Total wall time: 0:00:00\n"
     ]
    },
    {
     "name": "stderr",
     "output_type": "stream",
     "text": [
      "10:07:27 - mcmc.calculators | INFO: None\n",
      "10:07:27 - mcmc.calculators | INFO: None\n",
      "10:07:27 - mcmc.calculators | INFO: None\n",
      "10:07:27 - mcmc.calculators | INFO: None\n",
      "10:07:28 - mcmc.calculators | INFO: None\n",
      "10:07:28 - mcmc.calculators | INFO: None\n",
      "10:07:28 - mcmc.calculators | INFO: None\n",
      "10:07:28 - mcmc.calculators | INFO: None\n",
      "10:07:28 - mcmc.calculators | INFO: None\n",
      "10:07:28 - mcmc.calculators | INFO: None\n",
      "10:07:28 - mcmc.calculators | INFO: None\n"
     ]
    },
    {
     "name": "stdout",
     "output_type": "stream",
     "text": [
      "Total wall time: 0:00:00\n",
      "Total wall time: 0:00:00\n",
      "Total wall time: 0:00:00\n",
      "Total wall time: 0:00:00\n",
      "Total wall time: 0:00:00\n",
      "Total wall time: 0:00:00\n",
      "Total wall time: 0:00:00\n",
      "Total wall time: 0:00:00\n",
      "Total wall time: 0:00:00\n",
      "Total wall time: 0:00:00\n",
      "Total wall time: 0:00:00\n"
     ]
    },
    {
     "name": "stderr",
     "output_type": "stream",
     "text": [
      "10:07:28 - mcmc.calculators | INFO: None\n",
      "10:07:28 - mcmc.calculators | INFO: None\n",
      "10:07:28 - mcmc.calculators | INFO: None\n",
      "10:07:28 - mcmc.calculators | INFO: None\n",
      "10:07:28 - mcmc.calculators | INFO: None\n",
      "10:07:28 - mcmc.calculators | INFO: None\n",
      "10:07:28 - mcmc.calculators | INFO: None\n",
      "10:07:28 - mcmc.calculators | INFO: None\n",
      "10:07:28 - mcmc.calculators | INFO: None\n",
      "10:07:28 - mcmc.calculators | INFO: None\n"
     ]
    },
    {
     "name": "stdout",
     "output_type": "stream",
     "text": [
      "Total wall time: 0:00:00\n",
      "Total wall time: 0:00:00\n",
      "Total wall time: 0:00:00\n",
      "Total wall time: 0:00:00\n",
      "Total wall time: 0:00:00\n",
      "Total wall time: 0:00:00\n",
      "Total wall time: 0:00:00\n",
      "Total wall time: 0:00:00\n",
      "Total wall time: 0:00:00\n",
      "Total wall time: 0:00:00\n"
     ]
    },
    {
     "name": "stderr",
     "output_type": "stream",
     "text": [
      "10:07:28 - mcmc.calculators | INFO: None\n",
      "10:07:28 - mcmc.calculators | INFO: None\n",
      "10:07:28 - mcmc.calculators | INFO: None\n",
      "10:07:28 - mcmc.calculators | INFO: None\n",
      "10:07:28 - mcmc.calculators | INFO: None\n",
      "10:07:28 - mcmc.calculators | INFO: None\n",
      "10:07:28 - mcmc.calculators | INFO: None\n",
      "10:07:28 - mcmc.calculators | INFO: None\n",
      "10:07:28 - mcmc.calculators | INFO: None\n",
      "10:07:28 - mcmc.calculators | INFO: None\n",
      "10:07:28 - mcmc.calculators | INFO: None\n"
     ]
    },
    {
     "name": "stdout",
     "output_type": "stream",
     "text": [
      "Total wall time: 0:00:00\n",
      "Total wall time: 0:00:00\n",
      "Total wall time: 0:00:00\n",
      "Total wall time: 0:00:00\n",
      "Total wall time: 0:00:00\n",
      "Total wall time: 0:00:00\n",
      "Total wall time: 0:00:00\n",
      "Total wall time: 0:00:00\n",
      "Total wall time: 0:00:00\n",
      "Total wall time: 0:00:00\n",
      "Total wall time: 0:00:00\n"
     ]
    },
    {
     "name": "stderr",
     "output_type": "stream",
     "text": [
      "10:07:28 - mcmc.calculators | INFO: None\n",
      "10:07:28 - mcmc.calculators | INFO: None\n",
      "10:07:28 - mcmc.calculators | INFO: None\n",
      "10:07:28 - mcmc.calculators | INFO: None\n",
      "10:07:28 - mcmc.calculators | INFO: None\n",
      "10:07:28 - mcmc.calculators | INFO: None\n",
      "10:07:28 - mcmc.calculators | INFO: None\n",
      "10:07:28 - mcmc.calculators | INFO: None\n",
      "10:07:28 - mcmc.calculators | INFO: None\n",
      "10:07:28 - mcmc.calculators | INFO: None\n",
      "10:07:28 - mcmc.calculators | INFO: None\n",
      "10:07:28 - mcmc.calculators | INFO: None\n"
     ]
    },
    {
     "name": "stdout",
     "output_type": "stream",
     "text": [
      "Total wall time: 0:00:00\n",
      "Total wall time: 0:00:00\n",
      "Total wall time: 0:00:00\n",
      "Total wall time: 0:00:00\n",
      "Total wall time: 0:00:00\n",
      "Total wall time: 0:00:00\n",
      "Total wall time: 0:00:00\n",
      "Total wall time: 0:00:00\n",
      "Total wall time: 0:00:00\n",
      "Total wall time: 0:00:00\n",
      "Total wall time: 0:00:00\n",
      "Total wall time: 0:00:00\n"
     ]
    },
    {
     "name": "stderr",
     "output_type": "stream",
     "text": [
      "10:07:28 - mcmc.calculators | INFO: None\n",
      "10:07:28 - mcmc.calculators | INFO: None\n",
      "10:07:28 - mcmc.calculators | INFO: None\n",
      "10:07:28 - mcmc.calculators | INFO: None\n",
      "10:07:28 - mcmc.calculators | INFO: None\n",
      "10:07:28 - mcmc.calculators | INFO: None\n",
      "10:07:28 - mcmc.calculators | INFO: None\n",
      "10:07:28 - mcmc.calculators | INFO: None\n",
      "10:07:28 - mcmc.calculators | INFO: None\n",
      "10:07:29 - mcmc.calculators | INFO: None\n"
     ]
    },
    {
     "name": "stdout",
     "output_type": "stream",
     "text": [
      "Total wall time: 0:00:00\n",
      "Total wall time: 0:00:00\n",
      "Total wall time: 0:00:00\n",
      "Total wall time: 0:00:00\n",
      "Total wall time: 0:00:00\n",
      "Total wall time: 0:00:00\n",
      "Total wall time: 0:00:00\n",
      "Total wall time: 0:00:00\n",
      "Total wall time: 0:00:00\n"
     ]
    },
    {
     "name": "stderr",
     "output_type": "stream",
     "text": [
      "10:07:29 - mcmc.calculators | INFO: None\n",
      "10:07:29 - mcmc.calculators | INFO: None\n",
      "10:07:29 - mcmc.calculators | INFO: None\n",
      "10:07:29 - mcmc.calculators | INFO: None\n",
      "10:07:29 - mcmc.calculators | INFO: None\n",
      "10:07:29 - mcmc.calculators | INFO: None\n",
      "10:07:29 - mcmc.calculators | INFO: None\n",
      "10:07:29 - mcmc.calculators | INFO: None\n",
      "10:07:29 - mcmc.calculators | INFO: None\n"
     ]
    },
    {
     "name": "stdout",
     "output_type": "stream",
     "text": [
      "Total wall time: 0:00:00\n",
      "Total wall time: 0:00:00\n",
      "Total wall time: 0:00:00\n",
      "Total wall time: 0:00:00\n",
      "Total wall time: 0:00:00\n",
      "Total wall time: 0:00:00\n",
      "Total wall time: 0:00:00\n",
      "Total wall time: 0:00:00\n",
      "Total wall time: 0:00:00\n",
      "Total wall time: 0:00:00\n"
     ]
    },
    {
     "name": "stderr",
     "output_type": "stream",
     "text": [
      "10:07:29 - mcmc.calculators | INFO: None\n",
      "10:07:29 - mcmc.calculators | INFO: None\n",
      "10:07:29 - mcmc.calculators | INFO: None\n",
      "10:07:29 - mcmc.calculators | INFO: None\n",
      "10:07:29 - mcmc.calculators | INFO: None\n",
      "10:07:29 - mcmc.calculators | INFO: None\n",
      "10:07:29 - mcmc.calculators | INFO: None\n",
      "10:07:29 - mcmc.calculators | INFO: None\n",
      "10:07:29 - mcmc.calculators | INFO: None\n"
     ]
    },
    {
     "name": "stdout",
     "output_type": "stream",
     "text": [
      "Total wall time: 0:00:00\n",
      "Total wall time: 0:00:00\n",
      "Total wall time: 0:00:00\n",
      "Total wall time: 0:00:00\n",
      "Total wall time: 0:00:00\n",
      "Total wall time: 0:00:00\n",
      "Total wall time: 0:00:00\n",
      "Total wall time: 0:00:00\n",
      "Total wall time: 0:00:00\n"
     ]
    },
    {
     "name": "stderr",
     "output_type": "stream",
     "text": [
      "10:07:29 - mcmc.calculators | INFO: None\n",
      "10:07:29 - mcmc.calculators | INFO: None\n",
      "10:07:29 - mcmc.calculators | INFO: None\n",
      "10:07:29 - mcmc.calculators | INFO: None\n",
      "10:07:29 - mcmc.calculators | INFO: None\n",
      "10:07:29 - mcmc.calculators | INFO: None\n",
      "10:07:29 - mcmc.calculators | INFO: None\n",
      "10:07:29 - mcmc.calculators | INFO: None\n",
      "10:07:29 - mcmc.calculators | INFO: None\n",
      "10:07:29 - mcmc.calculators | INFO: None\n",
      "10:07:29 - mcmc.calculators | INFO: None\n",
      "10:07:29 - mcmc.calculators | INFO: None\n"
     ]
    },
    {
     "name": "stdout",
     "output_type": "stream",
     "text": [
      "Total wall time: 0:00:00\n",
      "Total wall time: 0:00:00\n",
      "Total wall time: 0:00:00\n",
      "Total wall time: 0:00:00\n",
      "Total wall time: 0:00:00\n",
      "Total wall time: 0:00:00\n",
      "Total wall time: 0:00:00\n",
      "Total wall time: 0:00:00\n",
      "Total wall time: 0:00:00\n",
      "Total wall time: 0:00:00\n",
      "Total wall time: 0:00:00\n",
      "Total wall time: 0:00:00\n"
     ]
    },
    {
     "name": "stderr",
     "output_type": "stream",
     "text": [
      "10:07:29 - mcmc.calculators | INFO: None\n",
      "10:07:29 - mcmc.calculators | INFO: None\n",
      "10:07:29 - mcmc.calculators | INFO: None\n",
      "10:07:29 - mcmc.calculators | INFO: None\n",
      "10:07:29 - mcmc.calculators | INFO: None\n",
      "10:07:29 - mcmc.calculators | INFO: None\n",
      "10:07:29 - mcmc.calculators | INFO: None\n",
      "10:07:29 - mcmc.calculators | INFO: None\n",
      "10:07:29 - mcmc.calculators | INFO: None\n",
      "10:07:29 - mcmc.calculators | INFO: None\n"
     ]
    },
    {
     "name": "stdout",
     "output_type": "stream",
     "text": [
      "Total wall time: 0:00:00\n",
      "Total wall time: 0:00:00\n",
      "Total wall time: 0:00:00\n",
      "Total wall time: 0:00:00\n",
      "Total wall time: 0:00:00\n",
      "Total wall time: 0:00:00\n",
      "Total wall time: 0:00:00\n",
      "Total wall time: 0:00:00\n",
      "Total wall time: 0:00:00\n",
      "Total wall time: 0:00:00\n"
     ]
    },
    {
     "name": "stderr",
     "output_type": "stream",
     "text": [
      "10:07:29 - mcmc.calculators | INFO: None\n",
      "10:07:29 - mcmc.calculators | INFO: None\n",
      "10:07:29 - mcmc.calculators | INFO: None\n",
      "10:07:29 - mcmc.calculators | INFO: None\n",
      "10:07:29 - mcmc.calculators | INFO: None\n",
      "10:07:29 - mcmc.calculators | INFO: None\n",
      "10:07:30 - mcmc.calculators | INFO: None\n",
      "10:07:30 - mcmc.calculators | INFO: None\n",
      "10:07:30 - mcmc.calculators | INFO: None\n",
      "10:07:30 - mcmc.calculators | INFO: None\n"
     ]
    },
    {
     "name": "stdout",
     "output_type": "stream",
     "text": [
      "Total wall time: 0:00:00\n",
      "Total wall time: 0:00:00\n",
      "Total wall time: 0:00:00\n",
      "Total wall time: 0:00:00\n",
      "Total wall time: 0:00:00\n",
      "Total wall time: 0:00:00\n",
      "Total wall time: 0:00:00\n",
      "Total wall time: 0:00:00\n",
      "Total wall time: 0:00:00\n",
      "Total wall time: 0:00:00\n"
     ]
    },
    {
     "name": "stderr",
     "output_type": "stream",
     "text": [
      "10:07:30 - mcmc.calculators | INFO: None\n",
      "10:07:30 - mcmc.calculators | INFO: None\n",
      "10:07:30 - mcmc.calculators | INFO: None\n",
      "10:07:30 - mcmc.calculators | INFO: None\n",
      "10:07:30 - mcmc.calculators | INFO: None\n",
      "10:07:30 - mcmc.calculators | INFO: None\n",
      "10:07:30 - mcmc.calculators | INFO: None\n",
      "10:07:30 - mcmc.calculators | INFO: None\n",
      "10:07:30 - mcmc.calculators | INFO: None\n",
      "10:07:30 - mcmc.calculators | INFO: None\n"
     ]
    },
    {
     "name": "stdout",
     "output_type": "stream",
     "text": [
      "Total wall time: 0:00:00\n",
      "Total wall time: 0:00:00\n",
      "Total wall time: 0:00:00\n",
      "Total wall time: 0:00:00\n",
      "Total wall time: 0:00:00\n",
      "Total wall time: 0:00:00\n",
      "Total wall time: 0:00:00\n",
      "Total wall time: 0:00:00\n",
      "Total wall time: 0:00:00\n",
      "Total wall time: 0:00:00\n"
     ]
    },
    {
     "name": "stderr",
     "output_type": "stream",
     "text": [
      "10:07:30 - mcmc.calculators | INFO: None\n",
      "10:07:30 - mcmc.calculators | INFO: None\n",
      "10:07:30 - mcmc.calculators | INFO: None\n",
      "10:07:30 - mcmc.calculators | INFO: None\n",
      "10:07:30 - mcmc.calculators | INFO: None\n",
      "10:07:30 - mcmc.calculators | INFO: None\n",
      "10:07:30 - mcmc.calculators | INFO: None\n",
      "10:07:30 - mcmc.calculators | INFO: None\n",
      "10:07:30 - mcmc.calculators | INFO: None\n"
     ]
    },
    {
     "name": "stdout",
     "output_type": "stream",
     "text": [
      "Total wall time: 0:00:00\n",
      "Total wall time: 0:00:00\n",
      "Total wall time: 0:00:00\n",
      "Total wall time: 0:00:00\n",
      "Total wall time: 0:00:00\n",
      "Total wall time: 0:00:00\n",
      "Total wall time: 0:00:00\n",
      "Total wall time: 0:00:00\n",
      "Total wall time: 0:00:00\n"
     ]
    },
    {
     "name": "stderr",
     "output_type": "stream",
     "text": [
      "10:07:30 - mcmc.calculators | INFO: None\n",
      "10:07:30 - mcmc.calculators | INFO: None\n",
      "10:07:30 - mcmc.calculators | INFO: None\n",
      "10:07:30 - mcmc.calculators | INFO: None\n",
      "10:07:30 - mcmc.calculators | INFO: None\n",
      "10:07:30 - mcmc.calculators | INFO: None\n",
      "10:07:30 - mcmc.calculators | INFO: None\n",
      "10:07:30 - mcmc.calculators | INFO: None\n",
      "10:07:30 - mcmc.calculators | INFO: None\n"
     ]
    },
    {
     "name": "stdout",
     "output_type": "stream",
     "text": [
      "Total wall time: 0:00:00\n",
      "Total wall time: 0:00:00\n",
      "Total wall time: 0:00:00\n",
      "Total wall time: 0:00:00\n",
      "Total wall time: 0:00:00\n",
      "Total wall time: 0:00:00\n",
      "Total wall time: 0:00:00\n",
      "Total wall time: 0:00:00\n",
      "Total wall time: 0:00:00\n"
     ]
    },
    {
     "name": "stderr",
     "output_type": "stream",
     "text": [
      "10:07:30 - mcmc.calculators | INFO: None\n",
      "10:07:30 - mcmc.calculators | INFO: None\n",
      "10:07:30 - mcmc.calculators | INFO: None\n",
      "10:07:30 - mcmc.calculators | INFO: None\n",
      "10:07:30 - mcmc.calculators | INFO: None\n",
      "10:07:30 - mcmc.calculators | INFO: None\n",
      "10:07:30 - mcmc.mcmc | INFO: At iter 416\n",
      "10:07:30 - mcmc.calculators | INFO: None\n",
      "10:07:30 - mcmc.calculators | INFO: None\n",
      "10:07:30 - mcmc.calculators | INFO: None\n",
      "10:07:30 - mcmc.system | INFO: Optimized structure has surface energy = -178.785\n",
      "10:07:30 - mcmc.mcmc | INFO: In sweep 5 out of 10\n",
      "10:07:30 - mcmc.calculators | INFO: None\n",
      "10:07:30 - mcmc.calculators | INFO: None\n"
     ]
    },
    {
     "name": "stdout",
     "output_type": "stream",
     "text": [
      "Total wall time: 0:00:00\n",
      "Total wall time: 0:00:00\n",
      "Total wall time: 0:00:00\n",
      "Total wall time: 0:00:00\n",
      "Total wall time: 0:00:00\n",
      "Total wall time: 0:00:00\n",
      "Total wall time: 0:00:00\n",
      "Total wall time: 0:00:00\n",
      "Total wall time: 0:00:00\n",
      "Total wall time: 0:00:00\n",
      "Total wall time: 0:00:00\n"
     ]
    },
    {
     "name": "stderr",
     "output_type": "stream",
     "text": [
      "10:07:30 - mcmc.calculators | INFO: None\n",
      "10:07:30 - mcmc.calculators | INFO: None\n",
      "10:07:30 - mcmc.calculators | INFO: None\n",
      "10:07:30 - mcmc.calculators | INFO: None\n",
      "10:07:31 - mcmc.calculators | INFO: None\n",
      "10:07:31 - mcmc.calculators | INFO: None\n",
      "10:07:31 - mcmc.calculators | INFO: None\n",
      "10:07:31 - mcmc.calculators | INFO: None\n",
      "10:07:31 - mcmc.calculators | INFO: None\n"
     ]
    },
    {
     "name": "stdout",
     "output_type": "stream",
     "text": [
      "Total wall time: 0:00:00\n",
      "Total wall time: 0:00:00\n",
      "Total wall time: 0:00:00\n",
      "Total wall time: 0:00:00\n",
      "Total wall time: 0:00:00\n",
      "Total wall time: 0:00:00\n",
      "Total wall time: 0:00:00\n",
      "Total wall time: 0:00:00\n",
      "Total wall time: 0:00:00\n"
     ]
    },
    {
     "name": "stderr",
     "output_type": "stream",
     "text": [
      "10:07:31 - mcmc.calculators | INFO: None\n",
      "10:07:31 - mcmc.calculators | INFO: None\n",
      "10:07:31 - mcmc.calculators | INFO: None\n",
      "10:07:31 - mcmc.calculators | INFO: None\n",
      "10:07:31 - mcmc.calculators | INFO: None\n",
      "10:07:31 - mcmc.calculators | INFO: None\n",
      "10:07:31 - mcmc.calculators | INFO: None\n"
     ]
    },
    {
     "name": "stdout",
     "output_type": "stream",
     "text": [
      "Total wall time: 0:00:00\n",
      "Total wall time: 0:00:00\n",
      "Total wall time: 0:00:00\n",
      "Total wall time: 0:00:00\n",
      "Total wall time: 0:00:00\n",
      "Total wall time: 0:00:00\n",
      "Total wall time: 0:00:00\n"
     ]
    },
    {
     "name": "stderr",
     "output_type": "stream",
     "text": [
      "10:07:31 - mcmc.calculators | INFO: None\n",
      "10:07:31 - mcmc.calculators | INFO: None\n",
      "10:07:31 - mcmc.calculators | INFO: None\n",
      "10:07:31 - mcmc.calculators | INFO: None\n",
      "10:07:31 - mcmc.calculators | INFO: None\n",
      "10:07:31 - mcmc.calculators | INFO: None\n",
      "10:07:31 - mcmc.calculators | INFO: None\n",
      "10:07:31 - mcmc.calculators | INFO: None\n",
      "10:07:31 - mcmc.calculators | INFO: None\n",
      "10:07:31 - mcmc.calculators | INFO: None\n",
      "10:07:31 - mcmc.calculators | INFO: None\n",
      "10:07:31 - mcmc.calculators | INFO: None\n"
     ]
    },
    {
     "name": "stdout",
     "output_type": "stream",
     "text": [
      "Total wall time: 0:00:00\n",
      "Total wall time: 0:00:00\n",
      "Total wall time: 0:00:00\n",
      "Total wall time: 0:00:00\n",
      "Total wall time: 0:00:00\n",
      "Total wall time: 0:00:00\n",
      "Total wall time: 0:00:00\n",
      "Total wall time: 0:00:00\n",
      "Total wall time: 0:00:00\n",
      "Total wall time: 0:00:00\n",
      "Total wall time: 0:00:00\n",
      "Total wall time: 0:00:00\n"
     ]
    },
    {
     "name": "stderr",
     "output_type": "stream",
     "text": [
      "10:07:31 - mcmc.calculators | INFO: None\n",
      "10:07:31 - mcmc.calculators | INFO: None\n",
      "10:07:31 - mcmc.calculators | INFO: None\n",
      "10:07:31 - mcmc.calculators | INFO: None\n",
      "10:07:31 - mcmc.calculators | INFO: None\n",
      "10:07:31 - mcmc.calculators | INFO: None\n",
      "10:07:31 - mcmc.calculators | INFO: None\n",
      "10:07:31 - mcmc.calculators | INFO: None\n",
      "10:07:31 - mcmc.calculators | INFO: None\n",
      "10:07:31 - mcmc.calculators | INFO: None\n",
      "10:07:31 - mcmc.calculators | INFO: None\n",
      "10:07:31 - mcmc.calculators | INFO: None\n"
     ]
    },
    {
     "name": "stdout",
     "output_type": "stream",
     "text": [
      "Total wall time: 0:00:00\n",
      "Total wall time: 0:00:00\n",
      "Total wall time: 0:00:00\n",
      "Total wall time: 0:00:00\n",
      "Total wall time: 0:00:00\n",
      "Total wall time: 0:00:00\n",
      "Total wall time: 0:00:00\n",
      "Total wall time: 0:00:00\n",
      "Total wall time: 0:00:00\n",
      "Total wall time: 0:00:00\n",
      "Total wall time: 0:00:00\n",
      "Total wall time: 0:00:00\n"
     ]
    },
    {
     "name": "stderr",
     "output_type": "stream",
     "text": [
      "10:07:31 - mcmc.calculators | INFO: None\n",
      "10:07:31 - mcmc.calculators | INFO: None\n",
      "10:07:31 - mcmc.calculators | INFO: None\n",
      "10:07:31 - mcmc.calculators | INFO: None\n",
      "10:07:31 - mcmc.calculators | INFO: None\n",
      "10:07:31 - mcmc.calculators | INFO: None\n"
     ]
    },
    {
     "name": "stdout",
     "output_type": "stream",
     "text": [
      "Total wall time: 0:00:00\n",
      "Total wall time: 0:00:00\n",
      "Total wall time: 0:00:00\n",
      "Total wall time: 0:00:00\n",
      "Total wall time: 0:00:00\n",
      "Total wall time: 0:00:00\n"
     ]
    },
    {
     "name": "stderr",
     "output_type": "stream",
     "text": [
      "10:07:32 - mcmc.calculators | INFO: None\n",
      "10:07:32 - mcmc.calculators | INFO: None\n",
      "10:07:32 - mcmc.calculators | INFO: None\n",
      "10:07:32 - mcmc.calculators | INFO: None\n",
      "10:07:32 - mcmc.calculators | INFO: None\n",
      "10:07:32 - mcmc.calculators | INFO: None\n",
      "10:07:32 - mcmc.calculators | INFO: None\n"
     ]
    },
    {
     "name": "stdout",
     "output_type": "stream",
     "text": [
      "Total wall time: 0:00:00\n",
      "Total wall time: 0:00:00\n",
      "Total wall time: 0:00:00\n",
      "Total wall time: 0:00:00\n",
      "Total wall time: 0:00:00\n",
      "Total wall time: 0:00:00\n",
      "Total wall time: 0:00:00\n"
     ]
    },
    {
     "name": "stderr",
     "output_type": "stream",
     "text": [
      "10:07:32 - mcmc.calculators | INFO: None\n",
      "10:07:32 - mcmc.calculators | INFO: None\n",
      "10:07:32 - mcmc.calculators | INFO: None\n",
      "10:07:32 - mcmc.calculators | INFO: None\n",
      "10:07:32 - mcmc.calculators | INFO: None\n",
      "10:07:32 - mcmc.calculators | INFO: None\n",
      "10:07:32 - mcmc.calculators | INFO: None\n",
      "10:07:32 - mcmc.calculators | INFO: None\n"
     ]
    },
    {
     "name": "stdout",
     "output_type": "stream",
     "text": [
      "Total wall time: 0:00:00\n",
      "Total wall time: 0:00:00\n",
      "Total wall time: 0:00:00\n",
      "Total wall time: 0:00:00\n",
      "Total wall time: 0:00:00\n",
      "Total wall time: 0:00:00\n",
      "Total wall time: 0:00:00\n",
      "Total wall time: 0:00:00\n"
     ]
    },
    {
     "name": "stderr",
     "output_type": "stream",
     "text": [
      "10:07:32 - mcmc.calculators | INFO: None\n",
      "10:07:32 - mcmc.calculators | INFO: None\n",
      "10:07:32 - mcmc.calculators | INFO: None\n",
      "10:07:32 - mcmc.calculators | INFO: None\n",
      "10:07:32 - mcmc.calculators | INFO: None\n",
      "10:07:32 - mcmc.calculators | INFO: None\n",
      "10:07:32 - mcmc.calculators | INFO: None\n",
      "10:07:32 - mcmc.calculators | INFO: None\n",
      "10:07:32 - mcmc.calculators | INFO: None\n"
     ]
    },
    {
     "name": "stdout",
     "output_type": "stream",
     "text": [
      "Total wall time: 0:00:00\n",
      "Total wall time: 0:00:00\n",
      "Total wall time: 0:00:00\n",
      "Total wall time: 0:00:00\n",
      "Total wall time: 0:00:00\n",
      "Total wall time: 0:00:00\n",
      "Total wall time: 0:00:00\n",
      "Total wall time: 0:00:00\n",
      "Total wall time: 0:00:00\n"
     ]
    },
    {
     "name": "stderr",
     "output_type": "stream",
     "text": [
      "10:07:32 - mcmc.calculators | INFO: None\n",
      "10:07:32 - mcmc.calculators | INFO: None\n",
      "10:07:32 - mcmc.calculators | INFO: None\n",
      "10:07:32 - mcmc.calculators | INFO: None\n",
      "10:07:32 - mcmc.calculators | INFO: None\n",
      "10:07:32 - mcmc.calculators | INFO: None\n",
      "10:07:32 - mcmc.calculators | INFO: None\n",
      "10:07:32 - mcmc.calculators | INFO: None\n",
      "10:07:32 - mcmc.calculators | INFO: None\n",
      "10:07:32 - mcmc.calculators | INFO: None\n",
      "10:07:32 - mcmc.calculators | INFO: None\n",
      "10:07:32 - mcmc.calculators | INFO: None\n"
     ]
    },
    {
     "name": "stdout",
     "output_type": "stream",
     "text": [
      "Total wall time: 0:00:00\n",
      "Total wall time: 0:00:00\n",
      "Total wall time: 0:00:00\n",
      "Total wall time: 0:00:00\n",
      "Total wall time: 0:00:00\n",
      "Total wall time: 0:00:00\n",
      "Total wall time: 0:00:00\n",
      "Total wall time: 0:00:00\n",
      "Total wall time: 0:00:00\n",
      "Total wall time: 0:00:00\n",
      "Total wall time: 0:00:00\n",
      "Total wall time: 0:00:00\n"
     ]
    },
    {
     "name": "stderr",
     "output_type": "stream",
     "text": [
      "10:07:32 - mcmc.calculators | INFO: None\n",
      "10:07:32 - mcmc.calculators | INFO: None\n",
      "10:07:33 - mcmc.calculators | INFO: None\n",
      "10:07:33 - mcmc.calculators | INFO: None\n",
      "10:07:33 - mcmc.calculators | INFO: None\n",
      "10:07:33 - mcmc.calculators | INFO: None\n",
      "10:07:33 - mcmc.calculators | INFO: None\n",
      "10:07:33 - mcmc.calculators | INFO: None\n",
      "10:07:33 - mcmc.calculators | INFO: None\n",
      "10:07:33 - mcmc.calculators | INFO: None\n"
     ]
    },
    {
     "name": "stdout",
     "output_type": "stream",
     "text": [
      "Total wall time: 0:00:00\n",
      "Total wall time: 0:00:00\n",
      "Total wall time: 0:00:00\n",
      "Total wall time: 0:00:00\n",
      "Total wall time: 0:00:00\n",
      "Total wall time: 0:00:00\n",
      "Total wall time: 0:00:00\n",
      "Total wall time: 0:00:00\n",
      "Total wall time: 0:00:00\n",
      "Total wall time: 0:00:00\n"
     ]
    },
    {
     "name": "stderr",
     "output_type": "stream",
     "text": [
      "10:07:33 - mcmc.calculators | INFO: None\n",
      "10:07:33 - mcmc.calculators | INFO: None\n",
      "10:07:33 - mcmc.calculators | INFO: None\n",
      "10:07:33 - mcmc.calculators | INFO: None\n",
      "10:07:33 - mcmc.calculators | INFO: None\n",
      "10:07:33 - mcmc.calculators | INFO: None\n",
      "10:07:33 - mcmc.calculators | INFO: None\n",
      "10:07:33 - mcmc.calculators | INFO: None\n",
      "10:07:33 - mcmc.calculators | INFO: None\n",
      "10:07:33 - mcmc.calculators | INFO: None\n",
      "10:07:33 - mcmc.calculators | INFO: None\n",
      "10:07:33 - mcmc.calculators | INFO: None\n"
     ]
    },
    {
     "name": "stdout",
     "output_type": "stream",
     "text": [
      "Total wall time: 0:00:00\n",
      "Total wall time: 0:00:00\n",
      "Total wall time: 0:00:00\n",
      "Total wall time: 0:00:00\n",
      "Total wall time: 0:00:00\n",
      "Total wall time: 0:00:00\n",
      "Total wall time: 0:00:00\n",
      "Total wall time: 0:00:00\n",
      "Total wall time: 0:00:00\n",
      "Total wall time: 0:00:00\n",
      "Total wall time: 0:00:00\n",
      "Total wall time: 0:00:00\n"
     ]
    },
    {
     "name": "stderr",
     "output_type": "stream",
     "text": [
      "10:07:33 - mcmc.calculators | INFO: None\n",
      "10:07:33 - mcmc.calculators | INFO: None\n",
      "10:07:33 - mcmc.calculators | INFO: None\n",
      "10:07:33 - mcmc.calculators | INFO: None\n",
      "10:07:33 - mcmc.calculators | INFO: None\n",
      "10:07:33 - mcmc.calculators | INFO: None\n",
      "10:07:33 - mcmc.calculators | INFO: None\n",
      "10:07:33 - mcmc.calculators | INFO: None\n",
      "10:07:33 - mcmc.calculators | INFO: None\n",
      "10:07:33 - mcmc.calculators | INFO: None\n",
      "10:07:33 - mcmc.calculators | INFO: None\n"
     ]
    },
    {
     "name": "stdout",
     "output_type": "stream",
     "text": [
      "Total wall time: 0:00:00\n",
      "Total wall time: 0:00:00\n",
      "Total wall time: 0:00:00\n",
      "Total wall time: 0:00:00\n",
      "Total wall time: 0:00:00\n",
      "Total wall time: 0:00:00\n",
      "Total wall time: 0:00:00\n",
      "Total wall time: 0:00:00\n",
      "Total wall time: 0:00:00\n",
      "Total wall time: 0:00:00\n",
      "Total wall time: 0:00:00\n"
     ]
    },
    {
     "name": "stderr",
     "output_type": "stream",
     "text": [
      "10:07:33 - mcmc.calculators | INFO: None\n",
      "10:07:33 - mcmc.calculators | INFO: None\n",
      "10:07:33 - mcmc.calculators | INFO: None\n",
      "10:07:33 - mcmc.calculators | INFO: None\n",
      "10:07:33 - mcmc.calculators | INFO: None\n",
      "10:07:33 - mcmc.calculators | INFO: None\n",
      "10:07:33 - mcmc.calculators | INFO: None\n",
      "10:07:33 - mcmc.calculators | INFO: None\n",
      "10:07:33 - mcmc.calculators | INFO: None\n",
      "10:07:33 - mcmc.calculators | INFO: None\n",
      "10:07:33 - mcmc.calculators | INFO: None\n"
     ]
    },
    {
     "name": "stdout",
     "output_type": "stream",
     "text": [
      "Total wall time: 0:00:00\n",
      "Total wall time: 0:00:00\n",
      "Total wall time: 0:00:00\n",
      "Total wall time: 0:00:00\n",
      "Total wall time: 0:00:00\n",
      "Total wall time: 0:00:00\n",
      "Total wall time: 0:00:00\n",
      "Total wall time: 0:00:00\n",
      "Total wall time: 0:00:00\n",
      "Total wall time: 0:00:00\n",
      "Total wall time: 0:00:00\n"
     ]
    },
    {
     "name": "stderr",
     "output_type": "stream",
     "text": [
      "10:07:33 - mcmc.calculators | INFO: None\n",
      "10:07:33 - mcmc.calculators | INFO: None\n",
      "10:07:33 - mcmc.calculators | INFO: None\n",
      "10:07:33 - mcmc.calculators | INFO: None\n",
      "10:07:33 - mcmc.calculators | INFO: None\n",
      "10:07:33 - mcmc.calculators | INFO: None\n",
      "10:07:33 - mcmc.calculators | INFO: None\n",
      "10:07:33 - mcmc.calculators | INFO: None\n",
      "10:07:33 - mcmc.calculators | INFO: None\n",
      "10:07:33 - mcmc.calculators | INFO: None\n",
      "10:07:34 - mcmc.calculators | INFO: None\n",
      "10:07:34 - mcmc.calculators | INFO: None\n"
     ]
    },
    {
     "name": "stdout",
     "output_type": "stream",
     "text": [
      "Total wall time: 0:00:00\n",
      "Total wall time: 0:00:00\n",
      "Total wall time: 0:00:00\n",
      "Total wall time: 0:00:00\n",
      "Total wall time: 0:00:00\n",
      "Total wall time: 0:00:00\n",
      "Total wall time: 0:00:00\n",
      "Total wall time: 0:00:00\n",
      "Total wall time: 0:00:00\n",
      "Total wall time: 0:00:00\n",
      "Total wall time: 0:00:00\n",
      "Total wall time: 0:00:00\n"
     ]
    },
    {
     "name": "stderr",
     "output_type": "stream",
     "text": [
      "10:07:34 - mcmc.calculators | INFO: None\n",
      "10:07:34 - mcmc.calculators | INFO: None\n",
      "10:07:34 - mcmc.calculators | INFO: None\n",
      "10:07:34 - mcmc.calculators | INFO: None\n",
      "10:07:34 - mcmc.calculators | INFO: None\n",
      "10:07:34 - mcmc.calculators | INFO: None\n",
      "10:07:34 - mcmc.calculators | INFO: None\n",
      "10:07:34 - mcmc.calculators | INFO: None\n",
      "10:07:34 - mcmc.calculators | INFO: None\n",
      "10:07:34 - mcmc.calculators | INFO: None\n",
      "10:07:34 - mcmc.calculators | INFO: None\n",
      "10:07:34 - mcmc.calculators | INFO: None\n"
     ]
    },
    {
     "name": "stdout",
     "output_type": "stream",
     "text": [
      "Total wall time: 0:00:00\n",
      "Total wall time: 0:00:00\n",
      "Total wall time: 0:00:00\n",
      "Total wall time: 0:00:00\n",
      "Total wall time: 0:00:00\n",
      "Total wall time: 0:00:00\n",
      "Total wall time: 0:00:00\n",
      "Total wall time: 0:00:00\n",
      "Total wall time: 0:00:00\n",
      "Total wall time: 0:00:00\n",
      "Total wall time: 0:00:00\n",
      "Total wall time: 0:00:00\n"
     ]
    },
    {
     "name": "stderr",
     "output_type": "stream",
     "text": [
      "10:07:34 - mcmc.calculators | INFO: None\n",
      "10:07:34 - mcmc.calculators | INFO: None\n",
      "10:07:34 - mcmc.calculators | INFO: None\n",
      "10:07:34 - mcmc.calculators | INFO: None\n",
      "10:07:34 - mcmc.calculators | INFO: None\n",
      "10:07:34 - mcmc.calculators | INFO: None\n",
      "10:07:34 - mcmc.calculators | INFO: None\n",
      "10:07:34 - mcmc.calculators | INFO: None\n"
     ]
    },
    {
     "name": "stdout",
     "output_type": "stream",
     "text": [
      "Total wall time: 0:00:00\n",
      "Total wall time: 0:00:00\n",
      "Total wall time: 0:00:00\n",
      "Total wall time: 0:00:00\n",
      "Total wall time: 0:00:00\n",
      "Total wall time: 0:00:00\n",
      "Total wall time: 0:00:00\n"
     ]
    },
    {
     "name": "stderr",
     "output_type": "stream",
     "text": [
      "10:07:34 - mcmc.calculators | INFO: None\n",
      "10:07:34 - mcmc.calculators | INFO: None\n",
      "10:07:34 - mcmc.calculators | INFO: None\n",
      "10:07:34 - mcmc.calculators | INFO: None\n",
      "10:07:34 - mcmc.calculators | INFO: None\n",
      "10:07:34 - mcmc.calculators | INFO: None\n",
      "10:07:34 - mcmc.calculators | INFO: None\n",
      "10:07:34 - mcmc.calculators | INFO: None\n"
     ]
    },
    {
     "name": "stdout",
     "output_type": "stream",
     "text": [
      "Total wall time: 0:00:00\n",
      "Total wall time: 0:00:00\n",
      "Total wall time: 0:00:00\n",
      "Total wall time: 0:00:00\n",
      "Total wall time: 0:00:00\n",
      "Total wall time: 0:00:00\n",
      "Total wall time: 0:00:00\n",
      "Total wall time: 0:00:00\n",
      "Total wall time: 0:00:00\n"
     ]
    },
    {
     "name": "stderr",
     "output_type": "stream",
     "text": [
      "10:07:34 - mcmc.calculators | INFO: None\n",
      "10:07:34 - mcmc.calculators | INFO: None\n",
      "10:07:34 - mcmc.calculators | INFO: None\n",
      "10:07:34 - mcmc.calculators | INFO: None\n",
      "10:07:34 - mcmc.calculators | INFO: None\n",
      "10:07:34 - mcmc.calculators | INFO: None\n",
      "10:07:34 - mcmc.calculators | INFO: None\n",
      "10:07:34 - mcmc.calculators | INFO: None\n"
     ]
    },
    {
     "name": "stdout",
     "output_type": "stream",
     "text": [
      "Total wall time: 0:00:00\n",
      "Total wall time: 0:00:00\n",
      "Total wall time: 0:00:00\n",
      "Total wall time: 0:00:00\n",
      "Total wall time: 0:00:00\n",
      "Total wall time: 0:00:00\n",
      "Total wall time: 0:00:00\n",
      "Total wall time: 0:00:00\n"
     ]
    },
    {
     "name": "stderr",
     "output_type": "stream",
     "text": [
      "10:07:34 - mcmc.calculators | INFO: None\n",
      "10:07:34 - mcmc.calculators | INFO: None\n",
      "10:07:34 - mcmc.calculators | INFO: None\n",
      "10:07:34 - mcmc.calculators | INFO: None\n",
      "10:07:34 - mcmc.calculators | INFO: None\n",
      "10:07:34 - mcmc.calculators | INFO: None\n",
      "10:07:35 - mcmc.calculators | INFO: None\n",
      "10:07:35 - mcmc.calculators | INFO: None\n",
      "10:07:35 - mcmc.calculators | INFO: None\n",
      "10:07:35 - mcmc.calculators | INFO: None\n",
      "10:07:35 - mcmc.calculators | INFO: None\n",
      "10:07:35 - mcmc.calculators | INFO: None\n",
      "10:07:35 - mcmc.calculators | INFO: None\n",
      "10:07:35 - mcmc.calculators | INFO: None\n",
      "10:07:35 - mcmc.calculators | INFO: None\n",
      "10:07:35 - mcmc.calculators | INFO: None\n"
     ]
    },
    {
     "name": "stdout",
     "output_type": "stream",
     "text": [
      "Total wall time: 0:00:00\n",
      "Total wall time: 0:00:00\n",
      "Total wall time: 0:00:00\n",
      "Total wall time: 0:00:00\n",
      "Total wall time: 0:00:00\n",
      "Total wall time: 0:00:00\n",
      "Total wall time: 0:00:00\n",
      "Total wall time: 0:00:00\n",
      "Total wall time: 0:00:00\n",
      "Total wall time: 0:00:00\n",
      "Total wall time: 0:00:00\n",
      "Total wall time: 0:00:00\n",
      "Total wall time: 0:00:00\n",
      "Total wall time: 0:00:00\n",
      "Total wall time: 0:00:00\n",
      "Total wall time: 0:00:00\n"
     ]
    },
    {
     "name": "stderr",
     "output_type": "stream",
     "text": [
      "10:07:35 - mcmc.calculators | INFO: None\n",
      "10:07:35 - mcmc.calculators | INFO: None\n",
      "10:07:35 - mcmc.calculators | INFO: None\n",
      "10:07:35 - mcmc.calculators | INFO: None\n",
      "10:07:35 - mcmc.calculators | INFO: None\n",
      "10:07:35 - mcmc.calculators | INFO: None\n",
      "10:07:35 - mcmc.calculators | INFO: None\n",
      "10:07:35 - mcmc.calculators | INFO: None\n",
      "10:07:35 - mcmc.calculators | INFO: None\n",
      "10:07:35 - mcmc.calculators | INFO: None\n",
      "10:07:35 - mcmc.calculators | INFO: None\n"
     ]
    },
    {
     "name": "stdout",
     "output_type": "stream",
     "text": [
      "Total wall time: 0:00:00\n",
      "Total wall time: 0:00:00\n",
      "Total wall time: 0:00:00\n",
      "Total wall time: 0:00:00\n",
      "Total wall time: 0:00:00\n",
      "Total wall time: 0:00:00\n",
      "Total wall time: 0:00:00\n",
      "Total wall time: 0:00:00\n",
      "Total wall time: 0:00:00\n",
      "Total wall time: 0:00:00\n",
      "Total wall time: 0:00:00\n"
     ]
    },
    {
     "name": "stderr",
     "output_type": "stream",
     "text": [
      "10:07:35 - mcmc.calculators | INFO: None\n",
      "10:07:35 - mcmc.calculators | INFO: None\n",
      "10:07:35 - mcmc.calculators | INFO: None\n",
      "10:07:35 - mcmc.mcmc | INFO: At iter 520\n",
      "10:07:35 - mcmc.calculators | INFO: None\n",
      "10:07:35 - mcmc.calculators | INFO: None\n",
      "10:07:35 - mcmc.calculators | INFO: None\n",
      "10:07:35 - mcmc.system | INFO: Optimized structure has surface energy = -177.173\n",
      "10:07:35 - mcmc.mcmc | INFO: In sweep 6 out of 10\n",
      "10:07:35 - mcmc.calculators | INFO: None\n",
      "10:07:35 - mcmc.calculators | INFO: None\n",
      "10:07:35 - mcmc.calculators | INFO: None\n",
      "10:07:35 - mcmc.calculators | INFO: None\n"
     ]
    },
    {
     "name": "stdout",
     "output_type": "stream",
     "text": [
      "Total wall time: 0:00:00\n",
      "Total wall time: 0:00:00\n",
      "Total wall time: 0:00:00\n",
      "Total wall time: 0:00:00\n",
      "Total wall time: 0:00:00\n",
      "Total wall time: 0:00:00\n",
      "Total wall time: 0:00:00\n",
      "Total wall time: 0:00:00\n",
      "Total wall time: 0:00:00\n",
      "Total wall time: 0:00:00\n"
     ]
    },
    {
     "name": "stderr",
     "output_type": "stream",
     "text": [
      "10:07:35 - mcmc.calculators | INFO: None\n",
      "10:07:35 - mcmc.calculators | INFO: None\n",
      "10:07:35 - mcmc.calculators | INFO: None\n",
      "10:07:35 - mcmc.calculators | INFO: None\n",
      "10:07:35 - mcmc.calculators | INFO: None\n",
      "10:07:35 - mcmc.calculators | INFO: None\n",
      "10:07:35 - mcmc.calculators | INFO: None\n",
      "10:07:35 - mcmc.calculators | INFO: None\n",
      "10:07:35 - mcmc.calculators | INFO: None\n",
      "10:07:35 - mcmc.calculators | INFO: None\n"
     ]
    },
    {
     "name": "stdout",
     "output_type": "stream",
     "text": [
      "Total wall time: 0:00:00\n",
      "Total wall time: 0:00:00\n",
      "Total wall time: 0:00:00\n",
      "Total wall time: 0:00:00\n",
      "Total wall time: 0:00:00\n",
      "Total wall time: 0:00:00\n",
      "Total wall time: 0:00:00\n",
      "Total wall time: 0:00:00\n",
      "Total wall time: 0:00:00\n",
      "Total wall time: 0:00:00\n"
     ]
    },
    {
     "name": "stderr",
     "output_type": "stream",
     "text": [
      "10:07:35 - mcmc.calculators | INFO: None\n",
      "10:07:35 - mcmc.calculators | INFO: None\n",
      "10:07:35 - mcmc.calculators | INFO: None\n",
      "10:07:35 - mcmc.calculators | INFO: None\n",
      "10:07:35 - mcmc.calculators | INFO: None\n",
      "10:07:35 - mcmc.calculators | INFO: None\n",
      "10:07:35 - mcmc.calculators | INFO: None\n",
      "10:07:35 - mcmc.calculators | INFO: None\n",
      "10:07:35 - mcmc.calculators | INFO: None\n",
      "10:07:35 - mcmc.calculators | INFO: None\n",
      "10:07:36 - mcmc.calculators | INFO: None\n",
      "10:07:36 - mcmc.calculators | INFO: None\n"
     ]
    },
    {
     "name": "stdout",
     "output_type": "stream",
     "text": [
      "Total wall time: 0:00:00\n",
      "Total wall time: 0:00:00\n",
      "Total wall time: 0:00:00\n",
      "Total wall time: 0:00:00\n",
      "Total wall time: 0:00:00\n",
      "Total wall time: 0:00:00\n",
      "Total wall time: 0:00:00\n",
      "Total wall time: 0:00:00\n",
      "Total wall time: 0:00:00\n",
      "Total wall time: 0:00:00\n",
      "Total wall time: 0:00:00\n"
     ]
    },
    {
     "name": "stderr",
     "output_type": "stream",
     "text": [
      "10:07:36 - mcmc.calculators | INFO: None\n",
      "10:07:36 - mcmc.calculators | INFO: None\n",
      "10:07:36 - mcmc.calculators | INFO: None\n",
      "10:07:36 - mcmc.calculators | INFO: None\n",
      "10:07:36 - mcmc.calculators | INFO: None\n",
      "10:07:36 - mcmc.calculators | INFO: None\n",
      "10:07:36 - mcmc.calculators | INFO: None\n",
      "10:07:36 - mcmc.calculators | INFO: None\n"
     ]
    },
    {
     "name": "stdout",
     "output_type": "stream",
     "text": [
      "Total wall time: 0:00:00\n",
      "Total wall time: 0:00:00\n",
      "Total wall time: 0:00:00\n",
      "Total wall time: 0:00:00\n",
      "Total wall time: 0:00:00\n",
      "Total wall time: 0:00:00\n",
      "Total wall time: 0:00:00\n",
      "Total wall time: 0:00:00\n",
      "Total wall time: 0:00:00\n"
     ]
    },
    {
     "name": "stderr",
     "output_type": "stream",
     "text": [
      "10:07:36 - mcmc.calculators | INFO: None\n",
      "10:07:36 - mcmc.calculators | INFO: None\n",
      "10:07:36 - mcmc.calculators | INFO: None\n",
      "10:07:36 - mcmc.calculators | INFO: None\n",
      "10:07:36 - mcmc.calculators | INFO: None\n",
      "10:07:36 - mcmc.calculators | INFO: None\n",
      "10:07:36 - mcmc.calculators | INFO: None\n",
      "10:07:36 - mcmc.calculators | INFO: None\n",
      "10:07:36 - mcmc.calculators | INFO: None\n",
      "10:07:36 - mcmc.calculators | INFO: None\n"
     ]
    },
    {
     "name": "stdout",
     "output_type": "stream",
     "text": [
      "Total wall time: 0:00:00\n",
      "Total wall time: 0:00:00\n",
      "Total wall time: 0:00:00\n",
      "Total wall time: 0:00:00\n",
      "Total wall time: 0:00:00\n",
      "Total wall time: 0:00:00\n",
      "Total wall time: 0:00:00\n",
      "Total wall time: 0:00:00\n",
      "Total wall time: 0:00:00\n",
      "Total wall time: 0:00:00\n"
     ]
    },
    {
     "name": "stderr",
     "output_type": "stream",
     "text": [
      "10:07:36 - mcmc.calculators | INFO: None\n",
      "10:07:36 - mcmc.calculators | INFO: None\n",
      "10:07:36 - mcmc.calculators | INFO: None\n",
      "10:07:36 - mcmc.calculators | INFO: None\n",
      "10:07:36 - mcmc.calculators | INFO: None\n",
      "10:07:36 - mcmc.calculators | INFO: None\n",
      "10:07:36 - mcmc.calculators | INFO: None\n",
      "10:07:36 - mcmc.calculators | INFO: None\n",
      "10:07:36 - mcmc.calculators | INFO: None\n",
      "10:07:36 - mcmc.calculators | INFO: None\n"
     ]
    },
    {
     "name": "stdout",
     "output_type": "stream",
     "text": [
      "Total wall time: 0:00:00\n",
      "Total wall time: 0:00:00\n",
      "Total wall time: 0:00:00\n",
      "Total wall time: 0:00:00\n",
      "Total wall time: 0:00:00\n",
      "Total wall time: 0:00:00\n",
      "Total wall time: 0:00:00\n",
      "Total wall time: 0:00:00\n",
      "Total wall time: 0:00:00\n"
     ]
    },
    {
     "name": "stderr",
     "output_type": "stream",
     "text": [
      "10:07:36 - mcmc.calculators | INFO: None\n",
      "10:07:36 - mcmc.calculators | INFO: None\n",
      "10:07:36 - mcmc.calculators | INFO: None\n",
      "10:07:36 - mcmc.calculators | INFO: None\n",
      "10:07:36 - mcmc.calculators | INFO: None\n",
      "10:07:36 - mcmc.calculators | INFO: None\n"
     ]
    },
    {
     "name": "stdout",
     "output_type": "stream",
     "text": [
      "Total wall time: 0:00:00\n",
      "Total wall time: 0:00:00\n",
      "Total wall time: 0:00:00\n",
      "Total wall time: 0:00:00\n",
      "Total wall time: 0:00:00\n",
      "Total wall time: 0:00:00\n",
      "Total wall time: 0:00:00\n"
     ]
    },
    {
     "name": "stderr",
     "output_type": "stream",
     "text": [
      "10:07:36 - mcmc.calculators | INFO: None\n",
      "10:07:36 - mcmc.calculators | INFO: None\n",
      "10:07:36 - mcmc.calculators | INFO: None\n",
      "10:07:36 - mcmc.calculators | INFO: None\n",
      "10:07:36 - mcmc.calculators | INFO: None\n",
      "10:07:37 - mcmc.calculators | INFO: None\n",
      "10:07:37 - mcmc.calculators | INFO: None\n",
      "10:07:37 - mcmc.calculators | INFO: None\n",
      "10:07:37 - mcmc.calculators | INFO: None\n",
      "10:07:37 - mcmc.calculators | INFO: None\n",
      "10:07:37 - mcmc.calculators | INFO: None\n",
      "10:07:37 - mcmc.calculators | INFO: None\n"
     ]
    },
    {
     "name": "stdout",
     "output_type": "stream",
     "text": [
      "Total wall time: 0:00:00\n",
      "Total wall time: 0:00:00\n",
      "Total wall time: 0:00:00\n",
      "Total wall time: 0:00:00\n",
      "Total wall time: 0:00:00\n",
      "Total wall time: 0:00:00\n",
      "Total wall time: 0:00:00\n",
      "Total wall time: 0:00:00\n",
      "Total wall time: 0:00:00\n",
      "Total wall time: 0:00:00\n",
      "Total wall time: 0:00:00\n",
      "Total wall time: 0:00:00\n"
     ]
    },
    {
     "name": "stderr",
     "output_type": "stream",
     "text": [
      "10:07:37 - mcmc.calculators | INFO: None\n",
      "10:07:37 - mcmc.calculators | INFO: None\n",
      "10:07:37 - mcmc.calculators | INFO: None\n",
      "10:07:37 - mcmc.calculators | INFO: None\n",
      "10:07:37 - mcmc.calculators | INFO: None\n",
      "10:07:37 - mcmc.calculators | INFO: None\n",
      "10:07:37 - mcmc.calculators | INFO: None\n",
      "10:07:37 - mcmc.calculators | INFO: None\n",
      "10:07:37 - mcmc.calculators | INFO: None\n",
      "10:07:37 - mcmc.calculators | INFO: None\n"
     ]
    },
    {
     "name": "stdout",
     "output_type": "stream",
     "text": [
      "Total wall time: 0:00:00\n",
      "Total wall time: 0:00:00\n",
      "Total wall time: 0:00:00\n",
      "Total wall time: 0:00:00\n",
      "Total wall time: 0:00:00\n",
      "Total wall time: 0:00:00\n",
      "Total wall time: 0:00:00\n",
      "Total wall time: 0:00:00\n",
      "Total wall time: 0:00:00\n",
      "Total wall time: 0:00:00\n"
     ]
    },
    {
     "name": "stderr",
     "output_type": "stream",
     "text": [
      "10:07:37 - mcmc.calculators | INFO: None\n",
      "10:07:37 - mcmc.calculators | INFO: None\n",
      "10:07:37 - mcmc.calculators | INFO: None\n",
      "10:07:37 - mcmc.calculators | INFO: None\n",
      "10:07:37 - mcmc.calculators | INFO: None\n",
      "10:07:37 - mcmc.calculators | INFO: None\n",
      "10:07:37 - mcmc.calculators | INFO: None\n",
      "10:07:37 - mcmc.calculators | INFO: None\n",
      "10:07:37 - mcmc.calculators | INFO: None\n",
      "10:07:37 - mcmc.calculators | INFO: None\n",
      "10:07:37 - mcmc.calculators | INFO: None\n",
      "10:07:37 - mcmc.calculators | INFO: None\n"
     ]
    },
    {
     "name": "stdout",
     "output_type": "stream",
     "text": [
      "Total wall time: 0:00:00\n",
      "Total wall time: 0:00:00\n",
      "Total wall time: 0:00:00\n",
      "Total wall time: 0:00:00\n",
      "Total wall time: 0:00:00\n",
      "Total wall time: 0:00:00\n",
      "Total wall time: 0:00:00\n",
      "Total wall time: 0:00:00\n",
      "Total wall time: 0:00:00\n",
      "Total wall time: 0:00:00\n",
      "Total wall time: 0:00:00\n",
      "Total wall time: 0:00:00\n"
     ]
    },
    {
     "name": "stderr",
     "output_type": "stream",
     "text": [
      "10:07:37 - mcmc.calculators | INFO: None\n",
      "10:07:37 - mcmc.calculators | INFO: None\n",
      "10:07:37 - mcmc.calculators | INFO: None\n",
      "10:07:37 - mcmc.calculators | INFO: None\n",
      "10:07:37 - mcmc.calculators | INFO: None\n",
      "10:07:37 - mcmc.calculators | INFO: None\n",
      "10:07:37 - mcmc.calculators | INFO: None\n",
      "10:07:37 - mcmc.calculators | INFO: None\n",
      "10:07:37 - mcmc.calculators | INFO: None\n",
      "10:07:37 - mcmc.calculators | INFO: None\n"
     ]
    },
    {
     "name": "stdout",
     "output_type": "stream",
     "text": [
      "Total wall time: 0:00:00\n",
      "Total wall time: 0:00:00\n",
      "Total wall time: 0:00:00\n",
      "Total wall time: 0:00:00\n",
      "Total wall time: 0:00:00\n",
      "Total wall time: 0:00:00\n",
      "Total wall time: 0:00:00\n",
      "Total wall time: 0:00:00\n",
      "Total wall time: 0:00:00\n",
      "Total wall time: 0:00:00\n"
     ]
    },
    {
     "name": "stderr",
     "output_type": "stream",
     "text": [
      "10:07:37 - mcmc.calculators | INFO: None\n",
      "10:07:37 - mcmc.calculators | INFO: None\n",
      "10:07:37 - mcmc.calculators | INFO: None\n",
      "10:07:37 - mcmc.calculators | INFO: None\n",
      "10:07:37 - mcmc.calculators | INFO: None\n",
      "10:07:37 - mcmc.calculators | INFO: None\n",
      "10:07:37 - mcmc.calculators | INFO: None\n",
      "10:07:37 - mcmc.calculators | INFO: None\n",
      "10:07:37 - mcmc.calculators | INFO: None\n",
      "10:07:37 - mcmc.calculators | INFO: None\n",
      "10:07:38 - mcmc.calculators | INFO: None\n",
      "10:07:38 - mcmc.calculators | INFO: None\n"
     ]
    },
    {
     "name": "stdout",
     "output_type": "stream",
     "text": [
      "Total wall time: 0:00:00\n",
      "Total wall time: 0:00:00\n",
      "Total wall time: 0:00:00\n",
      "Total wall time: 0:00:00\n",
      "Total wall time: 0:00:00\n",
      "Total wall time: 0:00:00\n",
      "Total wall time: 0:00:00\n",
      "Total wall time: 0:00:00\n",
      "Total wall time: 0:00:00\n",
      "Total wall time: 0:00:00\n",
      "Total wall time: 0:00:00\n",
      "Total wall time: 0:00:00\n"
     ]
    },
    {
     "name": "stderr",
     "output_type": "stream",
     "text": [
      "10:07:38 - mcmc.calculators | INFO: None\n",
      "10:07:38 - mcmc.calculators | INFO: None\n",
      "10:07:38 - mcmc.calculators | INFO: None\n",
      "10:07:38 - mcmc.calculators | INFO: None\n",
      "10:07:38 - mcmc.calculators | INFO: None\n",
      "10:07:38 - mcmc.calculators | INFO: None\n",
      "10:07:38 - mcmc.calculators | INFO: None\n",
      "10:07:38 - mcmc.calculators | INFO: None\n",
      "10:07:38 - mcmc.calculators | INFO: None\n",
      "10:07:38 - mcmc.calculators | INFO: None\n",
      "10:07:38 - mcmc.calculators | INFO: None\n"
     ]
    },
    {
     "name": "stdout",
     "output_type": "stream",
     "text": [
      "Total wall time: 0:00:00\n",
      "Total wall time: 0:00:00\n",
      "Total wall time: 0:00:00\n",
      "Total wall time: 0:00:00\n",
      "Total wall time: 0:00:00\n",
      "Total wall time: 0:00:00\n",
      "Total wall time: 0:00:00\n",
      "Total wall time: 0:00:00\n",
      "Total wall time: 0:00:00\n",
      "Total wall time: 0:00:00\n",
      "Total wall time: 0:00:00\n"
     ]
    },
    {
     "name": "stderr",
     "output_type": "stream",
     "text": [
      "10:07:38 - mcmc.calculators | INFO: None\n",
      "10:07:38 - mcmc.calculators | INFO: None\n",
      "10:07:38 - mcmc.calculators | INFO: None\n",
      "10:07:38 - mcmc.calculators | INFO: None\n",
      "10:07:38 - mcmc.calculators | INFO: None\n",
      "10:07:38 - mcmc.calculators | INFO: None\n",
      "10:07:38 - mcmc.calculators | INFO: None\n",
      "10:07:38 - mcmc.calculators | INFO: None\n",
      "10:07:38 - mcmc.calculators | INFO: None\n",
      "10:07:38 - mcmc.calculators | INFO: None\n",
      "10:07:38 - mcmc.calculators | INFO: None\n"
     ]
    },
    {
     "name": "stdout",
     "output_type": "stream",
     "text": [
      "Total wall time: 0:00:00\n",
      "Total wall time: 0:00:00\n",
      "Total wall time: 0:00:00\n",
      "Total wall time: 0:00:00\n",
      "Total wall time: 0:00:00\n",
      "Total wall time: 0:00:00\n",
      "Total wall time: 0:00:00\n",
      "Total wall time: 0:00:00\n",
      "Total wall time: 0:00:00\n",
      "Total wall time: 0:00:00\n",
      "Total wall time: 0:00:00\n"
     ]
    },
    {
     "name": "stderr",
     "output_type": "stream",
     "text": [
      "10:07:38 - mcmc.calculators | INFO: None\n",
      "10:07:38 - mcmc.calculators | INFO: None\n",
      "10:07:38 - mcmc.calculators | INFO: None\n",
      "10:07:38 - mcmc.calculators | INFO: None\n",
      "10:07:38 - mcmc.calculators | INFO: None\n",
      "10:07:38 - mcmc.calculators | INFO: None\n",
      "10:07:38 - mcmc.calculators | INFO: None\n",
      "10:07:38 - mcmc.calculators | INFO: None\n",
      "10:07:38 - mcmc.calculators | INFO: None\n",
      "10:07:38 - mcmc.calculators | INFO: None\n",
      "10:07:38 - mcmc.calculators | INFO: None\n"
     ]
    },
    {
     "name": "stdout",
     "output_type": "stream",
     "text": [
      "Total wall time: 0:00:00\n",
      "Total wall time: 0:00:00\n",
      "Total wall time: 0:00:00\n",
      "Total wall time: 0:00:00\n",
      "Total wall time: 0:00:00\n",
      "Total wall time: 0:00:00\n",
      "Total wall time: 0:00:00\n",
      "Total wall time: 0:00:00\n",
      "Total wall time: 0:00:00\n",
      "Total wall time: 0:00:00\n",
      "Total wall time: 0:00:00\n"
     ]
    },
    {
     "name": "stderr",
     "output_type": "stream",
     "text": [
      "10:07:38 - mcmc.calculators | INFO: None\n",
      "10:07:38 - mcmc.calculators | INFO: None\n",
      "10:07:38 - mcmc.calculators | INFO: None\n",
      "10:07:38 - mcmc.calculators | INFO: None\n",
      "10:07:38 - mcmc.calculators | INFO: None\n",
      "10:07:38 - mcmc.calculators | INFO: None\n",
      "10:07:38 - mcmc.calculators | INFO: None\n",
      "10:07:38 - mcmc.calculators | INFO: None\n",
      "10:07:38 - mcmc.calculators | INFO: None\n",
      "10:07:38 - mcmc.calculators | INFO: None\n",
      "10:07:38 - mcmc.calculators | INFO: None\n",
      "10:07:38 - mcmc.calculators | INFO: None\n",
      "10:07:38 - mcmc.calculators | INFO: None\n"
     ]
    },
    {
     "name": "stdout",
     "output_type": "stream",
     "text": [
      "Total wall time: 0:00:00\n",
      "Total wall time: 0:00:00\n",
      "Total wall time: 0:00:00\n",
      "Total wall time: 0:00:00\n",
      "Total wall time: 0:00:00\n",
      "Total wall time: 0:00:00\n",
      "Total wall time: 0:00:00\n",
      "Total wall time: 0:00:00\n",
      "Total wall time: 0:00:00\n",
      "Total wall time: 0:00:00\n",
      "Total wall time: 0:00:00\n",
      "Total wall time: 0:00:00\n",
      "Total wall time: 0:00:00\n"
     ]
    },
    {
     "name": "stderr",
     "output_type": "stream",
     "text": [
      "10:07:38 - mcmc.calculators | INFO: None\n",
      "10:07:38 - mcmc.calculators | INFO: None\n",
      "10:07:38 - mcmc.calculators | INFO: None\n",
      "10:07:39 - mcmc.calculators | INFO: None\n",
      "10:07:39 - mcmc.calculators | INFO: None\n",
      "10:07:39 - mcmc.calculators | INFO: None\n",
      "10:07:39 - mcmc.calculators | INFO: None\n",
      "10:07:39 - mcmc.calculators | INFO: None\n",
      "10:07:39 - mcmc.calculators | INFO: None\n"
     ]
    },
    {
     "name": "stdout",
     "output_type": "stream",
     "text": [
      "Total wall time: 0:00:00\n",
      "Total wall time: 0:00:00\n",
      "Total wall time: 0:00:00\n",
      "Total wall time: 0:00:00\n",
      "Total wall time: 0:00:00\n",
      "Total wall time: 0:00:00\n",
      "Total wall time: 0:00:00\n",
      "Total wall time: 0:00:00\n",
      "Total wall time: 0:00:00\n"
     ]
    },
    {
     "name": "stderr",
     "output_type": "stream",
     "text": [
      "10:07:39 - mcmc.calculators | INFO: None\n",
      "10:07:39 - mcmc.calculators | INFO: None\n",
      "10:07:39 - mcmc.calculators | INFO: None\n",
      "10:07:39 - mcmc.calculators | INFO: None\n",
      "10:07:39 - mcmc.calculators | INFO: None\n",
      "10:07:39 - mcmc.calculators | INFO: None\n",
      "10:07:39 - mcmc.calculators | INFO: None\n",
      "10:07:39 - mcmc.calculators | INFO: None\n",
      "10:07:39 - mcmc.calculators | INFO: None\n",
      "10:07:39 - mcmc.calculators | INFO: None\n",
      "10:07:39 - mcmc.calculators | INFO: None\n"
     ]
    },
    {
     "name": "stdout",
     "output_type": "stream",
     "text": [
      "Total wall time: 0:00:00\n",
      "Total wall time: 0:00:00\n",
      "Total wall time: 0:00:00\n",
      "Total wall time: 0:00:00\n",
      "Total wall time: 0:00:00\n",
      "Total wall time: 0:00:00\n",
      "Total wall time: 0:00:00\n",
      "Total wall time: 0:00:00\n",
      "Total wall time: 0:00:00\n",
      "Total wall time: 0:00:00\n"
     ]
    },
    {
     "name": "stderr",
     "output_type": "stream",
     "text": [
      "10:07:39 - mcmc.calculators | INFO: None\n",
      "10:07:39 - mcmc.calculators | INFO: None\n",
      "10:07:39 - mcmc.calculators | INFO: None\n",
      "10:07:39 - mcmc.calculators | INFO: None\n",
      "10:07:39 - mcmc.calculators | INFO: None\n",
      "10:07:39 - mcmc.calculators | INFO: None\n",
      "10:07:39 - mcmc.calculators | INFO: None\n",
      "10:07:39 - mcmc.calculators | INFO: None\n",
      "10:07:39 - mcmc.calculators | INFO: None\n",
      "10:07:39 - mcmc.calculators | INFO: None\n"
     ]
    },
    {
     "name": "stdout",
     "output_type": "stream",
     "text": [
      "Total wall time: 0:00:00\n",
      "Total wall time: 0:00:00\n",
      "Total wall time: 0:00:00\n",
      "Total wall time: 0:00:00\n",
      "Total wall time: 0:00:00\n",
      "Total wall time: 0:00:00\n",
      "Total wall time: 0:00:00\n",
      "Total wall time: 0:00:00\n",
      "Total wall time: 0:00:00\n",
      "Total wall time: 0:00:00\n",
      "Total wall time: 0:00:00\n"
     ]
    },
    {
     "name": "stderr",
     "output_type": "stream",
     "text": [
      "10:07:39 - mcmc.calculators | INFO: None\n",
      "10:07:39 - mcmc.calculators | INFO: None\n"
     ]
    },
    {
     "name": "stdout",
     "output_type": "stream",
     "text": [
      "Total wall time: 0:00:00\n",
      "Total wall time: 0:00:00\n"
     ]
    },
    {
     "name": "stderr",
     "output_type": "stream",
     "text": [
      "10:07:39 - mcmc.calculators | INFO: None\n",
      "10:07:39 - mcmc.calculators | INFO: None\n",
      "10:07:39 - mcmc.calculators | INFO: None\n",
      "10:07:39 - mcmc.calculators | INFO: None\n",
      "10:07:39 - mcmc.calculators | INFO: None\n",
      "10:07:39 - mcmc.calculators | INFO: None\n",
      "10:07:39 - mcmc.calculators | INFO: None\n",
      "10:07:39 - mcmc.calculators | INFO: None\n",
      "10:07:39 - mcmc.calculators | INFO: None\n",
      "10:07:40 - mcmc.calculators | INFO: None\n"
     ]
    },
    {
     "name": "stdout",
     "output_type": "stream",
     "text": [
      "Total wall time: 0:00:00\n",
      "Total wall time: 0:00:00\n",
      "Total wall time: 0:00:00\n",
      "Total wall time: 0:00:00\n",
      "Total wall time: 0:00:00\n",
      "Total wall time: 0:00:00\n",
      "Total wall time: 0:00:00\n",
      "Total wall time: 0:00:00\n",
      "Total wall time: 0:00:00\n",
      "Total wall time: 0:00:00\n"
     ]
    },
    {
     "name": "stderr",
     "output_type": "stream",
     "text": [
      "10:07:40 - mcmc.calculators | INFO: None\n",
      "10:07:40 - mcmc.calculators | INFO: None\n",
      "10:07:40 - mcmc.mcmc | INFO: At iter 624\n",
      "10:07:40 - mcmc.calculators | INFO: None\n",
      "10:07:40 - mcmc.calculators | INFO: None\n",
      "10:07:40 - mcmc.calculators | INFO: None\n",
      "10:07:40 - mcmc.system | INFO: Optimized structure has surface energy = -178.399\n",
      "10:07:40 - mcmc.mcmc | INFO: In sweep 7 out of 10\n",
      "10:07:40 - mcmc.calculators | INFO: None\n",
      "10:07:40 - mcmc.calculators | INFO: None\n",
      "10:07:40 - mcmc.calculators | INFO: None\n",
      "10:07:40 - mcmc.calculators | INFO: None\n"
     ]
    },
    {
     "name": "stdout",
     "output_type": "stream",
     "text": [
      "Total wall time: 0:00:00\n",
      "Total wall time: 0:00:00\n",
      "Total wall time: 0:00:00\n",
      "Total wall time: 0:00:00\n",
      "Total wall time: 0:00:00\n",
      "Total wall time: 0:00:00\n",
      "Total wall time: 0:00:00\n",
      "Total wall time: 0:00:00\n",
      "Total wall time: 0:00:00\n"
     ]
    },
    {
     "name": "stderr",
     "output_type": "stream",
     "text": [
      "10:07:40 - mcmc.calculators | INFO: None\n",
      "10:07:40 - mcmc.calculators | INFO: None\n",
      "10:07:40 - mcmc.calculators | INFO: None\n",
      "10:07:40 - mcmc.calculators | INFO: None\n",
      "10:07:40 - mcmc.calculators | INFO: None\n",
      "10:07:40 - mcmc.calculators | INFO: None\n",
      "10:07:40 - mcmc.calculators | INFO: None\n",
      "10:07:40 - mcmc.calculators | INFO: None\n",
      "10:07:40 - mcmc.calculators | INFO: None\n",
      "10:07:40 - mcmc.calculators | INFO: None\n"
     ]
    },
    {
     "name": "stdout",
     "output_type": "stream",
     "text": [
      "Total wall time: 0:00:00\n",
      "Total wall time: 0:00:00\n",
      "Total wall time: 0:00:00\n",
      "Total wall time: 0:00:00\n",
      "Total wall time: 0:00:00\n",
      "Total wall time: 0:00:00\n",
      "Total wall time: 0:00:00\n",
      "Total wall time: 0:00:00\n",
      "Total wall time: 0:00:00\n",
      "Total wall time: 0:00:00\n"
     ]
    },
    {
     "name": "stderr",
     "output_type": "stream",
     "text": [
      "10:07:40 - mcmc.calculators | INFO: None\n",
      "10:07:40 - mcmc.calculators | INFO: None\n",
      "10:07:40 - mcmc.calculators | INFO: None\n",
      "10:07:40 - mcmc.calculators | INFO: None\n",
      "10:07:40 - mcmc.calculators | INFO: None\n",
      "10:07:40 - mcmc.calculators | INFO: None\n",
      "10:07:40 - mcmc.calculators | INFO: None\n",
      "10:07:40 - mcmc.calculators | INFO: None\n"
     ]
    },
    {
     "name": "stdout",
     "output_type": "stream",
     "text": [
      "Total wall time: 0:00:00\n",
      "Total wall time: 0:00:00\n",
      "Total wall time: 0:00:00\n",
      "Total wall time: 0:00:00\n",
      "Total wall time: 0:00:00\n",
      "Total wall time: 0:00:00\n",
      "Total wall time: 0:00:00\n",
      "Total wall time: 0:00:00\n"
     ]
    },
    {
     "name": "stderr",
     "output_type": "stream",
     "text": [
      "10:07:40 - mcmc.calculators | INFO: None\n",
      "10:07:40 - mcmc.calculators | INFO: None\n",
      "10:07:40 - mcmc.calculators | INFO: None\n",
      "10:07:40 - mcmc.calculators | INFO: None\n",
      "10:07:40 - mcmc.calculators | INFO: None\n",
      "10:07:40 - mcmc.calculators | INFO: None\n",
      "10:07:40 - mcmc.calculators | INFO: None\n",
      "10:07:40 - mcmc.calculators | INFO: None\n",
      "10:07:40 - mcmc.calculators | INFO: None\n",
      "10:07:40 - mcmc.calculators | INFO: None\n"
     ]
    },
    {
     "name": "stdout",
     "output_type": "stream",
     "text": [
      "Total wall time: 0:00:00\n",
      "Total wall time: 0:00:00\n",
      "Total wall time: 0:00:00\n",
      "Total wall time: 0:00:00\n",
      "Total wall time: 0:00:00\n",
      "Total wall time: 0:00:00\n",
      "Total wall time: 0:00:00\n",
      "Total wall time: 0:00:00\n",
      "Total wall time: 0:00:00\n",
      "Total wall time: 0:00:00\n"
     ]
    },
    {
     "name": "stderr",
     "output_type": "stream",
     "text": [
      "10:07:40 - mcmc.calculators | INFO: None\n",
      "10:07:40 - mcmc.calculators | INFO: None\n",
      "10:07:40 - mcmc.calculators | INFO: None\n",
      "10:07:40 - mcmc.calculators | INFO: None\n",
      "10:07:41 - mcmc.calculators | INFO: None\n",
      "10:07:41 - mcmc.calculators | INFO: None\n",
      "10:07:41 - mcmc.calculators | INFO: None\n",
      "10:07:41 - mcmc.calculators | INFO: None\n"
     ]
    },
    {
     "name": "stdout",
     "output_type": "stream",
     "text": [
      "Total wall time: 0:00:00\n",
      "Total wall time: 0:00:00\n",
      "Total wall time: 0:00:00\n",
      "Total wall time: 0:00:00\n",
      "Total wall time: 0:00:00\n",
      "Total wall time: 0:00:00\n",
      "Total wall time: 0:00:00\n",
      "Total wall time: 0:00:00\n"
     ]
    },
    {
     "name": "stderr",
     "output_type": "stream",
     "text": [
      "10:07:41 - mcmc.calculators | INFO: None\n",
      "10:07:41 - mcmc.calculators | INFO: None\n",
      "10:07:41 - mcmc.calculators | INFO: None\n",
      "10:07:41 - mcmc.calculators | INFO: None\n",
      "10:07:41 - mcmc.calculators | INFO: None\n",
      "10:07:41 - mcmc.calculators | INFO: None\n",
      "10:07:41 - mcmc.calculators | INFO: None\n",
      "10:07:41 - mcmc.calculators | INFO: None\n"
     ]
    },
    {
     "name": "stdout",
     "output_type": "stream",
     "text": [
      "Total wall time: 0:00:00\n",
      "Total wall time: 0:00:00\n",
      "Total wall time: 0:00:00\n",
      "Total wall time: 0:00:00\n",
      "Total wall time: 0:00:00\n",
      "Total wall time: 0:00:00\n",
      "Total wall time: 0:00:00\n",
      "Total wall time: 0:00:00\n"
     ]
    },
    {
     "name": "stderr",
     "output_type": "stream",
     "text": [
      "10:07:41 - mcmc.calculators | INFO: None\n",
      "10:07:41 - mcmc.calculators | INFO: None\n",
      "10:07:41 - mcmc.calculators | INFO: None\n",
      "10:07:41 - mcmc.calculators | INFO: None\n",
      "10:07:41 - mcmc.calculators | INFO: None\n",
      "10:07:41 - mcmc.calculators | INFO: None\n",
      "10:07:41 - mcmc.calculators | INFO: None\n",
      "10:07:41 - mcmc.calculators | INFO: None\n",
      "10:07:41 - mcmc.calculators | INFO: None\n",
      "10:07:41 - mcmc.calculators | INFO: None\n"
     ]
    },
    {
     "name": "stdout",
     "output_type": "stream",
     "text": [
      "Total wall time: 0:00:00\n",
      "Total wall time: 0:00:00\n",
      "Total wall time: 0:00:00\n",
      "Total wall time: 0:00:00\n",
      "Total wall time: 0:00:00\n",
      "Total wall time: 0:00:00\n",
      "Total wall time: 0:00:00\n",
      "Total wall time: 0:00:00\n",
      "Total wall time: 0:00:00\n",
      "Total wall time: 0:00:00\n"
     ]
    },
    {
     "name": "stderr",
     "output_type": "stream",
     "text": [
      "10:07:41 - mcmc.calculators | INFO: None\n",
      "10:07:41 - mcmc.calculators | INFO: None\n",
      "10:07:41 - mcmc.calculators | INFO: None\n",
      "10:07:41 - mcmc.calculators | INFO: None\n",
      "10:07:41 - mcmc.calculators | INFO: None\n",
      "10:07:41 - mcmc.calculators | INFO: None\n",
      "10:07:41 - mcmc.calculators | INFO: None\n",
      "10:07:41 - mcmc.calculators | INFO: None\n",
      "10:07:41 - mcmc.calculators | INFO: None\n",
      "10:07:41 - mcmc.calculators | INFO: None\n"
     ]
    },
    {
     "name": "stdout",
     "output_type": "stream",
     "text": [
      "Total wall time: 0:00:00\n",
      "Total wall time: 0:00:00\n",
      "Total wall time: 0:00:00\n",
      "Total wall time: 0:00:00\n",
      "Total wall time: 0:00:00\n",
      "Total wall time: 0:00:00\n",
      "Total wall time: 0:00:00\n",
      "Total wall time: 0:00:00\n",
      "Total wall time: 0:00:00\n",
      "Total wall time: 0:00:00\n"
     ]
    },
    {
     "name": "stderr",
     "output_type": "stream",
     "text": [
      "10:07:41 - mcmc.calculators | INFO: None\n",
      "10:07:41 - mcmc.calculators | INFO: None\n",
      "10:07:41 - mcmc.calculators | INFO: None\n",
      "10:07:41 - mcmc.calculators | INFO: None\n",
      "10:07:41 - mcmc.calculators | INFO: None\n",
      "10:07:41 - mcmc.calculators | INFO: None\n",
      "10:07:41 - mcmc.calculators | INFO: None\n",
      "10:07:41 - mcmc.calculators | INFO: None\n",
      "10:07:41 - mcmc.calculators | INFO: None\n",
      "10:07:41 - mcmc.calculators | INFO: None\n"
     ]
    },
    {
     "name": "stdout",
     "output_type": "stream",
     "text": [
      "Total wall time: 0:00:00\n",
      "Total wall time: 0:00:00\n",
      "Total wall time: 0:00:00\n",
      "Total wall time: 0:00:00\n",
      "Total wall time: 0:00:00\n",
      "Total wall time: 0:00:00\n",
      "Total wall time: 0:00:00\n",
      "Total wall time: 0:00:00\n",
      "Total wall time: 0:00:00\n",
      "Total wall time: 0:00:00\n"
     ]
    },
    {
     "name": "stderr",
     "output_type": "stream",
     "text": [
      "10:07:42 - mcmc.calculators | INFO: None\n",
      "10:07:42 - mcmc.calculators | INFO: None\n",
      "10:07:42 - mcmc.calculators | INFO: None\n",
      "10:07:42 - mcmc.calculators | INFO: None\n",
      "10:07:42 - mcmc.calculators | INFO: None\n",
      "10:07:42 - mcmc.calculators | INFO: None\n",
      "10:07:42 - mcmc.calculators | INFO: None\n",
      "10:07:42 - mcmc.calculators | INFO: None\n",
      "10:07:42 - mcmc.calculators | INFO: None\n",
      "10:07:42 - mcmc.calculators | INFO: None\n",
      "10:07:42 - mcmc.calculators | INFO: None\n",
      "10:07:42 - mcmc.calculators | INFO: None\n"
     ]
    },
    {
     "name": "stdout",
     "output_type": "stream",
     "text": [
      "Total wall time: 0:00:00\n",
      "Total wall time: 0:00:00\n",
      "Total wall time: 0:00:00\n",
      "Total wall time: 0:00:00\n",
      "Total wall time: 0:00:00\n",
      "Total wall time: 0:00:00\n",
      "Total wall time: 0:00:00\n",
      "Total wall time: 0:00:00\n",
      "Total wall time: 0:00:00\n",
      "Total wall time: 0:00:00\n",
      "Total wall time: 0:00:00\n",
      "Total wall time: 0:00:00\n"
     ]
    },
    {
     "name": "stderr",
     "output_type": "stream",
     "text": [
      "10:07:42 - mcmc.calculators | INFO: None\n",
      "10:07:42 - mcmc.calculators | INFO: None\n",
      "10:07:42 - mcmc.calculators | INFO: None\n",
      "10:07:42 - mcmc.calculators | INFO: None\n",
      "10:07:42 - mcmc.calculators | INFO: None\n",
      "10:07:42 - mcmc.calculators | INFO: None\n",
      "10:07:42 - mcmc.calculators | INFO: None\n",
      "10:07:42 - mcmc.calculators | INFO: None\n",
      "10:07:42 - mcmc.calculators | INFO: None\n",
      "10:07:42 - mcmc.calculators | INFO: None\n",
      "10:07:42 - mcmc.calculators | INFO: None\n",
      "10:07:42 - mcmc.calculators | INFO: None\n"
     ]
    },
    {
     "name": "stdout",
     "output_type": "stream",
     "text": [
      "Total wall time: 0:00:00\n",
      "Total wall time: 0:00:00\n",
      "Total wall time: 0:00:00\n",
      "Total wall time: 0:00:00\n",
      "Total wall time: 0:00:00\n",
      "Total wall time: 0:00:00\n",
      "Total wall time: 0:00:00\n",
      "Total wall time: 0:00:00\n",
      "Total wall time: 0:00:00\n",
      "Total wall time: 0:00:00\n",
      "Total wall time: 0:00:00\n",
      "Total wall time: 0:00:00\n"
     ]
    },
    {
     "name": "stderr",
     "output_type": "stream",
     "text": [
      "10:07:42 - mcmc.calculators | INFO: None\n",
      "10:07:42 - mcmc.calculators | INFO: None\n",
      "10:07:42 - mcmc.calculators | INFO: None\n",
      "10:07:42 - mcmc.calculators | INFO: None\n",
      "10:07:42 - mcmc.calculators | INFO: None\n",
      "10:07:42 - mcmc.calculators | INFO: None\n",
      "10:07:42 - mcmc.calculators | INFO: None\n",
      "10:07:42 - mcmc.calculators | INFO: None\n",
      "10:07:42 - mcmc.calculators | INFO: None\n",
      "10:07:42 - mcmc.calculators | INFO: None\n",
      "10:07:42 - mcmc.calculators | INFO: None\n",
      "10:07:42 - mcmc.calculators | INFO: None\n"
     ]
    },
    {
     "name": "stdout",
     "output_type": "stream",
     "text": [
      "Total wall time: 0:00:00\n",
      "Total wall time: 0:00:00\n",
      "Total wall time: 0:00:00\n",
      "Total wall time: 0:00:00\n",
      "Total wall time: 0:00:00\n",
      "Total wall time: 0:00:00\n",
      "Total wall time: 0:00:00\n",
      "Total wall time: 0:00:00\n",
      "Total wall time: 0:00:00\n",
      "Total wall time: 0:00:00\n",
      "Total wall time: 0:00:00\n",
      "Total wall time: 0:00:00\n"
     ]
    },
    {
     "name": "stderr",
     "output_type": "stream",
     "text": [
      "10:07:42 - mcmc.calculators | INFO: None\n",
      "10:07:42 - mcmc.calculators | INFO: None\n",
      "10:07:42 - mcmc.calculators | INFO: None\n",
      "10:07:42 - mcmc.calculators | INFO: None\n",
      "10:07:42 - mcmc.calculators | INFO: None\n",
      "10:07:42 - mcmc.calculators | INFO: None\n",
      "10:07:42 - mcmc.calculators | INFO: None\n",
      "10:07:42 - mcmc.calculators | INFO: None\n",
      "10:07:42 - mcmc.calculators | INFO: None\n",
      "10:07:42 - mcmc.calculators | INFO: None\n"
     ]
    },
    {
     "name": "stdout",
     "output_type": "stream",
     "text": [
      "Total wall time: 0:00:00\n",
      "Total wall time: 0:00:00\n",
      "Total wall time: 0:00:00\n",
      "Total wall time: 0:00:00\n",
      "Total wall time: 0:00:00\n",
      "Total wall time: 0:00:00\n",
      "Total wall time: 0:00:00\n",
      "Total wall time: 0:00:00\n",
      "Total wall time: 0:00:00\n",
      "Total wall time: 0:00:00\n"
     ]
    },
    {
     "name": "stderr",
     "output_type": "stream",
     "text": [
      "10:07:42 - mcmc.calculators | INFO: None\n",
      "10:07:42 - mcmc.calculators | INFO: None\n",
      "10:07:42 - mcmc.calculators | INFO: None\n",
      "10:07:42 - mcmc.calculators | INFO: None\n",
      "10:07:43 - mcmc.calculators | INFO: None\n",
      "10:07:43 - mcmc.calculators | INFO: None\n",
      "10:07:43 - mcmc.calculators | INFO: None\n",
      "10:07:43 - mcmc.calculators | INFO: None\n",
      "10:07:43 - mcmc.calculators | INFO: None\n",
      "10:07:43 - mcmc.calculators | INFO: None\n",
      "10:07:43 - mcmc.calculators | INFO: None\n",
      "10:07:43 - mcmc.calculators | INFO: None\n",
      "10:07:43 - mcmc.calculators | INFO: None\n",
      "10:07:43 - mcmc.calculators | INFO: None\n"
     ]
    },
    {
     "name": "stdout",
     "output_type": "stream",
     "text": [
      "Total wall time: 0:00:00\n",
      "Total wall time: 0:00:00\n",
      "Total wall time: 0:00:00\n",
      "Total wall time: 0:00:00\n",
      "Total wall time: 0:00:00\n",
      "Total wall time: 0:00:00\n",
      "Total wall time: 0:00:00\n",
      "Total wall time: 0:00:00\n",
      "Total wall time: 0:00:00\n",
      "Total wall time: 0:00:00\n",
      "Total wall time: 0:00:00\n",
      "Total wall time: 0:00:00\n",
      "Total wall time: 0:00:00\n",
      "Total wall time: 0:00:00\n"
     ]
    },
    {
     "name": "stderr",
     "output_type": "stream",
     "text": [
      "10:07:43 - mcmc.calculators | INFO: None\n",
      "10:07:43 - mcmc.calculators | INFO: None\n",
      "10:07:43 - mcmc.calculators | INFO: None\n",
      "10:07:43 - mcmc.calculators | INFO: None\n",
      "10:07:43 - mcmc.calculators | INFO: None\n",
      "10:07:43 - mcmc.calculators | INFO: None\n",
      "10:07:43 - mcmc.calculators | INFO: None\n",
      "10:07:43 - mcmc.calculators | INFO: None\n"
     ]
    },
    {
     "name": "stdout",
     "output_type": "stream",
     "text": [
      "Total wall time: 0:00:00\n",
      "Total wall time: 0:00:00\n",
      "Total wall time: 0:00:00\n",
      "Total wall time: 0:00:00\n",
      "Total wall time: 0:00:00\n",
      "Total wall time: 0:00:00\n",
      "Total wall time: 0:00:00\n",
      "Total wall time: 0:00:00\n"
     ]
    },
    {
     "name": "stderr",
     "output_type": "stream",
     "text": [
      "10:07:43 - mcmc.calculators | INFO: None\n",
      "10:07:43 - mcmc.calculators | INFO: None\n",
      "10:07:43 - mcmc.calculators | INFO: None\n",
      "10:07:43 - mcmc.calculators | INFO: None\n",
      "10:07:43 - mcmc.calculators | INFO: None\n",
      "10:07:43 - mcmc.calculators | INFO: None\n",
      "10:07:43 - mcmc.calculators | INFO: None\n",
      "10:07:43 - mcmc.calculators | INFO: None\n",
      "10:07:43 - mcmc.calculators | INFO: None\n",
      "10:07:43 - mcmc.calculators | INFO: None\n",
      "10:07:43 - mcmc.calculators | INFO: None\n",
      "10:07:43 - mcmc.calculators | INFO: None\n"
     ]
    },
    {
     "name": "stdout",
     "output_type": "stream",
     "text": [
      "Total wall time: 0:00:00\n",
      "Total wall time: 0:00:00\n",
      "Total wall time: 0:00:00\n",
      "Total wall time: 0:00:00\n",
      "Total wall time: 0:00:00\n",
      "Total wall time: 0:00:00\n",
      "Total wall time: 0:00:00\n",
      "Total wall time: 0:00:00\n",
      "Total wall time: 0:00:00\n",
      "Total wall time: 0:00:00\n",
      "Total wall time: 0:00:00\n",
      "Total wall time: 0:00:00\n"
     ]
    },
    {
     "name": "stderr",
     "output_type": "stream",
     "text": [
      "10:07:43 - mcmc.calculators | INFO: None\n",
      "10:07:43 - mcmc.calculators | INFO: None\n",
      "10:07:43 - mcmc.calculators | INFO: None\n",
      "10:07:43 - mcmc.calculators | INFO: None\n",
      "10:07:43 - mcmc.calculators | INFO: None\n",
      "10:07:43 - mcmc.calculators | INFO: None\n",
      "10:07:43 - mcmc.calculators | INFO: None\n",
      "10:07:43 - mcmc.calculators | INFO: None\n",
      "10:07:43 - mcmc.calculators | INFO: None\n",
      "10:07:43 - mcmc.calculators | INFO: None\n"
     ]
    },
    {
     "name": "stdout",
     "output_type": "stream",
     "text": [
      "Total wall time: 0:00:00\n",
      "Total wall time: 0:00:00\n",
      "Total wall time: 0:00:00\n",
      "Total wall time: 0:00:00\n",
      "Total wall time: 0:00:00\n",
      "Total wall time: 0:00:00\n",
      "Total wall time: 0:00:00\n",
      "Total wall time: 0:00:00\n",
      "Total wall time: 0:00:00\n",
      "Total wall time: 0:00:00\n"
     ]
    },
    {
     "name": "stderr",
     "output_type": "stream",
     "text": [
      "10:07:43 - mcmc.calculators | INFO: None\n",
      "10:07:43 - mcmc.calculators | INFO: None\n",
      "10:07:43 - mcmc.calculators | INFO: None\n",
      "10:07:43 - mcmc.calculators | INFO: None\n",
      "10:07:43 - mcmc.calculators | INFO: None\n",
      "10:07:43 - mcmc.calculators | INFO: None\n",
      "10:07:43 - mcmc.calculators | INFO: None\n",
      "10:07:44 - mcmc.calculators | INFO: None\n",
      "10:07:44 - mcmc.calculators | INFO: None\n"
     ]
    },
    {
     "name": "stdout",
     "output_type": "stream",
     "text": [
      "Total wall time: 0:00:00\n",
      "Total wall time: 0:00:00\n",
      "Total wall time: 0:00:00\n",
      "Total wall time: 0:00:00\n",
      "Total wall time: 0:00:00\n",
      "Total wall time: 0:00:00\n",
      "Total wall time: 0:00:00\n",
      "Total wall time: 0:00:00\n",
      "Total wall time: 0:00:00\n"
     ]
    },
    {
     "name": "stderr",
     "output_type": "stream",
     "text": [
      "10:07:44 - mcmc.calculators | INFO: None\n",
      "10:07:44 - mcmc.calculators | INFO: None\n",
      "10:07:44 - mcmc.calculators | INFO: None\n",
      "10:07:44 - mcmc.calculators | INFO: None\n",
      "10:07:44 - mcmc.calculators | INFO: None\n",
      "10:07:44 - mcmc.calculators | INFO: None\n",
      "10:07:44 - mcmc.calculators | INFO: None\n",
      "10:07:44 - mcmc.calculators | INFO: None\n",
      "10:07:44 - mcmc.calculators | INFO: None\n"
     ]
    },
    {
     "name": "stdout",
     "output_type": "stream",
     "text": [
      "Total wall time: 0:00:00\n",
      "Total wall time: 0:00:00\n",
      "Total wall time: 0:00:00\n",
      "Total wall time: 0:00:00\n",
      "Total wall time: 0:00:00\n",
      "Total wall time: 0:00:00\n",
      "Total wall time: 0:00:00\n",
      "Total wall time: 0:00:00\n",
      "Total wall time: 0:00:00\n"
     ]
    },
    {
     "name": "stderr",
     "output_type": "stream",
     "text": [
      "10:07:44 - mcmc.calculators | INFO: None\n",
      "10:07:44 - mcmc.calculators | INFO: None\n",
      "10:07:44 - mcmc.calculators | INFO: None\n",
      "10:07:44 - mcmc.calculators | INFO: None\n",
      "10:07:44 - mcmc.calculators | INFO: None\n",
      "10:07:44 - mcmc.calculators | INFO: None\n",
      "10:07:44 - mcmc.calculators | INFO: None\n",
      "10:07:44 - mcmc.calculators | INFO: None\n",
      "10:07:44 - mcmc.calculators | INFO: None\n",
      "10:07:44 - mcmc.calculators | INFO: None\n"
     ]
    },
    {
     "name": "stdout",
     "output_type": "stream",
     "text": [
      "Total wall time: 0:00:00\n",
      "Total wall time: 0:00:00\n",
      "Total wall time: 0:00:00\n",
      "Total wall time: 0:00:00\n",
      "Total wall time: 0:00:00\n",
      "Total wall time: 0:00:00\n",
      "Total wall time: 0:00:00\n",
      "Total wall time: 0:00:00\n",
      "Total wall time: 0:00:00\n",
      "Total wall time: 0:00:00\n"
     ]
    },
    {
     "name": "stderr",
     "output_type": "stream",
     "text": [
      "10:07:44 - mcmc.calculators | INFO: None\n",
      "10:07:44 - mcmc.calculators | INFO: None\n",
      "10:07:44 - mcmc.calculators | INFO: None\n",
      "10:07:44 - mcmc.calculators | INFO: None\n",
      "10:07:44 - mcmc.calculators | INFO: None\n",
      "10:07:44 - mcmc.calculators | INFO: None\n",
      "10:07:44 - mcmc.calculators | INFO: None\n",
      "10:07:44 - mcmc.calculators | INFO: None\n",
      "10:07:44 - mcmc.calculators | INFO: None\n",
      "10:07:44 - mcmc.calculators | INFO: None\n",
      "10:07:44 - mcmc.mcmc | INFO: At iter 728\n"
     ]
    },
    {
     "name": "stdout",
     "output_type": "stream",
     "text": [
      "Total wall time: 0:00:00\n",
      "Total wall time: 0:00:00\n",
      "Total wall time: 0:00:00\n",
      "Total wall time: 0:00:00\n",
      "Total wall time: 0:00:00\n",
      "Total wall time: 0:00:00\n",
      "Total wall time: 0:00:00\n",
      "Total wall time: 0:00:00\n",
      "Total wall time: 0:00:00\n",
      "Total wall time: 0:00:00\n"
     ]
    },
    {
     "name": "stderr",
     "output_type": "stream",
     "text": [
      "10:07:44 - mcmc.calculators | INFO: None\n",
      "10:07:44 - mcmc.calculators | INFO: None\n",
      "10:07:44 - mcmc.calculators | INFO: None\n",
      "10:07:44 - mcmc.system | INFO: Optimized structure has surface energy = -176.466\n",
      "10:07:44 - mcmc.mcmc | INFO: In sweep 8 out of 10\n",
      "10:07:44 - mcmc.calculators | INFO: None\n",
      "10:07:44 - mcmc.calculators | INFO: None\n",
      "10:07:44 - mcmc.calculators | INFO: None\n",
      "10:07:44 - mcmc.calculators | INFO: None\n",
      "10:07:44 - mcmc.calculators | INFO: None\n",
      "10:07:44 - mcmc.calculators | INFO: None\n",
      "10:07:44 - mcmc.calculators | INFO: None\n",
      "10:07:44 - mcmc.calculators | INFO: None\n"
     ]
    },
    {
     "name": "stdout",
     "output_type": "stream",
     "text": [
      "Total wall time: 0:00:00\n",
      "Total wall time: 0:00:00\n",
      "Total wall time: 0:00:00\n",
      "Total wall time: 0:00:00\n",
      "Total wall time: 0:00:00\n",
      "Total wall time: 0:00:00\n",
      "Total wall time: 0:00:00\n",
      "Total wall time: 0:00:00\n",
      "Total wall time: 0:00:00\n",
      "Total wall time: 0:00:00\n",
      "Total wall time: 0:00:00\n"
     ]
    },
    {
     "name": "stderr",
     "output_type": "stream",
     "text": [
      "10:07:44 - mcmc.calculators | INFO: None\n",
      "10:07:44 - mcmc.calculators | INFO: None\n",
      "10:07:45 - mcmc.calculators | INFO: None\n",
      "10:07:45 - mcmc.calculators | INFO: None\n",
      "10:07:45 - mcmc.calculators | INFO: None\n",
      "10:07:45 - mcmc.calculators | INFO: None\n",
      "10:07:45 - mcmc.calculators | INFO: None\n",
      "10:07:45 - mcmc.calculators | INFO: None\n",
      "10:07:45 - mcmc.calculators | INFO: None\n",
      "10:07:45 - mcmc.calculators | INFO: None\n",
      "10:07:45 - mcmc.calculators | INFO: None\n",
      "10:07:45 - mcmc.calculators | INFO: None\n"
     ]
    },
    {
     "name": "stdout",
     "output_type": "stream",
     "text": [
      "Total wall time: 0:00:00\n",
      "Total wall time: 0:00:00\n",
      "Total wall time: 0:00:00\n",
      "Total wall time: 0:00:00\n",
      "Total wall time: 0:00:00\n",
      "Total wall time: 0:00:00\n",
      "Total wall time: 0:00:00\n",
      "Total wall time: 0:00:00\n",
      "Total wall time: 0:00:00\n",
      "Total wall time: 0:00:00\n",
      "Total wall time: 0:00:00\n",
      "Total wall time: 0:00:00\n"
     ]
    },
    {
     "name": "stderr",
     "output_type": "stream",
     "text": [
      "10:07:45 - mcmc.calculators | INFO: None\n",
      "10:07:45 - mcmc.calculators | INFO: None\n",
      "10:07:45 - mcmc.calculators | INFO: None\n",
      "10:07:45 - mcmc.calculators | INFO: None\n",
      "10:07:45 - mcmc.calculators | INFO: None\n",
      "10:07:45 - mcmc.calculators | INFO: None\n",
      "10:07:45 - mcmc.calculators | INFO: None\n",
      "10:07:45 - mcmc.calculators | INFO: None\n",
      "10:07:45 - mcmc.calculators | INFO: None\n",
      "10:07:45 - mcmc.calculators | INFO: None\n",
      "10:07:45 - mcmc.calculators | INFO: None\n",
      "10:07:45 - mcmc.calculators | INFO: None\n"
     ]
    },
    {
     "name": "stdout",
     "output_type": "stream",
     "text": [
      "Total wall time: 0:00:00\n",
      "Total wall time: 0:00:00\n",
      "Total wall time: 0:00:00\n",
      "Total wall time: 0:00:00\n",
      "Total wall time: 0:00:00\n",
      "Total wall time: 0:00:00\n",
      "Total wall time: 0:00:00\n",
      "Total wall time: 0:00:00\n",
      "Total wall time: 0:00:00\n",
      "Total wall time: 0:00:00\n",
      "Total wall time: 0:00:00\n",
      "Total wall time: 0:00:00\n"
     ]
    },
    {
     "name": "stderr",
     "output_type": "stream",
     "text": [
      "10:07:45 - mcmc.calculators | INFO: None\n",
      "10:07:45 - mcmc.calculators | INFO: None\n",
      "10:07:45 - mcmc.calculators | INFO: None\n",
      "10:07:45 - mcmc.calculators | INFO: None\n",
      "10:07:45 - mcmc.calculators | INFO: None\n",
      "10:07:45 - mcmc.calculators | INFO: None\n",
      "10:07:45 - mcmc.calculators | INFO: None\n",
      "10:07:45 - mcmc.calculators | INFO: None\n",
      "10:07:45 - mcmc.calculators | INFO: None\n",
      "10:07:45 - mcmc.calculators | INFO: None\n",
      "10:07:45 - mcmc.calculators | INFO: None\n",
      "10:07:45 - mcmc.calculators | INFO: None\n"
     ]
    },
    {
     "name": "stdout",
     "output_type": "stream",
     "text": [
      "Total wall time: 0:00:00\n",
      "Total wall time: 0:00:00\n",
      "Total wall time: 0:00:00\n",
      "Total wall time: 0:00:00\n",
      "Total wall time: 0:00:00\n",
      "Total wall time: 0:00:00\n",
      "Total wall time: 0:00:00\n",
      "Total wall time: 0:00:00\n",
      "Total wall time: 0:00:00\n",
      "Total wall time: 0:00:00\n",
      "Total wall time: 0:00:00\n",
      "Total wall time: 0:00:00\n"
     ]
    },
    {
     "name": "stderr",
     "output_type": "stream",
     "text": [
      "10:07:45 - mcmc.calculators | INFO: None\n",
      "10:07:45 - mcmc.calculators | INFO: None\n",
      "10:07:45 - mcmc.calculators | INFO: None\n",
      "10:07:45 - mcmc.calculators | INFO: None\n",
      "10:07:45 - mcmc.calculators | INFO: None\n",
      "10:07:45 - mcmc.calculators | INFO: None\n",
      "10:07:45 - mcmc.calculators | INFO: None\n",
      "10:07:45 - mcmc.calculators | INFO: None\n",
      "10:07:45 - mcmc.calculators | INFO: None\n",
      "10:07:45 - mcmc.calculators | INFO: None\n",
      "10:07:45 - mcmc.calculators | INFO: None\n",
      "10:07:45 - mcmc.calculators | INFO: None\n"
     ]
    },
    {
     "name": "stdout",
     "output_type": "stream",
     "text": [
      "Total wall time: 0:00:00\n",
      "Total wall time: 0:00:00\n",
      "Total wall time: 0:00:00\n",
      "Total wall time: 0:00:00\n",
      "Total wall time: 0:00:00\n",
      "Total wall time: 0:00:00\n",
      "Total wall time: 0:00:00\n",
      "Total wall time: 0:00:00\n",
      "Total wall time: 0:00:00\n",
      "Total wall time: 0:00:00\n",
      "Total wall time: 0:00:00\n",
      "Total wall time: 0:00:00\n"
     ]
    },
    {
     "name": "stderr",
     "output_type": "stream",
     "text": [
      "10:07:45 - mcmc.calculators | INFO: None\n",
      "10:07:45 - mcmc.calculators | INFO: None\n",
      "10:07:45 - mcmc.calculators | INFO: None\n",
      "10:07:45 - mcmc.calculators | INFO: None\n",
      "10:07:45 - mcmc.calculators | INFO: None\n",
      "10:07:45 - mcmc.calculators | INFO: None\n",
      "10:07:45 - mcmc.calculators | INFO: None\n",
      "10:07:45 - mcmc.calculators | INFO: None\n",
      "10:07:46 - mcmc.calculators | INFO: None\n",
      "10:07:46 - mcmc.calculators | INFO: None\n",
      "10:07:46 - mcmc.calculators | INFO: None\n",
      "10:07:46 - mcmc.calculators | INFO: None\n"
     ]
    },
    {
     "name": "stdout",
     "output_type": "stream",
     "text": [
      "Total wall time: 0:00:00\n",
      "Total wall time: 0:00:00\n",
      "Total wall time: 0:00:00\n",
      "Total wall time: 0:00:00\n",
      "Total wall time: 0:00:00\n",
      "Total wall time: 0:00:00\n",
      "Total wall time: 0:00:00\n",
      "Total wall time: 0:00:00\n",
      "Total wall time: 0:00:00\n",
      "Total wall time: 0:00:00\n",
      "Total wall time: 0:00:00\n",
      "Total wall time: 0:00:00\n"
     ]
    },
    {
     "name": "stderr",
     "output_type": "stream",
     "text": [
      "10:07:46 - mcmc.calculators | INFO: None\n",
      "10:07:46 - mcmc.calculators | INFO: None\n",
      "10:07:46 - mcmc.calculators | INFO: None\n",
      "10:07:46 - mcmc.calculators | INFO: None\n",
      "10:07:46 - mcmc.calculators | INFO: None\n",
      "10:07:46 - mcmc.calculators | INFO: None\n",
      "10:07:46 - mcmc.calculators | INFO: None\n",
      "10:07:46 - mcmc.calculators | INFO: None\n"
     ]
    },
    {
     "name": "stdout",
     "output_type": "stream",
     "text": [
      "Total wall time: 0:00:00\n",
      "Total wall time: 0:00:00\n",
      "Total wall time: 0:00:00\n",
      "Total wall time: 0:00:00\n",
      "Total wall time: 0:00:00\n",
      "Total wall time: 0:00:00\n",
      "Total wall time: 0:00:00\n",
      "Total wall time: 0:00:00\n"
     ]
    },
    {
     "name": "stderr",
     "output_type": "stream",
     "text": [
      "10:07:46 - mcmc.calculators | INFO: None\n",
      "10:07:46 - mcmc.calculators | INFO: None\n",
      "10:07:46 - mcmc.calculators | INFO: None\n",
      "10:07:46 - mcmc.calculators | INFO: None\n",
      "10:07:46 - mcmc.calculators | INFO: None\n",
      "10:07:46 - mcmc.calculators | INFO: None\n",
      "10:07:46 - mcmc.calculators | INFO: None\n",
      "10:07:46 - mcmc.calculators | INFO: None\n",
      "10:07:46 - mcmc.calculators | INFO: None\n",
      "10:07:46 - mcmc.calculators | INFO: None\n",
      "10:07:46 - mcmc.calculators | INFO: None\n",
      "10:07:46 - mcmc.calculators | INFO: None\n",
      "10:07:46 - mcmc.calculators | INFO: None\n"
     ]
    },
    {
     "name": "stdout",
     "output_type": "stream",
     "text": [
      "Total wall time: 0:00:00\n",
      "Total wall time: 0:00:00\n",
      "Total wall time: 0:00:00\n",
      "Total wall time: 0:00:00\n",
      "Total wall time: 0:00:00\n",
      "Total wall time: 0:00:00\n",
      "Total wall time: 0:00:00\n",
      "Total wall time: 0:00:00\n",
      "Total wall time: 0:00:00\n",
      "Total wall time: 0:00:00\n",
      "Total wall time: 0:00:00\n",
      "Total wall time: 0:00:00\n",
      "Total wall time: 0:00:00\n"
     ]
    },
    {
     "name": "stderr",
     "output_type": "stream",
     "text": [
      "10:07:46 - mcmc.calculators | INFO: None\n",
      "10:07:46 - mcmc.calculators | INFO: None\n",
      "10:07:46 - mcmc.calculators | INFO: None\n",
      "10:07:46 - mcmc.calculators | INFO: None\n",
      "10:07:46 - mcmc.calculators | INFO: None\n",
      "10:07:46 - mcmc.calculators | INFO: None\n",
      "10:07:46 - mcmc.calculators | INFO: None\n",
      "10:07:46 - mcmc.calculators | INFO: None\n",
      "10:07:46 - mcmc.calculators | INFO: None\n",
      "10:07:46 - mcmc.calculators | INFO: None\n",
      "10:07:46 - mcmc.calculators | INFO: None\n"
     ]
    },
    {
     "name": "stdout",
     "output_type": "stream",
     "text": [
      "Total wall time: 0:00:00\n",
      "Total wall time: 0:00:00\n",
      "Total wall time: 0:00:00\n",
      "Total wall time: 0:00:00\n",
      "Total wall time: 0:00:00\n",
      "Total wall time: 0:00:00\n",
      "Total wall time: 0:00:00\n",
      "Total wall time: 0:00:00\n",
      "Total wall time: 0:00:00\n",
      "Total wall time: 0:00:00\n",
      "Total wall time: 0:00:00\n"
     ]
    },
    {
     "name": "stderr",
     "output_type": "stream",
     "text": [
      "10:07:46 - mcmc.calculators | INFO: None\n",
      "10:07:46 - mcmc.calculators | INFO: None\n",
      "10:07:46 - mcmc.calculators | INFO: None\n",
      "10:07:46 - mcmc.calculators | INFO: None\n",
      "10:07:46 - mcmc.calculators | INFO: None\n",
      "10:07:46 - mcmc.calculators | INFO: None\n",
      "10:07:46 - mcmc.calculators | INFO: None\n",
      "10:07:46 - mcmc.calculators | INFO: None\n"
     ]
    },
    {
     "name": "stdout",
     "output_type": "stream",
     "text": [
      "Total wall time: 0:00:00\n",
      "Total wall time: 0:00:00\n",
      "Total wall time: 0:00:00\n",
      "Total wall time: 0:00:00\n",
      "Total wall time: 0:00:00\n",
      "Total wall time: 0:00:00\n",
      "Total wall time: 0:00:00\n",
      "Total wall time: 0:00:00\n"
     ]
    },
    {
     "name": "stderr",
     "output_type": "stream",
     "text": [
      "10:07:47 - mcmc.calculators | INFO: None\n",
      "10:07:47 - mcmc.calculators | INFO: None\n",
      "10:07:47 - mcmc.calculators | INFO: None\n",
      "10:07:47 - mcmc.calculators | INFO: None\n",
      "10:07:47 - mcmc.calculators | INFO: None\n",
      "10:07:47 - mcmc.calculators | INFO: None\n",
      "10:07:47 - mcmc.calculators | INFO: None\n",
      "10:07:47 - mcmc.calculators | INFO: None\n",
      "10:07:47 - mcmc.calculators | INFO: None\n",
      "10:07:47 - mcmc.calculators | INFO: None\n",
      "10:07:47 - mcmc.calculators | INFO: None\n"
     ]
    },
    {
     "name": "stdout",
     "output_type": "stream",
     "text": [
      "Total wall time: 0:00:00\n",
      "Total wall time: 0:00:00\n",
      "Total wall time: 0:00:00\n",
      "Total wall time: 0:00:00\n",
      "Total wall time: 0:00:00\n",
      "Total wall time: 0:00:00\n",
      "Total wall time: 0:00:00\n",
      "Total wall time: 0:00:00\n",
      "Total wall time: 0:00:00\n",
      "Total wall time: 0:00:00\n"
     ]
    },
    {
     "name": "stderr",
     "output_type": "stream",
     "text": [
      "10:07:47 - mcmc.calculators | INFO: None\n",
      "10:07:47 - mcmc.calculators | INFO: None\n",
      "10:07:47 - mcmc.calculators | INFO: None\n",
      "10:07:47 - mcmc.calculators | INFO: None\n",
      "10:07:47 - mcmc.calculators | INFO: None\n",
      "10:07:47 - mcmc.calculators | INFO: None\n",
      "10:07:47 - mcmc.calculators | INFO: None\n",
      "10:07:47 - mcmc.calculators | INFO: None\n",
      "10:07:47 - mcmc.calculators | INFO: None\n",
      "10:07:47 - mcmc.calculators | INFO: None\n"
     ]
    },
    {
     "name": "stdout",
     "output_type": "stream",
     "text": [
      "Total wall time: 0:00:00\n",
      "Total wall time: 0:00:00\n",
      "Total wall time: 0:00:00\n",
      "Total wall time: 0:00:00\n",
      "Total wall time: 0:00:00\n",
      "Total wall time: 0:00:00\n",
      "Total wall time: 0:00:00\n",
      "Total wall time: 0:00:00\n",
      "Total wall time: 0:00:00\n",
      "Total wall time: 0:00:00\n",
      "Total wall time: 0:00:00\n"
     ]
    },
    {
     "name": "stderr",
     "output_type": "stream",
     "text": [
      "10:07:47 - mcmc.calculators | INFO: None\n",
      "10:07:47 - mcmc.calculators | INFO: None\n",
      "10:07:47 - mcmc.calculators | INFO: None\n",
      "10:07:47 - mcmc.calculators | INFO: None\n",
      "10:07:47 - mcmc.calculators | INFO: None\n",
      "10:07:47 - mcmc.calculators | INFO: None\n",
      "10:07:47 - mcmc.calculators | INFO: None\n",
      "10:07:47 - mcmc.calculators | INFO: None\n",
      "10:07:47 - mcmc.calculators | INFO: None\n",
      "10:07:47 - mcmc.calculators | INFO: None\n",
      "10:07:47 - mcmc.calculators | INFO: None\n"
     ]
    },
    {
     "name": "stdout",
     "output_type": "stream",
     "text": [
      "Total wall time: 0:00:00\n",
      "Total wall time: 0:00:00\n",
      "Total wall time: 0:00:00\n",
      "Total wall time: 0:00:00\n",
      "Total wall time: 0:00:00\n",
      "Total wall time: 0:00:00\n",
      "Total wall time: 0:00:00\n",
      "Total wall time: 0:00:00\n",
      "Total wall time: 0:00:00\n",
      "Total wall time: 0:00:00\n",
      "Total wall time: 0:00:00\n"
     ]
    },
    {
     "name": "stderr",
     "output_type": "stream",
     "text": [
      "10:07:47 - mcmc.calculators | INFO: None\n",
      "10:07:47 - mcmc.calculators | INFO: None\n",
      "10:07:47 - mcmc.calculators | INFO: None\n",
      "10:07:47 - mcmc.calculators | INFO: None\n",
      "10:07:47 - mcmc.calculators | INFO: None\n",
      "10:07:47 - mcmc.calculators | INFO: None\n",
      "10:07:47 - mcmc.calculators | INFO: None\n",
      "10:07:47 - mcmc.calculators | INFO: None\n"
     ]
    },
    {
     "name": "stdout",
     "output_type": "stream",
     "text": [
      "Total wall time: 0:00:00\n",
      "Total wall time: 0:00:00\n",
      "Total wall time: 0:00:00\n",
      "Total wall time: 0:00:00\n",
      "Total wall time: 0:00:00\n",
      "Total wall time: 0:00:00\n",
      "Total wall time: 0:00:00\n",
      "Total wall time: 0:00:00\n"
     ]
    },
    {
     "name": "stderr",
     "output_type": "stream",
     "text": [
      "10:07:47 - mcmc.calculators | INFO: None\n",
      "10:07:47 - mcmc.calculators | INFO: None\n",
      "10:07:47 - mcmc.calculators | INFO: None\n",
      "10:07:47 - mcmc.calculators | INFO: None\n",
      "10:07:47 - mcmc.calculators | INFO: None\n",
      "10:07:48 - mcmc.calculators | INFO: None\n",
      "10:07:48 - mcmc.calculators | INFO: None\n",
      "10:07:48 - mcmc.calculators | INFO: None\n"
     ]
    },
    {
     "name": "stdout",
     "output_type": "stream",
     "text": [
      "Total wall time: 0:00:00\n",
      "Total wall time: 0:00:00\n",
      "Total wall time: 0:00:00\n",
      "Total wall time: 0:00:00\n",
      "Total wall time: 0:00:00\n",
      "Total wall time: 0:00:00\n",
      "Total wall time: 0:00:00\n",
      "Total wall time: 0:00:00\n"
     ]
    },
    {
     "name": "stderr",
     "output_type": "stream",
     "text": [
      "10:07:48 - mcmc.calculators | INFO: None\n",
      "10:07:48 - mcmc.calculators | INFO: None\n",
      "10:07:48 - mcmc.calculators | INFO: None\n",
      "10:07:48 - mcmc.calculators | INFO: None\n",
      "10:07:48 - mcmc.calculators | INFO: None\n",
      "10:07:48 - mcmc.calculators | INFO: None\n",
      "10:07:48 - mcmc.calculators | INFO: None\n",
      "10:07:48 - mcmc.calculators | INFO: None\n",
      "10:07:48 - mcmc.calculators | INFO: None\n",
      "10:07:48 - mcmc.calculators | INFO: None\n"
     ]
    },
    {
     "name": "stdout",
     "output_type": "stream",
     "text": [
      "Total wall time: 0:00:00\n",
      "Total wall time: 0:00:00\n",
      "Total wall time: 0:00:00\n",
      "Total wall time: 0:00:00\n",
      "Total wall time: 0:00:00\n",
      "Total wall time: 0:00:00\n",
      "Total wall time: 0:00:00\n",
      "Total wall time: 0:00:00\n",
      "Total wall time: 0:00:00\n",
      "Total wall time: 0:00:00\n"
     ]
    },
    {
     "name": "stderr",
     "output_type": "stream",
     "text": [
      "10:07:48 - mcmc.calculators | INFO: None\n",
      "10:07:48 - mcmc.calculators | INFO: None\n",
      "10:07:48 - mcmc.calculators | INFO: None\n",
      "10:07:48 - mcmc.calculators | INFO: None\n",
      "10:07:48 - mcmc.calculators | INFO: None\n",
      "10:07:48 - mcmc.calculators | INFO: None\n",
      "10:07:48 - mcmc.calculators | INFO: None\n",
      "10:07:48 - mcmc.calculators | INFO: None\n",
      "10:07:48 - mcmc.calculators | INFO: None\n",
      "10:07:48 - mcmc.calculators | INFO: None\n",
      "10:07:48 - mcmc.calculators | INFO: None\n"
     ]
    },
    {
     "name": "stdout",
     "output_type": "stream",
     "text": [
      "Total wall time: 0:00:00\n",
      "Total wall time: 0:00:00\n",
      "Total wall time: 0:00:00\n",
      "Total wall time: 0:00:00\n",
      "Total wall time: 0:00:00\n",
      "Total wall time: 0:00:00\n",
      "Total wall time: 0:00:00\n",
      "Total wall time: 0:00:00\n",
      "Total wall time: 0:00:00\n",
      "Total wall time: 0:00:00\n",
      "Total wall time: 0:00:00\n"
     ]
    },
    {
     "name": "stderr",
     "output_type": "stream",
     "text": [
      "10:07:48 - mcmc.calculators | INFO: None\n",
      "10:07:48 - mcmc.calculators | INFO: None\n",
      "10:07:48 - mcmc.calculators | INFO: None\n",
      "10:07:48 - mcmc.calculators | INFO: None\n",
      "10:07:48 - mcmc.calculators | INFO: None\n",
      "10:07:48 - mcmc.calculators | INFO: None\n",
      "10:07:48 - mcmc.calculators | INFO: None\n",
      "10:07:48 - mcmc.calculators | INFO: None\n",
      "10:07:48 - mcmc.calculators | INFO: None\n",
      "10:07:48 - mcmc.calculators | INFO: None\n",
      "10:07:48 - mcmc.calculators | INFO: None\n"
     ]
    },
    {
     "name": "stdout",
     "output_type": "stream",
     "text": [
      "Total wall time: 0:00:00\n",
      "Total wall time: 0:00:00\n",
      "Total wall time: 0:00:00\n",
      "Total wall time: 0:00:00\n",
      "Total wall time: 0:00:00\n",
      "Total wall time: 0:00:00\n",
      "Total wall time: 0:00:00\n",
      "Total wall time: 0:00:00\n",
      "Total wall time: 0:00:00\n",
      "Total wall time: 0:00:00\n",
      "Total wall time: 0:00:00\n"
     ]
    },
    {
     "name": "stderr",
     "output_type": "stream",
     "text": [
      "10:07:48 - mcmc.calculators | INFO: None\n",
      "10:07:48 - mcmc.calculators | INFO: None\n",
      "10:07:48 - mcmc.calculators | INFO: None\n",
      "10:07:48 - mcmc.calculators | INFO: None\n",
      "10:07:48 - mcmc.calculators | INFO: None\n",
      "10:07:48 - mcmc.calculators | INFO: None\n",
      "10:07:48 - mcmc.calculators | INFO: None\n",
      "10:07:48 - mcmc.calculators | INFO: None\n",
      "10:07:48 - mcmc.calculators | INFO: None\n",
      "10:07:48 - mcmc.calculators | INFO: None\n"
     ]
    },
    {
     "name": "stdout",
     "output_type": "stream",
     "text": [
      "Total wall time: 0:00:00\n",
      "Total wall time: 0:00:00\n",
      "Total wall time: 0:00:00\n",
      "Total wall time: 0:00:00\n",
      "Total wall time: 0:00:00\n",
      "Total wall time: 0:00:00\n",
      "Total wall time: 0:00:00\n",
      "Total wall time: 0:00:00\n",
      "Total wall time: 0:00:00\n",
      "Total wall time: 0:00:00\n"
     ]
    },
    {
     "name": "stderr",
     "output_type": "stream",
     "text": [
      "10:07:48 - mcmc.calculators | INFO: None\n",
      "10:07:48 - mcmc.calculators | INFO: None\n",
      "10:07:49 - mcmc.calculators | INFO: None\n",
      "10:07:49 - mcmc.calculators | INFO: None\n",
      "10:07:49 - mcmc.calculators | INFO: None\n",
      "10:07:49 - mcmc.calculators | INFO: None\n",
      "10:07:49 - mcmc.calculators | INFO: None\n",
      "10:07:49 - mcmc.calculators | INFO: None\n",
      "10:07:49 - mcmc.mcmc | INFO: At iter 832\n",
      "10:07:49 - mcmc.calculators | INFO: None\n",
      "10:07:49 - mcmc.calculators | INFO: None\n",
      "10:07:49 - mcmc.calculators | INFO: None\n",
      "10:07:49 - mcmc.system | INFO: Optimized structure has surface energy = -177.305\n",
      "10:07:49 - mcmc.mcmc | INFO: In sweep 9 out of 10\n"
     ]
    },
    {
     "name": "stdout",
     "output_type": "stream",
     "text": [
      "Total wall time: 0:00:00\n",
      "Total wall time: 0:00:00\n",
      "Total wall time: 0:00:00\n",
      "Total wall time: 0:00:00\n",
      "Total wall time: 0:00:00\n",
      "Total wall time: 0:00:00\n",
      "Total wall time: 0:00:00\n",
      "Total wall time: 0:00:00\n",
      "Total wall time: 0:00:00\n",
      "Total wall time: 0:00:00\n",
      "Total wall time: 0:00:00\n"
     ]
    },
    {
     "name": "stderr",
     "output_type": "stream",
     "text": [
      "10:07:49 - mcmc.calculators | INFO: None\n",
      "10:07:49 - mcmc.calculators | INFO: None\n",
      "10:07:49 - mcmc.calculators | INFO: None\n",
      "10:07:49 - mcmc.calculators | INFO: None\n",
      "10:07:49 - mcmc.calculators | INFO: None\n",
      "10:07:49 - mcmc.calculators | INFO: None\n"
     ]
    },
    {
     "name": "stdout",
     "output_type": "stream",
     "text": [
      "Total wall time: 0:00:00\n",
      "Total wall time: 0:00:00\n",
      "Total wall time: 0:00:00\n",
      "Total wall time: 0:00:00\n",
      "Total wall time: 0:00:00\n",
      "Total wall time: 0:00:00\n"
     ]
    },
    {
     "name": "stderr",
     "output_type": "stream",
     "text": [
      "10:07:49 - mcmc.calculators | INFO: None\n",
      "10:07:49 - mcmc.calculators | INFO: None\n",
      "10:07:49 - mcmc.calculators | INFO: None\n",
      "10:07:49 - mcmc.calculators | INFO: None\n",
      "10:07:49 - mcmc.calculators | INFO: None\n",
      "10:07:49 - mcmc.calculators | INFO: None\n",
      "10:07:49 - mcmc.calculators | INFO: None\n",
      "10:07:49 - mcmc.calculators | INFO: None\n",
      "10:07:49 - mcmc.calculators | INFO: None\n",
      "10:07:49 - mcmc.calculators | INFO: None\n"
     ]
    },
    {
     "name": "stdout",
     "output_type": "stream",
     "text": [
      "Total wall time: 0:00:00\n",
      "Total wall time: 0:00:00\n",
      "Total wall time: 0:00:00\n",
      "Total wall time: 0:00:00\n",
      "Total wall time: 0:00:00\n",
      "Total wall time: 0:00:00\n",
      "Total wall time: 0:00:00\n",
      "Total wall time: 0:00:00\n",
      "Total wall time: 0:00:00\n",
      "Total wall time: 0:00:00\n"
     ]
    },
    {
     "name": "stderr",
     "output_type": "stream",
     "text": [
      "10:07:49 - mcmc.calculators | INFO: None\n",
      "10:07:49 - mcmc.calculators | INFO: None\n",
      "10:07:49 - mcmc.calculators | INFO: None\n",
      "10:07:49 - mcmc.calculators | INFO: None\n",
      "10:07:49 - mcmc.calculators | INFO: None\n",
      "10:07:49 - mcmc.calculators | INFO: None\n",
      "10:07:49 - mcmc.calculators | INFO: None\n",
      "10:07:49 - mcmc.calculators | INFO: None\n",
      "10:07:49 - mcmc.calculators | INFO: None\n",
      "10:07:49 - mcmc.calculators | INFO: None\n",
      "10:07:49 - mcmc.calculators | INFO: None\n",
      "10:07:49 - mcmc.calculators | INFO: None\n"
     ]
    },
    {
     "name": "stdout",
     "output_type": "stream",
     "text": [
      "Total wall time: 0:00:00\n",
      "Total wall time: 0:00:00\n",
      "Total wall time: 0:00:00\n",
      "Total wall time: 0:00:00\n",
      "Total wall time: 0:00:00\n",
      "Total wall time: 0:00:00\n",
      "Total wall time: 0:00:00\n",
      "Total wall time: 0:00:00\n",
      "Total wall time: 0:00:00\n",
      "Total wall time: 0:00:00\n",
      "Total wall time: 0:00:00\n"
     ]
    },
    {
     "name": "stderr",
     "output_type": "stream",
     "text": [
      "10:07:49 - mcmc.calculators | INFO: None\n",
      "10:07:49 - mcmc.calculators | INFO: None\n",
      "10:07:49 - mcmc.calculators | INFO: None\n",
      "10:07:49 - mcmc.calculators | INFO: None\n",
      "10:07:49 - mcmc.calculators | INFO: None\n",
      "10:07:49 - mcmc.calculators | INFO: None\n",
      "10:07:49 - mcmc.calculators | INFO: None\n",
      "10:07:49 - mcmc.calculators | INFO: None\n",
      "10:07:50 - mcmc.calculators | INFO: None\n",
      "10:07:50 - mcmc.calculators | INFO: None\n",
      "10:07:50 - mcmc.calculators | INFO: None\n",
      "10:07:50 - mcmc.calculators | INFO: None\n"
     ]
    },
    {
     "name": "stdout",
     "output_type": "stream",
     "text": [
      "Total wall time: 0:00:00\n",
      "Total wall time: 0:00:00\n",
      "Total wall time: 0:00:00\n",
      "Total wall time: 0:00:00\n",
      "Total wall time: 0:00:00\n",
      "Total wall time: 0:00:00\n",
      "Total wall time: 0:00:00\n",
      "Total wall time: 0:00:00\n",
      "Total wall time: 0:00:00\n",
      "Total wall time: 0:00:00\n",
      "Total wall time: 0:00:00\n",
      "Total wall time: 0:00:00\n",
      "Total wall time: 0:00:00\n"
     ]
    },
    {
     "name": "stderr",
     "output_type": "stream",
     "text": [
      "10:07:50 - mcmc.calculators | INFO: None\n",
      "10:07:50 - mcmc.calculators | INFO: None\n",
      "10:07:50 - mcmc.calculators | INFO: None\n",
      "10:07:50 - mcmc.calculators | INFO: None\n",
      "10:07:50 - mcmc.calculators | INFO: None\n",
      "10:07:50 - mcmc.calculators | INFO: None\n",
      "10:07:50 - mcmc.calculators | INFO: None\n",
      "10:07:50 - mcmc.calculators | INFO: None\n",
      "10:07:50 - mcmc.calculators | INFO: None\n",
      "10:07:50 - mcmc.calculators | INFO: None\n"
     ]
    },
    {
     "name": "stdout",
     "output_type": "stream",
     "text": [
      "Total wall time: 0:00:00\n",
      "Total wall time: 0:00:00\n",
      "Total wall time: 0:00:00\n",
      "Total wall time: 0:00:00\n",
      "Total wall time: 0:00:00\n",
      "Total wall time: 0:00:00\n",
      "Total wall time: 0:00:00\n",
      "Total wall time: 0:00:00\n",
      "Total wall time: 0:00:00\n",
      "Total wall time: 0:00:00\n"
     ]
    },
    {
     "name": "stderr",
     "output_type": "stream",
     "text": [
      "10:07:50 - mcmc.calculators | INFO: None\n",
      "10:07:50 - mcmc.calculators | INFO: None\n",
      "10:07:50 - mcmc.calculators | INFO: None\n",
      "10:07:50 - mcmc.calculators | INFO: None\n",
      "10:07:50 - mcmc.calculators | INFO: None\n",
      "10:07:50 - mcmc.calculators | INFO: None\n",
      "10:07:50 - mcmc.calculators | INFO: None\n",
      "10:07:50 - mcmc.calculators | INFO: None\n",
      "10:07:50 - mcmc.calculators | INFO: None\n",
      "10:07:50 - mcmc.calculators | INFO: None\n",
      "10:07:50 - mcmc.calculators | INFO: None\n"
     ]
    },
    {
     "name": "stdout",
     "output_type": "stream",
     "text": [
      "Total wall time: 0:00:00\n",
      "Total wall time: 0:00:00\n",
      "Total wall time: 0:00:00\n",
      "Total wall time: 0:00:00\n",
      "Total wall time: 0:00:00\n",
      "Total wall time: 0:00:00\n",
      "Total wall time: 0:00:00\n",
      "Total wall time: 0:00:00\n",
      "Total wall time: 0:00:00\n",
      "Total wall time: 0:00:00\n",
      "Total wall time: 0:00:00\n"
     ]
    },
    {
     "name": "stderr",
     "output_type": "stream",
     "text": [
      "10:07:50 - mcmc.calculators | INFO: None\n",
      "10:07:50 - mcmc.calculators | INFO: None\n",
      "10:07:50 - mcmc.calculators | INFO: None\n",
      "10:07:50 - mcmc.calculators | INFO: None\n",
      "10:07:50 - mcmc.calculators | INFO: None\n",
      "10:07:50 - mcmc.calculators | INFO: None\n",
      "10:07:50 - mcmc.calculators | INFO: None\n",
      "10:07:50 - mcmc.calculators | INFO: None\n",
      "10:07:50 - mcmc.calculators | INFO: None\n",
      "10:07:50 - mcmc.calculators | INFO: None\n",
      "10:07:50 - mcmc.calculators | INFO: None\n",
      "10:07:50 - mcmc.calculators | INFO: None\n",
      "10:07:50 - mcmc.calculators | INFO: None\n"
     ]
    },
    {
     "name": "stdout",
     "output_type": "stream",
     "text": [
      "Total wall time: 0:00:00\n",
      "Total wall time: 0:00:00\n",
      "Total wall time: 0:00:00\n",
      "Total wall time: 0:00:00\n",
      "Total wall time: 0:00:00\n",
      "Total wall time: 0:00:00\n",
      "Total wall time: 0:00:00\n",
      "Total wall time: 0:00:00\n",
      "Total wall time: 0:00:00\n",
      "Total wall time: 0:00:00\n",
      "Total wall time: 0:00:00\n",
      "Total wall time: 0:00:00\n",
      "Total wall time: 0:00:00\n"
     ]
    },
    {
     "name": "stderr",
     "output_type": "stream",
     "text": [
      "10:07:50 - mcmc.calculators | INFO: None\n",
      "10:07:50 - mcmc.calculators | INFO: None\n",
      "10:07:50 - mcmc.calculators | INFO: None\n",
      "10:07:50 - mcmc.calculators | INFO: None\n",
      "10:07:50 - mcmc.calculators | INFO: None\n",
      "10:07:50 - mcmc.calculators | INFO: None\n",
      "10:07:50 - mcmc.calculators | INFO: None\n",
      "10:07:50 - mcmc.calculators | INFO: None\n",
      "10:07:50 - mcmc.calculators | INFO: None\n",
      "10:07:50 - mcmc.calculators | INFO: None\n",
      "10:07:50 - mcmc.calculators | INFO: None\n",
      "10:07:50 - mcmc.calculators | INFO: None\n",
      "10:07:50 - mcmc.calculators | INFO: None\n"
     ]
    },
    {
     "name": "stdout",
     "output_type": "stream",
     "text": [
      "Total wall time: 0:00:00\n",
      "Total wall time: 0:00:00\n",
      "Total wall time: 0:00:00\n",
      "Total wall time: 0:00:00\n",
      "Total wall time: 0:00:00\n",
      "Total wall time: 0:00:00\n",
      "Total wall time: 0:00:00\n",
      "Total wall time: 0:00:00\n",
      "Total wall time: 0:00:00\n",
      "Total wall time: 0:00:00\n",
      "Total wall time: 0:00:00\n",
      "Total wall time: 0:00:00\n",
      "Total wall time: 0:00:00\n"
     ]
    },
    {
     "name": "stderr",
     "output_type": "stream",
     "text": [
      "10:07:50 - mcmc.calculators | INFO: None\n",
      "10:07:50 - mcmc.calculators | INFO: None\n",
      "10:07:50 - mcmc.calculators | INFO: None\n",
      "10:07:51 - mcmc.calculators | INFO: None\n",
      "10:07:51 - mcmc.calculators | INFO: None\n",
      "10:07:51 - mcmc.calculators | INFO: None\n",
      "10:07:51 - mcmc.calculators | INFO: None\n",
      "10:07:51 - mcmc.calculators | INFO: None\n",
      "10:07:51 - mcmc.calculators | INFO: None\n"
     ]
    },
    {
     "name": "stdout",
     "output_type": "stream",
     "text": [
      "Total wall time: 0:00:00\n",
      "Total wall time: 0:00:00\n",
      "Total wall time: 0:00:00\n",
      "Total wall time: 0:00:00\n",
      "Total wall time: 0:00:00\n",
      "Total wall time: 0:00:00\n",
      "Total wall time: 0:00:00\n",
      "Total wall time: 0:00:00\n",
      "Total wall time: 0:00:00\n"
     ]
    },
    {
     "name": "stderr",
     "output_type": "stream",
     "text": [
      "10:07:51 - mcmc.calculators | INFO: None\n",
      "10:07:51 - mcmc.calculators | INFO: None\n",
      "10:07:51 - mcmc.calculators | INFO: None\n",
      "10:07:51 - mcmc.calculators | INFO: None\n",
      "10:07:51 - mcmc.calculators | INFO: None\n",
      "10:07:51 - mcmc.calculators | INFO: None\n",
      "10:07:51 - mcmc.calculators | INFO: None\n",
      "10:07:51 - mcmc.calculators | INFO: None\n"
     ]
    },
    {
     "name": "stdout",
     "output_type": "stream",
     "text": [
      "Total wall time: 0:00:00\n",
      "Total wall time: 0:00:00\n",
      "Total wall time: 0:00:00\n",
      "Total wall time: 0:00:00\n",
      "Total wall time: 0:00:00\n",
      "Total wall time: 0:00:00\n",
      "Total wall time: 0:00:00\n",
      "Total wall time: 0:00:00\n"
     ]
    },
    {
     "name": "stderr",
     "output_type": "stream",
     "text": [
      "10:07:51 - mcmc.calculators | INFO: None\n",
      "10:07:51 - mcmc.calculators | INFO: None\n",
      "10:07:51 - mcmc.calculators | INFO: None\n",
      "10:07:51 - mcmc.calculators | INFO: None\n",
      "10:07:51 - mcmc.calculators | INFO: None\n",
      "10:07:51 - mcmc.calculators | INFO: None\n",
      "10:07:51 - mcmc.calculators | INFO: None\n",
      "10:07:51 - mcmc.calculators | INFO: None\n"
     ]
    },
    {
     "name": "stdout",
     "output_type": "stream",
     "text": [
      "Total wall time: 0:00:00\n",
      "Total wall time: 0:00:00\n",
      "Total wall time: 0:00:00\n",
      "Total wall time: 0:00:00\n",
      "Total wall time: 0:00:00\n",
      "Total wall time: 0:00:00\n",
      "Total wall time: 0:00:00\n",
      "Total wall time: 0:00:00\n"
     ]
    },
    {
     "name": "stderr",
     "output_type": "stream",
     "text": [
      "10:07:51 - mcmc.calculators | INFO: None\n",
      "10:07:51 - mcmc.calculators | INFO: None\n",
      "10:07:51 - mcmc.calculators | INFO: None\n",
      "10:07:51 - mcmc.calculators | INFO: None\n",
      "10:07:51 - mcmc.calculators | INFO: None\n",
      "10:07:51 - mcmc.calculators | INFO: None\n",
      "10:07:51 - mcmc.calculators | INFO: None\n",
      "10:07:51 - mcmc.calculators | INFO: None\n"
     ]
    },
    {
     "name": "stdout",
     "output_type": "stream",
     "text": [
      "Total wall time: 0:00:00\n",
      "Total wall time: 0:00:00\n",
      "Total wall time: 0:00:00\n",
      "Total wall time: 0:00:00\n",
      "Total wall time: 0:00:00\n",
      "Total wall time: 0:00:00\n",
      "Total wall time: 0:00:00\n",
      "Total wall time: 0:00:00\n"
     ]
    },
    {
     "name": "stderr",
     "output_type": "stream",
     "text": [
      "10:07:51 - mcmc.calculators | INFO: None\n",
      "10:07:51 - mcmc.calculators | INFO: None\n",
      "10:07:51 - mcmc.calculators | INFO: None\n",
      "10:07:51 - mcmc.calculators | INFO: None\n",
      "10:07:51 - mcmc.calculators | INFO: None\n",
      "10:07:51 - mcmc.calculators | INFO: None\n",
      "10:07:52 - mcmc.calculators | INFO: None\n",
      "10:07:52 - mcmc.calculators | INFO: None\n",
      "10:07:52 - mcmc.calculators | INFO: None\n"
     ]
    },
    {
     "name": "stdout",
     "output_type": "stream",
     "text": [
      "Total wall time: 0:00:00\n",
      "Total wall time: 0:00:00\n",
      "Total wall time: 0:00:00\n",
      "Total wall time: 0:00:00\n",
      "Total wall time: 0:00:00\n",
      "Total wall time: 0:00:00\n",
      "Total wall time: 0:00:00\n",
      "Total wall time: 0:00:00\n",
      "Total wall time: 0:00:00\n"
     ]
    },
    {
     "name": "stderr",
     "output_type": "stream",
     "text": [
      "10:07:52 - mcmc.calculators | INFO: None\n",
      "10:07:52 - mcmc.calculators | INFO: None\n",
      "10:07:52 - mcmc.calculators | INFO: None\n",
      "10:07:52 - mcmc.calculators | INFO: None\n",
      "10:07:52 - mcmc.calculators | INFO: None\n",
      "10:07:52 - mcmc.calculators | INFO: None\n",
      "10:07:52 - mcmc.calculators | INFO: None\n"
     ]
    },
    {
     "name": "stdout",
     "output_type": "stream",
     "text": [
      "Total wall time: 0:00:00\n",
      "Total wall time: 0:00:00\n",
      "Total wall time: 0:00:00\n",
      "Total wall time: 0:00:00\n",
      "Total wall time: 0:00:00\n",
      "Total wall time: 0:00:00\n",
      "Total wall time: 0:00:00\n"
     ]
    },
    {
     "name": "stderr",
     "output_type": "stream",
     "text": [
      "10:07:52 - mcmc.calculators | INFO: None\n",
      "10:07:52 - mcmc.calculators | INFO: None\n",
      "10:07:52 - mcmc.calculators | INFO: None\n",
      "10:07:52 - mcmc.calculators | INFO: None\n",
      "10:07:52 - mcmc.calculators | INFO: None\n",
      "10:07:52 - mcmc.calculators | INFO: None\n",
      "10:07:52 - mcmc.calculators | INFO: None\n",
      "10:07:52 - mcmc.calculators | INFO: None\n",
      "10:07:52 - mcmc.calculators | INFO: None\n",
      "10:07:52 - mcmc.calculators | INFO: None\n"
     ]
    },
    {
     "name": "stdout",
     "output_type": "stream",
     "text": [
      "Total wall time: 0:00:00\n",
      "Total wall time: 0:00:00\n",
      "Total wall time: 0:00:00\n",
      "Total wall time: 0:00:00\n",
      "Total wall time: 0:00:00\n",
      "Total wall time: 0:00:00\n",
      "Total wall time: 0:00:00\n",
      "Total wall time: 0:00:00\n",
      "Total wall time: 0:00:00\n",
      "Total wall time: 0:00:00\n"
     ]
    },
    {
     "name": "stderr",
     "output_type": "stream",
     "text": [
      "10:07:52 - mcmc.calculators | INFO: None\n",
      "10:07:52 - mcmc.calculators | INFO: None\n",
      "10:07:52 - mcmc.calculators | INFO: None\n",
      "10:07:52 - mcmc.calculators | INFO: None\n",
      "10:07:52 - mcmc.calculators | INFO: None\n",
      "10:07:52 - mcmc.calculators | INFO: None\n",
      "10:07:52 - mcmc.calculators | INFO: None\n",
      "10:07:52 - mcmc.calculators | INFO: None\n",
      "10:07:52 - mcmc.calculators | INFO: None\n",
      "10:07:52 - mcmc.calculators | INFO: None\n"
     ]
    },
    {
     "name": "stdout",
     "output_type": "stream",
     "text": [
      "Total wall time: 0:00:00\n",
      "Total wall time: 0:00:00\n",
      "Total wall time: 0:00:00\n",
      "Total wall time: 0:00:00\n",
      "Total wall time: 0:00:00\n",
      "Total wall time: 0:00:00\n",
      "Total wall time: 0:00:00\n",
      "Total wall time: 0:00:00\n",
      "Total wall time: 0:00:00\n",
      "Total wall time: 0:00:00\n"
     ]
    },
    {
     "name": "stderr",
     "output_type": "stream",
     "text": [
      "10:07:52 - mcmc.calculators | INFO: None\n",
      "10:07:52 - mcmc.calculators | INFO: None\n",
      "10:07:52 - mcmc.calculators | INFO: None\n",
      "10:07:52 - mcmc.calculators | INFO: None\n",
      "10:07:52 - mcmc.calculators | INFO: None\n",
      "10:07:52 - mcmc.calculators | INFO: None\n",
      "10:07:52 - mcmc.calculators | INFO: None\n",
      "10:07:52 - mcmc.calculators | INFO: None\n",
      "10:07:52 - mcmc.calculators | INFO: None\n",
      "10:07:52 - mcmc.calculators | INFO: None\n"
     ]
    },
    {
     "name": "stdout",
     "output_type": "stream",
     "text": [
      "Total wall time: 0:00:00\n",
      "Total wall time: 0:00:00\n",
      "Total wall time: 0:00:00\n",
      "Total wall time: 0:00:00\n",
      "Total wall time: 0:00:00\n",
      "Total wall time: 0:00:00\n",
      "Total wall time: 0:00:00\n",
      "Total wall time: 0:00:00\n",
      "Total wall time: 0:00:00\n",
      "Total wall time: 0:00:00\n"
     ]
    },
    {
     "name": "stderr",
     "output_type": "stream",
     "text": [
      "10:07:52 - mcmc.calculators | INFO: None\n",
      "10:07:52 - mcmc.calculators | INFO: None\n",
      "10:07:52 - mcmc.calculators | INFO: None\n",
      "10:07:52 - mcmc.calculators | INFO: None\n",
      "10:07:53 - mcmc.calculators | INFO: None\n",
      "10:07:53 - mcmc.calculators | INFO: None\n",
      "10:07:53 - mcmc.calculators | INFO: None\n",
      "10:07:53 - mcmc.calculators | INFO: None\n",
      "10:07:53 - mcmc.calculators | INFO: None\n",
      "10:07:53 - mcmc.calculators | INFO: None\n",
      "10:07:53 - mcmc.calculators | INFO: None\n",
      "10:07:53 - mcmc.calculators | INFO: None\n"
     ]
    },
    {
     "name": "stdout",
     "output_type": "stream",
     "text": [
      "Total wall time: 0:00:00\n",
      "Total wall time: 0:00:00\n",
      "Total wall time: 0:00:00\n",
      "Total wall time: 0:00:00\n",
      "Total wall time: 0:00:00\n",
      "Total wall time: 0:00:00\n",
      "Total wall time: 0:00:00\n",
      "Total wall time: 0:00:00\n",
      "Total wall time: 0:00:00\n",
      "Total wall time: 0:00:00\n",
      "Total wall time: 0:00:00\n",
      "Total wall time: 0:00:00\n"
     ]
    },
    {
     "name": "stderr",
     "output_type": "stream",
     "text": [
      "10:07:53 - mcmc.calculators | INFO: None\n",
      "10:07:53 - mcmc.calculators | INFO: None\n",
      "10:07:53 - mcmc.calculators | INFO: None\n",
      "10:07:53 - mcmc.calculators | INFO: None\n",
      "10:07:53 - mcmc.calculators | INFO: None\n",
      "10:07:53 - mcmc.calculators | INFO: None\n",
      "10:07:53 - mcmc.calculators | INFO: None\n",
      "10:07:53 - mcmc.calculators | INFO: None\n",
      "10:07:53 - mcmc.calculators | INFO: None\n",
      "10:07:53 - mcmc.calculators | INFO: None\n",
      "10:07:53 - mcmc.calculators | INFO: None\n"
     ]
    },
    {
     "name": "stdout",
     "output_type": "stream",
     "text": [
      "Total wall time: 0:00:00\n",
      "Total wall time: 0:00:00\n",
      "Total wall time: 0:00:00\n",
      "Total wall time: 0:00:00\n",
      "Total wall time: 0:00:00\n",
      "Total wall time: 0:00:00\n",
      "Total wall time: 0:00:00\n",
      "Total wall time: 0:00:00\n",
      "Total wall time: 0:00:00\n",
      "Total wall time: 0:00:00\n",
      "Total wall time: 0:00:00\n"
     ]
    },
    {
     "name": "stderr",
     "output_type": "stream",
     "text": [
      "10:07:53 - mcmc.calculators | INFO: None\n",
      "10:07:53 - mcmc.calculators | INFO: None\n",
      "10:07:53 - mcmc.calculators | INFO: None\n",
      "10:07:53 - mcmc.calculators | INFO: None\n",
      "10:07:53 - mcmc.calculators | INFO: None\n",
      "10:07:53 - mcmc.calculators | INFO: None\n",
      "10:07:53 - mcmc.calculators | INFO: None\n",
      "10:07:53 - mcmc.calculators | INFO: None\n",
      "10:07:53 - mcmc.calculators | INFO: None\n"
     ]
    },
    {
     "name": "stdout",
     "output_type": "stream",
     "text": [
      "Total wall time: 0:00:00\n",
      "Total wall time: 0:00:00\n",
      "Total wall time: 0:00:00\n",
      "Total wall time: 0:00:00\n",
      "Total wall time: 0:00:00\n",
      "Total wall time: 0:00:00\n",
      "Total wall time: 0:00:00\n",
      "Total wall time: 0:00:00\n",
      "Total wall time: 0:00:00\n"
     ]
    },
    {
     "name": "stderr",
     "output_type": "stream",
     "text": [
      "10:07:53 - mcmc.calculators | INFO: None\n",
      "10:07:53 - mcmc.calculators | INFO: None\n",
      "10:07:53 - mcmc.calculators | INFO: None\n",
      "10:07:53 - mcmc.calculators | INFO: None\n",
      "10:07:53 - mcmc.calculators | INFO: None\n",
      "10:07:53 - mcmc.calculators | INFO: None\n",
      "10:07:53 - mcmc.calculators | INFO: None\n",
      "10:07:53 - mcmc.calculators | INFO: None\n",
      "10:07:53 - mcmc.mcmc | INFO: At iter 936\n",
      "10:07:53 - mcmc.calculators | INFO: None\n",
      "10:07:53 - mcmc.calculators | INFO: None\n",
      "10:07:53 - mcmc.calculators | INFO: None\n",
      "10:07:53 - mcmc.system | INFO: Optimized structure has surface energy = -178.319\n",
      "10:07:53 - mcmc.mcmc | INFO: In sweep 10 out of 10\n",
      "10:07:53 - mcmc.calculators | INFO: None\n"
     ]
    },
    {
     "name": "stdout",
     "output_type": "stream",
     "text": [
      "Total wall time: 0:00:00\n",
      "Total wall time: 0:00:00\n",
      "Total wall time: 0:00:00\n",
      "Total wall time: 0:00:00\n",
      "Total wall time: 0:00:00\n",
      "Total wall time: 0:00:00\n",
      "Total wall time: 0:00:00\n",
      "Total wall time: 0:00:00\n",
      "Total wall time: 0:00:00\n",
      "Total wall time: 0:00:00\n",
      "Total wall time: 0:00:00\n",
      "Total wall time: 0:00:00\n"
     ]
    },
    {
     "name": "stderr",
     "output_type": "stream",
     "text": [
      "10:07:53 - mcmc.calculators | INFO: None\n",
      "10:07:53 - mcmc.calculators | INFO: None\n",
      "10:07:53 - mcmc.calculators | INFO: None\n",
      "10:07:53 - mcmc.calculators | INFO: None\n",
      "10:07:53 - mcmc.calculators | INFO: None\n",
      "10:07:53 - mcmc.calculators | INFO: None\n",
      "10:07:53 - mcmc.calculators | INFO: None\n",
      "10:07:53 - mcmc.calculators | INFO: None\n",
      "10:07:53 - mcmc.calculators | INFO: None\n",
      "10:07:53 - mcmc.calculators | INFO: None\n",
      "10:07:53 - mcmc.calculators | INFO: None\n"
     ]
    },
    {
     "name": "stdout",
     "output_type": "stream",
     "text": [
      "Total wall time: 0:00:00\n",
      "Total wall time: 0:00:00\n",
      "Total wall time: 0:00:00\n",
      "Total wall time: 0:00:00\n",
      "Total wall time: 0:00:00\n",
      "Total wall time: 0:00:00\n",
      "Total wall time: 0:00:00\n",
      "Total wall time: 0:00:00\n",
      "Total wall time: 0:00:00\n",
      "Total wall time: 0:00:00\n",
      "Total wall time: 0:00:00\n"
     ]
    },
    {
     "name": "stderr",
     "output_type": "stream",
     "text": [
      "10:07:53 - mcmc.calculators | INFO: None\n",
      "10:07:53 - mcmc.calculators | INFO: None\n",
      "10:07:54 - mcmc.calculators | INFO: None\n",
      "10:07:54 - mcmc.calculators | INFO: None\n",
      "10:07:54 - mcmc.calculators | INFO: None\n",
      "10:07:54 - mcmc.calculators | INFO: None\n",
      "10:07:54 - mcmc.calculators | INFO: None\n",
      "10:07:54 - mcmc.calculators | INFO: None\n",
      "10:07:54 - mcmc.calculators | INFO: None\n"
     ]
    },
    {
     "name": "stdout",
     "output_type": "stream",
     "text": [
      "Total wall time: 0:00:00\n",
      "Total wall time: 0:00:00\n",
      "Total wall time: 0:00:00\n",
      "Total wall time: 0:00:00\n",
      "Total wall time: 0:00:00\n",
      "Total wall time: 0:00:00\n",
      "Total wall time: 0:00:00\n",
      "Total wall time: 0:00:00\n",
      "Total wall time: 0:00:00\n"
     ]
    },
    {
     "name": "stderr",
     "output_type": "stream",
     "text": [
      "10:07:54 - mcmc.calculators | INFO: None\n",
      "10:07:54 - mcmc.calculators | INFO: None\n",
      "10:07:54 - mcmc.calculators | INFO: None\n",
      "10:07:54 - mcmc.calculators | INFO: None\n",
      "10:07:54 - mcmc.calculators | INFO: None\n",
      "10:07:54 - mcmc.calculators | INFO: None\n",
      "10:07:54 - mcmc.calculators | INFO: None\n",
      "10:07:54 - mcmc.calculators | INFO: None\n",
      "10:07:54 - mcmc.calculators | INFO: None\n"
     ]
    },
    {
     "name": "stdout",
     "output_type": "stream",
     "text": [
      "Total wall time: 0:00:00\n",
      "Total wall time: 0:00:00\n",
      "Total wall time: 0:00:00\n",
      "Total wall time: 0:00:00\n",
      "Total wall time: 0:00:00\n",
      "Total wall time: 0:00:00\n",
      "Total wall time: 0:00:00\n",
      "Total wall time: 0:00:00\n",
      "Total wall time: 0:00:00\n"
     ]
    },
    {
     "name": "stderr",
     "output_type": "stream",
     "text": [
      "10:07:54 - mcmc.calculators | INFO: None\n",
      "10:07:54 - mcmc.calculators | INFO: None\n",
      "10:07:54 - mcmc.calculators | INFO: None\n",
      "10:07:54 - mcmc.calculators | INFO: None\n",
      "10:07:54 - mcmc.calculators | INFO: None\n",
      "10:07:54 - mcmc.calculators | INFO: None\n",
      "10:07:54 - mcmc.calculators | INFO: None\n",
      "10:07:54 - mcmc.calculators | INFO: None\n",
      "10:07:54 - mcmc.calculators | INFO: None\n",
      "10:07:54 - mcmc.calculators | INFO: None\n"
     ]
    },
    {
     "name": "stdout",
     "output_type": "stream",
     "text": [
      "Total wall time: 0:00:00\n",
      "Total wall time: 0:00:00\n",
      "Total wall time: 0:00:00\n",
      "Total wall time: 0:00:00\n",
      "Total wall time: 0:00:00\n",
      "Total wall time: 0:00:00\n",
      "Total wall time: 0:00:00\n",
      "Total wall time: 0:00:00\n",
      "Total wall time: 0:00:00\n",
      "Total wall time: 0:00:00\n"
     ]
    },
    {
     "name": "stderr",
     "output_type": "stream",
     "text": [
      "10:07:54 - mcmc.calculators | INFO: None\n",
      "10:07:54 - mcmc.calculators | INFO: None\n",
      "10:07:54 - mcmc.calculators | INFO: None\n",
      "10:07:54 - mcmc.calculators | INFO: None\n",
      "10:07:54 - mcmc.calculators | INFO: None\n",
      "10:07:54 - mcmc.calculators | INFO: None\n",
      "10:07:54 - mcmc.calculators | INFO: None\n",
      "10:07:54 - mcmc.calculators | INFO: None\n",
      "10:07:54 - mcmc.calculators | INFO: None\n",
      "10:07:54 - mcmc.calculators | INFO: None\n"
     ]
    },
    {
     "name": "stdout",
     "output_type": "stream",
     "text": [
      "Total wall time: 0:00:00\n",
      "Total wall time: 0:00:00\n",
      "Total wall time: 0:00:00\n",
      "Total wall time: 0:00:00\n",
      "Total wall time: 0:00:00\n",
      "Total wall time: 0:00:00\n",
      "Total wall time: 0:00:00\n",
      "Total wall time: 0:00:00\n",
      "Total wall time: 0:00:00\n"
     ]
    },
    {
     "name": "stderr",
     "output_type": "stream",
     "text": [
      "10:07:54 - mcmc.calculators | INFO: None\n",
      "10:07:54 - mcmc.calculators | INFO: None\n",
      "10:07:54 - mcmc.calculators | INFO: None\n",
      "10:07:54 - mcmc.calculators | INFO: None\n",
      "10:07:54 - mcmc.calculators | INFO: None\n",
      "10:07:54 - mcmc.calculators | INFO: None\n",
      "10:07:54 - mcmc.calculators | INFO: None\n",
      "10:07:54 - mcmc.calculators | INFO: None\n"
     ]
    },
    {
     "name": "stdout",
     "output_type": "stream",
     "text": [
      "Total wall time: 0:00:00\n",
      "Total wall time: 0:00:00\n",
      "Total wall time: 0:00:00\n",
      "Total wall time: 0:00:00\n",
      "Total wall time: 0:00:00\n",
      "Total wall time: 0:00:00\n",
      "Total wall time: 0:00:00\n",
      "Total wall time: 0:00:00\n",
      "Total wall time: 0:00:00\n"
     ]
    },
    {
     "name": "stderr",
     "output_type": "stream",
     "text": [
      "10:07:54 - mcmc.calculators | INFO: None\n",
      "10:07:55 - mcmc.calculators | INFO: None\n",
      "10:07:55 - mcmc.calculators | INFO: None\n",
      "10:07:55 - mcmc.calculators | INFO: None\n",
      "10:07:55 - mcmc.calculators | INFO: None\n",
      "10:07:55 - mcmc.calculators | INFO: None\n",
      "10:07:55 - mcmc.calculators | INFO: None\n",
      "10:07:55 - mcmc.calculators | INFO: None\n",
      "10:07:55 - mcmc.calculators | INFO: None\n",
      "10:07:55 - mcmc.calculators | INFO: None\n",
      "10:07:55 - mcmc.calculators | INFO: None\n",
      "10:07:55 - mcmc.calculators | INFO: None\n"
     ]
    },
    {
     "name": "stdout",
     "output_type": "stream",
     "text": [
      "Total wall time: 0:00:00\n",
      "Total wall time: 0:00:00\n",
      "Total wall time: 0:00:00\n",
      "Total wall time: 0:00:00\n",
      "Total wall time: 0:00:00\n",
      "Total wall time: 0:00:00\n",
      "Total wall time: 0:00:00\n",
      "Total wall time: 0:00:00\n",
      "Total wall time: 0:00:00\n",
      "Total wall time: 0:00:00\n",
      "Total wall time: 0:00:00\n",
      "Total wall time: 0:00:00\n"
     ]
    },
    {
     "name": "stderr",
     "output_type": "stream",
     "text": [
      "10:07:55 - mcmc.calculators | INFO: None\n",
      "10:07:55 - mcmc.calculators | INFO: None\n",
      "10:07:55 - mcmc.calculators | INFO: None\n",
      "10:07:55 - mcmc.calculators | INFO: None\n",
      "10:07:55 - mcmc.calculators | INFO: None\n",
      "10:07:55 - mcmc.calculators | INFO: None\n",
      "10:07:55 - mcmc.calculators | INFO: None\n",
      "10:07:55 - mcmc.calculators | INFO: None\n"
     ]
    },
    {
     "name": "stdout",
     "output_type": "stream",
     "text": [
      "Total wall time: 0:00:00\n",
      "Total wall time: 0:00:00\n",
      "Total wall time: 0:00:00\n",
      "Total wall time: 0:00:00\n",
      "Total wall time: 0:00:00\n",
      "Total wall time: 0:00:00\n",
      "Total wall time: 0:00:00\n",
      "Total wall time: 0:00:00\n"
     ]
    },
    {
     "name": "stderr",
     "output_type": "stream",
     "text": [
      "10:07:55 - mcmc.calculators | INFO: None\n",
      "10:07:55 - mcmc.calculators | INFO: None\n",
      "10:07:55 - mcmc.calculators | INFO: None\n",
      "10:07:55 - mcmc.calculators | INFO: None\n",
      "10:07:55 - mcmc.calculators | INFO: None\n",
      "10:07:55 - mcmc.calculators | INFO: None\n",
      "10:07:55 - mcmc.calculators | INFO: None\n",
      "10:07:55 - mcmc.calculators | INFO: None\n",
      "10:07:55 - mcmc.calculators | INFO: None\n"
     ]
    },
    {
     "name": "stdout",
     "output_type": "stream",
     "text": [
      "Total wall time: 0:00:00\n",
      "Total wall time: 0:00:00\n",
      "Total wall time: 0:00:00\n",
      "Total wall time: 0:00:00\n",
      "Total wall time: 0:00:00\n",
      "Total wall time: 0:00:00\n",
      "Total wall time: 0:00:00\n",
      "Total wall time: 0:00:00\n",
      "Total wall time: 0:00:00\n"
     ]
    },
    {
     "name": "stderr",
     "output_type": "stream",
     "text": [
      "10:07:55 - mcmc.calculators | INFO: None\n",
      "10:07:55 - mcmc.calculators | INFO: None\n",
      "10:07:55 - mcmc.calculators | INFO: None\n",
      "10:07:55 - mcmc.calculators | INFO: None\n",
      "10:07:55 - mcmc.calculators | INFO: None\n",
      "10:07:55 - mcmc.calculators | INFO: None\n",
      "10:07:55 - mcmc.calculators | INFO: None\n",
      "10:07:55 - mcmc.calculators | INFO: None\n",
      "10:07:55 - mcmc.calculators | INFO: None\n",
      "10:07:55 - mcmc.calculators | INFO: None\n",
      "10:07:55 - mcmc.calculators | INFO: None\n"
     ]
    },
    {
     "name": "stdout",
     "output_type": "stream",
     "text": [
      "Total wall time: 0:00:00\n",
      "Total wall time: 0:00:00\n",
      "Total wall time: 0:00:00\n",
      "Total wall time: 0:00:00\n",
      "Total wall time: 0:00:00\n",
      "Total wall time: 0:00:00\n",
      "Total wall time: 0:00:00\n",
      "Total wall time: 0:00:00\n",
      "Total wall time: 0:00:00\n",
      "Total wall time: 0:00:00\n",
      "Total wall time: 0:00:00\n"
     ]
    },
    {
     "name": "stderr",
     "output_type": "stream",
     "text": [
      "10:07:55 - mcmc.calculators | INFO: None\n",
      "10:07:55 - mcmc.calculators | INFO: None\n",
      "10:07:55 - mcmc.calculators | INFO: None\n",
      "10:07:55 - mcmc.calculators | INFO: None\n",
      "10:07:55 - mcmc.calculators | INFO: None\n",
      "10:07:55 - mcmc.calculators | INFO: None\n",
      "10:07:55 - mcmc.calculators | INFO: None\n",
      "10:07:55 - mcmc.calculators | INFO: None\n",
      "10:07:56 - mcmc.calculators | INFO: None\n",
      "10:07:56 - mcmc.calculators | INFO: None\n",
      "10:07:56 - mcmc.calculators | INFO: None\n",
      "10:07:56 - mcmc.calculators | INFO: None\n"
     ]
    },
    {
     "name": "stdout",
     "output_type": "stream",
     "text": [
      "Total wall time: 0:00:00\n",
      "Total wall time: 0:00:00\n",
      "Total wall time: 0:00:00\n",
      "Total wall time: 0:00:00\n",
      "Total wall time: 0:00:00\n",
      "Total wall time: 0:00:00\n",
      "Total wall time: 0:00:00\n",
      "Total wall time: 0:00:00\n",
      "Total wall time: 0:00:00\n",
      "Total wall time: 0:00:00\n",
      "Total wall time: 0:00:00\n",
      "Total wall time: 0:00:00\n"
     ]
    },
    {
     "name": "stderr",
     "output_type": "stream",
     "text": [
      "10:07:56 - mcmc.calculators | INFO: None\n",
      "10:07:56 - mcmc.calculators | INFO: None\n",
      "10:07:56 - mcmc.calculators | INFO: None\n",
      "10:07:56 - mcmc.calculators | INFO: None\n",
      "10:07:56 - mcmc.calculators | INFO: None\n",
      "10:07:56 - mcmc.calculators | INFO: None\n",
      "10:07:56 - mcmc.calculators | INFO: None\n",
      "10:07:56 - mcmc.calculators | INFO: None\n",
      "10:07:56 - mcmc.calculators | INFO: None\n",
      "10:07:56 - mcmc.calculators | INFO: None\n",
      "10:07:56 - mcmc.calculators | INFO: None\n",
      "10:07:56 - mcmc.calculators | INFO: None\n"
     ]
    },
    {
     "name": "stdout",
     "output_type": "stream",
     "text": [
      "Total wall time: 0:00:00\n",
      "Total wall time: 0:00:00\n",
      "Total wall time: 0:00:00\n",
      "Total wall time: 0:00:00\n",
      "Total wall time: 0:00:00\n",
      "Total wall time: 0:00:00\n",
      "Total wall time: 0:00:00\n",
      "Total wall time: 0:00:00\n",
      "Total wall time: 0:00:00\n",
      "Total wall time: 0:00:00\n",
      "Total wall time: 0:00:00\n",
      "Total wall time: 0:00:00\n"
     ]
    },
    {
     "name": "stderr",
     "output_type": "stream",
     "text": [
      "10:07:56 - mcmc.calculators | INFO: None\n",
      "10:07:56 - mcmc.calculators | INFO: None\n",
      "10:07:56 - mcmc.calculators | INFO: None\n",
      "10:07:56 - mcmc.calculators | INFO: None\n",
      "10:07:56 - mcmc.calculators | INFO: None\n",
      "10:07:56 - mcmc.calculators | INFO: None\n",
      "10:07:56 - mcmc.calculators | INFO: None\n",
      "10:07:56 - mcmc.calculators | INFO: None\n",
      "10:07:56 - mcmc.calculators | INFO: None\n",
      "10:07:56 - mcmc.calculators | INFO: None\n"
     ]
    },
    {
     "name": "stdout",
     "output_type": "stream",
     "text": [
      "Total wall time: 0:00:00\n",
      "Total wall time: 0:00:00\n",
      "Total wall time: 0:00:00\n",
      "Total wall time: 0:00:00\n",
      "Total wall time: 0:00:00\n",
      "Total wall time: 0:00:00\n",
      "Total wall time: 0:00:00\n",
      "Total wall time: 0:00:00\n",
      "Total wall time: 0:00:00\n",
      "Total wall time: 0:00:00\n"
     ]
    },
    {
     "name": "stderr",
     "output_type": "stream",
     "text": [
      "10:07:56 - mcmc.calculators | INFO: None\n",
      "10:07:56 - mcmc.calculators | INFO: None\n",
      "10:07:56 - mcmc.calculators | INFO: None\n",
      "10:07:56 - mcmc.calculators | INFO: None\n",
      "10:07:56 - mcmc.calculators | INFO: None\n",
      "10:07:56 - mcmc.calculators | INFO: None\n",
      "10:07:56 - mcmc.calculators | INFO: None\n",
      "10:07:56 - mcmc.calculators | INFO: None\n",
      "10:07:56 - mcmc.calculators | INFO: None\n",
      "10:07:56 - mcmc.calculators | INFO: None\n",
      "10:07:56 - mcmc.calculators | INFO: None\n"
     ]
    },
    {
     "name": "stdout",
     "output_type": "stream",
     "text": [
      "Total wall time: 0:00:00\n",
      "Total wall time: 0:00:00\n",
      "Total wall time: 0:00:00\n",
      "Total wall time: 0:00:00\n",
      "Total wall time: 0:00:00\n",
      "Total wall time: 0:00:00\n",
      "Total wall time: 0:00:00\n",
      "Total wall time: 0:00:00\n",
      "Total wall time: 0:00:00\n",
      "Total wall time: 0:00:00\n",
      "Total wall time: 0:00:00\n"
     ]
    },
    {
     "name": "stderr",
     "output_type": "stream",
     "text": [
      "10:07:56 - mcmc.calculators | INFO: None\n",
      "10:07:56 - mcmc.calculators | INFO: None\n",
      "10:07:56 - mcmc.calculators | INFO: None\n",
      "10:07:56 - mcmc.calculators | INFO: None\n",
      "10:07:56 - mcmc.calculators | INFO: None\n",
      "10:07:56 - mcmc.calculators | INFO: None\n",
      "10:07:56 - mcmc.calculators | INFO: None\n",
      "10:07:56 - mcmc.calculators | INFO: None\n",
      "10:07:56 - mcmc.calculators | INFO: None\n",
      "10:07:56 - mcmc.calculators | INFO: None\n",
      "10:07:56 - mcmc.calculators | INFO: None\n"
     ]
    },
    {
     "name": "stdout",
     "output_type": "stream",
     "text": [
      "Total wall time: 0:00:00\n",
      "Total wall time: 0:00:00\n",
      "Total wall time: 0:00:00\n",
      "Total wall time: 0:00:00\n",
      "Total wall time: 0:00:00\n",
      "Total wall time: 0:00:00\n",
      "Total wall time: 0:00:00\n",
      "Total wall time: 0:00:00\n",
      "Total wall time: 0:00:00\n",
      "Total wall time: 0:00:00\n",
      "Total wall time: 0:00:00\n"
     ]
    },
    {
     "name": "stderr",
     "output_type": "stream",
     "text": [
      "10:07:56 - mcmc.calculators | INFO: None\n",
      "10:07:56 - mcmc.calculators | INFO: None\n",
      "10:07:56 - mcmc.calculators | INFO: None\n",
      "10:07:56 - mcmc.calculators | INFO: None\n",
      "10:07:57 - mcmc.calculators | INFO: None\n",
      "10:07:57 - mcmc.calculators | INFO: None\n",
      "10:07:57 - mcmc.calculators | INFO: None\n",
      "10:07:57 - mcmc.calculators | INFO: None\n",
      "10:07:57 - mcmc.calculators | INFO: None\n",
      "10:07:57 - mcmc.calculators | INFO: None\n",
      "10:07:57 - mcmc.calculators | INFO: None\n",
      "10:07:57 - mcmc.calculators | INFO: None\n",
      "10:07:57 - mcmc.calculators | INFO: None\n",
      "10:07:57 - mcmc.calculators | INFO: None\n"
     ]
    },
    {
     "name": "stdout",
     "output_type": "stream",
     "text": [
      "Total wall time: 0:00:00\n",
      "Total wall time: 0:00:00\n",
      "Total wall time: 0:00:00\n",
      "Total wall time: 0:00:00\n",
      "Total wall time: 0:00:00\n",
      "Total wall time: 0:00:00\n",
      "Total wall time: 0:00:00\n",
      "Total wall time: 0:00:00\n",
      "Total wall time: 0:00:00\n",
      "Total wall time: 0:00:00\n",
      "Total wall time: 0:00:00\n",
      "Total wall time: 0:00:00\n",
      "Total wall time: 0:00:00\n",
      "Total wall time: 0:00:00\n"
     ]
    },
    {
     "name": "stderr",
     "output_type": "stream",
     "text": [
      "10:07:57 - mcmc.calculators | INFO: None\n",
      "10:07:57 - mcmc.calculators | INFO: None\n",
      "10:07:57 - mcmc.calculators | INFO: None\n",
      "10:07:57 - mcmc.calculators | INFO: None\n",
      "10:07:57 - mcmc.calculators | INFO: None\n",
      "10:07:57 - mcmc.calculators | INFO: None\n",
      "10:07:57 - mcmc.calculators | INFO: None\n",
      "10:07:57 - mcmc.calculators | INFO: None\n",
      "10:07:57 - mcmc.calculators | INFO: None\n",
      "10:07:57 - mcmc.calculators | INFO: None\n",
      "10:07:57 - mcmc.calculators | INFO: None\n",
      "10:07:57 - mcmc.calculators | INFO: None\n"
     ]
    },
    {
     "name": "stdout",
     "output_type": "stream",
     "text": [
      "Total wall time: 0:00:00\n",
      "Total wall time: 0:00:00\n",
      "Total wall time: 0:00:00\n",
      "Total wall time: 0:00:00\n",
      "Total wall time: 0:00:00\n",
      "Total wall time: 0:00:00\n",
      "Total wall time: 0:00:00\n",
      "Total wall time: 0:00:00\n",
      "Total wall time: 0:00:00\n",
      "Total wall time: 0:00:00\n",
      "Total wall time: 0:00:00\n",
      "Total wall time: 0:00:00\n"
     ]
    },
    {
     "name": "stderr",
     "output_type": "stream",
     "text": [
      "10:07:57 - mcmc.calculators | INFO: None\n",
      "10:07:57 - mcmc.calculators | INFO: None\n",
      "10:07:57 - mcmc.calculators | INFO: None\n",
      "10:07:57 - mcmc.calculators | INFO: None\n",
      "10:07:57 - mcmc.calculators | INFO: None\n",
      "10:07:57 - mcmc.calculators | INFO: None\n",
      "10:07:57 - mcmc.calculators | INFO: None\n",
      "10:07:57 - mcmc.calculators | INFO: None\n",
      "10:07:57 - mcmc.calculators | INFO: None\n",
      "10:07:57 - mcmc.calculators | INFO: None\n",
      "10:07:57 - mcmc.calculators | INFO: None\n",
      "10:07:57 - mcmc.calculators | INFO: None\n"
     ]
    },
    {
     "name": "stdout",
     "output_type": "stream",
     "text": [
      "Total wall time: 0:00:00\n",
      "Total wall time: 0:00:00\n",
      "Total wall time: 0:00:00\n",
      "Total wall time: 0:00:00\n",
      "Total wall time: 0:00:00\n",
      "Total wall time: 0:00:00\n",
      "Total wall time: 0:00:00\n",
      "Total wall time: 0:00:00\n",
      "Total wall time: 0:00:00\n",
      "Total wall time: 0:00:00\n",
      "Total wall time: 0:00:00\n",
      "Total wall time: 0:00:00\n"
     ]
    },
    {
     "name": "stderr",
     "output_type": "stream",
     "text": [
      "10:07:57 - mcmc.calculators | INFO: None\n",
      "10:07:57 - mcmc.calculators | INFO: None\n",
      "10:07:57 - mcmc.calculators | INFO: None\n",
      "10:07:57 - mcmc.calculators | INFO: None\n",
      "10:07:57 - mcmc.calculators | INFO: None\n",
      "10:07:57 - mcmc.calculators | INFO: None\n",
      "10:07:57 - mcmc.calculators | INFO: None\n",
      "10:07:57 - mcmc.calculators | INFO: None\n",
      "10:07:57 - mcmc.calculators | INFO: None\n",
      "10:07:57 - mcmc.calculators | INFO: None\n",
      "10:07:57 - mcmc.calculators | INFO: None\n",
      "10:07:57 - mcmc.calculators | INFO: None\n"
     ]
    },
    {
     "name": "stdout",
     "output_type": "stream",
     "text": [
      "Total wall time: 0:00:00\n",
      "Total wall time: 0:00:00\n",
      "Total wall time: 0:00:00\n",
      "Total wall time: 0:00:00\n",
      "Total wall time: 0:00:00\n",
      "Total wall time: 0:00:00\n",
      "Total wall time: 0:00:00\n",
      "Total wall time: 0:00:00\n",
      "Total wall time: 0:00:00\n",
      "Total wall time: 0:00:00\n",
      "Total wall time: 0:00:00\n",
      "Total wall time: 0:00:00\n"
     ]
    },
    {
     "name": "stderr",
     "output_type": "stream",
     "text": [
      "10:07:57 - mcmc.calculators | INFO: None\n",
      "10:07:57 - mcmc.calculators | INFO: None\n",
      "10:07:57 - mcmc.mcmc | INFO: At iter 1040\n",
      "10:07:57 - mcmc.calculators | INFO: None\n",
      "10:07:57 - mcmc.calculators | INFO: None\n",
      "10:07:57 - mcmc.system | INFO: Optimized structure has surface energy = -177.075\n"
     ]
    },
    {
     "name": "stdout",
     "output_type": "stream",
     "text": [
      "Total wall time: 0:00:00\n",
      "Total wall time: 0:00:00\n",
      "Total wall time: 0:00:00\n",
      "Total wall time: 0:00:00\n",
      "Time taken = 46.306 seconds\n"
     ]
    },
    {
     "data": {
      "image/png": "[encoded data removed]",
      "text/plain": [
       "<Figure size 2000x1000 with 1 Axes>"
      ]
     },
     "metadata": {},
     "output_type": "display_data"
    }
   ],
   "source": [
    "mcmc = MCMC(**sampling_settings)\n",
    "\n",
    "start = perf_counter()\n",
    "results = mcmc.run(\n",
    "    surface,\n",
    "    **sampling_settings,\n",
    ")\n",
    "stop = perf_counter()\n",
    "print(f\"Time taken = {stop - start:.3f} seconds\")"
   ]
  },
  {
   "cell_type": "markdown",
   "metadata": {},
   "source": [
    "Plot results"
   ]
  },
  {
   "cell_type": "code",
   "execution_count": 9,
   "metadata": {},
   "outputs": [
    {
     "data": {
      "image/png": "[encoded data removed]",
      "text/plain": [
       "<Figure size 3000x800 with 3 Axes>"
      ]
     },
     "metadata": {},
     "output_type": "display_data"
    }
   ],
   "source": [
    "fig = plot_summary_stats(\n",
    "    results[\"energy_hist\"],\n",
    "    results[\"frac_accept_hist\"],\n",
    "    results[\"adsorption_count_hist\"],\n",
    "    sampling_settings[\"total_sweeps\"],\n",
    "    save_folder=run_folder,\n",
    ")"
   ]
  },
  {
   "cell_type": "code",
   "execution_count": null,
   "metadata": {},
   "outputs": [],
   "source": []
  }
 ],
 "metadata": {
  "kernelspec": {
   "display_name": "Python 3.8.13 ('surface_sampling': conda)",
   "language": "python",
   "name": "python3"
  },
  "language_info": {
   "codemirror_mode": {
    "name": "ipython",
    "version": 3
   },
   "file_extension": ".py",
   "mimetype": "text/x-python",
   "name": "python",
   "nbconvert_exporter": "python",
   "pygments_lexer": "ipython3",
   "version": "3.11.9"
  },
  "orig_nbformat": 4,
  "vscode": {
   "interpreter": {
    "hash": "e3e0723b7fd9866ee8f9ae4f62931968cf8456ef2195b337b8930ae9f61708cf"
   }
  }
 },
 "nbformat": 4,
 "nbformat_minor": 2
}
