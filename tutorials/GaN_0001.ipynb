{
 "cells": [
  {
   "cell_type": "code",
   "execution_count": 1,
   "metadata": {},
   "outputs": [],
   "source": [
    "%load_ext autoreload\n",
    "%autoreload 2"
   ]
  },
  {
   "cell_type": "code",
   "execution_count": 2,
   "metadata": {},
   "outputs": [],
   "source": [
    "import logging\n",
    "import pickle\n",
    "from pathlib import Path\n",
    "from time import perf_counter\n",
    "\n",
    "import numpy as np\n",
    "\n",
    "from mcmc import MCMC\n",
    "from mcmc.system import SurfaceSystem\n",
    "from mcmc.utils import setup_logger\n",
    "from mcmc.utils.plot import plot_summary_stats\n",
    "\n",
    "np.set_printoptions(precision=3, suppress=True)\n",
    "# uncomment and replace with correct path if there are errors with LAMMPS\n",
    "# os.environ[\"LAMMPS_POTENTIALS\"] = \"/path/to/lammps/potentials/\"\n",
    "# os.environ[\"LAMMPS_COMMAND\"] =\"/path/to/lammps/src/lmp_serial\"\n",
    "# os.environ[\"ASE_LAMMPSRUN_COMMAND\"] = os.environ[\"LAMMPS_COMMAND\"]"
   ]
  },
  {
   "attachments": {},
   "cell_type": "markdown",
   "metadata": {},
   "source": [
    "Initialize test slab and parameters"
   ]
  },
  {
   "cell_type": "code",
   "execution_count": 3,
   "metadata": {},
   "outputs": [],
   "source": [
    "# Initialize paths\n",
    "surface_name = \"GaN_0001\"\n",
    "run_folder = Path() / surface_name\n",
    "run_folder.mkdir(parents=True, exist_ok=True)\n",
    "\n",
    "# Initialize logger\n",
    "logger = setup_logger(\"mcmc\", run_folder / \"mc.log\", logging.INFO)\n",
    "logging.getLogger(\n",
    "    \"matplotlib.font_manager\"\n",
    ").disabled = True  # disable matplotlib font manager logging\n",
    "\n",
    "# Load prepared pristine slab\n",
    "try:\n",
    "    with open(\"data/GaN_0001/GaN_0001_3x3_pristine_slab.pkl\", \"rb\") as f:\n",
    "        slab = pickle.load(f)\n",
    "except FileNotFoundError as e:\n",
    "    print(\"Pristine surface pkl file not found. Please check you have downloaded the data.\")\n",
    "    raise e\n",
    "\n",
    "calc_settings = {\n",
    "    \"calc_name\": \"LAMMPS\",\n",
    "    \"optimizer\": \"LAMMPS\",\n",
    "    \"chem_pots\": {\"Ga\": 5},  # eV. arbitrary value\n",
    "    \"relax_atoms\": True,\n",
    "    \"relax_steps\": 100,\n",
    "    \"run_dir\": run_folder,\n",
    "}\n",
    "\n",
    "system_settings = {\n",
    "    \"surface_name\": surface_name,\n",
    "    \"surface_depth\": 1,\n",
    "    \"cutoff\": 5.0,\n",
    "    \"near_reduce\": 0.01,\n",
    "    \"planar_distance\": 1.5,\n",
    "    \"no_obtuse_hollow\": True,\n",
    "    \"ads_site_type\": \"all\",\n",
    "}\n",
    "\n",
    "sampling_settings = {\n",
    "    \"total_sweeps\": 10,\n",
    "    \"sweep_size\": 104,\n",
    "    \"start_temp\": 1.0,  # in terms of kbT\n",
    "    \"perform_annealing\": True,\n",
    "    \"alpha\": 0.99,  # slowly anneal\n",
    "    \"canonical\": True,\n",
    "    \"num_ads_atoms\": 12,\n",
    "    \"adsorbates\": [\"Ga\"],\n",
    "    \"run_folder\": run_folder,\n",
    "}"
   ]
  },
  {
   "attachments": {},
   "cell_type": "markdown",
   "metadata": {},
   "source": [
    "Set up LAMMPS (calculator). Requires a `lammps_config.json` and a `lammps_template.txt` in `run_dir`"
   ]
  },
  {
   "cell_type": "code",
   "execution_count": 4,
   "metadata": {},
   "outputs": [
    {
     "name": "stdout",
     "output_type": "stream",
     "text": [
      "cuequivariance or cuequivariance_torch is not available. Cuequivariance acceleration will be disabled.\n",
      "/home/dux/miniforge3/envs/vssr-mc/lib/python3.11/site-packages/models\n"
     ]
    },
    {
     "name": "stderr",
     "output_type": "stream",
     "text": [
      "10:39:00 - mcmc.calculators | INFO: run directory: GaN_0001 is set from parameters\n",
      "10:39:00 - mcmc.calculators | INFO: relaxation steps: 100 is set from parameters\n"
     ]
    },
    {
     "data": {
      "text/plain": [
       "{'calc_name': 'LAMMPS',\n",
       " 'optimizer': 'LAMMPS',\n",
       " 'chem_pots': {'Ga': 5},\n",
       " 'relax_atoms': True,\n",
       " 'relax_steps': 100,\n",
       " 'run_dir': PosixPath('GaN_0001')}"
      ]
     },
     "execution_count": 4,
     "metadata": {},
     "output_type": "execute_result"
    }
   ],
   "source": [
    "from mcmc.calculators import LAMMPSSurfCalc\n",
    "\n",
    "lammps_surf_calc = LAMMPSSurfCalc()\n",
    "lammps_surf_calc.set(**calc_settings)"
   ]
  },
  {
   "cell_type": "markdown",
   "metadata": {},
   "source": [
    "Initialize surface system"
   ]
  },
  {
   "cell_type": "code",
   "execution_count": 5,
   "metadata": {},
   "outputs": [
    {
     "name": "stderr",
     "output_type": "stream",
     "text": [
      "10:39:00 - mcmc.system | INFO: Initalizing adsorption sites with settings: {'surface_name': 'GaN_0001', 'surface_depth': 1, 'cutoff': 5.0, 'near_reduce': 0.01, 'planar_distance': 1.5, 'no_obtuse_hollow': True, 'ads_site_type': 'all'}\n",
      "10:39:00 - mcmc.system | INFO: Generated adsorption coordinates are: [array([ 0.   ,  0.   , 14.766]), array([12.865,  7.428, 14.12 ]), array([12.865,  5.571, 14.766]), array([11.257,  4.642, 14.12 ]), array([ 1.608,  2.785, 14.766])]...\n",
      "10:39:00 - mcmc.system | INFO: Initializing 107 virtual atoms\n",
      "10:39:00 - mcmc.system | INFO: Initial state is [0 0 0 0 0 0 0 0 0 0 0 0 0 0 0 0 0 0 0 0 0 0 0 0 0 0 0 0 0 0 0 0 0 0 0 0 0\n",
      " 0 0 0 0 0 0 0 0 0 0 0 0 0 0 0 0 0 0 0 0 0 0 0 0 0 0 0 0 0 0 0 0 0 0 0 0 0\n",
      " 0 0 0 0 0 0 0 0 0 0 0 0 0 0 0 0 0 0 0 0 0 0 0 0 0 0 0 0 0 0 0 0 0]\n",
      "10:39:00 - mcmc.system | INFO: Number of pristine atoms is 36\n",
      "10:39:00 - mcmc.system | INFO: Bulk indices are [ 1  2  3  5  6  7  9 10 11 13 14 15 17 18 19 21 22 23 25 26 27 29 30 31\n",
      " 33 34 35]\n",
      "10:39:00 - mcmc.system | INFO: Surface indices are [ 0  4  8 12 16 20 24 28 32]\n",
      "10:39:00 - mcmc.system | INFO: Constraints are FixAtoms(indices=[1, 2, 3, 5, 6, 7, 9, 10, 11, 13, 14, 15, 17, 18, 19, 21, 22, 23, 25, 26, 27, 29, 30, 31, 33, 34, 35])\n",
      "10:39:00 - mcmc.system | INFO: Relaxing initialized surface\n",
      "10:39:00 - mcmc.calculators | INFO: None\n"
     ]
    },
    {
     "name": "stdout",
     "output_type": "stream",
     "text": [
      "Total wall time: 0:00:00\n"
     ]
    }
   ],
   "source": [
    "surface = SurfaceSystem(\n",
    "    slab,\n",
    "    calc=lammps_surf_calc,\n",
    "    system_settings=system_settings,\n",
    "    save_folder=run_folder,\n",
    ")\n",
    "surface.all_atoms.write(run_folder / \"GaN_0001_3x3_all_virtual_ads.cif\")"
   ]
  },
  {
   "cell_type": "markdown",
   "metadata": {},
   "source": [
    "Test calculate pristine surface"
   ]
  },
  {
   "cell_type": "code",
   "execution_count": 6,
   "metadata": {},
   "outputs": [
    {
     "name": "stderr",
     "output_type": "stream",
     "text": [
      "10:39:00 - mcmc.calculators | INFO: None\n"
     ]
    },
    {
     "name": "stdout",
     "output_type": "stream",
     "text": [
      "Total wall time: 0:00:00\n",
      "Energy -144.059 eV\n"
     ]
    }
   ],
   "source": [
    "print(f\"Energy {surface.get_potential_energy():.3f} eV\")"
   ]
  },
  {
   "attachments": {},
   "cell_type": "markdown",
   "metadata": {},
   "source": [
    "Perform MCMC and view results. Detailed results can be found in the corresponding run in the `GaN(0001)/` folder."
   ]
  },
  {
   "cell_type": "code",
   "execution_count": 7,
   "metadata": {},
   "outputs": [
    {
     "name": "stderr",
     "output_type": "stream",
     "text": [
      "10:39:00 - mcmc.mcmc | INFO: Using run folder GaN_0001\n",
      "10:39:00 - mcmc.mcmc | INFO: Randomly adsorbing sites\n",
      "10:39:00 - mcmc.events.criterion | ERROR: No surface energy found in results dict\n",
      "10:39:00 - mcmc.calculators | INFO: None\n",
      "10:39:00 - mcmc.calculators | INFO: None\n",
      "10:39:00 - mcmc.calculators | INFO: None\n",
      "10:39:00 - mcmc.calculators | INFO: None\n",
      "10:39:00 - mcmc.calculators | INFO: None\n",
      "10:39:00 - mcmc.calculators | INFO: None\n",
      "10:39:00 - mcmc.calculators | INFO: None\n",
      "10:39:00 - mcmc.calculators | INFO: None\n",
      "10:39:00 - mcmc.calculators | INFO: None\n"
     ]
    },
    {
     "name": "stdout",
     "output_type": "stream",
     "text": [
      "Total wall time: 0:00:00\n",
      "Total wall time: 0:00:00\n",
      "Total wall time: 0:00:00\n",
      "Total wall time: 0:00:00\n",
      "Total wall time: 0:00:00\n",
      "Total wall time: 0:00:00\n",
      "Total wall time: 0:00:00\n",
      "Total wall time: 0:00:00\n",
      "Total wall time: 0:00:00\n"
     ]
    },
    {
     "name": "stderr",
     "output_type": "stream",
     "text": [
      "10:39:00 - mcmc.calculators | INFO: None\n",
      "10:39:00 - mcmc.calculators | INFO: None\n",
      "10:39:00 - mcmc.calculators | INFO: None\n",
      "10:39:00 - mcmc.calculators | INFO: None\n"
     ]
    },
    {
     "name": "stdout",
     "output_type": "stream",
     "text": [
      "Total wall time: 0:00:00\n",
      "Total wall time: 0:00:00\n",
      "Total wall time: 0:00:00\n",
      "Total wall time: 0:00:00\n"
     ]
    },
    {
     "name": "stderr",
     "output_type": "stream",
     "text": [
      "10:39:00 - mcmc.calculators | INFO: None\n",
      "10:39:00 - mcmc.calculators | INFO: None\n",
      "10:39:00 - mcmc.calculators | INFO: None\n",
      "10:39:00 - mcmc.calculators | INFO: None\n",
      "10:39:00 - mcmc.calculators | INFO: None\n",
      "10:39:00 - mcmc.calculators | INFO: None\n"
     ]
    },
    {
     "name": "stdout",
     "output_type": "stream",
     "text": [
      "Total wall time: 0:00:00\n",
      "Total wall time: 0:00:00\n",
      "Total wall time: 0:00:00\n",
      "Total wall time: 0:00:00\n",
      "Total wall time: 0:00:00\n",
      "Total wall time: 0:00:00\n"
     ]
    },
    {
     "name": "stderr",
     "output_type": "stream",
     "text": [
      "10:39:00 - mcmc.calculators | INFO: None\n",
      "10:39:01 - mcmc.calculators | INFO: None\n",
      "10:39:01 - mcmc.calculators | INFO: None\n",
      "10:39:01 - mcmc.calculators | INFO: None\n",
      "10:39:01 - mcmc.calculators | INFO: None\n",
      "10:39:01 - mcmc.calculators | INFO: None\n",
      "10:39:01 - mcmc.calculators | INFO: None\n",
      "10:39:01 - mcmc.calculators | INFO: None\n"
     ]
    },
    {
     "name": "stdout",
     "output_type": "stream",
     "text": [
      "Total wall time: 0:00:00\n",
      "Total wall time: 0:00:00\n",
      "Total wall time: 0:00:00\n",
      "Total wall time: 0:00:00\n",
      "Total wall time: 0:00:00\n",
      "Total wall time: 0:00:00\n",
      "Total wall time: 0:00:00\n",
      "Total wall time: 0:00:00\n"
     ]
    },
    {
     "name": "stderr",
     "output_type": "stream",
     "text": [
      "10:39:01 - mcmc.mcmc | INFO: There are 36 atoms in pristine slab\n",
      "10:39:01 - mcmc.mcmc | INFO: Running with total_sweeps = 10, sweep_size = 104, start_temp = 1.000\n",
      "10:39:01 - mcmc.mcmc | INFO: Starting with iteration 0\n",
      "10:39:01 - mcmc.mcmc | INFO: Temperature schedule is: ['1.000', '0.990', '0.980', '0.970', '0.961', '0.951', '0.941', '0.932', '0.923', '0.914']\n",
      "10:39:01 - mcmc.mcmc | INFO: In sweep 1 out of 10\n",
      "10:39:01 - mcmc.calculators | INFO: None\n",
      "10:39:01 - mcmc.calculators | INFO: None\n",
      "10:39:01 - mcmc.calculators | INFO: None\n",
      "10:39:01 - mcmc.calculators | INFO: None\n",
      "10:39:01 - mcmc.calculators | INFO: None\n",
      "10:39:01 - mcmc.calculators | INFO: None\n",
      "10:39:01 - mcmc.calculators | INFO: None\n",
      "10:39:01 - mcmc.calculators | INFO: None\n",
      "10:39:01 - mcmc.calculators | INFO: None\n",
      "10:39:01 - mcmc.calculators | INFO: None\n",
      "10:39:01 - mcmc.calculators | INFO: None\n",
      "10:39:01 - mcmc.calculators | INFO: None\n"
     ]
    },
    {
     "name": "stdout",
     "output_type": "stream",
     "text": [
      "Total wall time: 0:00:00\n",
      "Total wall time: 0:00:00\n",
      "Total wall time: 0:00:00\n",
      "Total wall time: 0:00:00\n",
      "Total wall time: 0:00:00\n",
      "Total wall time: 0:00:00\n",
      "Total wall time: 0:00:00\n",
      "Total wall time: 0:00:00\n",
      "Total wall time: 0:00:00\n",
      "Total wall time: 0:00:00\n",
      "Total wall time: 0:00:00\n",
      "Total wall time: 0:00:00\n"
     ]
    },
    {
     "name": "stderr",
     "output_type": "stream",
     "text": [
      "10:39:01 - mcmc.calculators | INFO: None\n",
      "10:39:01 - mcmc.calculators | INFO: None\n",
      "10:39:01 - mcmc.calculators | INFO: None\n",
      "10:39:01 - mcmc.calculators | INFO: None\n",
      "10:39:01 - mcmc.calculators | INFO: None\n",
      "10:39:01 - mcmc.calculators | INFO: None\n",
      "10:39:01 - mcmc.calculators | INFO: None\n",
      "10:39:01 - mcmc.calculators | INFO: None\n",
      "10:39:01 - mcmc.calculators | INFO: None\n",
      "10:39:01 - mcmc.calculators | INFO: None\n",
      "10:39:01 - mcmc.calculators | INFO: None\n",
      "10:39:01 - mcmc.calculators | INFO: None\n",
      "10:39:01 - mcmc.calculators | INFO: None\n",
      "10:39:01 - mcmc.calculators | INFO: None\n"
     ]
    },
    {
     "name": "stdout",
     "output_type": "stream",
     "text": [
      "Total wall time: 0:00:00\n",
      "Total wall time: 0:00:00\n",
      "Total wall time: 0:00:00\n",
      "Total wall time: 0:00:00\n",
      "Total wall time: 0:00:00\n",
      "Total wall time: 0:00:00\n",
      "Total wall time: 0:00:00\n",
      "Total wall time: 0:00:00\n",
      "Total wall time: 0:00:00\n",
      "Total wall time: 0:00:00\n",
      "Total wall time: 0:00:00\n",
      "Total wall time: 0:00:00\n",
      "Total wall time: 0:00:00\n",
      "Total wall time: 0:00:00\n"
     ]
    },
    {
     "name": "stderr",
     "output_type": "stream",
     "text": [
      "10:39:02 - mcmc.calculators | INFO: None\n",
      "10:39:02 - mcmc.calculators | INFO: None\n",
      "10:39:02 - mcmc.calculators | INFO: None\n",
      "10:39:02 - mcmc.calculators | INFO: None\n",
      "10:39:02 - mcmc.calculators | INFO: None\n",
      "10:39:02 - mcmc.calculators | INFO: None\n",
      "10:39:02 - mcmc.calculators | INFO: None\n",
      "10:39:02 - mcmc.calculators | INFO: None\n",
      "10:39:02 - mcmc.calculators | INFO: None\n",
      "10:39:02 - mcmc.calculators | INFO: None\n",
      "10:39:02 - mcmc.calculators | INFO: None\n",
      "10:39:02 - mcmc.calculators | INFO: None\n",
      "10:39:02 - mcmc.calculators | INFO: None\n",
      "10:39:02 - mcmc.calculators | INFO: None\n"
     ]
    },
    {
     "name": "stdout",
     "output_type": "stream",
     "text": [
      "Total wall time: 0:00:00\n",
      "Total wall time: 0:00:00\n",
      "Total wall time: 0:00:00\n",
      "Total wall time: 0:00:00\n",
      "Total wall time: 0:00:00\n",
      "Total wall time: 0:00:00\n",
      "Total wall time: 0:00:00\n",
      "Total wall time: 0:00:00\n",
      "Total wall time: 0:00:00\n",
      "Total wall time: 0:00:00\n",
      "Total wall time: 0:00:00\n",
      "Total wall time: 0:00:00\n",
      "Total wall time: 0:00:00\n",
      "Total wall time: 0:00:00\n"
     ]
    },
    {
     "name": "stderr",
     "output_type": "stream",
     "text": [
      "10:39:02 - mcmc.calculators | INFO: None\n",
      "10:39:02 - mcmc.calculators | INFO: None\n",
      "10:39:02 - mcmc.calculators | INFO: None\n",
      "10:39:02 - mcmc.calculators | INFO: None\n",
      "10:39:02 - mcmc.calculators | INFO: None\n",
      "10:39:02 - mcmc.calculators | INFO: None\n",
      "10:39:02 - mcmc.calculators | INFO: None\n",
      "10:39:02 - mcmc.calculators | INFO: None\n",
      "10:39:02 - mcmc.calculators | INFO: None\n",
      "10:39:02 - mcmc.calculators | INFO: None\n",
      "10:39:02 - mcmc.calculators | INFO: None\n",
      "10:39:02 - mcmc.calculators | INFO: None\n",
      "10:39:02 - mcmc.calculators | INFO: None\n",
      "10:39:02 - mcmc.calculators | INFO: None\n"
     ]
    },
    {
     "name": "stdout",
     "output_type": "stream",
     "text": [
      "Total wall time: 0:00:00\n",
      "Total wall time: 0:00:00\n",
      "Total wall time: 0:00:00\n",
      "Total wall time: 0:00:00\n",
      "Total wall time: 0:00:00\n",
      "Total wall time: 0:00:00\n",
      "Total wall time: 0:00:00\n",
      "Total wall time: 0:00:00\n",
      "Total wall time: 0:00:00\n",
      "Total wall time: 0:00:00\n",
      "Total wall time: 0:00:00\n",
      "Total wall time: 0:00:00\n",
      "Total wall time: 0:00:00\n",
      "Total wall time: 0:00:00\n"
     ]
    },
    {
     "name": "stderr",
     "output_type": "stream",
     "text": [
      "10:39:02 - mcmc.calculators | INFO: None\n",
      "10:39:02 - mcmc.calculators | INFO: None\n",
      "10:39:02 - mcmc.calculators | INFO: None\n",
      "10:39:02 - mcmc.calculators | INFO: None\n",
      "10:39:02 - mcmc.calculators | INFO: None\n",
      "10:39:02 - mcmc.calculators | INFO: None\n",
      "10:39:02 - mcmc.calculators | INFO: None\n",
      "10:39:02 - mcmc.calculators | INFO: None\n",
      "10:39:02 - mcmc.calculators | INFO: None\n",
      "10:39:02 - mcmc.calculators | INFO: None\n",
      "10:39:02 - mcmc.calculators | INFO: None\n",
      "10:39:02 - mcmc.calculators | INFO: None\n",
      "10:39:02 - mcmc.calculators | INFO: None\n"
     ]
    },
    {
     "name": "stdout",
     "output_type": "stream",
     "text": [
      "Total wall time: 0:00:00\n",
      "Total wall time: 0:00:00\n",
      "Total wall time: 0:00:00\n",
      "Total wall time: 0:00:00\n",
      "Total wall time: 0:00:00\n",
      "Total wall time: 0:00:00\n",
      "Total wall time: 0:00:00\n",
      "Total wall time: 0:00:00\n",
      "Total wall time: 0:00:00\n",
      "Total wall time: 0:00:00\n",
      "Total wall time: 0:00:00\n",
      "Total wall time: 0:00:00\n"
     ]
    },
    {
     "name": "stderr",
     "output_type": "stream",
     "text": [
      "10:39:02 - mcmc.calculators | INFO: None\n",
      "10:39:02 - mcmc.calculators | INFO: None\n",
      "10:39:02 - mcmc.calculators | INFO: None\n",
      "10:39:02 - mcmc.calculators | INFO: None\n",
      "10:39:02 - mcmc.calculators | INFO: None\n",
      "10:39:02 - mcmc.calculators | INFO: None\n",
      "10:39:02 - mcmc.calculators | INFO: None\n",
      "10:39:02 - mcmc.calculators | INFO: None\n",
      "10:39:02 - mcmc.calculators | INFO: None\n",
      "10:39:02 - mcmc.calculators | INFO: None\n",
      "10:39:02 - mcmc.calculators | INFO: None\n",
      "10:39:02 - mcmc.calculators | INFO: None\n",
      "10:39:02 - mcmc.calculators | INFO: None\n"
     ]
    },
    {
     "name": "stdout",
     "output_type": "stream",
     "text": [
      "Total wall time: 0:00:00\n",
      "Total wall time: 0:00:00\n",
      "Total wall time: 0:00:00\n",
      "Total wall time: 0:00:00\n",
      "Total wall time: 0:00:00\n",
      "Total wall time: 0:00:00\n",
      "Total wall time: 0:00:00\n",
      "Total wall time: 0:00:00\n",
      "Total wall time: 0:00:00\n",
      "Total wall time: 0:00:00\n",
      "Total wall time: 0:00:00\n",
      "Total wall time: 0:00:00\n",
      "Total wall time: 0:00:00\n",
      "Total wall time: 0:00:00\n"
     ]
    },
    {
     "name": "stderr",
     "output_type": "stream",
     "text": [
      "10:39:02 - mcmc.calculators | INFO: None\n",
      "10:39:02 - mcmc.calculators | INFO: None\n",
      "10:39:02 - mcmc.calculators | INFO: None\n",
      "10:39:02 - mcmc.calculators | INFO: None\n",
      "10:39:02 - mcmc.calculators | INFO: None\n",
      "10:39:02 - mcmc.calculators | INFO: None\n",
      "10:39:02 - mcmc.calculators | INFO: None\n",
      "10:39:02 - mcmc.calculators | INFO: None\n",
      "10:39:02 - mcmc.calculators | INFO: None\n",
      "10:39:02 - mcmc.calculators | INFO: None\n",
      "10:39:03 - mcmc.calculators | INFO: None\n",
      "10:39:03 - mcmc.calculators | INFO: None\n",
      "10:39:03 - mcmc.calculators | INFO: None\n",
      "10:39:03 - mcmc.calculators | INFO: None\n"
     ]
    },
    {
     "name": "stdout",
     "output_type": "stream",
     "text": [
      "Total wall time: 0:00:00\n",
      "Total wall time: 0:00:00\n",
      "Total wall time: 0:00:00\n",
      "Total wall time: 0:00:00\n",
      "Total wall time: 0:00:00\n",
      "Total wall time: 0:00:00\n",
      "Total wall time: 0:00:00\n",
      "Total wall time: 0:00:00\n",
      "Total wall time: 0:00:00\n",
      "Total wall time: 0:00:00\n",
      "Total wall time: 0:00:00\n",
      "Total wall time: 0:00:00\n",
      "Total wall time: 0:00:00\n",
      "Total wall time: 0:00:00\n"
     ]
    },
    {
     "name": "stderr",
     "output_type": "stream",
     "text": [
      "10:39:03 - mcmc.calculators | INFO: None\n",
      "10:39:03 - mcmc.calculators | INFO: None\n",
      "10:39:03 - mcmc.calculators | INFO: None\n",
      "10:39:03 - mcmc.calculators | INFO: None\n",
      "10:39:03 - mcmc.calculators | INFO: None\n",
      "10:39:03 - mcmc.calculators | INFO: None\n",
      "10:39:03 - mcmc.calculators | INFO: None\n",
      "10:39:03 - mcmc.calculators | INFO: None\n",
      "10:39:03 - mcmc.calculators | INFO: None\n",
      "10:39:03 - mcmc.calculators | INFO: None\n",
      "10:39:03 - mcmc.calculators | INFO: None\n",
      "10:39:03 - mcmc.calculators | INFO: None\n",
      "10:39:03 - mcmc.calculators | INFO: None\n",
      "10:39:03 - mcmc.calculators | INFO: None\n"
     ]
    },
    {
     "name": "stdout",
     "output_type": "stream",
     "text": [
      "Total wall time: 0:00:00\n",
      "Total wall time: 0:00:00\n",
      "Total wall time: 0:00:00\n",
      "Total wall time: 0:00:00\n",
      "Total wall time: 0:00:00\n",
      "Total wall time: 0:00:00\n",
      "Total wall time: 0:00:00\n",
      "Total wall time: 0:00:00\n",
      "Total wall time: 0:00:00\n",
      "Total wall time: 0:00:00\n",
      "Total wall time: 0:00:00\n",
      "Total wall time: 0:00:00\n",
      "Total wall time: 0:00:00\n",
      "Total wall time: 0:00:00\n"
     ]
    },
    {
     "name": "stderr",
     "output_type": "stream",
     "text": [
      "10:39:03 - mcmc.calculators | INFO: None\n",
      "10:39:03 - mcmc.calculators | INFO: None\n",
      "10:39:03 - mcmc.calculators | INFO: None\n",
      "10:39:03 - mcmc.calculators | INFO: None\n",
      "10:39:03 - mcmc.calculators | INFO: None\n",
      "10:39:03 - mcmc.calculators | INFO: None\n",
      "10:39:03 - mcmc.calculators | INFO: None\n",
      "10:39:03 - mcmc.calculators | INFO: None\n",
      "10:39:03 - mcmc.calculators | INFO: None\n",
      "10:39:03 - mcmc.calculators | INFO: None\n",
      "10:39:03 - mcmc.calculators | INFO: None\n",
      "10:39:03 - mcmc.calculators | INFO: None\n",
      "10:39:03 - mcmc.calculators | INFO: None\n",
      "10:39:03 - mcmc.calculators | INFO: None\n"
     ]
    },
    {
     "name": "stdout",
     "output_type": "stream",
     "text": [
      "Total wall time: 0:00:00\n",
      "Total wall time: 0:00:00\n",
      "Total wall time: 0:00:00\n",
      "Total wall time: 0:00:00\n",
      "Total wall time: 0:00:00\n",
      "Total wall time: 0:00:00\n",
      "Total wall time: 0:00:00\n",
      "Total wall time: 0:00:00\n",
      "Total wall time: 0:00:00\n",
      "Total wall time: 0:00:00\n",
      "Total wall time: 0:00:00\n",
      "Total wall time: 0:00:00\n",
      "Total wall time: 0:00:00\n",
      "Total wall time: 0:00:00\n"
     ]
    },
    {
     "name": "stderr",
     "output_type": "stream",
     "text": [
      "10:39:03 - mcmc.calculators | INFO: None\n",
      "10:39:03 - mcmc.calculators | INFO: None\n",
      "10:39:03 - mcmc.calculators | INFO: None\n",
      "10:39:03 - mcmc.calculators | INFO: None\n",
      "10:39:03 - mcmc.calculators | INFO: None\n",
      "10:39:03 - mcmc.calculators | INFO: None\n",
      "10:39:03 - mcmc.calculators | INFO: None\n",
      "10:39:03 - mcmc.calculators | INFO: None\n",
      "10:39:03 - mcmc.calculators | INFO: None\n",
      "10:39:03 - mcmc.calculators | INFO: None\n",
      "10:39:03 - mcmc.calculators | INFO: None\n",
      "10:39:03 - mcmc.calculators | INFO: None\n",
      "10:39:03 - mcmc.calculators | INFO: None\n",
      "10:39:03 - mcmc.calculators | INFO: None\n"
     ]
    },
    {
     "name": "stdout",
     "output_type": "stream",
     "text": [
      "Total wall time: 0:00:00\n",
      "Total wall time: 0:00:00\n",
      "Total wall time: 0:00:00\n",
      "Total wall time: 0:00:00\n",
      "Total wall time: 0:00:00\n",
      "Total wall time: 0:00:00\n",
      "Total wall time: 0:00:00\n",
      "Total wall time: 0:00:00\n",
      "Total wall time: 0:00:00\n",
      "Total wall time: 0:00:00\n",
      "Total wall time: 0:00:00\n",
      "Total wall time: 0:00:00\n",
      "Total wall time: 0:00:00\n",
      "Total wall time: 0:00:00\n"
     ]
    },
    {
     "name": "stderr",
     "output_type": "stream",
     "text": [
      "10:39:03 - mcmc.calculators | INFO: None\n",
      "10:39:03 - mcmc.calculators | INFO: None\n",
      "10:39:03 - mcmc.calculators | INFO: None\n",
      "10:39:03 - mcmc.calculators | INFO: None\n",
      "10:39:03 - mcmc.calculators | INFO: None\n",
      "10:39:03 - mcmc.calculators | INFO: None\n",
      "10:39:03 - mcmc.calculators | INFO: None\n",
      "10:39:03 - mcmc.calculators | INFO: None\n",
      "10:39:03 - mcmc.calculators | INFO: None\n",
      "10:39:03 - mcmc.calculators | INFO: None\n",
      "10:39:03 - mcmc.calculators | INFO: None\n",
      "10:39:03 - mcmc.calculators | INFO: None\n",
      "10:39:03 - mcmc.calculators | INFO: None\n",
      "10:39:03 - mcmc.calculators | INFO: None\n",
      "10:39:03 - mcmc.calculators | INFO: None\n",
      "10:39:03 - mcmc.calculators | INFO: None\n"
     ]
    },
    {
     "name": "stdout",
     "output_type": "stream",
     "text": [
      "Total wall time: 0:00:00\n",
      "Total wall time: 0:00:00\n",
      "Total wall time: 0:00:00\n",
      "Total wall time: 0:00:00\n",
      "Total wall time: 0:00:00\n",
      "Total wall time: 0:00:00\n",
      "Total wall time: 0:00:00\n",
      "Total wall time: 0:00:00\n",
      "Total wall time: 0:00:00\n",
      "Total wall time: 0:00:00\n",
      "Total wall time: 0:00:00\n",
      "Total wall time: 0:00:00\n",
      "Total wall time: 0:00:00\n",
      "Total wall time: 0:00:00\n",
      "Total wall time: 0:00:00\n"
     ]
    },
    {
     "name": "stderr",
     "output_type": "stream",
     "text": [
      "10:39:03 - mcmc.calculators | INFO: None\n",
      "10:39:03 - mcmc.calculators | INFO: None\n",
      "10:39:03 - mcmc.calculators | INFO: None\n",
      "10:39:03 - mcmc.calculators | INFO: None\n",
      "10:39:03 - mcmc.calculators | INFO: None\n",
      "10:39:03 - mcmc.calculators | INFO: None\n",
      "10:39:03 - mcmc.calculators | INFO: None\n",
      "10:39:03 - mcmc.calculators | INFO: None\n",
      "10:39:04 - mcmc.calculators | INFO: None\n",
      "10:39:04 - mcmc.calculators | INFO: None\n",
      "10:39:04 - mcmc.calculators | INFO: None\n",
      "10:39:04 - mcmc.calculators | INFO: None\n",
      "10:39:04 - mcmc.calculators | INFO: None\n",
      "10:39:04 - mcmc.calculators | INFO: None\n"
     ]
    },
    {
     "name": "stdout",
     "output_type": "stream",
     "text": [
      "Total wall time: 0:00:00\n",
      "Total wall time: 0:00:00\n",
      "Total wall time: 0:00:00\n",
      "Total wall time: 0:00:00\n",
      "Total wall time: 0:00:00\n",
      "Total wall time: 0:00:00\n",
      "Total wall time: 0:00:00\n",
      "Total wall time: 0:00:00\n",
      "Total wall time: 0:00:00\n",
      "Total wall time: 0:00:00\n",
      "Total wall time: 0:00:00\n",
      "Total wall time: 0:00:00\n",
      "Total wall time: 0:00:00\n",
      "Total wall time: 0:00:00\n",
      "Total wall time: 0:00:00\n"
     ]
    },
    {
     "name": "stderr",
     "output_type": "stream",
     "text": [
      "10:39:04 - mcmc.calculators | INFO: None\n",
      "10:39:04 - mcmc.calculators | INFO: None\n",
      "10:39:04 - mcmc.calculators | INFO: None\n",
      "10:39:04 - mcmc.calculators | INFO: None\n",
      "10:39:04 - mcmc.calculators | INFO: None\n",
      "10:39:04 - mcmc.calculators | INFO: None\n",
      "10:39:04 - mcmc.calculators | INFO: None\n",
      "10:39:04 - mcmc.calculators | INFO: None\n",
      "10:39:04 - mcmc.calculators | INFO: None\n",
      "10:39:04 - mcmc.calculators | INFO: None\n",
      "10:39:04 - mcmc.calculators | INFO: None\n",
      "10:39:04 - mcmc.calculators | INFO: None\n",
      "10:39:04 - mcmc.calculators | INFO: None\n",
      "10:39:04 - mcmc.calculators | INFO: None\n"
     ]
    },
    {
     "name": "stdout",
     "output_type": "stream",
     "text": [
      "Total wall time: 0:00:00\n",
      "Total wall time: 0:00:00\n",
      "Total wall time: 0:00:00\n",
      "Total wall time: 0:00:00\n",
      "Total wall time: 0:00:00\n",
      "Total wall time: 0:00:00\n",
      "Total wall time: 0:00:00\n",
      "Total wall time: 0:00:00\n",
      "Total wall time: 0:00:00\n",
      "Total wall time: 0:00:00\n",
      "Total wall time: 0:00:00\n",
      "Total wall time: 0:00:00\n",
      "Total wall time: 0:00:00\n",
      "Total wall time: 0:00:00\n"
     ]
    },
    {
     "name": "stderr",
     "output_type": "stream",
     "text": [
      "10:39:04 - mcmc.calculators | INFO: None\n",
      "10:39:04 - mcmc.calculators | INFO: None\n",
      "10:39:04 - mcmc.calculators | INFO: None\n",
      "10:39:04 - mcmc.calculators | INFO: None\n",
      "10:39:04 - mcmc.calculators | INFO: None\n",
      "10:39:04 - mcmc.calculators | INFO: None\n",
      "10:39:04 - mcmc.calculators | INFO: None\n",
      "10:39:04 - mcmc.calculators | INFO: None\n",
      "10:39:04 - mcmc.calculators | INFO: None\n",
      "10:39:04 - mcmc.calculators | INFO: None\n",
      "10:39:04 - mcmc.calculators | INFO: None\n",
      "10:39:04 - mcmc.calculators | INFO: None\n",
      "10:39:04 - mcmc.calculators | INFO: None\n",
      "10:39:04 - mcmc.calculators | INFO: None\n"
     ]
    },
    {
     "name": "stdout",
     "output_type": "stream",
     "text": [
      "Total wall time: 0:00:00\n",
      "Total wall time: 0:00:00\n",
      "Total wall time: 0:00:00\n",
      "Total wall time: 0:00:00\n",
      "Total wall time: 0:00:00\n",
      "Total wall time: 0:00:00\n",
      "Total wall time: 0:00:00\n",
      "Total wall time: 0:00:00\n",
      "Total wall time: 0:00:00\n",
      "Total wall time: 0:00:00\n",
      "Total wall time: 0:00:00\n",
      "Total wall time: 0:00:00\n",
      "Total wall time: 0:00:00\n",
      "Total wall time: 0:00:00\n"
     ]
    },
    {
     "name": "stderr",
     "output_type": "stream",
     "text": [
      "10:39:04 - mcmc.calculators | INFO: None\n",
      "10:39:04 - mcmc.calculators | INFO: None\n",
      "10:39:04 - mcmc.calculators | INFO: None\n",
      "10:39:04 - mcmc.calculators | INFO: None\n",
      "10:39:04 - mcmc.calculators | INFO: None\n",
      "10:39:04 - mcmc.calculators | INFO: None\n",
      "10:39:04 - mcmc.calculators | INFO: None\n",
      "10:39:04 - mcmc.calculators | INFO: None\n",
      "10:39:04 - mcmc.calculators | INFO: None\n",
      "10:39:04 - mcmc.calculators | INFO: None\n",
      "10:39:04 - mcmc.calculators | INFO: None\n",
      "10:39:04 - mcmc.calculators | INFO: None\n",
      "10:39:04 - mcmc.mcmc | INFO: At iter 104\n",
      "10:39:04 - mcmc.calculators | INFO: None\n",
      "10:39:04 - mcmc.calculators | INFO: None\n",
      "10:39:04 - mcmc.system | INFO: Optimized structure has surface energy = -176.661\n"
     ]
    },
    {
     "name": "stdout",
     "output_type": "stream",
     "text": [
      "Total wall time: 0:00:00\n",
      "Total wall time: 0:00:00\n",
      "Total wall time: 0:00:00\n",
      "Total wall time: 0:00:00\n",
      "Total wall time: 0:00:00\n",
      "Total wall time: 0:00:00\n",
      "Total wall time: 0:00:00\n",
      "Total wall time: 0:00:00\n",
      "Total wall time: 0:00:00\n",
      "Total wall time: 0:00:00\n",
      "Total wall time: 0:00:00\n",
      "Total wall time: 0:00:00\n",
      "Total wall time: 0:00:00\n",
      "Total wall time: 0:00:00\n"
     ]
    },
    {
     "name": "stderr",
     "output_type": "stream",
     "text": [
      "10:39:04 - mcmc.mcmc | INFO: In sweep 2 out of 10\n",
      "10:39:04 - mcmc.calculators | INFO: None\n",
      "10:39:04 - mcmc.calculators | INFO: None\n",
      "10:39:04 - mcmc.calculators | INFO: None\n",
      "10:39:04 - mcmc.calculators | INFO: None\n",
      "10:39:04 - mcmc.calculators | INFO: None\n",
      "10:39:04 - mcmc.calculators | INFO: None\n",
      "10:39:04 - mcmc.calculators | INFO: None\n",
      "10:39:04 - mcmc.calculators | INFO: None\n",
      "10:39:04 - mcmc.calculators | INFO: None\n",
      "10:39:04 - mcmc.calculators | INFO: None\n",
      "10:39:04 - mcmc.calculators | INFO: None\n",
      "10:39:04 - mcmc.calculators | INFO: None\n",
      "10:39:04 - mcmc.calculators | INFO: None\n",
      "10:39:04 - mcmc.calculators | INFO: None\n",
      "10:39:04 - mcmc.calculators | INFO: None\n",
      "10:39:04 - mcmc.calculators | INFO: None\n"
     ]
    },
    {
     "name": "stdout",
     "output_type": "stream",
     "text": [
      "Total wall time: 0:00:00\n",
      "Total wall time: 0:00:00\n",
      "Total wall time: 0:00:00\n",
      "Total wall time: 0:00:00\n",
      "Total wall time: 0:00:00\n",
      "Total wall time: 0:00:00\n",
      "Total wall time: 0:00:00\n",
      "Total wall time: 0:00:00\n",
      "Total wall time: 0:00:00\n",
      "Total wall time: 0:00:00\n",
      "Total wall time: 0:00:00\n",
      "Total wall time: 0:00:00\n",
      "Total wall time: 0:00:00\n",
      "Total wall time: 0:00:00\n",
      "Total wall time: 0:00:00\n",
      "Total wall time: 0:00:00\n"
     ]
    },
    {
     "name": "stderr",
     "output_type": "stream",
     "text": [
      "10:39:04 - mcmc.calculators | INFO: None\n",
      "10:39:04 - mcmc.calculators | INFO: None\n",
      "10:39:05 - mcmc.calculators | INFO: None\n",
      "10:39:05 - mcmc.calculators | INFO: None\n",
      "10:39:05 - mcmc.calculators | INFO: None\n",
      "10:39:05 - mcmc.calculators | INFO: None\n",
      "10:39:05 - mcmc.calculators | INFO: None\n",
      "10:39:05 - mcmc.calculators | INFO: None\n",
      "10:39:05 - mcmc.calculators | INFO: None\n",
      "10:39:05 - mcmc.calculators | INFO: None\n",
      "10:39:05 - mcmc.calculators | INFO: None\n",
      "10:39:05 - mcmc.calculators | INFO: None\n",
      "10:39:05 - mcmc.calculators | INFO: None\n",
      "10:39:05 - mcmc.calculators | INFO: None\n"
     ]
    },
    {
     "name": "stdout",
     "output_type": "stream",
     "text": [
      "Total wall time: 0:00:00\n",
      "Total wall time: 0:00:00\n",
      "Total wall time: 0:00:00\n",
      "Total wall time: 0:00:00\n",
      "Total wall time: 0:00:00\n",
      "Total wall time: 0:00:00\n",
      "Total wall time: 0:00:00\n",
      "Total wall time: 0:00:00\n",
      "Total wall time: 0:00:00\n",
      "Total wall time: 0:00:00\n",
      "Total wall time: 0:00:00\n",
      "Total wall time: 0:00:00\n",
      "Total wall time: 0:00:00\n",
      "Total wall time: 0:00:00\n"
     ]
    },
    {
     "name": "stderr",
     "output_type": "stream",
     "text": [
      "10:39:05 - mcmc.calculators | INFO: None\n",
      "10:39:05 - mcmc.calculators | INFO: None\n",
      "10:39:05 - mcmc.calculators | INFO: None\n",
      "10:39:05 - mcmc.calculators | INFO: None\n",
      "10:39:05 - mcmc.calculators | INFO: None\n",
      "10:39:05 - mcmc.calculators | INFO: None\n",
      "10:39:05 - mcmc.calculators | INFO: None\n",
      "10:39:05 - mcmc.calculators | INFO: None\n",
      "10:39:05 - mcmc.calculators | INFO: None\n",
      "10:39:05 - mcmc.calculators | INFO: None\n",
      "10:39:05 - mcmc.calculators | INFO: None\n",
      "10:39:05 - mcmc.calculators | INFO: None\n",
      "10:39:05 - mcmc.calculators | INFO: None\n",
      "10:39:05 - mcmc.calculators | INFO: None\n"
     ]
    },
    {
     "name": "stdout",
     "output_type": "stream",
     "text": [
      "Total wall time: 0:00:00\n",
      "Total wall time: 0:00:00\n",
      "Total wall time: 0:00:00\n",
      "Total wall time: 0:00:00\n",
      "Total wall time: 0:00:00\n",
      "Total wall time: 0:00:00\n",
      "Total wall time: 0:00:00\n",
      "Total wall time: 0:00:00\n",
      "Total wall time: 0:00:00\n",
      "Total wall time: 0:00:00\n",
      "Total wall time: 0:00:00\n",
      "Total wall time: 0:00:00\n",
      "Total wall time: 0:00:00\n",
      "Total wall time: 0:00:00\n"
     ]
    },
    {
     "name": "stderr",
     "output_type": "stream",
     "text": [
      "10:39:05 - mcmc.calculators | INFO: None\n",
      "10:39:05 - mcmc.calculators | INFO: None\n",
      "10:39:05 - mcmc.calculators | INFO: None\n",
      "10:39:05 - mcmc.calculators | INFO: None\n",
      "10:39:05 - mcmc.calculators | INFO: None\n",
      "10:39:05 - mcmc.calculators | INFO: None\n",
      "10:39:05 - mcmc.calculators | INFO: None\n",
      "10:39:05 - mcmc.calculators | INFO: None\n",
      "10:39:05 - mcmc.calculators | INFO: None\n",
      "10:39:05 - mcmc.calculators | INFO: None\n",
      "10:39:05 - mcmc.calculators | INFO: None\n",
      "10:39:05 - mcmc.calculators | INFO: None\n",
      "10:39:05 - mcmc.calculators | INFO: None\n"
     ]
    },
    {
     "name": "stdout",
     "output_type": "stream",
     "text": [
      "Total wall time: 0:00:00\n",
      "Total wall time: 0:00:00\n",
      "Total wall time: 0:00:00\n",
      "Total wall time: 0:00:00\n",
      "Total wall time: 0:00:00\n",
      "Total wall time: 0:00:00\n",
      "Total wall time: 0:00:00\n",
      "Total wall time: 0:00:00\n",
      "Total wall time: 0:00:00\n",
      "Total wall time: 0:00:00\n",
      "Total wall time: 0:00:00\n",
      "Total wall time: 0:00:00\n",
      "Total wall time: 0:00:00\n"
     ]
    },
    {
     "name": "stderr",
     "output_type": "stream",
     "text": [
      "10:39:05 - mcmc.calculators | INFO: None\n",
      "10:39:05 - mcmc.calculators | INFO: None\n",
      "10:39:05 - mcmc.calculators | INFO: None\n",
      "10:39:05 - mcmc.calculators | INFO: None\n",
      "10:39:05 - mcmc.calculators | INFO: None\n",
      "10:39:05 - mcmc.calculators | INFO: None\n",
      "10:39:05 - mcmc.calculators | INFO: None\n",
      "10:39:05 - mcmc.calculators | INFO: None\n",
      "10:39:05 - mcmc.calculators | INFO: None\n",
      "10:39:05 - mcmc.calculators | INFO: None\n",
      "10:39:05 - mcmc.calculators | INFO: None\n",
      "10:39:05 - mcmc.calculators | INFO: None\n",
      "10:39:05 - mcmc.calculators | INFO: None\n",
      "10:39:05 - mcmc.calculators | INFO: None\n"
     ]
    },
    {
     "name": "stdout",
     "output_type": "stream",
     "text": [
      "Total wall time: 0:00:00\n",
      "Total wall time: 0:00:00\n",
      "Total wall time: 0:00:00\n",
      "Total wall time: 0:00:00\n",
      "Total wall time: 0:00:00\n",
      "Total wall time: 0:00:00\n",
      "Total wall time: 0:00:00\n",
      "Total wall time: 0:00:00\n",
      "Total wall time: 0:00:00\n",
      "Total wall time: 0:00:00\n",
      "Total wall time: 0:00:00\n",
      "Total wall time: 0:00:00\n",
      "Total wall time: 0:00:00\n",
      "Total wall time: 0:00:00\n"
     ]
    },
    {
     "name": "stderr",
     "output_type": "stream",
     "text": [
      "10:39:05 - mcmc.calculators | INFO: None\n",
      "10:39:05 - mcmc.calculators | INFO: None\n",
      "10:39:05 - mcmc.calculators | INFO: None\n",
      "10:39:05 - mcmc.calculators | INFO: None\n",
      "10:39:05 - mcmc.calculators | INFO: None\n",
      "10:39:05 - mcmc.calculators | INFO: None\n",
      "10:39:05 - mcmc.calculators | INFO: None\n",
      "10:39:05 - mcmc.calculators | INFO: None\n",
      "10:39:05 - mcmc.calculators | INFO: None\n",
      "10:39:05 - mcmc.calculators | INFO: None\n",
      "10:39:05 - mcmc.calculators | INFO: None\n",
      "10:39:05 - mcmc.calculators | INFO: None\n",
      "10:39:05 - mcmc.calculators | INFO: None\n",
      "10:39:06 - mcmc.calculators | INFO: None\n"
     ]
    },
    {
     "name": "stdout",
     "output_type": "stream",
     "text": [
      "Total wall time: 0:00:00\n",
      "Total wall time: 0:00:00\n",
      "Total wall time: 0:00:00\n",
      "Total wall time: 0:00:00\n",
      "Total wall time: 0:00:00\n",
      "Total wall time: 0:00:00\n",
      "Total wall time: 0:00:00\n",
      "Total wall time: 0:00:00\n",
      "Total wall time: 0:00:00\n",
      "Total wall time: 0:00:00\n",
      "Total wall time: 0:00:00\n",
      "Total wall time: 0:00:00\n",
      "Total wall time: 0:00:00\n"
     ]
    },
    {
     "name": "stderr",
     "output_type": "stream",
     "text": [
      "10:39:06 - mcmc.calculators | INFO: None\n",
      "10:39:06 - mcmc.calculators | INFO: None\n",
      "10:39:06 - mcmc.calculators | INFO: None\n",
      "10:39:06 - mcmc.calculators | INFO: None\n",
      "10:39:06 - mcmc.calculators | INFO: None\n",
      "10:39:06 - mcmc.calculators | INFO: None\n",
      "10:39:06 - mcmc.calculators | INFO: None\n",
      "10:39:06 - mcmc.calculators | INFO: None\n",
      "10:39:06 - mcmc.calculators | INFO: None\n",
      "10:39:06 - mcmc.calculators | INFO: None\n",
      "10:39:06 - mcmc.calculators | INFO: None\n",
      "10:39:06 - mcmc.calculators | INFO: None\n",
      "10:39:06 - mcmc.calculators | INFO: None\n",
      "10:39:06 - mcmc.calculators | INFO: None\n",
      "10:39:06 - mcmc.calculators | INFO: None\n"
     ]
    },
    {
     "name": "stdout",
     "output_type": "stream",
     "text": [
      "Total wall time: 0:00:00\n",
      "Total wall time: 0:00:00\n",
      "Total wall time: 0:00:00\n",
      "Total wall time: 0:00:00\n",
      "Total wall time: 0:00:00\n",
      "Total wall time: 0:00:00\n",
      "Total wall time: 0:00:00\n",
      "Total wall time: 0:00:00\n",
      "Total wall time: 0:00:00\n",
      "Total wall time: 0:00:00\n",
      "Total wall time: 0:00:00\n",
      "Total wall time: 0:00:00\n",
      "Total wall time: 0:00:00\n",
      "Total wall time: 0:00:00\n",
      "Total wall time: 0:00:00\n",
      "Total wall time: 0:00:00\n"
     ]
    },
    {
     "name": "stderr",
     "output_type": "stream",
     "text": [
      "10:39:06 - mcmc.calculators | INFO: None\n",
      "10:39:06 - mcmc.calculators | INFO: None\n",
      "10:39:06 - mcmc.calculators | INFO: None\n",
      "10:39:06 - mcmc.calculators | INFO: None\n",
      "10:39:06 - mcmc.calculators | INFO: None\n",
      "10:39:06 - mcmc.calculators | INFO: None\n",
      "10:39:06 - mcmc.calculators | INFO: None\n",
      "10:39:06 - mcmc.calculators | INFO: None\n",
      "10:39:06 - mcmc.calculators | INFO: None\n",
      "10:39:06 - mcmc.calculators | INFO: None\n",
      "10:39:06 - mcmc.calculators | INFO: None\n",
      "10:39:06 - mcmc.calculators | INFO: None\n",
      "10:39:06 - mcmc.calculators | INFO: None\n",
      "10:39:06 - mcmc.calculators | INFO: None\n"
     ]
    },
    {
     "name": "stdout",
     "output_type": "stream",
     "text": [
      "Total wall time: 0:00:00\n",
      "Total wall time: 0:00:00\n",
      "Total wall time: 0:00:00\n",
      "Total wall time: 0:00:00\n",
      "Total wall time: 0:00:00\n",
      "Total wall time: 0:00:00\n",
      "Total wall time: 0:00:00\n",
      "Total wall time: 0:00:00\n",
      "Total wall time: 0:00:00\n",
      "Total wall time: 0:00:00\n",
      "Total wall time: 0:00:00\n",
      "Total wall time: 0:00:00\n",
      "Total wall time: 0:00:00\n",
      "Total wall time: 0:00:00\n"
     ]
    },
    {
     "name": "stderr",
     "output_type": "stream",
     "text": [
      "10:39:06 - mcmc.calculators | INFO: None\n",
      "10:39:06 - mcmc.calculators | INFO: None\n",
      "10:39:06 - mcmc.calculators | INFO: None\n",
      "10:39:06 - mcmc.calculators | INFO: None\n",
      "10:39:06 - mcmc.calculators | INFO: None\n",
      "10:39:06 - mcmc.calculators | INFO: None\n",
      "10:39:06 - mcmc.calculators | INFO: None\n",
      "10:39:06 - mcmc.calculators | INFO: None\n",
      "10:39:06 - mcmc.calculators | INFO: None\n",
      "10:39:06 - mcmc.calculators | INFO: None\n",
      "10:39:06 - mcmc.calculators | INFO: None\n",
      "10:39:06 - mcmc.calculators | INFO: None\n",
      "10:39:06 - mcmc.calculators | INFO: None\n",
      "10:39:06 - mcmc.calculators | INFO: None\n"
     ]
    },
    {
     "name": "stdout",
     "output_type": "stream",
     "text": [
      "Total wall time: 0:00:00\n",
      "Total wall time: 0:00:00\n",
      "Total wall time: 0:00:00\n",
      "Total wall time: 0:00:00\n",
      "Total wall time: 0:00:00\n",
      "Total wall time: 0:00:00\n",
      "Total wall time: 0:00:00\n",
      "Total wall time: 0:00:00\n",
      "Total wall time: 0:00:00\n",
      "Total wall time: 0:00:00\n",
      "Total wall time: 0:00:00\n",
      "Total wall time: 0:00:00\n",
      "Total wall time: 0:00:00\n",
      "Total wall time: 0:00:00\n"
     ]
    },
    {
     "name": "stderr",
     "output_type": "stream",
     "text": [
      "10:39:06 - mcmc.calculators | INFO: None\n",
      "10:39:06 - mcmc.calculators | INFO: None\n",
      "10:39:06 - mcmc.calculators | INFO: None\n",
      "10:39:06 - mcmc.calculators | INFO: None\n",
      "10:39:06 - mcmc.calculators | INFO: None\n",
      "10:39:06 - mcmc.calculators | INFO: None\n",
      "10:39:06 - mcmc.calculators | INFO: None\n",
      "10:39:06 - mcmc.calculators | INFO: None\n",
      "10:39:06 - mcmc.calculators | INFO: None\n",
      "10:39:06 - mcmc.calculators | INFO: None\n",
      "10:39:06 - mcmc.calculators | INFO: None\n",
      "10:39:06 - mcmc.calculators | INFO: None\n",
      "10:39:06 - mcmc.calculators | INFO: None\n",
      "10:39:06 - mcmc.calculators | INFO: None\n",
      "10:39:06 - mcmc.calculators | INFO: None\n"
     ]
    },
    {
     "name": "stdout",
     "output_type": "stream",
     "text": [
      "Total wall time: 0:00:00\n",
      "Total wall time: 0:00:00\n",
      "Total wall time: 0:00:00\n",
      "Total wall time: 0:00:00\n",
      "Total wall time: 0:00:00\n",
      "Total wall time: 0:00:00\n",
      "Total wall time: 0:00:00\n",
      "Total wall time: 0:00:00\n",
      "Total wall time: 0:00:00\n",
      "Total wall time: 0:00:00\n",
      "Total wall time: 0:00:00\n",
      "Total wall time: 0:00:00\n",
      "Total wall time: 0:00:00\n",
      "Total wall time: 0:00:00\n"
     ]
    },
    {
     "name": "stderr",
     "output_type": "stream",
     "text": [
      "10:39:06 - mcmc.calculators | INFO: None\n",
      "10:39:06 - mcmc.calculators | INFO: None\n",
      "10:39:06 - mcmc.calculators | INFO: None\n",
      "10:39:06 - mcmc.calculators | INFO: None\n",
      "10:39:06 - mcmc.calculators | INFO: None\n",
      "10:39:06 - mcmc.calculators | INFO: None\n",
      "10:39:06 - mcmc.calculators | INFO: None\n",
      "10:39:06 - mcmc.calculators | INFO: None\n",
      "10:39:06 - mcmc.calculators | INFO: None\n",
      "10:39:06 - mcmc.calculators | INFO: None\n",
      "10:39:06 - mcmc.calculators | INFO: None\n",
      "10:39:07 - mcmc.calculators | INFO: None\n",
      "10:39:07 - mcmc.calculators | INFO: None\n",
      "10:39:07 - mcmc.calculators | INFO: None\n",
      "10:39:07 - mcmc.calculators | INFO: None\n"
     ]
    },
    {
     "name": "stdout",
     "output_type": "stream",
     "text": [
      "Total wall time: 0:00:00\n",
      "Total wall time: 0:00:00\n",
      "Total wall time: 0:00:00\n",
      "Total wall time: 0:00:00\n",
      "Total wall time: 0:00:00\n",
      "Total wall time: 0:00:00\n",
      "Total wall time: 0:00:00\n",
      "Total wall time: 0:00:00\n",
      "Total wall time: 0:00:00\n",
      "Total wall time: 0:00:00\n",
      "Total wall time: 0:00:00\n",
      "Total wall time: 0:00:00\n",
      "Total wall time: 0:00:00\n",
      "Total wall time: 0:00:00\n",
      "Total wall time: 0:00:00\n",
      "Total wall time: 0:00:00\n"
     ]
    },
    {
     "name": "stderr",
     "output_type": "stream",
     "text": [
      "10:39:07 - mcmc.calculators | INFO: None\n",
      "10:39:07 - mcmc.calculators | INFO: None\n",
      "10:39:07 - mcmc.calculators | INFO: None\n",
      "10:39:07 - mcmc.calculators | INFO: None\n",
      "10:39:07 - mcmc.calculators | INFO: None\n",
      "10:39:07 - mcmc.calculators | INFO: None\n",
      "10:39:07 - mcmc.calculators | INFO: None\n",
      "10:39:07 - mcmc.calculators | INFO: None\n",
      "10:39:07 - mcmc.calculators | INFO: None\n",
      "10:39:07 - mcmc.calculators | INFO: None\n",
      "10:39:07 - mcmc.calculators | INFO: None\n",
      "10:39:07 - mcmc.calculators | INFO: None\n",
      "10:39:07 - mcmc.calculators | INFO: None\n",
      "10:39:07 - mcmc.calculators | INFO: None\n",
      "10:39:07 - mcmc.calculators | INFO: None\n",
      "10:39:07 - mcmc.calculators | INFO: None\n"
     ]
    },
    {
     "name": "stdout",
     "output_type": "stream",
     "text": [
      "Total wall time: 0:00:00\n",
      "Total wall time: 0:00:00\n",
      "Total wall time: 0:00:00\n",
      "Total wall time: 0:00:00\n",
      "Total wall time: 0:00:00\n",
      "Total wall time: 0:00:00\n",
      "Total wall time: 0:00:00\n",
      "Total wall time: 0:00:00\n",
      "Total wall time: 0:00:00\n",
      "Total wall time: 0:00:00\n",
      "Total wall time: 0:00:00\n",
      "Total wall time: 0:00:00\n",
      "Total wall time: 0:00:00\n",
      "Total wall time: 0:00:00\n",
      "Total wall time: 0:00:00\n",
      "Total wall time: 0:00:00\n"
     ]
    },
    {
     "name": "stderr",
     "output_type": "stream",
     "text": [
      "10:39:07 - mcmc.calculators | INFO: None\n",
      "10:39:07 - mcmc.calculators | INFO: None\n",
      "10:39:07 - mcmc.calculators | INFO: None\n",
      "10:39:07 - mcmc.calculators | INFO: None\n",
      "10:39:07 - mcmc.calculators | INFO: None\n",
      "10:39:07 - mcmc.calculators | INFO: None\n",
      "10:39:07 - mcmc.calculators | INFO: None\n",
      "10:39:07 - mcmc.calculators | INFO: None\n",
      "10:39:07 - mcmc.calculators | INFO: None\n",
      "10:39:07 - mcmc.calculators | INFO: None\n",
      "10:39:07 - mcmc.calculators | INFO: None\n",
      "10:39:07 - mcmc.calculators | INFO: None\n",
      "10:39:07 - mcmc.calculators | INFO: None\n",
      "10:39:07 - mcmc.calculators | INFO: None\n",
      "10:39:07 - mcmc.calculators | INFO: None\n"
     ]
    },
    {
     "name": "stdout",
     "output_type": "stream",
     "text": [
      "Total wall time: 0:00:00\n",
      "Total wall time: 0:00:00\n",
      "Total wall time: 0:00:00\n",
      "Total wall time: 0:00:00\n",
      "Total wall time: 0:00:00\n",
      "Total wall time: 0:00:00\n",
      "Total wall time: 0:00:00\n",
      "Total wall time: 0:00:00\n",
      "Total wall time: 0:00:00\n",
      "Total wall time: 0:00:00\n",
      "Total wall time: 0:00:00\n",
      "Total wall time: 0:00:00\n",
      "Total wall time: 0:00:00\n",
      "Total wall time: 0:00:00\n",
      "Total wall time: 0:00:00\n"
     ]
    },
    {
     "name": "stderr",
     "output_type": "stream",
     "text": [
      "10:39:07 - mcmc.calculators | INFO: None\n",
      "10:39:07 - mcmc.calculators | INFO: None\n",
      "10:39:07 - mcmc.calculators | INFO: None\n",
      "10:39:07 - mcmc.calculators | INFO: None\n",
      "10:39:07 - mcmc.calculators | INFO: None\n",
      "10:39:07 - mcmc.calculators | INFO: None\n",
      "10:39:07 - mcmc.calculators | INFO: None\n",
      "10:39:07 - mcmc.calculators | INFO: None\n",
      "10:39:07 - mcmc.calculators | INFO: None\n",
      "10:39:07 - mcmc.calculators | INFO: None\n",
      "10:39:07 - mcmc.calculators | INFO: None\n",
      "10:39:07 - mcmc.calculators | INFO: None\n",
      "10:39:07 - mcmc.calculators | INFO: None\n",
      "10:39:07 - mcmc.calculators | INFO: None\n",
      "10:39:07 - mcmc.calculators | INFO: None\n"
     ]
    },
    {
     "name": "stdout",
     "output_type": "stream",
     "text": [
      "Total wall time: 0:00:00\n",
      "Total wall time: 0:00:00\n",
      "Total wall time: 0:00:00\n",
      "Total wall time: 0:00:00\n",
      "Total wall time: 0:00:00\n",
      "Total wall time: 0:00:00\n",
      "Total wall time: 0:00:00\n",
      "Total wall time: 0:00:00\n",
      "Total wall time: 0:00:00\n",
      "Total wall time: 0:00:00\n",
      "Total wall time: 0:00:00\n",
      "Total wall time: 0:00:00\n",
      "Total wall time: 0:00:00\n",
      "Total wall time: 0:00:00\n",
      "Total wall time: 0:00:00\n"
     ]
    },
    {
     "name": "stderr",
     "output_type": "stream",
     "text": [
      "10:39:07 - mcmc.calculators | INFO: None\n",
      "10:39:07 - mcmc.calculators | INFO: None\n",
      "10:39:07 - mcmc.mcmc | INFO: At iter 208\n",
      "10:39:07 - mcmc.calculators | INFO: None\n",
      "10:39:07 - mcmc.calculators | INFO: None\n",
      "10:39:07 - mcmc.system | INFO: Optimized structure has surface energy = -177.749\n",
      "10:39:07 - mcmc.mcmc | INFO: In sweep 3 out of 10\n",
      "10:39:07 - mcmc.calculators | INFO: None\n",
      "10:39:07 - mcmc.calculators | INFO: None\n",
      "10:39:07 - mcmc.calculators | INFO: None\n",
      "10:39:07 - mcmc.calculators | INFO: None\n",
      "10:39:07 - mcmc.calculators | INFO: None\n",
      "10:39:07 - mcmc.calculators | INFO: None\n",
      "10:39:07 - mcmc.calculators | INFO: None\n",
      "10:39:07 - mcmc.calculators | INFO: None\n"
     ]
    },
    {
     "name": "stdout",
     "output_type": "stream",
     "text": [
      "Total wall time: 0:00:00\n",
      "Total wall time: 0:00:00\n",
      "Total wall time: 0:00:00\n",
      "Total wall time: 0:00:00\n",
      "Total wall time: 0:00:00\n",
      "Total wall time: 0:00:00\n",
      "Total wall time: 0:00:00\n",
      "Total wall time: 0:00:00\n",
      "Total wall time: 0:00:00\n",
      "Total wall time: 0:00:00\n",
      "Total wall time: 0:00:00\n",
      "Total wall time: 0:00:00\n"
     ]
    },
    {
     "name": "stderr",
     "output_type": "stream",
     "text": [
      "10:39:07 - mcmc.calculators | INFO: None\n",
      "10:39:07 - mcmc.calculators | INFO: None\n",
      "10:39:07 - mcmc.calculators | INFO: None\n",
      "10:39:07 - mcmc.calculators | INFO: None\n",
      "10:39:07 - mcmc.calculators | INFO: None\n",
      "10:39:08 - mcmc.calculators | INFO: None\n",
      "10:39:08 - mcmc.calculators | INFO: None\n",
      "10:39:08 - mcmc.calculators | INFO: None\n",
      "10:39:08 - mcmc.calculators | INFO: None\n",
      "10:39:08 - mcmc.calculators | INFO: None\n",
      "10:39:08 - mcmc.calculators | INFO: None\n",
      "10:39:08 - mcmc.calculators | INFO: None\n",
      "10:39:08 - mcmc.calculators | INFO: None\n",
      "10:39:08 - mcmc.calculators | INFO: None\n"
     ]
    },
    {
     "name": "stdout",
     "output_type": "stream",
     "text": [
      "Total wall time: 0:00:00\n",
      "Total wall time: 0:00:00\n",
      "Total wall time: 0:00:00\n",
      "Total wall time: 0:00:00\n",
      "Total wall time: 0:00:00\n",
      "Total wall time: 0:00:00\n",
      "Total wall time: 0:00:00\n",
      "Total wall time: 0:00:00\n",
      "Total wall time: 0:00:00\n",
      "Total wall time: 0:00:00\n",
      "Total wall time: 0:00:00\n",
      "Total wall time: 0:00:00\n",
      "Total wall time: 0:00:00\n",
      "Total wall time: 0:00:00\n"
     ]
    },
    {
     "name": "stderr",
     "output_type": "stream",
     "text": [
      "10:39:08 - mcmc.calculators | INFO: None\n",
      "10:39:08 - mcmc.calculators | INFO: None\n",
      "10:39:08 - mcmc.calculators | INFO: None\n",
      "10:39:08 - mcmc.calculators | INFO: None\n",
      "10:39:08 - mcmc.calculators | INFO: None\n",
      "10:39:08 - mcmc.calculators | INFO: None\n",
      "10:39:08 - mcmc.calculators | INFO: None\n",
      "10:39:08 - mcmc.calculators | INFO: None\n",
      "10:39:08 - mcmc.calculators | INFO: None\n",
      "10:39:08 - mcmc.calculators | INFO: None\n",
      "10:39:08 - mcmc.calculators | INFO: None\n",
      "10:39:08 - mcmc.calculators | INFO: None\n",
      "10:39:08 - mcmc.calculators | INFO: None\n",
      "10:39:08 - mcmc.calculators | INFO: None\n",
      "10:39:08 - mcmc.calculators | INFO: None\n"
     ]
    },
    {
     "name": "stdout",
     "output_type": "stream",
     "text": [
      "Total wall time: 0:00:00\n",
      "Total wall time: 0:00:00\n",
      "Total wall time: 0:00:00\n",
      "Total wall time: 0:00:00\n",
      "Total wall time: 0:00:00\n",
      "Total wall time: 0:00:00\n",
      "Total wall time: 0:00:00\n",
      "Total wall time: 0:00:00\n",
      "Total wall time: 0:00:00\n",
      "Total wall time: 0:00:00\n",
      "Total wall time: 0:00:00\n",
      "Total wall time: 0:00:00\n",
      "Total wall time: 0:00:00\n",
      "Total wall time: 0:00:00\n",
      "Total wall time: 0:00:00\n"
     ]
    },
    {
     "name": "stderr",
     "output_type": "stream",
     "text": [
      "10:39:08 - mcmc.calculators | INFO: None\n",
      "10:39:08 - mcmc.calculators | INFO: None\n",
      "10:39:08 - mcmc.calculators | INFO: None\n",
      "10:39:08 - mcmc.calculators | INFO: None\n",
      "10:39:08 - mcmc.calculators | INFO: None\n",
      "10:39:08 - mcmc.calculators | INFO: None\n",
      "10:39:08 - mcmc.calculators | INFO: None\n",
      "10:39:08 - mcmc.calculators | INFO: None\n",
      "10:39:08 - mcmc.calculators | INFO: None\n",
      "10:39:08 - mcmc.calculators | INFO: None\n",
      "10:39:08 - mcmc.calculators | INFO: None\n"
     ]
    },
    {
     "name": "stdout",
     "output_type": "stream",
     "text": [
      "Total wall time: 0:00:00\n",
      "Total wall time: 0:00:00\n",
      "Total wall time: 0:00:00\n",
      "Total wall time: 0:00:00\n",
      "Total wall time: 0:00:00\n",
      "Total wall time: 0:00:00\n",
      "Total wall time: 0:00:00\n",
      "Total wall time: 0:00:00\n",
      "Total wall time: 0:00:00\n",
      "Total wall time: 0:00:00\n",
      "Total wall time: 0:00:00\n"
     ]
    },
    {
     "name": "stderr",
     "output_type": "stream",
     "text": [
      "10:39:08 - mcmc.calculators | INFO: None\n",
      "10:39:08 - mcmc.calculators | INFO: None\n",
      "10:39:08 - mcmc.calculators | INFO: None\n",
      "10:39:08 - mcmc.calculators | INFO: None\n",
      "10:39:08 - mcmc.calculators | INFO: None\n",
      "10:39:08 - mcmc.calculators | INFO: None\n",
      "10:39:08 - mcmc.calculators | INFO: None\n",
      "10:39:08 - mcmc.calculators | INFO: None\n",
      "10:39:08 - mcmc.calculators | INFO: None\n",
      "10:39:08 - mcmc.calculators | INFO: None\n",
      "10:39:08 - mcmc.calculators | INFO: None\n",
      "10:39:08 - mcmc.calculators | INFO: None\n",
      "10:39:08 - mcmc.calculators | INFO: None\n"
     ]
    },
    {
     "name": "stdout",
     "output_type": "stream",
     "text": [
      "Total wall time: 0:00:00\n",
      "Total wall time: 0:00:00\n",
      "Total wall time: 0:00:00\n",
      "Total wall time: 0:00:00\n",
      "Total wall time: 0:00:00\n",
      "Total wall time: 0:00:00\n",
      "Total wall time: 0:00:00\n",
      "Total wall time: 0:00:00\n",
      "Total wall time: 0:00:00\n",
      "Total wall time: 0:00:00\n",
      "Total wall time: 0:00:00\n",
      "Total wall time: 0:00:00\n",
      "Total wall time: 0:00:00\n"
     ]
    },
    {
     "name": "stderr",
     "output_type": "stream",
     "text": [
      "10:39:08 - mcmc.calculators | INFO: None\n",
      "10:39:08 - mcmc.calculators | INFO: None\n",
      "10:39:08 - mcmc.calculators | INFO: None\n",
      "10:39:08 - mcmc.calculators | INFO: None\n",
      "10:39:08 - mcmc.calculators | INFO: None\n",
      "10:39:08 - mcmc.calculators | INFO: None\n",
      "10:39:08 - mcmc.calculators | INFO: None\n",
      "10:39:08 - mcmc.calculators | INFO: None\n",
      "10:39:08 - mcmc.calculators | INFO: None\n",
      "10:39:08 - mcmc.calculators | INFO: None\n",
      "10:39:08 - mcmc.calculators | INFO: None\n",
      "10:39:08 - mcmc.calculators | INFO: None\n",
      "10:39:08 - mcmc.calculators | INFO: None\n",
      "10:39:08 - mcmc.calculators | INFO: None\n"
     ]
    },
    {
     "name": "stdout",
     "output_type": "stream",
     "text": [
      "Total wall time: 0:00:00\n",
      "Total wall time: 0:00:00\n",
      "Total wall time: 0:00:00\n",
      "Total wall time: 0:00:00\n",
      "Total wall time: 0:00:00\n",
      "Total wall time: 0:00:00\n",
      "Total wall time: 0:00:00\n",
      "Total wall time: 0:00:00\n",
      "Total wall time: 0:00:00\n",
      "Total wall time: 0:00:00\n",
      "Total wall time: 0:00:00\n",
      "Total wall time: 0:00:00\n",
      "Total wall time: 0:00:00\n",
      "Total wall time: 0:00:00\n"
     ]
    },
    {
     "name": "stderr",
     "output_type": "stream",
     "text": [
      "10:39:08 - mcmc.calculators | INFO: None\n",
      "10:39:08 - mcmc.calculators | INFO: None\n",
      "10:39:08 - mcmc.calculators | INFO: None\n",
      "10:39:09 - mcmc.calculators | INFO: None\n",
      "10:39:09 - mcmc.calculators | INFO: None\n",
      "10:39:09 - mcmc.calculators | INFO: None\n",
      "10:39:09 - mcmc.calculators | INFO: None\n",
      "10:39:09 - mcmc.calculators | INFO: None\n",
      "10:39:09 - mcmc.calculators | INFO: None\n",
      "10:39:09 - mcmc.calculators | INFO: None\n",
      "10:39:09 - mcmc.calculators | INFO: None\n",
      "10:39:09 - mcmc.calculators | INFO: None\n",
      "10:39:09 - mcmc.calculators | INFO: None\n"
     ]
    },
    {
     "name": "stdout",
     "output_type": "stream",
     "text": [
      "Total wall time: 0:00:00\n",
      "Total wall time: 0:00:00\n",
      "Total wall time: 0:00:00\n",
      "Total wall time: 0:00:00\n",
      "Total wall time: 0:00:00\n",
      "Total wall time: 0:00:00\n",
      "Total wall time: 0:00:00\n",
      "Total wall time: 0:00:00\n",
      "Total wall time: 0:00:00\n",
      "Total wall time: 0:00:00\n",
      "Total wall time: 0:00:00\n",
      "Total wall time: 0:00:00\n",
      "Total wall time: 0:00:00\n"
     ]
    },
    {
     "name": "stderr",
     "output_type": "stream",
     "text": [
      "10:39:09 - mcmc.calculators | INFO: None\n",
      "10:39:09 - mcmc.calculators | INFO: None\n",
      "10:39:09 - mcmc.calculators | INFO: None\n",
      "10:39:09 - mcmc.calculators | INFO: None\n",
      "10:39:09 - mcmc.calculators | INFO: None\n",
      "10:39:09 - mcmc.calculators | INFO: None\n",
      "10:39:09 - mcmc.calculators | INFO: None\n",
      "10:39:09 - mcmc.calculators | INFO: None\n",
      "10:39:09 - mcmc.calculators | INFO: None\n",
      "10:39:09 - mcmc.calculators | INFO: None\n",
      "10:39:09 - mcmc.calculators | INFO: None\n",
      "10:39:09 - mcmc.calculators | INFO: None\n",
      "10:39:09 - mcmc.calculators | INFO: None\n",
      "10:39:09 - mcmc.calculators | INFO: None\n"
     ]
    },
    {
     "name": "stdout",
     "output_type": "stream",
     "text": [
      "Total wall time: 0:00:00\n",
      "Total wall time: 0:00:00\n",
      "Total wall time: 0:00:00\n",
      "Total wall time: 0:00:00\n",
      "Total wall time: 0:00:00\n",
      "Total wall time: 0:00:00\n",
      "Total wall time: 0:00:00\n",
      "Total wall time: 0:00:00\n",
      "Total wall time: 0:00:00\n",
      "Total wall time: 0:00:00\n",
      "Total wall time: 0:00:00\n",
      "Total wall time: 0:00:00\n",
      "Total wall time: 0:00:00\n",
      "Total wall time: 0:00:00\n"
     ]
    },
    {
     "name": "stderr",
     "output_type": "stream",
     "text": [
      "10:39:09 - mcmc.calculators | INFO: None\n",
      "10:39:09 - mcmc.calculators | INFO: None\n",
      "10:39:09 - mcmc.calculators | INFO: None\n",
      "10:39:09 - mcmc.calculators | INFO: None\n",
      "10:39:09 - mcmc.calculators | INFO: None\n",
      "10:39:09 - mcmc.calculators | INFO: None\n",
      "10:39:09 - mcmc.calculators | INFO: None\n",
      "10:39:09 - mcmc.calculators | INFO: None\n",
      "10:39:09 - mcmc.calculators | INFO: None\n",
      "10:39:09 - mcmc.calculators | INFO: None\n",
      "10:39:09 - mcmc.calculators | INFO: None\n",
      "10:39:09 - mcmc.calculators | INFO: None\n",
      "10:39:09 - mcmc.calculators | INFO: None\n",
      "10:39:09 - mcmc.calculators | INFO: None\n",
      "10:39:09 - mcmc.calculators | INFO: None\n",
      "10:39:09 - mcmc.calculators | INFO: None\n"
     ]
    },
    {
     "name": "stdout",
     "output_type": "stream",
     "text": [
      "Total wall time: 0:00:00\n",
      "Total wall time: 0:00:00\n",
      "Total wall time: 0:00:00\n",
      "Total wall time: 0:00:00\n",
      "Total wall time: 0:00:00\n",
      "Total wall time: 0:00:00\n",
      "Total wall time: 0:00:00\n",
      "Total wall time: 0:00:00\n",
      "Total wall time: 0:00:00\n",
      "Total wall time: 0:00:00\n",
      "Total wall time: 0:00:00\n",
      "Total wall time: 0:00:00\n",
      "Total wall time: 0:00:00\n",
      "Total wall time: 0:00:00\n",
      "Total wall time: 0:00:00\n",
      "Total wall time: 0:00:00\n"
     ]
    },
    {
     "name": "stderr",
     "output_type": "stream",
     "text": [
      "10:39:09 - mcmc.calculators | INFO: None\n",
      "10:39:09 - mcmc.calculators | INFO: None\n",
      "10:39:09 - mcmc.calculators | INFO: None\n",
      "10:39:09 - mcmc.calculators | INFO: None\n",
      "10:39:09 - mcmc.calculators | INFO: None\n",
      "10:39:09 - mcmc.calculators | INFO: None\n",
      "10:39:09 - mcmc.calculators | INFO: None\n",
      "10:39:09 - mcmc.calculators | INFO: None\n",
      "10:39:09 - mcmc.calculators | INFO: None\n",
      "10:39:09 - mcmc.calculators | INFO: None\n",
      "10:39:09 - mcmc.calculators | INFO: None\n",
      "10:39:09 - mcmc.calculators | INFO: None\n",
      "10:39:09 - mcmc.calculators | INFO: None\n",
      "10:39:09 - mcmc.calculators | INFO: None\n"
     ]
    },
    {
     "name": "stdout",
     "output_type": "stream",
     "text": [
      "Total wall time: 0:00:00\n",
      "Total wall time: 0:00:00\n",
      "Total wall time: 0:00:00\n",
      "Total wall time: 0:00:00\n",
      "Total wall time: 0:00:00\n",
      "Total wall time: 0:00:00\n",
      "Total wall time: 0:00:00\n",
      "Total wall time: 0:00:00\n",
      "Total wall time: 0:00:00\n",
      "Total wall time: 0:00:00\n",
      "Total wall time: 0:00:00\n",
      "Total wall time: 0:00:00\n",
      "Total wall time: 0:00:00\n",
      "Total wall time: 0:00:00\n"
     ]
    },
    {
     "name": "stderr",
     "output_type": "stream",
     "text": [
      "10:39:09 - mcmc.calculators | INFO: None\n",
      "10:39:09 - mcmc.calculators | INFO: None\n",
      "10:39:09 - mcmc.calculators | INFO: None\n",
      "10:39:09 - mcmc.calculators | INFO: None\n",
      "10:39:09 - mcmc.calculators | INFO: None\n",
      "10:39:09 - mcmc.calculators | INFO: None\n",
      "10:39:09 - mcmc.calculators | INFO: None\n",
      "10:39:09 - mcmc.calculators | INFO: None\n",
      "10:39:09 - mcmc.calculators | INFO: None\n",
      "10:39:09 - mcmc.calculators | INFO: None\n",
      "10:39:09 - mcmc.calculators | INFO: None\n",
      "10:39:09 - mcmc.calculators | INFO: None\n",
      "10:39:09 - mcmc.calculators | INFO: None\n",
      "10:39:09 - mcmc.calculators | INFO: None\n"
     ]
    },
    {
     "name": "stdout",
     "output_type": "stream",
     "text": [
      "Total wall time: 0:00:00\n",
      "Total wall time: 0:00:00\n",
      "Total wall time: 0:00:00\n",
      "Total wall time: 0:00:00\n",
      "Total wall time: 0:00:00\n",
      "Total wall time: 0:00:00\n",
      "Total wall time: 0:00:00\n",
      "Total wall time: 0:00:00\n",
      "Total wall time: 0:00:00\n",
      "Total wall time: 0:00:00\n",
      "Total wall time: 0:00:00\n",
      "Total wall time: 0:00:00\n",
      "Total wall time: 0:00:00\n",
      "Total wall time: 0:00:00\n"
     ]
    },
    {
     "name": "stderr",
     "output_type": "stream",
     "text": [
      "10:39:10 - mcmc.calculators | INFO: None\n",
      "10:39:10 - mcmc.calculators | INFO: None\n",
      "10:39:10 - mcmc.calculators | INFO: None\n",
      "10:39:10 - mcmc.calculators | INFO: None\n",
      "10:39:10 - mcmc.calculators | INFO: None\n",
      "10:39:10 - mcmc.calculators | INFO: None\n",
      "10:39:10 - mcmc.calculators | INFO: None\n",
      "10:39:10 - mcmc.calculators | INFO: None\n",
      "10:39:10 - mcmc.calculators | INFO: None\n",
      "10:39:10 - mcmc.calculators | INFO: None\n",
      "10:39:10 - mcmc.calculators | INFO: None\n",
      "10:39:10 - mcmc.calculators | INFO: None\n",
      "10:39:10 - mcmc.calculators | INFO: None\n",
      "10:39:10 - mcmc.calculators | INFO: None\n"
     ]
    },
    {
     "name": "stdout",
     "output_type": "stream",
     "text": [
      "Total wall time: 0:00:00\n",
      "Total wall time: 0:00:00\n",
      "Total wall time: 0:00:00\n",
      "Total wall time: 0:00:00\n",
      "Total wall time: 0:00:00\n",
      "Total wall time: 0:00:00\n",
      "Total wall time: 0:00:00\n",
      "Total wall time: 0:00:00\n",
      "Total wall time: 0:00:00\n",
      "Total wall time: 0:00:00\n",
      "Total wall time: 0:00:00\n",
      "Total wall time: 0:00:00\n",
      "Total wall time: 0:00:00\n",
      "Total wall time: 0:00:00\n"
     ]
    },
    {
     "name": "stderr",
     "output_type": "stream",
     "text": [
      "10:39:10 - mcmc.calculators | INFO: None\n",
      "10:39:10 - mcmc.calculators | INFO: None\n",
      "10:39:10 - mcmc.calculators | INFO: None\n",
      "10:39:10 - mcmc.calculators | INFO: None\n",
      "10:39:10 - mcmc.calculators | INFO: None\n",
      "10:39:10 - mcmc.calculators | INFO: None\n",
      "10:39:10 - mcmc.calculators | INFO: None\n",
      "10:39:10 - mcmc.calculators | INFO: None\n",
      "10:39:10 - mcmc.calculators | INFO: None\n",
      "10:39:10 - mcmc.calculators | INFO: None\n",
      "10:39:10 - mcmc.calculators | INFO: None\n"
     ]
    },
    {
     "name": "stdout",
     "output_type": "stream",
     "text": [
      "Total wall time: 0:00:00\n",
      "Total wall time: 0:00:00\n",
      "Total wall time: 0:00:00\n",
      "Total wall time: 0:00:00\n",
      "Total wall time: 0:00:00\n",
      "Total wall time: 0:00:00\n",
      "Total wall time: 0:00:00\n",
      "Total wall time: 0:00:00\n",
      "Total wall time: 0:00:00\n",
      "Total wall time: 0:00:00\n",
      "Total wall time: 0:00:00\n"
     ]
    },
    {
     "name": "stderr",
     "output_type": "stream",
     "text": [
      "10:39:10 - mcmc.calculators | INFO: None\n",
      "10:39:10 - mcmc.calculators | INFO: None\n",
      "10:39:10 - mcmc.calculators | INFO: None\n",
      "10:39:10 - mcmc.calculators | INFO: None\n",
      "10:39:10 - mcmc.calculators | INFO: None\n",
      "10:39:10 - mcmc.calculators | INFO: None\n",
      "10:39:10 - mcmc.calculators | INFO: None\n",
      "10:39:10 - mcmc.calculators | INFO: None\n",
      "10:39:10 - mcmc.calculators | INFO: None\n",
      "10:39:10 - mcmc.calculators | INFO: None\n",
      "10:39:10 - mcmc.calculators | INFO: None\n",
      "10:39:10 - mcmc.calculators | INFO: None\n",
      "10:39:10 - mcmc.calculators | INFO: None\n",
      "10:39:10 - mcmc.calculators | INFO: None\n"
     ]
    },
    {
     "name": "stdout",
     "output_type": "stream",
     "text": [
      "Total wall time: 0:00:00\n",
      "Total wall time: 0:00:00\n",
      "Total wall time: 0:00:00\n",
      "Total wall time: 0:00:00\n",
      "Total wall time: 0:00:00\n",
      "Total wall time: 0:00:00\n",
      "Total wall time: 0:00:00\n",
      "Total wall time: 0:00:00\n",
      "Total wall time: 0:00:00\n",
      "Total wall time: 0:00:00\n",
      "Total wall time: 0:00:00\n",
      "Total wall time: 0:00:00\n",
      "Total wall time: 0:00:00\n",
      "Total wall time: 0:00:00\n"
     ]
    },
    {
     "name": "stderr",
     "output_type": "stream",
     "text": [
      "10:39:10 - mcmc.calculators | INFO: None\n",
      "10:39:10 - mcmc.calculators | INFO: None\n",
      "10:39:10 - mcmc.calculators | INFO: None\n",
      "10:39:10 - mcmc.calculators | INFO: None\n",
      "10:39:10 - mcmc.calculators | INFO: None\n",
      "10:39:10 - mcmc.calculators | INFO: None\n",
      "10:39:10 - mcmc.calculators | INFO: None\n",
      "10:39:10 - mcmc.calculators | INFO: None\n",
      "10:39:10 - mcmc.calculators | INFO: None\n",
      "10:39:10 - mcmc.calculators | INFO: None\n",
      "10:39:10 - mcmc.calculators | INFO: None\n",
      "10:39:10 - mcmc.calculators | INFO: None\n",
      "10:39:10 - mcmc.calculators | INFO: None\n",
      "10:39:10 - mcmc.calculators | INFO: None\n",
      "10:39:10 - mcmc.calculators | INFO: None\n"
     ]
    },
    {
     "name": "stdout",
     "output_type": "stream",
     "text": [
      "Total wall time: 0:00:00\n",
      "Total wall time: 0:00:00\n",
      "Total wall time: 0:00:00\n",
      "Total wall time: 0:00:00\n",
      "Total wall time: 0:00:00\n",
      "Total wall time: 0:00:00\n",
      "Total wall time: 0:00:00\n",
      "Total wall time: 0:00:00\n",
      "Total wall time: 0:00:00\n",
      "Total wall time: 0:00:00\n",
      "Total wall time: 0:00:00\n",
      "Total wall time: 0:00:00\n",
      "Total wall time: 0:00:00\n",
      "Total wall time: 0:00:00\n",
      "Total wall time: 0:00:00\n"
     ]
    },
    {
     "name": "stderr",
     "output_type": "stream",
     "text": [
      "10:39:10 - mcmc.calculators | INFO: None\n",
      "10:39:10 - mcmc.calculators | INFO: None\n",
      "10:39:10 - mcmc.calculators | INFO: None\n",
      "10:39:10 - mcmc.calculators | INFO: None\n",
      "10:39:10 - mcmc.calculators | INFO: None\n",
      "10:39:10 - mcmc.calculators | INFO: None\n",
      "10:39:10 - mcmc.mcmc | INFO: At iter 312\n",
      "10:39:10 - mcmc.calculators | INFO: None\n",
      "10:39:10 - mcmc.calculators | INFO: None\n",
      "10:39:10 - mcmc.system | INFO: Optimized structure has surface energy = -178.715\n",
      "10:39:10 - mcmc.mcmc | INFO: In sweep 4 out of 10\n",
      "10:39:11 - mcmc.calculators | INFO: None\n",
      "10:39:11 - mcmc.calculators | INFO: None\n",
      "10:39:11 - mcmc.calculators | INFO: None\n",
      "10:39:11 - mcmc.calculators | INFO: None\n",
      "10:39:11 - mcmc.calculators | INFO: None\n"
     ]
    },
    {
     "name": "stdout",
     "output_type": "stream",
     "text": [
      "Total wall time: 0:00:00\n",
      "Total wall time: 0:00:00\n",
      "Total wall time: 0:00:00\n",
      "Total wall time: 0:00:00\n",
      "Total wall time: 0:00:00\n",
      "Total wall time: 0:00:00\n",
      "Total wall time: 0:00:00\n",
      "Total wall time: 0:00:00\n",
      "Total wall time: 0:00:00\n",
      "Total wall time: 0:00:00\n",
      "Total wall time: 0:00:00\n",
      "Total wall time: 0:00:00\n",
      "Total wall time: 0:00:00\n"
     ]
    },
    {
     "name": "stderr",
     "output_type": "stream",
     "text": [
      "10:39:11 - mcmc.calculators | INFO: None\n",
      "10:39:11 - mcmc.calculators | INFO: None\n",
      "10:39:11 - mcmc.calculators | INFO: None\n",
      "10:39:11 - mcmc.calculators | INFO: None\n",
      "10:39:11 - mcmc.calculators | INFO: None\n",
      "10:39:11 - mcmc.calculators | INFO: None\n",
      "10:39:11 - mcmc.calculators | INFO: None\n",
      "10:39:11 - mcmc.calculators | INFO: None\n",
      "10:39:11 - mcmc.calculators | INFO: None\n",
      "10:39:11 - mcmc.calculators | INFO: None\n",
      "10:39:11 - mcmc.calculators | INFO: None\n",
      "10:39:11 - mcmc.calculators | INFO: None\n",
      "10:39:11 - mcmc.calculators | INFO: None\n"
     ]
    },
    {
     "name": "stdout",
     "output_type": "stream",
     "text": [
      "Total wall time: 0:00:00\n",
      "Total wall time: 0:00:00\n",
      "Total wall time: 0:00:00\n",
      "Total wall time: 0:00:00\n",
      "Total wall time: 0:00:00\n",
      "Total wall time: 0:00:00\n",
      "Total wall time: 0:00:00\n",
      "Total wall time: 0:00:00\n",
      "Total wall time: 0:00:00\n",
      "Total wall time: 0:00:00\n",
      "Total wall time: 0:00:00\n",
      "Total wall time: 0:00:00\n",
      "Total wall time: 0:00:00\n"
     ]
    },
    {
     "name": "stderr",
     "output_type": "stream",
     "text": [
      "10:39:11 - mcmc.calculators | INFO: None\n",
      "10:39:11 - mcmc.calculators | INFO: None\n",
      "10:39:11 - mcmc.calculators | INFO: None\n",
      "10:39:11 - mcmc.calculators | INFO: None\n",
      "10:39:11 - mcmc.calculators | INFO: None\n",
      "10:39:11 - mcmc.calculators | INFO: None\n",
      "10:39:11 - mcmc.calculators | INFO: None\n",
      "10:39:11 - mcmc.calculators | INFO: None\n",
      "10:39:11 - mcmc.calculators | INFO: None\n",
      "10:39:11 - mcmc.calculators | INFO: None\n",
      "10:39:11 - mcmc.calculators | INFO: None\n",
      "10:39:11 - mcmc.calculators | INFO: None\n"
     ]
    },
    {
     "name": "stdout",
     "output_type": "stream",
     "text": [
      "Total wall time: 0:00:00\n",
      "Total wall time: 0:00:00\n",
      "Total wall time: 0:00:00\n",
      "Total wall time: 0:00:00\n",
      "Total wall time: 0:00:00\n",
      "Total wall time: 0:00:00\n",
      "Total wall time: 0:00:00\n",
      "Total wall time: 0:00:00\n",
      "Total wall time: 0:00:00\n",
      "Total wall time: 0:00:00\n",
      "Total wall time: 0:00:00\n",
      "Total wall time: 0:00:00\n"
     ]
    },
    {
     "name": "stderr",
     "output_type": "stream",
     "text": [
      "10:39:11 - mcmc.calculators | INFO: None\n",
      "10:39:11 - mcmc.calculators | INFO: None\n",
      "10:39:11 - mcmc.calculators | INFO: None\n",
      "10:39:11 - mcmc.calculators | INFO: None\n",
      "10:39:11 - mcmc.calculators | INFO: None\n",
      "10:39:11 - mcmc.calculators | INFO: None\n",
      "10:39:11 - mcmc.calculators | INFO: None\n",
      "10:39:11 - mcmc.calculators | INFO: None\n",
      "10:39:11 - mcmc.calculators | INFO: None\n",
      "10:39:11 - mcmc.calculators | INFO: None\n",
      "10:39:11 - mcmc.calculators | INFO: None\n",
      "10:39:11 - mcmc.calculators | INFO: None\n",
      "10:39:11 - mcmc.calculators | INFO: None\n",
      "10:39:11 - mcmc.calculators | INFO: None\n"
     ]
    },
    {
     "name": "stdout",
     "output_type": "stream",
     "text": [
      "Total wall time: 0:00:00\n",
      "Total wall time: 0:00:00\n",
      "Total wall time: 0:00:00\n",
      "Total wall time: 0:00:00\n",
      "Total wall time: 0:00:00\n",
      "Total wall time: 0:00:00\n",
      "Total wall time: 0:00:00\n",
      "Total wall time: 0:00:00\n",
      "Total wall time: 0:00:00\n",
      "Total wall time: 0:00:00\n",
      "Total wall time: 0:00:00\n",
      "Total wall time: 0:00:00\n",
      "Total wall time: 0:00:00\n",
      "Total wall time: 0:00:00\n"
     ]
    },
    {
     "name": "stderr",
     "output_type": "stream",
     "text": [
      "10:39:11 - mcmc.calculators | INFO: None\n",
      "10:39:11 - mcmc.calculators | INFO: None\n",
      "10:39:11 - mcmc.calculators | INFO: None\n",
      "10:39:11 - mcmc.calculators | INFO: None\n",
      "10:39:11 - mcmc.calculators | INFO: None\n",
      "10:39:11 - mcmc.calculators | INFO: None\n",
      "10:39:11 - mcmc.calculators | INFO: None\n",
      "10:39:11 - mcmc.calculators | INFO: None\n",
      "10:39:11 - mcmc.calculators | INFO: None\n",
      "10:39:11 - mcmc.calculators | INFO: None\n",
      "10:39:11 - mcmc.calculators | INFO: None\n",
      "10:39:11 - mcmc.calculators | INFO: None\n",
      "10:39:11 - mcmc.calculators | INFO: None\n"
     ]
    },
    {
     "name": "stdout",
     "output_type": "stream",
     "text": [
      "Total wall time: 0:00:00\n",
      "Total wall time: 0:00:00\n",
      "Total wall time: 0:00:00\n",
      "Total wall time: 0:00:00\n",
      "Total wall time: 0:00:00\n",
      "Total wall time: 0:00:00\n",
      "Total wall time: 0:00:00\n",
      "Total wall time: 0:00:00\n",
      "Total wall time: 0:00:00\n",
      "Total wall time: 0:00:00\n",
      "Total wall time: 0:00:00\n",
      "Total wall time: 0:00:00\n",
      "Total wall time: 0:00:00\n"
     ]
    },
    {
     "name": "stderr",
     "output_type": "stream",
     "text": [
      "10:39:11 - mcmc.calculators | INFO: None\n",
      "10:39:11 - mcmc.calculators | INFO: None\n",
      "10:39:11 - mcmc.calculators | INFO: None\n",
      "10:39:11 - mcmc.calculators | INFO: None\n",
      "10:39:11 - mcmc.calculators | INFO: None\n",
      "10:39:12 - mcmc.calculators | INFO: None\n",
      "10:39:12 - mcmc.calculators | INFO: None\n",
      "10:39:12 - mcmc.calculators | INFO: None\n",
      "10:39:12 - mcmc.calculators | INFO: None\n",
      "10:39:12 - mcmc.calculators | INFO: None\n",
      "10:39:12 - mcmc.calculators | INFO: None\n",
      "10:39:12 - mcmc.calculators | INFO: None\n",
      "10:39:12 - mcmc.calculators | INFO: None\n",
      "10:39:12 - mcmc.calculators | INFO: None\n",
      "10:39:12 - mcmc.calculators | INFO: None\n"
     ]
    },
    {
     "name": "stdout",
     "output_type": "stream",
     "text": [
      "Total wall time: 0:00:00\n",
      "Total wall time: 0:00:00\n",
      "Total wall time: 0:00:00\n",
      "Total wall time: 0:00:00\n",
      "Total wall time: 0:00:00\n",
      "Total wall time: 0:00:00\n",
      "Total wall time: 0:00:00\n",
      "Total wall time: 0:00:00\n",
      "Total wall time: 0:00:00\n",
      "Total wall time: 0:00:00\n",
      "Total wall time: 0:00:00\n",
      "Total wall time: 0:00:00\n",
      "Total wall time: 0:00:00\n",
      "Total wall time: 0:00:00\n",
      "Total wall time: 0:00:00\n"
     ]
    },
    {
     "name": "stderr",
     "output_type": "stream",
     "text": [
      "10:39:12 - mcmc.calculators | INFO: None\n",
      "10:39:12 - mcmc.calculators | INFO: None\n",
      "10:39:12 - mcmc.calculators | INFO: None\n",
      "10:39:12 - mcmc.calculators | INFO: None\n",
      "10:39:12 - mcmc.calculators | INFO: None\n",
      "10:39:12 - mcmc.calculators | INFO: None\n",
      "10:39:12 - mcmc.calculators | INFO: None\n",
      "10:39:12 - mcmc.calculators | INFO: None\n",
      "10:39:12 - mcmc.calculators | INFO: None\n",
      "10:39:12 - mcmc.calculators | INFO: None\n",
      "10:39:12 - mcmc.calculators | INFO: None\n",
      "10:39:12 - mcmc.calculators | INFO: None\n",
      "10:39:12 - mcmc.calculators | INFO: None\n",
      "10:39:12 - mcmc.calculators | INFO: None\n"
     ]
    },
    {
     "name": "stdout",
     "output_type": "stream",
     "text": [
      "Total wall time: 0:00:00\n",
      "Total wall time: 0:00:00\n",
      "Total wall time: 0:00:00\n",
      "Total wall time: 0:00:00\n",
      "Total wall time: 0:00:00\n",
      "Total wall time: 0:00:00\n",
      "Total wall time: 0:00:00\n",
      "Total wall time: 0:00:00\n",
      "Total wall time: 0:00:00\n",
      "Total wall time: 0:00:00\n",
      "Total wall time: 0:00:00\n",
      "Total wall time: 0:00:00\n",
      "Total wall time: 0:00:00\n",
      "Total wall time: 0:00:00\n"
     ]
    },
    {
     "name": "stderr",
     "output_type": "stream",
     "text": [
      "10:39:12 - mcmc.calculators | INFO: None\n",
      "10:39:12 - mcmc.calculators | INFO: None\n",
      "10:39:12 - mcmc.calculators | INFO: None\n",
      "10:39:12 - mcmc.calculators | INFO: None\n",
      "10:39:12 - mcmc.calculators | INFO: None\n",
      "10:39:12 - mcmc.calculators | INFO: None\n",
      "10:39:12 - mcmc.calculators | INFO: None\n",
      "10:39:12 - mcmc.calculators | INFO: None\n",
      "10:39:12 - mcmc.calculators | INFO: None\n",
      "10:39:12 - mcmc.calculators | INFO: None\n",
      "10:39:12 - mcmc.calculators | INFO: None\n",
      "10:39:12 - mcmc.calculators | INFO: None\n",
      "10:39:12 - mcmc.calculators | INFO: None\n",
      "10:39:12 - mcmc.calculators | INFO: None\n"
     ]
    },
    {
     "name": "stdout",
     "output_type": "stream",
     "text": [
      "Total wall time: 0:00:00\n",
      "Total wall time: 0:00:00\n",
      "Total wall time: 0:00:00\n",
      "Total wall time: 0:00:00\n",
      "Total wall time: 0:00:00\n",
      "Total wall time: 0:00:00\n",
      "Total wall time: 0:00:00\n",
      "Total wall time: 0:00:00\n",
      "Total wall time: 0:00:00\n",
      "Total wall time: 0:00:00\n",
      "Total wall time: 0:00:00\n",
      "Total wall time: 0:00:00\n",
      "Total wall time: 0:00:00\n",
      "Total wall time: 0:00:00\n"
     ]
    },
    {
     "name": "stderr",
     "output_type": "stream",
     "text": [
      "10:39:12 - mcmc.calculators | INFO: None\n",
      "10:39:12 - mcmc.calculators | INFO: None\n",
      "10:39:12 - mcmc.calculators | INFO: None\n",
      "10:39:12 - mcmc.calculators | INFO: None\n",
      "10:39:12 - mcmc.calculators | INFO: None\n",
      "10:39:12 - mcmc.calculators | INFO: None\n",
      "10:39:12 - mcmc.calculators | INFO: None\n",
      "10:39:12 - mcmc.calculators | INFO: None\n",
      "10:39:12 - mcmc.calculators | INFO: None\n",
      "10:39:12 - mcmc.calculators | INFO: None\n",
      "10:39:12 - mcmc.calculators | INFO: None\n",
      "10:39:12 - mcmc.calculators | INFO: None\n",
      "10:39:12 - mcmc.calculators | INFO: None\n",
      "10:39:12 - mcmc.calculators | INFO: None\n"
     ]
    },
    {
     "name": "stdout",
     "output_type": "stream",
     "text": [
      "Total wall time: 0:00:00\n",
      "Total wall time: 0:00:00\n",
      "Total wall time: 0:00:00\n",
      "Total wall time: 0:00:00\n",
      "Total wall time: 0:00:00\n",
      "Total wall time: 0:00:00\n",
      "Total wall time: 0:00:00\n",
      "Total wall time: 0:00:00\n",
      "Total wall time: 0:00:00\n",
      "Total wall time: 0:00:00\n",
      "Total wall time: 0:00:00\n",
      "Total wall time: 0:00:00\n",
      "Total wall time: 0:00:00\n",
      "Total wall time: 0:00:00\n"
     ]
    },
    {
     "name": "stderr",
     "output_type": "stream",
     "text": [
      "10:39:12 - mcmc.calculators | INFO: None\n",
      "10:39:12 - mcmc.calculators | INFO: None\n",
      "10:39:12 - mcmc.calculators | INFO: None\n",
      "10:39:12 - mcmc.calculators | INFO: None\n",
      "10:39:12 - mcmc.calculators | INFO: None\n",
      "10:39:12 - mcmc.calculators | INFO: None\n",
      "10:39:12 - mcmc.calculators | INFO: None\n",
      "10:39:12 - mcmc.calculators | INFO: None\n",
      "10:39:12 - mcmc.calculators | INFO: None\n",
      "10:39:12 - mcmc.calculators | INFO: None\n",
      "10:39:12 - mcmc.calculators | INFO: None\n",
      "10:39:12 - mcmc.calculators | INFO: None\n",
      "10:39:12 - mcmc.calculators | INFO: None\n",
      "10:39:12 - mcmc.calculators | INFO: None\n"
     ]
    },
    {
     "name": "stdout",
     "output_type": "stream",
     "text": [
      "Total wall time: 0:00:00\n",
      "Total wall time: 0:00:00\n",
      "Total wall time: 0:00:00\n",
      "Total wall time: 0:00:00\n",
      "Total wall time: 0:00:00\n",
      "Total wall time: 0:00:00\n",
      "Total wall time: 0:00:00\n",
      "Total wall time: 0:00:00\n",
      "Total wall time: 0:00:00\n",
      "Total wall time: 0:00:00\n",
      "Total wall time: 0:00:00\n",
      "Total wall time: 0:00:00\n",
      "Total wall time: 0:00:00\n",
      "Total wall time: 0:00:00\n"
     ]
    },
    {
     "name": "stderr",
     "output_type": "stream",
     "text": [
      "10:39:12 - mcmc.calculators | INFO: None\n",
      "10:39:13 - mcmc.calculators | INFO: None\n",
      "10:39:13 - mcmc.calculators | INFO: None\n",
      "10:39:13 - mcmc.calculators | INFO: None\n",
      "10:39:13 - mcmc.calculators | INFO: None\n",
      "10:39:13 - mcmc.calculators | INFO: None\n",
      "10:39:13 - mcmc.calculators | INFO: None\n",
      "10:39:13 - mcmc.calculators | INFO: None\n",
      "10:39:13 - mcmc.calculators | INFO: None\n",
      "10:39:13 - mcmc.calculators | INFO: None\n",
      "10:39:13 - mcmc.calculators | INFO: None\n",
      "10:39:13 - mcmc.calculators | INFO: None\n",
      "10:39:13 - mcmc.calculators | INFO: None\n",
      "10:39:13 - mcmc.calculators | INFO: None\n"
     ]
    },
    {
     "name": "stdout",
     "output_type": "stream",
     "text": [
      "Total wall time: 0:00:00\n",
      "Total wall time: 0:00:00\n",
      "Total wall time: 0:00:00\n",
      "Total wall time: 0:00:00\n",
      "Total wall time: 0:00:00\n",
      "Total wall time: 0:00:00\n",
      "Total wall time: 0:00:00\n",
      "Total wall time: 0:00:00\n",
      "Total wall time: 0:00:00\n",
      "Total wall time: 0:00:00\n",
      "Total wall time: 0:00:00\n",
      "Total wall time: 0:00:00\n",
      "Total wall time: 0:00:00\n",
      "Total wall time: 0:00:00\n"
     ]
    },
    {
     "name": "stderr",
     "output_type": "stream",
     "text": [
      "10:39:13 - mcmc.calculators | INFO: None\n",
      "10:39:13 - mcmc.calculators | INFO: None\n",
      "10:39:13 - mcmc.calculators | INFO: None\n",
      "10:39:13 - mcmc.calculators | INFO: None\n",
      "10:39:13 - mcmc.calculators | INFO: None\n",
      "10:39:13 - mcmc.calculators | INFO: None\n",
      "10:39:13 - mcmc.calculators | INFO: None\n",
      "10:39:13 - mcmc.calculators | INFO: None\n",
      "10:39:13 - mcmc.calculators | INFO: None\n",
      "10:39:13 - mcmc.calculators | INFO: None\n",
      "10:39:13 - mcmc.calculators | INFO: None\n",
      "10:39:13 - mcmc.calculators | INFO: None\n",
      "10:39:13 - mcmc.calculators | INFO: None\n",
      "10:39:13 - mcmc.calculators | INFO: None\n"
     ]
    },
    {
     "name": "stdout",
     "output_type": "stream",
     "text": [
      "Total wall time: 0:00:00\n",
      "Total wall time: 0:00:00\n",
      "Total wall time: 0:00:00\n",
      "Total wall time: 0:00:00\n",
      "Total wall time: 0:00:00\n",
      "Total wall time: 0:00:00\n",
      "Total wall time: 0:00:00\n",
      "Total wall time: 0:00:00\n",
      "Total wall time: 0:00:00\n",
      "Total wall time: 0:00:00\n",
      "Total wall time: 0:00:00\n",
      "Total wall time: 0:00:00\n",
      "Total wall time: 0:00:00\n",
      "Total wall time: 0:00:00\n"
     ]
    },
    {
     "name": "stderr",
     "output_type": "stream",
     "text": [
      "10:39:13 - mcmc.calculators | INFO: None\n",
      "10:39:13 - mcmc.calculators | INFO: None\n",
      "10:39:13 - mcmc.calculators | INFO: None\n",
      "10:39:13 - mcmc.calculators | INFO: None\n",
      "10:39:13 - mcmc.calculators | INFO: None\n",
      "10:39:13 - mcmc.calculators | INFO: None\n",
      "10:39:13 - mcmc.calculators | INFO: None\n",
      "10:39:13 - mcmc.calculators | INFO: None\n",
      "10:39:13 - mcmc.calculators | INFO: None\n",
      "10:39:13 - mcmc.calculators | INFO: None\n",
      "10:39:13 - mcmc.calculators | INFO: None\n",
      "10:39:13 - mcmc.calculators | INFO: None\n",
      "10:39:13 - mcmc.calculators | INFO: None\n",
      "10:39:13 - mcmc.calculators | INFO: None\n",
      "10:39:13 - mcmc.calculators | INFO: None\n"
     ]
    },
    {
     "name": "stdout",
     "output_type": "stream",
     "text": [
      "Total wall time: 0:00:00\n",
      "Total wall time: 0:00:00\n",
      "Total wall time: 0:00:00\n",
      "Total wall time: 0:00:00\n",
      "Total wall time: 0:00:00\n",
      "Total wall time: 0:00:00\n",
      "Total wall time: 0:00:00\n",
      "Total wall time: 0:00:00\n",
      "Total wall time: 0:00:00\n",
      "Total wall time: 0:00:00\n",
      "Total wall time: 0:00:00\n",
      "Total wall time: 0:00:00\n",
      "Total wall time: 0:00:00\n",
      "Total wall time: 0:00:00\n",
      "Total wall time: 0:00:00\n"
     ]
    },
    {
     "name": "stderr",
     "output_type": "stream",
     "text": [
      "10:39:13 - mcmc.calculators | INFO: None\n",
      "10:39:13 - mcmc.calculators | INFO: None\n",
      "10:39:13 - mcmc.calculators | INFO: None\n",
      "10:39:13 - mcmc.calculators | INFO: None\n",
      "10:39:13 - mcmc.calculators | INFO: None\n",
      "10:39:13 - mcmc.calculators | INFO: None\n",
      "10:39:13 - mcmc.calculators | INFO: None\n",
      "10:39:13 - mcmc.calculators | INFO: None\n",
      "10:39:13 - mcmc.calculators | INFO: None\n",
      "10:39:13 - mcmc.calculators | INFO: None\n",
      "10:39:13 - mcmc.calculators | INFO: None\n",
      "10:39:13 - mcmc.calculators | INFO: None\n",
      "10:39:13 - mcmc.calculators | INFO: None\n",
      "10:39:13 - mcmc.calculators | INFO: None\n"
     ]
    },
    {
     "name": "stdout",
     "output_type": "stream",
     "text": [
      "Total wall time: 0:00:00\n",
      "Total wall time: 0:00:00\n",
      "Total wall time: 0:00:00\n",
      "Total wall time: 0:00:00\n",
      "Total wall time: 0:00:00\n",
      "Total wall time: 0:00:00\n",
      "Total wall time: 0:00:00\n",
      "Total wall time: 0:00:00\n",
      "Total wall time: 0:00:00\n",
      "Total wall time: 0:00:00\n",
      "Total wall time: 0:00:00\n",
      "Total wall time: 0:00:00\n",
      "Total wall time: 0:00:00\n"
     ]
    },
    {
     "name": "stderr",
     "output_type": "stream",
     "text": [
      "10:39:13 - mcmc.calculators | INFO: None\n",
      "10:39:13 - mcmc.calculators | INFO: None\n",
      "10:39:13 - mcmc.calculators | INFO: None\n",
      "10:39:13 - mcmc.calculators | INFO: None\n",
      "10:39:13 - mcmc.calculators | INFO: None\n",
      "10:39:13 - mcmc.calculators | INFO: None\n",
      "10:39:13 - mcmc.calculators | INFO: None\n",
      "10:39:13 - mcmc.calculators | INFO: None\n",
      "10:39:13 - mcmc.calculators | INFO: None\n",
      "10:39:13 - mcmc.calculators | INFO: None\n",
      "10:39:13 - mcmc.calculators | INFO: None\n",
      "10:39:14 - mcmc.calculators | INFO: None\n",
      "10:39:14 - mcmc.calculators | INFO: None\n",
      "10:39:14 - mcmc.calculators | INFO: None\n"
     ]
    },
    {
     "name": "stdout",
     "output_type": "stream",
     "text": [
      "Total wall time: 0:00:00\n",
      "Total wall time: 0:00:00\n",
      "Total wall time: 0:00:00\n",
      "Total wall time: 0:00:00\n",
      "Total wall time: 0:00:00\n",
      "Total wall time: 0:00:00\n",
      "Total wall time: 0:00:00\n",
      "Total wall time: 0:00:00\n",
      "Total wall time: 0:00:00\n",
      "Total wall time: 0:00:00\n",
      "Total wall time: 0:00:00\n",
      "Total wall time: 0:00:00\n",
      "Total wall time: 0:00:00\n",
      "Total wall time: 0:00:00\n",
      "Total wall time: 0:00:00\n"
     ]
    },
    {
     "name": "stderr",
     "output_type": "stream",
     "text": [
      "10:39:14 - mcmc.calculators | INFO: None\n",
      "10:39:14 - mcmc.calculators | INFO: None\n",
      "10:39:14 - mcmc.calculators | INFO: None\n",
      "10:39:14 - mcmc.calculators | INFO: None\n",
      "10:39:14 - mcmc.calculators | INFO: None\n",
      "10:39:14 - mcmc.calculators | INFO: None\n",
      "10:39:14 - mcmc.calculators | INFO: None\n",
      "10:39:14 - mcmc.mcmc | INFO: At iter 416\n",
      "10:39:14 - mcmc.calculators | INFO: None\n",
      "10:39:14 - mcmc.calculators | INFO: None\n",
      "10:39:14 - mcmc.calculators | INFO: None\n",
      "10:39:14 - mcmc.system | INFO: Optimized structure has surface energy = -177.628\n",
      "10:39:14 - mcmc.mcmc | INFO: In sweep 5 out of 10\n",
      "10:39:14 - mcmc.calculators | INFO: None\n",
      "10:39:14 - mcmc.calculators | INFO: None\n"
     ]
    },
    {
     "name": "stdout",
     "output_type": "stream",
     "text": [
      "Total wall time: 0:00:00\n",
      "Total wall time: 0:00:00\n",
      "Total wall time: 0:00:00\n",
      "Total wall time: 0:00:00\n",
      "Total wall time: 0:00:00\n",
      "Total wall time: 0:00:00\n",
      "Total wall time: 0:00:00\n",
      "Total wall time: 0:00:00\n",
      "Total wall time: 0:00:00\n",
      "Total wall time: 0:00:00\n",
      "Total wall time: 0:00:00\n",
      "Total wall time: 0:00:00\n"
     ]
    },
    {
     "name": "stderr",
     "output_type": "stream",
     "text": [
      "10:39:14 - mcmc.calculators | INFO: None\n",
      "10:39:14 - mcmc.calculators | INFO: None\n",
      "10:39:14 - mcmc.calculators | INFO: None\n",
      "10:39:14 - mcmc.calculators | INFO: None\n",
      "10:39:14 - mcmc.calculators | INFO: None\n",
      "10:39:14 - mcmc.calculators | INFO: None\n",
      "10:39:14 - mcmc.calculators | INFO: None\n",
      "10:39:14 - mcmc.calculators | INFO: None\n",
      "10:39:14 - mcmc.calculators | INFO: None\n",
      "10:39:14 - mcmc.calculators | INFO: None\n",
      "10:39:14 - mcmc.calculators | INFO: None\n",
      "10:39:14 - mcmc.calculators | INFO: None\n",
      "10:39:14 - mcmc.calculators | INFO: None\n",
      "10:39:14 - mcmc.calculators | INFO: None\n"
     ]
    },
    {
     "name": "stdout",
     "output_type": "stream",
     "text": [
      "Total wall time: 0:00:00\n",
      "Total wall time: 0:00:00\n",
      "Total wall time: 0:00:00\n",
      "Total wall time: 0:00:00\n",
      "Total wall time: 0:00:00\n",
      "Total wall time: 0:00:00\n",
      "Total wall time: 0:00:00\n",
      "Total wall time: 0:00:00\n",
      "Total wall time: 0:00:00\n",
      "Total wall time: 0:00:00\n",
      "Total wall time: 0:00:00\n",
      "Total wall time: 0:00:00\n",
      "Total wall time: 0:00:00\n",
      "Total wall time: 0:00:00\n"
     ]
    },
    {
     "name": "stderr",
     "output_type": "stream",
     "text": [
      "10:39:14 - mcmc.calculators | INFO: None\n",
      "10:39:14 - mcmc.calculators | INFO: None\n",
      "10:39:14 - mcmc.calculators | INFO: None\n",
      "10:39:14 - mcmc.calculators | INFO: None\n",
      "10:39:14 - mcmc.calculators | INFO: None\n",
      "10:39:14 - mcmc.calculators | INFO: None\n",
      "10:39:14 - mcmc.calculators | INFO: None\n",
      "10:39:14 - mcmc.calculators | INFO: None\n",
      "10:39:14 - mcmc.calculators | INFO: None\n",
      "10:39:14 - mcmc.calculators | INFO: None\n",
      "10:39:14 - mcmc.calculators | INFO: None\n",
      "10:39:14 - mcmc.calculators | INFO: None\n"
     ]
    },
    {
     "name": "stdout",
     "output_type": "stream",
     "text": [
      "Total wall time: 0:00:00\n",
      "Total wall time: 0:00:00\n",
      "Total wall time: 0:00:00\n",
      "Total wall time: 0:00:00\n",
      "Total wall time: 0:00:00\n",
      "Total wall time: 0:00:00\n",
      "Total wall time: 0:00:00\n",
      "Total wall time: 0:00:00\n",
      "Total wall time: 0:00:00\n",
      "Total wall time: 0:00:00\n",
      "Total wall time: 0:00:00\n",
      "Total wall time: 0:00:00\n"
     ]
    },
    {
     "name": "stderr",
     "output_type": "stream",
     "text": [
      "10:39:14 - mcmc.calculators | INFO: None\n",
      "10:39:14 - mcmc.calculators | INFO: None\n",
      "10:39:14 - mcmc.calculators | INFO: None\n",
      "10:39:14 - mcmc.calculators | INFO: None\n",
      "10:39:14 - mcmc.calculators | INFO: None\n",
      "10:39:14 - mcmc.calculators | INFO: None\n",
      "10:39:14 - mcmc.calculators | INFO: None\n",
      "10:39:14 - mcmc.calculators | INFO: None\n",
      "10:39:14 - mcmc.calculators | INFO: None\n",
      "10:39:14 - mcmc.calculators | INFO: None\n",
      "10:39:14 - mcmc.calculators | INFO: None\n",
      "10:39:14 - mcmc.calculators | INFO: None\n",
      "10:39:14 - mcmc.calculators | INFO: None\n",
      "10:39:14 - mcmc.calculators | INFO: None\n",
      "10:39:14 - mcmc.calculators | INFO: None\n",
      "10:39:14 - mcmc.calculators | INFO: None\n"
     ]
    },
    {
     "name": "stdout",
     "output_type": "stream",
     "text": [
      "Total wall time: 0:00:00\n",
      "Total wall time: 0:00:00\n",
      "Total wall time: 0:00:00\n",
      "Total wall time: 0:00:00\n",
      "Total wall time: 0:00:00\n",
      "Total wall time: 0:00:00\n",
      "Total wall time: 0:00:00\n",
      "Total wall time: 0:00:00\n",
      "Total wall time: 0:00:00\n",
      "Total wall time: 0:00:00\n",
      "Total wall time: 0:00:00\n",
      "Total wall time: 0:00:00\n",
      "Total wall time: 0:00:00\n",
      "Total wall time: 0:00:00\n",
      "Total wall time: 0:00:00\n",
      "Total wall time: 0:00:00\n"
     ]
    },
    {
     "name": "stderr",
     "output_type": "stream",
     "text": [
      "10:39:14 - mcmc.calculators | INFO: None\n",
      "10:39:14 - mcmc.calculators | INFO: None\n",
      "10:39:14 - mcmc.calculators | INFO: None\n",
      "10:39:14 - mcmc.calculators | INFO: None\n",
      "10:39:14 - mcmc.calculators | INFO: None\n",
      "10:39:15 - mcmc.calculators | INFO: None\n",
      "10:39:15 - mcmc.calculators | INFO: None\n",
      "10:39:15 - mcmc.calculators | INFO: None\n",
      "10:39:15 - mcmc.calculators | INFO: None\n",
      "10:39:15 - mcmc.calculators | INFO: None\n",
      "10:39:15 - mcmc.calculators | INFO: None\n",
      "10:39:15 - mcmc.calculators | INFO: None\n",
      "10:39:15 - mcmc.calculators | INFO: None\n",
      "10:39:15 - mcmc.calculators | INFO: None\n"
     ]
    },
    {
     "name": "stdout",
     "output_type": "stream",
     "text": [
      "Total wall time: 0:00:00\n",
      "Total wall time: 0:00:00\n",
      "Total wall time: 0:00:00\n",
      "Total wall time: 0:00:00\n",
      "Total wall time: 0:00:00\n",
      "Total wall time: 0:00:00\n",
      "Total wall time: 0:00:00\n",
      "Total wall time: 0:00:00\n",
      "Total wall time: 0:00:00\n",
      "Total wall time: 0:00:00\n",
      "Total wall time: 0:00:00\n",
      "Total wall time: 0:00:00\n",
      "Total wall time: 0:00:00\n",
      "Total wall time: 0:00:00\n"
     ]
    },
    {
     "name": "stderr",
     "output_type": "stream",
     "text": [
      "10:39:15 - mcmc.calculators | INFO: None\n",
      "10:39:15 - mcmc.calculators | INFO: None\n"
     ]
    },
    {
     "name": "stdout",
     "output_type": "stream",
     "text": [
      "Total wall time: 0:00:00\n",
      "Total wall time: 0:00:00\n"
     ]
    },
    {
     "name": "stderr",
     "output_type": "stream",
     "text": [
      "10:39:15 - mcmc.calculators | INFO: None\n",
      "10:39:15 - mcmc.calculators | INFO: None\n",
      "10:39:15 - mcmc.calculators | INFO: None\n",
      "10:39:15 - mcmc.calculators | INFO: None\n",
      "10:39:15 - mcmc.calculators | INFO: None\n",
      "10:39:15 - mcmc.calculators | INFO: None\n",
      "10:39:15 - mcmc.calculators | INFO: None\n",
      "10:39:15 - mcmc.calculators | INFO: None\n",
      "10:39:15 - mcmc.calculators | INFO: None\n",
      "10:39:15 - mcmc.calculators | INFO: None\n",
      "10:39:15 - mcmc.calculators | INFO: None\n",
      "10:39:15 - mcmc.calculators | INFO: None\n",
      "10:39:15 - mcmc.calculators | INFO: None\n",
      "10:39:15 - mcmc.calculators | INFO: None\n"
     ]
    },
    {
     "name": "stdout",
     "output_type": "stream",
     "text": [
      "Total wall time: 0:00:00\n",
      "Total wall time: 0:00:00\n",
      "Total wall time: 0:00:00\n",
      "Total wall time: 0:00:00\n",
      "Total wall time: 0:00:00\n",
      "Total wall time: 0:00:00\n",
      "Total wall time: 0:00:00\n",
      "Total wall time: 0:00:00\n",
      "Total wall time: 0:00:00\n",
      "Total wall time: 0:00:00\n",
      "Total wall time: 0:00:00\n",
      "Total wall time: 0:00:00\n",
      "Total wall time: 0:00:00\n",
      "Total wall time: 0:00:00\n"
     ]
    },
    {
     "name": "stderr",
     "output_type": "stream",
     "text": [
      "10:39:15 - mcmc.calculators | INFO: None\n",
      "10:39:15 - mcmc.calculators | INFO: None\n",
      "10:39:15 - mcmc.calculators | INFO: None\n",
      "10:39:15 - mcmc.calculators | INFO: None\n",
      "10:39:15 - mcmc.calculators | INFO: None\n",
      "10:39:15 - mcmc.calculators | INFO: None\n",
      "10:39:15 - mcmc.calculators | INFO: None\n",
      "10:39:15 - mcmc.calculators | INFO: None\n",
      "10:39:15 - mcmc.calculators | INFO: None\n",
      "10:39:15 - mcmc.calculators | INFO: None\n",
      "10:39:15 - mcmc.calculators | INFO: None\n",
      "10:39:15 - mcmc.calculators | INFO: None\n",
      "10:39:15 - mcmc.calculators | INFO: None\n",
      "10:39:15 - mcmc.calculators | INFO: None\n",
      "10:39:15 - mcmc.calculators | INFO: None\n"
     ]
    },
    {
     "name": "stdout",
     "output_type": "stream",
     "text": [
      "Total wall time: 0:00:00\n",
      "Total wall time: 0:00:00\n",
      "Total wall time: 0:00:00\n",
      "Total wall time: 0:00:00\n",
      "Total wall time: 0:00:00\n",
      "Total wall time: 0:00:00\n",
      "Total wall time: 0:00:00\n",
      "Total wall time: 0:00:00\n",
      "Total wall time: 0:00:00\n",
      "Total wall time: 0:00:00\n",
      "Total wall time: 0:00:00\n",
      "Total wall time: 0:00:00\n",
      "Total wall time: 0:00:00\n",
      "Total wall time: 0:00:00\n",
      "Total wall time: 0:00:00\n"
     ]
    },
    {
     "name": "stderr",
     "output_type": "stream",
     "text": [
      "10:39:15 - mcmc.calculators | INFO: None\n",
      "10:39:15 - mcmc.calculators | INFO: None\n",
      "10:39:15 - mcmc.calculators | INFO: None\n",
      "10:39:15 - mcmc.calculators | INFO: None\n",
      "10:39:15 - mcmc.calculators | INFO: None\n",
      "10:39:15 - mcmc.calculators | INFO: None\n",
      "10:39:15 - mcmc.calculators | INFO: None\n",
      "10:39:15 - mcmc.calculators | INFO: None\n",
      "10:39:15 - mcmc.calculators | INFO: None\n",
      "10:39:15 - mcmc.calculators | INFO: None\n",
      "10:39:15 - mcmc.calculators | INFO: None\n",
      "10:39:15 - mcmc.calculators | INFO: None\n",
      "10:39:16 - mcmc.calculators | INFO: None\n",
      "10:39:16 - mcmc.calculators | INFO: None\n"
     ]
    },
    {
     "name": "stdout",
     "output_type": "stream",
     "text": [
      "Total wall time: 0:00:00\n",
      "Total wall time: 0:00:00\n",
      "Total wall time: 0:00:00\n",
      "Total wall time: 0:00:00\n",
      "Total wall time: 0:00:00\n",
      "Total wall time: 0:00:00\n",
      "Total wall time: 0:00:00\n",
      "Total wall time: 0:00:00\n",
      "Total wall time: 0:00:00\n",
      "Total wall time: 0:00:00\n",
      "Total wall time: 0:00:00\n",
      "Total wall time: 0:00:00\n",
      "Total wall time: 0:00:00\n",
      "Total wall time: 0:00:00\n"
     ]
    },
    {
     "name": "stderr",
     "output_type": "stream",
     "text": [
      "10:39:16 - mcmc.calculators | INFO: None\n",
      "10:39:16 - mcmc.calculators | INFO: None\n",
      "10:39:16 - mcmc.calculators | INFO: None\n",
      "10:39:16 - mcmc.calculators | INFO: None\n",
      "10:39:16 - mcmc.calculators | INFO: None\n",
      "10:39:16 - mcmc.calculators | INFO: None\n",
      "10:39:16 - mcmc.calculators | INFO: None\n",
      "10:39:16 - mcmc.calculators | INFO: None\n",
      "10:39:16 - mcmc.calculators | INFO: None\n",
      "10:39:16 - mcmc.calculators | INFO: None\n",
      "10:39:16 - mcmc.calculators | INFO: None\n",
      "10:39:16 - mcmc.calculators | INFO: None\n",
      "10:39:16 - mcmc.calculators | INFO: None\n",
      "10:39:16 - mcmc.calculators | INFO: None\n",
      "10:39:16 - mcmc.calculators | INFO: None\n"
     ]
    },
    {
     "name": "stdout",
     "output_type": "stream",
     "text": [
      "Total wall time: 0:00:00\n",
      "Total wall time: 0:00:00\n",
      "Total wall time: 0:00:00\n",
      "Total wall time: 0:00:00\n",
      "Total wall time: 0:00:00\n",
      "Total wall time: 0:00:00\n",
      "Total wall time: 0:00:00\n",
      "Total wall time: 0:00:00\n",
      "Total wall time: 0:00:00\n",
      "Total wall time: 0:00:00\n",
      "Total wall time: 0:00:00\n",
      "Total wall time: 0:00:00\n",
      "Total wall time: 0:00:00\n",
      "Total wall time: 0:00:00\n",
      "Total wall time: 0:00:00\n"
     ]
    },
    {
     "name": "stderr",
     "output_type": "stream",
     "text": [
      "10:39:16 - mcmc.calculators | INFO: None\n",
      "10:39:16 - mcmc.calculators | INFO: None\n",
      "10:39:16 - mcmc.calculators | INFO: None\n",
      "10:39:16 - mcmc.calculators | INFO: None\n",
      "10:39:16 - mcmc.calculators | INFO: None\n",
      "10:39:16 - mcmc.calculators | INFO: None\n",
      "10:39:16 - mcmc.calculators | INFO: None\n",
      "10:39:16 - mcmc.calculators | INFO: None\n",
      "10:39:16 - mcmc.calculators | INFO: None\n",
      "10:39:16 - mcmc.calculators | INFO: None\n",
      "10:39:16 - mcmc.calculators | INFO: None\n",
      "10:39:16 - mcmc.calculators | INFO: None\n",
      "10:39:16 - mcmc.calculators | INFO: None\n",
      "10:39:16 - mcmc.calculators | INFO: None\n"
     ]
    },
    {
     "name": "stdout",
     "output_type": "stream",
     "text": [
      "Total wall time: 0:00:00\n",
      "Total wall time: 0:00:00\n",
      "Total wall time: 0:00:00\n",
      "Total wall time: 0:00:00\n",
      "Total wall time: 0:00:00\n",
      "Total wall time: 0:00:00\n",
      "Total wall time: 0:00:00\n",
      "Total wall time: 0:00:00\n",
      "Total wall time: 0:00:00\n",
      "Total wall time: 0:00:00\n",
      "Total wall time: 0:00:00\n",
      "Total wall time: 0:00:00\n",
      "Total wall time: 0:00:00\n",
      "Total wall time: 0:00:00\n"
     ]
    },
    {
     "name": "stderr",
     "output_type": "stream",
     "text": [
      "10:39:16 - mcmc.calculators | INFO: None\n",
      "10:39:16 - mcmc.calculators | INFO: None\n",
      "10:39:16 - mcmc.calculators | INFO: None\n",
      "10:39:16 - mcmc.calculators | INFO: None\n",
      "10:39:16 - mcmc.calculators | INFO: None\n",
      "10:39:16 - mcmc.calculators | INFO: None\n",
      "10:39:16 - mcmc.calculators | INFO: None\n",
      "10:39:16 - mcmc.calculators | INFO: None\n",
      "10:39:16 - mcmc.calculators | INFO: None\n",
      "10:39:16 - mcmc.calculators | INFO: None\n",
      "10:39:16 - mcmc.calculators | INFO: None\n",
      "10:39:16 - mcmc.calculators | INFO: None\n",
      "10:39:16 - mcmc.calculators | INFO: None\n",
      "10:39:16 - mcmc.calculators | INFO: None\n",
      "10:39:16 - mcmc.calculators | INFO: None\n",
      "10:39:16 - mcmc.calculators | INFO: None\n"
     ]
    },
    {
     "name": "stdout",
     "output_type": "stream",
     "text": [
      "Total wall time: 0:00:00\n",
      "Total wall time: 0:00:00\n",
      "Total wall time: 0:00:00\n",
      "Total wall time: 0:00:00\n",
      "Total wall time: 0:00:00\n",
      "Total wall time: 0:00:00\n",
      "Total wall time: 0:00:00\n",
      "Total wall time: 0:00:00\n",
      "Total wall time: 0:00:00\n",
      "Total wall time: 0:00:00\n",
      "Total wall time: 0:00:00\n",
      "Total wall time: 0:00:00\n",
      "Total wall time: 0:00:00\n",
      "Total wall time: 0:00:00\n",
      "Total wall time: 0:00:00\n",
      "Total wall time: 0:00:00\n"
     ]
    },
    {
     "name": "stderr",
     "output_type": "stream",
     "text": [
      "10:39:16 - mcmc.calculators | INFO: None\n",
      "10:39:16 - mcmc.calculators | INFO: None\n",
      "10:39:16 - mcmc.calculators | INFO: None\n",
      "10:39:16 - mcmc.calculators | INFO: None\n",
      "10:39:16 - mcmc.calculators | INFO: None\n",
      "10:39:16 - mcmc.calculators | INFO: None\n",
      "10:39:16 - mcmc.calculators | INFO: None\n",
      "10:39:16 - mcmc.calculators | INFO: None\n",
      "10:39:16 - mcmc.calculators | INFO: None\n",
      "10:39:16 - mcmc.calculators | INFO: None\n",
      "10:39:16 - mcmc.calculators | INFO: None\n",
      "10:39:16 - mcmc.calculators | INFO: None\n",
      "10:39:16 - mcmc.calculators | INFO: None\n",
      "10:39:16 - mcmc.calculators | INFO: None\n",
      "10:39:16 - mcmc.calculators | INFO: None\n"
     ]
    },
    {
     "name": "stdout",
     "output_type": "stream",
     "text": [
      "Total wall time: 0:00:00\n",
      "Total wall time: 0:00:00\n",
      "Total wall time: 0:00:00\n",
      "Total wall time: 0:00:00\n",
      "Total wall time: 0:00:00\n",
      "Total wall time: 0:00:00\n",
      "Total wall time: 0:00:00\n",
      "Total wall time: 0:00:00\n",
      "Total wall time: 0:00:00\n",
      "Total wall time: 0:00:00\n",
      "Total wall time: 0:00:00\n",
      "Total wall time: 0:00:00\n",
      "Total wall time: 0:00:00\n",
      "Total wall time: 0:00:00\n",
      "Total wall time: 0:00:00\n"
     ]
    },
    {
     "name": "stderr",
     "output_type": "stream",
     "text": [
      "10:39:16 - mcmc.calculators | INFO: None\n",
      "10:39:16 - mcmc.calculators | INFO: None\n",
      "10:39:16 - mcmc.calculators | INFO: None\n",
      "10:39:16 - mcmc.calculators | INFO: None\n",
      "10:39:16 - mcmc.calculators | INFO: None\n",
      "10:39:16 - mcmc.calculators | INFO: None\n",
      "10:39:16 - mcmc.calculators | INFO: None\n",
      "10:39:17 - mcmc.calculators | INFO: None\n",
      "10:39:17 - mcmc.calculators | INFO: None\n",
      "10:39:17 - mcmc.calculators | INFO: None\n",
      "10:39:17 - mcmc.calculators | INFO: None\n",
      "10:39:17 - mcmc.calculators | INFO: None\n",
      "10:39:17 - mcmc.calculators | INFO: None\n"
     ]
    },
    {
     "name": "stdout",
     "output_type": "stream",
     "text": [
      "Total wall time: 0:00:00\n",
      "Total wall time: 0:00:00\n",
      "Total wall time: 0:00:00\n",
      "Total wall time: 0:00:00\n",
      "Total wall time: 0:00:00\n",
      "Total wall time: 0:00:00\n",
      "Total wall time: 0:00:00\n",
      "Total wall time: 0:00:00\n",
      "Total wall time: 0:00:00\n",
      "Total wall time: 0:00:00\n",
      "Total wall time: 0:00:00\n",
      "Total wall time: 0:00:00\n",
      "Total wall time: 0:00:00\n"
     ]
    },
    {
     "name": "stderr",
     "output_type": "stream",
     "text": [
      "10:39:17 - mcmc.calculators | INFO: None\n",
      "10:39:17 - mcmc.calculators | INFO: None\n",
      "10:39:17 - mcmc.calculators | INFO: None\n",
      "10:39:17 - mcmc.calculators | INFO: None\n",
      "10:39:17 - mcmc.calculators | INFO: None\n",
      "10:39:17 - mcmc.calculators | INFO: None\n",
      "10:39:17 - mcmc.calculators | INFO: None\n",
      "10:39:17 - mcmc.calculators | INFO: None\n",
      "10:39:17 - mcmc.calculators | INFO: None\n",
      "10:39:17 - mcmc.calculators | INFO: None\n",
      "10:39:17 - mcmc.calculators | INFO: None\n",
      "10:39:17 - mcmc.calculators | INFO: None\n",
      "10:39:17 - mcmc.calculators | INFO: None\n",
      "10:39:17 - mcmc.calculators | INFO: None\n",
      "10:39:17 - mcmc.calculators | INFO: None\n"
     ]
    },
    {
     "name": "stdout",
     "output_type": "stream",
     "text": [
      "Total wall time: 0:00:00\n",
      "Total wall time: 0:00:00\n",
      "Total wall time: 0:00:00\n",
      "Total wall time: 0:00:00\n",
      "Total wall time: 0:00:00\n",
      "Total wall time: 0:00:00\n",
      "Total wall time: 0:00:00\n",
      "Total wall time: 0:00:00\n",
      "Total wall time: 0:00:00\n",
      "Total wall time: 0:00:00\n",
      "Total wall time: 0:00:00\n",
      "Total wall time: 0:00:00\n",
      "Total wall time: 0:00:00\n",
      "Total wall time: 0:00:00\n",
      "Total wall time: 0:00:00\n"
     ]
    },
    {
     "name": "stderr",
     "output_type": "stream",
     "text": [
      "10:39:17 - mcmc.calculators | INFO: None\n",
      "10:39:17 - mcmc.calculators | INFO: None\n",
      "10:39:17 - mcmc.calculators | INFO: None\n",
      "10:39:17 - mcmc.calculators | INFO: None\n",
      "10:39:17 - mcmc.calculators | INFO: None\n",
      "10:39:17 - mcmc.calculators | INFO: None\n",
      "10:39:17 - mcmc.calculators | INFO: None\n",
      "10:39:17 - mcmc.calculators | INFO: None\n",
      "10:39:17 - mcmc.calculators | INFO: None\n",
      "10:39:17 - mcmc.calculators | INFO: None\n",
      "10:39:17 - mcmc.calculators | INFO: None\n",
      "10:39:17 - mcmc.calculators | INFO: None\n",
      "10:39:17 - mcmc.calculators | INFO: None\n"
     ]
    },
    {
     "name": "stdout",
     "output_type": "stream",
     "text": [
      "Total wall time: 0:00:00\n",
      "Total wall time: 0:00:00\n",
      "Total wall time: 0:00:00\n",
      "Total wall time: 0:00:00\n",
      "Total wall time: 0:00:00\n",
      "Total wall time: 0:00:00\n",
      "Total wall time: 0:00:00\n",
      "Total wall time: 0:00:00\n",
      "Total wall time: 0:00:00\n",
      "Total wall time: 0:00:00\n",
      "Total wall time: 0:00:00\n",
      "Total wall time: 0:00:00\n",
      "Total wall time: 0:00:00\n"
     ]
    },
    {
     "name": "stderr",
     "output_type": "stream",
     "text": [
      "10:39:17 - mcmc.calculators | INFO: None\n",
      "10:39:17 - mcmc.calculators | INFO: None\n",
      "10:39:17 - mcmc.mcmc | INFO: At iter 520\n",
      "10:39:17 - mcmc.calculators | INFO: None\n",
      "10:39:17 - mcmc.calculators | INFO: None\n",
      "10:39:17 - mcmc.calculators | INFO: None\n",
      "10:39:17 - mcmc.system | INFO: Optimized structure has surface energy = -177.357\n",
      "10:39:17 - mcmc.mcmc | INFO: In sweep 6 out of 10\n",
      "10:39:17 - mcmc.calculators | INFO: None\n",
      "10:39:17 - mcmc.calculators | INFO: None\n",
      "10:39:17 - mcmc.calculators | INFO: None\n",
      "10:39:17 - mcmc.calculators | INFO: None\n",
      "10:39:17 - mcmc.calculators | INFO: None\n",
      "10:39:17 - mcmc.calculators | INFO: None\n",
      "10:39:17 - mcmc.calculators | INFO: None\n",
      "10:39:17 - mcmc.calculators | INFO: None\n"
     ]
    },
    {
     "name": "stdout",
     "output_type": "stream",
     "text": [
      "Total wall time: 0:00:00\n",
      "Total wall time: 0:00:00\n",
      "Total wall time: 0:00:00\n",
      "Total wall time: 0:00:00\n",
      "Total wall time: 0:00:00\n",
      "Total wall time: 0:00:00\n",
      "Total wall time: 0:00:00\n",
      "Total wall time: 0:00:00\n",
      "Total wall time: 0:00:00\n",
      "Total wall time: 0:00:00\n",
      "Total wall time: 0:00:00\n",
      "Total wall time: 0:00:00\n",
      "Total wall time: 0:00:00\n"
     ]
    },
    {
     "name": "stderr",
     "output_type": "stream",
     "text": [
      "10:39:17 - mcmc.calculators | INFO: None\n",
      "10:39:17 - mcmc.calculators | INFO: None\n",
      "10:39:17 - mcmc.calculators | INFO: None\n",
      "10:39:17 - mcmc.calculators | INFO: None\n",
      "10:39:17 - mcmc.calculators | INFO: None\n",
      "10:39:17 - mcmc.calculators | INFO: None\n",
      "10:39:17 - mcmc.calculators | INFO: None\n",
      "10:39:17 - mcmc.calculators | INFO: None\n",
      "10:39:17 - mcmc.calculators | INFO: None\n",
      "10:39:17 - mcmc.calculators | INFO: None\n",
      "10:39:17 - mcmc.calculators | INFO: None\n",
      "10:39:17 - mcmc.calculators | INFO: None\n",
      "10:39:17 - mcmc.calculators | INFO: None\n",
      "10:39:17 - mcmc.calculators | INFO: None\n"
     ]
    },
    {
     "name": "stdout",
     "output_type": "stream",
     "text": [
      "Total wall time: 0:00:00\n",
      "Total wall time: 0:00:00\n",
      "Total wall time: 0:00:00\n",
      "Total wall time: 0:00:00\n",
      "Total wall time: 0:00:00\n",
      "Total wall time: 0:00:00\n",
      "Total wall time: 0:00:00\n",
      "Total wall time: 0:00:00\n",
      "Total wall time: 0:00:00\n",
      "Total wall time: 0:00:00\n",
      "Total wall time: 0:00:00\n",
      "Total wall time: 0:00:00\n",
      "Total wall time: 0:00:00\n",
      "Total wall time: 0:00:00\n"
     ]
    },
    {
     "name": "stderr",
     "output_type": "stream",
     "text": [
      "10:39:17 - mcmc.calculators | INFO: None\n",
      "10:39:17 - mcmc.calculators | INFO: None\n",
      "10:39:17 - mcmc.calculators | INFO: None\n",
      "10:39:17 - mcmc.calculators | INFO: None\n",
      "10:39:18 - mcmc.calculators | INFO: None\n",
      "10:39:18 - mcmc.calculators | INFO: None\n",
      "10:39:18 - mcmc.calculators | INFO: None\n",
      "10:39:18 - mcmc.calculators | INFO: None\n",
      "10:39:18 - mcmc.calculators | INFO: None\n",
      "10:39:18 - mcmc.calculators | INFO: None\n",
      "10:39:18 - mcmc.calculators | INFO: None\n",
      "10:39:18 - mcmc.calculators | INFO: None\n",
      "10:39:18 - mcmc.calculators | INFO: None\n",
      "10:39:18 - mcmc.calculators | INFO: None\n"
     ]
    },
    {
     "name": "stdout",
     "output_type": "stream",
     "text": [
      "Total wall time: 0:00:00\n",
      "Total wall time: 0:00:00\n",
      "Total wall time: 0:00:00\n",
      "Total wall time: 0:00:00\n",
      "Total wall time: 0:00:00\n",
      "Total wall time: 0:00:00\n",
      "Total wall time: 0:00:00\n",
      "Total wall time: 0:00:00\n",
      "Total wall time: 0:00:00\n",
      "Total wall time: 0:00:00\n",
      "Total wall time: 0:00:00\n",
      "Total wall time: 0:00:00\n",
      "Total wall time: 0:00:00\n",
      "Total wall time: 0:00:00\n"
     ]
    },
    {
     "name": "stderr",
     "output_type": "stream",
     "text": [
      "10:39:18 - mcmc.calculators | INFO: None\n",
      "10:39:18 - mcmc.calculators | INFO: None\n",
      "10:39:18 - mcmc.calculators | INFO: None\n",
      "10:39:18 - mcmc.calculators | INFO: None\n",
      "10:39:18 - mcmc.calculators | INFO: None\n",
      "10:39:18 - mcmc.calculators | INFO: None\n",
      "10:39:18 - mcmc.calculators | INFO: None\n",
      "10:39:18 - mcmc.calculators | INFO: None\n",
      "10:39:18 - mcmc.calculators | INFO: None\n",
      "10:39:18 - mcmc.calculators | INFO: None\n",
      "10:39:18 - mcmc.calculators | INFO: None\n",
      "10:39:18 - mcmc.calculators | INFO: None\n",
      "10:39:18 - mcmc.calculators | INFO: None\n",
      "10:39:18 - mcmc.calculators | INFO: None\n"
     ]
    },
    {
     "name": "stdout",
     "output_type": "stream",
     "text": [
      "Total wall time: 0:00:00\n",
      "Total wall time: 0:00:00\n",
      "Total wall time: 0:00:00\n",
      "Total wall time: 0:00:00\n",
      "Total wall time: 0:00:00\n",
      "Total wall time: 0:00:00\n",
      "Total wall time: 0:00:00\n",
      "Total wall time: 0:00:00\n",
      "Total wall time: 0:00:00\n",
      "Total wall time: 0:00:00\n",
      "Total wall time: 0:00:00\n",
      "Total wall time: 0:00:00\n",
      "Total wall time: 0:00:00\n",
      "Total wall time: 0:00:00\n"
     ]
    },
    {
     "name": "stderr",
     "output_type": "stream",
     "text": [
      "10:39:18 - mcmc.calculators | INFO: None\n",
      "10:39:18 - mcmc.calculators | INFO: None\n",
      "10:39:18 - mcmc.calculators | INFO: None\n",
      "10:39:18 - mcmc.calculators | INFO: None\n",
      "10:39:18 - mcmc.calculators | INFO: None\n",
      "10:39:18 - mcmc.calculators | INFO: None\n",
      "10:39:18 - mcmc.calculators | INFO: None\n",
      "10:39:18 - mcmc.calculators | INFO: None\n",
      "10:39:18 - mcmc.calculators | INFO: None\n",
      "10:39:18 - mcmc.calculators | INFO: None\n",
      "10:39:18 - mcmc.calculators | INFO: None\n",
      "10:39:18 - mcmc.calculators | INFO: None\n",
      "10:39:18 - mcmc.calculators | INFO: None\n",
      "10:39:18 - mcmc.calculators | INFO: None\n",
      "10:39:18 - mcmc.calculators | INFO: None\n",
      "10:39:18 - mcmc.calculators | INFO: None\n"
     ]
    },
    {
     "name": "stdout",
     "output_type": "stream",
     "text": [
      "Total wall time: 0:00:00\n",
      "Total wall time: 0:00:00\n",
      "Total wall time: 0:00:00\n",
      "Total wall time: 0:00:00\n",
      "Total wall time: 0:00:00\n",
      "Total wall time: 0:00:00\n",
      "Total wall time: 0:00:00\n",
      "Total wall time: 0:00:00\n",
      "Total wall time: 0:00:00\n",
      "Total wall time: 0:00:00\n",
      "Total wall time: 0:00:00\n",
      "Total wall time: 0:00:00\n",
      "Total wall time: 0:00:00\n",
      "Total wall time: 0:00:00\n",
      "Total wall time: 0:00:00\n"
     ]
    },
    {
     "name": "stderr",
     "output_type": "stream",
     "text": [
      "10:39:18 - mcmc.calculators | INFO: None\n",
      "10:39:18 - mcmc.calculators | INFO: None\n",
      "10:39:18 - mcmc.calculators | INFO: None\n",
      "10:39:18 - mcmc.calculators | INFO: None\n",
      "10:39:18 - mcmc.calculators | INFO: None\n",
      "10:39:18 - mcmc.calculators | INFO: None\n",
      "10:39:18 - mcmc.calculators | INFO: None\n",
      "10:39:18 - mcmc.calculators | INFO: None\n",
      "10:39:18 - mcmc.calculators | INFO: None\n",
      "10:39:18 - mcmc.calculators | INFO: None\n",
      "10:39:18 - mcmc.calculators | INFO: None\n",
      "10:39:18 - mcmc.calculators | INFO: None\n"
     ]
    },
    {
     "name": "stdout",
     "output_type": "stream",
     "text": [
      "Total wall time: 0:00:00\n",
      "Total wall time: 0:00:00\n",
      "Total wall time: 0:00:00\n",
      "Total wall time: 0:00:00\n",
      "Total wall time: 0:00:00\n",
      "Total wall time: 0:00:00\n",
      "Total wall time: 0:00:00\n",
      "Total wall time: 0:00:00\n",
      "Total wall time: 0:00:00\n",
      "Total wall time: 0:00:00\n",
      "Total wall time: 0:00:00\n",
      "Total wall time: 0:00:00\n",
      "Total wall time: 0:00:00\n"
     ]
    },
    {
     "name": "stderr",
     "output_type": "stream",
     "text": [
      "10:39:18 - mcmc.calculators | INFO: None\n",
      "10:39:18 - mcmc.calculators | INFO: None\n",
      "10:39:18 - mcmc.calculators | INFO: None\n",
      "10:39:18 - mcmc.calculators | INFO: None\n",
      "10:39:18 - mcmc.calculators | INFO: None\n",
      "10:39:18 - mcmc.calculators | INFO: None\n",
      "10:39:18 - mcmc.calculators | INFO: None\n",
      "10:39:18 - mcmc.calculators | INFO: None\n",
      "10:39:18 - mcmc.calculators | INFO: None\n",
      "10:39:18 - mcmc.calculators | INFO: None\n",
      "10:39:18 - mcmc.calculators | INFO: None\n",
      "10:39:18 - mcmc.calculators | INFO: None\n",
      "10:39:18 - mcmc.calculators | INFO: None\n",
      "10:39:18 - mcmc.calculators | INFO: None\n",
      "10:39:19 - mcmc.calculators | INFO: None\n"
     ]
    },
    {
     "name": "stdout",
     "output_type": "stream",
     "text": [
      "Total wall time: 0:00:00\n",
      "Total wall time: 0:00:00\n",
      "Total wall time: 0:00:00\n",
      "Total wall time: 0:00:00\n",
      "Total wall time: 0:00:00\n",
      "Total wall time: 0:00:00\n",
      "Total wall time: 0:00:00\n",
      "Total wall time: 0:00:00\n",
      "Total wall time: 0:00:00\n",
      "Total wall time: 0:00:00\n",
      "Total wall time: 0:00:00\n",
      "Total wall time: 0:00:00\n",
      "Total wall time: 0:00:00\n",
      "Total wall time: 0:00:00\n",
      "Total wall time: 0:00:00\n"
     ]
    },
    {
     "name": "stderr",
     "output_type": "stream",
     "text": [
      "10:39:19 - mcmc.calculators | INFO: None\n",
      "10:39:19 - mcmc.calculators | INFO: None\n",
      "10:39:19 - mcmc.calculators | INFO: None\n",
      "10:39:19 - mcmc.calculators | INFO: None\n",
      "10:39:19 - mcmc.calculators | INFO: None\n",
      "10:39:19 - mcmc.calculators | INFO: None\n",
      "10:39:19 - mcmc.calculators | INFO: None\n",
      "10:39:19 - mcmc.calculators | INFO: None\n",
      "10:39:19 - mcmc.calculators | INFO: None\n",
      "10:39:19 - mcmc.calculators | INFO: None\n",
      "10:39:19 - mcmc.calculators | INFO: None\n",
      "10:39:19 - mcmc.calculators | INFO: None\n",
      "10:39:19 - mcmc.calculators | INFO: None\n",
      "10:39:19 - mcmc.calculators | INFO: None\n",
      "10:39:19 - mcmc.calculators | INFO: None\n"
     ]
    },
    {
     "name": "stdout",
     "output_type": "stream",
     "text": [
      "Total wall time: 0:00:00\n",
      "Total wall time: 0:00:00\n",
      "Total wall time: 0:00:00\n",
      "Total wall time: 0:00:00\n",
      "Total wall time: 0:00:00\n",
      "Total wall time: 0:00:00\n",
      "Total wall time: 0:00:00\n",
      "Total wall time: 0:00:00\n",
      "Total wall time: 0:00:00\n",
      "Total wall time: 0:00:00\n",
      "Total wall time: 0:00:00\n",
      "Total wall time: 0:00:00\n",
      "Total wall time: 0:00:00\n",
      "Total wall time: 0:00:00\n",
      "Total wall time: 0:00:00\n"
     ]
    },
    {
     "name": "stderr",
     "output_type": "stream",
     "text": [
      "10:39:19 - mcmc.calculators | INFO: None\n",
      "10:39:19 - mcmc.calculators | INFO: None\n",
      "10:39:19 - mcmc.calculators | INFO: None\n",
      "10:39:19 - mcmc.calculators | INFO: None\n",
      "10:39:19 - mcmc.calculators | INFO: None\n",
      "10:39:19 - mcmc.calculators | INFO: None\n",
      "10:39:19 - mcmc.calculators | INFO: None\n",
      "10:39:19 - mcmc.calculators | INFO: None\n",
      "10:39:19 - mcmc.calculators | INFO: None\n",
      "10:39:19 - mcmc.calculators | INFO: None\n",
      "10:39:19 - mcmc.calculators | INFO: None\n",
      "10:39:19 - mcmc.calculators | INFO: None\n",
      "10:39:19 - mcmc.calculators | INFO: None\n",
      "10:39:19 - mcmc.calculators | INFO: None\n",
      "10:39:19 - mcmc.calculators | INFO: None\n",
      "10:39:19 - mcmc.calculators | INFO: None\n"
     ]
    },
    {
     "name": "stdout",
     "output_type": "stream",
     "text": [
      "Total wall time: 0:00:00\n",
      "Total wall time: 0:00:00\n",
      "Total wall time: 0:00:00\n",
      "Total wall time: 0:00:00\n",
      "Total wall time: 0:00:00\n",
      "Total wall time: 0:00:00\n",
      "Total wall time: 0:00:00\n",
      "Total wall time: 0:00:00\n",
      "Total wall time: 0:00:00\n",
      "Total wall time: 0:00:00\n",
      "Total wall time: 0:00:00\n",
      "Total wall time: 0:00:00\n",
      "Total wall time: 0:00:00\n",
      "Total wall time: 0:00:00\n",
      "Total wall time: 0:00:00\n",
      "Total wall time: 0:00:00\n"
     ]
    },
    {
     "name": "stderr",
     "output_type": "stream",
     "text": [
      "10:39:19 - mcmc.calculators | INFO: None\n",
      "10:39:19 - mcmc.calculators | INFO: None\n",
      "10:39:19 - mcmc.calculators | INFO: None\n",
      "10:39:19 - mcmc.calculators | INFO: None\n",
      "10:39:19 - mcmc.calculators | INFO: None\n",
      "10:39:19 - mcmc.calculators | INFO: None\n",
      "10:39:19 - mcmc.calculators | INFO: None\n",
      "10:39:19 - mcmc.calculators | INFO: None\n",
      "10:39:19 - mcmc.calculators | INFO: None\n",
      "10:39:19 - mcmc.calculators | INFO: None\n",
      "10:39:19 - mcmc.calculators | INFO: None\n",
      "10:39:19 - mcmc.calculators | INFO: None\n",
      "10:39:19 - mcmc.calculators | INFO: None\n",
      "10:39:19 - mcmc.calculators | INFO: None\n",
      "10:39:19 - mcmc.calculators | INFO: None\n"
     ]
    },
    {
     "name": "stdout",
     "output_type": "stream",
     "text": [
      "Total wall time: 0:00:00\n",
      "Total wall time: 0:00:00\n",
      "Total wall time: 0:00:00\n",
      "Total wall time: 0:00:00\n",
      "Total wall time: 0:00:00\n",
      "Total wall time: 0:00:00\n",
      "Total wall time: 0:00:00\n",
      "Total wall time: 0:00:00\n",
      "Total wall time: 0:00:00\n",
      "Total wall time: 0:00:00\n",
      "Total wall time: 0:00:00\n",
      "Total wall time: 0:00:00\n",
      "Total wall time: 0:00:00\n",
      "Total wall time: 0:00:00\n"
     ]
    },
    {
     "name": "stderr",
     "output_type": "stream",
     "text": [
      "10:39:19 - mcmc.calculators | INFO: None\n",
      "10:39:19 - mcmc.calculators | INFO: None\n",
      "10:39:19 - mcmc.calculators | INFO: None\n",
      "10:39:19 - mcmc.calculators | INFO: None\n",
      "10:39:19 - mcmc.calculators | INFO: None\n",
      "10:39:19 - mcmc.calculators | INFO: None\n",
      "10:39:19 - mcmc.calculators | INFO: None\n",
      "10:39:19 - mcmc.calculators | INFO: None\n",
      "10:39:19 - mcmc.calculators | INFO: None\n",
      "10:39:19 - mcmc.calculators | INFO: None\n",
      "10:39:19 - mcmc.calculators | INFO: None\n",
      "10:39:19 - mcmc.calculators | INFO: None\n",
      "10:39:19 - mcmc.calculators | INFO: None\n"
     ]
    },
    {
     "name": "stdout",
     "output_type": "stream",
     "text": [
      "Total wall time: 0:00:00\n",
      "Total wall time: 0:00:00\n",
      "Total wall time: 0:00:00\n",
      "Total wall time: 0:00:00\n",
      "Total wall time: 0:00:00\n",
      "Total wall time: 0:00:00\n",
      "Total wall time: 0:00:00\n",
      "Total wall time: 0:00:00\n",
      "Total wall time: 0:00:00\n",
      "Total wall time: 0:00:00\n",
      "Total wall time: 0:00:00\n",
      "Total wall time: 0:00:00\n",
      "Total wall time: 0:00:00\n",
      "Total wall time: 0:00:00\n"
     ]
    },
    {
     "name": "stderr",
     "output_type": "stream",
     "text": [
      "10:39:19 - mcmc.calculators | INFO: None\n",
      "10:39:19 - mcmc.calculators | INFO: None\n",
      "10:39:19 - mcmc.calculators | INFO: None\n",
      "10:39:19 - mcmc.calculators | INFO: None\n",
      "10:39:19 - mcmc.calculators | INFO: None\n",
      "10:39:19 - mcmc.calculators | INFO: None\n",
      "10:39:19 - mcmc.calculators | INFO: None\n",
      "10:39:19 - mcmc.calculators | INFO: None\n",
      "10:39:19 - mcmc.calculators | INFO: None\n",
      "10:39:19 - mcmc.calculators | INFO: None\n",
      "10:39:20 - mcmc.calculators | INFO: None\n",
      "10:39:20 - mcmc.calculators | INFO: None\n",
      "10:39:20 - mcmc.calculators | INFO: None\n",
      "10:39:20 - mcmc.calculators | INFO: None\n",
      "10:39:20 - mcmc.calculators | INFO: None\n"
     ]
    },
    {
     "name": "stdout",
     "output_type": "stream",
     "text": [
      "Total wall time: 0:00:00\n",
      "Total wall time: 0:00:00\n",
      "Total wall time: 0:00:00\n",
      "Total wall time: 0:00:00\n",
      "Total wall time: 0:00:00\n",
      "Total wall time: 0:00:00\n",
      "Total wall time: 0:00:00\n",
      "Total wall time: 0:00:00\n",
      "Total wall time: 0:00:00\n",
      "Total wall time: 0:00:00\n",
      "Total wall time: 0:00:00\n",
      "Total wall time: 0:00:00\n",
      "Total wall time: 0:00:00\n",
      "Total wall time: 0:00:00\n"
     ]
    },
    {
     "name": "stderr",
     "output_type": "stream",
     "text": [
      "10:39:20 - mcmc.calculators | INFO: None\n",
      "10:39:20 - mcmc.calculators | INFO: None\n",
      "10:39:20 - mcmc.calculators | INFO: None\n",
      "10:39:20 - mcmc.calculators | INFO: None\n",
      "10:39:20 - mcmc.calculators | INFO: None\n",
      "10:39:20 - mcmc.calculators | INFO: None\n",
      "10:39:20 - mcmc.calculators | INFO: None\n",
      "10:39:20 - mcmc.calculators | INFO: None\n",
      "10:39:20 - mcmc.calculators | INFO: None\n",
      "10:39:20 - mcmc.calculators | INFO: None\n",
      "10:39:20 - mcmc.calculators | INFO: None\n",
      "10:39:20 - mcmc.calculators | INFO: None\n",
      "10:39:20 - mcmc.calculators | INFO: None\n"
     ]
    },
    {
     "name": "stdout",
     "output_type": "stream",
     "text": [
      "Total wall time: 0:00:00\n",
      "Total wall time: 0:00:00\n",
      "Total wall time: 0:00:00\n",
      "Total wall time: 0:00:00\n",
      "Total wall time: 0:00:00\n",
      "Total wall time: 0:00:00\n",
      "Total wall time: 0:00:00\n",
      "Total wall time: 0:00:00\n",
      "Total wall time: 0:00:00\n",
      "Total wall time: 0:00:00\n",
      "Total wall time: 0:00:00\n",
      "Total wall time: 0:00:00\n",
      "Total wall time: 0:00:00\n",
      "Total wall time: 0:00:00\n"
     ]
    },
    {
     "name": "stderr",
     "output_type": "stream",
     "text": [
      "10:39:20 - mcmc.calculators | INFO: None\n",
      "10:39:20 - mcmc.calculators | INFO: None\n",
      "10:39:20 - mcmc.calculators | INFO: None\n",
      "10:39:20 - mcmc.calculators | INFO: None\n",
      "10:39:20 - mcmc.calculators | INFO: None\n",
      "10:39:20 - mcmc.calculators | INFO: None\n",
      "10:39:20 - mcmc.calculators | INFO: None\n",
      "10:39:20 - mcmc.calculators | INFO: None\n",
      "10:39:20 - mcmc.calculators | INFO: None\n",
      "10:39:20 - mcmc.calculators | INFO: None\n",
      "10:39:20 - mcmc.calculators | INFO: None\n",
      "10:39:20 - mcmc.calculators | INFO: None\n",
      "10:39:20 - mcmc.calculators | INFO: None\n",
      "10:39:20 - mcmc.calculators | INFO: None\n"
     ]
    },
    {
     "name": "stdout",
     "output_type": "stream",
     "text": [
      "Total wall time: 0:00:00\n",
      "Total wall time: 0:00:00\n",
      "Total wall time: 0:00:00\n",
      "Total wall time: 0:00:00\n",
      "Total wall time: 0:00:00\n",
      "Total wall time: 0:00:00\n",
      "Total wall time: 0:00:00\n",
      "Total wall time: 0:00:00\n",
      "Total wall time: 0:00:00\n",
      "Total wall time: 0:00:00\n",
      "Total wall time: 0:00:00\n",
      "Total wall time: 0:00:00\n",
      "Total wall time: 0:00:00\n",
      "Total wall time: 0:00:00\n"
     ]
    },
    {
     "name": "stderr",
     "output_type": "stream",
     "text": [
      "10:39:20 - mcmc.calculators | INFO: None\n",
      "10:39:20 - mcmc.calculators | INFO: None\n",
      "10:39:20 - mcmc.calculators | INFO: None\n",
      "10:39:20 - mcmc.calculators | INFO: None\n",
      "10:39:20 - mcmc.calculators | INFO: None\n",
      "10:39:20 - mcmc.calculators | INFO: None\n",
      "10:39:20 - mcmc.calculators | INFO: None\n",
      "10:39:20 - mcmc.calculators | INFO: None\n",
      "10:39:20 - mcmc.calculators | INFO: None\n",
      "10:39:20 - mcmc.calculators | INFO: None\n",
      "10:39:20 - mcmc.calculators | INFO: None\n",
      "10:39:20 - mcmc.calculators | INFO: None\n",
      "10:39:20 - mcmc.mcmc | INFO: At iter 624\n",
      "10:39:20 - mcmc.calculators | INFO: None\n",
      "10:39:20 - mcmc.calculators | INFO: None\n",
      "10:39:20 - mcmc.calculators | INFO: None\n",
      "10:39:20 - mcmc.system | INFO: Optimized structure has surface energy = -177.841\n"
     ]
    },
    {
     "name": "stdout",
     "output_type": "stream",
     "text": [
      "Total wall time: 0:00:00\n",
      "Total wall time: 0:00:00\n",
      "Total wall time: 0:00:00\n",
      "Total wall time: 0:00:00\n",
      "Total wall time: 0:00:00\n",
      "Total wall time: 0:00:00\n",
      "Total wall time: 0:00:00\n",
      "Total wall time: 0:00:00\n",
      "Total wall time: 0:00:00\n",
      "Total wall time: 0:00:00\n",
      "Total wall time: 0:00:00\n",
      "Total wall time: 0:00:00\n",
      "Total wall time: 0:00:00\n",
      "Total wall time: 0:00:00\n",
      "Total wall time: 0:00:00\n"
     ]
    },
    {
     "name": "stderr",
     "output_type": "stream",
     "text": [
      "10:39:20 - mcmc.mcmc | INFO: In sweep 7 out of 10\n",
      "10:39:20 - mcmc.calculators | INFO: None\n",
      "10:39:20 - mcmc.calculators | INFO: None\n",
      "10:39:20 - mcmc.calculators | INFO: None\n",
      "10:39:20 - mcmc.calculators | INFO: None\n",
      "10:39:20 - mcmc.calculators | INFO: None\n",
      "10:39:20 - mcmc.calculators | INFO: None\n",
      "10:39:20 - mcmc.calculators | INFO: None\n",
      "10:39:20 - mcmc.calculators | INFO: None\n",
      "10:39:20 - mcmc.calculators | INFO: None\n",
      "10:39:20 - mcmc.calculators | INFO: None\n",
      "10:39:20 - mcmc.calculators | INFO: None\n",
      "10:39:20 - mcmc.calculators | INFO: None\n",
      "10:39:20 - mcmc.calculators | INFO: None\n",
      "10:39:20 - mcmc.calculators | INFO: None\n"
     ]
    },
    {
     "name": "stdout",
     "output_type": "stream",
     "text": [
      "Total wall time: 0:00:00\n",
      "Total wall time: 0:00:00\n",
      "Total wall time: 0:00:00\n",
      "Total wall time: 0:00:00\n",
      "Total wall time: 0:00:00\n",
      "Total wall time: 0:00:00\n",
      "Total wall time: 0:00:00\n",
      "Total wall time: 0:00:00\n",
      "Total wall time: 0:00:00\n",
      "Total wall time: 0:00:00\n",
      "Total wall time: 0:00:00\n",
      "Total wall time: 0:00:00\n",
      "Total wall time: 0:00:00\n",
      "Total wall time: 0:00:00\n"
     ]
    },
    {
     "name": "stderr",
     "output_type": "stream",
     "text": [
      "10:39:20 - mcmc.calculators | INFO: None\n",
      "10:39:20 - mcmc.calculators | INFO: None\n",
      "10:39:20 - mcmc.calculators | INFO: None\n",
      "10:39:20 - mcmc.calculators | INFO: None\n",
      "10:39:21 - mcmc.calculators | INFO: None\n",
      "10:39:21 - mcmc.calculators | INFO: None\n",
      "10:39:21 - mcmc.calculators | INFO: None\n",
      "10:39:21 - mcmc.calculators | INFO: None\n",
      "10:39:21 - mcmc.calculators | INFO: None\n",
      "10:39:21 - mcmc.calculators | INFO: None\n",
      "10:39:21 - mcmc.calculators | INFO: None\n",
      "10:39:21 - mcmc.calculators | INFO: None\n",
      "10:39:21 - mcmc.calculators | INFO: None\n",
      "10:39:21 - mcmc.calculators | INFO: None\n",
      "10:39:21 - mcmc.calculators | INFO: None\n"
     ]
    },
    {
     "name": "stdout",
     "output_type": "stream",
     "text": [
      "Total wall time: 0:00:00\n",
      "Total wall time: 0:00:00\n",
      "Total wall time: 0:00:00\n",
      "Total wall time: 0:00:00\n",
      "Total wall time: 0:00:00\n",
      "Total wall time: 0:00:00\n",
      "Total wall time: 0:00:00\n",
      "Total wall time: 0:00:00\n",
      "Total wall time: 0:00:00\n",
      "Total wall time: 0:00:00\n",
      "Total wall time: 0:00:00\n",
      "Total wall time: 0:00:00\n",
      "Total wall time: 0:00:00\n",
      "Total wall time: 0:00:00\n"
     ]
    },
    {
     "name": "stderr",
     "output_type": "stream",
     "text": [
      "10:39:21 - mcmc.calculators | INFO: None\n",
      "10:39:21 - mcmc.calculators | INFO: None\n",
      "10:39:21 - mcmc.calculators | INFO: None\n",
      "10:39:21 - mcmc.calculators | INFO: None\n",
      "10:39:21 - mcmc.calculators | INFO: None\n",
      "10:39:21 - mcmc.calculators | INFO: None\n",
      "10:39:21 - mcmc.calculators | INFO: None\n",
      "10:39:21 - mcmc.calculators | INFO: None\n",
      "10:39:21 - mcmc.calculators | INFO: None\n",
      "10:39:21 - mcmc.calculators | INFO: None\n",
      "10:39:21 - mcmc.calculators | INFO: None\n",
      "10:39:21 - mcmc.calculators | INFO: None\n",
      "10:39:21 - mcmc.calculators | INFO: None\n",
      "10:39:21 - mcmc.calculators | INFO: None\n"
     ]
    },
    {
     "name": "stdout",
     "output_type": "stream",
     "text": [
      "Total wall time: 0:00:00\n",
      "Total wall time: 0:00:00\n",
      "Total wall time: 0:00:00\n",
      "Total wall time: 0:00:00\n",
      "Total wall time: 0:00:00\n",
      "Total wall time: 0:00:00\n",
      "Total wall time: 0:00:00\n",
      "Total wall time: 0:00:00\n",
      "Total wall time: 0:00:00\n",
      "Total wall time: 0:00:00\n",
      "Total wall time: 0:00:00\n",
      "Total wall time: 0:00:00\n",
      "Total wall time: 0:00:00\n",
      "Total wall time: 0:00:00\n"
     ]
    },
    {
     "name": "stderr",
     "output_type": "stream",
     "text": [
      "10:39:21 - mcmc.calculators | INFO: None\n",
      "10:39:21 - mcmc.calculators | INFO: None\n",
      "10:39:21 - mcmc.calculators | INFO: None\n",
      "10:39:21 - mcmc.calculators | INFO: None\n",
      "10:39:21 - mcmc.calculators | INFO: None\n",
      "10:39:21 - mcmc.calculators | INFO: None\n",
      "10:39:21 - mcmc.calculators | INFO: None\n",
      "10:39:21 - mcmc.calculators | INFO: None\n",
      "10:39:21 - mcmc.calculators | INFO: None\n",
      "10:39:21 - mcmc.calculators | INFO: None\n",
      "10:39:21 - mcmc.calculators | INFO: None\n",
      "10:39:21 - mcmc.calculators | INFO: None\n",
      "10:39:21 - mcmc.calculators | INFO: None\n"
     ]
    },
    {
     "name": "stdout",
     "output_type": "stream",
     "text": [
      "Total wall time: 0:00:00\n",
      "Total wall time: 0:00:00\n",
      "Total wall time: 0:00:00\n",
      "Total wall time: 0:00:00\n",
      "Total wall time: 0:00:00\n",
      "Total wall time: 0:00:00\n",
      "Total wall time: 0:00:00\n",
      "Total wall time: 0:00:00\n",
      "Total wall time: 0:00:00\n",
      "Total wall time: 0:00:00\n",
      "Total wall time: 0:00:00\n",
      "Total wall time: 0:00:00\n",
      "Total wall time: 0:00:00\n",
      "Total wall time: 0:00:00\n"
     ]
    },
    {
     "name": "stderr",
     "output_type": "stream",
     "text": [
      "10:39:21 - mcmc.calculators | INFO: None\n",
      "10:39:21 - mcmc.calculators | INFO: None\n",
      "10:39:21 - mcmc.calculators | INFO: None\n",
      "10:39:21 - mcmc.calculators | INFO: None\n",
      "10:39:21 - mcmc.calculators | INFO: None\n",
      "10:39:21 - mcmc.calculators | INFO: None\n",
      "10:39:21 - mcmc.calculators | INFO: None\n",
      "10:39:21 - mcmc.calculators | INFO: None\n",
      "10:39:21 - mcmc.calculators | INFO: None\n",
      "10:39:21 - mcmc.calculators | INFO: None\n",
      "10:39:21 - mcmc.calculators | INFO: None\n",
      "10:39:21 - mcmc.calculators | INFO: None\n",
      "10:39:21 - mcmc.calculators | INFO: None\n",
      "10:39:21 - mcmc.calculators | INFO: None\n"
     ]
    },
    {
     "name": "stdout",
     "output_type": "stream",
     "text": [
      "Total wall time: 0:00:00\n",
      "Total wall time: 0:00:00\n",
      "Total wall time: 0:00:00\n",
      "Total wall time: 0:00:00\n",
      "Total wall time: 0:00:00\n",
      "Total wall time: 0:00:00\n",
      "Total wall time: 0:00:00\n",
      "Total wall time: 0:00:00\n",
      "Total wall time: 0:00:00\n",
      "Total wall time: 0:00:00\n",
      "Total wall time: 0:00:00\n",
      "Total wall time: 0:00:00\n",
      "Total wall time: 0:00:00\n",
      "Total wall time: 0:00:00\n"
     ]
    },
    {
     "name": "stderr",
     "output_type": "stream",
     "text": [
      "10:39:21 - mcmc.calculators | INFO: None\n",
      "10:39:21 - mcmc.calculators | INFO: None\n",
      "10:39:21 - mcmc.calculators | INFO: None\n",
      "10:39:21 - mcmc.calculators | INFO: None\n",
      "10:39:21 - mcmc.calculators | INFO: None\n",
      "10:39:21 - mcmc.calculators | INFO: None\n",
      "10:39:21 - mcmc.calculators | INFO: None\n",
      "10:39:21 - mcmc.calculators | INFO: None\n",
      "10:39:21 - mcmc.calculators | INFO: None\n",
      "10:39:21 - mcmc.calculators | INFO: None\n",
      "10:39:21 - mcmc.calculators | INFO: None\n",
      "10:39:21 - mcmc.calculators | INFO: None\n",
      "10:39:21 - mcmc.calculators | INFO: None\n",
      "10:39:21 - mcmc.calculators | INFO: None\n"
     ]
    },
    {
     "name": "stdout",
     "output_type": "stream",
     "text": [
      "Total wall time: 0:00:00\n",
      "Total wall time: 0:00:00\n",
      "Total wall time: 0:00:00\n",
      "Total wall time: 0:00:00\n",
      "Total wall time: 0:00:00\n",
      "Total wall time: 0:00:00\n",
      "Total wall time: 0:00:00\n",
      "Total wall time: 0:00:00\n",
      "Total wall time: 0:00:00\n",
      "Total wall time: 0:00:00\n",
      "Total wall time: 0:00:00\n",
      "Total wall time: 0:00:00\n",
      "Total wall time: 0:00:00\n",
      "Total wall time: 0:00:00\n"
     ]
    },
    {
     "name": "stderr",
     "output_type": "stream",
     "text": [
      "10:39:21 - mcmc.calculators | INFO: None\n",
      "10:39:22 - mcmc.calculators | INFO: None\n",
      "10:39:22 - mcmc.calculators | INFO: None\n",
      "10:39:22 - mcmc.calculators | INFO: None\n",
      "10:39:22 - mcmc.calculators | INFO: None\n",
      "10:39:22 - mcmc.calculators | INFO: None\n",
      "10:39:22 - mcmc.calculators | INFO: None\n",
      "10:39:22 - mcmc.calculators | INFO: None\n",
      "10:39:22 - mcmc.calculators | INFO: None\n",
      "10:39:22 - mcmc.calculators | INFO: None\n",
      "10:39:22 - mcmc.calculators | INFO: None\n",
      "10:39:22 - mcmc.calculators | INFO: None\n",
      "10:39:22 - mcmc.calculators | INFO: None\n",
      "10:39:22 - mcmc.calculators | INFO: None\n",
      "10:39:22 - mcmc.calculators | INFO: None\n"
     ]
    },
    {
     "name": "stdout",
     "output_type": "stream",
     "text": [
      "Total wall time: 0:00:00\n",
      "Total wall time: 0:00:00\n",
      "Total wall time: 0:00:00\n",
      "Total wall time: 0:00:00\n",
      "Total wall time: 0:00:00\n",
      "Total wall time: 0:00:00\n",
      "Total wall time: 0:00:00\n",
      "Total wall time: 0:00:00\n",
      "Total wall time: 0:00:00\n",
      "Total wall time: 0:00:00\n",
      "Total wall time: 0:00:00\n",
      "Total wall time: 0:00:00\n",
      "Total wall time: 0:00:00\n",
      "Total wall time: 0:00:00\n",
      "Total wall time: 0:00:00\n"
     ]
    },
    {
     "name": "stderr",
     "output_type": "stream",
     "text": [
      "10:39:22 - mcmc.calculators | INFO: None\n",
      "10:39:22 - mcmc.calculators | INFO: None\n",
      "10:39:22 - mcmc.calculators | INFO: None\n",
      "10:39:22 - mcmc.calculators | INFO: None\n",
      "10:39:22 - mcmc.calculators | INFO: None\n",
      "10:39:22 - mcmc.calculators | INFO: None\n",
      "10:39:22 - mcmc.calculators | INFO: None\n",
      "10:39:22 - mcmc.calculators | INFO: None\n",
      "10:39:22 - mcmc.calculators | INFO: None\n",
      "10:39:22 - mcmc.calculators | INFO: None\n",
      "10:39:22 - mcmc.calculators | INFO: None\n",
      "10:39:22 - mcmc.calculators | INFO: None\n",
      "10:39:22 - mcmc.calculators | INFO: None\n",
      "10:39:22 - mcmc.calculators | INFO: None\n",
      "10:39:22 - mcmc.calculators | INFO: None\n"
     ]
    },
    {
     "name": "stdout",
     "output_type": "stream",
     "text": [
      "Total wall time: 0:00:00\n",
      "Total wall time: 0:00:00\n",
      "Total wall time: 0:00:00\n",
      "Total wall time: 0:00:00\n",
      "Total wall time: 0:00:00\n",
      "Total wall time: 0:00:00\n",
      "Total wall time: 0:00:00\n",
      "Total wall time: 0:00:00\n",
      "Total wall time: 0:00:00\n",
      "Total wall time: 0:00:00\n",
      "Total wall time: 0:00:00\n",
      "Total wall time: 0:00:00\n",
      "Total wall time: 0:00:00\n",
      "Total wall time: 0:00:00\n",
      "Total wall time: 0:00:00\n"
     ]
    },
    {
     "name": "stderr",
     "output_type": "stream",
     "text": [
      "10:39:22 - mcmc.calculators | INFO: None\n",
      "10:39:22 - mcmc.calculators | INFO: None\n",
      "10:39:22 - mcmc.calculators | INFO: None\n",
      "10:39:22 - mcmc.calculators | INFO: None\n",
      "10:39:22 - mcmc.calculators | INFO: None\n",
      "10:39:22 - mcmc.calculators | INFO: None\n",
      "10:39:22 - mcmc.calculators | INFO: None\n",
      "10:39:22 - mcmc.calculators | INFO: None\n",
      "10:39:22 - mcmc.calculators | INFO: None\n",
      "10:39:22 - mcmc.calculators | INFO: None\n",
      "10:39:22 - mcmc.calculators | INFO: None\n",
      "10:39:22 - mcmc.calculators | INFO: None\n",
      "10:39:22 - mcmc.calculators | INFO: None\n",
      "10:39:22 - mcmc.calculators | INFO: None\n",
      "10:39:22 - mcmc.calculators | INFO: None\n",
      "10:39:22 - mcmc.calculators | INFO: None\n"
     ]
    },
    {
     "name": "stdout",
     "output_type": "stream",
     "text": [
      "Total wall time: 0:00:00\n",
      "Total wall time: 0:00:00\n",
      "Total wall time: 0:00:00\n",
      "Total wall time: 0:00:00\n",
      "Total wall time: 0:00:00\n",
      "Total wall time: 0:00:00\n",
      "Total wall time: 0:00:00\n",
      "Total wall time: 0:00:00\n",
      "Total wall time: 0:00:00\n",
      "Total wall time: 0:00:00\n",
      "Total wall time: 0:00:00\n",
      "Total wall time: 0:00:00\n",
      "Total wall time: 0:00:00\n",
      "Total wall time: 0:00:00\n",
      "Total wall time: 0:00:00\n",
      "Total wall time: 0:00:00\n"
     ]
    },
    {
     "name": "stderr",
     "output_type": "stream",
     "text": [
      "10:39:22 - mcmc.calculators | INFO: None\n",
      "10:39:22 - mcmc.calculators | INFO: None\n",
      "10:39:22 - mcmc.calculators | INFO: None\n",
      "10:39:22 - mcmc.calculators | INFO: None\n",
      "10:39:22 - mcmc.calculators | INFO: None\n",
      "10:39:22 - mcmc.calculators | INFO: None\n",
      "10:39:22 - mcmc.calculators | INFO: None\n",
      "10:39:22 - mcmc.calculators | INFO: None\n",
      "10:39:22 - mcmc.calculators | INFO: None\n",
      "10:39:22 - mcmc.calculators | INFO: None\n",
      "10:39:22 - mcmc.calculators | INFO: None\n",
      "10:39:22 - mcmc.calculators | INFO: None\n",
      "10:39:22 - mcmc.calculators | INFO: None\n",
      "10:39:22 - mcmc.calculators | INFO: None\n"
     ]
    },
    {
     "name": "stdout",
     "output_type": "stream",
     "text": [
      "Total wall time: 0:00:00\n",
      "Total wall time: 0:00:00\n",
      "Total wall time: 0:00:00\n",
      "Total wall time: 0:00:00\n",
      "Total wall time: 0:00:00\n",
      "Total wall time: 0:00:00\n",
      "Total wall time: 0:00:00\n",
      "Total wall time: 0:00:00\n",
      "Total wall time: 0:00:00\n",
      "Total wall time: 0:00:00\n",
      "Total wall time: 0:00:00\n",
      "Total wall time: 0:00:00\n",
      "Total wall time: 0:00:00\n",
      "Total wall time: 0:00:00\n"
     ]
    },
    {
     "name": "stderr",
     "output_type": "stream",
     "text": [
      "10:39:22 - mcmc.calculators | INFO: None\n",
      "10:39:22 - mcmc.calculators | INFO: None\n",
      "10:39:22 - mcmc.calculators | INFO: None\n",
      "10:39:22 - mcmc.calculators | INFO: None\n",
      "10:39:22 - mcmc.calculators | INFO: None\n",
      "10:39:22 - mcmc.calculators | INFO: None\n",
      "10:39:22 - mcmc.calculators | INFO: None\n",
      "10:39:22 - mcmc.calculators | INFO: None\n",
      "10:39:22 - mcmc.calculators | INFO: None\n",
      "10:39:22 - mcmc.calculators | INFO: None\n",
      "10:39:22 - mcmc.calculators | INFO: None\n",
      "10:39:22 - mcmc.calculators | INFO: None\n",
      "10:39:22 - mcmc.calculators | INFO: None\n",
      "10:39:23 - mcmc.calculators | INFO: None\n",
      "10:39:23 - mcmc.calculators | INFO: None\n"
     ]
    },
    {
     "name": "stdout",
     "output_type": "stream",
     "text": [
      "Total wall time: 0:00:00\n",
      "Total wall time: 0:00:00\n",
      "Total wall time: 0:00:00\n",
      "Total wall time: 0:00:00\n",
      "Total wall time: 0:00:00\n",
      "Total wall time: 0:00:00\n",
      "Total wall time: 0:00:00\n",
      "Total wall time: 0:00:00\n",
      "Total wall time: 0:00:00\n",
      "Total wall time: 0:00:00\n",
      "Total wall time: 0:00:00\n",
      "Total wall time: 0:00:00\n",
      "Total wall time: 0:00:00\n",
      "Total wall time: 0:00:00\n",
      "Total wall time: 0:00:00\n"
     ]
    },
    {
     "name": "stderr",
     "output_type": "stream",
     "text": [
      "10:39:23 - mcmc.calculators | INFO: None\n",
      "10:39:23 - mcmc.calculators | INFO: None\n",
      "10:39:23 - mcmc.calculators | INFO: None\n",
      "10:39:23 - mcmc.calculators | INFO: None\n",
      "10:39:23 - mcmc.calculators | INFO: None\n",
      "10:39:23 - mcmc.calculators | INFO: None\n",
      "10:39:23 - mcmc.calculators | INFO: None\n",
      "10:39:23 - mcmc.calculators | INFO: None\n",
      "10:39:23 - mcmc.calculators | INFO: None\n",
      "10:39:23 - mcmc.calculators | INFO: None\n",
      "10:39:23 - mcmc.calculators | INFO: None\n",
      "10:39:23 - mcmc.calculators | INFO: None\n",
      "10:39:23 - mcmc.calculators | INFO: None\n",
      "10:39:23 - mcmc.calculators | INFO: None\n"
     ]
    },
    {
     "name": "stdout",
     "output_type": "stream",
     "text": [
      "Total wall time: 0:00:00\n",
      "Total wall time: 0:00:00\n",
      "Total wall time: 0:00:00\n",
      "Total wall time: 0:00:00\n",
      "Total wall time: 0:00:00\n",
      "Total wall time: 0:00:00\n",
      "Total wall time: 0:00:00\n",
      "Total wall time: 0:00:00\n",
      "Total wall time: 0:00:00\n",
      "Total wall time: 0:00:00\n",
      "Total wall time: 0:00:00\n",
      "Total wall time: 0:00:00\n",
      "Total wall time: 0:00:00\n",
      "Total wall time: 0:00:00\n"
     ]
    },
    {
     "name": "stderr",
     "output_type": "stream",
     "text": [
      "10:39:23 - mcmc.calculators | INFO: None\n",
      "10:39:23 - mcmc.calculators | INFO: None\n",
      "10:39:23 - mcmc.calculators | INFO: None\n",
      "10:39:23 - mcmc.calculators | INFO: None\n",
      "10:39:23 - mcmc.calculators | INFO: None\n",
      "10:39:23 - mcmc.calculators | INFO: None\n",
      "10:39:23 - mcmc.calculators | INFO: None\n",
      "10:39:23 - mcmc.calculators | INFO: None\n",
      "10:39:23 - mcmc.calculators | INFO: None\n",
      "10:39:23 - mcmc.calculators | INFO: None\n",
      "10:39:23 - mcmc.calculators | INFO: None\n",
      "10:39:23 - mcmc.calculators | INFO: None\n",
      "10:39:23 - mcmc.calculators | INFO: None\n",
      "10:39:23 - mcmc.calculators | INFO: None\n",
      "10:39:23 - mcmc.calculators | INFO: None\n"
     ]
    },
    {
     "name": "stdout",
     "output_type": "stream",
     "text": [
      "Total wall time: 0:00:00\n",
      "Total wall time: 0:00:00\n",
      "Total wall time: 0:00:00\n",
      "Total wall time: 0:00:00\n",
      "Total wall time: 0:00:00\n",
      "Total wall time: 0:00:00\n",
      "Total wall time: 0:00:00\n",
      "Total wall time: 0:00:00\n",
      "Total wall time: 0:00:00\n",
      "Total wall time: 0:00:00\n",
      "Total wall time: 0:00:00\n",
      "Total wall time: 0:00:00\n",
      "Total wall time: 0:00:00\n",
      "Total wall time: 0:00:00\n",
      "Total wall time: 0:00:00\n"
     ]
    },
    {
     "name": "stderr",
     "output_type": "stream",
     "text": [
      "10:39:23 - mcmc.calculators | INFO: None\n",
      "10:39:23 - mcmc.calculators | INFO: None\n",
      "10:39:23 - mcmc.calculators | INFO: None\n",
      "10:39:23 - mcmc.calculators | INFO: None\n",
      "10:39:23 - mcmc.calculators | INFO: None\n",
      "10:39:23 - mcmc.calculators | INFO: None\n",
      "10:39:23 - mcmc.calculators | INFO: None\n",
      "10:39:23 - mcmc.calculators | INFO: None\n",
      "10:39:23 - mcmc.calculators | INFO: None\n",
      "10:39:23 - mcmc.calculators | INFO: None\n",
      "10:39:23 - mcmc.calculators | INFO: None\n",
      "10:39:23 - mcmc.calculators | INFO: None\n",
      "10:39:23 - mcmc.calculators | INFO: None\n",
      "10:39:23 - mcmc.calculators | INFO: None\n"
     ]
    },
    {
     "name": "stdout",
     "output_type": "stream",
     "text": [
      "Total wall time: 0:00:00\n",
      "Total wall time: 0:00:00\n",
      "Total wall time: 0:00:00\n",
      "Total wall time: 0:00:00\n",
      "Total wall time: 0:00:00\n",
      "Total wall time: 0:00:00\n",
      "Total wall time: 0:00:00\n",
      "Total wall time: 0:00:00\n",
      "Total wall time: 0:00:00\n",
      "Total wall time: 0:00:00\n",
      "Total wall time: 0:00:00\n",
      "Total wall time: 0:00:00\n",
      "Total wall time: 0:00:00\n",
      "Total wall time: 0:00:00\n"
     ]
    },
    {
     "name": "stderr",
     "output_type": "stream",
     "text": [
      "10:39:23 - mcmc.calculators | INFO: None\n",
      "10:39:23 - mcmc.calculators | INFO: None\n",
      "10:39:23 - mcmc.calculators | INFO: None\n",
      "10:39:23 - mcmc.calculators | INFO: None\n",
      "10:39:23 - mcmc.mcmc | INFO: At iter 728\n",
      "10:39:23 - mcmc.calculators | INFO: None\n",
      "10:39:23 - mcmc.calculators | INFO: None\n",
      "10:39:23 - mcmc.calculators | INFO: None\n",
      "10:39:23 - mcmc.system | INFO: Optimized structure has surface energy = -178.081\n",
      "10:39:23 - mcmc.mcmc | INFO: In sweep 8 out of 10\n",
      "10:39:23 - mcmc.calculators | INFO: None\n",
      "10:39:23 - mcmc.calculators | INFO: None\n",
      "10:39:23 - mcmc.calculators | INFO: None\n",
      "10:39:23 - mcmc.calculators | INFO: None\n"
     ]
    },
    {
     "name": "stdout",
     "output_type": "stream",
     "text": [
      "Total wall time: 0:00:00\n",
      "Total wall time: 0:00:00\n",
      "Total wall time: 0:00:00\n",
      "Total wall time: 0:00:00\n",
      "Total wall time: 0:00:00\n",
      "Total wall time: 0:00:00\n",
      "Total wall time: 0:00:00\n",
      "Total wall time: 0:00:00\n",
      "Total wall time: 0:00:00\n",
      "Total wall time: 0:00:00\n",
      "Total wall time: 0:00:00\n"
     ]
    },
    {
     "name": "stderr",
     "output_type": "stream",
     "text": [
      "10:39:23 - mcmc.calculators | INFO: None\n",
      "10:39:23 - mcmc.calculators | INFO: None\n",
      "10:39:23 - mcmc.calculators | INFO: None\n",
      "10:39:23 - mcmc.calculators | INFO: None\n",
      "10:39:23 - mcmc.calculators | INFO: None\n",
      "10:39:23 - mcmc.calculators | INFO: None\n",
      "10:39:23 - mcmc.calculators | INFO: None\n",
      "10:39:23 - mcmc.calculators | INFO: None\n",
      "10:39:24 - mcmc.calculators | INFO: None\n",
      "10:39:24 - mcmc.calculators | INFO: None\n",
      "10:39:24 - mcmc.calculators | INFO: None\n",
      "10:39:24 - mcmc.calculators | INFO: None\n"
     ]
    },
    {
     "name": "stdout",
     "output_type": "stream",
     "text": [
      "Total wall time: 0:00:00\n",
      "Total wall time: 0:00:00\n",
      "Total wall time: 0:00:00\n",
      "Total wall time: 0:00:00\n",
      "Total wall time: 0:00:00\n",
      "Total wall time: 0:00:00\n",
      "Total wall time: 0:00:00\n",
      "Total wall time: 0:00:00\n",
      "Total wall time: 0:00:00\n",
      "Total wall time: 0:00:00\n",
      "Total wall time: 0:00:00\n",
      "Total wall time: 0:00:00\n"
     ]
    },
    {
     "name": "stderr",
     "output_type": "stream",
     "text": [
      "10:39:24 - mcmc.calculators | INFO: None\n",
      "10:39:24 - mcmc.calculators | INFO: None\n",
      "10:39:24 - mcmc.calculators | INFO: None\n",
      "10:39:24 - mcmc.calculators | INFO: None\n",
      "10:39:24 - mcmc.calculators | INFO: None\n",
      "10:39:24 - mcmc.calculators | INFO: None\n",
      "10:39:24 - mcmc.calculators | INFO: None\n",
      "10:39:24 - mcmc.calculators | INFO: None\n",
      "10:39:24 - mcmc.calculators | INFO: None\n",
      "10:39:24 - mcmc.calculators | INFO: None\n",
      "10:39:24 - mcmc.calculators | INFO: None\n",
      "10:39:24 - mcmc.calculators | INFO: None\n",
      "10:39:24 - mcmc.calculators | INFO: None\n",
      "10:39:24 - mcmc.calculators | INFO: None\n"
     ]
    },
    {
     "name": "stdout",
     "output_type": "stream",
     "text": [
      "Total wall time: 0:00:00\n",
      "Total wall time: 0:00:00\n",
      "Total wall time: 0:00:00\n",
      "Total wall time: 0:00:00\n",
      "Total wall time: 0:00:00\n",
      "Total wall time: 0:00:00\n",
      "Total wall time: 0:00:00\n",
      "Total wall time: 0:00:00\n",
      "Total wall time: 0:00:00\n",
      "Total wall time: 0:00:00\n",
      "Total wall time: 0:00:00\n",
      "Total wall time: 0:00:00\n",
      "Total wall time: 0:00:00\n",
      "Total wall time: 0:00:00\n"
     ]
    },
    {
     "name": "stderr",
     "output_type": "stream",
     "text": [
      "10:39:24 - mcmc.calculators | INFO: None\n",
      "10:39:24 - mcmc.calculators | INFO: None\n",
      "10:39:24 - mcmc.calculators | INFO: None\n",
      "10:39:24 - mcmc.calculators | INFO: None\n",
      "10:39:24 - mcmc.calculators | INFO: None\n",
      "10:39:24 - mcmc.calculators | INFO: None\n",
      "10:39:24 - mcmc.calculators | INFO: None\n",
      "10:39:24 - mcmc.calculators | INFO: None\n",
      "10:39:24 - mcmc.calculators | INFO: None\n",
      "10:39:24 - mcmc.calculators | INFO: None\n",
      "10:39:24 - mcmc.calculators | INFO: None\n",
      "10:39:24 - mcmc.calculators | INFO: None\n",
      "10:39:24 - mcmc.calculators | INFO: None\n",
      "10:39:24 - mcmc.calculators | INFO: None\n"
     ]
    },
    {
     "name": "stdout",
     "output_type": "stream",
     "text": [
      "Total wall time: 0:00:00\n",
      "Total wall time: 0:00:00\n",
      "Total wall time: 0:00:00\n",
      "Total wall time: 0:00:00\n",
      "Total wall time: 0:00:00\n",
      "Total wall time: 0:00:00\n",
      "Total wall time: 0:00:00\n",
      "Total wall time: 0:00:00\n",
      "Total wall time: 0:00:00\n",
      "Total wall time: 0:00:00\n",
      "Total wall time: 0:00:00\n",
      "Total wall time: 0:00:00\n",
      "Total wall time: 0:00:00\n",
      "Total wall time: 0:00:00\n"
     ]
    },
    {
     "name": "stderr",
     "output_type": "stream",
     "text": [
      "10:39:24 - mcmc.calculators | INFO: None\n",
      "10:39:24 - mcmc.calculators | INFO: None\n",
      "10:39:24 - mcmc.calculators | INFO: None\n",
      "10:39:24 - mcmc.calculators | INFO: None\n",
      "10:39:24 - mcmc.calculators | INFO: None\n",
      "10:39:24 - mcmc.calculators | INFO: None\n",
      "10:39:24 - mcmc.calculators | INFO: None\n",
      "10:39:24 - mcmc.calculators | INFO: None\n",
      "10:39:24 - mcmc.calculators | INFO: None\n",
      "10:39:24 - mcmc.calculators | INFO: None\n",
      "10:39:24 - mcmc.calculators | INFO: None\n",
      "10:39:24 - mcmc.calculators | INFO: None\n",
      "10:39:24 - mcmc.calculators | INFO: None\n",
      "10:39:24 - mcmc.calculators | INFO: None\n",
      "10:39:24 - mcmc.calculators | INFO: None\n"
     ]
    },
    {
     "name": "stdout",
     "output_type": "stream",
     "text": [
      "Total wall time: 0:00:00\n",
      "Total wall time: 0:00:00\n",
      "Total wall time: 0:00:00\n",
      "Total wall time: 0:00:00\n",
      "Total wall time: 0:00:00\n",
      "Total wall time: 0:00:00\n",
      "Total wall time: 0:00:00\n",
      "Total wall time: 0:00:00\n",
      "Total wall time: 0:00:00\n",
      "Total wall time: 0:00:00\n",
      "Total wall time: 0:00:00\n",
      "Total wall time: 0:00:00\n",
      "Total wall time: 0:00:00\n",
      "Total wall time: 0:00:00\n",
      "Total wall time: 0:00:00\n"
     ]
    },
    {
     "name": "stderr",
     "output_type": "stream",
     "text": [
      "10:39:24 - mcmc.calculators | INFO: None\n",
      "10:39:24 - mcmc.calculators | INFO: None\n",
      "10:39:24 - mcmc.calculators | INFO: None\n",
      "10:39:24 - mcmc.calculators | INFO: None\n",
      "10:39:24 - mcmc.calculators | INFO: None\n",
      "10:39:24 - mcmc.calculators | INFO: None\n",
      "10:39:24 - mcmc.calculators | INFO: None\n",
      "10:39:24 - mcmc.calculators | INFO: None\n",
      "10:39:24 - mcmc.calculators | INFO: None\n",
      "10:39:24 - mcmc.calculators | INFO: None\n",
      "10:39:24 - mcmc.calculators | INFO: None\n",
      "10:39:24 - mcmc.calculators | INFO: None\n",
      "10:39:24 - mcmc.calculators | INFO: None\n",
      "10:39:24 - mcmc.calculators | INFO: None\n",
      "10:39:24 - mcmc.calculators | INFO: None\n"
     ]
    },
    {
     "name": "stdout",
     "output_type": "stream",
     "text": [
      "Total wall time: 0:00:00\n",
      "Total wall time: 0:00:00\n",
      "Total wall time: 0:00:00\n",
      "Total wall time: 0:00:00\n",
      "Total wall time: 0:00:00\n",
      "Total wall time: 0:00:00\n",
      "Total wall time: 0:00:00\n",
      "Total wall time: 0:00:00\n",
      "Total wall time: 0:00:00\n",
      "Total wall time: 0:00:00\n",
      "Total wall time: 0:00:00\n",
      "Total wall time: 0:00:00\n",
      "Total wall time: 0:00:00\n",
      "Total wall time: 0:00:00\n",
      "Total wall time: 0:00:00\n"
     ]
    },
    {
     "name": "stderr",
     "output_type": "stream",
     "text": [
      "10:39:24 - mcmc.calculators | INFO: None\n",
      "10:39:24 - mcmc.calculators | INFO: None\n",
      "10:39:24 - mcmc.calculators | INFO: None\n",
      "10:39:24 - mcmc.calculators | INFO: None\n",
      "10:39:24 - mcmc.calculators | INFO: None\n",
      "10:39:24 - mcmc.calculators | INFO: None\n",
      "10:39:25 - mcmc.calculators | INFO: None\n",
      "10:39:25 - mcmc.calculators | INFO: None\n",
      "10:39:25 - mcmc.calculators | INFO: None\n",
      "10:39:25 - mcmc.calculators | INFO: None\n",
      "10:39:25 - mcmc.calculators | INFO: None\n",
      "10:39:25 - mcmc.calculators | INFO: None\n",
      "10:39:25 - mcmc.calculators | INFO: None\n",
      "10:39:25 - mcmc.calculators | INFO: None\n",
      "10:39:25 - mcmc.calculators | INFO: None\n"
     ]
    },
    {
     "name": "stdout",
     "output_type": "stream",
     "text": [
      "Total wall time: 0:00:00\n",
      "Total wall time: 0:00:00\n",
      "Total wall time: 0:00:00\n",
      "Total wall time: 0:00:00\n",
      "Total wall time: 0:00:00\n",
      "Total wall time: 0:00:00\n",
      "Total wall time: 0:00:00\n",
      "Total wall time: 0:00:00\n",
      "Total wall time: 0:00:00\n",
      "Total wall time: 0:00:00\n",
      "Total wall time: 0:00:00\n",
      "Total wall time: 0:00:00\n",
      "Total wall time: 0:00:00\n",
      "Total wall time: 0:00:00\n"
     ]
    },
    {
     "name": "stderr",
     "output_type": "stream",
     "text": [
      "10:39:25 - mcmc.calculators | INFO: None\n",
      "10:39:25 - mcmc.calculators | INFO: None\n",
      "10:39:25 - mcmc.calculators | INFO: None\n",
      "10:39:25 - mcmc.calculators | INFO: None\n",
      "10:39:25 - mcmc.calculators | INFO: None\n",
      "10:39:25 - mcmc.calculators | INFO: None\n",
      "10:39:25 - mcmc.calculators | INFO: None\n",
      "10:39:25 - mcmc.calculators | INFO: None\n",
      "10:39:25 - mcmc.calculators | INFO: None\n",
      "10:39:25 - mcmc.calculators | INFO: None\n",
      "10:39:25 - mcmc.calculators | INFO: None\n",
      "10:39:25 - mcmc.calculators | INFO: None\n",
      "10:39:25 - mcmc.calculators | INFO: None\n"
     ]
    },
    {
     "name": "stdout",
     "output_type": "stream",
     "text": [
      "Total wall time: 0:00:00\n",
      "Total wall time: 0:00:00\n",
      "Total wall time: 0:00:00\n",
      "Total wall time: 0:00:00\n",
      "Total wall time: 0:00:00\n",
      "Total wall time: 0:00:00\n",
      "Total wall time: 0:00:00\n",
      "Total wall time: 0:00:00\n",
      "Total wall time: 0:00:00\n",
      "Total wall time: 0:00:00\n",
      "Total wall time: 0:00:00\n",
      "Total wall time: 0:00:00\n",
      "Total wall time: 0:00:00\n",
      "Total wall time: 0:00:00\n"
     ]
    },
    {
     "name": "stderr",
     "output_type": "stream",
     "text": [
      "10:39:25 - mcmc.calculators | INFO: None\n",
      "10:39:25 - mcmc.calculators | INFO: None\n",
      "10:39:25 - mcmc.calculators | INFO: None\n",
      "10:39:25 - mcmc.calculators | INFO: None\n",
      "10:39:25 - mcmc.calculators | INFO: None\n",
      "10:39:25 - mcmc.calculators | INFO: None\n",
      "10:39:25 - mcmc.calculators | INFO: None\n",
      "10:39:25 - mcmc.calculators | INFO: None\n",
      "10:39:25 - mcmc.calculators | INFO: None\n",
      "10:39:25 - mcmc.calculators | INFO: None\n",
      "10:39:25 - mcmc.calculators | INFO: None\n",
      "10:39:25 - mcmc.calculators | INFO: None\n",
      "10:39:25 - mcmc.calculators | INFO: None\n",
      "10:39:25 - mcmc.calculators | INFO: None\n"
     ]
    },
    {
     "name": "stdout",
     "output_type": "stream",
     "text": [
      "Total wall time: 0:00:00\n",
      "Total wall time: 0:00:00\n",
      "Total wall time: 0:00:00\n",
      "Total wall time: 0:00:00\n",
      "Total wall time: 0:00:00\n",
      "Total wall time: 0:00:00\n",
      "Total wall time: 0:00:00\n",
      "Total wall time: 0:00:00\n",
      "Total wall time: 0:00:00\n",
      "Total wall time: 0:00:00\n",
      "Total wall time: 0:00:00\n",
      "Total wall time: 0:00:00\n",
      "Total wall time: 0:00:00\n",
      "Total wall time: 0:00:00\n"
     ]
    },
    {
     "name": "stderr",
     "output_type": "stream",
     "text": [
      "10:39:25 - mcmc.calculators | INFO: None\n",
      "10:39:25 - mcmc.calculators | INFO: None\n",
      "10:39:25 - mcmc.calculators | INFO: None\n",
      "10:39:25 - mcmc.calculators | INFO: None\n",
      "10:39:25 - mcmc.calculators | INFO: None\n",
      "10:39:25 - mcmc.calculators | INFO: None\n",
      "10:39:25 - mcmc.calculators | INFO: None\n",
      "10:39:25 - mcmc.calculators | INFO: None\n",
      "10:39:25 - mcmc.calculators | INFO: None\n",
      "10:39:25 - mcmc.calculators | INFO: None\n",
      "10:39:25 - mcmc.calculators | INFO: None\n",
      "10:39:25 - mcmc.calculators | INFO: None\n",
      "10:39:25 - mcmc.calculators | INFO: None\n",
      "10:39:25 - mcmc.calculators | INFO: None\n"
     ]
    },
    {
     "name": "stdout",
     "output_type": "stream",
     "text": [
      "Total wall time: 0:00:00\n",
      "Total wall time: 0:00:00\n",
      "Total wall time: 0:00:00\n",
      "Total wall time: 0:00:00\n",
      "Total wall time: 0:00:00\n",
      "Total wall time: 0:00:00\n",
      "Total wall time: 0:00:00\n",
      "Total wall time: 0:00:00\n",
      "Total wall time: 0:00:00\n",
      "Total wall time: 0:00:00\n",
      "Total wall time: 0:00:00\n",
      "Total wall time: 0:00:00\n",
      "Total wall time: 0:00:00\n",
      "Total wall time: 0:00:00\n"
     ]
    },
    {
     "name": "stderr",
     "output_type": "stream",
     "text": [
      "10:39:25 - mcmc.calculators | INFO: None\n",
      "10:39:25 - mcmc.calculators | INFO: None\n",
      "10:39:25 - mcmc.calculators | INFO: None\n",
      "10:39:25 - mcmc.calculators | INFO: None\n",
      "10:39:25 - mcmc.calculators | INFO: None\n",
      "10:39:25 - mcmc.calculators | INFO: None\n",
      "10:39:25 - mcmc.calculators | INFO: None\n",
      "10:39:25 - mcmc.calculators | INFO: None\n",
      "10:39:25 - mcmc.calculators | INFO: None\n",
      "10:39:25 - mcmc.calculators | INFO: None\n",
      "10:39:25 - mcmc.calculators | INFO: None\n",
      "10:39:25 - mcmc.calculators | INFO: None\n",
      "10:39:25 - mcmc.calculators | INFO: None\n",
      "10:39:25 - mcmc.calculators | INFO: None\n"
     ]
    },
    {
     "name": "stdout",
     "output_type": "stream",
     "text": [
      "Total wall time: 0:00:00\n",
      "Total wall time: 0:00:00\n",
      "Total wall time: 0:00:00\n",
      "Total wall time: 0:00:00\n",
      "Total wall time: 0:00:00\n",
      "Total wall time: 0:00:00\n",
      "Total wall time: 0:00:00\n",
      "Total wall time: 0:00:00\n",
      "Total wall time: 0:00:00\n",
      "Total wall time: 0:00:00\n",
      "Total wall time: 0:00:00\n",
      "Total wall time: 0:00:00\n",
      "Total wall time: 0:00:00\n",
      "Total wall time: 0:00:00\n"
     ]
    },
    {
     "name": "stderr",
     "output_type": "stream",
     "text": [
      "10:39:26 - mcmc.calculators | INFO: None\n",
      "10:39:26 - mcmc.calculators | INFO: None\n",
      "10:39:26 - mcmc.calculators | INFO: None\n",
      "10:39:26 - mcmc.calculators | INFO: None\n",
      "10:39:26 - mcmc.calculators | INFO: None\n",
      "10:39:26 - mcmc.calculators | INFO: None\n",
      "10:39:26 - mcmc.calculators | INFO: None\n",
      "10:39:26 - mcmc.calculators | INFO: None\n",
      "10:39:26 - mcmc.calculators | INFO: None\n",
      "10:39:26 - mcmc.calculators | INFO: None\n",
      "10:39:26 - mcmc.calculators | INFO: None\n",
      "10:39:26 - mcmc.calculators | INFO: None\n",
      "10:39:26 - mcmc.calculators | INFO: None\n",
      "10:39:26 - mcmc.calculators | INFO: None\n"
     ]
    },
    {
     "name": "stdout",
     "output_type": "stream",
     "text": [
      "Total wall time: 0:00:00\n",
      "Total wall time: 0:00:00\n",
      "Total wall time: 0:00:00\n",
      "Total wall time: 0:00:00\n",
      "Total wall time: 0:00:00\n",
      "Total wall time: 0:00:00\n",
      "Total wall time: 0:00:00\n",
      "Total wall time: 0:00:00\n",
      "Total wall time: 0:00:00\n",
      "Total wall time: 0:00:00\n",
      "Total wall time: 0:00:00\n",
      "Total wall time: 0:00:00\n",
      "Total wall time: 0:00:00\n",
      "Total wall time: 0:00:00\n"
     ]
    },
    {
     "name": "stderr",
     "output_type": "stream",
     "text": [
      "10:39:26 - mcmc.calculators | INFO: None\n",
      "10:39:26 - mcmc.calculators | INFO: None\n",
      "10:39:26 - mcmc.calculators | INFO: None\n",
      "10:39:26 - mcmc.calculators | INFO: None\n",
      "10:39:26 - mcmc.calculators | INFO: None\n",
      "10:39:26 - mcmc.calculators | INFO: None\n",
      "10:39:26 - mcmc.calculators | INFO: None\n",
      "10:39:26 - mcmc.calculators | INFO: None\n",
      "10:39:26 - mcmc.calculators | INFO: None\n",
      "10:39:26 - mcmc.calculators | INFO: None\n",
      "10:39:26 - mcmc.calculators | INFO: None\n",
      "10:39:26 - mcmc.calculators | INFO: None\n",
      "10:39:26 - mcmc.calculators | INFO: None\n",
      "10:39:26 - mcmc.calculators | INFO: None\n"
     ]
    },
    {
     "name": "stdout",
     "output_type": "stream",
     "text": [
      "Total wall time: 0:00:00\n",
      "Total wall time: 0:00:00\n",
      "Total wall time: 0:00:00\n",
      "Total wall time: 0:00:00\n",
      "Total wall time: 0:00:00\n",
      "Total wall time: 0:00:00\n",
      "Total wall time: 0:00:00\n",
      "Total wall time: 0:00:00\n",
      "Total wall time: 0:00:00\n",
      "Total wall time: 0:00:00\n",
      "Total wall time: 0:00:00\n",
      "Total wall time: 0:00:00\n",
      "Total wall time: 0:00:00\n",
      "Total wall time: 0:00:00\n"
     ]
    },
    {
     "name": "stderr",
     "output_type": "stream",
     "text": [
      "10:39:26 - mcmc.calculators | INFO: None\n",
      "10:39:26 - mcmc.calculators | INFO: None\n",
      "10:39:26 - mcmc.calculators | INFO: None\n",
      "10:39:26 - mcmc.calculators | INFO: None\n",
      "10:39:26 - mcmc.calculators | INFO: None\n",
      "10:39:26 - mcmc.calculators | INFO: None\n",
      "10:39:26 - mcmc.calculators | INFO: None\n",
      "10:39:26 - mcmc.calculators | INFO: None\n",
      "10:39:26 - mcmc.calculators | INFO: None\n",
      "10:39:26 - mcmc.calculators | INFO: None\n",
      "10:39:26 - mcmc.calculators | INFO: None\n",
      "10:39:26 - mcmc.calculators | INFO: None\n"
     ]
    },
    {
     "name": "stdout",
     "output_type": "stream",
     "text": [
      "Total wall time: 0:00:00\n",
      "Total wall time: 0:00:00\n",
      "Total wall time: 0:00:00\n",
      "Total wall time: 0:00:00\n",
      "Total wall time: 0:00:00\n",
      "Total wall time: 0:00:00\n",
      "Total wall time: 0:00:00\n",
      "Total wall time: 0:00:00\n",
      "Total wall time: 0:00:00\n",
      "Total wall time: 0:00:00\n",
      "Total wall time: 0:00:00\n",
      "Total wall time: 0:00:00\n"
     ]
    },
    {
     "name": "stderr",
     "output_type": "stream",
     "text": [
      "10:39:26 - mcmc.calculators | INFO: None\n",
      "10:39:26 - mcmc.calculators | INFO: None\n",
      "10:39:26 - mcmc.calculators | INFO: None\n",
      "10:39:26 - mcmc.calculators | INFO: None\n",
      "10:39:26 - mcmc.calculators | INFO: None\n",
      "10:39:26 - mcmc.calculators | INFO: None\n",
      "10:39:26 - mcmc.calculators | INFO: None\n",
      "10:39:26 - mcmc.calculators | INFO: None\n",
      "10:39:26 - mcmc.calculators | INFO: None\n",
      "10:39:26 - mcmc.calculators | INFO: None\n",
      "10:39:26 - mcmc.calculators | INFO: None\n",
      "10:39:26 - mcmc.calculators | INFO: None\n",
      "10:39:26 - mcmc.calculators | INFO: None\n",
      "10:39:26 - mcmc.calculators | INFO: None\n"
     ]
    },
    {
     "name": "stdout",
     "output_type": "stream",
     "text": [
      "Total wall time: 0:00:00\n",
      "Total wall time: 0:00:00\n",
      "Total wall time: 0:00:00\n",
      "Total wall time: 0:00:00\n",
      "Total wall time: 0:00:00\n",
      "Total wall time: 0:00:00\n",
      "Total wall time: 0:00:00\n",
      "Total wall time: 0:00:00\n",
      "Total wall time: 0:00:00\n",
      "Total wall time: 0:00:00\n",
      "Total wall time: 0:00:00\n",
      "Total wall time: 0:00:00\n",
      "Total wall time: 0:00:00\n",
      "Total wall time: 0:00:00\n"
     ]
    },
    {
     "name": "stderr",
     "output_type": "stream",
     "text": [
      "10:39:26 - mcmc.calculators | INFO: None\n",
      "10:39:26 - mcmc.calculators | INFO: None\n",
      "10:39:26 - mcmc.calculators | INFO: None\n",
      "10:39:26 - mcmc.calculators | INFO: None\n",
      "10:39:26 - mcmc.calculators | INFO: None\n",
      "10:39:26 - mcmc.calculators | INFO: None\n",
      "10:39:26 - mcmc.calculators | INFO: None\n",
      "10:39:26 - mcmc.calculators | INFO: None\n",
      "10:39:26 - mcmc.mcmc | INFO: At iter 832\n",
      "10:39:26 - mcmc.calculators | INFO: None\n",
      "10:39:26 - mcmc.calculators | INFO: None\n",
      "10:39:26 - mcmc.calculators | INFO: None\n",
      "10:39:26 - mcmc.system | INFO: Optimized structure has surface energy = -177.895\n",
      "10:39:27 - mcmc.mcmc | INFO: In sweep 9 out of 10\n",
      "10:39:27 - mcmc.calculators | INFO: None\n",
      "10:39:27 - mcmc.calculators | INFO: None\n"
     ]
    },
    {
     "name": "stdout",
     "output_type": "stream",
     "text": [
      "Total wall time: 0:00:00\n",
      "Total wall time: 0:00:00\n",
      "Total wall time: 0:00:00\n",
      "Total wall time: 0:00:00\n",
      "Total wall time: 0:00:00\n",
      "Total wall time: 0:00:00\n",
      "Total wall time: 0:00:00\n",
      "Total wall time: 0:00:00\n",
      "Total wall time: 0:00:00\n",
      "Total wall time: 0:00:00\n",
      "Total wall time: 0:00:00\n",
      "Total wall time: 0:00:00\n"
     ]
    },
    {
     "name": "stderr",
     "output_type": "stream",
     "text": [
      "10:39:27 - mcmc.calculators | INFO: None\n",
      "10:39:27 - mcmc.calculators | INFO: None\n",
      "10:39:27 - mcmc.calculators | INFO: None\n",
      "10:39:27 - mcmc.calculators | INFO: None\n",
      "10:39:27 - mcmc.calculators | INFO: None\n",
      "10:39:27 - mcmc.calculators | INFO: None\n",
      "10:39:27 - mcmc.calculators | INFO: None\n",
      "10:39:27 - mcmc.calculators | INFO: None\n",
      "10:39:27 - mcmc.calculators | INFO: None\n",
      "10:39:27 - mcmc.calculators | INFO: None\n",
      "10:39:27 - mcmc.calculators | INFO: None\n",
      "10:39:27 - mcmc.calculators | INFO: None\n"
     ]
    },
    {
     "name": "stdout",
     "output_type": "stream",
     "text": [
      "Total wall time: 0:00:00\n",
      "Total wall time: 0:00:00\n",
      "Total wall time: 0:00:00\n",
      "Total wall time: 0:00:00\n",
      "Total wall time: 0:00:00\n",
      "Total wall time: 0:00:00\n",
      "Total wall time: 0:00:00\n",
      "Total wall time: 0:00:00\n",
      "Total wall time: 0:00:00\n",
      "Total wall time: 0:00:00\n",
      "Total wall time: 0:00:00\n",
      "Total wall time: 0:00:00\n",
      "Total wall time: 0:00:00\n"
     ]
    },
    {
     "name": "stderr",
     "output_type": "stream",
     "text": [
      "10:39:27 - mcmc.calculators | INFO: None\n",
      "10:39:27 - mcmc.calculators | INFO: None\n",
      "10:39:27 - mcmc.calculators | INFO: None\n",
      "10:39:27 - mcmc.calculators | INFO: None\n",
      "10:39:27 - mcmc.calculators | INFO: None\n",
      "10:39:27 - mcmc.calculators | INFO: None\n",
      "10:39:27 - mcmc.calculators | INFO: None\n",
      "10:39:27 - mcmc.calculators | INFO: None\n",
      "10:39:27 - mcmc.calculators | INFO: None\n",
      "10:39:27 - mcmc.calculators | INFO: None\n",
      "10:39:27 - mcmc.calculators | INFO: None\n",
      "10:39:27 - mcmc.calculators | INFO: None\n",
      "10:39:27 - mcmc.calculators | INFO: None\n",
      "10:39:27 - mcmc.calculators | INFO: None\n"
     ]
    },
    {
     "name": "stdout",
     "output_type": "stream",
     "text": [
      "Total wall time: 0:00:00\n",
      "Total wall time: 0:00:00\n",
      "Total wall time: 0:00:00\n",
      "Total wall time: 0:00:00\n",
      "Total wall time: 0:00:00\n",
      "Total wall time: 0:00:00\n",
      "Total wall time: 0:00:00\n",
      "Total wall time: 0:00:00\n",
      "Total wall time: 0:00:00\n",
      "Total wall time: 0:00:00\n",
      "Total wall time: 0:00:00\n",
      "Total wall time: 0:00:00\n",
      "Total wall time: 0:00:00\n",
      "Total wall time: 0:00:00\n"
     ]
    },
    {
     "name": "stderr",
     "output_type": "stream",
     "text": [
      "10:39:27 - mcmc.calculators | INFO: None\n",
      "10:39:27 - mcmc.calculators | INFO: None\n",
      "10:39:27 - mcmc.calculators | INFO: None\n",
      "10:39:27 - mcmc.calculators | INFO: None\n",
      "10:39:27 - mcmc.calculators | INFO: None\n",
      "10:39:27 - mcmc.calculators | INFO: None\n",
      "10:39:27 - mcmc.calculators | INFO: None\n",
      "10:39:27 - mcmc.calculators | INFO: None\n",
      "10:39:27 - mcmc.calculators | INFO: None\n",
      "10:39:27 - mcmc.calculators | INFO: None\n",
      "10:39:27 - mcmc.calculators | INFO: None\n",
      "10:39:27 - mcmc.calculators | INFO: None\n",
      "10:39:27 - mcmc.calculators | INFO: None\n",
      "10:39:27 - mcmc.calculators | INFO: None\n"
     ]
    },
    {
     "name": "stdout",
     "output_type": "stream",
     "text": [
      "Total wall time: 0:00:00\n",
      "Total wall time: 0:00:00\n",
      "Total wall time: 0:00:00\n",
      "Total wall time: 0:00:00\n",
      "Total wall time: 0:00:00\n",
      "Total wall time: 0:00:00\n",
      "Total wall time: 0:00:00\n",
      "Total wall time: 0:00:00\n",
      "Total wall time: 0:00:00\n",
      "Total wall time: 0:00:00\n",
      "Total wall time: 0:00:00\n",
      "Total wall time: 0:00:00\n",
      "Total wall time: 0:00:00\n",
      "Total wall time: 0:00:00\n"
     ]
    },
    {
     "name": "stderr",
     "output_type": "stream",
     "text": [
      "10:39:27 - mcmc.calculators | INFO: None\n",
      "10:39:27 - mcmc.calculators | INFO: None\n",
      "10:39:27 - mcmc.calculators | INFO: None\n",
      "10:39:27 - mcmc.calculators | INFO: None\n",
      "10:39:27 - mcmc.calculators | INFO: None\n",
      "10:39:27 - mcmc.calculators | INFO: None\n",
      "10:39:27 - mcmc.calculators | INFO: None\n",
      "10:39:27 - mcmc.calculators | INFO: None\n",
      "10:39:27 - mcmc.calculators | INFO: None\n",
      "10:39:27 - mcmc.calculators | INFO: None\n",
      "10:39:27 - mcmc.calculators | INFO: None\n",
      "10:39:27 - mcmc.calculators | INFO: None\n",
      "10:39:27 - mcmc.calculators | INFO: None\n",
      "10:39:27 - mcmc.calculators | INFO: None\n"
     ]
    },
    {
     "name": "stdout",
     "output_type": "stream",
     "text": [
      "Total wall time: 0:00:00\n",
      "Total wall time: 0:00:00\n",
      "Total wall time: 0:00:00\n",
      "Total wall time: 0:00:00\n",
      "Total wall time: 0:00:00\n",
      "Total wall time: 0:00:00\n",
      "Total wall time: 0:00:00\n",
      "Total wall time: 0:00:00\n",
      "Total wall time: 0:00:00\n",
      "Total wall time: 0:00:00\n",
      "Total wall time: 0:00:00\n",
      "Total wall time: 0:00:00\n",
      "Total wall time: 0:00:00\n",
      "Total wall time: 0:00:00\n"
     ]
    },
    {
     "name": "stderr",
     "output_type": "stream",
     "text": [
      "10:39:27 - mcmc.calculators | INFO: None\n",
      "10:39:27 - mcmc.calculators | INFO: None\n",
      "10:39:27 - mcmc.calculators | INFO: None\n",
      "10:39:27 - mcmc.calculators | INFO: None\n",
      "10:39:27 - mcmc.calculators | INFO: None\n",
      "10:39:27 - mcmc.calculators | INFO: None\n",
      "10:39:27 - mcmc.calculators | INFO: None\n",
      "10:39:27 - mcmc.calculators | INFO: None\n",
      "10:39:27 - mcmc.calculators | INFO: None\n",
      "10:39:27 - mcmc.calculators | INFO: None\n",
      "10:39:28 - mcmc.calculators | INFO: None\n",
      "10:39:28 - mcmc.calculators | INFO: None\n",
      "10:39:28 - mcmc.calculators | INFO: None\n",
      "10:39:28 - mcmc.calculators | INFO: None\n"
     ]
    },
    {
     "name": "stdout",
     "output_type": "stream",
     "text": [
      "Total wall time: 0:00:00\n",
      "Total wall time: 0:00:00\n",
      "Total wall time: 0:00:00\n",
      "Total wall time: 0:00:00\n",
      "Total wall time: 0:00:00\n",
      "Total wall time: 0:00:00\n",
      "Total wall time: 0:00:00\n",
      "Total wall time: 0:00:00\n",
      "Total wall time: 0:00:00\n",
      "Total wall time: 0:00:00\n",
      "Total wall time: 0:00:00\n",
      "Total wall time: 0:00:00\n",
      "Total wall time: 0:00:00\n",
      "Total wall time: 0:00:00\n"
     ]
    },
    {
     "name": "stderr",
     "output_type": "stream",
     "text": [
      "10:39:28 - mcmc.calculators | INFO: None\n",
      "10:39:28 - mcmc.calculators | INFO: None\n",
      "10:39:28 - mcmc.calculators | INFO: None\n",
      "10:39:28 - mcmc.calculators | INFO: None\n",
      "10:39:28 - mcmc.calculators | INFO: None\n",
      "10:39:28 - mcmc.calculators | INFO: None\n",
      "10:39:28 - mcmc.calculators | INFO: None\n",
      "10:39:28 - mcmc.calculators | INFO: None\n",
      "10:39:28 - mcmc.calculators | INFO: None\n",
      "10:39:28 - mcmc.calculators | INFO: None\n",
      "10:39:28 - mcmc.calculators | INFO: None\n",
      "10:39:28 - mcmc.calculators | INFO: None\n",
      "10:39:28 - mcmc.calculators | INFO: None\n",
      "10:39:28 - mcmc.calculators | INFO: None\n"
     ]
    },
    {
     "name": "stdout",
     "output_type": "stream",
     "text": [
      "Total wall time: 0:00:00\n",
      "Total wall time: 0:00:00\n",
      "Total wall time: 0:00:00\n",
      "Total wall time: 0:00:00\n",
      "Total wall time: 0:00:00\n",
      "Total wall time: 0:00:00\n",
      "Total wall time: 0:00:00\n",
      "Total wall time: 0:00:00\n",
      "Total wall time: 0:00:00\n",
      "Total wall time: 0:00:00\n",
      "Total wall time: 0:00:00\n",
      "Total wall time: 0:00:00\n",
      "Total wall time: 0:00:00\n",
      "Total wall time: 0:00:00\n"
     ]
    },
    {
     "name": "stderr",
     "output_type": "stream",
     "text": [
      "10:39:28 - mcmc.calculators | INFO: None\n",
      "10:39:28 - mcmc.calculators | INFO: None\n",
      "10:39:28 - mcmc.calculators | INFO: None\n",
      "10:39:28 - mcmc.calculators | INFO: None\n",
      "10:39:28 - mcmc.calculators | INFO: None\n",
      "10:39:28 - mcmc.calculators | INFO: None\n",
      "10:39:28 - mcmc.calculators | INFO: None\n",
      "10:39:28 - mcmc.calculators | INFO: None\n",
      "10:39:28 - mcmc.calculators | INFO: None\n",
      "10:39:28 - mcmc.calculators | INFO: None\n",
      "10:39:28 - mcmc.calculators | INFO: None\n",
      "10:39:28 - mcmc.calculators | INFO: None\n",
      "10:39:28 - mcmc.calculators | INFO: None\n"
     ]
    },
    {
     "name": "stdout",
     "output_type": "stream",
     "text": [
      "Total wall time: 0:00:00\n",
      "Total wall time: 0:00:00\n",
      "Total wall time: 0:00:00\n",
      "Total wall time: 0:00:00\n",
      "Total wall time: 0:00:00\n",
      "Total wall time: 0:00:00\n",
      "Total wall time: 0:00:00\n",
      "Total wall time: 0:00:00\n",
      "Total wall time: 0:00:00\n",
      "Total wall time: 0:00:00\n",
      "Total wall time: 0:00:00\n",
      "Total wall time: 0:00:00\n",
      "Total wall time: 0:00:00\n"
     ]
    },
    {
     "name": "stderr",
     "output_type": "stream",
     "text": [
      "10:39:28 - mcmc.calculators | INFO: None\n",
      "10:39:28 - mcmc.calculators | INFO: None\n",
      "10:39:28 - mcmc.calculators | INFO: None\n",
      "10:39:28 - mcmc.calculators | INFO: None\n",
      "10:39:28 - mcmc.calculators | INFO: None\n",
      "10:39:28 - mcmc.calculators | INFO: None\n",
      "10:39:28 - mcmc.calculators | INFO: None\n",
      "10:39:28 - mcmc.calculators | INFO: None\n",
      "10:39:28 - mcmc.calculators | INFO: None\n",
      "10:39:28 - mcmc.calculators | INFO: None\n",
      "10:39:28 - mcmc.calculators | INFO: None\n",
      "10:39:28 - mcmc.calculators | INFO: None\n",
      "10:39:28 - mcmc.calculators | INFO: None\n",
      "10:39:28 - mcmc.calculators | INFO: None\n"
     ]
    },
    {
     "name": "stdout",
     "output_type": "stream",
     "text": [
      "Total wall time: 0:00:00\n",
      "Total wall time: 0:00:00\n",
      "Total wall time: 0:00:00\n",
      "Total wall time: 0:00:00\n",
      "Total wall time: 0:00:00\n",
      "Total wall time: 0:00:00\n",
      "Total wall time: 0:00:00\n",
      "Total wall time: 0:00:00\n",
      "Total wall time: 0:00:00\n",
      "Total wall time: 0:00:00\n",
      "Total wall time: 0:00:00\n",
      "Total wall time: 0:00:00\n",
      "Total wall time: 0:00:00\n",
      "Total wall time: 0:00:00\n"
     ]
    },
    {
     "name": "stderr",
     "output_type": "stream",
     "text": [
      "10:39:28 - mcmc.calculators | INFO: None\n",
      "10:39:28 - mcmc.calculators | INFO: None\n",
      "10:39:28 - mcmc.calculators | INFO: None\n",
      "10:39:28 - mcmc.calculators | INFO: None\n",
      "10:39:28 - mcmc.calculators | INFO: None\n",
      "10:39:28 - mcmc.calculators | INFO: None\n",
      "10:39:28 - mcmc.calculators | INFO: None\n",
      "10:39:28 - mcmc.calculators | INFO: None\n",
      "10:39:28 - mcmc.calculators | INFO: None\n",
      "10:39:28 - mcmc.calculators | INFO: None\n",
      "10:39:28 - mcmc.calculators | INFO: None\n",
      "10:39:28 - mcmc.calculators | INFO: None\n",
      "10:39:28 - mcmc.calculators | INFO: None\n"
     ]
    },
    {
     "name": "stdout",
     "output_type": "stream",
     "text": [
      "Total wall time: 0:00:00\n",
      "Total wall time: 0:00:00\n",
      "Total wall time: 0:00:00\n",
      "Total wall time: 0:00:00\n",
      "Total wall time: 0:00:00\n",
      "Total wall time: 0:00:00\n",
      "Total wall time: 0:00:00\n",
      "Total wall time: 0:00:00\n",
      "Total wall time: 0:00:00\n",
      "Total wall time: 0:00:00\n",
      "Total wall time: 0:00:00\n",
      "Total wall time: 0:00:00\n",
      "Total wall time: 0:00:00\n"
     ]
    },
    {
     "name": "stderr",
     "output_type": "stream",
     "text": [
      "10:39:28 - mcmc.calculators | INFO: None\n",
      "10:39:28 - mcmc.calculators | INFO: None\n",
      "10:39:28 - mcmc.calculators | INFO: None\n",
      "10:39:28 - mcmc.calculators | INFO: None\n",
      "10:39:28 - mcmc.calculators | INFO: None\n",
      "10:39:28 - mcmc.calculators | INFO: None\n",
      "10:39:28 - mcmc.calculators | INFO: None\n",
      "10:39:28 - mcmc.calculators | INFO: None\n",
      "10:39:29 - mcmc.calculators | INFO: None\n",
      "10:39:29 - mcmc.calculators | INFO: None\n",
      "10:39:29 - mcmc.calculators | INFO: None\n",
      "10:39:29 - mcmc.calculators | INFO: None\n",
      "10:39:29 - mcmc.calculators | INFO: None\n",
      "10:39:29 - mcmc.calculators | INFO: None\n",
      "10:39:29 - mcmc.calculators | INFO: None\n",
      "10:39:29 - mcmc.calculators | INFO: None\n"
     ]
    },
    {
     "name": "stdout",
     "output_type": "stream",
     "text": [
      "Total wall time: 0:00:00\n",
      "Total wall time: 0:00:00\n",
      "Total wall time: 0:00:00\n",
      "Total wall time: 0:00:00\n",
      "Total wall time: 0:00:00\n",
      "Total wall time: 0:00:00\n",
      "Total wall time: 0:00:00\n",
      "Total wall time: 0:00:00\n",
      "Total wall time: 0:00:00\n",
      "Total wall time: 0:00:00\n",
      "Total wall time: 0:00:00\n",
      "Total wall time: 0:00:00\n",
      "Total wall time: 0:00:00\n",
      "Total wall time: 0:00:00\n",
      "Total wall time: 0:00:00\n"
     ]
    },
    {
     "name": "stderr",
     "output_type": "stream",
     "text": [
      "10:39:29 - mcmc.calculators | INFO: None\n",
      "10:39:29 - mcmc.calculators | INFO: None\n",
      "10:39:29 - mcmc.calculators | INFO: None\n",
      "10:39:29 - mcmc.calculators | INFO: None\n",
      "10:39:29 - mcmc.calculators | INFO: None\n",
      "10:39:29 - mcmc.calculators | INFO: None\n",
      "10:39:29 - mcmc.calculators | INFO: None\n",
      "10:39:29 - mcmc.calculators | INFO: None\n",
      "10:39:29 - mcmc.calculators | INFO: None\n",
      "10:39:29 - mcmc.calculators | INFO: None\n",
      "10:39:29 - mcmc.calculators | INFO: None\n",
      "10:39:29 - mcmc.calculators | INFO: None\n"
     ]
    },
    {
     "name": "stdout",
     "output_type": "stream",
     "text": [
      "Total wall time: 0:00:00\n",
      "Total wall time: 0:00:00\n",
      "Total wall time: 0:00:00\n",
      "Total wall time: 0:00:00\n",
      "Total wall time: 0:00:00\n",
      "Total wall time: 0:00:00\n",
      "Total wall time: 0:00:00\n",
      "Total wall time: 0:00:00\n",
      "Total wall time: 0:00:00\n",
      "Total wall time: 0:00:00\n",
      "Total wall time: 0:00:00\n",
      "Total wall time: 0:00:00\n",
      "Total wall time: 0:00:00\n"
     ]
    },
    {
     "name": "stderr",
     "output_type": "stream",
     "text": [
      "10:39:29 - mcmc.calculators | INFO: None\n",
      "10:39:29 - mcmc.calculators | INFO: None\n",
      "10:39:29 - mcmc.calculators | INFO: None\n",
      "10:39:29 - mcmc.calculators | INFO: None\n",
      "10:39:29 - mcmc.calculators | INFO: None\n",
      "10:39:29 - mcmc.calculators | INFO: None\n",
      "10:39:29 - mcmc.calculators | INFO: None\n",
      "10:39:29 - mcmc.calculators | INFO: None\n",
      "10:39:29 - mcmc.calculators | INFO: None\n",
      "10:39:29 - mcmc.calculators | INFO: None\n",
      "10:39:29 - mcmc.calculators | INFO: None\n",
      "10:39:29 - mcmc.calculators | INFO: None\n",
      "10:39:29 - mcmc.calculators | INFO: None\n",
      "10:39:29 - mcmc.calculators | INFO: None\n",
      "10:39:29 - mcmc.calculators | INFO: None\n",
      "10:39:29 - mcmc.calculators | INFO: None\n"
     ]
    },
    {
     "name": "stdout",
     "output_type": "stream",
     "text": [
      "Total wall time: 0:00:00\n",
      "Total wall time: 0:00:00\n",
      "Total wall time: 0:00:00\n",
      "Total wall time: 0:00:00\n",
      "Total wall time: 0:00:00\n",
      "Total wall time: 0:00:00\n",
      "Total wall time: 0:00:00\n",
      "Total wall time: 0:00:00\n",
      "Total wall time: 0:00:00\n",
      "Total wall time: 0:00:00\n",
      "Total wall time: 0:00:00\n",
      "Total wall time: 0:00:00\n",
      "Total wall time: 0:00:00\n",
      "Total wall time: 0:00:00\n",
      "Total wall time: 0:00:00\n",
      "Total wall time: 0:00:00\n"
     ]
    },
    {
     "name": "stderr",
     "output_type": "stream",
     "text": [
      "10:39:29 - mcmc.calculators | INFO: None\n",
      "10:39:29 - mcmc.calculators | INFO: None\n",
      "10:39:29 - mcmc.calculators | INFO: None\n",
      "10:39:29 - mcmc.calculators | INFO: None\n",
      "10:39:29 - mcmc.calculators | INFO: None\n",
      "10:39:29 - mcmc.calculators | INFO: None\n",
      "10:39:29 - mcmc.calculators | INFO: None\n",
      "10:39:29 - mcmc.calculators | INFO: None\n",
      "10:39:29 - mcmc.calculators | INFO: None\n",
      "10:39:29 - mcmc.calculators | INFO: None\n",
      "10:39:29 - mcmc.calculators | INFO: None\n",
      "10:39:29 - mcmc.calculators | INFO: None\n",
      "10:39:29 - mcmc.calculators | INFO: None\n",
      "10:39:29 - mcmc.calculators | INFO: None\n",
      "10:39:29 - mcmc.calculators | INFO: None\n",
      "10:39:29 - mcmc.calculators | INFO: None\n"
     ]
    },
    {
     "name": "stdout",
     "output_type": "stream",
     "text": [
      "Total wall time: 0:00:00\n",
      "Total wall time: 0:00:00\n",
      "Total wall time: 0:00:00\n",
      "Total wall time: 0:00:00\n",
      "Total wall time: 0:00:00\n",
      "Total wall time: 0:00:00\n",
      "Total wall time: 0:00:00\n",
      "Total wall time: 0:00:00\n",
      "Total wall time: 0:00:00\n",
      "Total wall time: 0:00:00\n",
      "Total wall time: 0:00:00\n",
      "Total wall time: 0:00:00\n",
      "Total wall time: 0:00:00\n",
      "Total wall time: 0:00:00\n",
      "Total wall time: 0:00:00\n"
     ]
    },
    {
     "name": "stderr",
     "output_type": "stream",
     "text": [
      "10:39:29 - mcmc.calculators | INFO: None\n",
      "10:39:29 - mcmc.calculators | INFO: None\n",
      "10:39:29 - mcmc.calculators | INFO: None\n",
      "10:39:29 - mcmc.calculators | INFO: None\n",
      "10:39:29 - mcmc.calculators | INFO: None\n",
      "10:39:29 - mcmc.calculators | INFO: None\n",
      "10:39:29 - mcmc.calculators | INFO: None\n",
      "10:39:29 - mcmc.calculators | INFO: None\n",
      "10:39:29 - mcmc.calculators | INFO: None\n",
      "10:39:29 - mcmc.calculators | INFO: None\n",
      "10:39:29 - mcmc.calculators | INFO: None\n",
      "10:39:29 - mcmc.calculators | INFO: None\n",
      "10:39:29 - mcmc.calculators | INFO: None\n"
     ]
    },
    {
     "name": "stdout",
     "output_type": "stream",
     "text": [
      "Total wall time: 0:00:00\n",
      "Total wall time: 0:00:00\n",
      "Total wall time: 0:00:00\n",
      "Total wall time: 0:00:00\n",
      "Total wall time: 0:00:00\n",
      "Total wall time: 0:00:00\n",
      "Total wall time: 0:00:00\n",
      "Total wall time: 0:00:00\n",
      "Total wall time: 0:00:00\n",
      "Total wall time: 0:00:00\n",
      "Total wall time: 0:00:00\n",
      "Total wall time: 0:00:00\n",
      "Total wall time: 0:00:00\n",
      "Total wall time: 0:00:00\n"
     ]
    },
    {
     "name": "stderr",
     "output_type": "stream",
     "text": [
      "10:39:29 - mcmc.calculators | INFO: None\n",
      "10:39:29 - mcmc.calculators | INFO: None\n",
      "10:39:29 - mcmc.calculators | INFO: None\n",
      "10:39:29 - mcmc.calculators | INFO: None\n",
      "10:39:29 - mcmc.calculators | INFO: None\n",
      "10:39:30 - mcmc.calculators | INFO: None\n",
      "10:39:30 - mcmc.calculators | INFO: None\n",
      "10:39:30 - mcmc.calculators | INFO: None\n",
      "10:39:30 - mcmc.calculators | INFO: None\n",
      "10:39:30 - mcmc.mcmc | INFO: At iter 936\n",
      "10:39:30 - mcmc.calculators | INFO: None\n",
      "10:39:30 - mcmc.calculators | INFO: None\n",
      "10:39:30 - mcmc.system | INFO: Optimized structure has surface energy = -177.141\n",
      "10:39:30 - mcmc.mcmc | INFO: In sweep 10 out of 10\n",
      "10:39:30 - mcmc.calculators | INFO: None\n",
      "10:39:30 - mcmc.calculators | INFO: None\n"
     ]
    },
    {
     "name": "stdout",
     "output_type": "stream",
     "text": [
      "Total wall time: 0:00:00\n",
      "Total wall time: 0:00:00\n",
      "Total wall time: 0:00:00\n",
      "Total wall time: 0:00:00\n",
      "Total wall time: 0:00:00\n",
      "Total wall time: 0:00:00\n",
      "Total wall time: 0:00:00\n",
      "Total wall time: 0:00:00\n",
      "Total wall time: 0:00:00\n",
      "Total wall time: 0:00:00\n",
      "Total wall time: 0:00:00\n",
      "Total wall time: 0:00:00\n",
      "Total wall time: 0:00:00\n"
     ]
    },
    {
     "name": "stderr",
     "output_type": "stream",
     "text": [
      "10:39:30 - mcmc.calculators | INFO: None\n",
      "10:39:30 - mcmc.calculators | INFO: None\n",
      "10:39:30 - mcmc.calculators | INFO: None\n",
      "10:39:30 - mcmc.calculators | INFO: None\n",
      "10:39:30 - mcmc.calculators | INFO: None\n",
      "10:39:30 - mcmc.calculators | INFO: None\n",
      "10:39:30 - mcmc.calculators | INFO: None\n",
      "10:39:30 - mcmc.calculators | INFO: None\n",
      "10:39:30 - mcmc.calculators | INFO: None\n",
      "10:39:30 - mcmc.calculators | INFO: None\n",
      "10:39:30 - mcmc.calculators | INFO: None\n",
      "10:39:30 - mcmc.calculators | INFO: None\n",
      "10:39:30 - mcmc.calculators | INFO: None\n",
      "10:39:30 - mcmc.calculators | INFO: None\n"
     ]
    },
    {
     "name": "stdout",
     "output_type": "stream",
     "text": [
      "Total wall time: 0:00:00\n",
      "Total wall time: 0:00:00\n",
      "Total wall time: 0:00:00\n",
      "Total wall time: 0:00:00\n",
      "Total wall time: 0:00:00\n",
      "Total wall time: 0:00:00\n",
      "Total wall time: 0:00:00\n",
      "Total wall time: 0:00:00\n",
      "Total wall time: 0:00:00\n",
      "Total wall time: 0:00:00\n",
      "Total wall time: 0:00:00\n",
      "Total wall time: 0:00:00\n",
      "Total wall time: 0:00:00\n",
      "Total wall time: 0:00:00\n"
     ]
    },
    {
     "name": "stderr",
     "output_type": "stream",
     "text": [
      "10:39:30 - mcmc.calculators | INFO: None\n",
      "10:39:30 - mcmc.calculators | INFO: None\n",
      "10:39:30 - mcmc.calculators | INFO: None\n",
      "10:39:30 - mcmc.calculators | INFO: None\n",
      "10:39:30 - mcmc.calculators | INFO: None\n",
      "10:39:30 - mcmc.calculators | INFO: None\n",
      "10:39:30 - mcmc.calculators | INFO: None\n",
      "10:39:30 - mcmc.calculators | INFO: None\n",
      "10:39:30 - mcmc.calculators | INFO: None\n",
      "10:39:30 - mcmc.calculators | INFO: None\n",
      "10:39:30 - mcmc.calculators | INFO: None\n",
      "10:39:30 - mcmc.calculators | INFO: None\n",
      "10:39:30 - mcmc.calculators | INFO: None\n",
      "10:39:30 - mcmc.calculators | INFO: None\n"
     ]
    },
    {
     "name": "stdout",
     "output_type": "stream",
     "text": [
      "Total wall time: 0:00:00\n",
      "Total wall time: 0:00:00\n",
      "Total wall time: 0:00:00\n",
      "Total wall time: 0:00:00\n",
      "Total wall time: 0:00:00\n",
      "Total wall time: 0:00:00\n",
      "Total wall time: 0:00:00\n",
      "Total wall time: 0:00:00\n",
      "Total wall time: 0:00:00\n",
      "Total wall time: 0:00:00\n",
      "Total wall time: 0:00:00\n",
      "Total wall time: 0:00:00\n",
      "Total wall time: 0:00:00\n",
      "Total wall time: 0:00:00\n"
     ]
    },
    {
     "name": "stderr",
     "output_type": "stream",
     "text": [
      "10:39:30 - mcmc.calculators | INFO: None\n",
      "10:39:30 - mcmc.calculators | INFO: None\n",
      "10:39:30 - mcmc.calculators | INFO: None\n",
      "10:39:30 - mcmc.calculators | INFO: None\n",
      "10:39:30 - mcmc.calculators | INFO: None\n",
      "10:39:30 - mcmc.calculators | INFO: None\n",
      "10:39:30 - mcmc.calculators | INFO: None\n",
      "10:39:30 - mcmc.calculators | INFO: None\n",
      "10:39:30 - mcmc.calculators | INFO: None\n",
      "10:39:30 - mcmc.calculators | INFO: None\n",
      "10:39:30 - mcmc.calculators | INFO: None\n",
      "10:39:30 - mcmc.calculators | INFO: None\n"
     ]
    },
    {
     "name": "stdout",
     "output_type": "stream",
     "text": [
      "Total wall time: 0:00:00\n",
      "Total wall time: 0:00:00\n",
      "Total wall time: 0:00:00\n",
      "Total wall time: 0:00:00\n",
      "Total wall time: 0:00:00\n",
      "Total wall time: 0:00:00\n",
      "Total wall time: 0:00:00\n",
      "Total wall time: 0:00:00\n",
      "Total wall time: 0:00:00\n",
      "Total wall time: 0:00:00\n",
      "Total wall time: 0:00:00\n",
      "Total wall time: 0:00:00\n"
     ]
    },
    {
     "name": "stderr",
     "output_type": "stream",
     "text": [
      "10:39:31 - mcmc.calculators | INFO: None\n",
      "10:39:31 - mcmc.calculators | INFO: None\n",
      "10:39:31 - mcmc.calculators | INFO: None\n",
      "10:39:31 - mcmc.calculators | INFO: None\n",
      "10:39:31 - mcmc.calculators | INFO: None\n",
      "10:39:31 - mcmc.calculators | INFO: None\n",
      "10:39:31 - mcmc.calculators | INFO: None\n",
      "10:39:31 - mcmc.calculators | INFO: None\n",
      "10:39:31 - mcmc.calculators | INFO: None\n",
      "10:39:31 - mcmc.calculators | INFO: None\n",
      "10:39:31 - mcmc.calculators | INFO: None\n",
      "10:39:31 - mcmc.calculators | INFO: None\n",
      "10:39:31 - mcmc.calculators | INFO: None\n",
      "10:39:31 - mcmc.calculators | INFO: None\n",
      "10:39:31 - mcmc.calculators | INFO: None\n",
      "10:39:31 - mcmc.calculators | INFO: None\n"
     ]
    },
    {
     "name": "stdout",
     "output_type": "stream",
     "text": [
      "Total wall time: 0:00:00\n",
      "Total wall time: 0:00:00\n",
      "Total wall time: 0:00:00\n",
      "Total wall time: 0:00:00\n",
      "Total wall time: 0:00:00\n",
      "Total wall time: 0:00:00\n",
      "Total wall time: 0:00:00\n",
      "Total wall time: 0:00:00\n",
      "Total wall time: 0:00:00\n",
      "Total wall time: 0:00:00\n",
      "Total wall time: 0:00:00\n",
      "Total wall time: 0:00:00\n",
      "Total wall time: 0:00:00\n",
      "Total wall time: 0:00:00\n",
      "Total wall time: 0:00:00\n",
      "Total wall time: 0:00:00\n"
     ]
    },
    {
     "name": "stderr",
     "output_type": "stream",
     "text": [
      "10:39:31 - mcmc.calculators | INFO: None\n",
      "10:39:31 - mcmc.calculators | INFO: None\n",
      "10:39:31 - mcmc.calculators | INFO: None\n",
      "10:39:31 - mcmc.calculators | INFO: None\n",
      "10:39:31 - mcmc.calculators | INFO: None\n",
      "10:39:31 - mcmc.calculators | INFO: None\n",
      "10:39:31 - mcmc.calculators | INFO: None\n",
      "10:39:31 - mcmc.calculators | INFO: None\n",
      "10:39:31 - mcmc.calculators | INFO: None\n",
      "10:39:31 - mcmc.calculators | INFO: None\n",
      "10:39:31 - mcmc.calculators | INFO: None\n",
      "10:39:31 - mcmc.calculators | INFO: None\n",
      "10:39:31 - mcmc.calculators | INFO: None\n",
      "10:39:31 - mcmc.calculators | INFO: None\n"
     ]
    },
    {
     "name": "stdout",
     "output_type": "stream",
     "text": [
      "Total wall time: 0:00:00\n",
      "Total wall time: 0:00:00\n",
      "Total wall time: 0:00:00\n",
      "Total wall time: 0:00:00\n",
      "Total wall time: 0:00:00\n",
      "Total wall time: 0:00:00\n",
      "Total wall time: 0:00:00\n",
      "Total wall time: 0:00:00\n",
      "Total wall time: 0:00:00\n",
      "Total wall time: 0:00:00\n",
      "Total wall time: 0:00:00\n",
      "Total wall time: 0:00:00\n",
      "Total wall time: 0:00:00\n",
      "Total wall time: 0:00:00\n"
     ]
    },
    {
     "name": "stderr",
     "output_type": "stream",
     "text": [
      "10:39:31 - mcmc.calculators | INFO: None\n",
      "10:39:31 - mcmc.calculators | INFO: None\n",
      "10:39:31 - mcmc.calculators | INFO: None\n",
      "10:39:31 - mcmc.calculators | INFO: None\n",
      "10:39:31 - mcmc.calculators | INFO: None\n",
      "10:39:31 - mcmc.calculators | INFO: None\n",
      "10:39:31 - mcmc.calculators | INFO: None\n",
      "10:39:31 - mcmc.calculators | INFO: None\n",
      "10:39:31 - mcmc.calculators | INFO: None\n",
      "10:39:31 - mcmc.calculators | INFO: None\n",
      "10:39:31 - mcmc.calculators | INFO: None\n",
      "10:39:31 - mcmc.calculators | INFO: None\n",
      "10:39:31 - mcmc.calculators | INFO: None\n",
      "10:39:31 - mcmc.calculators | INFO: None\n",
      "10:39:31 - mcmc.calculators | INFO: None\n"
     ]
    },
    {
     "name": "stdout",
     "output_type": "stream",
     "text": [
      "Total wall time: 0:00:00\n",
      "Total wall time: 0:00:00\n",
      "Total wall time: 0:00:00\n",
      "Total wall time: 0:00:00\n",
      "Total wall time: 0:00:00\n",
      "Total wall time: 0:00:00\n",
      "Total wall time: 0:00:00\n",
      "Total wall time: 0:00:00\n",
      "Total wall time: 0:00:00\n",
      "Total wall time: 0:00:00\n",
      "Total wall time: 0:00:00\n",
      "Total wall time: 0:00:00\n",
      "Total wall time: 0:00:00\n",
      "Total wall time: 0:00:00\n",
      "Total wall time: 0:00:00\n"
     ]
    },
    {
     "name": "stderr",
     "output_type": "stream",
     "text": [
      "10:39:31 - mcmc.calculators | INFO: None\n",
      "10:39:31 - mcmc.calculators | INFO: None\n",
      "10:39:31 - mcmc.calculators | INFO: None\n",
      "10:39:31 - mcmc.calculators | INFO: None\n",
      "10:39:31 - mcmc.calculators | INFO: None\n",
      "10:39:31 - mcmc.calculators | INFO: None\n",
      "10:39:31 - mcmc.calculators | INFO: None\n",
      "10:39:31 - mcmc.calculators | INFO: None\n",
      "10:39:31 - mcmc.calculators | INFO: None\n",
      "10:39:31 - mcmc.calculators | INFO: None\n",
      "10:39:31 - mcmc.calculators | INFO: None\n",
      "10:39:31 - mcmc.calculators | INFO: None\n",
      "10:39:31 - mcmc.calculators | INFO: None\n",
      "10:39:31 - mcmc.calculators | INFO: None\n",
      "10:39:31 - mcmc.calculators | INFO: None\n"
     ]
    },
    {
     "name": "stdout",
     "output_type": "stream",
     "text": [
      "Total wall time: 0:00:00\n",
      "Total wall time: 0:00:00\n",
      "Total wall time: 0:00:00\n",
      "Total wall time: 0:00:00\n",
      "Total wall time: 0:00:00\n",
      "Total wall time: 0:00:00\n",
      "Total wall time: 0:00:00\n",
      "Total wall time: 0:00:00\n",
      "Total wall time: 0:00:00\n",
      "Total wall time: 0:00:00\n",
      "Total wall time: 0:00:00\n",
      "Total wall time: 0:00:00\n",
      "Total wall time: 0:00:00\n",
      "Total wall time: 0:00:00\n",
      "Total wall time: 0:00:00\n"
     ]
    },
    {
     "name": "stderr",
     "output_type": "stream",
     "text": [
      "10:39:31 - mcmc.calculators | INFO: None\n",
      "10:39:31 - mcmc.calculators | INFO: None\n",
      "10:39:31 - mcmc.calculators | INFO: None\n",
      "10:39:31 - mcmc.calculators | INFO: None\n",
      "10:39:31 - mcmc.calculators | INFO: None\n",
      "10:39:31 - mcmc.calculators | INFO: None\n",
      "10:39:31 - mcmc.calculators | INFO: None\n",
      "10:39:31 - mcmc.calculators | INFO: None\n",
      "10:39:31 - mcmc.calculators | INFO: None\n",
      "10:39:32 - mcmc.calculators | INFO: None\n",
      "10:39:32 - mcmc.calculators | INFO: None\n",
      "10:39:32 - mcmc.calculators | INFO: None\n",
      "10:39:32 - mcmc.calculators | INFO: None\n",
      "10:39:32 - mcmc.calculators | INFO: None\n"
     ]
    },
    {
     "name": "stdout",
     "output_type": "stream",
     "text": [
      "Total wall time: 0:00:00\n",
      "Total wall time: 0:00:00\n",
      "Total wall time: 0:00:00\n",
      "Total wall time: 0:00:00\n",
      "Total wall time: 0:00:00\n",
      "Total wall time: 0:00:00\n",
      "Total wall time: 0:00:00\n",
      "Total wall time: 0:00:00\n",
      "Total wall time: 0:00:00\n",
      "Total wall time: 0:00:00\n",
      "Total wall time: 0:00:00\n",
      "Total wall time: 0:00:00\n",
      "Total wall time: 0:00:00\n",
      "Total wall time: 0:00:00\n"
     ]
    },
    {
     "name": "stderr",
     "output_type": "stream",
     "text": [
      "10:39:32 - mcmc.calculators | INFO: None\n",
      "10:39:32 - mcmc.calculators | INFO: None\n",
      "10:39:32 - mcmc.calculators | INFO: None\n",
      "10:39:32 - mcmc.calculators | INFO: None\n",
      "10:39:32 - mcmc.calculators | INFO: None\n",
      "10:39:32 - mcmc.calculators | INFO: None\n",
      "10:39:32 - mcmc.calculators | INFO: None\n",
      "10:39:32 - mcmc.calculators | INFO: None\n",
      "10:39:32 - mcmc.calculators | INFO: None\n",
      "10:39:32 - mcmc.calculators | INFO: None\n",
      "10:39:32 - mcmc.calculators | INFO: None\n",
      "10:39:32 - mcmc.calculators | INFO: None\n",
      "10:39:32 - mcmc.calculators | INFO: None\n",
      "10:39:32 - mcmc.calculators | INFO: None\n",
      "10:39:32 - mcmc.calculators | INFO: None\n",
      "10:39:32 - mcmc.calculators | INFO: None\n"
     ]
    },
    {
     "name": "stdout",
     "output_type": "stream",
     "text": [
      "Total wall time: 0:00:00\n",
      "Total wall time: 0:00:00\n",
      "Total wall time: 0:00:00\n",
      "Total wall time: 0:00:00\n",
      "Total wall time: 0:00:00\n",
      "Total wall time: 0:00:00\n",
      "Total wall time: 0:00:00\n",
      "Total wall time: 0:00:00\n",
      "Total wall time: 0:00:00\n",
      "Total wall time: 0:00:00\n",
      "Total wall time: 0:00:00\n",
      "Total wall time: 0:00:00\n",
      "Total wall time: 0:00:00\n",
      "Total wall time: 0:00:00\n",
      "Total wall time: 0:00:00\n",
      "Total wall time: 0:00:00\n"
     ]
    },
    {
     "name": "stderr",
     "output_type": "stream",
     "text": [
      "10:39:32 - mcmc.calculators | INFO: None\n",
      "10:39:32 - mcmc.calculators | INFO: None\n",
      "10:39:32 - mcmc.calculators | INFO: None\n",
      "10:39:32 - mcmc.calculators | INFO: None\n",
      "10:39:32 - mcmc.calculators | INFO: None\n",
      "10:39:32 - mcmc.calculators | INFO: None\n",
      "10:39:32 - mcmc.calculators | INFO: None\n",
      "10:39:32 - mcmc.calculators | INFO: None\n",
      "10:39:32 - mcmc.calculators | INFO: None\n",
      "10:39:32 - mcmc.calculators | INFO: None\n",
      "10:39:32 - mcmc.calculators | INFO: None\n",
      "10:39:32 - mcmc.calculators | INFO: None\n",
      "10:39:32 - mcmc.calculators | INFO: None\n",
      "10:39:32 - mcmc.calculators | INFO: None\n"
     ]
    },
    {
     "name": "stdout",
     "output_type": "stream",
     "text": [
      "Total wall time: 0:00:00\n",
      "Total wall time: 0:00:00\n",
      "Total wall time: 0:00:00\n",
      "Total wall time: 0:00:00\n",
      "Total wall time: 0:00:00\n",
      "Total wall time: 0:00:00\n",
      "Total wall time: 0:00:00\n",
      "Total wall time: 0:00:00\n",
      "Total wall time: 0:00:00\n",
      "Total wall time: 0:00:00\n",
      "Total wall time: 0:00:00\n",
      "Total wall time: 0:00:00\n",
      "Total wall time: 0:00:00\n",
      "Total wall time: 0:00:00\n"
     ]
    },
    {
     "name": "stderr",
     "output_type": "stream",
     "text": [
      "10:39:32 - mcmc.calculators | INFO: None\n",
      "10:39:32 - mcmc.calculators | INFO: None\n",
      "10:39:32 - mcmc.calculators | INFO: None\n",
      "10:39:32 - mcmc.calculators | INFO: None\n",
      "10:39:32 - mcmc.calculators | INFO: None\n",
      "10:39:32 - mcmc.calculators | INFO: None\n",
      "10:39:32 - mcmc.calculators | INFO: None\n",
      "10:39:32 - mcmc.calculators | INFO: None\n",
      "10:39:32 - mcmc.calculators | INFO: None\n",
      "10:39:32 - mcmc.calculators | INFO: None\n",
      "10:39:32 - mcmc.calculators | INFO: None\n",
      "10:39:32 - mcmc.calculators | INFO: None\n",
      "10:39:32 - mcmc.calculators | INFO: None\n",
      "10:39:32 - mcmc.calculators | INFO: None\n"
     ]
    },
    {
     "name": "stdout",
     "output_type": "stream",
     "text": [
      "Total wall time: 0:00:00\n",
      "Total wall time: 0:00:00\n",
      "Total wall time: 0:00:00\n",
      "Total wall time: 0:00:00\n",
      "Total wall time: 0:00:00\n",
      "Total wall time: 0:00:00\n",
      "Total wall time: 0:00:00\n",
      "Total wall time: 0:00:00\n",
      "Total wall time: 0:00:00\n",
      "Total wall time: 0:00:00\n",
      "Total wall time: 0:00:00\n",
      "Total wall time: 0:00:00\n",
      "Total wall time: 0:00:00\n",
      "Total wall time: 0:00:00\n"
     ]
    },
    {
     "name": "stderr",
     "output_type": "stream",
     "text": [
      "10:39:32 - mcmc.calculators | INFO: None\n",
      "10:39:32 - mcmc.calculators | INFO: None\n",
      "10:39:32 - mcmc.calculators | INFO: None\n",
      "10:39:32 - mcmc.calculators | INFO: None\n",
      "10:39:32 - mcmc.calculators | INFO: None\n",
      "10:39:32 - mcmc.calculators | INFO: None\n",
      "10:39:32 - mcmc.calculators | INFO: None\n",
      "10:39:32 - mcmc.calculators | INFO: None\n",
      "10:39:32 - mcmc.calculators | INFO: None\n",
      "10:39:32 - mcmc.calculators | INFO: None\n",
      "10:39:32 - mcmc.calculators | INFO: None\n",
      "10:39:32 - mcmc.calculators | INFO: None\n",
      "10:39:32 - mcmc.calculators | INFO: None\n",
      "10:39:32 - mcmc.calculators | INFO: None\n",
      "10:39:32 - mcmc.calculators | INFO: None\n"
     ]
    },
    {
     "name": "stdout",
     "output_type": "stream",
     "text": [
      "Total wall time: 0:00:00\n",
      "Total wall time: 0:00:00\n",
      "Total wall time: 0:00:00\n",
      "Total wall time: 0:00:00\n",
      "Total wall time: 0:00:00\n",
      "Total wall time: 0:00:00\n",
      "Total wall time: 0:00:00\n",
      "Total wall time: 0:00:00\n",
      "Total wall time: 0:00:00\n",
      "Total wall time: 0:00:00\n",
      "Total wall time: 0:00:00\n",
      "Total wall time: 0:00:00\n",
      "Total wall time: 0:00:00\n",
      "Total wall time: 0:00:00\n",
      "Total wall time: 0:00:00\n"
     ]
    },
    {
     "name": "stderr",
     "output_type": "stream",
     "text": [
      "10:39:32 - mcmc.calculators | INFO: None\n",
      "10:39:32 - mcmc.calculators | INFO: None\n",
      "10:39:32 - mcmc.calculators | INFO: None\n",
      "10:39:32 - mcmc.calculators | INFO: None\n",
      "10:39:32 - mcmc.calculators | INFO: None\n",
      "10:39:33 - mcmc.calculators | INFO: None\n",
      "10:39:33 - mcmc.calculators | INFO: None\n",
      "10:39:33 - mcmc.calculators | INFO: None\n",
      "10:39:33 - mcmc.calculators | INFO: None\n",
      "10:39:33 - mcmc.calculators | INFO: None\n",
      "10:39:33 - mcmc.calculators | INFO: None\n",
      "10:39:33 - mcmc.calculators | INFO: None\n",
      "10:39:33 - mcmc.calculators | INFO: None\n"
     ]
    },
    {
     "name": "stdout",
     "output_type": "stream",
     "text": [
      "Total wall time: 0:00:00\n",
      "Total wall time: 0:00:00\n",
      "Total wall time: 0:00:00\n",
      "Total wall time: 0:00:00\n",
      "Total wall time: 0:00:00\n",
      "Total wall time: 0:00:00\n",
      "Total wall time: 0:00:00\n",
      "Total wall time: 0:00:00\n",
      "Total wall time: 0:00:00\n",
      "Total wall time: 0:00:00\n",
      "Total wall time: 0:00:00\n",
      "Total wall time: 0:00:00\n",
      "Total wall time: 0:00:00\n"
     ]
    },
    {
     "name": "stderr",
     "output_type": "stream",
     "text": [
      "10:39:33 - mcmc.calculators | INFO: None\n",
      "10:39:33 - mcmc.calculators | INFO: None\n",
      "10:39:33 - mcmc.calculators | INFO: None\n",
      "10:39:33 - mcmc.calculators | INFO: None\n",
      "10:39:33 - mcmc.calculators | INFO: None\n",
      "10:39:33 - mcmc.calculators | INFO: None\n",
      "10:39:33 - mcmc.calculators | INFO: None\n",
      "10:39:33 - mcmc.calculators | INFO: None\n",
      "10:39:33 - mcmc.calculators | INFO: None\n",
      "10:39:33 - mcmc.calculators | INFO: None\n",
      "10:39:33 - mcmc.calculators | INFO: None\n",
      "10:39:33 - mcmc.calculators | INFO: None\n",
      "10:39:33 - mcmc.calculators | INFO: None\n",
      "10:39:33 - mcmc.calculators | INFO: None\n"
     ]
    },
    {
     "name": "stdout",
     "output_type": "stream",
     "text": [
      "Total wall time: 0:00:00\n",
      "Total wall time: 0:00:00\n",
      "Total wall time: 0:00:00\n",
      "Total wall time: 0:00:00\n",
      "Total wall time: 0:00:00\n",
      "Total wall time: 0:00:00\n",
      "Total wall time: 0:00:00\n",
      "Total wall time: 0:00:00\n",
      "Total wall time: 0:00:00\n",
      "Total wall time: 0:00:00\n",
      "Total wall time: 0:00:00\n",
      "Total wall time: 0:00:00\n",
      "Total wall time: 0:00:00\n",
      "Total wall time: 0:00:00\n"
     ]
    },
    {
     "name": "stderr",
     "output_type": "stream",
     "text": [
      "10:39:33 - mcmc.calculators | INFO: None\n",
      "10:39:33 - mcmc.calculators | INFO: None\n",
      "10:39:33 - mcmc.calculators | INFO: None\n",
      "10:39:33 - mcmc.calculators | INFO: None\n",
      "10:39:33 - mcmc.mcmc | INFO: At iter 1040\n",
      "10:39:33 - mcmc.calculators | INFO: None\n",
      "10:39:33 - mcmc.calculators | INFO: None\n",
      "10:39:33 - mcmc.system | INFO: Optimized structure has surface energy = -177.283\n"
     ]
    },
    {
     "name": "stdout",
     "output_type": "stream",
     "text": [
      "Total wall time: 0:00:00\n",
      "Total wall time: 0:00:00\n",
      "Total wall time: 0:00:00\n",
      "Total wall time: 0:00:00\n",
      "Total wall time: 0:00:00\n",
      "Total wall time: 0:00:00\n",
      "Time taken = 32.667 seconds\n"
     ]
    },
    {
     "data": {
      "image/png": "[encoded data removed]",
      "text/plain": [
       "<Figure size 2000x1000 with 1 Axes>"
      ]
     },
     "metadata": {},
     "output_type": "display_data"
    }
   ],
   "source": [
    "mcmc = MCMC(**sampling_settings)\n",
    "\n",
    "start = perf_counter()\n",
    "results = mcmc.run(\n",
    "    surface,\n",
    "    **sampling_settings,\n",
    ")\n",
    "stop = perf_counter()\n",
    "print(f\"Time taken = {stop - start:.3f} seconds\")"
   ]
  },
  {
   "cell_type": "markdown",
   "metadata": {},
   "source": [
    "Plot results"
   ]
  },
  {
   "cell_type": "code",
   "execution_count": 8,
   "metadata": {},
   "outputs": [
    {
     "data": {
      "image/png": "[encoded data removed]",
      "text/plain": [
       "<Figure size 1200x400 with 3 Axes>"
      ]
     },
     "metadata": {},
     "output_type": "display_data"
    }
   ],
   "source": [
    "fig = plot_summary_stats(\n",
    "    results[\"energy_hist\"],\n",
    "    results[\"frac_accept_hist\"],\n",
    "    results[\"adsorption_count_hist\"],\n",
    "    sampling_settings[\"total_sweeps\"],\n",
    "    save_folder=run_folder,\n",
    ")"
   ]
  },
  {
   "cell_type": "code",
   "execution_count": null,
   "metadata": {},
   "outputs": [],
   "source": []
  }
 ],
 "metadata": {
  "kernelspec": {
   "display_name": "vssr-mc",
   "language": "python",
   "name": "python3"
  },
  "language_info": {
   "codemirror_mode": {
    "name": "ipython",
    "version": 3
   },
   "file_extension": ".py",
   "mimetype": "text/x-python",
   "name": "python",
   "nbconvert_exporter": "python",
   "pygments_lexer": "ipython3",
   "version": "3.11.9"
  },
  "orig_nbformat": 4
 },
 "nbformat": 4,
 "nbformat_minor": 2
}
