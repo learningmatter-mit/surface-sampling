{
 "cells": [
  {
   "cell_type": "code",
   "execution_count": 1,
   "metadata": {},
   "outputs": [
    {
     "name": "stderr",
     "output_type": "stream",
     "text": [
      "/home/dux/miniconda3/envs/htvs/lib/python3.9/site-packages/scipy/__init__.py:146: UserWarning: A NumPy version >=1.17.3 and <1.25.0 is required for this version of SciPy (detected version 1.26.0\n",
      "  warnings.warn(f\"A NumPy version >={np_minversion} and <{np_maxversion}\"\n"
     ]
    }
   ],
   "source": [
    "import os\n",
    "import pickle\n",
    "\n",
    "import numpy as np\n",
    "import pandas as pd\n",
    "import torch as ch\n",
    "from nff.io import EnsembleNFF, NeuralFF\n",
    "from nff.utils.cuda import batch_to"
   ]
  },
  {
   "attachments": {},
   "cell_type": "markdown",
   "metadata": {},
   "source": [
    "Load neural network force field. We are using neural network weights from our Zenodo dataset (https://zenodo.org/record/7927039)."
   ]
  },
  {
   "cell_type": "code",
   "execution_count": 2,
   "metadata": {},
   "outputs": [],
   "source": [
    "if ch.cuda.is_available():\n",
    "    DEVICE = 0\n",
    "else:\n",
    "    DEVICE = \"cpu\"\n",
    "\n",
    "DATAPATH = os.path.join(os.getcwd(), \"SrTiO3\")\n",
    "offset_data = os.path.join(\n",
    "    os.getcwd(),\n",
    "    \"data/nff\",\n",
    "    \"offset_data.json\",\n",
    ")\n",
    "\n",
    "nnids = [\"model01\", \"model02\", \"model03\"]\n",
    "model_dirs = [\n",
    "    os.path.join(\n",
    "        os.getcwd(),\n",
    "        \"data/nff\",\n",
    "        str(x),\n",
    "        \"best_model\",\n",
    "    )\n",
    "    for x in nnids\n",
    "]\n",
    "models = []\n",
    "for modeldir in model_dirs:\n",
    "    m = NeuralFF.from_file(modeldir, device=DEVICE).model\n",
    "    models.append(m)\n",
    "\n",
    "model = models[0]  # use just one model for clustering\n",
    "ensemble = EnsembleNFF(models, device=DEVICE)"
   ]
  },
  {
   "attachments": {},
   "cell_type": "markdown",
   "metadata": {},
   "source": [
    "Load surfaces previously obtained from VSSR-MC"
   ]
  },
  {
   "cell_type": "code",
   "execution_count": 3,
   "metadata": {},
   "outputs": [
    {
     "name": "stdout",
     "output_type": "stream",
     "text": [
      "Final dataset has 100 entries\n"
     ]
    }
   ],
   "source": [
    "structures = open(\"data/SrTiO3_001_2x2_mcmc_structures_100.pkl\", \"rb\")\n",
    "dataset = pickle.load(structures)\n",
    "\n",
    "print(f\"Final dataset has {len(dataset)} entries\")"
   ]
  },
  {
   "attachments": {},
   "cell_type": "markdown",
   "metadata": {},
   "source": [
    "Extract relevant data"
   ]
  },
  {
   "cell_type": "code",
   "execution_count": 4,
   "metadata": {},
   "outputs": [],
   "source": [
    "def extract_nff_data(\n",
    "    combined_embeddings,\n",
    "    combined_force_std,\n",
    "    combined_energy_std,\n",
    "    combined_pred_energy,\n",
    "    atoms,\n",
    "):\n",
    "    batch = batch_to(atoms.get_batch(), DEVICE)\n",
    "    list_num_atoms = batch[\"num_atoms\"].detach().cpu().tolist()\n",
    "\n",
    "    # for model in models:\n",
    "    atomwise_out, xyz, r_ij, nbrs = model.atomwise(batch=batch)\n",
    "    split_features = ch.split(atomwise_out[\"features\"], list_num_atoms)\n",
    "    summed_split_features = [\n",
    "        atom_features.sum(axis=0).detach().cpu().numpy()\n",
    "        for atom_features in split_features\n",
    "    ]\n",
    "    combined_embeddings.extend(summed_split_features)\n",
    "\n",
    "    ensemble.calculate(atoms)\n",
    "    split_forces_std = ch.split(\n",
    "        ch.from_numpy(ensemble.results[\"forces_std\"]), list_num_atoms\n",
    "    )\n",
    "    split_forces_std_avg = [std.mean().tolist() for std in split_forces_std]\n",
    "\n",
    "    combined_force_std.extend(split_forces_std_avg)\n",
    "    combined_energy_std.extend(ensemble.results[\"energy_std\"])\n",
    "    combined_pred_energy.extend(ensemble.results[\"energy\"])"
   ]
  },
  {
   "cell_type": "code",
   "execution_count": 5,
   "metadata": {},
   "outputs": [],
   "source": [
    "embeddings = []\n",
    "force_std = []\n",
    "energy_std = []\n",
    "pred_energy = []\n",
    "\n",
    "for atoms in dataset:\n",
    "    extract_nff_data(\n",
    "        embeddings,\n",
    "        force_std,\n",
    "        energy_std,\n",
    "        pred_energy,\n",
    "        atoms,\n",
    "    )"
   ]
  },
  {
   "attachments": {},
   "cell_type": "markdown",
   "metadata": {},
   "source": [
    "Obtain PCA"
   ]
  },
  {
   "cell_type": "code",
   "execution_count": 6,
   "metadata": {},
   "outputs": [
    {
     "name": "stdout",
     "output_type": "stream",
     "text": [
      "The pca explained ratios are [0.68285704 0.2713578  0.01691276 0.00785861 0.00560058]...\n"
     ]
    }
   ],
   "source": [
    "X_embeddings = np.stack(embeddings)\n",
    "\n",
    "from sklearn.decomposition import PCA\n",
    "\n",
    "pca = PCA(n_components=32, whiten=True).fit(X_embeddings)\n",
    "\n",
    "print(f\"The pca explained ratios are {pca.explained_variance_ratio_[:5]}...\")\n",
    "\n",
    "# transform train\n",
    "X_r = pca.transform(X_embeddings)"
   ]
  },
  {
   "attachments": {},
   "cell_type": "markdown",
   "metadata": {},
   "source": [
    "Do clustering"
   ]
  },
  {
   "cell_type": "code",
   "execution_count": 7,
   "metadata": {},
   "outputs": [
    {
     "name": "stdout",
     "output_type": "stream",
     "text": [
      "There are 13 clusters\n"
     ]
    }
   ],
   "source": [
    "from scipy.cluster.hierarchy import dendrogram, linkage, fcluster\n",
    "\n",
    "Z = linkage(X_r[:, :3], method=\"ward\", metric=\"euclidean\", optimal_ordering=True)\n",
    "y = fcluster(Z, t=2, criterion=\"distance\", depth=2)  # t sets the distance\n",
    "clusters = np.unique(y)\n",
    "max_index = np.max(clusters)\n",
    "\n",
    "print(f\"There are {len(clusters)} clusters\")"
   ]
  },
  {
   "attachments": {},
   "cell_type": "markdown",
   "metadata": {},
   "source": [
    "Visualize with dendrogram"
   ]
  },
  {
   "cell_type": "code",
   "execution_count": 8,
   "metadata": {},
   "outputs": [
    {
     "data": {
      "image/png": "[encoded data removed]",
      "text/plain": [
       "<Figure size 432x432 with 1 Axes>"
      ]
     },
     "metadata": {
      "needs_background": "light"
     },
     "output_type": "display_data"
    }
   ],
   "source": [
    "import matplotlib.pyplot as plt\n",
    "import matplotlib as mpl\n",
    "\n",
    "fig = plt.figure(figsize=(6, 6))\n",
    "dn = dendrogram(\n",
    "    Z,\n",
    "    truncate_mode=\"level\",\n",
    "    show_leaf_counts=False,\n",
    "    no_labels=True,\n",
    "    count_sort=\"descending\",\n",
    ")\n",
    "plt.show()"
   ]
  },
  {
   "attachments": {},
   "cell_type": "markdown",
   "metadata": {},
   "source": [
    "Find structure with the highest variance per cluster"
   ]
  },
  {
   "cell_type": "code",
   "execution_count": 9,
   "metadata": {},
   "outputs": [],
   "source": [
    "data = {\"cluster\": y, \"force_std\": force_std}\n",
    "\n",
    "df = pd.DataFrame(data).reset_index()\n",
    "\n",
    "max_std_df = (\n",
    "    df.sort_values([\"cluster\", \"force_std\"], ascending=[True, False])\n",
    "    .groupby(\"cluster\", as_index=False)\n",
    "    .first()\n",
    ")"
   ]
  },
  {
   "attachments": {},
   "cell_type": "markdown",
   "metadata": {},
   "source": [
    "PCA plot with the highest variance structure per cluster"
   ]
  },
  {
   "cell_type": "code",
   "execution_count": 10,
   "metadata": {},
   "outputs": [
    {
     "data": {
      "image/png": "[encoded data removed]",
      "text/plain": [
       "<Figure size 432x432 with 3 Axes>"
      ]
     },
     "metadata": {
      "needs_background": "light"
     },
     "output_type": "display_data"
    }
   ],
   "source": [
    "fig, axes = plt.subplots(2, 1, figsize=(6, 6), sharex=True)\n",
    "fig.subplots_adjust(left=0, right=1, bottom=0, top=1, wspace=0, hspace=0)\n",
    "\n",
    "for cluster in clusters:\n",
    "    axes[1].scatter(\n",
    "        X_r[y == cluster, 0],\n",
    "        X_r[y == cluster, 1],\n",
    "        edgecolors=None,\n",
    "        linewidths=0,\n",
    "        color=mpl.cm.viridis(cluster / max_index),\n",
    "    )\n",
    "    axes[0].scatter(\n",
    "        X_r[y == cluster, 0],\n",
    "        X_r[y == cluster, 2],\n",
    "        edgecolors=None,\n",
    "        linewidths=0,\n",
    "        color=mpl.cm.viridis(cluster / max_index),\n",
    "    )\n",
    "\n",
    "# highlight max variance per cluster\n",
    "for idx in max_std_df[\"index\"]:\n",
    "    axes[1].scatter(X_r[idx, 0], X_r[idx, 1], linewidths=2, color=\"r\", marker=\"x\")\n",
    "    axes[0].scatter(X_r[idx, 0], X_r[idx, 2], linewidths=2, color=\"r\", marker=\"x\")\n",
    "\n",
    "for ax in axes:\n",
    "    # increase tick size and make them point inwards\n",
    "    ax.tick_params(\n",
    "        axis=\"y\",\n",
    "        direction=\"in\",\n",
    "    )\n",
    "    ax.tick_params(\n",
    "        axis=\"x\",\n",
    "        direction=\"in\",\n",
    "    )\n",
    "\n",
    "# set axes for first plot\n",
    "axes[0].set_ylabel(\"PC 3\")\n",
    "axes[0].set_xticklabels([])\n",
    "axes[0].set_yticklabels([])\n",
    "axes[0].set_xlim([-2, 3])\n",
    "axes[0].set_ylim([-3, 4])\n",
    "\n",
    "# set axes for second plot\n",
    "axes[1].set_xlabel(\"PC 1\")\n",
    "axes[1].set_ylabel(\"PC 2\")\n",
    "axes[1].set_yticklabels([])\n",
    "axes[1].set_ylim([-3, 4])\n",
    "\n",
    "norm = mpl.colors.Normalize(vmin=min(clusters), vmax=max(clusters))\n",
    "cb = fig.colorbar(\n",
    "    plt.cm.ScalarMappable(norm=norm, cmap=\"viridis\"),\n",
    "    ax=axes.ravel().tolist(),\n",
    "    shrink=1.00,\n",
    ")\n",
    "cb.set_label(r\"Cluster #\")\n",
    "\n",
    "cb.ax.tick_params(\n",
    "    axis=\"both\",\n",
    "    which=\"major\",\n",
    ")\n",
    "cb.ax.tick_params(\n",
    "    axis=\"both\",\n",
    "    which=\"minor\",\n",
    ")\n",
    "\n",
    "from matplotlib.lines import Line2D\n",
    "\n",
    "scatter_leg = (\n",
    "    Line2D(\n",
    "        [0],\n",
    "        [0],\n",
    "        marker=\"x\",\n",
    "        lw=0,\n",
    "        markeredgewidth=2,\n",
    "        markeredgecolor=\"r\",\n",
    "    ),\n",
    ")\n",
    "\n",
    "labels = [\"Highest variance in cluster\"]\n",
    "handles = scatter_leg\n",
    "\n",
    "for ax in axes:\n",
    "    ax.legend(handles, labels, loc=\"best\", frameon=True)\n",
    "\n",
    "plt.show()\n",
    "plt.close()"
   ]
  },
  {
   "cell_type": "code",
   "execution_count": null,
   "metadata": {},
   "outputs": [],
   "source": []
  }
 ],
 "metadata": {
  "kernelspec": {
   "display_name": "Python 3.9.12 ('htvs': conda)",
   "language": "python",
   "name": "python3"
  },
  "language_info": {
   "codemirror_mode": {
    "name": "ipython",
    "version": 3
   },
   "file_extension": ".py",
   "mimetype": "text/x-python",
   "name": "python",
   "nbconvert_exporter": "python",
   "pygments_lexer": "ipython3",
   "version": "3.9.12"
  },
  "orig_nbformat": 4,
  "vscode": {
   "interpreter": {
    "hash": "e40fe8c0a1ff3f66e9998c7766f804ee0a4445ce9df1166d1b5c30f264168468"
   }
  }
 },
 "nbformat": 4,
 "nbformat_minor": 2
}
